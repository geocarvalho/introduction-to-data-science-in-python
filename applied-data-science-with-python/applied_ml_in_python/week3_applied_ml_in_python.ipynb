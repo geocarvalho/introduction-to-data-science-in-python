{
  "nbformat": 4,
  "nbformat_minor": 0,
  "metadata": {
    "colab": {
      "name": "week3_applied-ml-in-python.ipynb",
      "provenance": [],
      "collapsed_sections": [],
      "authorship_tag": "ABX9TyMDjIyNsCTli0zZego07yAP",
      "include_colab_link": true
    },
    "kernelspec": {
      "name": "python3",
      "display_name": "Python 3"
    }
  },
  "cells": [
    {
      "cell_type": "markdown",
      "metadata": {
        "id": "view-in-github",
        "colab_type": "text"
      },
      "source": [
        "<a href=\"https://colab.research.google.com/github/geocarvalho/python-ds/blob/master/applied-data-science-with-python/applied_ml_in_python/week3_applied_ml_in_python.ipynb\" target=\"_parent\"><img src=\"https://colab.research.google.com/assets/colab-badge.svg\" alt=\"Open In Colab\"/></a>"
      ]
    },
    {
      "cell_type": "markdown",
      "metadata": {
        "id": "6UtUi4CrPo-i",
        "colab_type": "text"
      },
      "source": [
        "# Applied ML in Python\n",
        "\n",
        "## Week 3 - Module 3 (Evaluation)\n",
        "\n",
        "### Model evaluation and selection\n",
        "\n",
        "* **Accuracy** is the fraction of samples that were classified correctly;\n",
        "\n",
        "#### Represent/train/evaluate/refine cyscle\n",
        "\n",
        "* **Representation**: Extract and select object features;\n",
        "\n",
        "* **Train models**: Fit the estimator to the data;\n",
        "\n",
        "* **Evaluation**: Are used to select between different trained models or settings;\n",
        "\n",
        "* **Feature and model refinement**\n",
        "\n",
        "#### Evaluation\n",
        "\n",
        "* Different applications have very different goals;\n",
        "\n",
        "* Accuracy is widely used, but many others are possible;\n",
        "\n",
        "* It's very important to choose evaluation methods that match the goal of your application;\n",
        "\n",
        "* Compute your selected evaluation metric for multiple different models and select the model with best of evaluation metric;\n",
        "\n",
        "#### Accuracy with imalanced classes\n",
        "\n",
        "* Suppose you have two classes:\n",
        " - Relevant(R): the positive class;\n",
        " - Not_relevant(N): the negative class\n",
        "\n",
        "* Out of 1000 randomly selected items, on average;\n",
        " - One item is relevant and has an R label;\n",
        " - The rest of the items (999 of them) are not relevant and labelled N;\n",
        "\n",
        "* Recall that:  $ accuracy = \\frac{correct \\space predictions}{total \\space instances}$\n",
        "\n",
        "* You build a classifier to predict relevant items, and see that its accuracy on a test set is 99.9%. For comparison, suppose we had a \"dummy\" classifier that didn't look at the features at all, and always just blindy predicted the most frequent class;\n",
        "\n",
        "* Assuming a test set of 1000 instances, what would this dummy classifier's accuracy be?\n",
        "\n",
        "$accuracy_{dummy} = 999/1000  = 99.9%$"
      ]
    },
    {
      "cell_type": "code",
      "metadata": {
        "id": "SiznxlBBaTZD",
        "colab_type": "code",
        "colab": {}
      },
      "source": [
        "import numpy\n",
        "import pandas as pd\n",
        "import seaborn as sn\n",
        "import matplotlib.pyplot as plt\n",
        "import matplotlib.cm as cm\n",
        "from matplotlib.colors import ListedColormap, BoundaryNorm\n",
        "from sklearn import neighbors\n",
        "import matplotlib.patches as mpatches\n",
        "import graphviz\n",
        "from sklearn.tree import export_graphviz\n",
        "import matplotlib.patches as mpatches\n",
        "\n",
        "def load_crime_dataset():\n",
        "    # Communities and Crime dataset for regression\n",
        "    # https://archive.ics.uci.edu/ml/datasets/Communities+and+Crime+Unnormalized\n",
        "\n",
        "    crime = pd.read_table('readonly/CommViolPredUnnormalizedData.txt', sep=',', na_values='?')\n",
        "    # remove features with poor coverage or lower relevance, and keep ViolentCrimesPerPop target column\n",
        "    columns_to_keep = [5, 6] + list(range(11,26)) + list(range(32, 103)) + [145]  \n",
        "    crime = crime.ix[:,columns_to_keep].dropna()\n",
        "\n",
        "    X_crime = crime.ix[:,range(0,88)]\n",
        "    y_crime = crime['ViolentCrimesPerPop']\n",
        "\n",
        "    return (X_crime, y_crime)\n",
        "\n",
        "def plot_decision_tree(clf, feature_names, class_names):\n",
        "    # This function requires the pydotplus module and assumes it's been installed.\n",
        "    # In some cases (typically under Windows) even after running conda install, there is a problem where the\n",
        "    # pydotplus module is not found when running from within the notebook environment.  The following code\n",
        "    # may help to guarantee the module is installed in the current notebook environment directory.\n",
        "    #\n",
        "    # import sys; sys.executable\n",
        "    # !{sys.executable} -m pip install pydotplus\n",
        "\n",
        "    export_graphviz(clf, out_file=\"adspy_temp.dot\", feature_names=feature_names, class_names=class_names, filled = True, impurity = False)\n",
        "    with open(\"adspy_temp.dot\") as f:\n",
        "        dot_graph = f.read()\n",
        "    # Alternate method using pydotplus, if installed.\n",
        "    # graph = pydotplus.graphviz.graph_from_dot_data(dot_graph)\n",
        "    # return graph.create_png()\n",
        "    return graphviz.Source(dot_graph)\n",
        "\n",
        "def plot_feature_importances(clf, feature_names):\n",
        "    c_features = len(feature_names)\n",
        "    plt.barh(range(c_features), clf.feature_importances_)\n",
        "    plt.xlabel(\"Feature importance\")\n",
        "    plt.ylabel(\"Feature name\")\n",
        "    plt.yticks(numpy.arange(c_features), feature_names)\n",
        "\n",
        "def plot_labelled_scatter(X, y, class_labels):\n",
        "    num_labels = len(class_labels)\n",
        "\n",
        "    x_min, x_max = X[:, 0].min() - 1, X[:, 0].max() + 1\n",
        "    y_min, y_max = X[:, 1].min() - 1, X[:, 1].max() + 1\n",
        "\n",
        "    marker_array = ['o', '^', '*']\n",
        "    color_array = ['#FFFF00', '#00AAFF', '#000000', '#FF00AA']\n",
        "    cmap_bold = ListedColormap(color_array)\n",
        "    bnorm = BoundaryNorm(numpy.arange(0, num_labels + 1, 1), ncolors=num_labels)\n",
        "    plt.figure()\n",
        "\n",
        "    plt.scatter(X[:, 0], X[:, 1], s=65, c=y, cmap=cmap_bold, norm = bnorm, alpha = 0.40, edgecolor='black', lw = 1)\n",
        "\n",
        "    plt.xlim(x_min, x_max)\n",
        "    plt.ylim(y_min, y_max)\n",
        "\n",
        "    h = []\n",
        "    for c in range(0, num_labels):\n",
        "        h.append(mpatches.Patch(color=color_array[c], label=class_labels[c]))\n",
        "    plt.legend(handles=h)\n",
        "\n",
        "    plt.show()\n",
        "\n",
        "\n",
        "def plot_class_regions_for_classifier_subplot(clf, X, y, X_test, y_test, title, subplot, target_names = None, plot_decision_regions = True):\n",
        "\n",
        "    numClasses = numpy.amax(y) + 1\n",
        "    color_list_light = ['#FFFFAA', '#EFEFEF', '#AAFFAA', '#AAAAFF']\n",
        "    color_list_bold = ['#EEEE00', '#000000', '#00CC00', '#0000CC']\n",
        "    cmap_light = ListedColormap(color_list_light[0:numClasses])\n",
        "    cmap_bold  = ListedColormap(color_list_bold[0:numClasses])\n",
        "\n",
        "    h = 0.03\n",
        "    k = 0.5\n",
        "    x_plot_adjust = 0.1\n",
        "    y_plot_adjust = 0.1\n",
        "    plot_symbol_size = 50\n",
        "\n",
        "    x_min = X[:, 0].min()\n",
        "    x_max = X[:, 0].max()\n",
        "    y_min = X[:, 1].min()\n",
        "    y_max = X[:, 1].max()\n",
        "    x2, y2 = numpy.meshgrid(numpy.arange(x_min-k, x_max+k, h), numpy.arange(y_min-k, y_max+k, h))\n",
        "\n",
        "    P = clf.predict(numpy.c_[x2.ravel(), y2.ravel()])\n",
        "    P = P.reshape(x2.shape)\n",
        "\n",
        "    if plot_decision_regions:\n",
        "        subplot.contourf(x2, y2, P, cmap=cmap_light, alpha = 0.8)\n",
        "\n",
        "    subplot.scatter(X[:, 0], X[:, 1], c=y, cmap=cmap_bold, s=plot_symbol_size, edgecolor = 'black')\n",
        "    subplot.set_xlim(x_min - x_plot_adjust, x_max + x_plot_adjust)\n",
        "    subplot.set_ylim(y_min - y_plot_adjust, y_max + y_plot_adjust)\n",
        "\n",
        "    if (X_test is not None):\n",
        "        subplot.scatter(X_test[:, 0], X_test[:, 1], c=y_test, cmap=cmap_bold, s=plot_symbol_size, marker='^', edgecolor = 'black')\n",
        "        train_score = clf.score(X, y)\n",
        "        test_score  = clf.score(X_test, y_test)\n",
        "        title = title + \"\\nTrain score = {:.2f}, Test score = {:.2f}\".format(train_score, test_score)\n",
        "\n",
        "    subplot.set_title(title)\n",
        "\n",
        "    if (target_names is not None):\n",
        "        legend_handles = []\n",
        "        for i in range(0, len(target_names)):\n",
        "            patch = mpatches.Patch(color=color_list_bold[i], label=target_names[i])\n",
        "            legend_handles.append(patch)\n",
        "        subplot.legend(loc=0, handles=legend_handles)\n",
        "\n",
        "\n",
        "def plot_class_regions_for_classifier(clf, X, y, X_test=None, y_test=None, title=None, target_names = None, plot_decision_regions = True):\n",
        "\n",
        "    numClasses = numpy.amax(y) + 1\n",
        "    color_list_light = ['#FFFFAA', '#EFEFEF', '#AAFFAA', '#AAAAFF']\n",
        "    color_list_bold = ['#EEEE00', '#000000', '#00CC00', '#0000CC']\n",
        "    cmap_light = ListedColormap(color_list_light[0:numClasses])\n",
        "    cmap_bold  = ListedColormap(color_list_bold[0:numClasses])\n",
        "\n",
        "    h = 0.03\n",
        "    k = 0.5\n",
        "    x_plot_adjust = 0.1\n",
        "    y_plot_adjust = 0.1\n",
        "    plot_symbol_size = 50\n",
        "\n",
        "    x_min = X[:, 0].min()\n",
        "    x_max = X[:, 0].max()\n",
        "    y_min = X[:, 1].min()\n",
        "    y_max = X[:, 1].max()\n",
        "    x2, y2 = numpy.meshgrid(numpy.arange(x_min-k, x_max+k, h), numpy.arange(y_min-k, y_max+k, h))\n",
        "\n",
        "    P = clf.predict(numpy.c_[x2.ravel(), y2.ravel()])\n",
        "    P = P.reshape(x2.shape)\n",
        "    plt.figure()\n",
        "    if plot_decision_regions:\n",
        "        plt.contourf(x2, y2, P, cmap=cmap_light, alpha = 0.8)\n",
        "\n",
        "    plt.scatter(X[:, 0], X[:, 1], c=y, cmap=cmap_bold, s=plot_symbol_size, edgecolor = 'black')\n",
        "    plt.xlim(x_min - x_plot_adjust, x_max + x_plot_adjust)\n",
        "    plt.ylim(y_min - y_plot_adjust, y_max + y_plot_adjust)\n",
        "\n",
        "    if (X_test is not None):\n",
        "        plt.scatter(X_test[:, 0], X_test[:, 1], c=y_test, cmap=cmap_bold, s=plot_symbol_size, marker='^', edgecolor = 'black')\n",
        "        train_score = clf.score(X, y)\n",
        "        test_score  = clf.score(X_test, y_test)\n",
        "        title = title + \"\\nTrain score = {:.2f}, Test score = {:.2f}\".format(train_score, test_score)\n",
        "\n",
        "    if (target_names is not None):\n",
        "        legend_handles = []\n",
        "        for i in range(0, len(target_names)):\n",
        "            patch = mpatches.Patch(color=color_list_bold[i], label=target_names[i])\n",
        "            legend_handles.append(patch)\n",
        "        plt.legend(loc=0, handles=legend_handles)\n",
        "\n",
        "    if (title is not None):\n",
        "        plt.title(title)\n",
        "    plt.show()\n",
        "\n",
        "def plot_fruit_knn(X, y, n_neighbors, weights):\n",
        "    X_mat = X[['height', 'width']].as_matrix()\n",
        "    y_mat = y.as_matrix()\n",
        "\n",
        "    # Create color maps\n",
        "    cmap_light = ListedColormap(['#FFAAAA', '#AAFFAA', '#AAAAFF','#AFAFAF'])\n",
        "    cmap_bold  = ListedColormap(['#FF0000', '#00FF00', '#0000FF','#AFAFAF'])\n",
        "\n",
        "    clf = neighbors.KNeighborsClassifier(n_neighbors, weights=weights)\n",
        "    clf.fit(X_mat, y_mat)\n",
        "\n",
        "    # Plot the decision boundary by assigning a color in the color map\n",
        "    # to each mesh point.\n",
        "\n",
        "    mesh_step_size = .01  # step size in the mesh\n",
        "    plot_symbol_size = 50\n",
        "\n",
        "    x_min, x_max = X_mat[:, 0].min() - 1, X_mat[:, 0].max() + 1\n",
        "    y_min, y_max = X_mat[:, 1].min() - 1, X_mat[:, 1].max() + 1\n",
        "    xx, yy = numpy.meshgrid(numpy.arange(x_min, x_max, mesh_step_size),\n",
        "                         numpy.arange(y_min, y_max, mesh_step_size))\n",
        "    Z = clf.predict(numpy.c_[xx.ravel(), yy.ravel()])\n",
        "\n",
        "    # Put the result into a color plot\n",
        "    Z = Z.reshape(xx.shape)\n",
        "    plt.figure()\n",
        "    plt.pcolormesh(xx, yy, Z, cmap=cmap_light)\n",
        "\n",
        "    # Plot training points\n",
        "    plt.scatter(X_mat[:, 0], X_mat[:, 1], s=plot_symbol_size, c=y, cmap=cmap_bold, edgecolor = 'black')\n",
        "    plt.xlim(xx.min(), xx.max())\n",
        "    plt.ylim(yy.min(), yy.max())\n",
        "\n",
        "    patch0 = mpatches.Patch(color='#FF0000', label='apple')\n",
        "    patch1 = mpatches.Patch(color='#00FF00', label='mandarin')\n",
        "    patch2 = mpatches.Patch(color='#0000FF', label='orange')\n",
        "    patch3 = mpatches.Patch(color='#AFAFAF', label='lemon')\n",
        "    plt.legend(handles=[patch0, patch1, patch2, patch3])\n",
        "\n",
        "\n",
        "    plt.xlabel('height (cm)')\n",
        "    plt.ylabel('width (cm)')\n",
        "\n",
        "    plt.show()\n",
        "\n",
        "def plot_two_class_knn(X, y, n_neighbors, weights, X_test, y_test):\n",
        "    X_mat = X\n",
        "    y_mat = y\n",
        "\n",
        "    # Create color maps\n",
        "    cmap_light = ListedColormap(['#FFFFAA', '#AAFFAA', '#AAAAFF','#EFEFEF'])\n",
        "    cmap_bold  = ListedColormap(['#FFFF00', '#00FF00', '#0000FF','#000000'])\n",
        "\n",
        "    clf = neighbors.KNeighborsClassifier(n_neighbors, weights=weights)\n",
        "    clf.fit(X_mat, y_mat)\n",
        "\n",
        "    # Plot the decision boundary by assigning a color in the color map\n",
        "    # to each mesh point.\n",
        "\n",
        "    mesh_step_size = .01  # step size in the mesh\n",
        "    plot_symbol_size = 50\n",
        "\n",
        "    x_min, x_max = X_mat[:, 0].min() - 1, X_mat[:, 0].max() + 1\n",
        "    y_min, y_max = X_mat[:, 1].min() - 1, X_mat[:, 1].max() + 1\n",
        "    xx, yy = numpy.meshgrid(numpy.arange(x_min, x_max, mesh_step_size),\n",
        "                         numpy.arange(y_min, y_max, mesh_step_size))\n",
        "    Z = clf.predict(numpy.c_[xx.ravel(), yy.ravel()])\n",
        "\n",
        "    # Put the result into a color plot\n",
        "    Z = Z.reshape(xx.shape)\n",
        "    plt.figure()\n",
        "    plt.pcolormesh(xx, yy, Z, cmap=cmap_light)\n",
        "\n",
        "    # Plot training points\n",
        "    plt.scatter(X_mat[:, 0], X_mat[:, 1], s=plot_symbol_size, c=y, cmap=cmap_bold, edgecolor = 'black')\n",
        "    plt.xlim(xx.min(), xx.max())\n",
        "    plt.ylim(yy.min(), yy.max())\n",
        "\n",
        "    title = \"Neighbors = {}\".format(n_neighbors)\n",
        "    if (X_test is not None):\n",
        "        train_score = clf.score(X_mat, y_mat)\n",
        "        test_score  = clf.score(X_test, y_test)\n",
        "        title = title + \"\\nTrain score = {:.2f}, Test score = {:.2f}\".format(train_score, test_score)\n",
        "\n",
        "    patch0 = mpatches.Patch(color='#FFFF00', label='class 0')\n",
        "    patch1 = mpatches.Patch(color='#000000', label='class 1')\n",
        "    plt.legend(handles=[patch0, patch1])\n",
        "\n",
        "    plt.xlabel('Feature 0')\n",
        "    plt.ylabel('Feature 1')\n",
        "    plt.title(title)\n",
        "\n",
        "    plt.show()"
      ],
      "execution_count": 0,
      "outputs": []
    },
    {
      "cell_type": "code",
      "metadata": {
        "id": "YEeFGVkSPm0H",
        "colab_type": "code",
        "outputId": "4aa0d7fa-2090-416f-e274-deb8ce17d4f6",
        "colab": {
          "base_uri": "https://localhost:8080/",
          "height": 250
        }
      },
      "source": [
        "import numpy as np\n",
        "import pandas as pd\n",
        "import seaborn as sns\n",
        "import matplotlib.pyplot as plt\n",
        "from sklearn.model_selection import train_test_split\n",
        "from sklearn.datasets import load_digits\n",
        "%matplotlib inline\n",
        "\n",
        "dataset = load_digits()\n",
        "X, y = dataset.data, dataset.target\n",
        "\n",
        "for class_name, class_count in zip(dataset.target_names, np.bincount(dataset.target)):\n",
        "  print(class_name, class_count)"
      ],
      "execution_count": 4,
      "outputs": [
        {
          "output_type": "stream",
          "text": [
            "0 178\n",
            "1 182\n",
            "2 177\n",
            "3 183\n",
            "4 181\n",
            "5 182\n",
            "6 181\n",
            "7 179\n",
            "8 174\n",
            "9 180\n"
          ],
          "name": "stdout"
        },
        {
          "output_type": "stream",
          "text": [
            "/usr/local/lib/python3.6/dist-packages/statsmodels/tools/_testing.py:19: FutureWarning: pandas.util.testing is deprecated. Use the functions in the public API at pandas.testing instead.\n",
            "  import pandas.util.testing as tm\n"
          ],
          "name": "stderr"
        }
      ]
    },
    {
      "cell_type": "code",
      "metadata": {
        "id": "mlM3UNFZMh3m",
        "colab_type": "code",
        "outputId": "893bd7dc-4a97-4e98-91ec-e81d4b027dec",
        "colab": {
          "base_uri": "https://localhost:8080/",
          "height": 72
        }
      },
      "source": [
        "y_binary_imbalanced = y.copy()\n",
        "y_binary_imbalanced[y_binary_imbalanced != 1] = 0\n",
        "\n",
        "print(\"Original labels: \", y[1:30])\n",
        "print(\"New binary labels:\", y_binary_imbalanced[1:30])"
      ],
      "execution_count": 5,
      "outputs": [
        {
          "output_type": "stream",
          "text": [
            "Original labels:  [1 2 3 4 5 6 7 8 9 0 1 2 3 4 5 6 7 8 9 0 1 2 3 4 5 6 7 8 9]\n",
            "New binary labels: [1 0 0 0 0 0 0 0 0 0 1 0 0 0 0 0 0 0 0 0 1 0 0 0 0 0 0 0 0]\n"
          ],
          "name": "stdout"
        }
      ]
    },
    {
      "cell_type": "code",
      "metadata": {
        "id": "RlRmYfZDNBS0",
        "colab_type": "code",
        "outputId": "402281f5-ea23-43b7-964e-b2803d241cec",
        "colab": {
          "base_uri": "https://localhost:8080/",
          "height": 34
        }
      },
      "source": [
        "np.bincount(y_binary_imbalanced)"
      ],
      "execution_count": 6,
      "outputs": [
        {
          "output_type": "execute_result",
          "data": {
            "text/plain": [
              "array([1615,  182])"
            ]
          },
          "metadata": {
            "tags": []
          },
          "execution_count": 6
        }
      ]
    },
    {
      "cell_type": "code",
      "metadata": {
        "id": "3QSJfMrPNHRo",
        "colab_type": "code",
        "outputId": "3035c89f-76f3-4d68-e5c4-a9a76c9e9064",
        "colab": {
          "base_uri": "https://localhost:8080/",
          "height": 34
        }
      },
      "source": [
        "from sklearn.svm import SVC\n",
        "\n",
        "X_train, X_test, y_train, y_test = train_test_split(X, y_binary_imbalanced, random_state=0)\n",
        "svm = SVC(kernel=\"rbf\", C=1).fit(X_train, y_train)\n",
        "svm.score(X_test, y_test)"
      ],
      "execution_count": 7,
      "outputs": [
        {
          "output_type": "execute_result",
          "data": {
            "text/plain": [
              "0.9955555555555555"
            ]
          },
          "metadata": {
            "tags": []
          },
          "execution_count": 7
        }
      ]
    },
    {
      "cell_type": "code",
      "metadata": {
        "id": "2GlcJ9LwNkX2",
        "colab_type": "code",
        "outputId": "7dbb711e-6697-472d-80b6-e558be1c93d1",
        "colab": {
          "base_uri": "https://localhost:8080/",
          "height": 390
        }
      },
      "source": [
        "# Dummy classifier\n",
        "from sklearn.dummy import DummyClassifier\n",
        "\n",
        "dummy_majority = DummyClassifier(strategy=\"most_frequent\").fit(X_train, y_train)\n",
        "y_dummy_predictions = dummy_majority.predict(X_test)\n",
        "y_dummy_predictions"
      ],
      "execution_count": 8,
      "outputs": [
        {
          "output_type": "execute_result",
          "data": {
            "text/plain": [
              "array([0, 0, 0, 0, 0, 0, 0, 0, 0, 0, 0, 0, 0, 0, 0, 0, 0, 0, 0, 0, 0, 0,\n",
              "       0, 0, 0, 0, 0, 0, 0, 0, 0, 0, 0, 0, 0, 0, 0, 0, 0, 0, 0, 0, 0, 0,\n",
              "       0, 0, 0, 0, 0, 0, 0, 0, 0, 0, 0, 0, 0, 0, 0, 0, 0, 0, 0, 0, 0, 0,\n",
              "       0, 0, 0, 0, 0, 0, 0, 0, 0, 0, 0, 0, 0, 0, 0, 0, 0, 0, 0, 0, 0, 0,\n",
              "       0, 0, 0, 0, 0, 0, 0, 0, 0, 0, 0, 0, 0, 0, 0, 0, 0, 0, 0, 0, 0, 0,\n",
              "       0, 0, 0, 0, 0, 0, 0, 0, 0, 0, 0, 0, 0, 0, 0, 0, 0, 0, 0, 0, 0, 0,\n",
              "       0, 0, 0, 0, 0, 0, 0, 0, 0, 0, 0, 0, 0, 0, 0, 0, 0, 0, 0, 0, 0, 0,\n",
              "       0, 0, 0, 0, 0, 0, 0, 0, 0, 0, 0, 0, 0, 0, 0, 0, 0, 0, 0, 0, 0, 0,\n",
              "       0, 0, 0, 0, 0, 0, 0, 0, 0, 0, 0, 0, 0, 0, 0, 0, 0, 0, 0, 0, 0, 0,\n",
              "       0, 0, 0, 0, 0, 0, 0, 0, 0, 0, 0, 0, 0, 0, 0, 0, 0, 0, 0, 0, 0, 0,\n",
              "       0, 0, 0, 0, 0, 0, 0, 0, 0, 0, 0, 0, 0, 0, 0, 0, 0, 0, 0, 0, 0, 0,\n",
              "       0, 0, 0, 0, 0, 0, 0, 0, 0, 0, 0, 0, 0, 0, 0, 0, 0, 0, 0, 0, 0, 0,\n",
              "       0, 0, 0, 0, 0, 0, 0, 0, 0, 0, 0, 0, 0, 0, 0, 0, 0, 0, 0, 0, 0, 0,\n",
              "       0, 0, 0, 0, 0, 0, 0, 0, 0, 0, 0, 0, 0, 0, 0, 0, 0, 0, 0, 0, 0, 0,\n",
              "       0, 0, 0, 0, 0, 0, 0, 0, 0, 0, 0, 0, 0, 0, 0, 0, 0, 0, 0, 0, 0, 0,\n",
              "       0, 0, 0, 0, 0, 0, 0, 0, 0, 0, 0, 0, 0, 0, 0, 0, 0, 0, 0, 0, 0, 0,\n",
              "       0, 0, 0, 0, 0, 0, 0, 0, 0, 0, 0, 0, 0, 0, 0, 0, 0, 0, 0, 0, 0, 0,\n",
              "       0, 0, 0, 0, 0, 0, 0, 0, 0, 0, 0, 0, 0, 0, 0, 0, 0, 0, 0, 0, 0, 0,\n",
              "       0, 0, 0, 0, 0, 0, 0, 0, 0, 0, 0, 0, 0, 0, 0, 0, 0, 0, 0, 0, 0, 0,\n",
              "       0, 0, 0, 0, 0, 0, 0, 0, 0, 0, 0, 0, 0, 0, 0, 0, 0, 0, 0, 0, 0, 0,\n",
              "       0, 0, 0, 0, 0, 0, 0, 0, 0, 0])"
            ]
          },
          "metadata": {
            "tags": []
          },
          "execution_count": 8
        }
      ]
    },
    {
      "cell_type": "code",
      "metadata": {
        "id": "fhVZhZskN9e5",
        "colab_type": "code",
        "outputId": "a02dca82-17d7-4d6d-c0ce-b2dd521554c8",
        "colab": {
          "base_uri": "https://localhost:8080/",
          "height": 34
        }
      },
      "source": [
        "dummy_majority.score(X_test, y_test)"
      ],
      "execution_count": 9,
      "outputs": [
        {
          "output_type": "execute_result",
          "data": {
            "text/plain": [
              "0.9044444444444445"
            ]
          },
          "metadata": {
            "tags": []
          },
          "execution_count": 9
        }
      ]
    },
    {
      "cell_type": "markdown",
      "metadata": {
        "id": "PevHoiNlOGfc",
        "colab_type": "text"
      },
      "source": [
        "#### Dummy classifiers completely ignore the input data\n",
        "\n",
        "* Dummy classifiers serve as a sanity check on your classifier's performance;\n",
        "\n",
        "* They provide a null metric (e.g. null accuracy) baseline;\n",
        "> The accuracy that can be achieved by always picking the most frequent class.\n",
        "\n",
        "* Dummy classifiers should not be used for real problems;\n",
        "> It does provide a useful sanity check in point of comparison.\n",
        "\n",
        "* Some commonly-used settings for the `strategy` parameter for DummyClassifier in scikit-learn:\n",
        " - `most_frequent`: predicts the most frequent label in the training set;\n",
        " - `stratified`: random predictions based on training set class distribution;\n",
        " - `uniform`: generates predictions uniformly at random;\n",
        " - `constant` always predicts a constant label provided by the user.\n",
        "\n",
        "> A major motivation of this method is F1-scoring, when the positive class is in the minority.\n",
        "\n",
        "#### What if my classifier accuracy is close to the null accuracy baseline?\n",
        "\n",
        "* Ineffective, erroneous or missing features;\n",
        "* Poor choice of kernel or hyperparameter;\n",
        "* Large class imbalance."
      ]
    },
    {
      "cell_type": "code",
      "metadata": {
        "id": "MmwYOtmPOC0K",
        "colab_type": "code",
        "outputId": "ef5fbbc5-1458-4912-a54b-672e26a8722e",
        "colab": {
          "base_uri": "https://localhost:8080/",
          "height": 34
        }
      },
      "source": [
        "svm = SVC(kernel=\"linear\", C=1).fit(X_train, y_train)\n",
        "svm.score(X_test, y_test) "
      ],
      "execution_count": 10,
      "outputs": [
        {
          "output_type": "execute_result",
          "data": {
            "text/plain": [
              "0.9777777777777777"
            ]
          },
          "metadata": {
            "tags": []
          },
          "execution_count": 10
        }
      ]
    },
    {
      "cell_type": "markdown",
      "metadata": {
        "id": "g9jFVnNpQtOM",
        "colab_type": "text"
      },
      "source": [
        "#### Dummy regressors\n",
        "\n",
        "* `strategy` parameter options:\n",
        " - `mean`: predicts the mean of the training targets;\n",
        " - `median`: predicts the median of the training targets;\n",
        " - `quantile`: predicts a user-provided quantile of the training targets;\n",
        " - `constant`: predicts a constant user-provided value.\n",
        "\n",
        "#### Binary prediction outcomes\n",
        "\n",
        "|               | Predicted negative | Predicted positive |\n",
        "|---------------|--------------------|--------------------|\n",
        "| True negative | TN                 | FP                 |\n",
        "| True positive | FN                 | TP                 |\n",
        "\n",
        "* Label 1 = positive class (class of interest);\n",
        "* Label 2 = negative class (everything else)\n",
        "* TP = true positive;\n",
        "* FP = false positive (type 1 error);\n",
        "* TN = true negative;\n",
        "* FN = false negative (type 2 error).\n",
        "\n",
        "#### Confusion matrix for binary prediction task\n",
        "\n",
        "|               | Predicted negative | Predicted positive |\n",
        "|---------------|--------------------|--------------------|\n",
        "| True negative | TN=356             | FP=51              |\n",
        "| True positive | FN=38              | TP=5               |\n",
        "\n",
        "* Every test instance is in exactly one box (integer counts);\n",
        "\n",
        "* Breaks down classifier results by error type;\n",
        "\n",
        "* Provides more information than simple accuracy;\n",
        "\n",
        "* Helps you choose an evaluation metric that matches project goals;\n",
        "\n",
        "* Not a single number like accuracy, but there are many possible metrics that can be derived from the confusion matrix."
      ]
    },
    {
      "cell_type": "code",
      "metadata": {
        "id": "-Gpr4dtPQhXv",
        "colab_type": "code",
        "outputId": "9f18be8a-616b-410c-df61-261ecbd3fa30",
        "colab": {
          "base_uri": "https://localhost:8080/",
          "height": 70
        }
      },
      "source": [
        "from sklearn.metrics import confusion_matrix\n",
        "\n",
        "dummy_majority = DummyClassifier(strategy=\"most_frequent\").fit(X_train, y_train)\n",
        "y_majority_predicted = dummy_majority.predict(X_test)\n",
        "confusion = confusion_matrix(y_test, y_majority_predicted)\n",
        "\n",
        "print('Most frequent class (dummy classifier)\\n', confusion)"
      ],
      "execution_count": 11,
      "outputs": [
        {
          "output_type": "stream",
          "text": [
            "Most frequent class (dummy classifier)\n",
            " [[407   0]\n",
            " [ 43   0]]\n"
          ],
          "name": "stdout"
        }
      ]
    },
    {
      "cell_type": "markdown",
      "metadata": {
        "id": "Y5JABKRPVr_l",
        "colab_type": "text"
      },
      "source": [
        "* TN e FN in the first column and TP and FP in the second;\n",
        "* The successful prediction of the classifier are on the diagonal, where the true class matches the predicted class;\n",
        "* The cells off the diagonal represent errors of different types;"
      ]
    },
    {
      "cell_type": "code",
      "metadata": {
        "id": "IsJL2OIZVj-K",
        "colab_type": "code",
        "outputId": "8d5562ec-c3dd-438d-ecf0-a194eff74ab6",
        "colab": {
          "base_uri": "https://localhost:8080/",
          "height": 70
        }
      },
      "source": [
        "dummy_classprop = DummyClassifier(strategy=\"stratified\").fit(X_train, y_train)\n",
        "y_classprop_predicted = dummy_classprop.predict(X_test)\n",
        "confusion = confusion_matrix(y_test, y_classprop_predicted)\n",
        "\n",
        "print('Random class-proportional prediction (dummy classifier)\\n', confusion)"
      ],
      "execution_count": 12,
      "outputs": [
        {
          "output_type": "stream",
          "text": [
            "Random class-proportional prediction (dummy classifier)\n",
            " [[363  44]\n",
            " [ 38   5]]\n"
          ],
          "name": "stdout"
        }
      ]
    },
    {
      "cell_type": "code",
      "metadata": {
        "id": "VCN3vQWIWvKA",
        "colab_type": "code",
        "outputId": "9501d4aa-ca08-4bf4-ce09-2a4c54944860",
        "colab": {
          "base_uri": "https://localhost:8080/",
          "height": 70
        }
      },
      "source": [
        "svm = SVC(kernel=\"linear\", C=1).fit(X_train, y_train)\n",
        "svm_predicted = svm.predict(X_test)\n",
        "confusion = confusion_matrix(y_test, svm_predicted)\n",
        "\n",
        "print('Support vector machine classifier (linear kernel, c=1)\\n', confusion)"
      ],
      "execution_count": 13,
      "outputs": [
        {
          "output_type": "stream",
          "text": [
            "Support vector machine classifier (linear kernel, c=1)\n",
            " [[402   5]\n",
            " [  5  38]]\n"
          ],
          "name": "stdout"
        }
      ]
    },
    {
      "cell_type": "code",
      "metadata": {
        "id": "mfRNhXtUXSSf",
        "colab_type": "code",
        "outputId": "b3ee0909-196c-4671-a9c4-042ea9b326cf",
        "colab": {
          "base_uri": "https://localhost:8080/",
          "height": 232
        }
      },
      "source": [
        "from sklearn.linear_model import LogisticRegression\n",
        "\n",
        "lr = LogisticRegression().fit(X_train, y_train)\n",
        "lr_predicted = lr.predict(X_test)\n",
        "confusion = confusion_matrix(y_test, lr_predicted)\n",
        "\n",
        "print(\"Logistic regression classifier (default settings)\\n\", confusion)"
      ],
      "execution_count": 14,
      "outputs": [
        {
          "output_type": "stream",
          "text": [
            "Logistic regression classifier (default settings)\n",
            " [[401   6]\n",
            " [  8  35]]\n"
          ],
          "name": "stdout"
        },
        {
          "output_type": "stream",
          "text": [
            "/usr/local/lib/python3.6/dist-packages/sklearn/linear_model/_logistic.py:940: ConvergenceWarning: lbfgs failed to converge (status=1):\n",
            "STOP: TOTAL NO. of ITERATIONS REACHED LIMIT.\n",
            "\n",
            "Increase the number of iterations (max_iter) or scale the data as shown in:\n",
            "    https://scikit-learn.org/stable/modules/preprocessing.html\n",
            "Please also refer to the documentation for alternative solver options:\n",
            "    https://scikit-learn.org/stable/modules/linear_model.html#logistic-regression\n",
            "  extra_warning_msg=_LOGISTIC_SOLVER_CONVERGENCE_MSG)\n"
          ],
          "name": "stderr"
        }
      ]
    },
    {
      "cell_type": "code",
      "metadata": {
        "id": "1G00l4YYXwHY",
        "colab_type": "code",
        "outputId": "6edcb76a-69f8-4986-8ca1-620724750e65",
        "colab": {
          "base_uri": "https://localhost:8080/",
          "height": 70
        }
      },
      "source": [
        "from sklearn.tree import DecisionTreeClassifier\n",
        "\n",
        "dt = DecisionTreeClassifier(max_depth=2).fit(X_train, y_train)\n",
        "tree_predicted = dt.predict(X_test)\n",
        "confusion = confusion_matrix(y_test, tree_predicted)\n",
        "\n",
        "print(\"Decision tree classifier (max_depth=2)\\n\", confusion)"
      ],
      "execution_count": 15,
      "outputs": [
        {
          "output_type": "stream",
          "text": [
            "Decision tree classifier (max_depth=2)\n",
            " [[400   7]\n",
            " [ 17  26]]\n"
          ],
          "name": "stdout"
        }
      ]
    },
    {
      "cell_type": "markdown",
      "metadata": {
        "id": "AYfvtpz3YRRa",
        "colab_type": "text"
      },
      "source": [
        "---\n",
        "### Confusion matrices and basic evaluation metrics\n",
        "\n",
        "| N=450         | Predicted negative | Predicted positive |\n",
        "|---------------|--------------------|--------------------|\n",
        "| True negative | TN=400             | FP=7               |\n",
        "| True positive | FN=17              | TP=26              |\n",
        "\n",
        "$ accuracy = \\frac{TN+TP}{TN+TP+FN+FP} = \\frac{400+26}{400+26+17+7} = 0.95$\n",
        "\n",
        "$classification error = \\frac{FP+FN}{TN+TP+FN+FP} = 1-accuracy = 0.06$\n",
        "\n",
        "$recall = \\frac{TP}{TP+FN} = 0.6$\n",
        "\n",
        "* Recall is also known as: tru positive rate (TPR), sensitivity and probability of detection;\n",
        "\n",
        "$precision = \\frac{TP}{TP+FP} = 0.79$\n",
        "\n",
        "* To increase **precision** we must either increase the number of TP or reduce the FP rate;\n",
        "\n",
        "$FPR = \\frac{FP}{TN+FP} = 0.02$\n",
        "\n",
        "* The false positive rate (FPR) is also known as **specificity**.\n",
        "\n",
        "####  Precision and recall interpretation\n",
        "\n",
        "* A precision of 0.68 means that about 68% or 13 of the 19 instances of the points in the positive prediction region are correctly labeled as **positive**;\n",
        "\n",
        "* A recall of 0.87 means that of all true positive instances, the positive prediction region has found about 87% of them or 13 out of 15;\n",
        "\n",
        "* High precision, lower recall;\n",
        "> All the points on the positive prediction region 7/7 are TP given a perfect precision of 1. It comes with a cost because out of 15 positive instances, 8 are FN.\n",
        "\n",
        "$precision = \\frac{TP}{TP+FP} = \\frac{7}{7+0} = 1.0$\n",
        "\n",
        "$recall = \\frac{TP}{TP+FN} = \\frac{7}{7+8} = 0.47$\n",
        "\n",
        "* Low precision, high recall;\n",
        "> We want o minimize FN and obtain high recall. Now all 15 positive instances have been correctly predicted as being in the positive class. It also comes with a cost, since the number of FP gone up, dropping the precision.\n",
        "\n",
        "$precision = \\frac{15}{15+27} = 0.36$\n",
        "\n",
        "$recall = \\frac{15}{15+0} = 1.00$\n",
        "\n",
        "#### There is often a tradeoff between precision and recall\n",
        "\n",
        "* Recall-oriented machine-learning tasks:\n",
        " - Search and information extraction in legal discovery;\n",
        " - Tumor detection;\n",
        " - Often paired with a human expert to filter out FP.\n",
        "\n",
        "* Precision-oriented machine learning tasks:\n",
        " - Search engine ranking query suggestion;\n",
        " - Document classification;\n",
        " - Many customer-facing tasks (users remember failures).\n",
        "\n",
        "#### F1-score: combining precision and recall into a single number\n",
        "\n",
        "$F1 = 2.\\frac{precision \\times recall}{precistion+recall} = \\frac{2\\times TP}{2\\times TP+FN+FP}$\n",
        "\n",
        "* Is based on harmonic mean of precision and recall;\n",
        "\n",
        "* F1 score is a special case of F-score that introduces a paramerter beta;\n",
        "\n",
        "$F_{\\beta} = (1 + \\beta^2 \\times \\frac{precision \\times recall}{(\\beta^2 \\times precision) + recall} = \\frac{(1+\\beta^2)\\times TP}{(1+\\beta^2)\\times TP+\\beta \\times FN+FP}$\n",
        "\n",
        "* Beta allows adjustment of the metric to control the emphasis on recall vs precision:\n",
        " - Precision-oriented users: $\\beta=0.5$\n",
        " > FP hurt performance more than FN.\n",
        " - Recall-oriented users: $\\beta=2$\n",
        " > FN hurt performance more than FP.\n",
        " - Setting $\\beta=1$  corresponds to f1-score.\n",
        " > We just saw weights precision and recall equally."
      ]
    },
    {
      "cell_type": "code",
      "metadata": {
        "id": "OMR7tzUzk45y",
        "colab_type": "code",
        "outputId": "fafbd333-12af-4e66-93d6-b129e02a0e8a",
        "colab": {
          "base_uri": "https://localhost:8080/",
          "height": 87
        }
      },
      "source": [
        "# Evaluation metrics for binary classification\n",
        "from sklearn.metrics import accuracy_score, precision_score, recall_score, f1_score\n",
        "\n",
        "print(\"Accuracy: {:.2f}\".format(accuracy_score(y_test, tree_predicted)))\n",
        "print(\"Precision: {:.2f}\".format(precision_score(y_test, tree_predicted)))\n",
        "print(\"Recall: {:.2f}\".format(recall_score(y_test, tree_predicted)))\n",
        "print(\"F1: {:.2f}\".format(f1_score(y_test, tree_predicted)))"
      ],
      "execution_count": 16,
      "outputs": [
        {
          "output_type": "stream",
          "text": [
            "Accuracy: 0.95\n",
            "Precision: 0.79\n",
            "Recall: 0.60\n",
            "F1: 0.68\n"
          ],
          "name": "stdout"
        }
      ]
    },
    {
      "cell_type": "code",
      "metadata": {
        "id": "YzOGA9jRk43w",
        "colab_type": "code",
        "outputId": "cf56f953-bb2d-4579-ab66-43372660324b",
        "colab": {
          "base_uri": "https://localhost:8080/",
          "height": 176
        }
      },
      "source": [
        "from sklearn.metrics import classification_report\n",
        "\n",
        "print(classification_report(y_test, tree_predicted, target_names=[\"not_1\", \"1\"]))"
      ],
      "execution_count": 17,
      "outputs": [
        {
          "output_type": "stream",
          "text": [
            "              precision    recall  f1-score   support\n",
            "\n",
            "       not_1       0.96      0.98      0.97       407\n",
            "           1       0.79      0.60      0.68        43\n",
            "\n",
            "    accuracy                           0.95       450\n",
            "   macro avg       0.87      0.79      0.83       450\n",
            "weighted avg       0.94      0.95      0.94       450\n",
            "\n"
          ],
          "name": "stdout"
        }
      ]
    },
    {
      "cell_type": "code",
      "metadata": {
        "id": "xpOtbHOhYNu4",
        "colab_type": "code",
        "outputId": "379b5d13-d4dd-4fb2-da56-4e1a6e70add1",
        "colab": {
          "base_uri": "https://localhost:8080/",
          "height": 727
        }
      },
      "source": [
        "print(\"Random class-proportional (dummy)\\n\",\n",
        "      classification_report(y_test, y_classprop_predicted, target_names=[\"not_1\", \"1\"]))\n",
        "\n",
        "print(\"SVM\\n\",\n",
        "      classification_report(y_test, svm_predicted, target_names=[\"not_1\", \"1\"]))\n",
        "\n",
        "print(\"Logistic regression\\n\",\n",
        "      classification_report(y_test, lr_predicted, target_names=[\"not_1\", \"1\"]))\n",
        "\n",
        "print(\"Decision tree\\n\",\n",
        "      classification_report(y_test, tree_predicted, target_names=[\"not_1\", \"1\"]))\n"
      ],
      "execution_count": 18,
      "outputs": [
        {
          "output_type": "stream",
          "text": [
            "Random class-proportional (dummy)\n",
            "               precision    recall  f1-score   support\n",
            "\n",
            "       not_1       0.91      0.89      0.90       407\n",
            "           1       0.10      0.12      0.11        43\n",
            "\n",
            "    accuracy                           0.82       450\n",
            "   macro avg       0.50      0.50      0.50       450\n",
            "weighted avg       0.83      0.82      0.82       450\n",
            "\n",
            "SVM\n",
            "               precision    recall  f1-score   support\n",
            "\n",
            "       not_1       0.99      0.99      0.99       407\n",
            "           1       0.88      0.88      0.88        43\n",
            "\n",
            "    accuracy                           0.98       450\n",
            "   macro avg       0.94      0.94      0.94       450\n",
            "weighted avg       0.98      0.98      0.98       450\n",
            "\n",
            "Logistic regression\n",
            "               precision    recall  f1-score   support\n",
            "\n",
            "       not_1       0.98      0.99      0.98       407\n",
            "           1       0.85      0.81      0.83        43\n",
            "\n",
            "    accuracy                           0.97       450\n",
            "   macro avg       0.92      0.90      0.91       450\n",
            "weighted avg       0.97      0.97      0.97       450\n",
            "\n",
            "Decision tree\n",
            "               precision    recall  f1-score   support\n",
            "\n",
            "       not_1       0.96      0.98      0.97       407\n",
            "           1       0.79      0.60      0.68        43\n",
            "\n",
            "    accuracy                           0.95       450\n",
            "   macro avg       0.87      0.79      0.83       450\n",
            "weighted avg       0.94      0.95      0.94       450\n",
            "\n"
          ],
          "name": "stdout"
        }
      ]
    },
    {
      "cell_type": "markdown",
      "metadata": {
        "id": "rpAXqLFWuyly",
        "colab_type": "text"
      },
      "source": [
        "---\n",
        "### Classifier decision functions (decision_function)\n",
        "\n",
        "* Each classifier score value per test point indicates how confiently the classifier predicts the positive class (large magnitude **positive** values) or the **negative** class (large magnitude negative values);\n",
        "\n",
        "* Choosing a fixed decision threshold gives a classification rule;\n",
        "\n",
        "* By sweeping the decision threshold through the entire range of possible score values; we get a series of classification outcomes that form a curve;\n",
        "\n"
      ]
    },
    {
      "cell_type": "code",
      "metadata": {
        "id": "f6ojRafKuq2b",
        "colab_type": "code",
        "colab": {
          "base_uri": "https://localhost:8080/",
          "height": 534
        },
        "outputId": "fcd53b3b-8066-4dd1-b978-b95c6527b05f"
      },
      "source": [
        "# Decision functions\n",
        "X_train, X_test, y_train, y_test = train_test_split(X, y_binary_imbalanced,\n",
        "                                                    random_state=0)\n",
        "y_scores_lr = lr.fit(X_train, y_train).decision_function(X_test)\n",
        "y_score_list = list(zip(y_test[0:20], y_scores_lr[0:20]))\n",
        "\n",
        "y_score_list"
      ],
      "execution_count": 19,
      "outputs": [
        {
          "output_type": "stream",
          "text": [
            "/usr/local/lib/python3.6/dist-packages/sklearn/linear_model/_logistic.py:940: ConvergenceWarning: lbfgs failed to converge (status=1):\n",
            "STOP: TOTAL NO. of ITERATIONS REACHED LIMIT.\n",
            "\n",
            "Increase the number of iterations (max_iter) or scale the data as shown in:\n",
            "    https://scikit-learn.org/stable/modules/preprocessing.html\n",
            "Please also refer to the documentation for alternative solver options:\n",
            "    https://scikit-learn.org/stable/modules/linear_model.html#logistic-regression\n",
            "  extra_warning_msg=_LOGISTIC_SOLVER_CONVERGENCE_MSG)\n"
          ],
          "name": "stderr"
        },
        {
          "output_type": "execute_result",
          "data": {
            "text/plain": [
              "[(0, -29.828788441785033),\n",
              " (0, -19.382924793512874),\n",
              " (0, -29.198335138585666),\n",
              " (0, -21.746179452413866),\n",
              " (0, -22.64239706142783),\n",
              " (0, -11.806009239931573),\n",
              " (1, 6.496016147080556),\n",
              " (0, -23.35456545701549),\n",
              " (0, -27.5434551101218),\n",
              " (0, -26.888219314276732),\n",
              " (0, -31.862703999560456),\n",
              " (0, -22.486128999408205),\n",
              " (0, -25.318000345574035),\n",
              " (0, -13.38456205419778),\n",
              " (0, -13.565609990855048),\n",
              " (0, -13.308402070394045),\n",
              " (1, 12.18078625711733),\n",
              " (0, -34.36249073173575),\n",
              " (0, -13.231505077380163),\n",
              " (0, -29.59393677309081)]"
            ]
          },
          "metadata": {
            "tags": []
          },
          "execution_count": 19
        }
      ]
    },
    {
      "cell_type": "markdown",
      "metadata": {
        "id": "XvGt0suYu6N_",
        "colab_type": "text"
      },
      "source": [
        "#### Predicted probability of class membership (predict_proba)\n",
        "\n",
        "* Typical rule: choose most likely class;\n",
        " - e.g. class 1 if threshold > 0.5.\n",
        "\n",
        "* Adjusting threshold affects predictions of classifier;\n",
        "\n",
        "* Higher threshold results in a more conservative classifier;\n",
        " - e.g. only predict class 1 if estimated probability of class 1 is above 70%;\n",
        " - This increases precision and doesn't predict class 1 as often, but when it does, it gets high porportion of class 1 instances correct.\n",
        "\n",
        "* Not all models provide realistic probability estimates; "
      ]
    },
    {
      "cell_type": "code",
      "metadata": {
        "id": "xGcEtlt9uqMu",
        "colab_type": "code",
        "colab": {
          "base_uri": "https://localhost:8080/",
          "height": 534
        },
        "outputId": "ea8d674f-94ed-4ca4-c4e0-8e1dd0ec3fd8"
      },
      "source": [
        "X_train, X_test, y_train, y_test = train_test_split(X, y_binary_imbalanced,\n",
        "                                                    random_state=0)\n",
        "y_proba_lr = lr.fit(X_train, y_train).predict_proba(X_test)\n",
        "y_proba_list = list(zip(y_test[0:20], y_proba_lr[0:20, 1]))\n",
        "\n",
        "y_proba_list"
      ],
      "execution_count": 20,
      "outputs": [
        {
          "output_type": "stream",
          "text": [
            "/usr/local/lib/python3.6/dist-packages/sklearn/linear_model/_logistic.py:940: ConvergenceWarning: lbfgs failed to converge (status=1):\n",
            "STOP: TOTAL NO. of ITERATIONS REACHED LIMIT.\n",
            "\n",
            "Increase the number of iterations (max_iter) or scale the data as shown in:\n",
            "    https://scikit-learn.org/stable/modules/preprocessing.html\n",
            "Please also refer to the documentation for alternative solver options:\n",
            "    https://scikit-learn.org/stable/modules/linear_model.html#logistic-regression\n",
            "  extra_warning_msg=_LOGISTIC_SOLVER_CONVERGENCE_MSG)\n"
          ],
          "name": "stderr"
        },
        {
          "output_type": "execute_result",
          "data": {
            "text/plain": [
              "[(0, 1.1105082208232874e-13),\n",
              " (0, 3.820346172604105e-09),\n",
              " (0, 2.0860473814375808e-13),\n",
              " (0, 3.595458341363987e-10),\n",
              " (0, 1.4673438599173205e-10),\n",
              " (0, 7.459540808226165e-06),\n",
              " (1, 0.998492834356983),\n",
              " (0, 7.198484846185495e-11),\n",
              " (0, 1.0915143083465744e-12),\n",
              " (0, 2.1018161444089108e-12),\n",
              " (0, 1.4527921163895185e-14),\n",
              " (0, 1.7155297591126663e-10),\n",
              " (0, 1.0104903189398316e-11),\n",
              " (0, 1.5387139421779702e-06),\n",
              " (0, 1.2838961002847254e-06),\n",
              " (0, 1.6604801824725314e-06),\n",
              " (1, 0.999994871982292),\n",
              " (0, 1.1927787429505822e-15),\n",
              " (0, 1.7932035040594141e-06),\n",
              " (0, 1.4044832419844635e-13)]"
            ]
          },
          "metadata": {
            "tags": []
          },
          "execution_count": 20
        }
      ]
    },
    {
      "cell_type": "markdown",
      "metadata": {
        "id": "XErRJpAJw7os",
        "colab_type": "text"
      },
      "source": [
        "#### Varying the decision threshold\n",
        "\n",
        "* Changing the classifier score we have a precision/recall variation according to the precision/recall curve;\n",
        "\n",
        "---\n",
        "\n",
        "### Precision-recall and ROC curves\n",
        "\n",
        "* An ideal classifier would be able to achieve perfect precision and recall of 1.0 both;\n",
        "\n",
        "* In general, with precision-recall curves, the closer the curve is to the top right corner, the more preferable and beneficinal the tradeoof it gives between precision and recall.\n",
        "\n",
        "#### ROC curves\n",
        "\n",
        "* Receiver operating characteristic curves (ROC) are a very widely used visualization method that illustrate the performance of a binary classifier;\n",
        "\n",
        "* The x-axis show a classifier FP rate (varies from 0 to 1) and on the y-axis show a classifier's TP rate (also from 0 to 1);\n",
        "\n",
        "* The ideal point in ROC space is one where the classifier achieves zero (FP=0) and TP rate of 1;\n",
        "\n",
        "* The line in the diagonal is a random classifier used as baseline. A good classifier will give an ROC curve that is consistently better than random across all decision threshold choices; \n",
        "> An excellent classifier would be way up into the left increasing.\n",
        "\n",
        "* We want classifiers that maximize the TP rate while minimizing the FP rate;\n",
        "\n",
        "* WE can qualify the goodness of a classifier by looking at how much are there is underneath the curve, the area under the curve (AUC).\n",
        "> An AUC of 0 represents a very bad classifier, and an AUC of 1 a perfect one.\n",
        "\n",
        "---\n",
        "\n",
        "### Multi-class evaluation\n",
        "\n",
        "* Is an extension of the binary case;\n",
        " - A collection of true vs predicted binary outcomes, one per class;\n",
        " - Confusion matrices are especially useful;\n",
        " - Classification report.\n",
        "\n",
        "* Overall evaluation metrics are averages across classes;\n",
        " - But there are different ways to average multi-class results: we will cover these shortly;\n",
        " - The support (number of instances) for each class is important to consider.\n",
        " > e.g. in case of imbalanced classes.\n",
        "* Multi-label classification: each instance can have multiple labels (not covered in the course).\n",
        "\n",
        "#### Multi-class confusion matrix\n",
        "\n",
        "* Is a matrix of $n \\times n$ according to the number of classes;\n",
        " \n",
        "* The true class matches the predicted class are all along the diagonal and misclassification are off the diagonal;"
      ]
    },
    {
      "cell_type": "code",
      "metadata": {
        "id": "0uP3e1ePwLol",
        "colab_type": "code",
        "colab": {
          "base_uri": "https://localhost:8080/",
          "height": 621
        },
        "outputId": "4b932329-d7d4-4f40-a8b6-20bf7ec602e9"
      },
      "source": [
        "X, y = dataset.data, dataset.target\n",
        "X_train_mc, X_test_mc, y_train_mc, y_test_mc = train_test_split(\n",
        "    X, y, random_state=0\n",
        ")\n",
        "\n",
        "svm = SVC(kernel=\"linear\").fit(X_train_mc, y_train_mc)\n",
        "svm_predicted_mc = svm.predict(X_test_mc)\n",
        "confusion_mc = confusion_matrix(y_test_mc, svm_predicted_mc)\n",
        "df_cm = pd.DataFrame(confusion_mc)\n",
        "\n",
        "plt.figure(figsize=(5.5,4))\n",
        "sns.heatmap(df_cm, annot=True)\n",
        "plt.title(\"SVM linear kernel \\nAccuracy: {0:.3f}\".format(\n",
        "    accuracy_score(y_test_mc, svm_predicted_mc)\n",
        "))\n",
        "plt.ylabel(\"True label\")\n",
        "plt.xlabel(\"Predicted label\")\n",
        "\n",
        "svm = SVC(kernel=\"rbf\").fit(X_train_mc, y_train_mc)\n",
        "svm_predicted_mc = svm.predict(X_test_mc)\n",
        "confusion_mc = confusion_matrix(y_test_mc, svm_predicted_mc)\n",
        "df_cm = pd.DataFrame(confusion_mc)\n",
        "\n",
        "plt.figure(figsize=(5.5,4))\n",
        "sns.heatmap(df_cm, annot=True)\n",
        "plt.title(\"SVM RBF kernel \\nAccuracy: {0:.3f}\".format(\n",
        "    accuracy_score(y_test_mc, svm_predicted_mc)))\n",
        "plt.ylabel(\"True label\")\n",
        "plt.xlabel(\"Predicted label\")"
      ],
      "execution_count": 21,
      "outputs": [
        {
          "output_type": "execute_result",
          "data": {
            "text/plain": [
              "Text(0.5, 15.0, 'Predicted label')"
            ]
          },
          "metadata": {
            "tags": []
          },
          "execution_count": 21
        },
        {
          "output_type": "display_data",
          "data": {
            "image/png": "[encoded data removed]",
            "text/plain": [
              "<Figure size 396x288 with 2 Axes>"
            ]
          },
          "metadata": {
            "tags": [],
            "needs_background": "light"
          }
        },
        {
          "output_type": "display_data",
          "data": {
            "image/png": "[encoded data removed]",
            "text/plain": [
              "<Figure size 396x288 with 2 Axes>"
            ]
          },
          "metadata": {
            "tags": [],
            "needs_background": "light"
          }
        }
      ]
    },
    {
      "cell_type": "markdown",
      "metadata": {
        "id": "FXw25XIrNGfV",
        "colab_type": "text"
      },
      "source": [
        "* In the confusion matrix we can get some insight into what kind of errors it's making for each class, including whether some classes are much more prone to certain kinds of errors than others. "
      ]
    },
    {
      "cell_type": "code",
      "metadata": {
        "id": "1gj3nNwjJfHz",
        "colab_type": "code",
        "colab": {
          "base_uri": "https://localhost:8080/",
          "height": 318
        },
        "outputId": "9da68d48-c956-440c-db8d-749f2d849147"
      },
      "source": [
        "# Multi-class classification report\n",
        "print(classification_report(y_test_mc, svm_predicted_mc))"
      ],
      "execution_count": 22,
      "outputs": [
        {
          "output_type": "stream",
          "text": [
            "              precision    recall  f1-score   support\n",
            "\n",
            "           0       1.00      1.00      1.00        37\n",
            "           1       0.98      1.00      0.99        43\n",
            "           2       1.00      1.00      1.00        44\n",
            "           3       1.00      0.98      0.99        45\n",
            "           4       1.00      1.00      1.00        38\n",
            "           5       0.98      0.98      0.98        48\n",
            "           6       1.00      1.00      1.00        52\n",
            "           7       1.00      1.00      1.00        48\n",
            "           8       0.98      0.98      0.98        48\n",
            "           9       0.98      0.98      0.98        47\n",
            "\n",
            "    accuracy                           0.99       450\n",
            "   macro avg       0.99      0.99      0.99       450\n",
            "weighted avg       0.99      0.99      0.99       450\n",
            "\n"
          ],
          "name": "stdout"
        }
      ]
    },
    {
      "cell_type": "markdown",
      "metadata": {
        "id": "dl0pDbv2NyEk",
        "colab_type": "text"
      },
      "source": [
        "#### Micro vs. macro average\n",
        "\n",
        "| class  | recall  |\n",
        "|--------|---------|\n",
        "| orange | 1/5 = 0.2 |\n",
        "| lemon  | 1/2 = 0.5 |\n",
        "| apple  | 2/2 = 1.0 |\n",
        "\n",
        "* **Macro-average**: Each class has equal weight;\n",
        " 1. compute metric within each class;\n",
        " 2. average resulting metrics across classes.\n",
        "\n",
        " - In macro-average recall each class has equal weight;\n",
        "\n",
        "  $Macro \\space average \\space recall: (0.2+0.5+1)/3 = 0.57$\n",
        "\n",
        "* **Micro-average**: Each instance has equal weight and largest classes have most influence;\n",
        " 1. aggregate outcomes across all classes;\n",
        " 2. compute metric with aggregate outcomes.\n",
        " $Micro \\space average \\space recall: 4/9 = 0.44$\n",
        "\n",
        " > We treat the entire set of results as an aggregate outcome.\n",
        "\n",
        "* If the classes have about the same number of instances, macro and micro-average will be about the same;\n",
        "\n",
        "* If some classes are much larger (more instances) than others, and you want to:\n",
        " - Weight your metric toward the largest ones, use **micro-averaging**;\n",
        " - Weight your metric toward the smallest ones, use **macro-averaging**;\n",
        "\n",
        "* If the micro-average is much lower than the macro-average then examine the larger classes for poor metric performance;\n",
        "\n",
        "* If the macro-average is much lower than the micro-average then examine the smaller classes for poor metric performance."
      ]
    },
    {
      "cell_type": "code",
      "metadata": {
        "id": "eDXjJItkNrCW",
        "colab_type": "code",
        "colab": {
          "base_uri": "https://localhost:8080/",
          "height": 52
        },
        "outputId": "437b8c83-301a-4299-a45f-4572052d8605"
      },
      "source": [
        "# Micro vs. macro-averaged metrics\n",
        "print(\"Micro-averaged precision = {:.2f} (treat instances equally)\".format(\n",
        "    precision_score(y_test_mc, svm_predicted_mc, average=\"micro\")\n",
        "))\n",
        "\n",
        "print(\"Macro-averaged precision = {:.2f} (treat classes equally)\".format(\n",
        "    precision_score(y_test_mc, svm_predicted_mc, average=\"macro\")\n",
        "))"
      ],
      "execution_count": 23,
      "outputs": [
        {
          "output_type": "stream",
          "text": [
            "Micro-averaged precision = 0.99 (treat instances equally)\n",
            "Macro-averaged precision = 0.99 (treat classes equally)\n"
          ],
          "name": "stdout"
        }
      ]
    },
    {
      "cell_type": "code",
      "metadata": {
        "id": "_6wjMZPKSmi-",
        "colab_type": "code",
        "colab": {
          "base_uri": "https://localhost:8080/",
          "height": 52
        },
        "outputId": "043f191e-0cf2-4ee7-963a-1a0c918ee2c0"
      },
      "source": [
        "print(\"Micro-averaged f1 = {:.2f} (treat instances equally)\".format(\n",
        "    f1_score(y_test_mc, svm_predicted_mc, average=\"micro\")\n",
        "))\n",
        "\n",
        "print(\"Macro-averaged f1 = {:.2f} (treat classes equally)\".format(\n",
        "    f1_score(y_test_mc, svm_predicted_mc, average=\"macro\")\n",
        "))"
      ],
      "execution_count": 24,
      "outputs": [
        {
          "output_type": "stream",
          "text": [
            "Micro-averaged f1 = 0.99 (treat instances equally)\n",
            "Macro-averaged f1 = 0.99 (treat classes equally)\n"
          ],
          "name": "stdout"
        }
      ]
    },
    {
      "cell_type": "markdown",
      "metadata": {
        "id": "Cfi2kBisS7L5",
        "colab_type": "text"
      },
      "source": [
        "---\n",
        "\n",
        "### Regression evaluation\n",
        "\n",
        "#### Regression metrics\n",
        "\n",
        "* Typically `r2_score` is enough\n",
        " - Reminder: computes how well future instances will be predicted;\n",
        " - Best possible score is 1;\n",
        " - Constant prediction score is 0.\n",
        "\n",
        "* Alternative metrics include:\n",
        " - `mean_absolute_error` - mean absolute difference of target and predicted values;\n",
        " > Corresponds to the expected value of L1 norm loss.\n",
        " - `mean_squared_error` - mean  difference of target and predicted values;\n",
        " > Correspond to the expected value of L2 norm loss.\n",
        " - `median_absolute_error` - robust ot outliers.\n",
        "\n",
        "#### Dummy regressors\n",
        "\n",
        "* As in classification, comparison to a \"dummy\" prediction model that uses a fixed rule can be useful. For this, scikit-learn provides dummy regressors."
      ]
    },
    {
      "cell_type": "code",
      "metadata": {
        "id": "mjqg9wzSSyeB",
        "colab_type": "code",
        "colab": {
          "base_uri": "https://localhost:8080/",
          "height": 353
        },
        "outputId": "6b876ee4-aa5d-473f-a4b8-a1e9ebc9e2a1"
      },
      "source": [
        "from sklearn.metrics import mean_squared_error, r2_score\n",
        "from sklearn.linear_model import LinearRegression\n",
        "from sklearn.dummy import DummyRegressor\n",
        "from sklearn import datasets\n",
        "\n",
        "diabetes = datasets.load_diabetes()\n",
        "\n",
        "X = diabetes.data[:, None, 6]\n",
        "y = diabetes.target\n",
        "\n",
        "X_train, X_test, y_train, y_test = train_test_split(X, y, random_state=0)\n",
        "\n",
        "lm = LinearRegression().fit(X_train, y_train)\n",
        "lm_dummy_mean = DummyRegressor(strategy=\"mean\").fit(X_train, y_train)\n",
        "\n",
        "y_predict = lm.predict(X_test)\n",
        "y_predict_dummy_mean = lm_dummy_mean.predict(X_test)\n",
        "\n",
        "print(\"Linear model, coefficients\", lm.coef_)\n",
        "print(\"Mean squared error (dummy): {:.2f}\".format(\n",
        "    mean_squared_error(y_test, y_predict_dummy_mean)\n",
        "))\n",
        "print(\"Mean squared error (linear model): {:.2f}\".format(\n",
        "    mean_squared_error(y_test, y_predict)\n",
        "))\n",
        "print(\"r2_score (dummy): {:.2f}\".format(\n",
        "    r2_score(y_test, y_predict_dummy_mean)\n",
        "))\n",
        "print(\"r2_score (linear model): {:.2f}\".format(\n",
        "    r2_score(y_test, y_predict)\n",
        "))\n",
        "\n",
        "plt.scatter(X_test, y_test, color=\"black\")\n",
        "plt.plot(X_test, y_predict, color=\"green\", linewidth=2)\n",
        "plt.plot(X_test, y_predict_dummy_mean, color=\"red\", linestyle=\"dashed\",\n",
        "         linewidth=2, label=\"dummy\")\n",
        "plt.show()\n"
      ],
      "execution_count": 25,
      "outputs": [
        {
          "output_type": "stream",
          "text": [
            "Linear model, coefficients [-698.80206267]\n",
            "Mean squared error (dummy): 4965.13\n",
            "Mean squared error (linear model): 4646.74\n",
            "r2_score (dummy): -0.00\n",
            "r2_score (linear model): 0.06\n"
          ],
          "name": "stdout"
        },
        {
          "output_type": "display_data",
          "data": {
            "image/png": "[encoded data removed]",
            "text/plain": [
              "<Figure size 432x288 with 1 Axes>"
            ]
          },
          "metadata": {
            "tags": [],
            "needs_background": "light"
          }
        }
      ]
    },
    {
      "cell_type": "markdown",
      "metadata": {
        "id": "wMCCTNiSg9eB",
        "colab_type": "text"
      },
      "source": [
        "#### Dummy regressors\n",
        "\n",
        "* The `DummyRegressor` class implements four simple baseline rules for regression, using the `strategy`parameter:\n",
        " - `mean` predicts the mean of the training target values;\n",
        " - `median` predicts the median of the training target values;\n",
        " - `quantile` predicts a user-provided quantile of the training target values;\n",
        " > e.g. value at $75^{th}$ percentile.\n",
        " - `constant` value provided by the user.\n",
        "\n",
        "#### Practical Guide to Controlled Experiments on the Web (optional)\n",
        "Beyond the essential evaluation metrics covered in this course, online controlled experiments, which involve A-B testing and other techniques, are perhaps the most important way that machine learning algorithms are evaluated for real-world use in Web and other online applications. This article by Ron Kohavi, Randal Henne, and Dan Sommerfield, reviews the key points of running controlled experiments, along with important engineering issues and limitations to keep in mind when using them.\n",
        "\n",
        "Kohavi, R., Henne, R. M., & Sommerfield, D. (2007). [Practical guide to controlled experiments on the web](https://ai.stanford.edu/~ronnyk/2007GuideControlledExperiments.pdf). Proceedings of the 13th ACM SIGKDD international conference on Knowledge discovery and data mining - KDD '07. doi:10.1145/1281192.1281295\n",
        "\n",
        "---\n",
        "\n",
        "### Model selection: Optimizing classifiers for different evaluation metrics\n",
        "\n",
        "#### Model selection using evaluation metrics\n",
        "\n",
        "* Train/test on same data\n",
        " - Single metric;\n",
        " - Typically overfits and likely won't generalize well to new data;\n",
        " - Can serve as a sanity check: low accuracy on the training set may indicate an implementation problem.\n",
        "\n",
        "* Single train/test split\n",
        " - Single metric;\n",
        " - Speed and simplicity;\n",
        " - Lack of variance information.\n",
        "\n",
        "* K-fold cross-validation\n",
        " - K train-test split;\n",
        " - Average metric over all splits;\n",
        " - Can be combined with parameter grid search: GridSearchCV (cv=3).\n"
      ]
    },
    {
      "cell_type": "code",
      "metadata": {
        "id": "WuYwEqBZeAwI",
        "colab_type": "code",
        "colab": {
          "base_uri": "https://localhost:8080/",
          "height": 90
        },
        "outputId": "7128cf02-f595-42dd-cd35-79cd1bf6e75d"
      },
      "source": [
        "# Cross-validation example\n",
        "from sklearn.model_selection import cross_val_score\n",
        "from sklearn.svm import SVC\n",
        "\n",
        "dataset = load_digits()\n",
        "\n",
        "X, y = dataset.data, dataset.target == 1\n",
        "clf = SVC(kernel=\"linear\", C=1)\n",
        "\n",
        "print(\"Cross-validation (accuracy)\", cross_val_score(clf, X, y, cv=5))\n",
        "print(\"Cross-validation (AUC)\", cross_val_score(clf, X, y, cv=5, scoring=\"roc_auc\"))\n",
        "print(\"Cross-validation (recall)\", cross_val_score(clf, X, y, cv=5, scoring=\"recall\"))"
      ],
      "execution_count": 26,
      "outputs": [
        {
          "output_type": "stream",
          "text": [
            "Cross-validation (accuracy) [0.91944444 0.98611111 0.97214485 0.97493036 0.96935933]\n",
            "Cross-validation (AUC) [0.9641871  0.9976571  0.99372205 0.99699002 0.98675611]\n",
            "Cross-validation (recall) [0.81081081 0.89189189 0.83333333 0.83333333 0.83333333]\n"
          ],
          "name": "stdout"
        }
      ]
    },
    {
      "cell_type": "code",
      "metadata": {
        "id": "FvM7rM-3Uew8",
        "colab_type": "code",
        "colab": {
          "base_uri": "https://localhost:8080/",
          "height": 105
        },
        "outputId": "26455a95-37d1-4ff6-c266-71de7c1231b5"
      },
      "source": [
        "# Grid search example\n",
        "from sklearn.model_selection import GridSearchCV\n",
        "from sklearn.metrics import roc_auc_score\n",
        "\n",
        "X_train, X_test, y_train, y_test = train_test_split(X,y,random_state=0)\n",
        "\n",
        "clf = SVC(kernel=\"rbf\")\n",
        "grid_values = {\"gamma\": [0.001, 0.01, 0.05, 0.1, 1, 10, 100]}\n",
        "\n",
        "grid_clf_acc = GridSearchCV(clf, param_grid=grid_values)\n",
        "grid_clf_acc.fit(X_train, y_train)\n",
        "y_decision_fn_scores_acc = grid_clf_acc.decision_function(X_test)\n",
        "\n",
        "print(\"Grid best parameter (max. accuracy): \", grid_clf_acc.best_params_)\n",
        "print(\"Grid best score (accuracy): \", grid_clf_acc.best_score_)\n",
        "\n",
        "grid_clf_auc = GridSearchCV(clf, param_grid=grid_values, scoring=\"roc_auc\")\n",
        "grid_clf_auc.fit(X_train, y_train)\n",
        "y_decision_fn_scores_auc = grid_clf_auc.decision_function(X_test)\n",
        "\n",
        "print(\"Test set AUC: \", roc_auc_score(y_test, y_decision_fn_scores_auc))\n",
        "print(\"Grid best parameter (max. AUC): \", grid_clf_auc.best_params_)\n",
        "print(\"Grid best score (AUC): \", grid_clf_auc.best_score_)"
      ],
      "execution_count": 28,
      "outputs": [
        {
          "output_type": "stream",
          "text": [
            "Grid best parameter (max. accuracy):  {'gamma': 0.001}\n",
            "Grid best score (accuracy):  0.9985157648354676\n",
            "Test set AUC:  0.99982858122393\n",
            "Grid best parameter (max. AUC):  {'gamma': 0.001}\n",
            "Grid best score (AUC):  1.0\n"
          ],
          "name": "stdout"
        }
      ]
    },
    {
      "cell_type": "code",
      "metadata": {
        "id": "ONKys3ShWoIc",
        "colab_type": "code",
        "colab": {
          "base_uri": "https://localhost:8080/",
          "height": 870
        },
        "outputId": "b7b29b8a-3e0c-4c0a-df3d-4586142dd58a"
      },
      "source": [
        "# Evaluation metrics supported for model selection\n",
        "\n",
        "from sklearn.metrics.scorer import SCORERS\n",
        "\n",
        "sorted(list(SCORERS.keys()))"
      ],
      "execution_count": 29,
      "outputs": [
        {
          "output_type": "execute_result",
          "data": {
            "text/plain": [
              "['accuracy',\n",
              " 'adjusted_mutual_info_score',\n",
              " 'adjusted_rand_score',\n",
              " 'average_precision',\n",
              " 'balanced_accuracy',\n",
              " 'completeness_score',\n",
              " 'explained_variance',\n",
              " 'f1',\n",
              " 'f1_macro',\n",
              " 'f1_micro',\n",
              " 'f1_samples',\n",
              " 'f1_weighted',\n",
              " 'fowlkes_mallows_score',\n",
              " 'homogeneity_score',\n",
              " 'jaccard',\n",
              " 'jaccard_macro',\n",
              " 'jaccard_micro',\n",
              " 'jaccard_samples',\n",
              " 'jaccard_weighted',\n",
              " 'max_error',\n",
              " 'mutual_info_score',\n",
              " 'neg_brier_score',\n",
              " 'neg_log_loss',\n",
              " 'neg_mean_absolute_error',\n",
              " 'neg_mean_gamma_deviance',\n",
              " 'neg_mean_poisson_deviance',\n",
              " 'neg_mean_squared_error',\n",
              " 'neg_mean_squared_log_error',\n",
              " 'neg_median_absolute_error',\n",
              " 'neg_root_mean_squared_error',\n",
              " 'normalized_mutual_info_score',\n",
              " 'precision',\n",
              " 'precision_macro',\n",
              " 'precision_micro',\n",
              " 'precision_samples',\n",
              " 'precision_weighted',\n",
              " 'r2',\n",
              " 'recall',\n",
              " 'recall_macro',\n",
              " 'recall_micro',\n",
              " 'recall_samples',\n",
              " 'recall_weighted',\n",
              " 'roc_auc',\n",
              " 'roc_auc_ovo',\n",
              " 'roc_auc_ovo_weighted',\n",
              " 'roc_auc_ovr',\n",
              " 'roc_auc_ovr_weighted',\n",
              " 'v_measure_score']"
            ]
          },
          "metadata": {
            "tags": []
          },
          "execution_count": 29
        }
      ]
    },
    {
      "cell_type": "code",
      "metadata": {
        "id": "EboZ_uwfXII_",
        "colab_type": "code",
        "colab": {
          "base_uri": "https://localhost:8080/",
          "height": 1000
        },
        "outputId": "928c9ac9-3ebc-49c9-c80d-119d21c4d551"
      },
      "source": [
        "jitter_delta = 0.25\n",
        "X_twovar_train = X_train[:,[20,59]] + np.random.rand(X_train.shape[0], 2) - jitter_delta\n",
        "X_twovar_test = X_test[:,[20,59]] + np.random.rand(X_test.shape[0], 2) - jitter_delta\n",
        "\n",
        "clf = SVC(kernel=\"linear\").fit(X_twovar_train, y_train)\n",
        "grid_values = {\"class_weight\":[\n",
        "                               \"balanced\", {1:2}, {1:3}, {1:4}, {1:5}, {1:10}, {1:20}, {1:50}]}\n",
        "plt.figure()\n",
        "\n",
        "for i, eval_metric in enumerate((\"precision\", \"recall\", \"f1\", \"roc_auc\")):\n",
        "  grid_clf_custom = GridSearchCV(clf, param_grid=grid_values, scoring=eval_metric)\n",
        "  grid_clf_custom.fit(X_twovar_train, y_train)\n",
        "  print(\"Grid best parameter (max. {0}): {1}\".format(\n",
        "      eval_metric, grid_clf_custom.best_score_\n",
        "  ))\n",
        "  print(\"Grid best score ({0}): {1}\".format(\n",
        "      eval_metric, grid_clf_custom.best_score_\n",
        "  ))\n",
        "  plt.subplot(2,2,i+1)\n",
        "  plt.subplots_adjust(wspace=0.3, hspace=0.3)\n",
        "  plot_class_regions_for_classifier(grid_clf_custom, X_twovar_test, y_test)\n",
        "  plt.title(eval_metric + \"-oriented SVC\")\n",
        "\n",
        "plt.show()"
      ],
      "execution_count": 31,
      "outputs": [
        {
          "output_type": "stream",
          "text": [
            "/usr/local/lib/python3.6/dist-packages/sklearn/model_selection/_validation.py:536: FitFailedWarning: Estimator fit failed. The score on this train-test partition for these parameters will be set to nan. Details: \n",
            "ValueError: class_weight must be dict, 'balanced', or None, got: 'balances'\n",
            "\n",
            "  FitFailedWarning)\n",
            "/usr/local/lib/python3.6/dist-packages/sklearn/model_selection/_validation.py:536: FitFailedWarning: Estimator fit failed. The score on this train-test partition for these parameters will be set to nan. Details: \n",
            "ValueError: class_weight must be dict, 'balanced', or None, got: 'balances'\n",
            "\n",
            "  FitFailedWarning)\n",
            "/usr/local/lib/python3.6/dist-packages/sklearn/model_selection/_validation.py:536: FitFailedWarning: Estimator fit failed. The score on this train-test partition for these parameters will be set to nan. Details: \n",
            "ValueError: class_weight must be dict, 'balanced', or None, got: 'balances'\n",
            "\n",
            "  FitFailedWarning)\n",
            "/usr/local/lib/python3.6/dist-packages/sklearn/model_selection/_validation.py:536: FitFailedWarning: Estimator fit failed. The score on this train-test partition for these parameters will be set to nan. Details: \n",
            "ValueError: class_weight must be dict, 'balanced', or None, got: 'balances'\n",
            "\n",
            "  FitFailedWarning)\n",
            "/usr/local/lib/python3.6/dist-packages/sklearn/model_selection/_validation.py:536: FitFailedWarning: Estimator fit failed. The score on this train-test partition for these parameters will be set to nan. Details: \n",
            "ValueError: class_weight must be dict, 'balanced', or None, got: 'balances'\n",
            "\n",
            "  FitFailedWarning)\n"
          ],
          "name": "stderr"
        },
        {
          "output_type": "stream",
          "text": [
            "Grid best parameter (max. precision): 0.5271470588235295\n",
            "Grid best score (precision): 0.5271470588235295\n"
          ],
          "name": "stdout"
        },
        {
          "output_type": "display_data",
          "data": {
            "image/png": "[encoded data removed]",
            "text/plain": [
              "<Figure size 432x288 with 1 Axes>"
            ]
          },
          "metadata": {
            "tags": [],
            "needs_background": "light"
          }
        },
        {
          "output_type": "display_data",
          "data": {
            "image/png": "[encoded data removed]",
            "text/plain": [
              "<Figure size 432x288 with 1 Axes>"
            ]
          },
          "metadata": {
            "tags": [],
            "needs_background": "light"
          }
        },
        {
          "output_type": "stream",
          "text": [
            "/usr/local/lib/python3.6/dist-packages/sklearn/model_selection/_validation.py:536: FitFailedWarning: Estimator fit failed. The score on this train-test partition for these parameters will be set to nan. Details: \n",
            "ValueError: class_weight must be dict, 'balanced', or None, got: 'balances'\n",
            "\n",
            "  FitFailedWarning)\n",
            "/usr/local/lib/python3.6/dist-packages/sklearn/model_selection/_validation.py:536: FitFailedWarning: Estimator fit failed. The score on this train-test partition for these parameters will be set to nan. Details: \n",
            "ValueError: class_weight must be dict, 'balanced', or None, got: 'balances'\n",
            "\n",
            "  FitFailedWarning)\n",
            "/usr/local/lib/python3.6/dist-packages/sklearn/model_selection/_validation.py:536: FitFailedWarning: Estimator fit failed. The score on this train-test partition for these parameters will be set to nan. Details: \n",
            "ValueError: class_weight must be dict, 'balanced', or None, got: 'balances'\n",
            "\n",
            "  FitFailedWarning)\n",
            "/usr/local/lib/python3.6/dist-packages/sklearn/model_selection/_validation.py:536: FitFailedWarning: Estimator fit failed. The score on this train-test partition for these parameters will be set to nan. Details: \n",
            "ValueError: class_weight must be dict, 'balanced', or None, got: 'balances'\n",
            "\n",
            "  FitFailedWarning)\n",
            "/usr/local/lib/python3.6/dist-packages/sklearn/model_selection/_validation.py:536: FitFailedWarning: Estimator fit failed. The score on this train-test partition for these parameters will be set to nan. Details: \n",
            "ValueError: class_weight must be dict, 'balanced', or None, got: 'balances'\n",
            "\n",
            "  FitFailedWarning)\n"
          ],
          "name": "stderr"
        },
        {
          "output_type": "stream",
          "text": [
            "Grid best parameter (max. recall): 0.9285714285714285\n",
            "Grid best score (recall): 0.9285714285714285\n"
          ],
          "name": "stdout"
        },
        {
          "output_type": "display_data",
          "data": {
            "image/png": "[encoded data removed]",
            "text/plain": [
              "<Figure size 432x288 with 1 Axes>"
            ]
          },
          "metadata": {
            "tags": [],
            "needs_background": "light"
          }
        },
        {
          "output_type": "display_data",
          "data": {
            "image/png": "[encoded data removed]",
            "text/plain": [
              "<Figure size 432x288 with 1 Axes>"
            ]
          },
          "metadata": {
            "tags": [],
            "needs_background": "light"
          }
        },
        {
          "output_type": "stream",
          "text": [
            "/usr/local/lib/python3.6/dist-packages/sklearn/model_selection/_validation.py:536: FitFailedWarning: Estimator fit failed. The score on this train-test partition for these parameters will be set to nan. Details: \n",
            "ValueError: class_weight must be dict, 'balanced', or None, got: 'balances'\n",
            "\n",
            "  FitFailedWarning)\n",
            "/usr/local/lib/python3.6/dist-packages/sklearn/model_selection/_validation.py:536: FitFailedWarning: Estimator fit failed. The score on this train-test partition for these parameters will be set to nan. Details: \n",
            "ValueError: class_weight must be dict, 'balanced', or None, got: 'balances'\n",
            "\n",
            "  FitFailedWarning)\n",
            "/usr/local/lib/python3.6/dist-packages/sklearn/model_selection/_validation.py:536: FitFailedWarning: Estimator fit failed. The score on this train-test partition for these parameters will be set to nan. Details: \n",
            "ValueError: class_weight must be dict, 'balanced', or None, got: 'balances'\n",
            "\n",
            "  FitFailedWarning)\n",
            "/usr/local/lib/python3.6/dist-packages/sklearn/model_selection/_validation.py:536: FitFailedWarning: Estimator fit failed. The score on this train-test partition for these parameters will be set to nan. Details: \n",
            "ValueError: class_weight must be dict, 'balanced', or None, got: 'balances'\n",
            "\n",
            "  FitFailedWarning)\n",
            "/usr/local/lib/python3.6/dist-packages/sklearn/model_selection/_validation.py:536: FitFailedWarning: Estimator fit failed. The score on this train-test partition for these parameters will be set to nan. Details: \n",
            "ValueError: class_weight must be dict, 'balanced', or None, got: 'balances'\n",
            "\n",
            "  FitFailedWarning)\n"
          ],
          "name": "stderr"
        },
        {
          "output_type": "stream",
          "text": [
            "Grid best parameter (max. f1): 0.5369334978145606\n",
            "Grid best score (f1): 0.5369334978145606\n"
          ],
          "name": "stdout"
        },
        {
          "output_type": "display_data",
          "data": {
            "image/png": "[encoded data removed]",
            "text/plain": [
              "<Figure size 432x288 with 1 Axes>"
            ]
          },
          "metadata": {
            "tags": [],
            "needs_background": "light"
          }
        },
        {
          "output_type": "display_data",
          "data": {
            "image/png": "[encoded data removed]",
            "text/plain": [
              "<Figure size 432x288 with 1 Axes>"
            ]
          },
          "metadata": {
            "tags": [],
            "needs_background": "light"
          }
        },
        {
          "output_type": "stream",
          "text": [
            "/usr/local/lib/python3.6/dist-packages/sklearn/model_selection/_validation.py:536: FitFailedWarning: Estimator fit failed. The score on this train-test partition for these parameters will be set to nan. Details: \n",
            "ValueError: class_weight must be dict, 'balanced', or None, got: 'balances'\n",
            "\n",
            "  FitFailedWarning)\n",
            "/usr/local/lib/python3.6/dist-packages/sklearn/model_selection/_validation.py:536: FitFailedWarning: Estimator fit failed. The score on this train-test partition for these parameters will be set to nan. Details: \n",
            "ValueError: class_weight must be dict, 'balanced', or None, got: 'balances'\n",
            "\n",
            "  FitFailedWarning)\n",
            "/usr/local/lib/python3.6/dist-packages/sklearn/model_selection/_validation.py:536: FitFailedWarning: Estimator fit failed. The score on this train-test partition for these parameters will be set to nan. Details: \n",
            "ValueError: class_weight must be dict, 'balanced', or None, got: 'balances'\n",
            "\n",
            "  FitFailedWarning)\n",
            "/usr/local/lib/python3.6/dist-packages/sklearn/model_selection/_validation.py:536: FitFailedWarning: Estimator fit failed. The score on this train-test partition for these parameters will be set to nan. Details: \n",
            "ValueError: class_weight must be dict, 'balanced', or None, got: 'balances'\n",
            "\n",
            "  FitFailedWarning)\n",
            "/usr/local/lib/python3.6/dist-packages/sklearn/model_selection/_validation.py:536: FitFailedWarning: Estimator fit failed. The score on this train-test partition for these parameters will be set to nan. Details: \n",
            "ValueError: class_weight must be dict, 'balanced', or None, got: 'balances'\n",
            "\n",
            "  FitFailedWarning)\n"
          ],
          "name": "stderr"
        },
        {
          "output_type": "stream",
          "text": [
            "Grid best parameter (max. roc_auc): 0.8930754619174083\n",
            "Grid best score (roc_auc): 0.8930754619174083\n"
          ],
          "name": "stdout"
        },
        {
          "output_type": "display_data",
          "data": {
            "image/png": "[encoded data removed]",
            "text/plain": [
              "<Figure size 432x288 with 1 Axes>"
            ]
          },
          "metadata": {
            "tags": [],
            "needs_background": "light"
          }
        },
        {
          "output_type": "display_data",
          "data": {
            "image/png": "[encoded data removed]",
            "text/plain": [
              "<Figure size 432x288 with 1 Axes>"
            ]
          },
          "metadata": {
            "tags": [],
            "needs_background": "light"
          }
        },
        {
          "output_type": "display_data",
          "data": {
            "image/png": "[encoded data removed]",
            "text/plain": [
              "<Figure size 432x288 with 1 Axes>"
            ]
          },
          "metadata": {
            "tags": [],
            "needs_background": "light"
          }
        }
      ]
    },
    {
      "cell_type": "code",
      "metadata": {
        "id": "z4A7V86jb0Ih",
        "colab_type": "code",
        "colab": {
          "base_uri": "https://localhost:8080/",
          "height": 885
        },
        "outputId": "07ce3a61-7ccd-491b-96d9-a419fa508e08"
      },
      "source": [
        "# Precision-recall curve for the default SVC classifier (with balanced class weights)\n",
        "from sklearn.metrics import precision_recall_curve\n",
        "\n",
        "jitter_delta = 0.25\n",
        "X_twovar_train = X_train[:, [20, 59]] + np.random.rand(X_train.shape[0], 2) - jitter_delta\n",
        "X_twovar_test = X_test[:, [20, 59]] + np.random.rand(X_test.shape[0], 2) - jitter_delta\n",
        "\n",
        "clf = SVC(kernel=\"linear\", class_weight=\"balanced\").fit(X_twovar_train, y_train)\n",
        "\n",
        "y_scores = clf.decision_function(X_twovar_test)\n",
        "\n",
        "precision, recall, thresholds = precision_recall_curve(y_test, y_scores)\n",
        "closest_zero = np.argmin(np.abs(thresholds))\n",
        "closest_zero_p = precision[closest_zero]\n",
        "closest_zero_r = recall[closest_zero]\n",
        "\n",
        "plt.figure()\n",
        "plot_class_regions_for_classifier(clf, X_twovar_test, y_test)\n",
        "plt.title(\"SVC, class_weight = 'balanced, optimized for accuracy\")\n",
        "plt.show()\n",
        "\n",
        "plt.figure()\n",
        "plt.xlim([0.0, 1.01])\n",
        "plt.ylim([0.0, 1.01])\n",
        "plt.title(\"Precision-recall curve: SVC, class_weight='balanced'\")\n",
        "plt.plot(precision, recall, label=\"Precision-recall curve\")\n",
        "plt.plot(closest_zero_p, closest_zero_r, \"o\", markersize=12, fillstyle=\"none\",\n",
        "         c=\"r\", mew=3)\n",
        "plt.xlabel(\"Precision\", fontsize=16)\n",
        "plt.ylabel(\"Recall\", fontsize=16)\n",
        "plt.axes().set_aspect(\"equal\")\n",
        "plt.show()\n",
        "\n",
        "print(\"At zero threshold, precision: {:.2f}, recall: {:.2f}\".format(\n",
        "    closest_zero_p, closest_zero_r\n",
        "))"
      ],
      "execution_count": 35,
      "outputs": [
        {
          "output_type": "display_data",
          "data": {
            "text/plain": [
              "<Figure size 432x288 with 0 Axes>"
            ]
          },
          "metadata": {
            "tags": []
          }
        },
        {
          "output_type": "display_data",
          "data": {
            "image/png": "[encoded data removed]",
            "text/plain": [
              "<Figure size 432x288 with 1 Axes>"
            ]
          },
          "metadata": {
            "tags": [],
            "needs_background": "light"
          }
        },
        {
          "output_type": "display_data",
          "data": {
            "image/png": "[encoded data removed]",
            "text/plain": [
              "<Figure size 432x288 with 1 Axes>"
            ]
          },
          "metadata": {
            "tags": [],
            "needs_background": "light"
          }
        },
        {
          "output_type": "stream",
          "text": [
            "/usr/local/lib/python3.6/dist-packages/ipykernel_launcher.py:31: MatplotlibDeprecationWarning: Adding an axes using the same arguments as a previous axes currently reuses the earlier instance.  In a future version, a new instance will always be created and returned.  Meanwhile, this warning can be suppressed, and the future behavior ensured, by passing a unique label to each axes instance.\n"
          ],
          "name": "stderr"
        },
        {
          "output_type": "display_data",
          "data": {
            "image/png": "[encoded data removed]",
            "text/plain": [
              "<Figure size 432x288 with 1 Axes>"
            ]
          },
          "metadata": {
            "tags": [],
            "needs_background": "light"
          }
        },
        {
          "output_type": "stream",
          "text": [
            "At zero threshold, precision: 0.22, recall: 0.74\n"
          ],
          "name": "stdout"
        }
      ]
    },
    {
      "cell_type": "markdown",
      "metadata": {
        "id": "RjqTphHrgTme",
        "colab_type": "text"
      },
      "source": [
        "* The red circle represents the precision-recall trade-off achieved at the zero score mark, which is the actual decision boundary chosen for the trained classifier.\n",
        "\n",
        "#### Training, validation and test framework for model selection and evaluation\n",
        "\n",
        "* Using only cross-validation or a test set to do model selection may lead to more subtle overfitting/optimistic generalization estimates;\n",
        "\n",
        "* Instead, use three data splits:\n",
        " 1. training set (model building);\n",
        " 2. validation set (model selection);\n",
        " 3. test set (final evaluation).\n",
        "\n",
        "* In practice:\n",
        " 1. create a initial training/test split;\n",
        " 2. do cross-validation on the training data for model/parameter selection;\n",
        " 3. Save the held-out test set for final model evaluation.\n",
        "\n",
        "#### Concluding notes\n",
        "\n",
        "* Accuracy is often not the right evaluation metric for many real world machine learning tasks;\n",
        " - FP and FN may need to be treated very differently;\n",
        " - Make sure you understand the needs of your application and choose an evaluation metric that matches your application, user, or business goals.\n",
        "\n",
        "* Examples of additional evaluation methods include:\n",
        " - Learning curve: How much does accuracy (or other metric) change as a function of the amount of training data?\n",
        " - Sensitivity analysis: How much does accuracy (or other metric) change as a function of key learning parameter values?\n",
        " > how robust the model is to choice of parameters.\n",
        "\n",
        "---\n",
        "\n",
        "## Module 3 quiz\n",
        "\n",
        "1. A supervised learning model has been built to predict whether someone is infected with a new strain of a virus. The probability of any one person having the virus is 1%. Using accuracy as a metric, what would be a good choice for a baseline accuracy score that the new model would want to outperform?\n",
        "\n",
        "> 0.99\n",
        "\n",
        "2. Compute the accuracy to three decimal places\n",
        "\n",
        "$ accuracy = \\frac{TN+TP}{TN+TP+FN+FP} = \\frac{400+26}{400+26+17+7} = 0.95$\n",
        "\n",
        "$classification error = \\frac{FP+FN}{TN+TP+FN+FP} = 1-accuracy = 0.06$\n",
        "\n",
        "$recall = \\frac{TP}{TP+FN} = 0.6$\n",
        "\n",
        "* Recall is also known as: tru positive rate (TPR), sensitivity and probability of detection;\n",
        "\n",
        "$precision = \\frac{TP}{TP+FP} = 0.79$\n",
        "\n",
        "* To increase **precision** we must either increase the number of TP or reduce the FP rate;\n",
        "\n",
        "$FPR = \\frac{FP}{TN+FP} = 0.02$"
      ]
    },
    {
      "cell_type": "code",
      "metadata": {
        "id": "HDTQvIodfsWw",
        "colab_type": "code",
        "colab": {
          "base_uri": "https://localhost:8080/",
          "height": 34
        },
        "outputId": "76e67b78-34be-4080-9008-82105ab58cfe"
      },
      "source": [
        "TP = 96\n",
        "TN = 19\n",
        "FN = 4\n",
        "FP = 8\n",
        "acc = (TN+TP) / (TN+TP+FN+FP)\n",
        "acc"
      ],
      "execution_count": 41,
      "outputs": [
        {
          "output_type": "execute_result",
          "data": {
            "text/plain": [
              "0.905511811023622"
            ]
          },
          "metadata": {
            "tags": []
          },
          "execution_count": 41
        }
      ]
    },
    {
      "cell_type": "markdown",
      "metadata": {
        "id": "TSwZ_O3Bs0Sz",
        "colab_type": "text"
      },
      "source": [
        "3. Compute the precision to three decimal places"
      ]
    },
    {
      "cell_type": "code",
      "metadata": {
        "id": "mz9ji49esrOj",
        "colab_type": "code",
        "colab": {
          "base_uri": "https://localhost:8080/",
          "height": 34
        },
        "outputId": "a6084de9-d941-457b-8e7c-b921f8afddbd"
      },
      "source": [
        "prec = TP / (TP+FP)\n",
        "prec"
      ],
      "execution_count": 42,
      "outputs": [
        {
          "output_type": "execute_result",
          "data": {
            "text/plain": [
              "0.9230769230769231"
            ]
          },
          "metadata": {
            "tags": []
          },
          "execution_count": 42
        }
      ]
    },
    {
      "cell_type": "markdown",
      "metadata": {
        "id": "ryPL6clpy1eZ",
        "colab_type": "text"
      },
      "source": [
        "4. Compute the recall to three decimal places\n"
      ]
    },
    {
      "cell_type": "code",
      "metadata": {
        "id": "1wPLfub-yzef",
        "colab_type": "code",
        "colab": {
          "base_uri": "https://localhost:8080/",
          "height": 34
        },
        "outputId": "735c62d1-9df7-440b-e696-069e4b6ca7a0"
      },
      "source": [
        "rec = TP / (TP + FN)\n",
        "rec"
      ],
      "execution_count": 43,
      "outputs": [
        {
          "output_type": "execute_result",
          "data": {
            "text/plain": [
              "0.96"
            ]
          },
          "metadata": {
            "tags": []
          },
          "execution_count": 43
        }
      ]
    },
    {
      "cell_type": "markdown",
      "metadata": {
        "id": "FQz8Z94gy_o2",
        "colab_type": "text"
      },
      "source": [
        "5. Using the fitted model `m` create a precision-recall curve to answer the following question:\n",
        "\n",
        "For the fitted model `m`, approximately what precision can we expect for a recall of 0.8?\n",
        "\n",
        "(Use y_test and X_test to compute the precision-recall curve. If you wish to view a plot, you can use `plt.show()` )\n",
        "\n",
        "```\n",
        "precision, recall, _= precision_recall_curve(y_test, m.predict(X_test))\n",
        "\n",
        "plt.plot(recall, precision)\n",
        "plt.xlabel(\"Recall\")\n",
        "plt.ylabel(\"Precision\")\n",
        "plt.ylim([0, 1])\n",
        "plt.xlim([0, 1])\n",
        "plt.show()\n",
        "\n",
        "0.6\n",
        "```\n",
        "\n",
        "6. Given the following models and AUC scores, match each model to its corresponding ROC curve.\n",
        "\n",
        "* Model 1 test set AUC score: 0.91\n",
        "* Model 2 test set AUC score: 0.50\n",
        "* Model 3 test set AUC score: 0.56\n",
        "\n",
        "> Model1 = roc1, model2 = roc3, model3 = roc2.\n",
        "\n",
        "7. Given the following models and accuracy scores, match each model to its corresponding ROC curve.\n",
        "\n",
        "* Model 1 test set accuracy: 0.91\n",
        "* Model 2 test set accuracy: 0.79\n",
        "* Model 3 test set accuracy: 0.72\n",
        "\n",
        "> Not enough information is given.\n",
        "\n",
        "8.Using the fitted model `m` what is the macro precision score?\n",
        "\n",
        "(Use y_test and X_test to compute the precision score.)\n",
        "\n",
        "```\n",
        "print(precision_score(y_test, m.predict(X_test), average=\"micro\"))\n",
        "\n",
        "0.744\n",
        "```\n",
        "\n",
        "9. Which of the following is true of the R-Squared metric?\n",
        "\n",
        "* The best possible score is 1.0;\n",
        "* A model that always predicts the mean of y would get a score of 0.\n",
        "\n",
        "10. In a future society, a machine is used to predict a crime before it occurs. If you were responsible for tuning this machine, what evaluation metric would you want to maximize to ensure no innocent people (people not about to commit a crime) are imprisoned (where crime is the positive label)?\n",
        "\n",
        "> Precision\n",
        "\n",
        "11. Consider the machine from the previous question. If you were responsible for tuning this machine, what evaluation metric would you want to maximize to ensure all criminals (people about to commit a crime) are imprisoned (where crime is the positive label)?\n",
        "\n",
        "> Recall\n",
        "\n",
        "12. A classifier is trained on an imbalanced multiclass dataset. After looking at the model’s precision scores, you find that the micro averaging is much smaller than the macro averaging score. Which of the following is most likely happening?\n",
        "\n",
        "> The model is probably misclassifying the frequent labels more than the infrequent labels.\n",
        "\n",
        "13. Using the already defined RBF SVC model `m`, run a grid search on the parameters C and gamma, for values [0.01, 0.1, 1, 10]. The grid search should find the model that best optimizes for recall. How much better is the recall of this model than the precision? (Compute recall - precision to 3 decimal places)\n",
        "\n",
        "(Use y_test and X_test to compute precision and recall.)\n",
        "\n",
        "```\n",
        "grid_val = {\"gamma\": [0.01, 0.1, 1, 10], \"C\":[0.01, 0.1, 1, 10]}\n",
        "clf = GridSearchCV(m, grid_val, scoring=\"recall\")\n",
        "clf.fit(X_train, y_train)\n",
        "y_pred = clf.best_estimator_.predict(X_test)\n",
        "recall = recall_score(y_test, y_pred, average=\"binary\")\n",
        "precision = precision_score(y_test, y_pred, average=\"binary\")\n",
        "print(recall-precision)\n",
        "\n",
        "0.52\n",
        "```\n",
        "\n",
        "14. Using the already defined RBF SVC model `m`, run a grid search on the parameters C and gamma, for values [0.01, 0.1, 1, 10]. The grid search should find the model that best optimizes for precision. How much better is the precision of this model than the recall? (Compute precision - recall to 3 decimal places)\n",
        "\n",
        "(Use y_test and X_test to compute precision and recall.)\n",
        "\n",
        "```\n",
        "grid_val = {\"gamma\": [0.01, 0.1, 1, 10], \"C\":[0.01, 0.1, 1, 10]}\n",
        "clf = GridSearchCV(m, grid_val, scoring=\"precision\")\n",
        "clf.fit(X_train, y_train)\n",
        "y_pred = clf.best_estimator_.predict(X_test)\n",
        "recall = recall_score(y_test, y_pred, average=\"binary\")\n",
        "precision = precision_score(y_test, y_pred, average=\"binary\")\n",
        "print(precision-recall)\n",
        "\n",
        "0.15\n",
        "```\n",
        "\n",
        "---\n",
        "\n",
        "## Assignment 3 - evaluation\n",
        "\n",
        "### Question 1\n",
        "Import the data from fraud_data.csv. What percentage of the observations in the dataset are instances of fraud?\n"
      ]
    },
    {
      "cell_type": "code",
      "metadata": {
        "id": "Q77mLrnC0Evl",
        "colab_type": "code",
        "colab": {}
      },
      "source": [
        "import numpy as np\n",
        "import pandas as pd"
      ],
      "execution_count": 0,
      "outputs": []
    },
    {
      "cell_type": "code",
      "metadata": {
        "id": "rO96M9Ghy830",
        "colab_type": "code",
        "colab": {
          "base_uri": "https://localhost:8080/",
          "height": 34
        },
        "outputId": "f57985fb-5ef4-4d68-b587-c2363bad875d"
      },
      "source": [
        "def answer_one():\n",
        "    \n",
        "  uri = \"https://raw.githubusercontent.com/tianhuaiyuan/Applied-machine-learning-in-python/master/fraud_data.csv\"\n",
        "  df = pd.read_csv(uri)\n",
        "  perc = df[df[\"Class\"] == 1].shape[0] / df[df[\"Class\"] == 0].shape[0]\n",
        "\n",
        "  return perc\n",
        "\n",
        "answer_one()"
      ],
      "execution_count": 45,
      "outputs": [
        {
          "output_type": "execute_result",
          "data": {
            "text/plain": [
              "0.016684632328818484"
            ]
          },
          "metadata": {
            "tags": []
          },
          "execution_count": 45
        }
      ]
    },
    {
      "cell_type": "code",
      "metadata": {
        "id": "eXk2uwzGAV3O",
        "colab_type": "code",
        "colab": {}
      },
      "source": [
        "# Use X_train, X_test, y_train, y_test for all of the following questions\n",
        "from sklearn.model_selection import train_test_split\n",
        "\n",
        "uri = \"https://raw.githubusercontent.com/tianhuaiyuan/Applied-machine-learning-in-python/master/fraud_data.csv\"  \n",
        "df = pd.read_csv(uri)\n",
        "\n",
        "X = df.iloc[:,:-1]\n",
        "y = df.iloc[:,-1]\n",
        "\n",
        "X_train, X_test, y_train, y_test = train_test_split(X, y, random_state=0)"
      ],
      "execution_count": 0,
      "outputs": []
    },
    {
      "cell_type": "markdown",
      "metadata": {
        "id": "d7AFvo7WAjpd",
        "colab_type": "text"
      },
      "source": [
        "### Question 2\n",
        "\n",
        "Using `X_train`, `X_test`, `y_train`, and `y_test` (as defined above), train a dummy classifier that classifies everything as the majority class of the training data. What is the accuracy of this classifier? What is the recall?\n",
        "\n",
        "*This function should a return a tuple with two floats, i.e. `(accuracy score, recall score)`.*"
      ]
    },
    {
      "cell_type": "code",
      "metadata": {
        "id": "gnTmEvUsAYQg",
        "colab_type": "code",
        "colab": {
          "base_uri": "https://localhost:8080/",
          "height": 34
        },
        "outputId": "c09f5d47-d9ce-4538-f3b7-b6c214360e1d"
      },
      "source": [
        "def answer_two():\n",
        "  from sklearn.dummy import DummyClassifier\n",
        "  from sklearn.metrics import recall_score, accuracy_score\n",
        "  \n",
        "  dummy_majority = DummyClassifier(strategy=\"most_frequent\").fit(X_train, y_train)\n",
        "  y_dummy_predictions = dummy_majority.predict(X_test)\n",
        "  \n",
        "  result = (accuracy_score(y_test, y_dummy_predictions),\n",
        "            recall_score(y_test, y_dummy_predictions))\n",
        "  \n",
        "  \n",
        "  return result\n",
        "answer_two()"
      ],
      "execution_count": 49,
      "outputs": [
        {
          "output_type": "execute_result",
          "data": {
            "text/plain": [
              "(0.9852507374631269, 0.0)"
            ]
          },
          "metadata": {
            "tags": []
          },
          "execution_count": 49
        }
      ]
    },
    {
      "cell_type": "markdown",
      "metadata": {
        "id": "yV-AjLosA2jv",
        "colab_type": "text"
      },
      "source": [
        "### Question 3\n",
        "\n",
        "Using X_train, X_test, y_train, y_test (as defined above), train a SVC classifer using the default parameters. What is the accuracy, recall, and precision of this classifier?\n",
        "\n",
        "*This function should a return a tuple with three floats, i.e. `(accuracy score, recall score, precision score)`.*"
      ]
    },
    {
      "cell_type": "code",
      "metadata": {
        "id": "DgpK7cu_A0fF",
        "colab_type": "code",
        "colab": {
          "base_uri": "https://localhost:8080/",
          "height": 34
        },
        "outputId": "4b2927cc-e9ed-4215-a8a0-7488853db3b1"
      },
      "source": [
        "def answer_three():\n",
        "  from sklearn.metrics import recall_score, precision_score, accuracy_score\n",
        "  from sklearn.svm import SVC\n",
        "\n",
        "  svm = SVC().fit(X_train, y_train)\n",
        "  y_predictions = svm.predict(X_test)\n",
        "  \n",
        "  result = (accuracy_score(y_test, y_predictions),\n",
        "            recall_score(y_test, y_predictions),\n",
        "            precision_score(y_test, y_predictions))\n",
        "  \n",
        "  return result\n",
        "answer_three()"
      ],
      "execution_count": 50,
      "outputs": [
        {
          "output_type": "execute_result",
          "data": {
            "text/plain": [
              "(0.9900442477876106, 0.35, 0.9333333333333333)"
            ]
          },
          "metadata": {
            "tags": []
          },
          "execution_count": 50
        }
      ]
    },
    {
      "cell_type": "markdown",
      "metadata": {
        "id": "DPw01r08A-cy",
        "colab_type": "text"
      },
      "source": [
        "### Question 4\n",
        "\n",
        "Using the SVC classifier with parameters `{'C': 1e9, 'gamma': 1e-07}`, what is the confusion matrix when using a threshold of -220 on the decision function. Use X_test and y_test.\n",
        "\n",
        "*This function should return a confusion matrix, a 2x2 numpy array with 4 integers.*"
      ]
    },
    {
      "cell_type": "code",
      "metadata": {
        "id": "IpgcqXwUA8dr",
        "colab_type": "code",
        "colab": {
          "base_uri": "https://localhost:8080/",
          "height": 52
        },
        "outputId": "09be31e8-b10e-4315-9239-68fa874ccb72"
      },
      "source": [
        "def answer_four():\n",
        "  from sklearn.metrics import confusion_matrix\n",
        "  from sklearn.svm import SVC\n",
        "\n",
        "  svm = SVC(C=1e9, gamma=1e-07).fit(X_train, y_train)\n",
        "  svm_predicted = svm.decision_function(X_test) > -220\n",
        "  \n",
        "  confusion = confusion_matrix(y_test, svm_predicted)\n",
        "  \n",
        "  return confusion\n",
        "\n",
        "answer_four()"
      ],
      "execution_count": 51,
      "outputs": [
        {
          "output_type": "execute_result",
          "data": {
            "text/plain": [
              "array([[5320,   24],\n",
              "       [  14,   66]])"
            ]
          },
          "metadata": {
            "tags": []
          },
          "execution_count": 51
        }
      ]
    },
    {
      "cell_type": "markdown",
      "metadata": {
        "id": "bZw4RdN7BEYI",
        "colab_type": "text"
      },
      "source": [
        "### Question 5\n",
        "\n",
        "Train a logisitic regression classifier with default parameters using X_train and y_train.\n",
        "\n",
        "For the logisitic regression classifier, create a precision recall curve and a roc curve using y_test and the probability estimates for X_test (probability it is fraud).\n",
        "\n",
        "Looking at the precision recall curve, what is the recall when the precision is `0.75`?\n",
        "\n",
        "Looking at the roc curve, what is the true positive rate when the false positive rate is `0.16`?\n",
        "\n",
        "*This function should return a tuple with two floats, i.e. `(recall, true positive rate)`.*"
      ]
    },
    {
      "cell_type": "code",
      "metadata": {
        "id": "FDXuV5gqBCj-",
        "colab_type": "code",
        "colab": {
          "base_uri": "https://localhost:8080/",
          "height": 338
        },
        "outputId": "7f5f08dc-ad9d-40ba-efb4-97be3cc69aec"
      },
      "source": [
        "def answer_five():\n",
        "        \n",
        "  from sklearn.linear_model import LogisticRegression\n",
        "  from sklearn.metrics import precision_recall_curve\n",
        "  from sklearn.metrics import roc_curve\n",
        "  \n",
        "  lr = LogisticRegression().fit(X_train, y_train)\n",
        "  \n",
        "  y_scores_lr = lr.fit(X_train, y_train).decision_function(X_test)\n",
        "  prec, rec, thresholds = precision_recall_curve(y_test, y_scores_lr)\n",
        "  closest_zero_p = np.argmin(np.abs(prec-0.75))\n",
        "  closest_zero_r = rec[closest_zero_p]\n",
        "  \n",
        "  fpr_lr, tpr_lr, _ = roc_curve(y_test, y_scores_lr)\n",
        "  closest_zero_fpr_lr = np.argmin(np.abs(fpr_lr - 0.16))\n",
        "  closest_zero_tpr_lr = rec[closest_zero_fpr_lr]\n",
        "  \n",
        "  result = (closest_zero_r, closest_zero_tpr_lr)\n",
        "  \n",
        "  return result\n",
        "\n",
        "answer_five()"
      ],
      "execution_count": 52,
      "outputs": [
        {
          "output_type": "stream",
          "text": [
            "/usr/local/lib/python3.6/dist-packages/sklearn/linear_model/_logistic.py:940: ConvergenceWarning: lbfgs failed to converge (status=1):\n",
            "STOP: TOTAL NO. of ITERATIONS REACHED LIMIT.\n",
            "\n",
            "Increase the number of iterations (max_iter) or scale the data as shown in:\n",
            "    https://scikit-learn.org/stable/modules/preprocessing.html\n",
            "Please also refer to the documentation for alternative solver options:\n",
            "    https://scikit-learn.org/stable/modules/linear_model.html#logistic-regression\n",
            "  extra_warning_msg=_LOGISTIC_SOLVER_CONVERGENCE_MSG)\n",
            "/usr/local/lib/python3.6/dist-packages/sklearn/linear_model/_logistic.py:940: ConvergenceWarning: lbfgs failed to converge (status=1):\n",
            "STOP: TOTAL NO. of ITERATIONS REACHED LIMIT.\n",
            "\n",
            "Increase the number of iterations (max_iter) or scale the data as shown in:\n",
            "    https://scikit-learn.org/stable/modules/preprocessing.html\n",
            "Please also refer to the documentation for alternative solver options:\n",
            "    https://scikit-learn.org/stable/modules/linear_model.html#logistic-regression\n",
            "  extra_warning_msg=_LOGISTIC_SOLVER_CONVERGENCE_MSG)\n"
          ],
          "name": "stderr"
        },
        {
          "output_type": "execute_result",
          "data": {
            "text/plain": [
              "(0.825, 0.9875)"
            ]
          },
          "metadata": {
            "tags": []
          },
          "execution_count": 52
        }
      ]
    },
    {
      "cell_type": "markdown",
      "metadata": {
        "id": "EQd9FxTBBKJG",
        "colab_type": "text"
      },
      "source": [
        "### Question 6\n",
        "\n",
        "Perform a grid search over the parameters listed below for a Logisitic Regression classifier, using recall for scoring and the default 3-fold cross validation.\n",
        "\n",
        "`'penalty': ['l1', 'l2']`\n",
        "\n",
        "`'C':[0.01, 0.1, 1, 10, 100]`\n",
        "\n",
        "From `.cv_results_`, create an array of the mean test scores of each parameter combination. i.e.\n",
        "\n",
        "|      \t| `l1` \t| `l2` \t|\n",
        "|:----:\t|----\t|----\t|\n",
        "| **`0.01`** \t|    ?\t|   ? \t|\n",
        "| **`0.1`**  \t|    ?\t|   ? \t|\n",
        "| **`1`**    \t|    ?\t|   ? \t|\n",
        "| **`10`**   \t|    ?\t|   ? \t|\n",
        "| **`100`**   \t|    ?\t|   ? \t|\n",
        "\n",
        "<br>\n",
        "\n",
        "*This function should return a 5 by 2 numpy array with 10 floats.* \n",
        "\n",
        "*Note: do not return a DataFrame, just the values denoted by '?' above in a numpy array. You might need to reshape your raw result to meet the format we are looking for.*"
      ]
    },
    {
      "cell_type": "code",
      "metadata": {
        "id": "Vfh4Ig-VBHGu",
        "colab_type": "code",
        "colab": {
          "base_uri": "https://localhost:8080/",
          "height": 1000
        },
        "outputId": "50756e55-45ce-48dc-ee3e-34d805532e09"
      },
      "source": [
        "def answer_six():    \n",
        "  from sklearn.model_selection import GridSearchCV\n",
        "  from sklearn.linear_model import LogisticRegression\n",
        "\n",
        "  lr = LogisticRegression()\n",
        "  \n",
        "  grid_values = {\"C\": [0.01, 0.1, 1, 10, 100],\n",
        "                \"penalty\": [\"l1\", \"l2\"]}\n",
        "  grid_lr = GridSearchCV(lr, param_grid=grid_values, scoring=\"recall\")\n",
        "  grid_lr.fit(X_train, y_train)\n",
        "  \n",
        "  result = np.array(grid_lr.cv_results_[\"mean_test_score\"].reshape(5,2))\n",
        "  \n",
        "  return result\n",
        "\n",
        "answer_six()"
      ],
      "execution_count": 53,
      "outputs": [
        {
          "output_type": "stream",
          "text": [
            "/usr/local/lib/python3.6/dist-packages/sklearn/model_selection/_validation.py:536: FitFailedWarning: Estimator fit failed. The score on this train-test partition for these parameters will be set to nan. Details: \n",
            "ValueError: Solver lbfgs supports only 'l2' or 'none' penalties, got l1 penalty.\n",
            "\n",
            "  FitFailedWarning)\n",
            "/usr/local/lib/python3.6/dist-packages/sklearn/linear_model/_logistic.py:940: ConvergenceWarning: lbfgs failed to converge (status=1):\n",
            "STOP: TOTAL NO. of ITERATIONS REACHED LIMIT.\n",
            "\n",
            "Increase the number of iterations (max_iter) or scale the data as shown in:\n",
            "    https://scikit-learn.org/stable/modules/preprocessing.html\n",
            "Please also refer to the documentation for alternative solver options:\n",
            "    https://scikit-learn.org/stable/modules/linear_model.html#logistic-regression\n",
            "  extra_warning_msg=_LOGISTIC_SOLVER_CONVERGENCE_MSG)\n",
            "/usr/local/lib/python3.6/dist-packages/sklearn/linear_model/_logistic.py:940: ConvergenceWarning: lbfgs failed to converge (status=1):\n",
            "STOP: TOTAL NO. of ITERATIONS REACHED LIMIT.\n",
            "\n",
            "Increase the number of iterations (max_iter) or scale the data as shown in:\n",
            "    https://scikit-learn.org/stable/modules/preprocessing.html\n",
            "Please also refer to the documentation for alternative solver options:\n",
            "    https://scikit-learn.org/stable/modules/linear_model.html#logistic-regression\n",
            "  extra_warning_msg=_LOGISTIC_SOLVER_CONVERGENCE_MSG)\n",
            "/usr/local/lib/python3.6/dist-packages/sklearn/linear_model/_logistic.py:940: ConvergenceWarning: lbfgs failed to converge (status=1):\n",
            "STOP: TOTAL NO. of ITERATIONS REACHED LIMIT.\n",
            "\n",
            "Increase the number of iterations (max_iter) or scale the data as shown in:\n",
            "    https://scikit-learn.org/stable/modules/preprocessing.html\n",
            "Please also refer to the documentation for alternative solver options:\n",
            "    https://scikit-learn.org/stable/modules/linear_model.html#logistic-regression\n",
            "  extra_warning_msg=_LOGISTIC_SOLVER_CONVERGENCE_MSG)\n",
            "/usr/local/lib/python3.6/dist-packages/sklearn/linear_model/_logistic.py:940: ConvergenceWarning: lbfgs failed to converge (status=1):\n",
            "STOP: TOTAL NO. of ITERATIONS REACHED LIMIT.\n",
            "\n",
            "Increase the number of iterations (max_iter) or scale the data as shown in:\n",
            "    https://scikit-learn.org/stable/modules/preprocessing.html\n",
            "Please also refer to the documentation for alternative solver options:\n",
            "    https://scikit-learn.org/stable/modules/linear_model.html#logistic-regression\n",
            "  extra_warning_msg=_LOGISTIC_SOLVER_CONVERGENCE_MSG)\n",
            "/usr/local/lib/python3.6/dist-packages/sklearn/linear_model/_logistic.py:940: ConvergenceWarning: lbfgs failed to converge (status=1):\n",
            "STOP: TOTAL NO. of ITERATIONS REACHED LIMIT.\n",
            "\n",
            "Increase the number of iterations (max_iter) or scale the data as shown in:\n",
            "    https://scikit-learn.org/stable/modules/preprocessing.html\n",
            "Please also refer to the documentation for alternative solver options:\n",
            "    https://scikit-learn.org/stable/modules/linear_model.html#logistic-regression\n",
            "  extra_warning_msg=_LOGISTIC_SOLVER_CONVERGENCE_MSG)\n",
            "/usr/local/lib/python3.6/dist-packages/sklearn/model_selection/_validation.py:536: FitFailedWarning: Estimator fit failed. The score on this train-test partition for these parameters will be set to nan. Details: \n",
            "ValueError: Solver lbfgs supports only 'l2' or 'none' penalties, got l1 penalty.\n",
            "\n",
            "  FitFailedWarning)\n",
            "/usr/local/lib/python3.6/dist-packages/sklearn/linear_model/_logistic.py:940: ConvergenceWarning: lbfgs failed to converge (status=1):\n",
            "STOP: TOTAL NO. of ITERATIONS REACHED LIMIT.\n",
            "\n",
            "Increase the number of iterations (max_iter) or scale the data as shown in:\n",
            "    https://scikit-learn.org/stable/modules/preprocessing.html\n",
            "Please also refer to the documentation for alternative solver options:\n",
            "    https://scikit-learn.org/stable/modules/linear_model.html#logistic-regression\n",
            "  extra_warning_msg=_LOGISTIC_SOLVER_CONVERGENCE_MSG)\n",
            "/usr/local/lib/python3.6/dist-packages/sklearn/linear_model/_logistic.py:940: ConvergenceWarning: lbfgs failed to converge (status=1):\n",
            "STOP: TOTAL NO. of ITERATIONS REACHED LIMIT.\n",
            "\n",
            "Increase the number of iterations (max_iter) or scale the data as shown in:\n",
            "    https://scikit-learn.org/stable/modules/preprocessing.html\n",
            "Please also refer to the documentation for alternative solver options:\n",
            "    https://scikit-learn.org/stable/modules/linear_model.html#logistic-regression\n",
            "  extra_warning_msg=_LOGISTIC_SOLVER_CONVERGENCE_MSG)\n",
            "/usr/local/lib/python3.6/dist-packages/sklearn/linear_model/_logistic.py:940: ConvergenceWarning: lbfgs failed to converge (status=1):\n",
            "STOP: TOTAL NO. of ITERATIONS REACHED LIMIT.\n",
            "\n",
            "Increase the number of iterations (max_iter) or scale the data as shown in:\n",
            "    https://scikit-learn.org/stable/modules/preprocessing.html\n",
            "Please also refer to the documentation for alternative solver options:\n",
            "    https://scikit-learn.org/stable/modules/linear_model.html#logistic-regression\n",
            "  extra_warning_msg=_LOGISTIC_SOLVER_CONVERGENCE_MSG)\n",
            "/usr/local/lib/python3.6/dist-packages/sklearn/linear_model/_logistic.py:940: ConvergenceWarning: lbfgs failed to converge (status=1):\n",
            "STOP: TOTAL NO. of ITERATIONS REACHED LIMIT.\n",
            "\n",
            "Increase the number of iterations (max_iter) or scale the data as shown in:\n",
            "    https://scikit-learn.org/stable/modules/preprocessing.html\n",
            "Please also refer to the documentation for alternative solver options:\n",
            "    https://scikit-learn.org/stable/modules/linear_model.html#logistic-regression\n",
            "  extra_warning_msg=_LOGISTIC_SOLVER_CONVERGENCE_MSG)\n",
            "/usr/local/lib/python3.6/dist-packages/sklearn/linear_model/_logistic.py:940: ConvergenceWarning: lbfgs failed to converge (status=1):\n",
            "STOP: TOTAL NO. of ITERATIONS REACHED LIMIT.\n",
            "\n",
            "Increase the number of iterations (max_iter) or scale the data as shown in:\n",
            "    https://scikit-learn.org/stable/modules/preprocessing.html\n",
            "Please also refer to the documentation for alternative solver options:\n",
            "    https://scikit-learn.org/stable/modules/linear_model.html#logistic-regression\n",
            "  extra_warning_msg=_LOGISTIC_SOLVER_CONVERGENCE_MSG)\n",
            "/usr/local/lib/python3.6/dist-packages/sklearn/model_selection/_validation.py:536: FitFailedWarning: Estimator fit failed. The score on this train-test partition for these parameters will be set to nan. Details: \n",
            "ValueError: Solver lbfgs supports only 'l2' or 'none' penalties, got l1 penalty.\n",
            "\n",
            "  FitFailedWarning)\n",
            "/usr/local/lib/python3.6/dist-packages/sklearn/linear_model/_logistic.py:940: ConvergenceWarning: lbfgs failed to converge (status=1):\n",
            "STOP: TOTAL NO. of ITERATIONS REACHED LIMIT.\n",
            "\n",
            "Increase the number of iterations (max_iter) or scale the data as shown in:\n",
            "    https://scikit-learn.org/stable/modules/preprocessing.html\n",
            "Please also refer to the documentation for alternative solver options:\n",
            "    https://scikit-learn.org/stable/modules/linear_model.html#logistic-regression\n",
            "  extra_warning_msg=_LOGISTIC_SOLVER_CONVERGENCE_MSG)\n",
            "/usr/local/lib/python3.6/dist-packages/sklearn/linear_model/_logistic.py:940: ConvergenceWarning: lbfgs failed to converge (status=1):\n",
            "STOP: TOTAL NO. of ITERATIONS REACHED LIMIT.\n",
            "\n",
            "Increase the number of iterations (max_iter) or scale the data as shown in:\n",
            "    https://scikit-learn.org/stable/modules/preprocessing.html\n",
            "Please also refer to the documentation for alternative solver options:\n",
            "    https://scikit-learn.org/stable/modules/linear_model.html#logistic-regression\n",
            "  extra_warning_msg=_LOGISTIC_SOLVER_CONVERGENCE_MSG)\n",
            "/usr/local/lib/python3.6/dist-packages/sklearn/linear_model/_logistic.py:940: ConvergenceWarning: lbfgs failed to converge (status=1):\n",
            "STOP: TOTAL NO. of ITERATIONS REACHED LIMIT.\n",
            "\n",
            "Increase the number of iterations (max_iter) or scale the data as shown in:\n",
            "    https://scikit-learn.org/stable/modules/preprocessing.html\n",
            "Please also refer to the documentation for alternative solver options:\n",
            "    https://scikit-learn.org/stable/modules/linear_model.html#logistic-regression\n",
            "  extra_warning_msg=_LOGISTIC_SOLVER_CONVERGENCE_MSG)\n",
            "/usr/local/lib/python3.6/dist-packages/sklearn/linear_model/_logistic.py:940: ConvergenceWarning: lbfgs failed to converge (status=1):\n",
            "STOP: TOTAL NO. of ITERATIONS REACHED LIMIT.\n",
            "\n",
            "Increase the number of iterations (max_iter) or scale the data as shown in:\n",
            "    https://scikit-learn.org/stable/modules/preprocessing.html\n",
            "Please also refer to the documentation for alternative solver options:\n",
            "    https://scikit-learn.org/stable/modules/linear_model.html#logistic-regression\n",
            "  extra_warning_msg=_LOGISTIC_SOLVER_CONVERGENCE_MSG)\n",
            "/usr/local/lib/python3.6/dist-packages/sklearn/linear_model/_logistic.py:940: ConvergenceWarning: lbfgs failed to converge (status=1):\n",
            "STOP: TOTAL NO. of ITERATIONS REACHED LIMIT.\n",
            "\n",
            "Increase the number of iterations (max_iter) or scale the data as shown in:\n",
            "    https://scikit-learn.org/stable/modules/preprocessing.html\n",
            "Please also refer to the documentation for alternative solver options:\n",
            "    https://scikit-learn.org/stable/modules/linear_model.html#logistic-regression\n",
            "  extra_warning_msg=_LOGISTIC_SOLVER_CONVERGENCE_MSG)\n",
            "/usr/local/lib/python3.6/dist-packages/sklearn/model_selection/_validation.py:536: FitFailedWarning: Estimator fit failed. The score on this train-test partition for these parameters will be set to nan. Details: \n",
            "ValueError: Solver lbfgs supports only 'l2' or 'none' penalties, got l1 penalty.\n",
            "\n",
            "  FitFailedWarning)\n",
            "/usr/local/lib/python3.6/dist-packages/sklearn/linear_model/_logistic.py:940: ConvergenceWarning: lbfgs failed to converge (status=1):\n",
            "STOP: TOTAL NO. of ITERATIONS REACHED LIMIT.\n",
            "\n",
            "Increase the number of iterations (max_iter) or scale the data as shown in:\n",
            "    https://scikit-learn.org/stable/modules/preprocessing.html\n",
            "Please also refer to the documentation for alternative solver options:\n",
            "    https://scikit-learn.org/stable/modules/linear_model.html#logistic-regression\n",
            "  extra_warning_msg=_LOGISTIC_SOLVER_CONVERGENCE_MSG)\n",
            "/usr/local/lib/python3.6/dist-packages/sklearn/linear_model/_logistic.py:940: ConvergenceWarning: lbfgs failed to converge (status=1):\n",
            "STOP: TOTAL NO. of ITERATIONS REACHED LIMIT.\n",
            "\n",
            "Increase the number of iterations (max_iter) or scale the data as shown in:\n",
            "    https://scikit-learn.org/stable/modules/preprocessing.html\n",
            "Please also refer to the documentation for alternative solver options:\n",
            "    https://scikit-learn.org/stable/modules/linear_model.html#logistic-regression\n",
            "  extra_warning_msg=_LOGISTIC_SOLVER_CONVERGENCE_MSG)\n",
            "/usr/local/lib/python3.6/dist-packages/sklearn/linear_model/_logistic.py:940: ConvergenceWarning: lbfgs failed to converge (status=1):\n",
            "STOP: TOTAL NO. of ITERATIONS REACHED LIMIT.\n",
            "\n",
            "Increase the number of iterations (max_iter) or scale the data as shown in:\n",
            "    https://scikit-learn.org/stable/modules/preprocessing.html\n",
            "Please also refer to the documentation for alternative solver options:\n",
            "    https://scikit-learn.org/stable/modules/linear_model.html#logistic-regression\n",
            "  extra_warning_msg=_LOGISTIC_SOLVER_CONVERGENCE_MSG)\n",
            "/usr/local/lib/python3.6/dist-packages/sklearn/linear_model/_logistic.py:940: ConvergenceWarning: lbfgs failed to converge (status=1):\n",
            "STOP: TOTAL NO. of ITERATIONS REACHED LIMIT.\n",
            "\n",
            "Increase the number of iterations (max_iter) or scale the data as shown in:\n",
            "    https://scikit-learn.org/stable/modules/preprocessing.html\n",
            "Please also refer to the documentation for alternative solver options:\n",
            "    https://scikit-learn.org/stable/modules/linear_model.html#logistic-regression\n",
            "  extra_warning_msg=_LOGISTIC_SOLVER_CONVERGENCE_MSG)\n",
            "/usr/local/lib/python3.6/dist-packages/sklearn/linear_model/_logistic.py:940: ConvergenceWarning: lbfgs failed to converge (status=1):\n",
            "STOP: TOTAL NO. of ITERATIONS REACHED LIMIT.\n",
            "\n",
            "Increase the number of iterations (max_iter) or scale the data as shown in:\n",
            "    https://scikit-learn.org/stable/modules/preprocessing.html\n",
            "Please also refer to the documentation for alternative solver options:\n",
            "    https://scikit-learn.org/stable/modules/linear_model.html#logistic-regression\n",
            "  extra_warning_msg=_LOGISTIC_SOLVER_CONVERGENCE_MSG)\n",
            "/usr/local/lib/python3.6/dist-packages/sklearn/model_selection/_validation.py:536: FitFailedWarning: Estimator fit failed. The score on this train-test partition for these parameters will be set to nan. Details: \n",
            "ValueError: Solver lbfgs supports only 'l2' or 'none' penalties, got l1 penalty.\n",
            "\n",
            "  FitFailedWarning)\n",
            "/usr/local/lib/python3.6/dist-packages/sklearn/linear_model/_logistic.py:940: ConvergenceWarning: lbfgs failed to converge (status=1):\n",
            "STOP: TOTAL NO. of ITERATIONS REACHED LIMIT.\n",
            "\n",
            "Increase the number of iterations (max_iter) or scale the data as shown in:\n",
            "    https://scikit-learn.org/stable/modules/preprocessing.html\n",
            "Please also refer to the documentation for alternative solver options:\n",
            "    https://scikit-learn.org/stable/modules/linear_model.html#logistic-regression\n",
            "  extra_warning_msg=_LOGISTIC_SOLVER_CONVERGENCE_MSG)\n",
            "/usr/local/lib/python3.6/dist-packages/sklearn/linear_model/_logistic.py:940: ConvergenceWarning: lbfgs failed to converge (status=1):\n",
            "STOP: TOTAL NO. of ITERATIONS REACHED LIMIT.\n",
            "\n",
            "Increase the number of iterations (max_iter) or scale the data as shown in:\n",
            "    https://scikit-learn.org/stable/modules/preprocessing.html\n",
            "Please also refer to the documentation for alternative solver options:\n",
            "    https://scikit-learn.org/stable/modules/linear_model.html#logistic-regression\n",
            "  extra_warning_msg=_LOGISTIC_SOLVER_CONVERGENCE_MSG)\n",
            "/usr/local/lib/python3.6/dist-packages/sklearn/linear_model/_logistic.py:940: ConvergenceWarning: lbfgs failed to converge (status=1):\n",
            "STOP: TOTAL NO. of ITERATIONS REACHED LIMIT.\n",
            "\n",
            "Increase the number of iterations (max_iter) or scale the data as shown in:\n",
            "    https://scikit-learn.org/stable/modules/preprocessing.html\n",
            "Please also refer to the documentation for alternative solver options:\n",
            "    https://scikit-learn.org/stable/modules/linear_model.html#logistic-regression\n",
            "  extra_warning_msg=_LOGISTIC_SOLVER_CONVERGENCE_MSG)\n",
            "/usr/local/lib/python3.6/dist-packages/sklearn/linear_model/_logistic.py:940: ConvergenceWarning: lbfgs failed to converge (status=1):\n",
            "STOP: TOTAL NO. of ITERATIONS REACHED LIMIT.\n",
            "\n",
            "Increase the number of iterations (max_iter) or scale the data as shown in:\n",
            "    https://scikit-learn.org/stable/modules/preprocessing.html\n",
            "Please also refer to the documentation for alternative solver options:\n",
            "    https://scikit-learn.org/stable/modules/linear_model.html#logistic-regression\n",
            "  extra_warning_msg=_LOGISTIC_SOLVER_CONVERGENCE_MSG)\n",
            "/usr/local/lib/python3.6/dist-packages/sklearn/linear_model/_logistic.py:940: ConvergenceWarning: lbfgs failed to converge (status=1):\n",
            "STOP: TOTAL NO. of ITERATIONS REACHED LIMIT.\n",
            "\n",
            "Increase the number of iterations (max_iter) or scale the data as shown in:\n",
            "    https://scikit-learn.org/stable/modules/preprocessing.html\n",
            "Please also refer to the documentation for alternative solver options:\n",
            "    https://scikit-learn.org/stable/modules/linear_model.html#logistic-regression\n",
            "  extra_warning_msg=_LOGISTIC_SOLVER_CONVERGENCE_MSG)\n",
            "/usr/local/lib/python3.6/dist-packages/sklearn/linear_model/_logistic.py:940: ConvergenceWarning: lbfgs failed to converge (status=1):\n",
            "STOP: TOTAL NO. of ITERATIONS REACHED LIMIT.\n",
            "\n",
            "Increase the number of iterations (max_iter) or scale the data as shown in:\n",
            "    https://scikit-learn.org/stable/modules/preprocessing.html\n",
            "Please also refer to the documentation for alternative solver options:\n",
            "    https://scikit-learn.org/stable/modules/linear_model.html#logistic-regression\n",
            "  extra_warning_msg=_LOGISTIC_SOLVER_CONVERGENCE_MSG)\n"
          ],
          "name": "stderr"
        },
        {
          "output_type": "execute_result",
          "data": {
            "text/plain": [
              "array([[       nan, 0.79337662],\n",
              "       [       nan, 0.80785714],\n",
              "       [       nan, 0.80792208],\n",
              "       [       nan, 0.80422078],\n",
              "       [       nan, 0.81149351]])"
            ]
          },
          "metadata": {
            "tags": []
          },
          "execution_count": 53
        }
      ]
    },
    {
      "cell_type": "code",
      "metadata": {
        "id": "jydHJ3vRBPAq",
        "colab_type": "code",
        "colab": {
          "base_uri": "https://localhost:8080/",
          "height": 1000
        },
        "outputId": "115820e5-97be-4c89-babc-22060ac31c2a"
      },
      "source": [
        "# Use the following function to help visualize results from the grid search\n",
        "def GridSearch_Heatmap(scores):\n",
        "    %matplotlib inline\n",
        "    import seaborn as sns\n",
        "    import matplotlib.pyplot as plt\n",
        "    plt.figure()\n",
        "    sns.heatmap(scores.reshape(5,2), xticklabels=['l1','l2'], yticklabels=[0.01, 0.1, 1, 10, 100])\n",
        "    plt.yticks(rotation=0);\n",
        "\n",
        "GridSearch_Heatmap(answer_six())"
      ],
      "execution_count": 55,
      "outputs": [
        {
          "output_type": "stream",
          "text": [
            "/usr/local/lib/python3.6/dist-packages/sklearn/model_selection/_validation.py:536: FitFailedWarning: Estimator fit failed. The score on this train-test partition for these parameters will be set to nan. Details: \n",
            "ValueError: Solver lbfgs supports only 'l2' or 'none' penalties, got l1 penalty.\n",
            "\n",
            "  FitFailedWarning)\n",
            "/usr/local/lib/python3.6/dist-packages/sklearn/linear_model/_logistic.py:940: ConvergenceWarning: lbfgs failed to converge (status=1):\n",
            "STOP: TOTAL NO. of ITERATIONS REACHED LIMIT.\n",
            "\n",
            "Increase the number of iterations (max_iter) or scale the data as shown in:\n",
            "    https://scikit-learn.org/stable/modules/preprocessing.html\n",
            "Please also refer to the documentation for alternative solver options:\n",
            "    https://scikit-learn.org/stable/modules/linear_model.html#logistic-regression\n",
            "  extra_warning_msg=_LOGISTIC_SOLVER_CONVERGENCE_MSG)\n",
            "/usr/local/lib/python3.6/dist-packages/sklearn/linear_model/_logistic.py:940: ConvergenceWarning: lbfgs failed to converge (status=1):\n",
            "STOP: TOTAL NO. of ITERATIONS REACHED LIMIT.\n",
            "\n",
            "Increase the number of iterations (max_iter) or scale the data as shown in:\n",
            "    https://scikit-learn.org/stable/modules/preprocessing.html\n",
            "Please also refer to the documentation for alternative solver options:\n",
            "    https://scikit-learn.org/stable/modules/linear_model.html#logistic-regression\n",
            "  extra_warning_msg=_LOGISTIC_SOLVER_CONVERGENCE_MSG)\n",
            "/usr/local/lib/python3.6/dist-packages/sklearn/linear_model/_logistic.py:940: ConvergenceWarning: lbfgs failed to converge (status=1):\n",
            "STOP: TOTAL NO. of ITERATIONS REACHED LIMIT.\n",
            "\n",
            "Increase the number of iterations (max_iter) or scale the data as shown in:\n",
            "    https://scikit-learn.org/stable/modules/preprocessing.html\n",
            "Please also refer to the documentation for alternative solver options:\n",
            "    https://scikit-learn.org/stable/modules/linear_model.html#logistic-regression\n",
            "  extra_warning_msg=_LOGISTIC_SOLVER_CONVERGENCE_MSG)\n",
            "/usr/local/lib/python3.6/dist-packages/sklearn/linear_model/_logistic.py:940: ConvergenceWarning: lbfgs failed to converge (status=1):\n",
            "STOP: TOTAL NO. of ITERATIONS REACHED LIMIT.\n",
            "\n",
            "Increase the number of iterations (max_iter) or scale the data as shown in:\n",
            "    https://scikit-learn.org/stable/modules/preprocessing.html\n",
            "Please also refer to the documentation for alternative solver options:\n",
            "    https://scikit-learn.org/stable/modules/linear_model.html#logistic-regression\n",
            "  extra_warning_msg=_LOGISTIC_SOLVER_CONVERGENCE_MSG)\n",
            "/usr/local/lib/python3.6/dist-packages/sklearn/linear_model/_logistic.py:940: ConvergenceWarning: lbfgs failed to converge (status=1):\n",
            "STOP: TOTAL NO. of ITERATIONS REACHED LIMIT.\n",
            "\n",
            "Increase the number of iterations (max_iter) or scale the data as shown in:\n",
            "    https://scikit-learn.org/stable/modules/preprocessing.html\n",
            "Please also refer to the documentation for alternative solver options:\n",
            "    https://scikit-learn.org/stable/modules/linear_model.html#logistic-regression\n",
            "  extra_warning_msg=_LOGISTIC_SOLVER_CONVERGENCE_MSG)\n",
            "/usr/local/lib/python3.6/dist-packages/sklearn/model_selection/_validation.py:536: FitFailedWarning: Estimator fit failed. The score on this train-test partition for these parameters will be set to nan. Details: \n",
            "ValueError: Solver lbfgs supports only 'l2' or 'none' penalties, got l1 penalty.\n",
            "\n",
            "  FitFailedWarning)\n",
            "/usr/local/lib/python3.6/dist-packages/sklearn/linear_model/_logistic.py:940: ConvergenceWarning: lbfgs failed to converge (status=1):\n",
            "STOP: TOTAL NO. of ITERATIONS REACHED LIMIT.\n",
            "\n",
            "Increase the number of iterations (max_iter) or scale the data as shown in:\n",
            "    https://scikit-learn.org/stable/modules/preprocessing.html\n",
            "Please also refer to the documentation for alternative solver options:\n",
            "    https://scikit-learn.org/stable/modules/linear_model.html#logistic-regression\n",
            "  extra_warning_msg=_LOGISTIC_SOLVER_CONVERGENCE_MSG)\n",
            "/usr/local/lib/python3.6/dist-packages/sklearn/linear_model/_logistic.py:940: ConvergenceWarning: lbfgs failed to converge (status=1):\n",
            "STOP: TOTAL NO. of ITERATIONS REACHED LIMIT.\n",
            "\n",
            "Increase the number of iterations (max_iter) or scale the data as shown in:\n",
            "    https://scikit-learn.org/stable/modules/preprocessing.html\n",
            "Please also refer to the documentation for alternative solver options:\n",
            "    https://scikit-learn.org/stable/modules/linear_model.html#logistic-regression\n",
            "  extra_warning_msg=_LOGISTIC_SOLVER_CONVERGENCE_MSG)\n",
            "/usr/local/lib/python3.6/dist-packages/sklearn/linear_model/_logistic.py:940: ConvergenceWarning: lbfgs failed to converge (status=1):\n",
            "STOP: TOTAL NO. of ITERATIONS REACHED LIMIT.\n",
            "\n",
            "Increase the number of iterations (max_iter) or scale the data as shown in:\n",
            "    https://scikit-learn.org/stable/modules/preprocessing.html\n",
            "Please also refer to the documentation for alternative solver options:\n",
            "    https://scikit-learn.org/stable/modules/linear_model.html#logistic-regression\n",
            "  extra_warning_msg=_LOGISTIC_SOLVER_CONVERGENCE_MSG)\n",
            "/usr/local/lib/python3.6/dist-packages/sklearn/linear_model/_logistic.py:940: ConvergenceWarning: lbfgs failed to converge (status=1):\n",
            "STOP: TOTAL NO. of ITERATIONS REACHED LIMIT.\n",
            "\n",
            "Increase the number of iterations (max_iter) or scale the data as shown in:\n",
            "    https://scikit-learn.org/stable/modules/preprocessing.html\n",
            "Please also refer to the documentation for alternative solver options:\n",
            "    https://scikit-learn.org/stable/modules/linear_model.html#logistic-regression\n",
            "  extra_warning_msg=_LOGISTIC_SOLVER_CONVERGENCE_MSG)\n",
            "/usr/local/lib/python3.6/dist-packages/sklearn/linear_model/_logistic.py:940: ConvergenceWarning: lbfgs failed to converge (status=1):\n",
            "STOP: TOTAL NO. of ITERATIONS REACHED LIMIT.\n",
            "\n",
            "Increase the number of iterations (max_iter) or scale the data as shown in:\n",
            "    https://scikit-learn.org/stable/modules/preprocessing.html\n",
            "Please also refer to the documentation for alternative solver options:\n",
            "    https://scikit-learn.org/stable/modules/linear_model.html#logistic-regression\n",
            "  extra_warning_msg=_LOGISTIC_SOLVER_CONVERGENCE_MSG)\n",
            "/usr/local/lib/python3.6/dist-packages/sklearn/model_selection/_validation.py:536: FitFailedWarning: Estimator fit failed. The score on this train-test partition for these parameters will be set to nan. Details: \n",
            "ValueError: Solver lbfgs supports only 'l2' or 'none' penalties, got l1 penalty.\n",
            "\n",
            "  FitFailedWarning)\n",
            "/usr/local/lib/python3.6/dist-packages/sklearn/linear_model/_logistic.py:940: ConvergenceWarning: lbfgs failed to converge (status=1):\n",
            "STOP: TOTAL NO. of ITERATIONS REACHED LIMIT.\n",
            "\n",
            "Increase the number of iterations (max_iter) or scale the data as shown in:\n",
            "    https://scikit-learn.org/stable/modules/preprocessing.html\n",
            "Please also refer to the documentation for alternative solver options:\n",
            "    https://scikit-learn.org/stable/modules/linear_model.html#logistic-regression\n",
            "  extra_warning_msg=_LOGISTIC_SOLVER_CONVERGENCE_MSG)\n",
            "/usr/local/lib/python3.6/dist-packages/sklearn/linear_model/_logistic.py:940: ConvergenceWarning: lbfgs failed to converge (status=1):\n",
            "STOP: TOTAL NO. of ITERATIONS REACHED LIMIT.\n",
            "\n",
            "Increase the number of iterations (max_iter) or scale the data as shown in:\n",
            "    https://scikit-learn.org/stable/modules/preprocessing.html\n",
            "Please also refer to the documentation for alternative solver options:\n",
            "    https://scikit-learn.org/stable/modules/linear_model.html#logistic-regression\n",
            "  extra_warning_msg=_LOGISTIC_SOLVER_CONVERGENCE_MSG)\n",
            "/usr/local/lib/python3.6/dist-packages/sklearn/linear_model/_logistic.py:940: ConvergenceWarning: lbfgs failed to converge (status=1):\n",
            "STOP: TOTAL NO. of ITERATIONS REACHED LIMIT.\n",
            "\n",
            "Increase the number of iterations (max_iter) or scale the data as shown in:\n",
            "    https://scikit-learn.org/stable/modules/preprocessing.html\n",
            "Please also refer to the documentation for alternative solver options:\n",
            "    https://scikit-learn.org/stable/modules/linear_model.html#logistic-regression\n",
            "  extra_warning_msg=_LOGISTIC_SOLVER_CONVERGENCE_MSG)\n",
            "/usr/local/lib/python3.6/dist-packages/sklearn/linear_model/_logistic.py:940: ConvergenceWarning: lbfgs failed to converge (status=1):\n",
            "STOP: TOTAL NO. of ITERATIONS REACHED LIMIT.\n",
            "\n",
            "Increase the number of iterations (max_iter) or scale the data as shown in:\n",
            "    https://scikit-learn.org/stable/modules/preprocessing.html\n",
            "Please also refer to the documentation for alternative solver options:\n",
            "    https://scikit-learn.org/stable/modules/linear_model.html#logistic-regression\n",
            "  extra_warning_msg=_LOGISTIC_SOLVER_CONVERGENCE_MSG)\n",
            "/usr/local/lib/python3.6/dist-packages/sklearn/linear_model/_logistic.py:940: ConvergenceWarning: lbfgs failed to converge (status=1):\n",
            "STOP: TOTAL NO. of ITERATIONS REACHED LIMIT.\n",
            "\n",
            "Increase the number of iterations (max_iter) or scale the data as shown in:\n",
            "    https://scikit-learn.org/stable/modules/preprocessing.html\n",
            "Please also refer to the documentation for alternative solver options:\n",
            "    https://scikit-learn.org/stable/modules/linear_model.html#logistic-regression\n",
            "  extra_warning_msg=_LOGISTIC_SOLVER_CONVERGENCE_MSG)\n",
            "/usr/local/lib/python3.6/dist-packages/sklearn/model_selection/_validation.py:536: FitFailedWarning: Estimator fit failed. The score on this train-test partition for these parameters will be set to nan. Details: \n",
            "ValueError: Solver lbfgs supports only 'l2' or 'none' penalties, got l1 penalty.\n",
            "\n",
            "  FitFailedWarning)\n",
            "/usr/local/lib/python3.6/dist-packages/sklearn/linear_model/_logistic.py:940: ConvergenceWarning: lbfgs failed to converge (status=1):\n",
            "STOP: TOTAL NO. of ITERATIONS REACHED LIMIT.\n",
            "\n",
            "Increase the number of iterations (max_iter) or scale the data as shown in:\n",
            "    https://scikit-learn.org/stable/modules/preprocessing.html\n",
            "Please also refer to the documentation for alternative solver options:\n",
            "    https://scikit-learn.org/stable/modules/linear_model.html#logistic-regression\n",
            "  extra_warning_msg=_LOGISTIC_SOLVER_CONVERGENCE_MSG)\n",
            "/usr/local/lib/python3.6/dist-packages/sklearn/linear_model/_logistic.py:940: ConvergenceWarning: lbfgs failed to converge (status=1):\n",
            "STOP: TOTAL NO. of ITERATIONS REACHED LIMIT.\n",
            "\n",
            "Increase the number of iterations (max_iter) or scale the data as shown in:\n",
            "    https://scikit-learn.org/stable/modules/preprocessing.html\n",
            "Please also refer to the documentation for alternative solver options:\n",
            "    https://scikit-learn.org/stable/modules/linear_model.html#logistic-regression\n",
            "  extra_warning_msg=_LOGISTIC_SOLVER_CONVERGENCE_MSG)\n",
            "/usr/local/lib/python3.6/dist-packages/sklearn/linear_model/_logistic.py:940: ConvergenceWarning: lbfgs failed to converge (status=1):\n",
            "STOP: TOTAL NO. of ITERATIONS REACHED LIMIT.\n",
            "\n",
            "Increase the number of iterations (max_iter) or scale the data as shown in:\n",
            "    https://scikit-learn.org/stable/modules/preprocessing.html\n",
            "Please also refer to the documentation for alternative solver options:\n",
            "    https://scikit-learn.org/stable/modules/linear_model.html#logistic-regression\n",
            "  extra_warning_msg=_LOGISTIC_SOLVER_CONVERGENCE_MSG)\n",
            "/usr/local/lib/python3.6/dist-packages/sklearn/linear_model/_logistic.py:940: ConvergenceWarning: lbfgs failed to converge (status=1):\n",
            "STOP: TOTAL NO. of ITERATIONS REACHED LIMIT.\n",
            "\n",
            "Increase the number of iterations (max_iter) or scale the data as shown in:\n",
            "    https://scikit-learn.org/stable/modules/preprocessing.html\n",
            "Please also refer to the documentation for alternative solver options:\n",
            "    https://scikit-learn.org/stable/modules/linear_model.html#logistic-regression\n",
            "  extra_warning_msg=_LOGISTIC_SOLVER_CONVERGENCE_MSG)\n",
            "/usr/local/lib/python3.6/dist-packages/sklearn/linear_model/_logistic.py:940: ConvergenceWarning: lbfgs failed to converge (status=1):\n",
            "STOP: TOTAL NO. of ITERATIONS REACHED LIMIT.\n",
            "\n",
            "Increase the number of iterations (max_iter) or scale the data as shown in:\n",
            "    https://scikit-learn.org/stable/modules/preprocessing.html\n",
            "Please also refer to the documentation for alternative solver options:\n",
            "    https://scikit-learn.org/stable/modules/linear_model.html#logistic-regression\n",
            "  extra_warning_msg=_LOGISTIC_SOLVER_CONVERGENCE_MSG)\n",
            "/usr/local/lib/python3.6/dist-packages/sklearn/model_selection/_validation.py:536: FitFailedWarning: Estimator fit failed. The score on this train-test partition for these parameters will be set to nan. Details: \n",
            "ValueError: Solver lbfgs supports only 'l2' or 'none' penalties, got l1 penalty.\n",
            "\n",
            "  FitFailedWarning)\n",
            "/usr/local/lib/python3.6/dist-packages/sklearn/linear_model/_logistic.py:940: ConvergenceWarning: lbfgs failed to converge (status=1):\n",
            "STOP: TOTAL NO. of ITERATIONS REACHED LIMIT.\n",
            "\n",
            "Increase the number of iterations (max_iter) or scale the data as shown in:\n",
            "    https://scikit-learn.org/stable/modules/preprocessing.html\n",
            "Please also refer to the documentation for alternative solver options:\n",
            "    https://scikit-learn.org/stable/modules/linear_model.html#logistic-regression\n",
            "  extra_warning_msg=_LOGISTIC_SOLVER_CONVERGENCE_MSG)\n",
            "/usr/local/lib/python3.6/dist-packages/sklearn/linear_model/_logistic.py:940: ConvergenceWarning: lbfgs failed to converge (status=1):\n",
            "STOP: TOTAL NO. of ITERATIONS REACHED LIMIT.\n",
            "\n",
            "Increase the number of iterations (max_iter) or scale the data as shown in:\n",
            "    https://scikit-learn.org/stable/modules/preprocessing.html\n",
            "Please also refer to the documentation for alternative solver options:\n",
            "    https://scikit-learn.org/stable/modules/linear_model.html#logistic-regression\n",
            "  extra_warning_msg=_LOGISTIC_SOLVER_CONVERGENCE_MSG)\n",
            "/usr/local/lib/python3.6/dist-packages/sklearn/linear_model/_logistic.py:940: ConvergenceWarning: lbfgs failed to converge (status=1):\n",
            "STOP: TOTAL NO. of ITERATIONS REACHED LIMIT.\n",
            "\n",
            "Increase the number of iterations (max_iter) or scale the data as shown in:\n",
            "    https://scikit-learn.org/stable/modules/preprocessing.html\n",
            "Please also refer to the documentation for alternative solver options:\n",
            "    https://scikit-learn.org/stable/modules/linear_model.html#logistic-regression\n",
            "  extra_warning_msg=_LOGISTIC_SOLVER_CONVERGENCE_MSG)\n",
            "/usr/local/lib/python3.6/dist-packages/sklearn/linear_model/_logistic.py:940: ConvergenceWarning: lbfgs failed to converge (status=1):\n",
            "STOP: TOTAL NO. of ITERATIONS REACHED LIMIT.\n",
            "\n",
            "Increase the number of iterations (max_iter) or scale the data as shown in:\n",
            "    https://scikit-learn.org/stable/modules/preprocessing.html\n",
            "Please also refer to the documentation for alternative solver options:\n",
            "    https://scikit-learn.org/stable/modules/linear_model.html#logistic-regression\n",
            "  extra_warning_msg=_LOGISTIC_SOLVER_CONVERGENCE_MSG)\n",
            "/usr/local/lib/python3.6/dist-packages/sklearn/linear_model/_logistic.py:940: ConvergenceWarning: lbfgs failed to converge (status=1):\n",
            "STOP: TOTAL NO. of ITERATIONS REACHED LIMIT.\n",
            "\n",
            "Increase the number of iterations (max_iter) or scale the data as shown in:\n",
            "    https://scikit-learn.org/stable/modules/preprocessing.html\n",
            "Please also refer to the documentation for alternative solver options:\n",
            "    https://scikit-learn.org/stable/modules/linear_model.html#logistic-regression\n",
            "  extra_warning_msg=_LOGISTIC_SOLVER_CONVERGENCE_MSG)\n",
            "/usr/local/lib/python3.6/dist-packages/sklearn/linear_model/_logistic.py:940: ConvergenceWarning: lbfgs failed to converge (status=1):\n",
            "STOP: TOTAL NO. of ITERATIONS REACHED LIMIT.\n",
            "\n",
            "Increase the number of iterations (max_iter) or scale the data as shown in:\n",
            "    https://scikit-learn.org/stable/modules/preprocessing.html\n",
            "Please also refer to the documentation for alternative solver options:\n",
            "    https://scikit-learn.org/stable/modules/linear_model.html#logistic-regression\n",
            "  extra_warning_msg=_LOGISTIC_SOLVER_CONVERGENCE_MSG)\n"
          ],
          "name": "stderr"
        },
        {
          "output_type": "display_data",
          "data": {
            "image/png": "[encoded data removed]",
            "text/plain": [
              "<Figure size 432x288 with 2 Axes>"
            ]
          },
          "metadata": {
            "tags": [],
            "needs_background": "light"
          }
        }
      ]
    },
    {
      "cell_type": "code",
      "metadata": {
        "id": "lhIhOsOxBRbx",
        "colab_type": "code",
        "colab": {}
      },
      "source": [
        ""
      ],
      "execution_count": 0,
      "outputs": []
    }
  ]
}