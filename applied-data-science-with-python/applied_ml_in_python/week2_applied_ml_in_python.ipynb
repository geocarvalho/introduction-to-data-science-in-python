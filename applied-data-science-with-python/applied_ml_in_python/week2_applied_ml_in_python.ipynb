{
  "nbformat": 4,
  "nbformat_minor": 0,
  "metadata": {
    "colab": {
      "name": "week2_applied-ml-in-python.ipynb",
      "provenance": [],
      "collapsed_sections": [],
      "authorship_tag": "ABX9TyMZhW/Wv+vmoay/erFlR/FF",
      "include_colab_link": true
    },
    "kernelspec": {
      "name": "python3",
      "display_name": "Python 3"
    }
  },
  "cells": [
    {
      "cell_type": "markdown",
      "metadata": {
        "id": "view-in-github",
        "colab_type": "text"
      },
      "source": [
        "<a href=\"https://colab.research.google.com/github/geocarvalho/python-ds/blob/master/applied-data-science-with-python/applied_ml_in_python/week2_applied_ml_in_python.ipynb\" target=\"_parent\"><img src=\"https://colab.research.google.com/assets/colab-badge.svg\" alt=\"Open In Colab\"/></a>"
      ]
    },
    {
      "cell_type": "markdown",
      "metadata": {
        "id": "Zxvbtyh_qQGf",
        "colab_type": "text"
      },
      "source": [
        "# Applied ML in Python\n",
        "\n",
        "## Week 2 - Module 2 (Supervised Learning, Part I)\n",
        "\n",
        "### Introduction to supervised machine learning\n",
        "\n",
        "#### 1. Review\n",
        "\n",
        "* Feature representation;\n",
        "* Data instances/samples/examples (X);\n",
        "* Target value (y);\n",
        "* Training (75%) and test (25%) sets;\n",
        "* Model/Estimator\n",
        " * Model fitting produces a \"trained model\";\n",
        " * Training is the process of estimating model parameters.\n",
        "* Evaluation method (accuracy, f1-score, etc ).\n",
        "\n",
        "#### 2. Classification and regression\n",
        "\n",
        "* Both classification and regression take a set of training instances and learn a mapping to a **target value**;\n",
        "\n",
        "* For classification, the target value is a discrete class value.\n",
        " * Binary: target value is 0 (negative class) or 1 (positive class);\n",
        " > e.g. detecting a fraudulent credit card transaction.\n",
        " * Multi-class: target value is one of a set of discrete values;\n",
        " > e.g. labelling the type of fruit from physical attributes.\n",
        " * Multi-label: there are multiple values (labels).\n",
        " > e.g. labelling the topics discussed on a web page.\n",
        "\n",
        "* For regression, the target value is **continuous** (floating point/real-valued).\n",
        "  > e.g. predicting the selling price of a house from its attributes.\n",
        "\n",
        "* Looking at the target value's type will guide you on what supervised learning method to use.\n",
        "\n",
        "#### 3. The relationship between model complexity and training/test performance\n",
        "\n",
        "* In ML we use the term features to refer to the input (independent variables) and target value (label) to refer to the output (depedent variables).\n",
        "\n",
        "---\n",
        "\n",
        "### Overfitting and underfitting\n",
        "\n",
        "#### Generalization\n",
        "\n",
        "* Algorithm's ability to give accurate predictions for a new, previously unseen data\n",
        "\n",
        "  - Future unseen data (test set) will have the same properties as the current training sets;\n",
        "  - Thus, models that are accurate on the training set are expected to be accurate on the test set;\n",
        "  - But that may not happen if the trained models is tuned too specifically to the training set (overfitting).\n",
        "\n",
        "* Models that are too complex for the amount of training data available are said to **overfit** and are not likely to generalize well to new examples;\n",
        "\n",
        "* Models that are to simple, that don't even do well on the training data are said to **underfit** and also not likely to generalize well.\n",
        "\n"
      ]
    },
    {
      "cell_type": "code",
      "metadata": {
        "id": "kXdryIO2Fw5I",
        "colab_type": "code",
        "colab": {}
      },
      "source": [
        "# https://stackoverflow.com/questions/50665594/i-am-unable-to-install-adspy-shared-utilities-in-anaconda-using-the-command-cond\n",
        "# adspy_shared_utilities\n",
        "\n",
        "import numpy\n",
        "import pandas as pd\n",
        "import seaborn as sn\n",
        "import matplotlib.pyplot as plt\n",
        "import matplotlib.cm as cm\n",
        "from matplotlib.colors import ListedColormap, BoundaryNorm\n",
        "from sklearn import neighbors\n",
        "import matplotlib.patches as mpatches\n",
        "import graphviz\n",
        "from sklearn.tree import export_graphviz\n",
        "import matplotlib.patches as mpatches\n",
        "\n",
        "def load_crime_dataset():\n",
        "    # Communities and Crime dataset for regression\n",
        "    # https://archive.ics.uci.edu/ml/datasets/Communities+and+Crime+Unnormalized\n",
        "    uri = \"https://raw.githubusercontent.com/Starignus/AppliedML_Python_Coursera/master/CommViolPredUnnormalizedData.txt\"\n",
        "    crime = pd.read_table(uri, sep=',', na_values='?')\n",
        "    # remove features with poor coverage or lower relevance, and keep ViolentCrimesPerPop target column\n",
        "    columns_to_keep = [5, 6] + list(range(11,26)) + list(range(32, 103)) + [145]  \n",
        "    crime = crime.iloc[:,columns_to_keep].dropna()\n",
        "\n",
        "    X_crime = crime.iloc[:,range(0,88)]\n",
        "    y_crime = crime['ViolentCrimesPerPop']\n",
        "\n",
        "    return (X_crime, y_crime)\n",
        "\n",
        "def plot_decision_tree(clf, feature_names, class_names):\n",
        "    # This function requires the pydotplus module and assumes it's been installed.\n",
        "    # In some cases (typically under Windows) even after running conda install, there is a problem where the\n",
        "    # pydotplus module is not found when running from within the notebook environment.  The following code\n",
        "    # may help to guarantee the module is installed in the current notebook environment directory.\n",
        "    #\n",
        "    # import sys; sys.executable\n",
        "    # !{sys.executable} -m pip install pydotplus\n",
        "\n",
        "    export_graphviz(clf, out_file=\"adspy_temp.dot\", feature_names=feature_names, class_names=class_names, filled = True, impurity = False)\n",
        "    with open(\"adspy_temp.dot\") as f:\n",
        "        dot_graph = f.read()\n",
        "    # Alternate method using pydotplus, if installed.\n",
        "    # graph = pydotplus.graphviz.graph_from_dot_data(dot_graph)\n",
        "    # return graph.create_png()\n",
        "    return graphviz.Source(dot_graph)\n",
        "\n",
        "def plot_feature_importances(clf, feature_names):\n",
        "    c_features = len(feature_names)\n",
        "    plt.barh(range(c_features), clf.feature_importances_)\n",
        "    plt.xlabel(\"Feature importance\")\n",
        "    plt.ylabel(\"Feature name\")\n",
        "    plt.yticks(numpy.arange(c_features), feature_names)\n",
        "\n",
        "def plot_labelled_scatter(X, y, class_labels):\n",
        "    num_labels = len(class_labels)\n",
        "\n",
        "    x_min, x_max = X[:, 0].min() - 1, X[:, 0].max() + 1\n",
        "    y_min, y_max = X[:, 1].min() - 1, X[:, 1].max() + 1\n",
        "\n",
        "    marker_array = ['o', '^', '*']\n",
        "    color_array = ['#FFFF00', '#00AAFF', '#000000', '#FF00AA']\n",
        "    cmap_bold = ListedColormap(color_array)\n",
        "    bnorm = BoundaryNorm(numpy.arange(0, num_labels + 1, 1), ncolors=num_labels)\n",
        "    plt.figure()\n",
        "\n",
        "    plt.scatter(X[:, 0], X[:, 1], s=65, c=y, cmap=cmap_bold, norm = bnorm, alpha = 0.40, edgecolor='black', lw = 1)\n",
        "\n",
        "    plt.xlim(x_min, x_max)\n",
        "    plt.ylim(y_min, y_max)\n",
        "\n",
        "    h = []\n",
        "    for c in range(0, num_labels):\n",
        "        h.append(mpatches.Patch(color=color_array[c], label=class_labels[c]))\n",
        "    plt.legend(handles=h)\n",
        "\n",
        "    plt.show()\n",
        "\n",
        "\n",
        "def plot_class_regions_for_classifier_subplot(clf, X, y, X_test, y_test, title, subplot, target_names = None, plot_decision_regions = True):\n",
        "\n",
        "    numClasses = numpy.amax(y) + 1\n",
        "    color_list_light = ['#FFFFAA', '#EFEFEF', '#AAFFAA', '#AAAAFF']\n",
        "    color_list_bold = ['#EEEE00', '#000000', '#00CC00', '#0000CC']\n",
        "    cmap_light = ListedColormap(color_list_light[0:numClasses])\n",
        "    cmap_bold  = ListedColormap(color_list_bold[0:numClasses])\n",
        "\n",
        "    h = 0.03\n",
        "    k = 0.5\n",
        "    x_plot_adjust = 0.1\n",
        "    y_plot_adjust = 0.1\n",
        "    plot_symbol_size = 50\n",
        "\n",
        "    x_min = X[:, 0].min()\n",
        "    x_max = X[:, 0].max()\n",
        "    y_min = X[:, 1].min()\n",
        "    y_max = X[:, 1].max()\n",
        "    x2, y2 = numpy.meshgrid(numpy.arange(x_min-k, x_max+k, h), numpy.arange(y_min-k, y_max+k, h))\n",
        "\n",
        "    P = clf.predict(numpy.c_[x2.ravel(), y2.ravel()])\n",
        "    P = P.reshape(x2.shape)\n",
        "\n",
        "    if plot_decision_regions:\n",
        "        subplot.contourf(x2, y2, P, cmap=cmap_light, alpha = 0.8)\n",
        "\n",
        "    subplot.scatter(X[:, 0], X[:, 1], c=y, cmap=cmap_bold, s=plot_symbol_size, edgecolor = 'black')\n",
        "    subplot.set_xlim(x_min - x_plot_adjust, x_max + x_plot_adjust)\n",
        "    subplot.set_ylim(y_min - y_plot_adjust, y_max + y_plot_adjust)\n",
        "\n",
        "    if (X_test is not None):\n",
        "        subplot.scatter(X_test[:, 0], X_test[:, 1], c=y_test, cmap=cmap_bold, s=plot_symbol_size, marker='^', edgecolor = 'black')\n",
        "        train_score = clf.score(X, y)\n",
        "        test_score  = clf.score(X_test, y_test)\n",
        "        title = title + \"\\nTrain score = {:.2f}, Test score = {:.2f}\".format(train_score, test_score)\n",
        "\n",
        "    subplot.set_title(title)\n",
        "\n",
        "    if (target_names is not None):\n",
        "        legend_handles = []\n",
        "        for i in range(0, len(target_names)):\n",
        "            patch = mpatches.Patch(color=color_list_bold[i], label=target_names[i])\n",
        "            legend_handles.append(patch)\n",
        "        subplot.legend(loc=0, handles=legend_handles)\n",
        "\n",
        "\n",
        "def plot_class_regions_for_classifier(clf, X, y, X_test=None, y_test=None, title=None, target_names = None, plot_decision_regions = True):\n",
        "\n",
        "    numClasses = numpy.amax(y) + 1\n",
        "    color_list_light = ['#FFFFAA', '#EFEFEF', '#AAFFAA', '#AAAAFF']\n",
        "    color_list_bold = ['#EEEE00', '#000000', '#00CC00', '#0000CC']\n",
        "    cmap_light = ListedColormap(color_list_light[0:numClasses])\n",
        "    cmap_bold  = ListedColormap(color_list_bold[0:numClasses])\n",
        "\n",
        "    h = 0.03\n",
        "    k = 0.5\n",
        "    x_plot_adjust = 0.1\n",
        "    y_plot_adjust = 0.1\n",
        "    plot_symbol_size = 50\n",
        "\n",
        "    x_min = X[:, 0].min()\n",
        "    x_max = X[:, 0].max()\n",
        "    y_min = X[:, 1].min()\n",
        "    y_max = X[:, 1].max()\n",
        "    x2, y2 = numpy.meshgrid(numpy.arange(x_min-k, x_max+k, h), numpy.arange(y_min-k, y_max+k, h))\n",
        "\n",
        "    P = clf.predict(numpy.c_[x2.ravel(), y2.ravel()])\n",
        "    P = P.reshape(x2.shape)\n",
        "    plt.figure()\n",
        "    if plot_decision_regions:\n",
        "        plt.contourf(x2, y2, P, cmap=cmap_light, alpha = 0.8)\n",
        "\n",
        "    plt.scatter(X[:, 0], X[:, 1], c=y, cmap=cmap_bold, s=plot_symbol_size, edgecolor = 'black')\n",
        "    plt.xlim(x_min - x_plot_adjust, x_max + x_plot_adjust)\n",
        "    plt.ylim(y_min - y_plot_adjust, y_max + y_plot_adjust)\n",
        "\n",
        "    if (X_test is not None):\n",
        "        plt.scatter(X_test[:, 0], X_test[:, 1], c=y_test, cmap=cmap_bold, s=plot_symbol_size, marker='^', edgecolor = 'black')\n",
        "        train_score = clf.score(X, y)\n",
        "        test_score  = clf.score(X_test, y_test)\n",
        "        title = title + \"\\nTrain score = {:.2f}, Test score = {:.2f}\".format(train_score, test_score)\n",
        "\n",
        "    if (target_names is not None):\n",
        "        legend_handles = []\n",
        "        for i in range(0, len(target_names)):\n",
        "            patch = mpatches.Patch(color=color_list_bold[i], label=target_names[i])\n",
        "            legend_handles.append(patch)\n",
        "        plt.legend(loc=0, handles=legend_handles)\n",
        "\n",
        "    if (title is not None):\n",
        "        plt.title(title)\n",
        "    plt.show()\n",
        "\n",
        "def plot_fruit_knn(X, y, n_neighbors, weights):\n",
        "    X_mat = X[['height', 'width']].as_matrix()\n",
        "    y_mat = y.as_matrix()\n",
        "\n",
        "    # Create color maps\n",
        "    cmap_light = ListedColormap(['#FFAAAA', '#AAFFAA', '#AAAAFF','#AFAFAF'])\n",
        "    cmap_bold  = ListedColormap(['#FF0000', '#00FF00', '#0000FF','#AFAFAF'])\n",
        "\n",
        "    clf = neighbors.KNeighborsClassifier(n_neighbors, weights=weights)\n",
        "    clf.fit(X_mat, y_mat)\n",
        "\n",
        "    # Plot the decision boundary by assigning a color in the color map\n",
        "    # to each mesh point.\n",
        "\n",
        "    mesh_step_size = .01  # step size in the mesh\n",
        "    plot_symbol_size = 50\n",
        "\n",
        "    x_min, x_max = X_mat[:, 0].min() - 1, X_mat[:, 0].max() + 1\n",
        "    y_min, y_max = X_mat[:, 1].min() - 1, X_mat[:, 1].max() + 1\n",
        "    xx, yy = numpy.meshgrid(numpy.arange(x_min, x_max, mesh_step_size),\n",
        "                         numpy.arange(y_min, y_max, mesh_step_size))\n",
        "    Z = clf.predict(numpy.c_[xx.ravel(), yy.ravel()])\n",
        "\n",
        "    # Put the result into a color plot\n",
        "    Z = Z.reshape(xx.shape)\n",
        "    plt.figure()\n",
        "    plt.pcolormesh(xx, yy, Z, cmap=cmap_light)\n",
        "\n",
        "    # Plot training points\n",
        "    plt.scatter(X_mat[:, 0], X_mat[:, 1], s=plot_symbol_size, c=y, cmap=cmap_bold, edgecolor = 'black')\n",
        "    plt.xlim(xx.min(), xx.max())\n",
        "    plt.ylim(yy.min(), yy.max())\n",
        "\n",
        "    patch0 = mpatches.Patch(color='#FF0000', label='apple')\n",
        "    patch1 = mpatches.Patch(color='#00FF00', label='mandarin')\n",
        "    patch2 = mpatches.Patch(color='#0000FF', label='orange')\n",
        "    patch3 = mpatches.Patch(color='#AFAFAF', label='lemon')\n",
        "    plt.legend(handles=[patch0, patch1, patch2, patch3])\n",
        "\n",
        "\n",
        "    plt.xlabel('height (cm)')\n",
        "    plt.ylabel('width (cm)')\n",
        "\n",
        "    plt.show()\n",
        "\n",
        "def plot_two_class_knn(X, y, n_neighbors, weights, X_test, y_test):\n",
        "    X_mat = X\n",
        "    y_mat = y\n",
        "\n",
        "    # Create color maps\n",
        "    cmap_light = ListedColormap(['#FFFFAA', '#AAFFAA', '#AAAAFF','#EFEFEF'])\n",
        "    cmap_bold  = ListedColormap(['#FFFF00', '#00FF00', '#0000FF','#000000'])\n",
        "\n",
        "    clf = neighbors.KNeighborsClassifier(n_neighbors, weights=weights)\n",
        "    clf.fit(X_mat, y_mat)\n",
        "\n",
        "    # Plot the decision boundary by assigning a color in the color map\n",
        "    # to each mesh point.\n",
        "\n",
        "    mesh_step_size = .01  # step size in the mesh\n",
        "    plot_symbol_size = 50\n",
        "\n",
        "    x_min, x_max = X_mat[:, 0].min() - 1, X_mat[:, 0].max() + 1\n",
        "    y_min, y_max = X_mat[:, 1].min() - 1, X_mat[:, 1].max() + 1\n",
        "    xx, yy = numpy.meshgrid(numpy.arange(x_min, x_max, mesh_step_size),\n",
        "                         numpy.arange(y_min, y_max, mesh_step_size))\n",
        "    Z = clf.predict(numpy.c_[xx.ravel(), yy.ravel()])\n",
        "\n",
        "    # Put the result into a color plot\n",
        "    Z = Z.reshape(xx.shape)\n",
        "    plt.figure()\n",
        "    plt.pcolormesh(xx, yy, Z, cmap=cmap_light)\n",
        "\n",
        "    # Plot training points\n",
        "    plt.scatter(X_mat[:, 0], X_mat[:, 1], s=plot_symbol_size, c=y, cmap=cmap_bold, edgecolor = 'black')\n",
        "    plt.xlim(xx.min(), xx.max())\n",
        "    plt.ylim(yy.min(), yy.max())\n",
        "\n",
        "    title = \"Neighbors = {}\".format(n_neighbors)\n",
        "    if (X_test is not None):\n",
        "        train_score = clf.score(X_mat, y_mat)\n",
        "        test_score  = clf.score(X_test, y_test)\n",
        "        title = title + \"\\nTrain score = {:.2f}, Test score = {:.2f}\".format(train_score, test_score)\n",
        "\n",
        "    patch0 = mpatches.Patch(color='#FFFF00', label='class 0')\n",
        "    patch1 = mpatches.Patch(color='#000000', label='class 1')\n",
        "    plt.legend(handles=[patch0, patch1])\n",
        "\n",
        "    plt.xlabel('Feature 0')\n",
        "    plt.ylabel('Feature 1')\n",
        "    plt.title(title)\n",
        "\n",
        "    plt.show()"
      ],
      "execution_count": 0,
      "outputs": []
    },
    {
      "cell_type": "markdown",
      "metadata": {
        "id": "ljZfz01u_bHT",
        "colab_type": "text"
      },
      "source": [
        "\n",
        "### Preamble and Review"
      ]
    },
    {
      "cell_type": "code",
      "metadata": {
        "id": "_yuDckDa1GdL",
        "colab_type": "code",
        "outputId": "3680d2c3-185e-4c86-e7c8-894aa00aa9c4",
        "colab": {
          "base_uri": "https://localhost:8080/",
          "height": 281
        }
      },
      "source": [
        "%matplotlib inline\n",
        "import numpy as np\n",
        "import pandas as pd\n",
        "import seaborn as sn\n",
        "import matplotlib.pyplot as plt\n",
        "from matplotlib.colors import ListedColormap\n",
        "\n",
        "from sklearn.model_selection import train_test_split\n",
        "from sklearn.neighbors import KNeighborsClassifier\n",
        "from sklearn.datasets import make_regression\n",
        "\n",
        "np.set_printoptions(precision=2)\n",
        "\n",
        "uri = \"https://raw.githubusercontent.com/susanli2016/Machine-Learning-with-Python/master/fruit_data_with_colors.txt\"\n",
        "fruits = pd.read_table(uri)\n",
        "\n",
        "feature_names_fruits = ['height', 'width', 'mass', 'color_score']\n",
        "X_fruits = fruits[feature_names_fruits]\n",
        "y_fruits = fruits['fruit_label']\n",
        "target_names_fruits = ['apple', 'mandarin', 'orange', 'lemon']\n",
        "\n",
        "X_fruits_2d = fruits[['height', 'width']]\n",
        "y_fruits_2d = fruits['fruit_label']\n",
        "\n",
        "cmap_bold = ListedColormap(['#FFFF00', '#00FF00', '#0000FF', '#000000'])\n",
        "plt.figure()\n",
        "plt.title('Sample regression problem with one input variable')\n",
        "X_R1, y_R1 = make_regression(n_samples=100, n_features=1,\n",
        "                             n_informative=1, bias=150.0,\n",
        "                             noise=30, random_state=0)\n",
        "plt.scatter(X_R1, y_R1, marker='o', s=50)\n",
        "plt.show()\n"
      ],
      "execution_count": 2,
      "outputs": [
        {
          "output_type": "display_data",
          "data": {
            "image/png": "[encoded data removed]",
            "text/plain": [
              "<Figure size 432x288 with 1 Axes>"
            ]
          },
          "metadata": {
            "tags": [],
            "needs_background": "light"
          }
        }
      ]
    },
    {
      "cell_type": "code",
      "metadata": {
        "id": "optjsOct243G",
        "colab_type": "code",
        "outputId": "20cfcd7f-a901-496b-f5e1-8c17dd79fa02",
        "colab": {
          "base_uri": "https://localhost:8080/",
          "height": 281
        }
      },
      "source": [
        "from sklearn.datasets import make_friedman1, make_classification\n",
        "\n",
        "plt.figure()\n",
        "plt.title(\"Complex regressio problem with one input variable\")\n",
        "X_F1, y_F1 = make_friedman1(n_samples=100, n_features=7, random_state=0)\n",
        "plt.scatter(X_F1[:, 2], y_F1, marker='o', s=50)\n",
        "plt.show()\n",
        "\n",
        "# plt.figure()\n",
        "# plt.title(\"Sample binary classification problem with two informative features\")\n",
        "# X_C2, y_C2 = make_classification(n_samples=100, n_features=2,\n",
        "#                                  n_redundant=0, n_informative=2,\n",
        "#                                  class_sep=0.5, random_state=0)"
      ],
      "execution_count": 3,
      "outputs": [
        {
          "output_type": "display_data",
          "data": {
            "image/png": "[encoded data removed]",
            "text/plain": [
              "<Figure size 432x288 with 1 Axes>"
            ]
          },
          "metadata": {
            "tags": [],
            "needs_background": "light"
          }
        }
      ]
    },
    {
      "cell_type": "code",
      "metadata": {
        "id": "V5-KuWKS4Fva",
        "colab_type": "code",
        "outputId": "2ba93e20-b09f-4fb1-89b7-b2592520fa26",
        "colab": {
          "base_uri": "https://localhost:8080/",
          "height": 281
        }
      },
      "source": [
        "from sklearn.datasets import make_blobs\n",
        "from sklearn.datasets import load_breast_cancer\n",
        "from sklearn.datasets import load_boston # https://archive.ics.uci.edu/ml/datasets/Communities+and+Crime+Unnormalized\n",
        "\n",
        "\n",
        "X_D2, y_D2 = make_blobs(n_samples=100, n_features=2,\n",
        "                        centers=8, cluster_std=1.3,\n",
        "                        random_state=4)\n",
        "\n",
        "y_D2 = y_D2 % 2\n",
        "plt.figure()\n",
        "plt.title(\"Sample binary classification problem with non-linearly separable classes\")\n",
        "plt.scatter(X_D2[:,0], X_D2[:,1], c=y_D2,\n",
        "            marker='o', s=50, cmap=cmap_bold)\n",
        "plt.show()\n",
        "\n",
        "cancer = load_breast_cancer()\n",
        "(X_cancer, y_cancer) = load_breast_cancer(return_X_y=True)\n",
        "\n",
        "(X_crime, y_crime) = load_boston(return_X_y=True)"
      ],
      "execution_count": 4,
      "outputs": [
        {
          "output_type": "display_data",
          "data": {
            "image/png": "[encoded data removed]",
            "text/plain": [
              "<Figure size 432x288 with 1 Axes>"
            ]
          },
          "metadata": {
            "tags": [],
            "needs_background": "light"
          }
        }
      ]
    },
    {
      "cell_type": "markdown",
      "metadata": {
        "id": "KFuDUdumA1nr",
        "colab_type": "text"
      },
      "source": [
        "### The k-NN classifier algorithm\n",
        "\n",
        "1. Find the most similar instances (X_NN) to X_test that are in X_train;\n",
        "\n",
        "2. Get the labels y_NN for instances in X_NN;\n",
        "\n",
        "3. Predict the label for X_test by combining the labels y_NN.\n",
        "> e.g. simple majority vote.\n",
        "\n",
        "* With increasing k, single training data points no longer have as dramatic influence the prediction;\n",
        "\n",
        "> It means lower underfitting when we increase the k value (lower model complexity);\n",
        "\n",
        "> The decision boundary has much less variance.\n",
        "\n",
        "* If we increase k to be the total number of points in the training set, the result is a single decision region where all predictions would be the most frequent class.\n",
        "\n",
        "#### k-NN classification"
      ]
    },
    {
      "cell_type": "code",
      "metadata": {
        "id": "FmenDEPyF30z",
        "colab_type": "code",
        "outputId": "91b797dd-e280-46d9-a083-21c3957ff515",
        "colab": {
          "base_uri": "https://localhost:8080/",
          "height": 238
        }
      },
      "source": [
        "X_train, X_test, y_train, y_test = train_test_split(X_C2, y_C2, random_state=0)\n",
        "\n",
        "plot_two_class_knn(X_train, y_train, 1, 'uniform', X_test, y_test)\n",
        "plot_two_class_knn(X_train, y_train, 3, 'uniform', X_test, y_test)\n",
        "plot_two_class_knn(X_train, y_train, 11, 'uniform', X_test, y_test)"
      ],
      "execution_count": 5,
      "outputs": [
        {
          "output_type": "error",
          "ename": "NameError",
          "evalue": "ignored",
          "traceback": [
            "\u001b[0;31m---------------------------------------------------------------------------\u001b[0m",
            "\u001b[0;31mNameError\u001b[0m                                 Traceback (most recent call last)",
            "\u001b[0;32m<ipython-input-5-14f58552891f>\u001b[0m in \u001b[0;36m<module>\u001b[0;34m()\u001b[0m\n\u001b[0;32m----> 1\u001b[0;31m \u001b[0mX_train\u001b[0m\u001b[0;34m,\u001b[0m \u001b[0mX_test\u001b[0m\u001b[0;34m,\u001b[0m \u001b[0my_train\u001b[0m\u001b[0;34m,\u001b[0m \u001b[0my_test\u001b[0m \u001b[0;34m=\u001b[0m \u001b[0mtrain_test_split\u001b[0m\u001b[0;34m(\u001b[0m\u001b[0mX_C2\u001b[0m\u001b[0;34m,\u001b[0m \u001b[0my_C2\u001b[0m\u001b[0;34m,\u001b[0m \u001b[0mrandom_state\u001b[0m\u001b[0;34m=\u001b[0m\u001b[0;36m0\u001b[0m\u001b[0;34m)\u001b[0m\u001b[0;34m\u001b[0m\u001b[0;34m\u001b[0m\u001b[0m\n\u001b[0m\u001b[1;32m      2\u001b[0m \u001b[0;34m\u001b[0m\u001b[0m\n\u001b[1;32m      3\u001b[0m \u001b[0mplot_two_class_knn\u001b[0m\u001b[0;34m(\u001b[0m\u001b[0mX_train\u001b[0m\u001b[0;34m,\u001b[0m \u001b[0my_train\u001b[0m\u001b[0;34m,\u001b[0m \u001b[0;36m1\u001b[0m\u001b[0;34m,\u001b[0m \u001b[0;34m'uniform'\u001b[0m\u001b[0;34m,\u001b[0m \u001b[0mX_test\u001b[0m\u001b[0;34m,\u001b[0m \u001b[0my_test\u001b[0m\u001b[0;34m)\u001b[0m\u001b[0;34m\u001b[0m\u001b[0;34m\u001b[0m\u001b[0m\n\u001b[1;32m      4\u001b[0m \u001b[0mplot_two_class_knn\u001b[0m\u001b[0;34m(\u001b[0m\u001b[0mX_train\u001b[0m\u001b[0;34m,\u001b[0m \u001b[0my_train\u001b[0m\u001b[0;34m,\u001b[0m \u001b[0;36m3\u001b[0m\u001b[0;34m,\u001b[0m \u001b[0;34m'uniform'\u001b[0m\u001b[0;34m,\u001b[0m \u001b[0mX_test\u001b[0m\u001b[0;34m,\u001b[0m \u001b[0my_test\u001b[0m\u001b[0;34m)\u001b[0m\u001b[0;34m\u001b[0m\u001b[0;34m\u001b[0m\u001b[0m\n\u001b[1;32m      5\u001b[0m \u001b[0mplot_two_class_knn\u001b[0m\u001b[0;34m(\u001b[0m\u001b[0mX_train\u001b[0m\u001b[0;34m,\u001b[0m \u001b[0my_train\u001b[0m\u001b[0;34m,\u001b[0m \u001b[0;36m11\u001b[0m\u001b[0;34m,\u001b[0m \u001b[0;34m'uniform'\u001b[0m\u001b[0;34m,\u001b[0m \u001b[0mX_test\u001b[0m\u001b[0;34m,\u001b[0m \u001b[0my_test\u001b[0m\u001b[0;34m)\u001b[0m\u001b[0;34m\u001b[0m\u001b[0;34m\u001b[0m\u001b[0m\n",
            "\u001b[0;31mNameError\u001b[0m: name 'X_C2' is not defined"
          ]
        }
      ]
    },
    {
      "cell_type": "markdown",
      "metadata": {
        "id": "GvRMinEEGjuX",
        "colab_type": "text"
      },
      "source": [
        "#### k-NN regression\n",
        "\n",
        "* Similar to the classification, it uses the average of the datas near our value.\n"
      ]
    },
    {
      "cell_type": "code",
      "metadata": {
        "id": "X7xonzkHHpbs",
        "colab_type": "code",
        "colab": {}
      },
      "source": [
        "from sklearn.neighbors import KNeighborsRegressor\n",
        "\n",
        "X_train, X_test, y_train, y_test = train_test_split(\n",
        "    X_R1, y_R1, random_state=0)\n",
        "knnreg = KNeighborsRegressor(n_neighbors=5).fit(X_train, y_train)\n",
        "\n",
        "print(knnreg.predict(X_test))\n",
        "print(\"R-squared test score: {:.3f}\".format(\n",
        "    knnreg.score(X_test, y_test)))"
      ],
      "execution_count": 0,
      "outputs": []
    },
    {
      "cell_type": "markdown",
      "metadata": {
        "id": "FRMsY1emK1QM",
        "colab_type": "text"
      },
      "source": [
        "#### The r-squared ($R^2$) regression score\n",
        "\n",
        "* Measures how well a prediction model for regression fits the given data;\n",
        "\n",
        "* The score is between 0 and 1:\n",
        " - A value of 0 corresponds to a constant model that predicts the mean value of all training target values;\n",
        " - A value of 1 corresponds to perfect predictions.\n",
        "\n",
        "* Also known as **coefficient of determination\". \n",
        "\n",
        "#### Regression model complexity as a function of K"
      ]
    },
    {
      "cell_type": "code",
      "metadata": {
        "id": "SY4aoqrRLjMK",
        "colab_type": "code",
        "colab": {}
      },
      "source": [
        "fig, subaxes = plt.subplots(5, 1, figsize=(5,20))\n",
        "X_predict_input = np.linspace(-3, 3, 500).reshape(-1, 1)\n",
        "X_train, X_test, y_train, y_test = train_test_split(X_R1, y_R1,\n",
        "                                                    random_state=0)\n",
        "\n",
        "for thisaxis, K in zip(subaxes, [1,3,7,15,55]):\n",
        "  knnreg = KNeighborsRegressor(n_neighbors=K).fit(X_train, y_train)\n",
        "  y_predict_output = knnreg.predict(X_predict_input)\n",
        "  train_score = knnreg.score(X_train, y_train)\n",
        "  test_score = knnreg.score(X_test, y_test)\n",
        "  thisaxis.plot(X_predict_input, y_predict_output)\n",
        "  thisaxis.plot(X_train, y_train, 'o', alpha=0.9, label=\"Train\")\n",
        "  thisaxis.plot(X_test, y_test, '^', alpha=0.9, label=\"Test\")\n",
        "  thisaxis.set_xlabel(\"Input feature\")\n",
        "  thisaxis.set_ylabel(\"Target value\")\n",
        "  thisaxis.set_title(\"KNN Regression (K={})\\n\\\n",
        "  Train $R^2 = {:.3f}$, Test $R^2 = {:.3f}$\".format(\n",
        "      K, train_score, test_score))\n",
        "  thisaxis.legend()\n",
        "  plt.tight_layout(pad=0.4, w_pad=0.5, h_pad=1.0)"
      ],
      "execution_count": 0,
      "outputs": []
    },
    {
      "cell_type": "markdown",
      "metadata": {
        "id": "oBgkPnhkNXfc",
        "colab_type": "text"
      },
      "source": [
        "* As before, small values of **k** give models with higher complexity and large values of **k** result in simpler models with lower complexity;\n",
        "\n",
        "* Until k=55, where the model starts to underfit, it's too simple to do well, even on the training data.\n",
        "\n",
        "* For k-NN, whe the training data has many instances, or each instance has lots of features, this can slow down the performance of the model (e.g. sparce datasets)\n",
        "\n",
        "#### k-NN classifier and k-NN regressor important parameters\n",
        "\n",
        "* Model complexity\n",
        " - `n_neighbors`: number of nearest neighbors (k) to consider.\n",
        " > default = 5.\n",
        "\n",
        "* Model fitting\n",
        " - `metric`: distance function between data points.\n",
        " > default = Minkowski distance with power parameter p=2 (Euclidean).\n",
        "\n",
        "---\n",
        "\n",
        "### Linear regression: least-squares\n",
        "\n",
        "#### Linear models\n",
        "\n",
        "* Is a *sum of weighted variables* that predicts a target output value given an input data instance;\n",
        "\n",
        "#### A linear regression model with one variable (feature)\n",
        "\n",
        "* input instance: $x = (x_0)$\n",
        "* predicted output: $\\hat{y} = \\hat{w}_0 x_0 + \\hat{b}$\n",
        "* parameters to estimate: \n",
        " * $\\hat{w}_0$ (slope)\n",
        " * $\\hat{b}$ (y-intercept)\n",
        "\n",
        "#### Least-squares linear regression (ordinary least-squares)\n",
        "\n",
        "* Finds $w$ and $b$ that minimizes the mean squared error of the model;\n",
        "> The sum of squared differences (RSS - residual sum of squares) between predicted target and actual target values.\n",
        "$RSS(w,b) = \\sum^N_{i=1} (y_i - (w \\times  x_i + b))^2$\n",
        "\n",
        "* No parameters to control model complexity.\n",
        "\n",
        "#### How are linear regression parameters $w$ and $b$ estimated?\n",
        "\n",
        "* They are estimated from training data;\n",
        "* There are many different ways to estimate $w$ and $b$:\n",
        " * Different methods correspond to diffrent *fit* criteria, goals and ways to control model complexity.\n",
        "\n",
        "* The learning algorithm finds the parameters that optimize an *objective function*, typically to minimize some kind of *loss function* of the predicted target values vs. actual target values.\n",
        "\n"
      ]
    },
    {
      "cell_type": "code",
      "metadata": {
        "id": "gA_D1fruQbAo",
        "colab_type": "code",
        "colab": {}
      },
      "source": [
        "from sklearn.linear_model import LinearRegression\n",
        "\n",
        "X_train, X_test, y_train, y_test = train_test_split(X_R1, y_R1,\n",
        "                                                   random_state = 0)\n",
        "linreg = LinearRegression().fit(X_train, y_train)\n",
        "\n",
        "print('linear model coeff (w): {}'\n",
        "     .format(linreg.coef_))\n",
        "print('linear model intercept (b): {:.3f}'\n",
        "     .format(linreg.intercept_))\n",
        "print('R-squared score (training): {:.3f}'\n",
        "     .format(linreg.score(X_train, y_train)))\n",
        "print('R-squared score (test): {:.3f}'\n",
        "     .format(linreg.score(X_test, y_test)))"
      ],
      "execution_count": 0,
      "outputs": []
    },
    {
      "cell_type": "markdown",
      "metadata": {
        "id": "6HVFqKjJRUf6",
        "colab_type": "text"
      },
      "source": [
        "> Underscore denotes a quantity derived from training data, as opposed to a user setting."
      ]
    },
    {
      "cell_type": "code",
      "metadata": {
        "id": "IAsxxqjMR898",
        "colab_type": "code",
        "colab": {}
      },
      "source": [
        "plt.figure(figsize=(5,4))\n",
        "plt.scatter(X_R1, y_R1, marker= 'o', s=50, alpha=0.8)\n",
        "plt.plot(X_R1, linreg.coef_ * X_R1 + linreg.intercept_, 'r-')\n",
        "plt.title('Least-squares linear regression')\n",
        "plt.xlabel('Feature value (x)')\n",
        "plt.ylabel('Target value (y)')\n",
        "plt.show()"
      ],
      "execution_count": 0,
      "outputs": []
    },
    {
      "cell_type": "markdown",
      "metadata": {
        "id": "ZdAUFi00SL-J",
        "colab_type": "text"
      },
      "source": [
        "* The k-NN regressor doesn't make a lot of assumptions for k=7 about the structure of the data, and gives potentially accurate but sometimes unstable predictions that are sensitive to small changes in the training data;\n",
        "> So it has a correspondingly higher training set, r-squared score (0.72) compared to least-squares linear regression (0.679).\n",
        "\n",
        "* On the other hand, linear models make strong assumptions about the structure of the data, in other words, that the target value can be predicted using a weighted sum of the input variables. It give stable but potentially inaccurate predictions. However in this case, it turns out that the linear model has a strong assumption that there's a linear relationship between the input and output variables happes to be a good fit for this dataset.\n",
        "> And so it's better at more accurately predicting the y value for new x values that weren't seen during training. And we can see that the linear model gets a slightly better test set score (0.492) versus k-NN (0.471).\n",
        "\n",
        "---\n",
        "\n",
        "### Linear regression: Ridge, lasso, and polynomial regression\n",
        "\n",
        "* Learns $w$, $b$ using the same least-squares criterion but adds a penalty for large variations in $w$ parameters;\n",
        "\n",
        "$RSS_{ridge}(w,b) = \\sum_{i=1}^N (y_i - (w \\times x_i + b))^2 + \\alpha \\sum_{j=1}^p w_{j}^2$\n",
        "\n",
        "* Once the parameters are learned, the ridge regression prediction formula is the same as ordinary least-squares;\n",
        "\n",
        "* The addition of a parameter penalty is called **regularization*. It prevents overfitting by restricting the model, typically to reduce its complexity;\n",
        "\n",
        "* Ridge regression uses **L2 regularization**: minimize sum of squares of $w$ entries;\n",
        "\n",
        "* The influence of the regularization term is controlled by the $\\alpha$ parameter;\n",
        "> the default value is 1.0, setting alpha to 0 is the case of ordinary least-squares linear regression.\n",
        "\n",
        "* Higher $\\alpha$ means more regularization and simpler models.\n",
        "\n"
      ]
    },
    {
      "cell_type": "code",
      "metadata": {
        "id": "uR4mVr1-lIBn",
        "colab_type": "code",
        "colab": {
          "base_uri": "https://localhost:8080/",
          "height": 354
        },
        "outputId": "e34c3913-4232-4346-8e16-ac990172c038"
      },
      "source": [
        "# Ridge regression\n",
        "from sklearn.linear_model import Ridge\n",
        "\n",
        "(X_crime, y_crime) = load_crime_dataset()\n",
        "X_train, X_test, y_train, y_test = train_test_split(X_crime, y_crime,\n",
        "                                                   random_state = 0)\n",
        "\n",
        "linridge = Ridge(alpha=20.0).fit(X_train, y_train)\n",
        "\n",
        "print('Crime dataset')\n",
        "print('ridge regression linear model intercept: {}'\n",
        "     .format(linridge.intercept_))\n",
        "print('ridge regression linear model coeff:\\n{}'\n",
        "     .format(linridge.coef_))\n",
        "print('R-squared score (training): {:.3f}'\n",
        "     .format(linridge.score(X_train, y_train)))\n",
        "print('R-squared score (test): {:.3f}'\n",
        "     .format(linridge.score(X_test, y_test)))\n",
        "print('Number of non-zero features: {}'\n",
        "     .format(np.sum(linridge.coef_ != 0)))\n"
      ],
      "execution_count": 20,
      "outputs": [
        {
          "output_type": "stream",
          "text": [
            "Crime dataset\n",
            "ridge regression linear model intercept: -3352.423035846137\n",
            "ridge regression linear model coeff:\n",
            "[ 1.95e-03  2.19e+01  9.56e+00 -3.59e+01  6.36e+00 -1.97e+01 -2.81e-03\n",
            "  1.66e+00 -6.61e-03 -6.95e+00  1.72e+01 -5.63e+00  8.84e+00  6.79e-01\n",
            " -7.34e+00  6.70e-03  9.79e-04  5.01e-03 -4.90e+00 -1.79e+01  9.18e+00\n",
            " -1.24e+00  1.22e+00  1.03e+01 -3.78e+00 -3.73e+00  4.75e+00  8.43e+00\n",
            "  3.09e+01  1.19e+01 -2.05e+00 -3.82e+01  1.85e+01  1.53e+00 -2.20e+01\n",
            "  2.46e+00  3.29e-01  4.02e+00 -1.13e+01 -4.70e-03  4.27e+01 -1.23e-03\n",
            "  1.41e+00  9.35e-01 -3.00e+00  1.12e+00 -1.82e+01 -1.55e+01  2.42e+01\n",
            " -1.32e+01 -4.20e-01 -3.60e+01  1.30e+01 -2.81e+01  4.39e+01  3.87e+01\n",
            " -6.46e+01 -1.64e+01  2.90e+01  4.15e+00  5.34e+01  1.99e-02 -5.47e-01\n",
            "  1.24e+01  1.04e+01 -1.57e+00  3.16e+00  8.78e+00 -2.95e+01 -2.33e-04\n",
            "  3.14e-04 -4.14e-04 -1.79e-04 -5.74e-01 -5.18e-01 -4.21e-01  1.53e-01\n",
            "  1.33e+00  3.85e+00  3.03e+00 -3.78e+01  1.38e-01  3.08e-01  1.57e+01\n",
            "  3.31e-01  3.36e+00  1.61e-01 -2.68e+00]\n",
            "R-squared score (training): 0.671\n",
            "R-squared score (test): 0.494\n",
            "Number of non-zero features: 88\n"
          ],
          "name": "stdout"
        }
      ]
    },
    {
      "cell_type": "markdown",
      "metadata": {
        "id": "Y3CsMbEemGBZ",
        "colab_type": "text"
      },
      "source": [
        "#### The need for feature normalization\n",
        "\n",
        "* Importante for some ML methods that all features are on the same scale;\n",
        "> e.g. faster convergence in learning, more uniform of 'fair' influence for all weights;\n",
        "\n",
        " > e.g. regularized regression, k-NN, SVM, NN, ..\n",
        "\n",
        "* Can also depend on the data. More on feature engineering later in the course. For now, we do `MinMax` scaling of the features:\n",
        " * For each feature $x_i$: compute the min value $x_i^{MIN}$ and the max value $x_i^{MAX}$ achieved across all instances in the training set;\n",
        " * For each feature: transform a given feature $x_i$ value to a scaled version $x_i'$ using the formula:\n",
        "$x_i' = (x_i - x_i^{MIN})/(x_i^{MAX} - x_i^{MIN})$"
      ]
    },
    {
      "cell_type": "code",
      "metadata": {
        "id": "CgPg5umql1uW",
        "colab_type": "code",
        "colab": {
          "base_uri": "https://localhost:8080/",
          "height": 301
        },
        "outputId": "71456f5d-3b72-4461-a546-dfb254ee82ec"
      },
      "source": [
        "# Ridge regression with feature normalization\n",
        "\n",
        "from sklearn.preprocessing import MinMaxScaler\n",
        "scaler = MinMaxScaler()\n",
        "\n",
        "X_train, X_test, y_train, y_test = train_test_split(X_crime, y_crime,\n",
        "                                                   random_state = 0)\n",
        "\n",
        "X_train_scaled = scaler.fit_transform(X_train)\n",
        "X_test_scaled = scaler.transform(X_test)\n",
        "\n",
        "linridge = Ridge(alpha=20.0).fit(X_train_scaled, y_train)\n",
        "\n",
        "print('Crime dataset')\n",
        "print('ridge regression linear model intercept: {}'\n",
        "     .format(linridge.intercept_))\n",
        "print('ridge regression linear model coeff:\\n{}'\n",
        "     .format(linridge.coef_))\n",
        "print('R-squared score (training): {:.3f}'\n",
        "     .format(linridge.score(X_train_scaled, y_train)))\n",
        "print('R-squared score (test): {:.3f}'\n",
        "     .format(linridge.score(X_test_scaled, y_test)))\n",
        "print('Number of non-zero features: {}'\n",
        "     .format(np.sum(linridge.coef_ != 0)))"
      ],
      "execution_count": 21,
      "outputs": [
        {
          "output_type": "stream",
          "text": [
            "Crime dataset\n",
            "ridge regression linear model intercept: 933.3906385044153\n",
            "ridge regression linear model coeff:\n",
            "[  88.69   16.49  -50.3   -82.91  -65.9    -2.28   87.74  150.95   18.88\n",
            "  -31.06  -43.14 -189.44   -4.53  107.98  -76.53    2.86   34.95   90.14\n",
            "   52.46  -62.11  115.02    2.67    6.94   -5.67 -101.55  -36.91   -8.71\n",
            "   29.12  171.26   99.37   75.07  123.64   95.24 -330.61 -442.3  -284.5\n",
            " -258.37   17.66 -101.71  110.65  523.14   24.82    4.87  -30.47   -3.52\n",
            "   50.58   10.85   18.28   44.11   58.34   67.09  -57.94  116.14   53.81\n",
            "   49.02   -7.62   55.14  -52.09  123.39   77.13   45.5   184.91  -91.36\n",
            "    1.08  234.09   10.39   94.72  167.92  -25.14   -1.18   14.6    36.77\n",
            "   53.2   -78.86   -5.9    26.05  115.15   68.74   68.29   16.53  -97.91\n",
            "  205.2    75.97   61.38  -79.83   67.27   95.67  -11.88]\n",
            "R-squared score (training): 0.615\n",
            "R-squared score (test): 0.599\n",
            "Number of non-zero features: 88\n"
          ],
          "name": "stdout"
        }
      ]
    },
    {
      "cell_type": "markdown",
      "metadata": {
        "id": "qJvPtKcJoCdT",
        "colab_type": "text"
      },
      "source": [
        "#### Feature normalization: the test set must use identical scaling to the training set\n",
        "\n",
        "* Fit the scaler using the training set, then apply the same scaler to transform the test set;\n",
        "\n",
        "* Don't scaler the training and test sets using different scalers: this could lead to random skew in the data;\n",
        "\n",
        "* Don't fit the scaler using any part of the test data: refering the test data can lead to a form of *data leakage*;\n",
        "> The training phase has information that is leaked from the test set. The learning method can give unrealistically good estimates on the same test set.\n",
        "\n",
        "* The resulting model and the transformed features my be harder to interpret.\n",
        "\n"
      ]
    },
    {
      "cell_type": "markdown",
      "metadata": {
        "id": "1xBE6WYnpxWa",
        "colab_type": "text"
      },
      "source": [
        "* Generally, regularization works well when we have relatively small amounts of training data compared to the number of features in the model;\n",
        "\n",
        "* Regularization becomes less important as the amount of training data you have increases."
      ]
    },
    {
      "cell_type": "code",
      "metadata": {
        "id": "_cHcuGf6qMEI",
        "colab_type": "code",
        "colab": {
          "base_uri": "https://localhost:8080/",
          "height": 425
        },
        "outputId": "66dd9fa0-301f-4ba0-cdd2-498f6d97c3c0"
      },
      "source": [
        "# Ridge regression with regularization parameter: alpha\n",
        "print('Ridge regression: effect of alpha regularization parameter\\n')\n",
        "for this_alpha in [0, 1, 10, 20, 50, 100, 1000]:\n",
        "    linridge = Ridge(alpha = this_alpha).fit(X_train_scaled, y_train)\n",
        "    r2_train = linridge.score(X_train_scaled, y_train)\n",
        "    r2_test = linridge.score(X_test_scaled, y_test)\n",
        "    num_coeff_bigger = np.sum(abs(linridge.coef_) > 1.0)\n",
        "    print('Alpha = {:.2f}\\nnum abs(coeff) > 1.0: {}, \\\n",
        "r-squared training: {:.2f}, r-squared test: {:.2f}\\n'\n",
        "         .format(this_alpha, num_coeff_bigger, r2_train, r2_test))"
      ],
      "execution_count": 22,
      "outputs": [
        {
          "output_type": "stream",
          "text": [
            "Ridge regression: effect of alpha regularization parameter\n",
            "\n",
            "Alpha = 0.00\n",
            "num abs(coeff) > 1.0: 88, r-squared training: 0.67, r-squared test: 0.50\n",
            "\n",
            "Alpha = 1.00\n",
            "num abs(coeff) > 1.0: 87, r-squared training: 0.66, r-squared test: 0.56\n",
            "\n",
            "Alpha = 10.00\n",
            "num abs(coeff) > 1.0: 87, r-squared training: 0.63, r-squared test: 0.59\n",
            "\n",
            "Alpha = 20.00\n",
            "num abs(coeff) > 1.0: 88, r-squared training: 0.61, r-squared test: 0.60\n",
            "\n",
            "Alpha = 50.00\n",
            "num abs(coeff) > 1.0: 86, r-squared training: 0.58, r-squared test: 0.58\n",
            "\n",
            "Alpha = 100.00\n",
            "num abs(coeff) > 1.0: 87, r-squared training: 0.55, r-squared test: 0.55\n",
            "\n",
            "Alpha = 1000.00\n",
            "num abs(coeff) > 1.0: 84, r-squared training: 0.31, r-squared test: 0.30\n",
            "\n"
          ],
          "name": "stdout"
        }
      ]
    },
    {
      "cell_type": "markdown",
      "metadata": {
        "id": "1hcvHt-BqgO_",
        "colab_type": "text"
      },
      "source": [
        "#### Lasso regression is another form of regularized linear regression that uses an **L1 regularization** penalty for training (instead of ridge's L2 penalty)\n",
        "\n",
        "* L1 penalty: Minimize the sum of the **absolute values** of the coefficients:\n",
        "$ RSS_{lasso}(w,b) = \\sum_{i=1}^N (y_i - (w \\times x_i + b))^2 + \\alpha \\sum_{j=1}^p |w_j|$\n",
        "\n",
        "* This has the effect of setting parameter weights in $w$ to **zero** for the least influential variables. This is called a **sparse** solution,a kind of feature selection;\n",
        "\n",
        "* The parameter $\\alpha$ controls the amount of L1 regularization (default=1.0);\n",
        "\n",
        "* The prediction formula is the same as ordinary least-squares;\n",
        "\n",
        "* When to use ridge vs lasso regression:\n",
        " * Ridge: many small/medium sized effects.\n",
        " * Lasso: only a few variables with medium/large effect."
      ]
    },
    {
      "cell_type": "code",
      "metadata": {
        "id": "zrhJqxEyr6pv",
        "colab_type": "code",
        "colab": {
          "base_uri": "https://localhost:8080/",
          "height": 710
        },
        "outputId": "aa516703-b77c-4711-ac62-19df8f0d11b0"
      },
      "source": [
        "# Lasso regression\n",
        "from sklearn.linear_model import Lasso\n",
        "scaler = MinMaxScaler()\n",
        "\n",
        "X_train, X_test, y_train, y_test = train_test_split(X_crime, y_crime,\n",
        "                                                   random_state = 0)\n",
        "\n",
        "X_train_scaled = scaler.fit_transform(X_train)\n",
        "X_test_scaled = scaler.transform(X_test)\n",
        "\n",
        "linlasso = Lasso(alpha=2.0, max_iter = 10000).fit(X_train_scaled, y_train)\n",
        "\n",
        "print('Crime dataset')\n",
        "print('lasso regression linear model intercept: {}'\n",
        "     .format(linlasso.intercept_))\n",
        "print('lasso regression linear model coeff:\\n{}'\n",
        "     .format(linlasso.coef_))\n",
        "print('Non-zero features: {}'\n",
        "     .format(np.sum(linlasso.coef_ != 0)))\n",
        "print('R-squared score (training): {:.3f}'\n",
        "     .format(linlasso.score(X_train_scaled, y_train)))\n",
        "print('R-squared score (test): {:.3f}\\n'\n",
        "     .format(linlasso.score(X_test_scaled, y_test)))\n",
        "print('Features with non-zero weight (sorted by absolute magnitude):')\n",
        "\n",
        "for e in sorted (list(zip(list(X_crime), linlasso.coef_)),key = lambda e: -abs(e[1])):\n",
        "  if e[1] != 0:\n",
        "    print('\\t{}, {:.3f}'.format(e[0], e[1]))"
      ],
      "execution_count": 24,
      "outputs": [
        {
          "output_type": "stream",
          "text": [
            "Crime dataset\n",
            "lasso regression linear model intercept: 1186.612061998579\n",
            "lasso regression linear model coeff:\n",
            "[    0.       0.      -0.    -168.18    -0.      -0.       0.     119.69\n",
            "     0.      -0.       0.    -169.68    -0.       0.      -0.       0.\n",
            "     0.       0.      -0.      -0.       0.      -0.       0.       0.\n",
            "   -57.53    -0.      -0.       0.     259.33    -0.       0.       0.\n",
            "     0.      -0.   -1188.74    -0.      -0.      -0.    -231.42     0.\n",
            "  1488.37     0.      -0.      -0.      -0.       0.       0.       0.\n",
            "     0.       0.      -0.       0.      20.14     0.       0.       0.\n",
            "     0.       0.     339.04     0.       0.     459.54    -0.       0.\n",
            "   122.69    -0.      91.41     0.      -0.       0.       0.      73.14\n",
            "     0.      -0.       0.       0.      86.36     0.       0.       0.\n",
            "  -104.57   264.93     0.      23.45   -49.39     0.       5.2      0.  ]\n",
            "Non-zero features: 20\n",
            "R-squared score (training): 0.631\n",
            "R-squared score (test): 0.624\n",
            "\n",
            "Features with non-zero weight (sorted by absolute magnitude):\n",
            "\tPctKidsBornNeverMar, 1488.365\n",
            "\tPctKids2Par, -1188.740\n",
            "\tHousVacant, 459.538\n",
            "\tPctPersDenseHous, 339.045\n",
            "\tNumInShelters, 264.932\n",
            "\tMalePctDivorce, 259.329\n",
            "\tPctWorkMom, -231.423\n",
            "\tpctWInvInc, -169.676\n",
            "\tagePct12t29, -168.183\n",
            "\tPctVacantBoarded, 122.692\n",
            "\tpctUrban, 119.694\n",
            "\tMedOwnCostPctIncNoMtg, -104.571\n",
            "\tMedYrHousBuilt, 91.412\n",
            "\tRentQrange, 86.356\n",
            "\tOwnOccHiQuart, 73.144\n",
            "\tPctEmplManu, -57.530\n",
            "\tPctBornSameState, -49.394\n",
            "\tPctForeignBorn, 23.449\n",
            "\tPctLargHouseFam, 20.144\n",
            "\tPctSameCity85, 5.198\n"
          ],
          "name": "stdout"
        }
      ]
    },
    {
      "cell_type": "code",
      "metadata": {
        "id": "4xio3CuAvT_j",
        "colab_type": "code",
        "colab": {
          "base_uri": "https://localhost:8080/",
          "height": 496
        },
        "outputId": "a0cc61a1-b18d-4ca6-8d89-97c91b2dce80"
      },
      "source": [
        "# Lasso regressuib with regularization parameter: alpha\n",
        "print('Lasso regression: effect of alpha regularization\\n\\\n",
        "parameter on number of features kept in final model\\n')\n",
        "\n",
        "for alpha in [0.5, 1, 2, 3, 5, 10, 20, 50]:\n",
        "    linlasso = Lasso(alpha, max_iter = 10000).fit(X_train_scaled, y_train)\n",
        "    r2_train = linlasso.score(X_train_scaled, y_train)\n",
        "    r2_test = linlasso.score(X_test_scaled, y_test)\n",
        "    \n",
        "    print('Alpha = {:.2f}\\nFeatures kept: {}, r-squared training: {:.2f}, \\\n",
        "r-squared test: {:.2f}\\n'\n",
        "         .format(alpha, np.sum(linlasso.coef_ != 0), r2_train, r2_test))"
      ],
      "execution_count": 25,
      "outputs": [
        {
          "output_type": "stream",
          "text": [
            "Lasso regression: effect of alpha regularization\n",
            "parameter on number of features kept in final model\n",
            "\n",
            "Alpha = 0.50\n",
            "Features kept: 35, r-squared training: 0.65, r-squared test: 0.58\n",
            "\n",
            "Alpha = 1.00\n",
            "Features kept: 25, r-squared training: 0.64, r-squared test: 0.60\n",
            "\n",
            "Alpha = 2.00\n",
            "Features kept: 20, r-squared training: 0.63, r-squared test: 0.62\n",
            "\n",
            "Alpha = 3.00\n",
            "Features kept: 17, r-squared training: 0.62, r-squared test: 0.63\n",
            "\n",
            "Alpha = 5.00\n",
            "Features kept: 12, r-squared training: 0.60, r-squared test: 0.61\n",
            "\n",
            "Alpha = 10.00\n",
            "Features kept: 6, r-squared training: 0.57, r-squared test: 0.58\n",
            "\n",
            "Alpha = 20.00\n",
            "Features kept: 2, r-squared training: 0.51, r-squared test: 0.50\n",
            "\n",
            "Alpha = 50.00\n",
            "Features kept: 1, r-squared training: 0.31, r-squared test: 0.30\n",
            "\n"
          ],
          "name": "stdout"
        }
      ]
    },
    {
      "cell_type": "markdown",
      "metadata": {
        "id": "mvLacFgDr5xr",
        "colab_type": "text"
      },
      "source": [
        "* The alpha value will be different for different data sets, and depends of the feature preprocessing being used;\n",
        "\n",
        "#### Polynomial features with linear regression\n",
        "\n",
        "$x = (x_0, x_1)$\n",
        "\n",
        "$x' = (x_0, x_1, x_0^2, x_0x_1, x_1^2)$\n",
        "\n",
        "$\\hat{y} = \\hat{w_0}x_0 + \\hat{w_1}x_1 + \\hat{w_{00}}x_0^2 + \\hat{w_{01}}x_0x_1 + \\hat{w_{11}}x_1^2 + b$\n",
        "\n",
        "* Generate new features consisting of all polynomial combinations of the original two features ($x_0,x_1$);\n",
        "\n",
        "* The degree of the polynomial specifies how many variables participate at a time in each new feature (above example: degree 2);\n",
        "\n",
        "* This is still a weighted linear combination of features, so it's still a linear model, and can use the same least-squares estimation method for $w$ and $b$;\n",
        "\n",
        "* With polunomial feature transformation we can transform a problem into a higher dimensional regression space, allowing a much richer set of complex functions that we can use to fit to the data;\n",
        "\n",
        "* Why would we want to transform our data this way?\n",
        " * To capture interactions between the original features by adding them as features to the linear model;\n",
        " * To make a classification problem easier.\n",
        "\n",
        "* More generally, we can apply other non-linear transformations to create new features;\n",
        "> Technically, these are called non-linear basis functions.\n",
        "\n",
        "* Beware of polynomial feature expansion with high degree, as this can lead to complex models that overfit;\n",
        "> Thus. polynomial feature expansion os often combined with a regularized learning method like ridge regression.\n",
        "\n"
      ]
    },
    {
      "cell_type": "code",
      "metadata": {
        "id": "5zYuRg3vx48N",
        "colab_type": "code",
        "colab": {
          "base_uri": "https://localhost:8080/",
          "height": 585
        },
        "outputId": "198f0a2f-17d0-4fa8-f4cd-19e7ddb5bcb1"
      },
      "source": [
        "# Polynomial regression\n",
        "from sklearn.linear_model import LinearRegression\n",
        "from sklearn.linear_model import Ridge\n",
        "from sklearn.preprocessing import PolynomialFeatures\n",
        "\n",
        "\n",
        "X_train, X_test, y_train, y_test = train_test_split(X_F1, y_F1,\n",
        "                                                   random_state = 0)\n",
        "linreg = LinearRegression().fit(X_train, y_train)\n",
        "\n",
        "print('linear model coeff (w): {}'\n",
        "     .format(linreg.coef_))\n",
        "print('linear model intercept (b): {:.3f}'\n",
        "     .format(linreg.intercept_))\n",
        "print('R-squared score (training): {:.3f}'\n",
        "     .format(linreg.score(X_train, y_train)))\n",
        "print('R-squared score (test): {:.3f}'\n",
        "     .format(linreg.score(X_test, y_test)))\n",
        "\n",
        "# 2 regression\n",
        "print('\\nNow we transform the original input data to add\\n\\\n",
        "polynomial features up to degree 2 (quadratic)\\n')\n",
        "poly = PolynomialFeatures(degree=2)\n",
        "X_F1_poly = poly.fit_transform(X_F1)\n",
        "\n",
        "X_train, X_test, y_train, y_test = train_test_split(X_F1_poly, y_F1,\n",
        "                                                   random_state = 0)\n",
        "linreg = LinearRegression().fit(X_train, y_train)\n",
        "\n",
        "print('(poly deg 2) linear model coeff (w):\\n{}'\n",
        "     .format(linreg.coef_))\n",
        "print('(poly deg 2) linear model intercept (b): {:.3f}'\n",
        "     .format(linreg.intercept_))\n",
        "print('(poly deg 2) R-squared score (training): {:.3f}'\n",
        "     .format(linreg.score(X_train, y_train)))\n",
        "print('(poly deg 2) R-squared score (test): {:.3f}\\n'\n",
        "     .format(linreg.score(X_test, y_test)))\n",
        "\n",
        "# 3 regression\n",
        "print('\\nAddition of many polynomial features often leads to\\n\\\n",
        "overfitting, so we often use polynomial features in combination\\n\\\n",
        "with regression that has a regularization penalty, like ridge\\n\\\n",
        "regression.\\n')\n",
        "\n",
        "X_train, X_test, y_train, y_test = train_test_split(X_F1_poly, y_F1,\n",
        "                                                   random_state = 0)\n",
        "linreg = Ridge().fit(X_train, y_train)\n",
        "\n",
        "print('(poly deg 2 + ridge) linear model coeff (w):\\n{}'\n",
        "     .format(linreg.coef_))\n",
        "print('(poly deg 2 + ridge) linear model intercept (b): {:.3f}'\n",
        "     .format(linreg.intercept_))\n",
        "print('(poly deg 2 + ridge) R-squared score (training): {:.3f}'\n",
        "     .format(linreg.score(X_train, y_train)))\n",
        "print('(poly deg 2 + ridge) R-squared score (test): {:.3f}'\n",
        "     .format(linreg.score(X_test, y_test)))"
      ],
      "execution_count": 27,
      "outputs": [
        {
          "output_type": "stream",
          "text": [
            "linear model coeff (w): [ 4.42  6.    0.53 10.24  6.55 -2.02 -0.32]\n",
            "linear model intercept (b): 1.543\n",
            "R-squared score (training): 0.722\n",
            "R-squared score (test): 0.722\n",
            "\n",
            "Now we transform the original input data to add\n",
            "polynomial features up to degree 2 (quadratic)\n",
            "\n",
            "(poly deg 2) linear model coeff (w):\n",
            "[ 3.41e-12  1.66e+01  2.67e+01 -2.21e+01  1.24e+01  6.93e+00  1.05e+00\n",
            "  3.71e+00 -1.34e+01 -5.73e+00  1.62e+00  3.66e+00  5.05e+00 -1.46e+00\n",
            "  1.95e+00 -1.51e+01  4.87e+00 -2.97e+00 -7.78e+00  5.15e+00 -4.65e+00\n",
            "  1.84e+01 -2.22e+00  2.17e+00 -1.28e+00  1.88e+00  1.53e-01  5.62e-01\n",
            " -8.92e-01 -2.18e+00  1.38e+00 -4.90e+00 -2.24e+00  1.38e+00 -5.52e-01\n",
            " -1.09e+00]\n",
            "(poly deg 2) linear model intercept (b): -3.206\n",
            "(poly deg 2) R-squared score (training): 0.969\n",
            "(poly deg 2) R-squared score (test): 0.805\n",
            "\n",
            "\n",
            "Addition of many polynomial features often leads to\n",
            "overfitting, so we often use polynomial features in combination\n",
            "with regression that has a regularization penalty, like ridge\n",
            "regression.\n",
            "\n",
            "(poly deg 2 + ridge) linear model coeff (w):\n",
            "[ 0.    2.23  4.73 -3.15  3.86  1.61 -0.77 -0.15 -1.75  1.6   1.37  2.52\n",
            "  2.72  0.49 -1.94 -1.63  1.51  0.89  0.26  2.05 -1.93  3.62 -0.72  0.63\n",
            " -3.16  1.29  3.55  1.73  0.94 -0.51  1.7  -1.98  1.81 -0.22  2.88 -0.89]\n",
            "(poly deg 2 + ridge) linear model intercept (b): 5.418\n",
            "(poly deg 2 + ridge) R-squared score (training): 0.826\n",
            "(poly deg 2 + ridge) R-squared score (test): 0.825\n"
          ],
          "name": "stdout"
        }
      ]
    },
    {
      "cell_type": "markdown",
      "metadata": {
        "id": "ztKIwlXjqrnd",
        "colab_type": "text"
      },
      "source": [
        "## Datasets"
      ]
    },
    {
      "cell_type": "code",
      "metadata": {
        "id": "3RbmBQtjqpKN",
        "colab_type": "code",
        "colab": {}
      },
      "source": [
        "# from sklearn.datasets import make_classification, make_blobs\n",
        "# from matplotlib.colors import ListedColormap\n",
        "# from sklearn.datasets import load_breast_cancer\n",
        "\n",
        "# cmap_bold = ListedColormap(['#FFFF00', '#00FF00', '#0000FF','#000000'])\n",
        "\n",
        "\n",
        "# # synthetic dataset for simple regression\n",
        "# from sklearn.datasets import make_regression\n",
        "# plt.figure()\n",
        "# plt.title('Sample regression problem with one input variable')\n",
        "# X_R1, y_R1 = make_regression(n_samples = 100, n_features=1,\n",
        "#                             n_informative=1, bias = 150.0,\n",
        "#                             noise = 30, random_state=0)\n",
        "# plt.scatter(X_R1, y_R1, marker= 'o', s=50)\n",
        "# plt.show()\n",
        "\n",
        "\n",
        "# # synthetic dataset for more complex regression\n",
        "# from sklearn.datasets import make_friedman1\n",
        "# plt.figure()\n",
        "# plt.title('Complex regression problem with one input variable')\n",
        "# X_F1, y_F1 = make_friedman1(n_samples = 100,\n",
        "#                            n_features = 7, random_state=0)\n",
        "\n",
        "# plt.scatter(X_F1[:, 2], y_F1, marker= 'o', s=50)\n",
        "# plt.show()\n",
        "\n",
        "# # synthetic dataset for classification (binary) \n",
        "# plt.figure()\n",
        "# plt.title('Sample binary classification problem with two informative features')\n",
        "# X_C2, y_C2 = make_classification(n_samples = 100, n_features=2,\n",
        "#                                 n_redundant=0, n_informative=2,\n",
        "#                                 n_clusters_per_class=1, flip_y = 0.1,\n",
        "#                                 class_sep = 0.5, random_state=0)\n",
        "# plt.scatter(X_C2[:, 0], X_C2[:, 1], c=y_C2,\n",
        "#            marker= 'o', s=50, cmap=cmap_bold)\n",
        "# plt.show()\n",
        "\n",
        "\n",
        "# # more difficult synthetic dataset for classification (binary) \n",
        "# # with classes that are not linearly separable\n",
        "# X_D2, y_D2 = make_blobs(n_samples = 100, n_features = 2, centers = 8,\n",
        "#                        cluster_std = 1.3, random_state = 4)\n",
        "# y_D2 = y_D2\n",
        "# # from adspy_shared_utilities import load_crime_dataset % 2\n",
        "# plt.figure()\n",
        "# plt.title('Sample binary classification problem with non-linearly separable classes')\n",
        "# plt.scatter(X_D2[:,0], X_D2[:,1], c=y_D2,\n",
        "#            marker= 'o', s=50, cmap=cmap_bold)\n",
        "# plt.show()\n",
        "\n",
        "\n",
        "# # Breast cancer dataset for classification\n",
        "# cancer = load_breast_cancer()\n",
        "# (X_cancer, y_cancer) = load_breast_cancer(return_X_y = True)\n",
        "\n",
        "\n",
        "# # Communities and Crime dataset\n",
        "# (X_crime, y_crime) = load_crime_dataset()"
      ],
      "execution_count": 0,
      "outputs": []
    },
    {
      "cell_type": "markdown",
      "metadata": {
        "id": "kUYXWnMQsOyz",
        "colab_type": "text"
      },
      "source": [
        "---\n",
        "### Logistic regression\n",
        "\n",
        "\n",
        "#### Logistic regression for binary classification on fruits dataset using height, width features (positive class: apple, negative class: others)\n",
        "\n"
      ]
    },
    {
      "cell_type": "code",
      "metadata": {
        "id": "2jqkIheNsM7A",
        "colab_type": "code",
        "colab": {}
      },
      "source": [
        "from sklearn.linear_model import LogisticRegression\n",
        "# from adspy_shared_utilities import (plot_class_regions_for_classifier_subplot)\n",
        "\n",
        "fig, subaxes = plt.subplots(1, 1, figsize=(7, 5))\n",
        "y_fruits_apple = y_fruits_2d == 1   # make into a binary problem: apples vs everything else\n",
        "X_train, X_test, y_train, y_test = (\n",
        "train_test_split(X_fruits_2d.to_numpy(),\n",
        "                y_fruits_apple.to_numpy(),\n",
        "                random_state = 0))\n",
        "\n",
        "clf = LogisticRegression(C=100).fit(X_train, y_train)\n",
        "# plot_class_regions_for_classifier_subplot(clf, X_train, y_train, None,\n",
        "#                                          None, 'Logistic regression \\\n",
        "# for binary classification\\nFruit dataset: Apple vs others',\n",
        "#                                          subaxes)\n",
        "\n",
        "h = 6\n",
        "w = 8\n",
        "print('A fruit with height {} and width {} is predicted to be: {}'\n",
        "     .format(h,w, ['not an apple', 'an apple'][clf.predict([[h,w]])[0]]))\n",
        "\n",
        "h = 10\n",
        "w = 7\n",
        "print('A fruit with height {} and width {} is predicted to be: {}'\n",
        "     .format(h,w, ['not an apple', 'an apple'][clf.predict([[h,w]])[0]]))\n",
        "subaxes.set_xlabel('height')\n",
        "subaxes.set_ylabel('width')\n",
        "\n",
        "print('Accuracy of Logistic regression classifier on training set: {:.2f}'\n",
        "     .format(clf.score(X_train, y_train)))\n",
        "print('Accuracy of Logistic regression classifier on test set: {:.2f}'\n",
        "     .format(clf.score(X_test, y_test)))"
      ],
      "execution_count": 0,
      "outputs": []
    },
    {
      "cell_type": "markdown",
      "metadata": {
        "id": "QhnCxNgntIql",
        "colab_type": "text"
      },
      "source": [
        "#### Logistic regression on simple synthetic dataset"
      ]
    },
    {
      "cell_type": "code",
      "metadata": {
        "id": "eapP4BIwsUPJ",
        "colab_type": "code",
        "colab": {}
      },
      "source": [
        "from sklearn.linear_model import LogisticRegression\n",
        "# from adspy_shared_utilities import (\n",
        "# plot_class_regions_for_classifier_subplot)\n",
        "\n",
        "\n",
        "X_train, X_test, y_train, y_test = train_test_split(X_C2, y_C2,\n",
        "                                                   random_state = 0)\n",
        "\n",
        "fig, subaxes = plt.subplots(1, 1, figsize=(7, 5))\n",
        "clf = LogisticRegression().fit(X_train, y_train)\n",
        "title = 'Logistic regression, simple synthetic dataset C = {:.3f}'.format(1.0)\n",
        "# plot_class_regions_for_classifier_subplot(clf, X_train, y_train,\n",
        "#                                          None, None, title, subaxes)\n",
        "\n",
        "print('Accuracy of Logistic regression classifier on training set: {:.2f}'\n",
        "     .format(clf.score(X_train, y_train)))\n",
        "print('Accuracy of Logistic regression classifier on test set: {:.2f}'\n",
        "     .format(clf.score(X_test, y_test)))\n",
        "     "
      ],
      "execution_count": 0,
      "outputs": []
    },
    {
      "cell_type": "markdown",
      "metadata": {
        "id": "hEFVw3s8tWaJ",
        "colab_type": "text"
      },
      "source": [
        "#### Application to real dataset"
      ]
    },
    {
      "cell_type": "code",
      "metadata": {
        "id": "DFBtAxPztKEI",
        "colab_type": "code",
        "colab": {}
      },
      "source": [
        "from sklearn.linear_model import LogisticRegression\n",
        "\n",
        "X_train, X_test, y_train, y_test = train_test_split(X_cancer, y_cancer, random_state = 0)\n",
        "\n",
        "clf = LogisticRegression().fit(X_train, y_train)\n",
        "print('Breast cancer dataset')\n",
        "print('Accuracy of Logistic regression classifier on training set: {:.2f}'\n",
        "     .format(clf.score(X_train, y_train)))\n",
        "print('Accuracy of Logistic regression classifier on test set: {:.2f}'\n",
        "     .format(clf.score(X_test, y_test)))"
      ],
      "execution_count": 0,
      "outputs": []
    },
    {
      "cell_type": "markdown",
      "metadata": {
        "id": "lREh4I9AtagK",
        "colab_type": "text"
      },
      "source": [
        "### Support Vector Machines\n",
        "\n",
        "#### Linear Support Vector Machine"
      ]
    },
    {
      "cell_type": "code",
      "metadata": {
        "id": "FYhtFMgGtXtK",
        "colab_type": "code",
        "colab": {}
      },
      "source": [
        "from sklearn.svm import SVC\n",
        "# from adspy_shared_utilities import plot_class_regions_for_classifier_subplot\n",
        "\n",
        "\n",
        "X_train, X_test, y_train, y_test = train_test_split(X_C2, y_C2, random_state = 0)\n",
        "\n",
        "fig, subaxes = plt.subplots(1, 1, figsize=(7, 5))\n",
        "this_C = 1.0\n",
        "clf = SVC(kernel = 'linear', C=this_C).fit(X_train, y_train)\n",
        "title = 'Linear SVC, C = {:.3f}'.format(this_C)\n",
        "# plot_class_regions_for_classifier_subplot(clf, X_train, y_train, None, None, title, subaxes)"
      ],
      "execution_count": 0,
      "outputs": []
    },
    {
      "cell_type": "markdown",
      "metadata": {
        "id": "Aoy0kIcetgTU",
        "colab_type": "text"
      },
      "source": [
        "#### Linear Support Vector Machine: C parameter"
      ]
    },
    {
      "cell_type": "code",
      "metadata": {
        "id": "DJLcR3SPteZ4",
        "colab_type": "code",
        "colab": {}
      },
      "source": [
        "from sklearn.svm import LinearSVC\n",
        "# from adspy_shared_utilities import plot_class_regions_for_classifier\n",
        "\n",
        "X_train, X_test, y_train, y_test = train_test_split(X_C2, y_C2, random_state = 0)\n",
        "fig, subaxes = plt.subplots(1, 2, figsize=(8, 4))\n",
        "\n",
        "for this_C, subplot in zip([0.00001, 100], subaxes):\n",
        "    clf = LinearSVC(C=this_C).fit(X_train, y_train)\n",
        "    title = 'Linear SVC, C = {:.5f}'.format(this_C)\n",
        "    # plot_class_regions_for_classifier_subplot(clf, X_train, y_train,\n",
        "    #                                          None, None, title, subplot)\n",
        "plt.tight_layout()"
      ],
      "execution_count": 0,
      "outputs": []
    },
    {
      "cell_type": "markdown",
      "metadata": {
        "id": "k8rhCSn9tmps",
        "colab_type": "text"
      },
      "source": [
        "#### Application to real dataset"
      ]
    },
    {
      "cell_type": "code",
      "metadata": {
        "id": "g-iGzFfJtjmg",
        "colab_type": "code",
        "colab": {}
      },
      "source": [
        "from sklearn.svm import LinearSVC\n",
        "X_train, X_test, y_train, y_test = train_test_split(X_cancer, y_cancer, random_state = 0)\n",
        "\n",
        "clf = LinearSVC().fit(X_train, y_train)\n",
        "print('Breast cancer dataset')\n",
        "print('Accuracy of Linear SVC classifier on training set: {:.2f}'\n",
        "     .format(clf.score(X_train, y_train)))\n",
        "print('Accuracy of Linear SVC classifier on test set: {:.2f}'\n",
        "     .format(clf.score(X_test, y_test)))"
      ],
      "execution_count": 0,
      "outputs": []
    },
    {
      "cell_type": "markdown",
      "metadata": {
        "id": "UkiMPspXtqR8",
        "colab_type": "text"
      },
      "source": [
        "### Multi-class classification with linear models\n",
        "\n",
        "#### LinearSVC with M classes generates M one vs rest classifiers."
      ]
    },
    {
      "cell_type": "code",
      "metadata": {
        "id": "aW6FrIE7tn2G",
        "colab_type": "code",
        "colab": {}
      },
      "source": [
        "from sklearn.svm import LinearSVC\n",
        "\n",
        "X_train, X_test, y_train, y_test = train_test_split(X_fruits_2d, y_fruits_2d, random_state = 0)\n",
        "\n",
        "clf = LinearSVC(C=5, random_state = 67).fit(X_train, y_train)\n",
        "print('Coefficients:\\n', clf.coef_)\n",
        "print('Intercepts:\\n', clf.intercept_)"
      ],
      "execution_count": 0,
      "outputs": []
    },
    {
      "cell_type": "markdown",
      "metadata": {
        "id": "yYaBg3hdtuvG",
        "colab_type": "text"
      },
      "source": [
        "#### Multi-class results on the fruit dataset"
      ]
    },
    {
      "cell_type": "code",
      "metadata": {
        "id": "9-k4uJcmttGb",
        "colab_type": "code",
        "colab": {}
      },
      "source": [
        "plt.figure(figsize=(6,6))\n",
        "colors = ['r', 'g', 'b', 'y']\n",
        "cmap_fruits = ListedColormap(['#FF0000', '#00FF00', '#0000FF','#FFFF00'])\n",
        "\n",
        "plt.scatter(X_fruits_2d[['height']], X_fruits_2d[['width']],\n",
        "           c=y_fruits_2d, cmap=cmap_fruits, edgecolor = 'black', alpha=.7)\n",
        "\n",
        "x_0_range = np.linspace(-10, 15)\n",
        "\n",
        "for w, b, color in zip(clf.coef_, clf.intercept_, ['r', 'g', 'b', 'y']):\n",
        "    # Since class prediction with a linear model uses the formula y = w_0 x_0 + w_1 x_1 + b, \n",
        "    # and the decision boundary is defined as being all points with y = 0, to plot x_1 as a \n",
        "    # function of x_0 we just solve w_0 x_0 + w_1 x_1 + b = 0 for x_1:\n",
        "    plt.plot(x_0_range, -(x_0_range * w[0] + b) / w[1], c=color, alpha=.8)\n",
        "    \n",
        "plt.legend(target_names_fruits)\n",
        "plt.xlabel('height')\n",
        "plt.ylabel('width')\n",
        "plt.xlim(-2, 12)\n",
        "plt.ylim(-2, 15)\n",
        "plt.show()"
      ],
      "execution_count": 0,
      "outputs": []
    },
    {
      "cell_type": "markdown",
      "metadata": {
        "id": "_tl3ljmvtxzr",
        "colab_type": "text"
      },
      "source": [
        "## Kernelized Support Vector Machines\n",
        "\n",
        "### Classification"
      ]
    },
    {
      "cell_type": "code",
      "metadata": {
        "id": "EN_pCXGwtv-y",
        "colab_type": "code",
        "colab": {}
      },
      "source": [
        "from sklearn.svm import SVC\n",
        "# from adspy_shared_utilities import plot_class_regions_for_classifier\n",
        "\n",
        "X_train, X_test, y_train, y_test = train_test_split(X_D2, y_D2, random_state = 0)\n",
        "\n",
        "# The default SVC kernel is radial basis function (RBF)\n",
        "# plot_class_regions_for_classifier(SVC().fit(X_train, y_train),\n",
        "#                                  X_train, y_train, None, None,\n",
        "#                                  'Support Vector Classifier: RBF kernel')\n",
        "\n",
        "# Compare decision boundries with polynomial kernel, degree = 3\n",
        "# plot_class_regions_for_classifier(SVC(kernel = 'poly', degree = 3)\n",
        "#                                  .fit(X_train, y_train), X_train,\n",
        "#                                  y_train, None, None,\n",
        "#                                  'Support Vector Classifier: Polynomial kernel, degree = 3')"
      ],
      "execution_count": 0,
      "outputs": []
    },
    {
      "cell_type": "markdown",
      "metadata": {
        "id": "5l3ovpRQt72q",
        "colab_type": "text"
      },
      "source": [
        "#### Support Vector Machine with RBF kernel: gamma parameter"
      ]
    },
    {
      "cell_type": "code",
      "metadata": {
        "id": "-lW1mOhjt8MN",
        "colab_type": "code",
        "colab": {}
      },
      "source": [
        "# from adspy_shared_utilities import plot_class_regions_for_classifier\n",
        "\n",
        "X_train, X_test, y_train, y_test = train_test_split(X_D2, y_D2, random_state = 0)\n",
        "fig, subaxes = plt.subplots(3, 1, figsize=(4, 11))\n",
        "\n",
        "for this_gamma, subplot in zip([0.01, 1.0, 10.0], subaxes):\n",
        "    clf = SVC(kernel = 'rbf', gamma=this_gamma).fit(X_train, y_train)\n",
        "    title = 'Support Vector Classifier: \\nRBF kernel, gamma = {:.2f}'.format(this_gamma)\n",
        "    # plot_class_regions_for_classifier_subplot(clf, X_train, y_train,\n",
        "    #                                          None, None, title, subplot)\n",
        "    # plt.tight_layout()"
      ],
      "execution_count": 0,
      "outputs": []
    },
    {
      "cell_type": "markdown",
      "metadata": {
        "id": "XwnVfJvauGPh",
        "colab_type": "text"
      },
      "source": [
        "#### Support Vector Machine with RBF kernel: using both C and gamma parameter "
      ]
    },
    {
      "cell_type": "code",
      "metadata": {
        "id": "3YlhMCvKt9Ui",
        "colab_type": "code",
        "colab": {}
      },
      "source": [
        "from sklearn.svm import SVC\n",
        "# from adspy_shared_utilities import plot_class_regions_for_classifier_subplot\n",
        "\n",
        "from sklearn.model_selection import train_test_split\n",
        "\n",
        "\n",
        "X_train, X_test, y_train, y_test = train_test_split(X_D2, y_D2, random_state = 0)\n",
        "fig, subaxes = plt.subplots(3, 4, figsize=(15, 10), dpi=50)\n",
        "\n",
        "for this_gamma, this_axis in zip([0.01, 1, 5], subaxes):\n",
        "    \n",
        "    for this_C, subplot in zip([0.1, 1, 15, 250], this_axis):\n",
        "        title = 'gamma = {:.2f}, C = {:.2f}'.format(this_gamma, this_C)\n",
        "        clf = SVC(kernel = 'rbf', gamma = this_gamma,\n",
        "                 C = this_C).fit(X_train, y_train)\n",
        "        # plot_class_regions_for_classifier_subplot(clf, X_train, y_train,\n",
        "        #                                          X_test, y_test, title,\n",
        "        #                                          subplot)\n",
        "        # plt.tight_layout(pad=0.4, w_pad=0.5, h_pad=1.0)"
      ],
      "execution_count": 0,
      "outputs": []
    },
    {
      "cell_type": "markdown",
      "metadata": {
        "id": "CFrVPEDZuLXE",
        "colab_type": "text"
      },
      "source": [
        "### Application of SVMs to a real dataset: unnormalized data"
      ]
    },
    {
      "cell_type": "code",
      "metadata": {
        "id": "SJK4rekyuJhg",
        "colab_type": "code",
        "colab": {}
      },
      "source": [
        "from sklearn.svm import SVC\n",
        "X_train, X_test, y_train, y_test = train_test_split(X_cancer, y_cancer,\n",
        "                                                   random_state = 0)\n",
        "\n",
        "clf = SVC(C=10).fit(X_train, y_train)\n",
        "print('Breast cancer dataset (unnormalized features)')\n",
        "print('Accuracy of RBF-kernel SVC on training set: {:.2f}'\n",
        "     .format(clf.score(X_train, y_train)))\n",
        "print('Accuracy of RBF-kernel SVC on test set: {:.2f}'\n",
        "     .format(clf.score(X_test, y_test)))"
      ],
      "execution_count": 0,
      "outputs": []
    },
    {
      "cell_type": "markdown",
      "metadata": {
        "id": "6C_0sDtbuOGi",
        "colab_type": "text"
      },
      "source": [
        "### Application of SVMs to a real dataset: normalized data with feature preprocessing using minmax scaling"
      ]
    },
    {
      "cell_type": "code",
      "metadata": {
        "id": "A2YJpteVuMqN",
        "colab_type": "code",
        "colab": {}
      },
      "source": [
        "from sklearn.preprocessing import MinMaxScaler\n",
        "scaler = MinMaxScaler()\n",
        "X_train_scaled = scaler.fit_transform(X_train)\n",
        "X_test_scaled = scaler.transform(X_test)\n",
        "\n",
        "clf = SVC(C=10).fit(X_train_scaled, y_train)\n",
        "print('Breast cancer dataset (normalized with MinMax scaling)')\n",
        "print('RBF-kernel SVC (with MinMax scaling) training set accuracy: {:.2f}'\n",
        "     .format(clf.score(X_train_scaled, y_train)))\n",
        "print('RBF-kernel SVC (with MinMax scaling) test set accuracy: {:.2f}'\n",
        "     .format(clf.score(X_test_scaled, y_test)))"
      ],
      "execution_count": 0,
      "outputs": []
    },
    {
      "cell_type": "markdown",
      "metadata": {
        "id": "ZfRJesH7uRBA",
        "colab_type": "text"
      },
      "source": [
        "## Cross-validation\n",
        "\n",
        "### Example based on k-NN classifier with fruit dataset (2 features)"
      ]
    },
    {
      "cell_type": "code",
      "metadata": {
        "id": "EWy8dWdyuPR8",
        "colab_type": "code",
        "colab": {}
      },
      "source": [
        "from sklearn.model_selection import cross_val_score\n",
        "\n",
        "clf = KNeighborsClassifier(n_neighbors = 5)\n",
        "X = X_fruits_2d.to_numpy()\n",
        "y = y_fruits_2d.to_numpy()\n",
        "cv_scores = cross_val_score(clf, X, y)\n",
        "\n",
        "print('Cross-validation scores (3-fold):', cv_scores)\n",
        "print('Mean cross-validation score (3-fold): {:.3f}'\n",
        "     .format(np.mean(cv_scores)))"
      ],
      "execution_count": 0,
      "outputs": []
    },
    {
      "cell_type": "markdown",
      "metadata": {
        "id": "AAzHXjsDuZYo",
        "colab_type": "text"
      },
      "source": [
        "### A note on performing cross-validation for more advanced scenarios.\n",
        "\n",
        "In some cases (e.g. when feature values have very different ranges), we've seen the need to scale or normalize the training and test sets before use with a classifier. The proper way to do cross-validation when you need to scale the data is *not* to scale the entire dataset with a single transform, since this will indirectly leak information into the training data about the whole dataset, including the test data (see the lecture on data leakage later in the course).  Instead, scaling/normalizing must be computed and applied for each cross-validation fold separately.  To do this, the easiest way in scikit-learn is to use *pipelines*.  While these are beyond the scope of this course, further information is available in the scikit-learn documentation here:\n",
        "\n",
        "http://scikit-learn.org/stable/modules/generated/sklearn.pipeline.Pipeline.html\n",
        "\n",
        "or the Pipeline section in the recommended textbook: Introduction to Machine Learning with Python by Andreas C. Müller and Sarah Guido (O'Reilly Media).\n",
        "\n",
        "## Validation curve example\n"
      ]
    },
    {
      "cell_type": "code",
      "metadata": {
        "id": "nqUMp8CEuTW6",
        "colab_type": "code",
        "colab": {}
      },
      "source": [
        "from sklearn.svm import SVC\n",
        "from sklearn.model_selection import validation_curve\n",
        "\n",
        "param_range = np.logspace(-3, 3, 4)\n",
        "train_scores, test_scores = validation_curve(SVC(), X, y,\n",
        "                                            param_name='gamma',\n",
        "                                            param_range=param_range, cv=3)"
      ],
      "execution_count": 0,
      "outputs": []
    },
    {
      "cell_type": "code",
      "metadata": {
        "id": "KNdnRb9iuioS",
        "colab_type": "code",
        "colab": {}
      },
      "source": [
        "print(train_scores)"
      ],
      "execution_count": 0,
      "outputs": []
    },
    {
      "cell_type": "code",
      "metadata": {
        "id": "J3sLZb72uki4",
        "colab_type": "code",
        "colab": {}
      },
      "source": [
        "print(test_scores)"
      ],
      "execution_count": 0,
      "outputs": []
    },
    {
      "cell_type": "code",
      "metadata": {
        "id": "Q9GDHbhBulzN",
        "colab_type": "code",
        "colab": {}
      },
      "source": [
        "# This code based on scikit-learn validation_plot example\n",
        "#  See:  http://scikit-learn.org/stable/auto_examples/model_selection/plot_validation_curve.html\n",
        "plt.figure()\n",
        "\n",
        "train_scores_mean = np.mean(train_scores, axis=1)\n",
        "train_scores_std = np.std(train_scores, axis=1)\n",
        "test_scores_mean = np.mean(test_scores, axis=1)\n",
        "test_scores_std = np.std(test_scores, axis=1)\n",
        "\n",
        "plt.title('Validation Curve with SVM')\n",
        "plt.xlabel('$\\gamma$ (gamma)')\n",
        "plt.ylabel('Score')\n",
        "plt.ylim(0.0, 1.1)\n",
        "lw = 2\n",
        "\n",
        "plt.semilogx(param_range, train_scores_mean, label='Training score',\n",
        "            color='darkorange', lw=lw)\n",
        "\n",
        "plt.fill_between(param_range, train_scores_mean - train_scores_std,\n",
        "                train_scores_mean + train_scores_std, alpha=0.2,\n",
        "                color='darkorange', lw=lw)\n",
        "\n",
        "plt.semilogx(param_range, test_scores_mean, label='Cross-validation score',\n",
        "            color='navy', lw=lw)\n",
        "\n",
        "plt.fill_between(param_range, test_scores_mean - test_scores_std,\n",
        "                test_scores_mean + test_scores_std, alpha=0.2,\n",
        "                color='navy', lw=lw)\n",
        "\n",
        "plt.legend(loc='best')\n",
        "plt.show()"
      ],
      "execution_count": 0,
      "outputs": []
    },
    {
      "cell_type": "markdown",
      "metadata": {
        "id": "IPJ_tID7uprp",
        "colab_type": "text"
      },
      "source": [
        "## Decision Trees"
      ]
    },
    {
      "cell_type": "code",
      "metadata": {
        "id": "_WweV7w8unIZ",
        "colab_type": "code",
        "colab": {}
      },
      "source": [
        "from sklearn.datasets import load_iris\n",
        "from sklearn.tree import DecisionTreeClassifier\n",
        "# from adspy_shared_utilities import plot_decision_tree\n",
        "from sklearn.model_selection import train_test_split\n",
        "\n",
        "\n",
        "iris = load_iris()\n",
        "\n",
        "X_train, X_test, y_train, y_test = train_test_split(iris.data, iris.target, random_state = 3)\n",
        "clf = DecisionTreeClassifier().fit(X_train, y_train)\n",
        "\n",
        "print('Accuracy of Decision Tree classifier on training set: {:.2f}'\n",
        "     .format(clf.score(X_train, y_train)))\n",
        "print('Accuracy of Decision Tree classifier on test set: {:.2f}'\n",
        "     .format(clf.score(X_test, y_test)))"
      ],
      "execution_count": 0,
      "outputs": []
    },
    {
      "cell_type": "markdown",
      "metadata": {
        "id": "IPivM0Ovux3i",
        "colab_type": "text"
      },
      "source": [
        "#### Setting max decision tree depth to help avoid overfitting"
      ]
    },
    {
      "cell_type": "code",
      "metadata": {
        "id": "V_6IXir4uq88",
        "colab_type": "code",
        "colab": {}
      },
      "source": [
        "clf2 = DecisionTreeClassifier(max_depth = 3).fit(X_train, y_train)\n",
        "\n",
        "print('Accuracy of Decision Tree classifier on training set: {:.2f}'\n",
        "     .format(clf2.score(X_train, y_train)))\n",
        "print('Accuracy of Decision Tree classifier on test set: {:.2f}'\n",
        "     .format(clf2.score(X_test, y_test)))"
      ],
      "execution_count": 0,
      "outputs": []
    },
    {
      "cell_type": "markdown",
      "metadata": {
        "id": "CP6A7RR4u1lf",
        "colab_type": "text"
      },
      "source": [
        "#### Visualizing decision trees"
      ]
    },
    {
      "cell_type": "code",
      "metadata": {
        "id": "nl_Zjm9AuzDl",
        "colab_type": "code",
        "colab": {}
      },
      "source": [
        "# plot_decision_tree(clf, iris.feature_names, iris.target_names)"
      ],
      "execution_count": 0,
      "outputs": []
    },
    {
      "cell_type": "markdown",
      "metadata": {
        "id": "OkbQj_xiu6eS",
        "colab_type": "text"
      },
      "source": [
        "#### Pre-pruned version (max_depth = 3)"
      ]
    },
    {
      "cell_type": "code",
      "metadata": {
        "id": "qS1Ss07Su4UD",
        "colab_type": "code",
        "colab": {}
      },
      "source": [
        "# plot_decision_tree(clf2, iris.feature_names, iris.target_names)"
      ],
      "execution_count": 0,
      "outputs": []
    },
    {
      "cell_type": "markdown",
      "metadata": {
        "id": "PqsWmRzUu-pz",
        "colab_type": "text"
      },
      "source": [
        "#### Feature importance"
      ]
    },
    {
      "cell_type": "code",
      "metadata": {
        "id": "ohMm63Bou8Ja",
        "colab_type": "code",
        "colab": {}
      },
      "source": [
        "# from adspy_shared_utilities import plot_feature_importances\n",
        "\n",
        "# plt.figure(figsize=(10,4), dpi=80)\n",
        "# plot_feature_importances(clf, iris.feature_names)\n",
        "# plt.show()\n",
        "\n",
        "# print('Feature importances: {}'.format(clf.feature_importances_))"
      ],
      "execution_count": 0,
      "outputs": []
    },
    {
      "cell_type": "code",
      "metadata": {
        "id": "NboIXshZvCD2",
        "colab_type": "code",
        "colab": {}
      },
      "source": [
        "from sklearn.tree import DecisionTreeClassifier\n",
        "# from adspy_shared_utilities import plot_class_regions_for_classifier_subplot\n",
        "\n",
        "X_train, X_test, y_train, y_test = train_test_split(iris.data, iris.target, random_state = 0)\n",
        "fig, subaxes = plt.subplots(6, 1, figsize=(6, 32))\n",
        "\n",
        "pair_list = [[0,1], [0,2], [0,3], [1,2], [1,3], [2,3]]\n",
        "tree_max_depth = 4\n",
        "\n",
        "for pair, axis in zip(pair_list, subaxes):\n",
        "    X = X_train[:, pair]\n",
        "    y = y_train\n",
        "    \n",
        "    clf = DecisionTreeClassifier(max_depth=tree_max_depth).fit(X, y)\n",
        "#     title = 'Decision Tree, max_depth = {:d}'.format(tree_max_depth)\n",
        "#     plot_class_regions_for_classifier_subplot(clf, X, y, None,\n",
        "#                                              None, title, axis,\n",
        "#                                              iris.target_names)\n",
        "    \n",
        "#     axis.set_xlabel(iris.feature_names[pair[0]])\n",
        "#     axis.set_ylabel(iris.feature_names[pair[1]])\n",
        "    \n",
        "# plt.tight_layout()\n",
        "# plt.show()"
      ],
      "execution_count": 0,
      "outputs": []
    },
    {
      "cell_type": "markdown",
      "metadata": {
        "id": "6Og3B7lNvLY9",
        "colab_type": "text"
      },
      "source": [
        "#### Decision Trees on a real-world dataset"
      ]
    },
    {
      "cell_type": "code",
      "metadata": {
        "id": "7lU_iAEFvJLF",
        "colab_type": "code",
        "colab": {}
      },
      "source": [
        "from sklearn.tree import DecisionTreeClassifier\n",
        "# from adspy_shared_utilities import plot_decision_tree\n",
        "# from adspy_shared_utilities import plot_feature_importances\n",
        "\n",
        "X_train, X_test, y_train, y_test = train_test_split(X_cancer, y_cancer, random_state = 0)\n",
        "\n",
        "clf = DecisionTreeClassifier(max_depth = 4, min_samples_leaf = 8,\n",
        "                            random_state = 0).fit(X_train, y_train)\n",
        "\n",
        "# plot_decision_tree(clf, cancer.feature_names, cancer.target_names)"
      ],
      "execution_count": 0,
      "outputs": []
    },
    {
      "cell_type": "code",
      "metadata": {
        "id": "Clfoq7XlvOGm",
        "colab_type": "code",
        "colab": {}
      },
      "source": [
        "print('Breast cancer dataset: decision tree')\n",
        "print('Accuracy of DT classifier on training set: {:.2f}'\n",
        "     .format(clf.score(X_train, y_train)))\n",
        "print('Accuracy of DT classifier on test set: {:.2f}'\n",
        "     .format(clf.score(X_test, y_test)))\n",
        "\n",
        "plt.figure(figsize=(10,6),dpi=80)\n",
        "# plot_feature_importances(clf, cancer.feature_names)\n",
        "plt.tight_layout()\n",
        "\n",
        "plt.show()"
      ],
      "execution_count": 0,
      "outputs": []
    },
    {
      "cell_type": "code",
      "metadata": {
        "id": "m3ygh_IMvQFl",
        "colab_type": "code",
        "colab": {}
      },
      "source": [
        ""
      ],
      "execution_count": 0,
      "outputs": []
    }
  ]
}