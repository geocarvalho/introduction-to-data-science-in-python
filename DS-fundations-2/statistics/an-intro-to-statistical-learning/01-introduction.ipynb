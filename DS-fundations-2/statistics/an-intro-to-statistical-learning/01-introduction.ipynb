{
 "cells": [
  {
   "cell_type": "markdown",
   "metadata": {},
   "source": [
    "## An overview of statistical learning\n",
    "\n",
    "Supervised statistical learning\n",
    "* Involves building a statistical model for predicting, or estimating an output based on one or more inputs;\n",
    "\n",
    "Unsupervised statistical learning\n",
    "* There are inputs but no supervising output; nevertheless we can learn relationships and structure learning."
   ]
  }
 ],
 "metadata": {
  "kernelspec": {
   "display_name": "Python 2",
   "language": "python",
   "name": "python2"
  },
  "language_info": {
   "codemirror_mode": {
    "name": "ipython",
    "version": 2
   },
   "file_extension": ".py",
   "mimetype": "text/x-python",
   "name": "python",
   "nbconvert_exporter": "python",
   "pygments_lexer": "ipython2",
   "version": "2.7.15"
  }
 },
 "nbformat": 4,
 "nbformat_minor": 2
}
