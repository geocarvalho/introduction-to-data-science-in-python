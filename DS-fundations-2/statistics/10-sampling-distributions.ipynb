{
 "cells": [
  {
   "cell_type": "code",
   "execution_count": 1,
   "metadata": {},
   "outputs": [],
   "source": [
    "import numpy as np\n",
    "import matplotlib.pyplot as plt\n",
    "%matplotlib inline"
   ]
  },
  {
   "cell_type": "code",
   "execution_count": 31,
   "metadata": {},
   "outputs": [],
   "source": [
    "np.random.seed(42)\n",
    "\n",
    "students = np.array([1,0,1,1,1,1,0,0,0,0,1,1,1,1,1,1,1,1,1,1,0])"
   ]
  },
  {
   "cell_type": "markdown",
   "metadata": {},
   "source": [
    "`1.` Find the proportion of students who drink coffee in the above array."
   ]
  },
  {
   "cell_type": "code",
   "execution_count": 3,
   "metadata": {},
   "outputs": [
    {
     "data": {
      "text/plain": [
       "0.7142857142857143"
      ]
     },
     "execution_count": 3,
     "metadata": {},
     "output_type": "execute_result"
    }
   ],
   "source": [
    "students.mean()"
   ]
  },
  {
   "cell_type": "markdown",
   "metadata": {},
   "source": [
    "`2.` Use numpy's **random.choice** to simulate 5 draws from the `students` array.  What is proportion of your sample drink coffee?"
   ]
  },
  {
   "cell_type": "code",
   "execution_count": 5,
   "metadata": {},
   "outputs": [
    {
     "data": {
      "text/plain": [
       "0.6"
      ]
     },
     "execution_count": 5,
     "metadata": {},
     "output_type": "execute_result"
    }
   ],
   "source": [
    "np.random.choice(students, 5).mean()"
   ]
  },
  {
   "cell_type": "markdown",
   "metadata": {},
   "source": [
    "`3.` Repeat the above to obtain 10,000 additional proportions, where each sample was of size 5.  Store these in a variable called `sample_props`."
   ]
  },
  {
   "cell_type": "code",
   "execution_count": 10,
   "metadata": {
    "collapsed": true
   },
   "outputs": [
    {
     "data": {
      "text/plain": [
       "[0.8,\n",
       " 0.6,\n",
       " 0.8,\n",
       " 0.6,\n",
       " 0.8,\n",
       " 0.4,\n",
       " 0.2,\n",
       " 0.8,\n",
       " 0.6,\n",
       " 0.8,\n",
       " 1.0,\n",
       " 0.8,\n",
       " 0.4,\n",
       " 1.0,\n",
       " 0.6,\n",
       " 0.6,\n",
       " 0.4,\n",
       " 0.8,\n",
       " 1.0,\n",
       " 1.0,\n",
       " 0.6,\n",
       " 0.4,\n",
       " 0.4,\n",
       " 0.6,\n",
       " 0.8,\n",
       " 0.6,\n",
       " 1.0,\n",
       " 0.8,\n",
       " 0.8,\n",
       " 0.4,\n",
       " 0.6,\n",
       " 0.8,\n",
       " 0.8,\n",
       " 0.4,\n",
       " 0.2,\n",
       " 0.8,\n",
       " 0.6,\n",
       " 0.6,\n",
       " 0.8,\n",
       " 0.8,\n",
       " 0.6,\n",
       " 0.4,\n",
       " 0.6,\n",
       " 0.6,\n",
       " 0.8,\n",
       " 0.6,\n",
       " 0.4,\n",
       " 0.8,\n",
       " 0.2,\n",
       " 0.6,\n",
       " 1.0,\n",
       " 0.8,\n",
       " 1.0,\n",
       " 0.4,\n",
       " 0.4,\n",
       " 0.4,\n",
       " 0.4,\n",
       " 0.8,\n",
       " 0.4,\n",
       " 0.2,\n",
       " 0.8,\n",
       " 0.8,\n",
       " 0.6,\n",
       " 1.0,\n",
       " 0.6,\n",
       " 0.6,\n",
       " 0.8,\n",
       " 1.0,\n",
       " 0.8,\n",
       " 0.8,\n",
       " 1.0,\n",
       " 0.4,\n",
       " 0.2,\n",
       " 0.8,\n",
       " 0.4,\n",
       " 0.4,\n",
       " 0.6,\n",
       " 0.4,\n",
       " 0.8,\n",
       " 0.4,\n",
       " 1.0,\n",
       " 0.8,\n",
       " 1.0,\n",
       " 0.8,\n",
       " 0.2,\n",
       " 0.8,\n",
       " 0.8,\n",
       " 0.8,\n",
       " 0.8,\n",
       " 0.8,\n",
       " 0.6,\n",
       " 0.8,\n",
       " 0.6,\n",
       " 0.8,\n",
       " 0.8,\n",
       " 0.8,\n",
       " 0.8,\n",
       " 1.0,\n",
       " 0.8,\n",
       " 0.8,\n",
       " 0.6,\n",
       " 1.0,\n",
       " 1.0,\n",
       " 0.8,\n",
       " 0.8,\n",
       " 0.8,\n",
       " 0.8,\n",
       " 0.6,\n",
       " 0.4,\n",
       " 0.4,\n",
       " 0.8,\n",
       " 0.8,\n",
       " 0.8,\n",
       " 0.4,\n",
       " 0.8,\n",
       " 0.6,\n",
       " 0.8,\n",
       " 1.0,\n",
       " 0.8,\n",
       " 1.0,\n",
       " 0.6,\n",
       " 0.4,\n",
       " 0.8,\n",
       " 0.8,\n",
       " 0.8,\n",
       " 0.6,\n",
       " 1.0,\n",
       " 0.8,\n",
       " 0.8,\n",
       " 0.8,\n",
       " 0.8,\n",
       " 0.8,\n",
       " 0.8,\n",
       " 0.4,\n",
       " 0.4,\n",
       " 0.6,\n",
       " 0.6,\n",
       " 0.6,\n",
       " 1.0,\n",
       " 0.8,\n",
       " 0.8,\n",
       " 1.0,\n",
       " 0.4,\n",
       " 0.6,\n",
       " 0.4,\n",
       " 0.8,\n",
       " 0.8,\n",
       " 0.8,\n",
       " 0.6,\n",
       " 0.8,\n",
       " 1.0,\n",
       " 0.6,\n",
       " 0.8,\n",
       " 1.0,\n",
       " 0.8,\n",
       " 0.6,\n",
       " 0.6,\n",
       " 0.6,\n",
       " 0.4,\n",
       " 0.8,\n",
       " 0.8,\n",
       " 0.8,\n",
       " 0.4,\n",
       " 0.0,\n",
       " 0.6,\n",
       " 1.0,\n",
       " 0.6,\n",
       " 0.6,\n",
       " 0.6,\n",
       " 0.6,\n",
       " 0.8,\n",
       " 0.6,\n",
       " 0.8,\n",
       " 0.8,\n",
       " 0.8,\n",
       " 0.4,\n",
       " 1.0,\n",
       " 0.6,\n",
       " 0.4,\n",
       " 0.6,\n",
       " 0.2,\n",
       " 0.6,\n",
       " 1.0,\n",
       " 0.8,\n",
       " 0.8,\n",
       " 0.8,\n",
       " 1.0,\n",
       " 0.4,\n",
       " 0.8,\n",
       " 1.0,\n",
       " 0.6,\n",
       " 0.6,\n",
       " 0.8,\n",
       " 1.0,\n",
       " 0.2,\n",
       " 0.8,\n",
       " 0.8,\n",
       " 0.8,\n",
       " 1.0,\n",
       " 0.4,\n",
       " 1.0,\n",
       " 0.6,\n",
       " 0.8,\n",
       " 0.8,\n",
       " 0.6,\n",
       " 1.0,\n",
       " 0.8,\n",
       " 0.8,\n",
       " 0.4,\n",
       " 0.8,\n",
       " 0.6,\n",
       " 0.6,\n",
       " 0.8,\n",
       " 1.0,\n",
       " 0.6,\n",
       " 1.0,\n",
       " 0.8,\n",
       " 0.6,\n",
       " 1.0,\n",
       " 0.6,\n",
       " 0.4,\n",
       " 0.6,\n",
       " 0.8,\n",
       " 0.8,\n",
       " 0.4,\n",
       " 0.8,\n",
       " 0.6,\n",
       " 0.8,\n",
       " 0.6,\n",
       " 1.0,\n",
       " 0.8,\n",
       " 0.6,\n",
       " 0.2,\n",
       " 0.8,\n",
       " 0.8,\n",
       " 0.4,\n",
       " 0.0,\n",
       " 0.4,\n",
       " 0.8,\n",
       " 0.6,\n",
       " 0.8,\n",
       " 1.0,\n",
       " 0.6,\n",
       " 1.0,\n",
       " 1.0,\n",
       " 0.8,\n",
       " 0.4,\n",
       " 0.6,\n",
       " 0.8,\n",
       " 0.4,\n",
       " 1.0,\n",
       " 0.6,\n",
       " 0.6,\n",
       " 0.6,\n",
       " 0.8,\n",
       " 0.8,\n",
       " 0.6,\n",
       " 0.4,\n",
       " 0.6,\n",
       " 0.2,\n",
       " 0.6,\n",
       " 0.6,\n",
       " 0.8,\n",
       " 0.8,\n",
       " 0.6,\n",
       " 0.4,\n",
       " 0.8,\n",
       " 0.8,\n",
       " 0.8,\n",
       " 0.4,\n",
       " 0.6,\n",
       " 1.0,\n",
       " 1.0,\n",
       " 0.6,\n",
       " 1.0,\n",
       " 0.6,\n",
       " 0.6,\n",
       " 1.0,\n",
       " 0.2,\n",
       " 0.4,\n",
       " 0.8,\n",
       " 1.0,\n",
       " 0.6,\n",
       " 0.6,\n",
       " 0.6,\n",
       " 0.4,\n",
       " 0.6,\n",
       " 0.8,\n",
       " 0.6,\n",
       " 0.8,\n",
       " 1.0,\n",
       " 0.6,\n",
       " 0.8,\n",
       " 0.6,\n",
       " 1.0,\n",
       " 0.6,\n",
       " 0.6,\n",
       " 0.4,\n",
       " 0.6,\n",
       " 0.8,\n",
       " 0.4,\n",
       " 0.8,\n",
       " 0.8,\n",
       " 1.0,\n",
       " 0.4,\n",
       " 0.8,\n",
       " 0.8,\n",
       " 0.6,\n",
       " 0.8,\n",
       " 1.0,\n",
       " 0.8,\n",
       " 0.8,\n",
       " 1.0,\n",
       " 0.8,\n",
       " 0.6,\n",
       " 0.4,\n",
       " 0.8,\n",
       " 0.6,\n",
       " 1.0,\n",
       " 0.8,\n",
       " 0.8,\n",
       " 1.0,\n",
       " 1.0,\n",
       " 0.6,\n",
       " 0.6,\n",
       " 0.8,\n",
       " 1.0,\n",
       " 0.8,\n",
       " 0.8,\n",
       " 0.8,\n",
       " 0.8,\n",
       " 0.8,\n",
       " 0.8,\n",
       " 0.4,\n",
       " 0.6,\n",
       " 0.8,\n",
       " 0.8,\n",
       " 0.8,\n",
       " 0.8,\n",
       " 0.8,\n",
       " 0.6,\n",
       " 0.2,\n",
       " 1.0,\n",
       " 0.6,\n",
       " 0.8,\n",
       " 0.2,\n",
       " 0.6,\n",
       " 0.8,\n",
       " 0.4,\n",
       " 0.4,\n",
       " 0.8,\n",
       " 0.6,\n",
       " 0.8,\n",
       " 1.0,\n",
       " 0.6,\n",
       " 0.6,\n",
       " 1.0,\n",
       " 1.0,\n",
       " 0.8,\n",
       " 0.4,\n",
       " 1.0,\n",
       " 0.8,\n",
       " 0.6,\n",
       " 0.6,\n",
       " 0.8,\n",
       " 0.6,\n",
       " 0.6,\n",
       " 0.6,\n",
       " 0.8,\n",
       " 0.8,\n",
       " 0.4,\n",
       " 0.8,\n",
       " 0.6,\n",
       " 0.8,\n",
       " 0.8,\n",
       " 0.8,\n",
       " 0.4,\n",
       " 0.6,\n",
       " 0.8,\n",
       " 1.0,\n",
       " 0.8,\n",
       " 0.8,\n",
       " 0.8,\n",
       " 0.6,\n",
       " 0.6,\n",
       " 1.0,\n",
       " 0.8,\n",
       " 0.6,\n",
       " 0.6,\n",
       " 0.8,\n",
       " 0.6,\n",
       " 0.8,\n",
       " 0.6,\n",
       " 0.6,\n",
       " 0.8,\n",
       " 1.0,\n",
       " 1.0,\n",
       " 0.8,\n",
       " 0.8,\n",
       " 0.6,\n",
       " 0.8,\n",
       " 0.8,\n",
       " 0.6,\n",
       " 0.8,\n",
       " 0.8,\n",
       " 0.8,\n",
       " 1.0,\n",
       " 0.4,\n",
       " 0.8,\n",
       " 0.6,\n",
       " 0.8,\n",
       " 0.8,\n",
       " 0.4,\n",
       " 1.0,\n",
       " 1.0,\n",
       " 1.0,\n",
       " 0.8,\n",
       " 1.0,\n",
       " 0.4,\n",
       " 0.8,\n",
       " 0.6,\n",
       " 0.8,\n",
       " 0.8,\n",
       " 0.8,\n",
       " 0.6,\n",
       " 0.8,\n",
       " 0.8,\n",
       " 0.6,\n",
       " 0.8,\n",
       " 1.0,\n",
       " 0.6,\n",
       " 0.6,\n",
       " 0.6,\n",
       " 0.6,\n",
       " 0.2,\n",
       " 0.8,\n",
       " 0.8,\n",
       " 0.4,\n",
       " 0.6,\n",
       " 0.6,\n",
       " 0.6,\n",
       " 0.8,\n",
       " 0.6,\n",
       " 0.8,\n",
       " 0.6,\n",
       " 1.0,\n",
       " 0.8,\n",
       " 0.6,\n",
       " 0.4,\n",
       " 1.0,\n",
       " 1.0,\n",
       " 0.4,\n",
       " 0.4,\n",
       " 0.6,\n",
       " 1.0,\n",
       " 0.4,\n",
       " 1.0,\n",
       " 0.4,\n",
       " 0.8,\n",
       " 0.8,\n",
       " 0.8,\n",
       " 0.8,\n",
       " 0.8,\n",
       " 0.8,\n",
       " 0.8,\n",
       " 1.0,\n",
       " 0.6,\n",
       " 0.6,\n",
       " 0.8,\n",
       " 0.6,\n",
       " 0.6,\n",
       " 0.4,\n",
       " 0.6,\n",
       " 0.4,\n",
       " 1.0,\n",
       " 1.0,\n",
       " 1.0,\n",
       " 0.8,\n",
       " 0.6,\n",
       " 0.8,\n",
       " 0.8,\n",
       " 1.0,\n",
       " 1.0,\n",
       " 0.4,\n",
       " 0.8,\n",
       " 0.4,\n",
       " 1.0,\n",
       " 0.6,\n",
       " 0.8,\n",
       " 0.4,\n",
       " 0.8,\n",
       " 0.4,\n",
       " 0.8,\n",
       " 0.8,\n",
       " 1.0,\n",
       " 1.0,\n",
       " 0.4,\n",
       " 0.8,\n",
       " 1.0,\n",
       " 0.8,\n",
       " 0.6,\n",
       " 0.8,\n",
       " 1.0,\n",
       " 1.0,\n",
       " 0.6,\n",
       " 0.4,\n",
       " 0.8,\n",
       " 0.8,\n",
       " 0.6,\n",
       " 0.6,\n",
       " 0.8,\n",
       " 0.4,\n",
       " 0.6,\n",
       " 0.4,\n",
       " 0.8,\n",
       " 0.6,\n",
       " 0.4,\n",
       " 0.6,\n",
       " 0.8,\n",
       " 0.6,\n",
       " 0.6,\n",
       " 0.8,\n",
       " 1.0,\n",
       " 1.0,\n",
       " 0.6,\n",
       " 0.8,\n",
       " 1.0,\n",
       " 1.0,\n",
       " 0.4,\n",
       " 1.0,\n",
       " 0.4,\n",
       " 0.8,\n",
       " 1.0,\n",
       " 1.0,\n",
       " 0.6,\n",
       " 0.6,\n",
       " 1.0,\n",
       " 0.8,\n",
       " 0.4,\n",
       " 1.0,\n",
       " 0.8,\n",
       " 1.0,\n",
       " 0.8,\n",
       " 1.0,\n",
       " 0.8,\n",
       " 0.4,\n",
       " 0.8,\n",
       " 0.6,\n",
       " 0.6,\n",
       " 0.8,\n",
       " 1.0,\n",
       " 0.6,\n",
       " 0.8,\n",
       " 0.2,\n",
       " 0.8,\n",
       " 0.8,\n",
       " 0.4,\n",
       " 1.0,\n",
       " 0.6,\n",
       " 1.0,\n",
       " 0.8,\n",
       " 0.8,\n",
       " 0.6,\n",
       " 0.8,\n",
       " 1.0,\n",
       " 0.8,\n",
       " 0.4,\n",
       " 0.8,\n",
       " 0.8,\n",
       " 0.8,\n",
       " 0.8,\n",
       " 0.6,\n",
       " 0.8,\n",
       " 0.8,\n",
       " 0.8,\n",
       " 0.6,\n",
       " 1.0,\n",
       " 0.6,\n",
       " 0.6,\n",
       " 1.0,\n",
       " 0.6,\n",
       " 0.6,\n",
       " 0.4,\n",
       " 1.0,\n",
       " 0.6,\n",
       " 0.8,\n",
       " 1.0,\n",
       " 0.8,\n",
       " 0.8,\n",
       " 0.6,\n",
       " 0.8,\n",
       " 0.8,\n",
       " 0.8,\n",
       " 0.6,\n",
       " 0.6,\n",
       " 0.8,\n",
       " 0.8,\n",
       " 0.8,\n",
       " 0.8,\n",
       " 0.4,\n",
       " 0.6,\n",
       " 0.6,\n",
       " 1.0,\n",
       " 1.0,\n",
       " 0.4,\n",
       " 0.4,\n",
       " 0.8,\n",
       " 0.8,\n",
       " 1.0,\n",
       " 0.8,\n",
       " 0.4,\n",
       " 0.6,\n",
       " 1.0,\n",
       " 0.4,\n",
       " 0.6,\n",
       " 0.4,\n",
       " 0.8,\n",
       " 0.6,\n",
       " 0.4,\n",
       " 1.0,\n",
       " 0.6,\n",
       " 0.8,\n",
       " 0.8,\n",
       " 0.8,\n",
       " 0.8,\n",
       " 0.2,\n",
       " 0.2,\n",
       " 0.6,\n",
       " 0.4,\n",
       " 1.0,\n",
       " 0.6,\n",
       " 0.8,\n",
       " 0.6,\n",
       " 0.2,\n",
       " 1.0,\n",
       " 0.6,\n",
       " 1.0,\n",
       " 0.6,\n",
       " 0.8,\n",
       " 0.8,\n",
       " 0.6,\n",
       " 0.2,\n",
       " 0.8,\n",
       " 0.8,\n",
       " 1.0,\n",
       " 1.0,\n",
       " 1.0,\n",
       " 0.6,\n",
       " 0.6,\n",
       " 0.4,\n",
       " 0.6,\n",
       " 0.8,\n",
       " 0.6,\n",
       " 0.8,\n",
       " 0.8,\n",
       " 0.6,\n",
       " 0.4,\n",
       " 0.6,\n",
       " 1.0,\n",
       " 0.8,\n",
       " 0.4,\n",
       " 0.4,\n",
       " 0.8,\n",
       " 0.6,\n",
       " 0.6,\n",
       " 0.8,\n",
       " 0.8,\n",
       " 0.8,\n",
       " 0.6,\n",
       " 0.8,\n",
       " 0.8,\n",
       " 1.0,\n",
       " 1.0,\n",
       " 0.8,\n",
       " 1.0,\n",
       " 0.4,\n",
       " 0.8,\n",
       " 0.4,\n",
       " 0.6,\n",
       " 1.0,\n",
       " 0.6,\n",
       " 0.4,\n",
       " 0.6,\n",
       " 0.8,\n",
       " 0.8,\n",
       " 0.8,\n",
       " 1.0,\n",
       " 0.8,\n",
       " 0.8,\n",
       " 1.0,\n",
       " 0.8,\n",
       " 1.0,\n",
       " 0.8,\n",
       " 0.6,\n",
       " 0.8,\n",
       " 0.4,\n",
       " 0.8,\n",
       " 0.8,\n",
       " 0.8,\n",
       " 0.8,\n",
       " 0.8,\n",
       " 0.8,\n",
       " 0.6,\n",
       " 0.6,\n",
       " 0.4,\n",
       " 0.6,\n",
       " 0.8,\n",
       " 1.0,\n",
       " 0.8,\n",
       " 0.6,\n",
       " 0.4,\n",
       " 1.0,\n",
       " 0.2,\n",
       " 0.8,\n",
       " 0.6,\n",
       " 0.6,\n",
       " 0.4,\n",
       " 0.6,\n",
       " 0.4,\n",
       " 0.8,\n",
       " 1.0,\n",
       " 1.0,\n",
       " 0.8,\n",
       " 1.0,\n",
       " 0.6,\n",
       " 0.6,\n",
       " 0.6,\n",
       " 0.8,\n",
       " 0.6,\n",
       " 0.4,\n",
       " 0.8,\n",
       " 0.4,\n",
       " 1.0,\n",
       " 0.6,\n",
       " 0.8,\n",
       " 0.4,\n",
       " 0.8,\n",
       " 0.6,\n",
       " 0.6,\n",
       " 0.8,\n",
       " 0.6,\n",
       " 0.6,\n",
       " 0.4,\n",
       " 0.4,\n",
       " 0.8,\n",
       " 0.6,\n",
       " 0.8,\n",
       " 0.8,\n",
       " 0.8,\n",
       " 0.2,\n",
       " 0.6,\n",
       " 1.0,\n",
       " 0.6,\n",
       " 1.0,\n",
       " 0.8,\n",
       " 0.8,\n",
       " 0.4,\n",
       " 0.4,\n",
       " 1.0,\n",
       " 0.8,\n",
       " 0.8,\n",
       " 0.6,\n",
       " 1.0,\n",
       " 0.6,\n",
       " 0.6,\n",
       " 0.8,\n",
       " 0.6,\n",
       " 0.6,\n",
       " 0.8,\n",
       " 0.8,\n",
       " 0.8,\n",
       " 0.8,\n",
       " 0.8,\n",
       " 0.6,\n",
       " 0.8,\n",
       " 0.6,\n",
       " 0.6,\n",
       " 0.8,\n",
       " 1.0,\n",
       " 0.4,\n",
       " 0.8,\n",
       " 0.6,\n",
       " 0.4,\n",
       " 0.4,\n",
       " 1.0,\n",
       " 0.8,\n",
       " 0.6,\n",
       " 0.4,\n",
       " 0.8,\n",
       " 1.0,\n",
       " 0.6,\n",
       " 1.0,\n",
       " 0.6,\n",
       " 1.0,\n",
       " 0.4,\n",
       " 0.8,\n",
       " 0.2,\n",
       " 0.8,\n",
       " 0.8,\n",
       " 1.0,\n",
       " 0.8,\n",
       " 0.4,\n",
       " 1.0,\n",
       " 0.8,\n",
       " 0.8,\n",
       " 0.6,\n",
       " 0.4,\n",
       " 0.4,\n",
       " 0.8,\n",
       " 1.0,\n",
       " 0.8,\n",
       " 0.6,\n",
       " 1.0,\n",
       " 1.0,\n",
       " 0.8,\n",
       " 0.8,\n",
       " 0.8,\n",
       " 0.6,\n",
       " 1.0,\n",
       " 0.8,\n",
       " 0.6,\n",
       " 0.8,\n",
       " 0.8,\n",
       " 0.6,\n",
       " 1.0,\n",
       " 0.8,\n",
       " 0.6,\n",
       " 0.8,\n",
       " 0.6,\n",
       " 1.0,\n",
       " 0.8,\n",
       " 0.6,\n",
       " 0.4,\n",
       " 0.8,\n",
       " 0.4,\n",
       " 0.8,\n",
       " 0.6,\n",
       " 0.6,\n",
       " 0.8,\n",
       " 0.8,\n",
       " 0.8,\n",
       " 0.4,\n",
       " 1.0,\n",
       " 0.8,\n",
       " 0.8,\n",
       " 0.8,\n",
       " 0.8,\n",
       " 0.6,\n",
       " 0.8,\n",
       " 0.2,\n",
       " 1.0,\n",
       " 0.6,\n",
       " 0.6,\n",
       " 0.8,\n",
       " 0.6,\n",
       " 0.8,\n",
       " 0.8,\n",
       " 0.4,\n",
       " 0.8,\n",
       " 0.4,\n",
       " 0.6,\n",
       " 0.8,\n",
       " 0.6,\n",
       " 0.6,\n",
       " 0.8,\n",
       " 0.6,\n",
       " 0.4,\n",
       " 0.8,\n",
       " 0.8,\n",
       " 0.6,\n",
       " 0.4,\n",
       " 0.8,\n",
       " 0.8,\n",
       " 0.8,\n",
       " 0.6,\n",
       " 0.6,\n",
       " 0.6,\n",
       " 0.6,\n",
       " 0.4,\n",
       " 0.6,\n",
       " 0.6,\n",
       " 0.8,\n",
       " 0.6,\n",
       " 0.6,\n",
       " 0.4,\n",
       " 0.6,\n",
       " 0.8,\n",
       " 0.6,\n",
       " 0.8,\n",
       " 0.4,\n",
       " 0.6,\n",
       " 0.6,\n",
       " 0.8,\n",
       " 0.6,\n",
       " 0.6,\n",
       " 0.8,\n",
       " 0.8,\n",
       " 0.6,\n",
       " 0.6,\n",
       " 0.6,\n",
       " 0.4,\n",
       " 0.8,\n",
       " 0.6,\n",
       " 0.8,\n",
       " 0.6,\n",
       " 0.4,\n",
       " 0.6,\n",
       " 0.8,\n",
       " 0.4,\n",
       " 0.8,\n",
       " 0.4,\n",
       " 0.6,\n",
       " 0.2,\n",
       " 0.6,\n",
       " 1.0,\n",
       " 0.8,\n",
       " 0.4,\n",
       " 0.8,\n",
       " 0.8,\n",
       " 0.6,\n",
       " 0.8,\n",
       " 1.0,\n",
       " 0.6,\n",
       " 0.6,\n",
       " 0.8,\n",
       " 0.8,\n",
       " 0.4,\n",
       " 0.4,\n",
       " 0.6,\n",
       " 0.8,\n",
       " 0.8,\n",
       " 1.0,\n",
       " 0.4,\n",
       " 0.8,\n",
       " 0.4,\n",
       " 1.0,\n",
       " 1.0,\n",
       " 0.8,\n",
       " 0.8,\n",
       " 0.8,\n",
       " 0.6,\n",
       " 0.6,\n",
       " 0.4,\n",
       " 0.6,\n",
       " 0.6,\n",
       " 0.2,\n",
       " 0.6,\n",
       " 0.8,\n",
       " 0.6,\n",
       " 1.0,\n",
       " 0.4,\n",
       " 0.8,\n",
       " 0.4,\n",
       " 0.8,\n",
       " 0.8,\n",
       " 0.8,\n",
       " 0.2,\n",
       " 0.6,\n",
       " 0.8,\n",
       " 0.6,\n",
       " 0.8,\n",
       " 0.6,\n",
       " 0.8,\n",
       " 0.6,\n",
       " 0.4,\n",
       " 0.8,\n",
       " 0.8,\n",
       " 1.0,\n",
       " 1.0,\n",
       " 0.8,\n",
       " 0.8,\n",
       " 0.8,\n",
       " 0.8,\n",
       " 0.8,\n",
       " 1.0,\n",
       " 1.0,\n",
       " 1.0,\n",
       " 0.8,\n",
       " 0.4,\n",
       " 0.6,\n",
       " 0.8,\n",
       " 0.8,\n",
       " 0.6,\n",
       " 0.4,\n",
       " 0.6,\n",
       " 1.0,\n",
       " 1.0,\n",
       " 0.6,\n",
       " 0.8,\n",
       " 0.8,\n",
       " 1.0,\n",
       " 1.0,\n",
       " 1.0,\n",
       " 0.6,\n",
       " 1.0,\n",
       " 0.6,\n",
       " 0.6,\n",
       " 0.6,\n",
       " 1.0,\n",
       " 0.4,\n",
       " ...]"
      ]
     },
     "execution_count": 10,
     "metadata": {},
     "output_type": "execute_result"
    }
   ],
   "source": [
    "sample_props = []\n",
    "for _ in range(10000):\n",
    "    sample = np.random.choice(students, 5)\n",
    "    sample_props.append(sample.mean())\n",
    "sample_props"
   ]
  },
  {
   "cell_type": "markdown",
   "metadata": {},
   "source": [
    "`4.` What is the mean proportion of all 10,000 of these proportions?  This is often called **the mean of the sampling distribution**."
   ]
  },
  {
   "cell_type": "code",
   "execution_count": 13,
   "metadata": {},
   "outputs": [
    {
     "data": {
      "text/plain": [
       "0.71338"
      ]
     },
     "execution_count": 13,
     "metadata": {},
     "output_type": "execute_result"
    }
   ],
   "source": [
    "np.mean(sample_props)"
   ]
  },
  {
   "cell_type": "markdown",
   "metadata": {},
   "source": [
    "`5.` What are the variance and standard deviation for the original 21 data values?"
   ]
  },
  {
   "cell_type": "code",
   "execution_count": 15,
   "metadata": {},
   "outputs": [
    {
     "data": {
      "text/plain": [
       "(0.20408163265306126, 0.45175395145262565)"
      ]
     },
     "execution_count": 15,
     "metadata": {},
     "output_type": "execute_result"
    }
   ],
   "source": [
    "np.var(students), np.std(students)"
   ]
  },
  {
   "cell_type": "markdown",
   "metadata": {},
   "source": [
    "`6.` What are the variance and standard deviation for the 10,000 proportions you created?"
   ]
  },
  {
   "cell_type": "code",
   "execution_count": 17,
   "metadata": {},
   "outputs": [
    {
     "data": {
      "text/plain": [
       "(0.04215697560000001, 0.20532163938562348)"
      ]
     },
     "execution_count": 17,
     "metadata": {},
     "output_type": "execute_result"
    }
   ],
   "source": [
    "np.var(sample_props), np.std(sample_props)"
   ]
  },
  {
   "cell_type": "markdown",
   "metadata": {},
   "source": [
    "`7.` Compute p(1-p), which of your answers does this most closely match?"
   ]
  },
  {
   "cell_type": "code",
   "execution_count": 20,
   "metadata": {},
   "outputs": [
    {
     "data": {
      "text/plain": [
       "0.20408163265306123"
      ]
     },
     "execution_count": 20,
     "metadata": {},
     "output_type": "execute_result"
    }
   ],
   "source": [
    "p = students.mean()\n",
    "p*(1-p)"
   ]
  },
  {
   "cell_type": "markdown",
   "metadata": {},
   "source": [
    "`8.` Compute p(1-p)/n, which of your answers does this most closely match?"
   ]
  },
  {
   "cell_type": "code",
   "execution_count": 25,
   "metadata": {},
   "outputs": [
    {
     "data": {
      "text/plain": [
       "0.04081632653061225"
      ]
     },
     "execution_count": 25,
     "metadata": {},
     "output_type": "execute_result"
    }
   ],
   "source": [
    "n = 5\n",
    "p*(1-p)/n"
   ]
  },
  {
   "cell_type": "markdown",
   "metadata": {},
   "source": [
    "`9.` Notice that your answer to `8.` is commly called the **variance of the sampling distribution**.  If you were to change your first sample to be 20, what would this do for the variance of the sampling distribution?  Simulate and calculate the new answers in `6.` and `8.` to check that the consistency you found before still holds."
   ]
  },
  {
   "cell_type": "code",
   "execution_count": 26,
   "metadata": {},
   "outputs": [],
   "source": [
    "sample_props20 = []\n",
    "for _ in range(10000):\n",
    "    sample = np.random.choice(students, 20)\n",
    "    sample_props20.append(sample.mean())"
   ]
  },
  {
   "cell_type": "code",
   "execution_count": 27,
   "metadata": {},
   "outputs": [
    {
     "data": {
      "text/plain": [
       "(0.0103752616, 0.10185902807311682)"
      ]
     },
     "execution_count": 27,
     "metadata": {},
     "output_type": "execute_result"
    }
   ],
   "source": [
    "np.var(sample_props20), np.std(sample_props20)"
   ]
  },
  {
   "cell_type": "markdown",
   "metadata": {},
   "source": [
    "`10.` Finally, plot a histgram of the 10,000 draws from both the proportions with a sample size of 5 and the proportions with a sample size of 20.  Each of these distributions is a sampling distribution.  One is for the proportions of sample size 5 and the other a sampling distribution for proportions with sample size 20."
   ]
  },
  {
   "cell_type": "code",
   "execution_count": 29,
   "metadata": {},
   "outputs": [
    {
     "data": {
      "text/plain": [
       "(array([  27.,    0.,  249.,    0., 1228., 2925.,    0.,    0., 3666.,\n",
       "        1905.]),\n",
       " array([0. , 0.1, 0.2, 0.3, 0.4, 0.5, 0.6, 0.7, 0.8, 0.9, 1. ]),\n",
       " <a list of 10 Patch objects>)"
      ]
     },
     "execution_count": 29,
     "metadata": {},
     "output_type": "execute_result"
    },
    {
     "data": {
      "image/png": "[encoded data removed]",
      "text/plain": [
       "<Figure size 432x288 with 1 Axes>"
      ]
     },
     "metadata": {
      "needs_background": "light"
     },
     "output_type": "display_data"
    }
   ],
   "source": [
    "plt.hist(sample_props)"
   ]
  },
  {
   "cell_type": "code",
   "execution_count": 30,
   "metadata": {},
   "outputs": [
    {
     "data": {
      "text/plain": [
       "(array([  13.,   24.,  328.,  507., 1029., 3416., 1825., 2380.,  375.,\n",
       "         103.]),\n",
       " array([0.3 , 0.37, 0.44, 0.51, 0.58, 0.65, 0.72, 0.79, 0.86, 0.93, 1.  ]),\n",
       " <a list of 10 Patch objects>)"
      ]
     },
     "execution_count": 30,
     "metadata": {},
     "output_type": "execute_result"
    },
    {
     "data": {
      "image/png": "[encoded data removed]",
      "text/plain": [
       "<Figure size 432x288 with 1 Axes>"
      ]
     },
     "metadata": {
      "needs_background": "light"
     },
     "output_type": "display_data"
    }
   ],
   "source": [
    "plt.hist(sample_props20)"
   ]
  },
  {
   "cell_type": "markdown",
   "metadata": {},
   "source": [
    "### Law of Large Numbers Example\n",
    "\n",
    "Use the dataset below stored in `pop_data` to answer the following questions, and complete the following quiz questions."
   ]
  },
  {
   "cell_type": "code",
   "execution_count": 2,
   "metadata": {},
   "outputs": [
    {
     "data": {
      "image/png": "[encoded data removed]",
      "text/plain": [
       "<Figure size 432x288 with 1 Axes>"
      ]
     },
     "metadata": {
      "needs_background": "light"
     },
     "output_type": "display_data"
    }
   ],
   "source": [
    "import numpy as np\n",
    "import matplotlib.pyplot as plt\n",
    "\n",
    "%matplotlib inline\n",
    "np.random.seed(42)\n",
    "\n",
    "# This is just setting up some random data in pop_data\n",
    "# The functionality of the gamma distribution is not relevant \n",
    "# for this class.\n",
    "pop_data = np.random.gamma(1,100,3000)\n",
    "plt.hist(pop_data);"
   ]
  },
  {
   "cell_type": "markdown",
   "metadata": {},
   "source": [
    "`1.` What is the the number of data values in our population dataset?"
   ]
  },
  {
   "cell_type": "code",
   "execution_count": 3,
   "metadata": {},
   "outputs": [
    {
     "data": {
      "text/plain": [
       "3000"
      ]
     },
     "execution_count": 3,
     "metadata": {},
     "output_type": "execute_result"
    }
   ],
   "source": [
    "len(pop_data)"
   ]
  },
  {
   "cell_type": "markdown",
   "metadata": {},
   "source": [
    "`2.` What is the population mean?"
   ]
  },
  {
   "cell_type": "code",
   "execution_count": 4,
   "metadata": {},
   "outputs": [
    {
     "data": {
      "text/plain": [
       "100.35978700795846"
      ]
     },
     "execution_count": 4,
     "metadata": {},
     "output_type": "execute_result"
    }
   ],
   "source": [
    "pop_data.mean()"
   ]
  },
  {
   "cell_type": "markdown",
   "metadata": {},
   "source": [
    "`3.` Use numpy's **random.choice** to simulate 5 draws from the `pop_data` array.  What is sample mean?"
   ]
  },
  {
   "cell_type": "code",
   "execution_count": 5,
   "metadata": {},
   "outputs": [
    {
     "data": {
      "text/plain": [
       "27.685829640608965"
      ]
     },
     "execution_count": 5,
     "metadata": {},
     "output_type": "execute_result"
    }
   ],
   "source": [
    "pop_5 = np.random.choice(pop_data, 5)\n",
    "pop_5.mean()"
   ]
  },
  {
   "cell_type": "markdown",
   "metadata": {},
   "source": [
    "`4.` Use numpy's **random.choice** to simulate 20 draws from the `pop_data` array.  What is sample mean?"
   ]
  },
  {
   "cell_type": "code",
   "execution_count": 6,
   "metadata": {},
   "outputs": [
    {
     "data": {
      "text/plain": [
       "163.3701520126447"
      ]
     },
     "execution_count": 6,
     "metadata": {},
     "output_type": "execute_result"
    }
   ],
   "source": [
    "pop_20 = np.random.choice(pop_data, 20)\n",
    "pop_20.mean()"
   ]
  },
  {
   "cell_type": "markdown",
   "metadata": {},
   "source": [
    "`5.` Use numpy's **random.choice** to simulate 100 draws from the `pop_data` array.  What is sample mean?"
   ]
  },
  {
   "cell_type": "code",
   "execution_count": 7,
   "metadata": {},
   "outputs": [
    {
     "data": {
      "text/plain": [
       "119.55076984115861"
      ]
     },
     "execution_count": 7,
     "metadata": {},
     "output_type": "execute_result"
    }
   ],
   "source": [
    "pop_100 = np.random.choice(pop_data, 100)\n",
    "pop_100.mean()"
   ]
  },
  {
   "cell_type": "markdown",
   "metadata": {},
   "source": [
    "* The larger our sample size is, more close the statistics gets to the parameter"
   ]
  },
  {
   "cell_type": "markdown",
   "metadata": {},
   "source": [
    "### Central Limit Theorem \n",
    "\n",
    "Work through the questions and use the created variables to answer the questions that follow below the notebook.\n",
    "\n",
    "Run the below cell to get started.\n",
    "\n",
    "`1.` In order to create the sampling distribution for the average of 3 draws of this distribution, follow these steps:\n",
    "\n",
    "`a.` Use numpy's **random.choice** to simulate 3 draws from the `pop_data` array.   <br><br>\n",
    "`b.` Compute the mean of these 3 draws. <br><br>\n",
    "`c.` Write a loop to simulate this process 10,000 times, and store each mean into an array called **means_size_3**.<br><br>\n",
    "`d.` Plot a histogram of your sample means.<br><br>\n",
    "`e.` Use **means_size_3** and **pop_data** to answer the quiz questions below."
   ]
  },
  {
   "cell_type": "code",
   "execution_count": 8,
   "metadata": {},
   "outputs": [
    {
     "data": {
      "text/plain": [
       "(array([1.800e+03, 3.635e+03, 2.502e+03, 1.271e+03, 5.170e+02, 1.820e+02,\n",
       "        6.800e+01, 1.800e+01, 5.000e+00, 2.000e+00]),\n",
       " array([  2.62400945,  49.41233521,  96.20066098, 142.98898674,\n",
       "        189.77731251, 236.56563827, 283.35396404, 330.1422898 ,\n",
       "        376.93061556, 423.71894133, 470.50726709]),\n",
       " <a list of 10 Patch objects>)"
      ]
     },
     "execution_count": 8,
     "metadata": {},
     "output_type": "execute_result"
    },
    {
     "data": {
      "image/png": "[encoded data removed]",
      "text/plain": [
       "<Figure size 432x288 with 1 Axes>"
      ]
     },
     "metadata": {
      "needs_background": "light"
     },
     "output_type": "display_data"
    }
   ],
   "source": [
    "means_size_3 = []\n",
    "for i in range(10000):\n",
    "    pop_3 = np.random.choice(pop_data, 3)\n",
    "    means_size_3.append(pop_3.mean())\n",
    "plt.hist(means_size_3)"
   ]
  },
  {
   "cell_type": "code",
   "execution_count": 9,
   "metadata": {},
   "outputs": [
    {
     "data": {
      "text/plain": [
       "100.78314656162746"
      ]
     },
     "execution_count": 9,
     "metadata": {},
     "output_type": "execute_result"
    }
   ],
   "source": [
    "# Amostral distribution mean\n",
    "np.mean(means_size_3)"
   ]
  },
  {
   "cell_type": "code",
   "execution_count": 11,
   "metadata": {},
   "outputs": [
    {
     "data": {
      "text/plain": [
       "100.35978700795846"
      ]
     },
     "execution_count": 11,
     "metadata": {},
     "output_type": "execute_result"
    }
   ],
   "source": [
    "# Population mean\n",
    "pop_data.mean()"
   ]
  },
  {
   "cell_type": "code",
   "execution_count": 12,
   "metadata": {},
   "outputs": [
    {
     "data": {
      "text/plain": [
       "99.77860187968906"
      ]
     },
     "execution_count": 12,
     "metadata": {},
     "output_type": "execute_result"
    }
   ],
   "source": [
    "# Population standard deviation\n",
    "np.std(pop_data)"
   ]
  },
  {
   "cell_type": "code",
   "execution_count": 14,
   "metadata": {},
   "outputs": [
    {
     "data": {
      "text/plain": [
       "57.689763302426435"
      ]
     },
     "execution_count": 14,
     "metadata": {},
     "output_type": "execute_result"
    }
   ],
   "source": [
    "# Amostral distribution standard deviation\n",
    "np.std(means_size_3)"
   ]
  },
  {
   "cell_type": "markdown",
   "metadata": {},
   "source": [
    "### Central Limit Theorem - Part II\n",
    "\n",
    "Work through the questions and use the created variables to answer the questions that follow below the notebook.\n",
    "\n",
    "Run the below cell to get started.\n",
    "\n",
    "`1.` In order to create the sampling distribution for the average of 100 draws of this distribution, follow these steps:\n",
    "\n",
    "`a.` Use numpy's **random.choice** to simulate 100 draws from the `pop_data` array.   <br><br>\n",
    "`b.` Compute the mean of these 100 draws. <br><br>\n",
    "`c.` Write a loop to simulate this process 10,000 times, and store each mean into an array called **means_size_100**.<br><br>\n",
    "`d.` Plot a histogram of your sample means.<br><br>\n",
    "`e.` Use **means_size_100** and **pop_data** to answer the quiz questions below."
   ]
  },
  {
   "cell_type": "code",
   "execution_count": 16,
   "metadata": {},
   "outputs": [
    {
     "data": {
      "text/plain": [
       "(array([  14.,  213., 1027., 2481., 3030., 2082.,  866.,  236.,   44.,\n",
       "           7.]), array([ 66.0052101 ,  73.74061591,  81.47602171,  89.21142751,\n",
       "         96.94683332, 104.68223912, 112.41764493, 120.15305073,\n",
       "        127.88845653, 135.62386234, 143.35926814]), <a list of 10 Patch objects>)"
      ]
     },
     "execution_count": 16,
     "metadata": {},
     "output_type": "execute_result"
    },
    {
     "data": {
      "image/png": "[encoded data removed]",
      "text/plain": [
       "<Figure size 432x288 with 1 Axes>"
      ]
     },
     "metadata": {
      "needs_background": "light"
     },
     "output_type": "display_data"
    }
   ],
   "source": [
    "means_size_100 = []\n",
    "for i in range(10000):\n",
    "    pop_100 = np.random.choice(pop_data, 100)\n",
    "    means_size_100.append(pop_100.mean())\n",
    "plt.hist(means_size_100)"
   ]
  },
  {
   "cell_type": "code",
   "execution_count": 17,
   "metadata": {},
   "outputs": [
    {
     "data": {
      "text/plain": [
       "100.42800092719784"
      ]
     },
     "execution_count": 17,
     "metadata": {},
     "output_type": "execute_result"
    }
   ],
   "source": [
    "# Amostral distribution mean\n",
    "np.mean(means_size_100)"
   ]
  },
  {
   "cell_type": "code",
   "execution_count": 18,
   "metadata": {},
   "outputs": [
    {
     "data": {
      "text/plain": [
       "100.35978700795846"
      ]
     },
     "execution_count": 18,
     "metadata": {},
     "output_type": "execute_result"
    }
   ],
   "source": [
    "# Population mean\n",
    "pop_data.mean()"
   ]
  },
  {
   "cell_type": "code",
   "execution_count": 19,
   "metadata": {},
   "outputs": [
    {
     "data": {
      "text/plain": [
       "9955.76939306549"
      ]
     },
     "execution_count": 19,
     "metadata": {},
     "output_type": "execute_result"
    }
   ],
   "source": [
    "# Population standard deviation\n",
    "np.var(pop_data)"
   ]
  },
  {
   "cell_type": "code",
   "execution_count": 20,
   "metadata": {},
   "outputs": [
    {
     "data": {
      "text/plain": [
       "98.22552343701176"
      ]
     },
     "execution_count": 20,
     "metadata": {},
     "output_type": "execute_result"
    }
   ],
   "source": [
    "# Amostral distribution standard deviation\n",
    "np.var(means_size_100)"
   ]
  },
  {
   "cell_type": "markdown",
   "metadata": {},
   "source": [
    "* Observe a diminuição da variância na distribuição amostral. É o caso, que é sempre por um fator de n. Ou seja, a variância da distribuição amostral é a variância da população dividida pelo tamanho da amostra (100);\n",
    "* Este é o poder do teorema central do limite. O tamanho da amostra de 100 era grande o suficiente para que nossa distribuição amostral seja agora em forma de sino! Não é incrível?! A população é claramente assimétrica à direita.\n",
    "\n",
    "### Central Limit Theorem - Part III\n",
    "\n",
    "You saw how the **Central Limit Theorem** worked for the sample mean in the earlier concept.  However, let's consider another example to see a case where the **Central Limit Theorem** doesn't work...\n",
    "\n",
    "Work through the questions and use the created variables to answer the questions that follow below the notebook.\n",
    "\n",
    "Run the below cell to get started.\n",
    "\n",
    "`1.` In order to create the sampling distribution for the variance of 100 draws of this distribution, follow these steps:\n",
    "\n",
    "`a.` Use numpy's **random.choice** to simulate 100 draws from the `pop_data` array.   <br><br>\n",
    "`b.` Compute the variance of these 100 draws. <br><br>\n",
    "`c.` Write a loop to simulate this process 10,000 times, and store each variance into an array called **var_size_100**.<br><br>\n",
    "`d.` Plot a histogram of your sample variances.<br><br>\n",
    "`e.` Use **var_size_100** and **pop_data** to answer the quiz questions below. "
   ]
  },
  {
   "cell_type": "code",
   "execution_count": 26,
   "metadata": {},
   "outputs": [
    {
     "data": {
      "text/plain": [
       "16271.525800668962"
      ]
     },
     "execution_count": 26,
     "metadata": {},
     "output_type": "execute_result"
    }
   ],
   "source": [
    "# Population sample variance\n",
    "pop_100 = np.random.choice(pop_data, 100)\n",
    "np.var(pop_100)"
   ]
  },
  {
   "cell_type": "code",
   "execution_count": 28,
   "metadata": {},
   "outputs": [
    {
     "data": {
      "text/plain": [
       "(array([2.300e+02, 1.837e+03, 3.232e+03, 2.611e+03, 1.339e+03, 5.330e+02,\n",
       "        1.480e+02, 5.400e+01, 1.400e+01, 2.000e+00]),\n",
       " array([ 3806.80826842,  5807.90109561,  7808.9939228 ,  9810.08674998,\n",
       "        11811.17957717, 13812.27240435, 15813.36523154, 17814.45805872,\n",
       "        19815.55088591, 21816.6437131 , 23817.73654028]),\n",
       " <a list of 10 Patch objects>)"
      ]
     },
     "execution_count": 28,
     "metadata": {},
     "output_type": "execute_result"
    },
    {
     "data": {
      "image/png": "[encoded data removed]",
      "text/plain": [
       "<Figure size 432x288 with 1 Axes>"
      ]
     },
     "metadata": {
      "needs_background": "light"
     },
     "output_type": "display_data"
    }
   ],
   "source": [
    "var_size_100 = []\n",
    "for i in range(10000):\n",
    "    pop_100 = np.random.choice(pop_data, 100)\n",
    "    var_size_100.append(np.var(pop_100))\n",
    "plt.hist(var_size_100)"
   ]
  },
  {
   "cell_type": "code",
   "execution_count": 29,
   "metadata": {},
   "outputs": [
    {
     "data": {
      "text/plain": [
       "6435940.547301795"
      ]
     },
     "execution_count": 29,
     "metadata": {},
     "output_type": "execute_result"
    }
   ],
   "source": [
    "# Amostral distribution variance\n",
    "np.var(var_size_100)"
   ]
  },
  {
   "cell_type": "code",
   "execution_count": 31,
   "metadata": {},
   "outputs": [
    {
     "data": {
      "text/plain": [
       "9955.76939306549"
      ]
     },
     "execution_count": 31,
     "metadata": {},
     "output_type": "execute_result"
    }
   ],
   "source": [
    "# Population variance\n",
    "np.var(pop_data)"
   ]
  },
  {
   "cell_type": "code",
   "execution_count": 32,
   "metadata": {},
   "outputs": [
    {
     "data": {
      "text/plain": [
       "9914.173386725226"
      ]
     },
     "execution_count": 32,
     "metadata": {},
     "output_type": "execute_result"
    }
   ],
   "source": [
    "# Amostral distribution mean\n",
    "np.mean(var_size_100)"
   ]
  },
  {
   "cell_type": "markdown",
   "metadata": {},
   "source": [
    "* Então, parece que o centro de nossa distribuição amostral é próximo à verdadeira variância na população, mas um tamanho maior de amostra parece ser necessário para que esses estejam mais próximos de uma igualdade.\n",
    "* No fim das contas, não importa o quão grande seja o tamanho de sua amostra, ela nunca será normalmente distribuída. Esta distribuição irá, na verdade, aproximar-se de uma distribuição conhecida como qui-quadrado.\n",
    "\n",
    "### Bootstrap Sampling\n",
    "\n",
    "Below is an array of the possible values you can obtain from a die.  Let's consider different methods of sampling from these values."
   ]
  },
  {
   "cell_type": "code",
   "execution_count": 33,
   "metadata": {},
   "outputs": [],
   "source": [
    "np.random.seed(42)\n",
    "\n",
    "die_vals = np.array([1,2,3,4,5,6])"
   ]
  },
  {
   "cell_type": "markdown",
   "metadata": {},
   "source": [
    "1. Take a random sample of 20 values from **die_vals** using the code below, then answer the question in the first quiz below."
   ]
  },
  {
   "cell_type": "code",
   "execution_count": 34,
   "metadata": {},
   "outputs": [
    {
     "data": {
      "text/plain": [
       "array([4, 5, 3, 5, 5, 2, 3, 3, 3, 5, 4, 3, 6, 5, 2, 4, 6, 6, 2, 4])"
      ]
     },
     "execution_count": 34,
     "metadata": {},
     "output_type": "execute_result"
    }
   ],
   "source": [
    "np.random.choice(die_vals, size=20)"
   ]
  },
  {
   "cell_type": "markdown",
   "metadata": {},
   "source": [
    "`2.` Use the code below to choose another sample from **die_vals**, then answer the question in the first quiz below."
   ]
  },
  {
   "cell_type": "code",
   "execution_count": 35,
   "metadata": {},
   "outputs": [
    {
     "ename": "ValueError",
     "evalue": "Cannot take a larger sample than population when 'replace=False'",
     "output_type": "error",
     "traceback": [
      "\u001b[0;31m---------------------------------------------------------------------------\u001b[0m",
      "\u001b[0;31mValueError\u001b[0m                                Traceback (most recent call last)",
      "\u001b[0;32m<ipython-input-35-160315322c06>\u001b[0m in \u001b[0;36m<module>\u001b[0;34m()\u001b[0m\n\u001b[0;32m----> 1\u001b[0;31m \u001b[0mnp\u001b[0m\u001b[0;34m.\u001b[0m\u001b[0mrandom\u001b[0m\u001b[0;34m.\u001b[0m\u001b[0mchoice\u001b[0m\u001b[0;34m(\u001b[0m\u001b[0mdie_vals\u001b[0m\u001b[0;34m,\u001b[0m \u001b[0mreplace\u001b[0m\u001b[0;34m=\u001b[0m\u001b[0mFalse\u001b[0m\u001b[0;34m,\u001b[0m \u001b[0msize\u001b[0m\u001b[0;34m=\u001b[0m\u001b[0;36m20\u001b[0m\u001b[0;34m)\u001b[0m\u001b[0;34m\u001b[0m\u001b[0m\n\u001b[0m",
      "\u001b[0;32mmtrand.pyx\u001b[0m in \u001b[0;36mmtrand.RandomState.choice\u001b[0;34m()\u001b[0m\n",
      "\u001b[0;31mValueError\u001b[0m: Cannot take a larger sample than population when 'replace=False'"
     ]
    }
   ],
   "source": [
    "np.random.choice(die_vals, replace=False, size=20)"
   ]
  },
  {
   "cell_type": "markdown",
   "metadata": {},
   "source": [
    "* O fato de que valores podem ser escolhidos mais de uma vez torna isso uma amostragem bootstrap ou \"bootstrapping\".\n",
    "* O código quebrou porque você fez amostragem sem reposição em mais valores do que os que você podia selecionar."
   ]
  },
  {
   "cell_type": "code",
   "execution_count": null,
   "metadata": {},
   "outputs": [],
   "source": []
  }
 ],
 "metadata": {
  "kernelspec": {
   "display_name": "Python 2",
   "language": "python",
   "name": "python2"
  },
  "language_info": {
   "codemirror_mode": {
    "name": "ipython",
    "version": 2
   },
   "file_extension": ".py",
   "mimetype": "text/x-python",
   "name": "python",
   "nbconvert_exporter": "python",
   "pygments_lexer": "ipython2",
   "version": "2.7.15"
  }
 },
 "nbformat": 4,
 "nbformat_minor": 2
}
