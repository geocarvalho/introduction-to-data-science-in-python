{
 "cells": [
  {
   "cell_type": "markdown",
   "metadata": {},
   "source": [
    "# Regression\n",
    "\n",
    "## Machine learning\n",
    "\n",
    "### 1. Supervised learning\n",
    "Where we use input data to predict a label for that data\n",
    "* Using credit card transaction data to predict fraudulent transactions;\n",
    "* Using customer financial data to predict the chance of a default on a loan;\n",
    "* Using neighborhood characteristics to predict home prices.\n",
    "\n",
    "**Linear and logistic regression fall into here.**\n",
    "\n",
    "### 2. Unsupervised learning\n",
    "Clustering together data based on common characteristics (these data don't have labels like in supervised ML techniques)\n",
    "* Trying to group similar customer segments;\n",
    "* Group documents that cover similar topics.\n",
    "---\n",
    "\n",
    "## Linear regression introduction\n",
    "\n",
    "### a) Simple linear regression\n",
    "The most simple form of regression. A linear comparison of only two quantitative variables.\n",
    "* *Prices* x **sales**;\n",
    "* *Temperature* x **humidity**;\n",
    "* *Height* x **weight**;\n",
    "* *Hours studying* x **test grade**.\n",
    "\n",
    "A common way to visualize these relationships is with a scatter plot. The variable on the $Y$ axis is called *the response* or *dependent*, where the variable on the $X$ axis is called *explanatory* or *independent*\n",
    "* $Response$ $variable$ $(Y):$ the variable we're interested in predict;\n",
    "* $Explanatory$ $variable$ $(X):$ the variable used to predict the response.\n",
    "\n",
    "The **scatter plot** can be used to visualize both the strength and the direction of the relationship between two variables.\n",
    "* Positive relation: when both variables increases.\n",
    "* Negative relation: when one variable increases and the other decreases.\n",
    "* As the points spread out from one another this weakens the relationship.\n",
    "* To identify strong or weak relationships, we aren't so much looking at the slope associated with the relationship.\n",
    "* Generally, we consider strength as either weak, moderate or strong. And direction as positive or negative.\n",
    "\n",
    "[$Correlation$ $coeficient$ $of$ $Pearson$ $(r)$](https://pt.wikipedia.org/wiki/Coeficiente_de_correla%C3%A7%C3%A3o_de_Pearson) is the strength and direction of a linear relationship, always between -1 and 1, where the closer it is to 1 or -1, the stronger the relationship. Negative values indicate negative relationship, otherwise positive relationship.\n",
    "\n",
    "**Ps.:** [Spearman coeficient](https://pt.wikipedia.org/wiki/Coeficiente_de_correla%C3%A7%C3%A3o_de_postos_de_Spearman) is[ more indicated for specific cases with two variables (more options](https://pt.wikipedia.org/wiki/Coeficiente_de_correla%C3%A7%C3%A3o_de_postos_de_Spearman)).\n",
    "\n",
    "---\n",
    "\n",
    "## Correlation coeficients\n",
    "There is some rules, but this is a highly field-dependent measure.\n",
    "* **Strong relationship:** 0.7 <= |r| < 1;\n",
    "* **Moderate relationship:** 0.3 <= |r| < 0.7;\n",
    "* **Weak relationship:** 0.0 <= |r| < 0.3.\n",
    "\n",
    "**Ps.:** Negative correlation coeficient don't indicate a weak relationship.\n",
    "\n",
    "**Ps2.:** On excel the function is `CORREL(col1, col2)` ([example](https://docs.google.com/spreadsheets/d/1bZs0QjX0d_TKeLcbBZKwLq9mCE5Gpgq0XrliVeq_FZg/edit#gid=0))\n",
    "\n",
    "---\n",
    "\n",
    "## What defines a line?\n",
    "We define it by two values, an intercept and a slope.\n",
    "* **Intercept** tells us the predicted value of the response when the explanatory variable is zero. Commonly used for the population and sample intercept values, pronouced  beta knot for the parameter and B0 for statistic.\n",
    "* **Slope ($\\beta_1$)** tells us the predicted change in the response for each additional one unit increase in the explanatory variable ($X$). For parameter is beta one and b1 for the statistic\n",
    "\n",
    "Once we've fit a line to these points, we define with this equation\n",
    "\n",
    "$ŷ$ $=$ $b0$ $+$ $b1x$\n",
    "\n",
    "* $b0$ is where the x value is equal to zero;\n",
    "* $b1$ is the change along the y-axis in the line;\n",
    "* $ŷ$ define the values that we get from the fitted line (predicted result);\n",
    "* $y$ defines the actual data points (actualresult);\n",
    "\n",
    "\n",
    "Values out of the line are define line e $(x1,y1)$, but values in the line are define positions like $(x1,ŷ1)$\n",
    "\n",
    "---\n",
    "\n",
    "## Fitting a regression line\n",
    "In bi-variate case, we're interested in fiding a line that best allows us to predict the response variable (y) using the explanatory variable (x).\n",
    "The main algorith used to find the best line is  the **least squares regression algorithm** and the way the line is chosen is by minimizing the sum of squared vertical distances between our fitted line and each of these points\n",
    "To calculate the difference between the point and the arrow: $y1$ $-$ $ŷ1$.\n",
    "For each of the data points in the data set, look at the distance between the predicted and actual values, square these, and them sum them all together.\n",
    "\n",
    "$\\sum_{i=1}^{x}$ $(yi$ $-$ $ŷi)^2$\n",
    "\n",
    "And if our line creates a smaller value than for any other line, then this is the line we want to use.\n",
    "\n",
    "* [Another video about linear regressionan analysis intro](https://www.youtube.com/watch?v=zPG4NjIkCjc)\n",
    "\n",
    "To calculate the intercept we need to known:\n",
    "\n",
    "$\\bar{x}$ $=$ $\\frac{1}{n}$ $\\sum$ $x_i$\n",
    "\n",
    "$\\bar{y}$ $=$ $\\frac{1}{n}$ $\\sum$ $y_i$\n",
    "\n",
    "$s_y$ $=$ $\\sqrt{\\frac{1}{n=1}\\sum(y_i-\\bar{y})²}$\n",
    "\n",
    "$s_x$ $=$ $\\sqrt{\\frac{1}{n=1}\\sum(x_i-\\bar{x})²}$\n",
    "\n",
    "$r$ $=$ $\\frac{\\sum_{i=1}^{n}(x_i-\\bar{x})(y_i-\\bar{y})}{\\sqrt{\\sum(x_i-\\bar{x})²}{\\sqrt{\\sum(y_i-\\bar{y})^2}}}$\n",
    "\n",
    "$b_1$ $=$ $r_\\frac{s_y}{s_x}$\n",
    "\n",
    "$b_0$ $=$ $\\bar{y}-b_1\\bar{x}$\n",
    "\n",
    "## Fitting a regression line in python\n",
    "\n",
    "### Housing Analysis\n",
    "\n",
    "In this notebook, you will be replicating much of what you saw in this lesson using the housing data shown below.\n",
    "\n",
    "After you complete this notebook and the set of quizzes that follow, you will be set to try out your skills on a couple new datasets to gain some additional practice.  **Ignore the warning message**.\n",
    "\n",
    "\n",
    "`1.` Use the documentation [here](http://www.statsmodels.org/dev/regression.html) and the **statsmodels** library to fit a linear model to predict **price** based on **area**.  Obtain a summary of the results, and use them to answer the following quiz questions. Don't forget to add an intercept."
   ]
  },
  {
   "cell_type": "code",
   "execution_count": 4,
   "metadata": {},
   "outputs": [
    {
     "data": {
      "text/html": [
       "<div>\n",
       "<style scoped>\n",
       "    .dataframe tbody tr th:only-of-type {\n",
       "        vertical-align: middle;\n",
       "    }\n",
       "\n",
       "    .dataframe tbody tr th {\n",
       "        vertical-align: top;\n",
       "    }\n",
       "\n",
       "    .dataframe thead th {\n",
       "        text-align: right;\n",
       "    }\n",
       "</style>\n",
       "<table border=\"1\" class=\"dataframe\">\n",
       "  <thead>\n",
       "    <tr style=\"text-align: right;\">\n",
       "      <th></th>\n",
       "      <th>price</th>\n",
       "      <th>area</th>\n",
       "    </tr>\n",
       "  </thead>\n",
       "  <tbody>\n",
       "    <tr>\n",
       "      <th>0</th>\n",
       "      <td>598291</td>\n",
       "      <td>1188</td>\n",
       "    </tr>\n",
       "    <tr>\n",
       "      <th>1</th>\n",
       "      <td>1744259</td>\n",
       "      <td>3512</td>\n",
       "    </tr>\n",
       "    <tr>\n",
       "      <th>2</th>\n",
       "      <td>571669</td>\n",
       "      <td>1134</td>\n",
       "    </tr>\n",
       "    <tr>\n",
       "      <th>3</th>\n",
       "      <td>493675</td>\n",
       "      <td>1940</td>\n",
       "    </tr>\n",
       "    <tr>\n",
       "      <th>4</th>\n",
       "      <td>1101539</td>\n",
       "      <td>2208</td>\n",
       "    </tr>\n",
       "  </tbody>\n",
       "</table>\n",
       "</div>"
      ],
      "text/plain": [
       "     price  area\n",
       "0   598291  1188\n",
       "1  1744259  3512\n",
       "2   571669  1134\n",
       "3   493675  1940\n",
       "4  1101539  2208"
      ]
     },
     "execution_count": 4,
     "metadata": {},
     "output_type": "execute_result"
    }
   ],
   "source": [
    "import pandas as pd\n",
    "import numpy as np\n",
    "import statsmodels.api as sm\n",
    "import matplotlib.pyplot as plt\n",
    "%matplotlib inline\n",
    "\n",
    "df = pd.read_csv('house_price_area_only.csv')\n",
    "df.head()"
   ]
  },
  {
   "cell_type": "code",
   "execution_count": 2,
   "metadata": {},
   "outputs": [
    {
     "data": {
      "text/html": [
       "<div>\n",
       "<style scoped>\n",
       "    .dataframe tbody tr th:only-of-type {\n",
       "        vertical-align: middle;\n",
       "    }\n",
       "\n",
       "    .dataframe tbody tr th {\n",
       "        vertical-align: top;\n",
       "    }\n",
       "\n",
       "    .dataframe thead th {\n",
       "        text-align: right;\n",
       "    }\n",
       "</style>\n",
       "<table border=\"1\" class=\"dataframe\">\n",
       "  <thead>\n",
       "    <tr style=\"text-align: right;\">\n",
       "      <th></th>\n",
       "      <th>price</th>\n",
       "      <th>area</th>\n",
       "      <th>intercept</th>\n",
       "    </tr>\n",
       "  </thead>\n",
       "  <tbody>\n",
       "    <tr>\n",
       "      <th>0</th>\n",
       "      <td>598291</td>\n",
       "      <td>1188</td>\n",
       "      <td>1</td>\n",
       "    </tr>\n",
       "    <tr>\n",
       "      <th>1</th>\n",
       "      <td>1744259</td>\n",
       "      <td>3512</td>\n",
       "      <td>1</td>\n",
       "    </tr>\n",
       "    <tr>\n",
       "      <th>2</th>\n",
       "      <td>571669</td>\n",
       "      <td>1134</td>\n",
       "      <td>1</td>\n",
       "    </tr>\n",
       "    <tr>\n",
       "      <th>3</th>\n",
       "      <td>493675</td>\n",
       "      <td>1940</td>\n",
       "      <td>1</td>\n",
       "    </tr>\n",
       "    <tr>\n",
       "      <th>4</th>\n",
       "      <td>1101539</td>\n",
       "      <td>2208</td>\n",
       "      <td>1</td>\n",
       "    </tr>\n",
       "  </tbody>\n",
       "</table>\n",
       "</div>"
      ],
      "text/plain": [
       "     price  area  intercept\n",
       "0   598291  1188          1\n",
       "1  1744259  3512          1\n",
       "2   571669  1134          1\n",
       "3   493675  1940          1\n",
       "4  1101539  2208          1"
      ]
     },
     "execution_count": 2,
     "metadata": {},
     "output_type": "execute_result"
    }
   ],
   "source": [
    "# Add column to intercept result, statsmodels doesn't do this\n",
    "df['intercept'] = 1\n",
    "df.head()"
   ]
  },
  {
   "cell_type": "markdown",
   "metadata": {},
   "source": [
    "* There are only rare cases where add intercept is not necessary ([link discussion](https://stats.stackexchange.com/questions/7948/when-is-it-ok-to-remove-the-intercept-in-a-linear-regression-model))"
   ]
  },
  {
   "cell_type": "code",
   "execution_count": 3,
   "metadata": {},
   "outputs": [
    {
     "data": {
      "text/html": [
       "<table class=\"simpletable\">\n",
       "<caption>OLS Regression Results</caption>\n",
       "<tr>\n",
       "  <th>Dep. Variable:</th>          <td>price</td>      <th>  R-squared:         </th> <td>   0.678</td> \n",
       "</tr>\n",
       "<tr>\n",
       "  <th>Model:</th>                   <td>OLS</td>       <th>  Adj. R-squared:    </th> <td>   0.678</td> \n",
       "</tr>\n",
       "<tr>\n",
       "  <th>Method:</th>             <td>Least Squares</td>  <th>  F-statistic:       </th> <td>1.269e+04</td>\n",
       "</tr>\n",
       "<tr>\n",
       "  <th>Date:</th>             <td>Tue, 15 Jan 2019</td> <th>  Prob (F-statistic):</th>  <td>  0.00</td>  \n",
       "</tr>\n",
       "<tr>\n",
       "  <th>Time:</th>                 <td>19:19:40</td>     <th>  Log-Likelihood:    </th> <td> -84517.</td> \n",
       "</tr>\n",
       "<tr>\n",
       "  <th>No. Observations:</th>      <td>  6028</td>      <th>  AIC:               </th> <td>1.690e+05</td>\n",
       "</tr>\n",
       "<tr>\n",
       "  <th>Df Residuals:</th>          <td>  6026</td>      <th>  BIC:               </th> <td>1.691e+05</td>\n",
       "</tr>\n",
       "<tr>\n",
       "  <th>Df Model:</th>              <td>     1</td>      <th>                     </th>     <td> </td>    \n",
       "</tr>\n",
       "<tr>\n",
       "  <th>Covariance Type:</th>      <td>nonrobust</td>    <th>                     </th>     <td> </td>    \n",
       "</tr>\n",
       "</table>\n",
       "<table class=\"simpletable\">\n",
       "<tr>\n",
       "      <td></td>         <th>coef</th>     <th>std err</th>      <th>t</th>      <th>P>|t|</th>  <th>[0.025</th>    <th>0.975]</th>  \n",
       "</tr>\n",
       "<tr>\n",
       "  <th>intercept</th> <td> 9587.8878</td> <td> 7637.479</td> <td>    1.255</td> <td> 0.209</td> <td>-5384.303</td> <td> 2.46e+04</td>\n",
       "</tr>\n",
       "<tr>\n",
       "  <th>area</th>      <td>  348.4664</td> <td>    3.093</td> <td>  112.662</td> <td> 0.000</td> <td>  342.403</td> <td>  354.530</td>\n",
       "</tr>\n",
       "</table>\n",
       "<table class=\"simpletable\">\n",
       "<tr>\n",
       "  <th>Omnibus:</th>       <td>368.609</td> <th>  Durbin-Watson:     </th> <td>   2.007</td>\n",
       "</tr>\n",
       "<tr>\n",
       "  <th>Prob(Omnibus):</th> <td> 0.000</td>  <th>  Jarque-Bera (JB):  </th> <td> 349.279</td>\n",
       "</tr>\n",
       "<tr>\n",
       "  <th>Skew:</th>          <td> 0.534</td>  <th>  Prob(JB):          </th> <td>1.43e-76</td>\n",
       "</tr>\n",
       "<tr>\n",
       "  <th>Kurtosis:</th>      <td> 2.499</td>  <th>  Cond. No.          </th> <td>4.93e+03</td>\n",
       "</tr>\n",
       "</table><br/><br/>Warnings:<br/>[1] Standard Errors assume that the covariance matrix of the errors is correctly specified.<br/>[2] The condition number is large, 4.93e+03. This might indicate that there are<br/>strong multicollinearity or other numerical problems."
      ],
      "text/plain": [
       "<class 'statsmodels.iolib.summary.Summary'>\n",
       "\"\"\"\n",
       "                            OLS Regression Results                            \n",
       "==============================================================================\n",
       "Dep. Variable:                  price   R-squared:                       0.678\n",
       "Model:                            OLS   Adj. R-squared:                  0.678\n",
       "Method:                 Least Squares   F-statistic:                 1.269e+04\n",
       "Date:                Tue, 15 Jan 2019   Prob (F-statistic):               0.00\n",
       "Time:                        19:19:40   Log-Likelihood:                -84517.\n",
       "No. Observations:                6028   AIC:                         1.690e+05\n",
       "Df Residuals:                    6026   BIC:                         1.691e+05\n",
       "Df Model:                           1                                         \n",
       "Covariance Type:            nonrobust                                         \n",
       "==============================================================================\n",
       "                 coef    std err          t      P>|t|      [0.025      0.975]\n",
       "------------------------------------------------------------------------------\n",
       "intercept   9587.8878   7637.479      1.255      0.209   -5384.303    2.46e+04\n",
       "area         348.4664      3.093    112.662      0.000     342.403     354.530\n",
       "==============================================================================\n",
       "Omnibus:                      368.609   Durbin-Watson:                   2.007\n",
       "Prob(Omnibus):                  0.000   Jarque-Bera (JB):              349.279\n",
       "Skew:                           0.534   Prob(JB):                     1.43e-76\n",
       "Kurtosis:                       2.499   Cond. No.                     4.93e+03\n",
       "==============================================================================\n",
       "\n",
       "Warnings:\n",
       "[1] Standard Errors assume that the covariance matrix of the errors is correctly specified.\n",
       "[2] The condition number is large, 4.93e+03. This might indicate that there are\n",
       "strong multicollinearity or other numerical problems.\n",
       "\"\"\""
      ]
     },
     "execution_count": 3,
     "metadata": {},
     "output_type": "execute_result"
    }
   ],
   "source": [
    "# Provide to OLS method the Y and X variables\n",
    "lm = sm.OLS(df['price'], df[['intercept', 'area']])\n",
    "# Fit the model\n",
    "results = lm.fit()\n",
    "results.summary()"
   ]
  },
  {
   "cell_type": "markdown",
   "metadata": {},
   "source": [
    "* intercept ($b_0$) = 9587.8878\t\n",
    "* slope ($b_1$) = 348.4664\t\n",
    "* predicted home price (y) is $ŷ=b_0+b_1x$ (x=home area)\n",
    "$ŷ=9588+348x$\n",
    "\n",
    "In regression, p-values are always given for testing if the parameter for the intercept of the slope are equal to zero and he nulll hypothesis\n",
    "\n",
    "for intercept p-value 0.209 the $H_0=\\beta_0=0$ and $H_1:\\beta_0!=0$\n",
    "\n",
    "for area (slope) p-value of 0.000 the $H_0:\\beta_1=0$ and $H1:\\beta!=0$, which suggests that the area is statistically significant in relatin to the price."
   ]
  },
  {
   "cell_type": "markdown",
   "metadata": {},
   "source": [
    "## How do we know if our model fits well?\n",
    "One of the most common techniques for understanding the relaionship between two variables in regression is the **correlation coefficient** \n",
    "* **R-Squared value:** The amount of variability in the response (Y) explained by your model (explanatory variable). The square of the correlation coeficient ($r^2$). The closer this value to 1 the better the model fits, and closer to 0 the worst the model fits.\n",
    "    * R-squered=0.678 indicates that 67.8% of the variability in price is explained by the area of the house. The remaining 33% of the variability, is due to characteristics of the home that are not the area.\n",
    "* [Is R-squared useless?](https://data.library.virginia.edu/is-r-squared-useless/)\n",
    "\n",
    "---\n",
    "\n",
    "### Regression Carats vs. Price\n",
    "\n",
    "In this notebook, you will perform a similar analysis to the one you did in the previous notebook, but using a dataset holding the weight of a diamond in carats, and the price of the corresponding diamond in dollars.\n",
    "\n",
    "To get started, let's read in the necessary libraries and the dataset.\n"
   ]
  },
  {
   "cell_type": "code",
   "execution_count": 6,
   "metadata": {},
   "outputs": [
    {
     "data": {
      "text/html": [
       "<div>\n",
       "<style scoped>\n",
       "    .dataframe tbody tr th:only-of-type {\n",
       "        vertical-align: middle;\n",
       "    }\n",
       "\n",
       "    .dataframe tbody tr th {\n",
       "        vertical-align: top;\n",
       "    }\n",
       "\n",
       "    .dataframe thead th {\n",
       "        text-align: right;\n",
       "    }\n",
       "</style>\n",
       "<table border=\"1\" class=\"dataframe\">\n",
       "  <thead>\n",
       "    <tr style=\"text-align: right;\">\n",
       "      <th></th>\n",
       "      <th>carats</th>\n",
       "      <th>price</th>\n",
       "    </tr>\n",
       "  </thead>\n",
       "  <tbody>\n",
       "    <tr>\n",
       "      <th>0</th>\n",
       "      <td>0.17</td>\n",
       "      <td>355</td>\n",
       "    </tr>\n",
       "    <tr>\n",
       "      <th>1</th>\n",
       "      <td>0.16</td>\n",
       "      <td>328</td>\n",
       "    </tr>\n",
       "    <tr>\n",
       "      <th>2</th>\n",
       "      <td>0.17</td>\n",
       "      <td>350</td>\n",
       "    </tr>\n",
       "    <tr>\n",
       "      <th>3</th>\n",
       "      <td>0.18</td>\n",
       "      <td>325</td>\n",
       "    </tr>\n",
       "    <tr>\n",
       "      <th>4</th>\n",
       "      <td>0.25</td>\n",
       "      <td>642</td>\n",
       "    </tr>\n",
       "  </tbody>\n",
       "</table>\n",
       "</div>"
      ],
      "text/plain": [
       "   carats  price\n",
       "0    0.17    355\n",
       "1    0.16    328\n",
       "2    0.17    350\n",
       "3    0.18    325\n",
       "4    0.25    642"
      ]
     },
     "execution_count": 6,
     "metadata": {},
     "output_type": "execute_result"
    }
   ],
   "source": [
    "df = pd.read_csv('carats.csv', header=None)\n",
    "df.columns = ['carats', 'price']\n",
    "df.head()"
   ]
  },
  {
   "cell_type": "markdown",
   "metadata": {},
   "source": [
    "`1.` Similar to the last notebook, fit a simple linear regression model to predict price based on the weight of a diamond.  Use your results to answer the first question below.  Don't forget to add an intercept."
   ]
  },
  {
   "cell_type": "code",
   "execution_count": 15,
   "metadata": {},
   "outputs": [
    {
     "data": {
      "text/html": [
       "<table class=\"simpletable\">\n",
       "<caption>OLS Regression Results</caption>\n",
       "<tr>\n",
       "  <th>Dep. Variable:</th>          <td>price</td>      <th>  R-squared:         </th> <td>   0.978</td>\n",
       "</tr>\n",
       "<tr>\n",
       "  <th>Model:</th>                   <td>OLS</td>       <th>  Adj. R-squared:    </th> <td>   0.978</td>\n",
       "</tr>\n",
       "<tr>\n",
       "  <th>Method:</th>             <td>Least Squares</td>  <th>  F-statistic:       </th> <td>   2070.</td>\n",
       "</tr>\n",
       "<tr>\n",
       "  <th>Date:</th>             <td>Tue, 15 Jan 2019</td> <th>  Prob (F-statistic):</th> <td>6.75e-40</td>\n",
       "</tr>\n",
       "<tr>\n",
       "  <th>Time:</th>                 <td>19:57:04</td>     <th>  Log-Likelihood:    </th> <td> -233.20</td>\n",
       "</tr>\n",
       "<tr>\n",
       "  <th>No. Observations:</th>      <td>    48</td>      <th>  AIC:               </th> <td>   470.4</td>\n",
       "</tr>\n",
       "<tr>\n",
       "  <th>Df Residuals:</th>          <td>    46</td>      <th>  BIC:               </th> <td>   474.1</td>\n",
       "</tr>\n",
       "<tr>\n",
       "  <th>Df Model:</th>              <td>     1</td>      <th>                     </th>     <td> </td>   \n",
       "</tr>\n",
       "<tr>\n",
       "  <th>Covariance Type:</th>      <td>nonrobust</td>    <th>                     </th>     <td> </td>   \n",
       "</tr>\n",
       "</table>\n",
       "<table class=\"simpletable\">\n",
       "<tr>\n",
       "      <td></td>         <th>coef</th>     <th>std err</th>      <th>t</th>      <th>P>|t|</th>  <th>[0.025</th>    <th>0.975]</th>  \n",
       "</tr>\n",
       "<tr>\n",
       "  <th>carats</th>    <td> 3721.0249</td> <td>   81.786</td> <td>   45.497</td> <td> 0.000</td> <td> 3556.398</td> <td> 3885.651</td>\n",
       "</tr>\n",
       "<tr>\n",
       "  <th>intercept</th> <td> -259.6259</td> <td>   17.319</td> <td>  -14.991</td> <td> 0.000</td> <td> -294.487</td> <td> -224.765</td>\n",
       "</tr>\n",
       "</table>\n",
       "<table class=\"simpletable\">\n",
       "<tr>\n",
       "  <th>Omnibus:</th>       <td> 0.739</td> <th>  Durbin-Watson:     </th> <td>   1.994</td>\n",
       "</tr>\n",
       "<tr>\n",
       "  <th>Prob(Omnibus):</th> <td> 0.691</td> <th>  Jarque-Bera (JB):  </th> <td>   0.181</td>\n",
       "</tr>\n",
       "<tr>\n",
       "  <th>Skew:</th>          <td> 0.056</td> <th>  Prob(JB):          </th> <td>   0.913</td>\n",
       "</tr>\n",
       "<tr>\n",
       "  <th>Kurtosis:</th>      <td> 3.280</td> <th>  Cond. No.          </th> <td>    18.5</td>\n",
       "</tr>\n",
       "</table><br/><br/>Warnings:<br/>[1] Standard Errors assume that the covariance matrix of the errors is correctly specified."
      ],
      "text/plain": [
       "<class 'statsmodels.iolib.summary.Summary'>\n",
       "\"\"\"\n",
       "                            OLS Regression Results                            \n",
       "==============================================================================\n",
       "Dep. Variable:                  price   R-squared:                       0.978\n",
       "Model:                            OLS   Adj. R-squared:                  0.978\n",
       "Method:                 Least Squares   F-statistic:                     2070.\n",
       "Date:                Tue, 15 Jan 2019   Prob (F-statistic):           6.75e-40\n",
       "Time:                        19:57:04   Log-Likelihood:                -233.20\n",
       "No. Observations:                  48   AIC:                             470.4\n",
       "Df Residuals:                      46   BIC:                             474.1\n",
       "Df Model:                           1                                         \n",
       "Covariance Type:            nonrobust                                         \n",
       "==============================================================================\n",
       "                 coef    std err          t      P>|t|      [0.025      0.975]\n",
       "------------------------------------------------------------------------------\n",
       "carats      3721.0249     81.786     45.497      0.000    3556.398    3885.651\n",
       "intercept   -259.6259     17.319    -14.991      0.000    -294.487    -224.765\n",
       "==============================================================================\n",
       "Omnibus:                        0.739   Durbin-Watson:                   1.994\n",
       "Prob(Omnibus):                  0.691   Jarque-Bera (JB):                0.181\n",
       "Skew:                           0.056   Prob(JB):                        0.913\n",
       "Kurtosis:                       3.280   Cond. No.                         18.5\n",
       "==============================================================================\n",
       "\n",
       "Warnings:\n",
       "[1] Standard Errors assume that the covariance matrix of the errors is correctly specified.\n",
       "\"\"\""
      ]
     },
     "execution_count": 15,
     "metadata": {},
     "output_type": "execute_result"
    }
   ],
   "source": [
    "df['intercept'] = 1\n",
    "lm = sm.OLS(df['price'],df[['carats', 'intercept']])\n",
    "results = lm.fit()\n",
    "results.summary()"
   ]
  },
  {
   "cell_type": "markdown",
   "metadata": {},
   "source": [
    "`2.` Use [scatter](https://matplotlib.org/gallery/lines_bars_and_markers/scatter_symbol.html?highlight=scatter%20symbol) to create a scatterplot of the relationship between price and weight.  Then use the scatterplot and the output from your regression model to answer the second quiz question below."
   ]
  },
  {
   "cell_type": "code",
   "execution_count": 14,
   "metadata": {},
   "outputs": [
    {
     "data": {
      "text/plain": [
       "Text(0.5,1,'Price vs. Carats')"
      ]
     },
     "execution_count": 14,
     "metadata": {},
     "output_type": "execute_result"
    },
    {
     "data": {
      "image/png": "[encoded data removed]",
      "text/plain": [
       "<Figure size 432x288 with 1 Axes>"
      ]
     },
     "metadata": {},
     "output_type": "display_data"
    }
   ],
   "source": [
    "plt.scatter(df['carats'], df['price']);\n",
    "plt.xlabel('Carats');\n",
    "plt.ylabel('Price');\n",
    "plt.title('Price vs. Carats')"
   ]
  },
  {
   "cell_type": "code",
   "execution_count": 18,
   "metadata": {},
   "outputs": [
    {
     "data": {
      "text/plain": [
       "37.210249"
      ]
     },
     "execution_count": 18,
     "metadata": {},
     "output_type": "execute_result"
    }
   ],
   "source": [
    "# Para cada aumento de 0.01 (quilate) no tamanho do quilate, podemos esperar um aumento de ___ dólares.\n",
    "3721.0249*0.01\n",
    "# A _% da variação de preço pode ser explicada pelos tamanhos dos diamantes.\n",
    "# R-squared = 0.978\n",
    "# Há __ diamantes no conjunto de dados.\n",
    "# No. Observations: 48"
   ]
  },
  {
   "cell_type": "code",
   "execution_count": 19,
   "metadata": {},
   "outputs": [
    {
     "data": {
      "text/plain": [
       "0.9889388252060892"
      ]
     },
     "execution_count": 19,
     "metadata": {},
     "output_type": "execute_result"
    }
   ],
   "source": [
    "# Usando o R squared (R ao quadrado) e a relação vista no gráfico de \n",
    "# dispersão, qual é o valor do coeficiente de correlação?\n",
    "np.sqrt(0.978)"
   ]
  },
  {
   "cell_type": "markdown",
   "metadata": {},
   "source": [
    "## Homes vs. Crime\n"
   ]
  },
  {
   "cell_type": "code",
   "execution_count": 20,
   "metadata": {},
   "outputs": [
    {
     "data": {
      "text/html": [
       "<div>\n",
       "<style scoped>\n",
       "    .dataframe tbody tr th:only-of-type {\n",
       "        vertical-align: middle;\n",
       "    }\n",
       "\n",
       "    .dataframe tbody tr th {\n",
       "        vertical-align: top;\n",
       "    }\n",
       "\n",
       "    .dataframe thead th {\n",
       "        text-align: right;\n",
       "    }\n",
       "</style>\n",
       "<table border=\"1\" class=\"dataframe\">\n",
       "  <thead>\n",
       "    <tr style=\"text-align: right;\">\n",
       "      <th></th>\n",
       "      <th>MedianHomePrice</th>\n",
       "      <th>CrimePerCapita</th>\n",
       "    </tr>\n",
       "  </thead>\n",
       "  <tbody>\n",
       "    <tr>\n",
       "      <th>0</th>\n",
       "      <td>24.0</td>\n",
       "      <td>0.00632</td>\n",
       "    </tr>\n",
       "    <tr>\n",
       "      <th>1</th>\n",
       "      <td>21.6</td>\n",
       "      <td>0.02731</td>\n",
       "    </tr>\n",
       "    <tr>\n",
       "      <th>2</th>\n",
       "      <td>34.7</td>\n",
       "      <td>0.02729</td>\n",
       "    </tr>\n",
       "    <tr>\n",
       "      <th>3</th>\n",
       "      <td>33.4</td>\n",
       "      <td>0.03237</td>\n",
       "    </tr>\n",
       "    <tr>\n",
       "      <th>4</th>\n",
       "      <td>36.2</td>\n",
       "      <td>0.06905</td>\n",
       "    </tr>\n",
       "  </tbody>\n",
       "</table>\n",
       "</div>"
      ],
      "text/plain": [
       "   MedianHomePrice  CrimePerCapita\n",
       "0             24.0         0.00632\n",
       "1             21.6         0.02731\n",
       "2             34.7         0.02729\n",
       "3             33.4         0.03237\n",
       "4             36.2         0.06905"
      ]
     },
     "execution_count": 20,
     "metadata": {},
     "output_type": "execute_result"
    }
   ],
   "source": [
    "from sklearn.datasets import load_boston\n",
    "\n",
    "boston_data = load_boston()\n",
    "df = pd.DataFrame()\n",
    "df['MedianHomePrice'] = boston_data.target\n",
    "df2 = pd.DataFrame(boston_data.data)\n",
    "df['CrimePerCapita'] = df2.iloc[:,0];\n",
    "df.head()"
   ]
  },
  {
   "cell_type": "markdown",
   "metadata": {},
   "source": [
    "The Boston housing data is a built in dataset in the sklearn library of python.  You will be using two of the variables from this dataset, which are stored in **df**. The median home price in thousands of dollars and the crime per capita in the area of the home are shown above.\n",
    "\n",
    "`1.` Use this dataframe to fit a linear model to predict the home price based on the crime rate.  Use your output to answer the first quiz below. Don't forget an intercept."
   ]
  },
  {
   "cell_type": "code",
   "execution_count": 23,
   "metadata": {},
   "outputs": [
    {
     "data": {
      "text/html": [
       "<table class=\"simpletable\">\n",
       "<caption>OLS Regression Results</caption>\n",
       "<tr>\n",
       "  <th>Dep. Variable:</th>     <td>MedianHomePrice</td> <th>  R-squared:         </th> <td>   0.149</td>\n",
       "</tr>\n",
       "<tr>\n",
       "  <th>Model:</th>                   <td>OLS</td>       <th>  Adj. R-squared:    </th> <td>   0.147</td>\n",
       "</tr>\n",
       "<tr>\n",
       "  <th>Method:</th>             <td>Least Squares</td>  <th>  F-statistic:       </th> <td>   88.15</td>\n",
       "</tr>\n",
       "<tr>\n",
       "  <th>Date:</th>             <td>Tue, 15 Jan 2019</td> <th>  Prob (F-statistic):</th> <td>2.08e-19</td>\n",
       "</tr>\n",
       "<tr>\n",
       "  <th>Time:</th>                 <td>20:07:32</td>     <th>  Log-Likelihood:    </th> <td> -1799.5</td>\n",
       "</tr>\n",
       "<tr>\n",
       "  <th>No. Observations:</th>      <td>   506</td>      <th>  AIC:               </th> <td>   3603.</td>\n",
       "</tr>\n",
       "<tr>\n",
       "  <th>Df Residuals:</th>          <td>   504</td>      <th>  BIC:               </th> <td>   3611.</td>\n",
       "</tr>\n",
       "<tr>\n",
       "  <th>Df Model:</th>              <td>     1</td>      <th>                     </th>     <td> </td>   \n",
       "</tr>\n",
       "<tr>\n",
       "  <th>Covariance Type:</th>      <td>nonrobust</td>    <th>                     </th>     <td> </td>   \n",
       "</tr>\n",
       "</table>\n",
       "<table class=\"simpletable\">\n",
       "<tr>\n",
       "         <td></td>           <th>coef</th>     <th>std err</th>      <th>t</th>      <th>P>|t|</th>  <th>[0.025</th>    <th>0.975]</th>  \n",
       "</tr>\n",
       "<tr>\n",
       "  <th>CrimePerCapita</th> <td>   -0.4128</td> <td>    0.044</td> <td>   -9.389</td> <td> 0.000</td> <td>   -0.499</td> <td>   -0.326</td>\n",
       "</tr>\n",
       "<tr>\n",
       "  <th>intercept</th>      <td>   24.0162</td> <td>    0.409</td> <td>   58.676</td> <td> 0.000</td> <td>   23.212</td> <td>   24.820</td>\n",
       "</tr>\n",
       "</table>\n",
       "<table class=\"simpletable\">\n",
       "<tr>\n",
       "  <th>Omnibus:</th>       <td>138.965</td> <th>  Durbin-Watson:     </th> <td>   0.712</td>\n",
       "</tr>\n",
       "<tr>\n",
       "  <th>Prob(Omnibus):</th> <td> 0.000</td>  <th>  Jarque-Bera (JB):  </th> <td> 292.343</td>\n",
       "</tr>\n",
       "<tr>\n",
       "  <th>Skew:</th>          <td> 1.483</td>  <th>  Prob(JB):          </th> <td>3.30e-64</td>\n",
       "</tr>\n",
       "<tr>\n",
       "  <th>Kurtosis:</th>      <td> 5.251</td>  <th>  Cond. No.          </th> <td>    10.1</td>\n",
       "</tr>\n",
       "</table><br/><br/>Warnings:<br/>[1] Standard Errors assume that the covariance matrix of the errors is correctly specified."
      ],
      "text/plain": [
       "<class 'statsmodels.iolib.summary.Summary'>\n",
       "\"\"\"\n",
       "                            OLS Regression Results                            \n",
       "==============================================================================\n",
       "Dep. Variable:        MedianHomePrice   R-squared:                       0.149\n",
       "Model:                            OLS   Adj. R-squared:                  0.147\n",
       "Method:                 Least Squares   F-statistic:                     88.15\n",
       "Date:                Tue, 15 Jan 2019   Prob (F-statistic):           2.08e-19\n",
       "Time:                        20:07:32   Log-Likelihood:                -1799.5\n",
       "No. Observations:                 506   AIC:                             3603.\n",
       "Df Residuals:                     504   BIC:                             3611.\n",
       "Df Model:                           1                                         \n",
       "Covariance Type:            nonrobust                                         \n",
       "==================================================================================\n",
       "                     coef    std err          t      P>|t|      [0.025      0.975]\n",
       "----------------------------------------------------------------------------------\n",
       "CrimePerCapita    -0.4128      0.044     -9.389      0.000      -0.499      -0.326\n",
       "intercept         24.0162      0.409     58.676      0.000      23.212      24.820\n",
       "==============================================================================\n",
       "Omnibus:                      138.965   Durbin-Watson:                   0.712\n",
       "Prob(Omnibus):                  0.000   Jarque-Bera (JB):              292.343\n",
       "Skew:                           1.483   Prob(JB):                     3.30e-64\n",
       "Kurtosis:                       5.251   Cond. No.                         10.1\n",
       "==============================================================================\n",
       "\n",
       "Warnings:\n",
       "[1] Standard Errors assume that the covariance matrix of the errors is correctly specified.\n",
       "\"\"\""
      ]
     },
     "execution_count": 23,
     "metadata": {},
     "output_type": "execute_result"
    }
   ],
   "source": [
    "df['intercept'] = 1\n",
    "lm = sm.OLS(df['MedianHomePrice'], df[['CrimePerCapita', 'intercept']])\n",
    "result = lm.fit()\n",
    "result.summary()"
   ]
  },
  {
   "cell_type": "code",
   "execution_count": 24,
   "metadata": {},
   "outputs": [
    {
     "data": {
      "text/plain": [
       "Text(0.5,1,'MedianHomePrice vs. CrimePerCapita')"
      ]
     },
     "execution_count": 24,
     "metadata": {},
     "output_type": "execute_result"
    },
    {
     "data": {
      "image/png": "[encoded data removed]",
      "text/plain": [
       "<Figure size 432x288 with 1 Axes>"
      ]
     },
     "metadata": {},
     "output_type": "display_data"
    }
   ],
   "source": [
    "plt.scatter(df['CrimePerCapita'], df['MedianHomePrice']);\n",
    "plt.xlabel('CrimePerCapita');\n",
    "plt.ylabel('MedianHomePrice');\n",
    "plt.title('MedianHomePrice vs. CrimePerCapita')"
   ]
  },
  {
   "cell_type": "code",
   "execution_count": 25,
   "metadata": {},
   "outputs": [
    {
     "data": {
      "text/plain": [
       "-412.8"
      ]
     },
     "execution_count": 25,
     "metadata": {},
     "output_type": "execute_result"
    }
   ],
   "source": [
    "# Para cada aumento de 100% em crime per capita, a diminuição esperada \n",
    "# no preço prédio de moradia é de ___ dólares.\n",
    "-0.4128*1000"
   ]
  },
  {
   "cell_type": "code",
   "execution_count": 26,
   "metadata": {},
   "outputs": [
    {
     "data": {
      "text/plain": [
       "24016.2"
      ]
     },
     "execution_count": 26,
     "metadata": {},
     "output_type": "execute_result"
    }
   ],
   "source": [
    "# Se não houvesse crime, o preço médio de moradia seria de __ dólares.\n",
    "24.0162*1000"
   ]
  },
  {
   "cell_type": "code",
   "execution_count": 27,
   "metadata": {},
   "outputs": [
    {
     "data": {
      "text/plain": [
       "14.899999999999999"
      ]
     },
     "execution_count": 27,
     "metadata": {},
     "output_type": "execute_result"
    }
   ],
   "source": [
    "# __% da variação no preço pode ser explicada pelo crime per capita.\n",
    "0.149*100"
   ]
  },
  {
   "cell_type": "code",
   "execution_count": 28,
   "metadata": {},
   "outputs": [
    {
     "data": {
      "text/plain": [
       "0.0"
      ]
     },
     "execution_count": 28,
     "metadata": {},
     "output_type": "execute_result"
    }
   ],
   "source": [
    "# O valor-p de __ associado ao crime per capita indica que ele \n",
    "# é estatisticamente significante ao prover informações \n",
    "# sobre a previsão de valores médios de moradia.\n",
    "0.000"
   ]
  },
  {
   "cell_type": "code",
   "execution_count": 31,
   "metadata": {},
   "outputs": [
    {
     "data": {
      "text/plain": [
       "-0.38600518131237566"
      ]
     },
     "execution_count": 31,
     "metadata": {},
     "output_type": "execute_result"
    }
   ],
   "source": [
    "# qual deve ser o valor do coeficiente de correlação?\n",
    "-np.sqrt(0.149)"
   ]
  },
  {
   "cell_type": "markdown",
   "metadata": {},
   "source": [
    "1. Regressão linear simples é sobre a construção de uma linha que modela o relacionamento entre duas variáveis quantitativas.\n",
    "2. Aprendendo sobre coeficientes de correlação. Você aprendeu que se trata de uma medida que pode informar para você a força e direção de uma relação linear. \n",
    "3. A maneira mais comum de visualizar a regressão linear simples é usar um gráfico de dispersão. \n",
    "4. Uma linha é definida por um intercepto e uma inclinação, que você encontra usando a biblioteca statsmodels em Python.\n",
    "5. Você aprendeu as interpretações para os valores de inclinação, intercepto e R quadrado.\n",
    "\n",
    "---\n",
    "\n",
    "## Multiple linear regression introduction\n",
    "We can use linear algebra to predict the **$Y$** value using all multi-column at the same time. The way we do this is by creating a matrix of inputs, and we create a vector of the response that we want to predict. The matrix with the multiple column is denoted **$Y$** (capital x bold) while the vector for the response is denoted **$y$** (y bold)\n",
    "* [Linear algebra from Khan academy](https://www.khanacademy.org/math/linear-algebra)"
   ]
  },
  {
   "cell_type": "code",
   "execution_count": null,
   "metadata": {},
   "outputs": [],
   "source": []
  }
 ],
 "metadata": {
  "kernelspec": {
   "display_name": "Python 2",
   "language": "python",
   "name": "python2"
  },
  "language_info": {
   "codemirror_mode": {
    "name": "ipython",
    "version": 2
   },
   "file_extension": ".py",
   "mimetype": "text/x-python",
   "name": "python",
   "nbconvert_exporter": "python",
   "pygments_lexer": "ipython2",
   "version": "2.7.15"
  }
 },
 "nbformat": 4,
 "nbformat_minor": 2
}
