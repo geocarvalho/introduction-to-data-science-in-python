{
 "cells": [
  {
   "cell_type": "code",
   "execution_count": 1,
   "metadata": {},
   "outputs": [],
   "source": [
    "import requests\n",
    "url = 'https://www.rottentomatoes.com/m/et_the_extraterrestrial'\n",
    "response = requests.get(url)"
   ]
  },
  {
   "cell_type": "code",
   "execution_count": 2,
   "metadata": {},
   "outputs": [],
   "source": [
    "# Save HTML to file\n",
    "# with open ('et_the_extraterrestrial.html', mode='wb') as file:\n",
    "#     file.write(response.content)"
   ]
  },
  {
   "cell_type": "code",
   "execution_count": 3,
   "metadata": {},
   "outputs": [],
   "source": [
    "# Work with HTML in memory\n",
    "from bs4 import BeautifulSoup\n",
    "import pandas as pd\n",
    "import os\n",
    "soup = BeautifulSoup(response.content, 'lxml')"
   ]
  },
  {
   "cell_type": "code",
   "execution_count": 4,
   "metadata": {},
   "outputs": [],
   "source": [
    "with open('rt_html/et_the_extraterrestrial.html') as file:\n",
    "    soup = BeautifulSoup(file, 'lxml')"
   ]
  },
  {
   "cell_type": "code",
   "execution_count": 5,
   "metadata": {},
   "outputs": [
    {
     "data": {
      "text/plain": [
       "'E.T. The Extra-Terrestrial\\xa0(1982)'"
      ]
     },
     "execution_count": 5,
     "metadata": {},
     "output_type": "execute_result"
    }
   ],
   "source": [
    "soup.find('title').contents[0][:-len(' - Rotten Tomatoes')]"
   ]
  },
  {
   "cell_type": "code",
   "execution_count": 6,
   "metadata": {},
   "outputs": [
    {
     "data": {
      "text/html": [
       "<div>\n",
       "<style scoped>\n",
       "    .dataframe tbody tr th:only-of-type {\n",
       "        vertical-align: middle;\n",
       "    }\n",
       "\n",
       "    .dataframe tbody tr th {\n",
       "        vertical-align: top;\n",
       "    }\n",
       "\n",
       "    .dataframe thead th {\n",
       "        text-align: right;\n",
       "    }\n",
       "</style>\n",
       "<table border=\"1\" class=\"dataframe\">\n",
       "  <thead>\n",
       "    <tr style=\"text-align: right;\">\n",
       "      <th></th>\n",
       "      <th>title</th>\n",
       "      <th>audience_score</th>\n",
       "      <th>number_of_audience_ratings</th>\n",
       "    </tr>\n",
       "  </thead>\n",
       "  <tbody>\n",
       "    <tr>\n",
       "      <th>0</th>\n",
       "      <td>Roman Holiday (1953)</td>\n",
       "      <td>94</td>\n",
       "      <td>94</td>\n",
       "    </tr>\n",
       "    <tr>\n",
       "      <th>1</th>\n",
       "      <td>All Quiet on the Western Front (1930)</td>\n",
       "      <td>89</td>\n",
       "      <td>89</td>\n",
       "    </tr>\n",
       "    <tr>\n",
       "      <th>2</th>\n",
       "      <td>Snow White and the Seven Dwarfs (1937)</td>\n",
       "      <td>78</td>\n",
       "      <td>78</td>\n",
       "    </tr>\n",
       "    <tr>\n",
       "      <th>3</th>\n",
       "      <td>The Treasure of the Sierra Madre (1948)</td>\n",
       "      <td>93</td>\n",
       "      <td>93</td>\n",
       "    </tr>\n",
       "    <tr>\n",
       "      <th>4</th>\n",
       "      <td>Wonder Woman (2017)</td>\n",
       "      <td>90</td>\n",
       "      <td>90</td>\n",
       "    </tr>\n",
       "  </tbody>\n",
       "</table>\n",
       "</div>"
      ],
      "text/plain": [
       "                                     title  audience_score  \\\n",
       "0                     Roman Holiday (1953)              94   \n",
       "1    All Quiet on the Western Front (1930)              89   \n",
       "2   Snow White and the Seven Dwarfs (1937)              78   \n",
       "3  The Treasure of the Sierra Madre (1948)              93   \n",
       "4                      Wonder Woman (2017)              90   \n",
       "\n",
       "   number_of_audience_ratings  \n",
       "0                          94  \n",
       "1                          89  \n",
       "2                          78  \n",
       "3                          93  \n",
       "4                          90  "
      ]
     },
     "execution_count": 6,
     "metadata": {},
     "output_type": "execute_result"
    }
   ],
   "source": [
    "df_list = []\n",
    "folder = 'rt_html'\n",
    "for movie_html in os.listdir(folder):\n",
    "    with open(os.path.join(folder, movie_html)) as file:\n",
    "        soup = BeautifulSoup(file, 'lxml')\n",
    "        title = soup.find('title').contents[0][:-len(' - Rotten Tomatoes')]\n",
    "        audience_score = soup.find('div', class_='audience-score meter').find('span').contents[0][:-1]\n",
    "        num_audience_ratings = soup.find('div', class_='audience-info hidden-xs superPageFontColor')\n",
    "        num_audience_ratings = num_audience_ratings.find_all('div')[1].contents[2].strip().replace(',','')\n",
    "        df_list.append({'title': title,\n",
    "                       'audience_score': int(audience_score),\n",
    "                       'number_of_audience_ratings': int(audience_score)})\n",
    "df = pd.DataFrame(df_list, columns=['title', 'audience_score', 'number_of_audience_ratings'])\n",
    "df.head()"
   ]
  },
  {
   "cell_type": "markdown",
   "metadata": {},
   "source": [
    "# Download files from internet"
   ]
  },
  {
   "cell_type": "code",
   "execution_count": 7,
   "metadata": {},
   "outputs": [],
   "source": [
    "import requests\n",
    "import os"
   ]
  },
  {
   "cell_type": "code",
   "execution_count": 8,
   "metadata": {},
   "outputs": [],
   "source": [
    "# Make directory if it doesn't already exist\n",
    "folder_name = 'ebert_reviews'\n",
    "if not os.path.exists(folder_name):\n",
    "    os.makedirs(folder_name)"
   ]
  },
  {
   "cell_type": "code",
   "execution_count": 9,
   "metadata": {},
   "outputs": [],
   "source": [
    "url = 'https://d17h27t6h515a5.cloudfront.net/topher/2017/September/59ad9900_1-the-wizard-of-oz-1939-film/1-the-wizard-of-oz-1939-film.txt'\n",
    "response = requests.get(url)\n",
    "with open(os.path.join(folder_name,\n",
    "                      url.split('/')[-1]), mode='wb') as file:\n",
    "    file.write(response.content)"
   ]
  },
  {
   "cell_type": "code",
   "execution_count": 10,
   "metadata": {},
   "outputs": [
    {
     "data": {
      "text/plain": [
       "['20-nosferatu.txt',\n",
       " '45-m-1931-film.txt',\n",
       " '54-the-400-blows.txt',\n",
       " '96-man-on-wire.txt',\n",
       " '11-e.t.-the-extra-terrestrial.txt',\n",
       " '14-singin-in-the-rain.txt',\n",
       " '99-the-godfather-part-ii.txt',\n",
       " '98-toy-story.txt',\n",
       " '59-baby-driver.txt',\n",
       " '64-dr.-strangelove.txt',\n",
       " '93-harry-potter-and-the-deathly-hallows-part-2.txt',\n",
       " '33-spotlight-film.txt',\n",
       " '53-12-angry-men-1957-film.txt',\n",
       " '18-psycho-1960-film.txt',\n",
       " '5-mad-max-fury-road.txt',\n",
       " '75-the-wrestler-2008-film.txt',\n",
       " '10-metropolis-1927-film.txt',\n",
       " '91-the-wages-of-fear.txt',\n",
       " '55-logan-film.txt',\n",
       " '12-modern-times-film.txt',\n",
       " '49-bicycle-thieves.txt',\n",
       " '68-touch-of-evil.txt',\n",
       " '1-the-wizard-of-oz-1939-film.txt',\n",
       " '50-seven-samurai.txt',\n",
       " '16-casablanca-film.txt',\n",
       " '78-gone-with-the-wind-film.txt',\n",
       " '60-a-streetcar-named-desire-1951-film.txt',\n",
       " '85-the-jungle-book-2016-film.txt',\n",
       " '87-star-trek-film.txt',\n",
       " '77-l.a.-confidential-film.txt',\n",
       " '19-laura-1944-film.txt',\n",
       " '4-get-out-film.txt',\n",
       " '21-snow-white-and-the-seven-dwarfs-1937-film.txt',\n",
       " '44-zootopia.txt',\n",
       " '61-the-night-of-the-hunter-film.txt',\n",
       " '34-the-adventures-of-robin-hood.txt',\n",
       " '67-the-dark-knight-film.txt',\n",
       " '83-hell-or-high-water-film.txt',\n",
       " '32-king-kong-1933-film.txt',\n",
       " '69-the-babadook.txt',\n",
       " '79-the-good-the-bad-and-the-ugly.txt',\n",
       " '58-arrival-film.txt',\n",
       " '62-star-wars-the-force-awakens.txt',\n",
       " '29-12-years-a-slave-film.txt',\n",
       " '9-the-godfather.txt',\n",
       " '25-the-battle-of-algiers.txt',\n",
       " '94-the-grapes-of-wrath-film.txt',\n",
       " '86-la-la-land-film.txt',\n",
       " '92-the-last-picture-show.txt',\n",
       " '30-gravity-2013-film.txt',\n",
       " '6-the-cabinet-of-dr.-caligari.txt',\n",
       " '97-jaws-film.txt',\n",
       " '41-toy-story-2.txt',\n",
       " '35-rashomon.txt',\n",
       " '15-boyhood-film.txt',\n",
       " '26-dunkirk-2017-film.txt',\n",
       " '39-toy-story-3.txt',\n",
       " '80-skyfall.txt',\n",
       " '100-battleship-potemkin.txt',\n",
       " '2-citizen-kane.txt',\n",
       " '42-the-big-sick.txt',\n",
       " '73-finding-nemo.txt',\n",
       " '90-on-the-waterfront.txt',\n",
       " '27-the-maltese-falcon-1941-film.txt',\n",
       " '48-alien-film.txt',\n",
       " '43-bride-of-frankenstein.txt',\n",
       " '63-manchester-by-the-sea-film.txt',\n",
       " '89-apocalypse-now.txt',\n",
       " '74-brooklyn-film.txt',\n",
       " '84-pinocchio-1940-film.txt',\n",
       " '3-the-third-man.txt',\n",
       " '51-the-treasure-of-the-sierra-madre-film.txt',\n",
       " '36-rear-window.txt',\n",
       " '38-taxi-driver.txt',\n",
       " '17-moonlight-2016-film.txt',\n",
       " '7-all-about-eve.txt',\n",
       " '8-inside-out-2015-film.txt',\n",
       " '57-army-of-shadows.txt',\n",
       " '23-la-grande-illusion.txt',\n",
       " '40-argo-2012-film.txt',\n",
       " '72-rosemary27s-baby-film.txt',\n",
       " '66-vertigo-film.txt',\n",
       " '46-wonder-woman-2017-film.txt',\n",
       " '82-tokyo-story.txt',\n",
       " '37-selma-film.txt',\n",
       " '31-sunset-boulevard-film.txt',\n",
       " '52-up-2009-film.txt',\n",
       " '22-a-hard-day27s-night-film.txt']"
      ]
     },
     "execution_count": 10,
     "metadata": {},
     "output_type": "execute_result"
    }
   ],
   "source": [
    "os.listdir(folder_name)"
   ]
  },
  {
   "cell_type": "code",
   "execution_count": 11,
   "metadata": {},
   "outputs": [],
   "source": [
    "# Dowload a many files\n",
    "ebert_review_urls = ['https://d17h27t6h515a5.cloudfront.net/topher/2017/September/59ad9900_1-the-wizard-of-oz-1939-film/1-the-wizard-of-oz-1939-film.txt',\n",
    "                     'https://d17h27t6h515a5.cloudfront.net/topher/2017/September/59ad9901_2-citizen-kane/2-citizen-kane.txt',\n",
    "                     'https://d17h27t6h515a5.cloudfront.net/topher/2017/September/59ad9901_3-the-third-man/3-the-third-man.txt',\n",
    "                     'https://d17h27t6h515a5.cloudfront.net/topher/2017/September/59ad9902_4-get-out-film/4-get-out-film.txt',\n",
    "                     'https://d17h27t6h515a5.cloudfront.net/topher/2017/September/59ad9902_5-mad-max-fury-road/5-mad-max-fury-road.txt',\n",
    "                     'https://d17h27t6h515a5.cloudfront.net/topher/2017/September/59ad9902_6-the-cabinet-of-dr.-caligari/6-the-cabinet-of-dr.-caligari.txt',\n",
    "                     'https://d17h27t6h515a5.cloudfront.net/topher/2017/September/59ad9903_7-all-about-eve/7-all-about-eve.txt',\n",
    "                     'https://d17h27t6h515a5.cloudfront.net/topher/2017/September/59ad9903_8-inside-out-2015-film/8-inside-out-2015-film.txt',\n",
    "                     'https://d17h27t6h515a5.cloudfront.net/topher/2017/September/59ad9903_9-the-godfather/9-the-godfather.txt',\n",
    "                     'https://d17h27t6h515a5.cloudfront.net/topher/2017/September/59ad9904_10-metropolis-1927-film/10-metropolis-1927-film.txt',\n",
    "                     'https://d17h27t6h515a5.cloudfront.net/topher/2017/September/59ad9904_11-e.t.-the-extra-terrestrial/11-e.t.-the-extra-terrestrial.txt',\n",
    "                     'https://d17h27t6h515a5.cloudfront.net/topher/2017/September/59ad9904_12-modern-times-film/12-modern-times-film.txt',\n",
    "                     'https://d17h27t6h515a5.cloudfront.net/topher/2017/September/59ad9904_14-singin-in-the-rain/14-singin-in-the-rain.txt',\n",
    "                     'https://d17h27t6h515a5.cloudfront.net/topher/2017/September/59ad9905_15-boyhood-film/15-boyhood-film.txt',\n",
    "                     'https://d17h27t6h515a5.cloudfront.net/topher/2017/September/59ad9905_16-casablanca-film/16-casablanca-film.txt',\n",
    "                     'https://d17h27t6h515a5.cloudfront.net/topher/2017/September/59ad9905_17-moonlight-2016-film/17-moonlight-2016-film.txt',\n",
    "                     'https://d17h27t6h515a5.cloudfront.net/topher/2017/September/59ad9906_18-psycho-1960-film/18-psycho-1960-film.txt',\n",
    "                     'https://d17h27t6h515a5.cloudfront.net/topher/2017/September/59ad9906_19-laura-1944-film/19-laura-1944-film.txt',\n",
    "                     'https://d17h27t6h515a5.cloudfront.net/topher/2017/September/59ad9906_20-nosferatu/20-nosferatu.txt',\n",
    "                     'https://d17h27t6h515a5.cloudfront.net/topher/2017/September/59ad9907_21-snow-white-and-the-seven-dwarfs-1937-film/21-snow-white-and-the-seven-dwarfs-1937-film.txt',\n",
    "                     'https://d17h27t6h515a5.cloudfront.net/topher/2017/September/59ad9907_22-a-hard-day27s-night-film/22-a-hard-day27s-night-film.txt',\n",
    "                     'https://d17h27t6h515a5.cloudfront.net/topher/2017/September/59ad9907_23-la-grande-illusion/23-la-grande-illusion.txt',\n",
    "                     'https://d17h27t6h515a5.cloudfront.net/topher/2017/September/59ad9908_25-the-battle-of-algiers/25-the-battle-of-algiers.txt',\n",
    "                     'https://d17h27t6h515a5.cloudfront.net/topher/2017/September/59ad9908_26-dunkirk-2017-film/26-dunkirk-2017-film.txt',\n",
    "                     'https://d17h27t6h515a5.cloudfront.net/topher/2017/September/59ad9908_27-the-maltese-falcon-1941-film/27-the-maltese-falcon-1941-film.txt',\n",
    "                     'https://d17h27t6h515a5.cloudfront.net/topher/2017/September/59ad9909_29-12-years-a-slave-film/29-12-years-a-slave-film.txt',\n",
    "                     'https://d17h27t6h515a5.cloudfront.net/topher/2017/September/59ad9909_30-gravity-2013-film/30-gravity-2013-film.txt',\n",
    "                     'https://d17h27t6h515a5.cloudfront.net/topher/2017/September/59ad9909_31-sunset-boulevard-film/31-sunset-boulevard-film.txt',\n",
    "                     'https://d17h27t6h515a5.cloudfront.net/topher/2017/September/59ad990a_32-king-kong-1933-film/32-king-kong-1933-film.txt',\n",
    "                     'https://d17h27t6h515a5.cloudfront.net/topher/2017/September/59ad990a_33-spotlight-film/33-spotlight-film.txt',\n",
    "                     'https://d17h27t6h515a5.cloudfront.net/topher/2017/September/59ad990a_34-the-adventures-of-robin-hood/34-the-adventures-of-robin-hood.txt',\n",
    "                     'https://d17h27t6h515a5.cloudfront.net/topher/2017/September/59ad990b_35-rashomon/35-rashomon.txt',\n",
    "                     'https://d17h27t6h515a5.cloudfront.net/topher/2017/September/59ad990b_36-rear-window/36-rear-window.txt',\n",
    "                     'https://d17h27t6h515a5.cloudfront.net/topher/2017/September/59ad990b_37-selma-film/37-selma-film.txt',\n",
    "                     'https://d17h27t6h515a5.cloudfront.net/topher/2017/September/59ad990c_38-taxi-driver/38-taxi-driver.txt',\n",
    "                     'https://d17h27t6h515a5.cloudfront.net/topher/2017/September/59ad990c_39-toy-story-3/39-toy-story-3.txt',\n",
    "                     'https://d17h27t6h515a5.cloudfront.net/topher/2017/September/59ad990c_40-argo-2012-film/40-argo-2012-film.txt',\n",
    "                     'https://d17h27t6h515a5.cloudfront.net/topher/2017/September/59ad990d_41-toy-story-2/41-toy-story-2.txt',\n",
    "                     'https://d17h27t6h515a5.cloudfront.net/topher/2017/September/59ad990d_42-the-big-sick/42-the-big-sick.txt',\n",
    "                     'https://d17h27t6h515a5.cloudfront.net/topher/2017/September/59ad990d_43-bride-of-frankenstein/43-bride-of-frankenstein.txt',\n",
    "                     'https://d17h27t6h515a5.cloudfront.net/topher/2017/September/59ad990d_44-zootopia/44-zootopia.txt',\n",
    "                     'https://d17h27t6h515a5.cloudfront.net/topher/2017/September/59ad990e_45-m-1931-film/45-m-1931-film.txt',\n",
    "                     'https://d17h27t6h515a5.cloudfront.net/topher/2017/September/59ad990e_46-wonder-woman-2017-film/46-wonder-woman-2017-film.txt',\n",
    "                     'https://d17h27t6h515a5.cloudfront.net/topher/2017/September/59ad990e_48-alien-film/48-alien-film.txt',\n",
    "                     'https://d17h27t6h515a5.cloudfront.net/topher/2017/September/59ad990f_49-bicycle-thieves/49-bicycle-thieves.txt',\n",
    "                     'https://d17h27t6h515a5.cloudfront.net/topher/2017/September/59ad990f_50-seven-samurai/50-seven-samurai.txt',\n",
    "                     'https://d17h27t6h515a5.cloudfront.net/topher/2017/September/59ad990f_51-the-treasure-of-the-sierra-madre-film/51-the-treasure-of-the-sierra-madre-film.txt',\n",
    "                     'https://d17h27t6h515a5.cloudfront.net/topher/2017/September/59ad9910_52-up-2009-film/52-up-2009-film.txt',\n",
    "                     'https://d17h27t6h515a5.cloudfront.net/topher/2017/September/59ad9910_53-12-angry-men-1957-film/53-12-angry-men-1957-film.txt',\n",
    "                     'https://d17h27t6h515a5.cloudfront.net/topher/2017/September/59ad9910_54-the-400-blows/54-the-400-blows.txt',\n",
    "                     'https://d17h27t6h515a5.cloudfront.net/topher/2017/September/59ad9911_55-logan-film/55-logan-film.txt',\n",
    "                     'https://d17h27t6h515a5.cloudfront.net/topher/2017/September/59ad9911_57-army-of-shadows/57-army-of-shadows.txt',\n",
    "                     'https://d17h27t6h515a5.cloudfront.net/topher/2017/September/59ad9912_58-arrival-film/58-arrival-film.txt',\n",
    "                     'https://d17h27t6h515a5.cloudfront.net/topher/2017/September/59ad9912_59-baby-driver/59-baby-driver.txt',\n",
    "                     'https://d17h27t6h515a5.cloudfront.net/topher/2017/September/59ad9913_60-a-streetcar-named-desire-1951-film/60-a-streetcar-named-desire-1951-film.txt',\n",
    "                     'https://d17h27t6h515a5.cloudfront.net/topher/2017/September/59ad9913_61-the-night-of-the-hunter-film/61-the-night-of-the-hunter-film.txt',\n",
    "                     'https://d17h27t6h515a5.cloudfront.net/topher/2017/September/59ad9913_62-star-wars-the-force-awakens/62-star-wars-the-force-awakens.txt',\n",
    "                     'https://d17h27t6h515a5.cloudfront.net/topher/2017/September/59ad9913_63-manchester-by-the-sea-film/63-manchester-by-the-sea-film.txt',\n",
    "                     'https://d17h27t6h515a5.cloudfront.net/topher/2017/September/59ad9914_64-dr.-strangelove/64-dr.-strangelove.txt',\n",
    "                     'https://d17h27t6h515a5.cloudfront.net/topher/2017/September/59ad9914_66-vertigo-film/66-vertigo-film.txt',\n",
    "                     'https://d17h27t6h515a5.cloudfront.net/topher/2017/September/59ad9914_67-the-dark-knight-film/67-the-dark-knight-film.txt',\n",
    "                     'https://d17h27t6h515a5.cloudfront.net/topher/2017/September/59ad9915_68-touch-of-evil/68-touch-of-evil.txt',\n",
    "                     'https://d17h27t6h515a5.cloudfront.net/topher/2017/September/59ad9915_69-the-babadook/69-the-babadook.txt',\n",
    "                     'https://d17h27t6h515a5.cloudfront.net/topher/2017/September/59ad9915_72-rosemary27s-baby-film/72-rosemary27s-baby-film.txt',\n",
    "                     'https://d17h27t6h515a5.cloudfront.net/topher/2017/September/59ad9916_73-finding-nemo/73-finding-nemo.txt',\n",
    "                     'https://d17h27t6h515a5.cloudfront.net/topher/2017/September/59ad9916_74-brooklyn-film/74-brooklyn-film.txt',\n",
    "                     'https://d17h27t6h515a5.cloudfront.net/topher/2017/September/59ad9917_75-the-wrestler-2008-film/75-the-wrestler-2008-film.txt',\n",
    "                     'https://d17h27t6h515a5.cloudfront.net/topher/2017/September/59ad9917_77-l.a.-confidential-film/77-l.a.-confidential-film.txt',\n",
    "                     'https://d17h27t6h515a5.cloudfront.net/topher/2017/September/59ad9918_78-gone-with-the-wind-film/78-gone-with-the-wind-film.txt',\n",
    "                     'https://d17h27t6h515a5.cloudfront.net/topher/2017/September/59ad9918_79-the-good-the-bad-and-the-ugly/79-the-good-the-bad-and-the-ugly.txt',\n",
    "                     'https://d17h27t6h515a5.cloudfront.net/topher/2017/September/59ad9918_80-skyfall/80-skyfall.txt',\n",
    "                     'https://d17h27t6h515a5.cloudfront.net/topher/2017/September/59ad9919_82-tokyo-story/82-tokyo-story.txt',\n",
    "                     'https://d17h27t6h515a5.cloudfront.net/topher/2017/September/59ad9919_83-hell-or-high-water-film/83-hell-or-high-water-film.txt',\n",
    "                     'https://d17h27t6h515a5.cloudfront.net/topher/2017/September/59ad9919_84-pinocchio-1940-film/84-pinocchio-1940-film.txt',\n",
    "                     'https://d17h27t6h515a5.cloudfront.net/topher/2017/September/59ad9919_85-the-jungle-book-2016-film/85-the-jungle-book-2016-film.txt',\n",
    "                     'https://d17h27t6h515a5.cloudfront.net/topher/2017/September/59ad991a_86-la-la-land-film/86-la-la-land-film.txt',\n",
    "                     'https://d17h27t6h515a5.cloudfront.net/topher/2017/September/59ad991b_87-star-trek-film/87-star-trek-film.txt',\n",
    "                     'https://d17h27t6h515a5.cloudfront.net/topher/2017/September/59ad991b_89-apocalypse-now/89-apocalypse-now.txt',\n",
    "                     'https://d17h27t6h515a5.cloudfront.net/topher/2017/September/59ad991c_90-on-the-waterfront/90-on-the-waterfront.txt',\n",
    "                     'https://d17h27t6h515a5.cloudfront.net/topher/2017/September/59ad991c_91-the-wages-of-fear/91-the-wages-of-fear.txt',\n",
    "                     'https://d17h27t6h515a5.cloudfront.net/topher/2017/September/59ad991c_92-the-last-picture-show/92-the-last-picture-show.txt',\n",
    "                     'https://d17h27t6h515a5.cloudfront.net/topher/2017/September/59ad991d_93-harry-potter-and-the-deathly-hallows-part-2/93-harry-potter-and-the-deathly-hallows-part-2.txt',\n",
    "                     'https://d17h27t6h515a5.cloudfront.net/topher/2017/September/59ad991d_94-the-grapes-of-wrath-film/94-the-grapes-of-wrath-film.txt',\n",
    "                     'https://d17h27t6h515a5.cloudfront.net/topher/2017/September/59ad991d_96-man-on-wire/96-man-on-wire.txt',\n",
    "                     'https://d17h27t6h515a5.cloudfront.net/topher/2017/September/59ad991e_97-jaws-film/97-jaws-film.txt',\n",
    "                     'https://d17h27t6h515a5.cloudfront.net/topher/2017/September/59ad991e_98-toy-story/98-toy-story.txt',\n",
    "                     'https://d17h27t6h515a5.cloudfront.net/topher/2017/September/59ad991e_99-the-godfather-part-ii/99-the-godfather-part-ii.txt',\n",
    "                     'https://d17h27t6h515a5.cloudfront.net/topher/2017/September/59ad991e_100-battleship-potemkin/100-battleship-potemkin.txt']"
   ]
  },
  {
   "cell_type": "code",
   "execution_count": 12,
   "metadata": {},
   "outputs": [],
   "source": [
    "for url in ebert_review_urls:\n",
    "    response = requests.get(url)\n",
    "    with open(os.path.join(folder_name, url.split('/')[-1]), mode='wb') as file:\n",
    "        file.write(response.content)"
   ]
  },
  {
   "cell_type": "code",
   "execution_count": 13,
   "metadata": {
    "scrolled": true
   },
   "outputs": [
    {
     "data": {
      "text/plain": [
       "['20-nosferatu.txt',\n",
       " '45-m-1931-film.txt',\n",
       " '54-the-400-blows.txt',\n",
       " '96-man-on-wire.txt',\n",
       " '11-e.t.-the-extra-terrestrial.txt',\n",
       " '14-singin-in-the-rain.txt',\n",
       " '99-the-godfather-part-ii.txt',\n",
       " '98-toy-story.txt',\n",
       " '59-baby-driver.txt',\n",
       " '64-dr.-strangelove.txt',\n",
       " '93-harry-potter-and-the-deathly-hallows-part-2.txt',\n",
       " '33-spotlight-film.txt',\n",
       " '53-12-angry-men-1957-film.txt',\n",
       " '18-psycho-1960-film.txt',\n",
       " '5-mad-max-fury-road.txt',\n",
       " '75-the-wrestler-2008-film.txt',\n",
       " '10-metropolis-1927-film.txt',\n",
       " '91-the-wages-of-fear.txt',\n",
       " '55-logan-film.txt',\n",
       " '12-modern-times-film.txt',\n",
       " '49-bicycle-thieves.txt',\n",
       " '68-touch-of-evil.txt',\n",
       " '1-the-wizard-of-oz-1939-film.txt',\n",
       " '50-seven-samurai.txt',\n",
       " '16-casablanca-film.txt',\n",
       " '78-gone-with-the-wind-film.txt',\n",
       " '60-a-streetcar-named-desire-1951-film.txt',\n",
       " '85-the-jungle-book-2016-film.txt',\n",
       " '87-star-trek-film.txt',\n",
       " '77-l.a.-confidential-film.txt',\n",
       " '19-laura-1944-film.txt',\n",
       " '4-get-out-film.txt',\n",
       " '21-snow-white-and-the-seven-dwarfs-1937-film.txt',\n",
       " '44-zootopia.txt',\n",
       " '61-the-night-of-the-hunter-film.txt',\n",
       " '34-the-adventures-of-robin-hood.txt',\n",
       " '67-the-dark-knight-film.txt',\n",
       " '83-hell-or-high-water-film.txt',\n",
       " '32-king-kong-1933-film.txt',\n",
       " '69-the-babadook.txt',\n",
       " '79-the-good-the-bad-and-the-ugly.txt',\n",
       " '58-arrival-film.txt',\n",
       " '62-star-wars-the-force-awakens.txt',\n",
       " '29-12-years-a-slave-film.txt',\n",
       " '9-the-godfather.txt',\n",
       " '25-the-battle-of-algiers.txt',\n",
       " '94-the-grapes-of-wrath-film.txt',\n",
       " '86-la-la-land-film.txt',\n",
       " '92-the-last-picture-show.txt',\n",
       " '30-gravity-2013-film.txt',\n",
       " '6-the-cabinet-of-dr.-caligari.txt',\n",
       " '97-jaws-film.txt',\n",
       " '41-toy-story-2.txt',\n",
       " '35-rashomon.txt',\n",
       " '15-boyhood-film.txt',\n",
       " '26-dunkirk-2017-film.txt',\n",
       " '39-toy-story-3.txt',\n",
       " '80-skyfall.txt',\n",
       " '100-battleship-potemkin.txt',\n",
       " '2-citizen-kane.txt',\n",
       " '42-the-big-sick.txt',\n",
       " '73-finding-nemo.txt',\n",
       " '90-on-the-waterfront.txt',\n",
       " '27-the-maltese-falcon-1941-film.txt',\n",
       " '48-alien-film.txt',\n",
       " '43-bride-of-frankenstein.txt',\n",
       " '63-manchester-by-the-sea-film.txt',\n",
       " '89-apocalypse-now.txt',\n",
       " '74-brooklyn-film.txt',\n",
       " '84-pinocchio-1940-film.txt',\n",
       " '3-the-third-man.txt',\n",
       " '51-the-treasure-of-the-sierra-madre-film.txt',\n",
       " '36-rear-window.txt',\n",
       " '38-taxi-driver.txt',\n",
       " '17-moonlight-2016-film.txt',\n",
       " '7-all-about-eve.txt',\n",
       " '8-inside-out-2015-film.txt',\n",
       " '57-army-of-shadows.txt',\n",
       " '23-la-grande-illusion.txt',\n",
       " '40-argo-2012-film.txt',\n",
       " '72-rosemary27s-baby-film.txt',\n",
       " '66-vertigo-film.txt',\n",
       " '46-wonder-woman-2017-film.txt',\n",
       " '82-tokyo-story.txt',\n",
       " '37-selma-film.txt',\n",
       " '31-sunset-boulevard-film.txt',\n",
       " '52-up-2009-film.txt',\n",
       " '22-a-hard-day27s-night-film.txt']"
      ]
     },
     "execution_count": 13,
     "metadata": {},
     "output_type": "execute_result"
    }
   ],
   "source": [
    "os.listdir(folder_name)"
   ]
  },
  {
   "cell_type": "code",
   "execution_count": 14,
   "metadata": {},
   "outputs": [
    {
     "data": {
      "text/plain": [
       "88"
      ]
     },
     "execution_count": 14,
     "metadata": {},
     "output_type": "execute_result"
    }
   ],
   "source": [
    "len(os.listdir(folder_name))"
   ]
  },
  {
   "cell_type": "code",
   "execution_count": 1,
   "metadata": {},
   "outputs": [],
   "source": [
    "import wptools"
   ]
  },
  {
   "cell_type": "code",
   "execution_count": 4,
   "metadata": {
    "scrolled": true
   },
   "outputs": [
    {
     "name": "stderr",
     "output_type": "stream",
     "text": [
      "en.wikipedia.org (query) E.T._the_Extra-Terrestrial\n",
      "en.wikipedia.org (parse) 73441\n",
      "www.wikidata.org (wikidata) Q11621\n",
      "www.wikidata.org (labels) Q8555|P1476|Q739633|P3145|Q103360|P5357...\n",
      "www.wikidata.org (labels) P214|P1431|Q6860813|P4947|Q1270715|Q787...\n",
      "www.wikidata.org (labels) Q130232|P166|Q22006653|P3110|Q3953565|P...\n",
      "www.wikidata.org (labels) Q720068|Q652644|Q1011509|Q900414|P1712|...\n",
      "en.wikipedia.org (restbase) /page/summary/E.T._the_Extra-Terrestrial\n",
      "en.wikipedia.org (imageinfo) File:ET logo 3.svg|File:E t the extr...\n",
      "E.T. the Extra-Terrestrial (en) data\n",
      "{\n",
      "  WARNINGS: <dict(1)> extracts\n",
      "  aliases: <list(2)> E.T., ET\n",
      "  assessments: <dict(4)> United States, Film, Science Fiction, Lib...\n",
      "  claims: <dict(87)> P1562, P57, P272, P345, P31, P161, P373, P480...\n",
      "  description: <str(63)> 1982 American science fiction film direct...\n",
      "  exhtml: <str(596)> <p><i><b>E.T. the Extra-Terrestrial</b></i> i...\n",
      "  exrest: <str(575)> E.T. the Extra-Terrestrial is a 1982 American...\n",
      "  extext: <str(1803)> _**E.T. the Extra-Terrestrial**_ is a 1982 A...\n",
      "  extract: <str(1920)> <p class=\"mw-empty-elt\"></p><p><i><b>E.T. t...\n",
      "  image: <list(4)> {'kind': 'parse-image', 'file': 'File:E t the e...\n",
      "  infobox: <dict(18)> name, image, caption, director, producers, w...\n",
      "  iwlinks: <list(5)> https://commons.wikimedia.org/wiki/Category:E...\n",
      "  label: E.T. the Extra-Terrestrial\n",
      "  labels: <dict(166)> Q8555, P1476, Q739633, P3145, Q103360, P5357...\n",
      "  length: 78,224\n",
      "  links: <list(430)> 12 Monkeys, 12 Years a Slave (film), 1941 (fi...\n",
      "  modified: <dict(2)> page, wikidata\n",
      "  pageid: 73441\n",
      "  parsetree: <str(97810)> <root><template><title>Redirect</title><...\n",
      "  random: Shorea xanthophylla\n",
      "  redirects: <list(38)> {'pageid': 177061, 'ns': 0, 'title': 'E.T....\n",
      "  requests: <list(9)> query, parse, wikidata, labels, labels, labe...\n",
      "  title: E.T._the_Extra-Terrestrial\n",
      "  url: https://en.wikipedia.org/wiki/E.T._the_Extra-Terrestrial\n",
      "  url_raw: <str(67)> https://en.wikipedia.org/wiki/E.T._the_Extra-...\n",
      "  watchers: 278\n",
      "  what: film\n",
      "  wikibase: Q11621\n",
      "  wikidata: <dict(87)> AllMovie movie ID (P1562), director (P57), ...\n",
      "  wikidata_pageid: 13150\n",
      "  wikidata_url: https://www.wikidata.org/wiki/Q11621\n",
      "  wikitext: <str(77926)> {{Redirect|E.T.|other uses|ET (disambigua...\n",
      "}\n"
     ]
    }
   ],
   "source": [
    "page = wptools.page('E.T._the_Extra-Terrestrial').get()"
   ]
  },
  {
   "cell_type": "code",
   "execution_count": 5,
   "metadata": {
    "scrolled": true
   },
   "outputs": [
    {
     "data": {
      "text/plain": [
       "[{'kind': 'parse-image',\n",
       "  'file': 'File:E t the extra terrestrial ver3.jpg',\n",
       "  'orig': 'E t the extra terrestrial ver3.jpg',\n",
       "  'timestamp': '2016-06-04T10:30:46Z',\n",
       "  'size': 83073,\n",
       "  'width': 253,\n",
       "  'height': 394,\n",
       "  'url': 'https://upload.wikimedia.org/wikipedia/en/6/66/E_t_the_extra_terrestrial_ver3.jpg',\n",
       "  'descriptionurl': 'https://en.wikipedia.org/wiki/File:E_t_the_extra_terrestrial_ver3.jpg',\n",
       "  'descriptionshorturl': 'https://en.wikipedia.org/w/index.php?curid=7419503',\n",
       "  'title': 'File:E t the extra terrestrial ver3.jpg',\n",
       "  'metadata': {'DateTime': {'value': '2016-06-04 10:30:46',\n",
       "    'source': 'mediawiki-metadata',\n",
       "    'hidden': ''},\n",
       "   'ObjectName': {'value': 'E t the extra terrestrial ver3',\n",
       "    'source': 'mediawiki-metadata',\n",
       "    'hidden': ''},\n",
       "   'CommonsMetadataExtension': {'value': 1.2,\n",
       "    'source': 'extension',\n",
       "    'hidden': ''},\n",
       "   'Categories': {'value': 'All non-free media|E.T. the Extra-Terrestrial|Fair use images of movie posters|Files with no machine-readable author|Files with no machine-readable description|Files with no machine-readable license|Files with no machine-readable source|Noindexed pages|Non-free images for NFUR review|Non-free posters',\n",
       "    'source': 'commons-categories',\n",
       "    'hidden': ''},\n",
       "   'Assessments': {'value': '', 'source': 'commons-categories', 'hidden': ''},\n",
       "   'NonFree': {'value': 'true', 'source': 'commons-desc-page', 'hidden': ''},\n",
       "   'Restrictions': {'value': '',\n",
       "    'source': 'commons-desc-page',\n",
       "    'hidden': ''}}},\n",
       " {'file': 'File:ET logo 3.svg',\n",
       "  'kind': 'wikidata-image',\n",
       "  'orig': 'ET logo 3.svg',\n",
       "  'timestamp': '2011-05-14T20:38:17Z',\n",
       "  'size': 77290,\n",
       "  'width': 512,\n",
       "  'height': 380,\n",
       "  'url': 'https://upload.wikimedia.org/wikipedia/commons/8/85/ET_logo_3.svg',\n",
       "  'descriptionurl': 'https://commons.wikimedia.org/wiki/File:ET_logo_3.svg',\n",
       "  'descriptionshorturl': 'https://commons.wikimedia.org/w/index.php?curid=14138952',\n",
       "  'title': 'File:ET logo 3.svg',\n",
       "  'metadata': {'DateTime': {'value': '2011-05-14 20:38:17',\n",
       "    'source': 'mediawiki-metadata',\n",
       "    'hidden': ''},\n",
       "   'ObjectName': {'value': 'ET logo 3',\n",
       "    'source': 'mediawiki-metadata',\n",
       "    'hidden': ''},\n",
       "   'CommonsMetadataExtension': {'value': 1.2,\n",
       "    'source': 'extension',\n",
       "    'hidden': ''},\n",
       "   'Categories': {'value': 'E.T. the Extra-Terrestrial|PD ineligible|With trademark',\n",
       "    'source': 'commons-categories',\n",
       "    'hidden': ''},\n",
       "   'Assessments': {'value': '', 'source': 'commons-categories', 'hidden': ''},\n",
       "   'ImageDescription': {'value': 'Opening logo to the <a href=\"https://en.wikipedia.org/wiki/E.T._the_Extra-Terrestrial\" class=\"extiw\" title=\"en:E.T. the Extra-Terrestrial\">en:E.T. the Extra-Terrestrial</a> film',\n",
       "    'source': 'commons-desc-page'},\n",
       "   'DateTimeOriginal': {'value': '2011-02-28', 'source': 'commons-desc-page'},\n",
       "   'Credit': {'value': 'Transferred from <a class=\"external text\" href=\"http://en.wikipedia.org\">en.wikipedia</a>',\n",
       "    'source': 'commons-desc-page',\n",
       "    'hidden': ''},\n",
       "   'Artist': {'value': '<a href=\"https://en.wikipedia.org/wiki/en:User:TheCuriousGnome\" class=\"extiw\" title=\"w:en:User:TheCuriousGnome\">User:TheCuriousGnome</a>',\n",
       "    'source': 'commons-desc-page'},\n",
       "   'LicenseShortName': {'value': 'Public domain',\n",
       "    'source': 'commons-desc-page',\n",
       "    'hidden': ''},\n",
       "   'UsageTerms': {'value': 'Public domain',\n",
       "    'source': 'commons-desc-page',\n",
       "    'hidden': ''},\n",
       "   'AttributionRequired': {'value': 'false',\n",
       "    'source': 'commons-desc-page',\n",
       "    'hidden': ''},\n",
       "   'Copyrighted': {'value': 'False',\n",
       "    'source': 'commons-desc-page',\n",
       "    'hidden': ''},\n",
       "   'Restrictions': {'value': 'trademarked',\n",
       "    'source': 'commons-desc-page',\n",
       "    'hidden': ''},\n",
       "   'License': {'value': 'pd', 'source': 'commons-templates', 'hidden': ''}}},\n",
       " {'kind': 'restbase-original',\n",
       "  'width': 253,\n",
       "  'height': 394,\n",
       "  'url': 'https://upload.wikimedia.org/wikipedia/en/6/66/E_t_the_extra_terrestrial_ver3.jpg',\n",
       "  'file': 'File:E t the extra terrestrial ver3.jpg',\n",
       "  'orig': 'E_t_the_extra_terrestrial_ver3.jpg'},\n",
       " {'kind': 'restbase-thumb',\n",
       "  'width': 205,\n",
       "  'height': 320,\n",
       "  'url': 'https://upload.wikimedia.org/wikipedia/en/thumb/6/66/E_t_the_extra_terrestrial_ver3.jpg/205px-E_t_the_extra_terrestrial_ver3.jpg',\n",
       "  'file': 'File:205px-E t the extra terrestrial ver3.jpg',\n",
       "  'orig': '205px-E_t_the_extra_terrestrial_ver3.jpg'}]"
      ]
     },
     "execution_count": 5,
     "metadata": {},
     "output_type": "execute_result"
    }
   ],
   "source": [
    "page.data['image']"
   ]
  },
  {
   "cell_type": "code",
   "execution_count": 8,
   "metadata": {},
   "outputs": [
    {
     "data": {
      "text/plain": [
       "{'kind': 'parse-image',\n",
       " 'file': 'File:E t the extra terrestrial ver3.jpg',\n",
       " 'orig': 'E t the extra terrestrial ver3.jpg',\n",
       " 'timestamp': '2016-06-04T10:30:46Z',\n",
       " 'size': 83073,\n",
       " 'width': 253,\n",
       " 'height': 394,\n",
       " 'url': 'https://upload.wikimedia.org/wikipedia/en/6/66/E_t_the_extra_terrestrial_ver3.jpg',\n",
       " 'descriptionurl': 'https://en.wikipedia.org/wiki/File:E_t_the_extra_terrestrial_ver3.jpg',\n",
       " 'descriptionshorturl': 'https://en.wikipedia.org/w/index.php?curid=7419503',\n",
       " 'title': 'File:E t the extra terrestrial ver3.jpg',\n",
       " 'metadata': {'DateTime': {'value': '2016-06-04 10:30:46',\n",
       "   'source': 'mediawiki-metadata',\n",
       "   'hidden': ''},\n",
       "  'ObjectName': {'value': 'E t the extra terrestrial ver3',\n",
       "   'source': 'mediawiki-metadata',\n",
       "   'hidden': ''},\n",
       "  'CommonsMetadataExtension': {'value': 1.2,\n",
       "   'source': 'extension',\n",
       "   'hidden': ''},\n",
       "  'Categories': {'value': 'All non-free media|E.T. the Extra-Terrestrial|Fair use images of movie posters|Files with no machine-readable author|Files with no machine-readable description|Files with no machine-readable license|Files with no machine-readable source|Noindexed pages|Non-free images for NFUR review|Non-free posters',\n",
       "   'source': 'commons-categories',\n",
       "   'hidden': ''},\n",
       "  'Assessments': {'value': '', 'source': 'commons-categories', 'hidden': ''},\n",
       "  'NonFree': {'value': 'true', 'source': 'commons-desc-page', 'hidden': ''},\n",
       "  'Restrictions': {'value': '', 'source': 'commons-desc-page', 'hidden': ''}}}"
      ]
     },
     "execution_count": 8,
     "metadata": {},
     "output_type": "execute_result"
    }
   ],
   "source": [
    "page.data['image'][0]"
   ]
  },
  {
   "cell_type": "code",
   "execution_count": 6,
   "metadata": {},
   "outputs": [
    {
     "data": {
      "text/plain": [
       "'[[Steven Spielberg]]'"
      ]
     },
     "execution_count": 6,
     "metadata": {},
     "output_type": "execute_result"
    }
   ],
   "source": [
    "page.data['infobox']['director']"
   ]
  },
  {
   "cell_type": "code",
   "execution_count": null,
   "metadata": {},
   "outputs": [],
   "source": []
  }
 ],
 "metadata": {
  "kernelspec": {
   "display_name": "Python 3",
   "language": "python",
   "name": "python3"
  },
  "language_info": {
   "codemirror_mode": {
    "name": "ipython",
    "version": 3
   },
   "file_extension": ".py",
   "mimetype": "text/x-python",
   "name": "python",
   "nbconvert_exporter": "python",
   "pygments_lexer": "ipython3",
   "version": "3.6.5"
  }
 },
 "nbformat": 4,
 "nbformat_minor": 2
}
