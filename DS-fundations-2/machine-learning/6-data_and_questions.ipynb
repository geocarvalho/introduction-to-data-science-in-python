{
 "cells": [
  {
   "cell_type": "markdown",
   "metadata": {},
   "source": [
    "## Enron data\n",
    "\n",
    "* Person of interest\n",
    "    * indicted;\n",
    "    * settled without admitting guilt;\n",
    "    * testified in exchange for immunity.\n",
    "    \n",
    "Accuracy <-> training set size\n",
    "* More data give you better result than a super fine-tuned algorithm\n",
    "\n",
    "## Types of data\n",
    "* numerical - numerical values (numbers);\n",
    "* categorical - limited number of discrete values; (category);\n",
    "* time series - temporal value (date, timestamp);\n",
    "* text - wordsv\n",
    "\n",
    "What might be a problem with having some POIs missing from our dataset?\n",
    "* Maybe we don't have enough data to really learn the patterns.  In general, more data is always better--only having 18 data points doesn't give you that many examples to learn from.\n",
    "\n",
    "Be careful when add new data from different sources, it can cause false interpretations and classification errors. "
   ]
  },
  {
   "cell_type": "code",
   "execution_count": null,
   "metadata": {},
   "outputs": [],
   "source": []
  }
 ],
 "metadata": {
  "kernelspec": {
   "display_name": "Python 2",
   "language": "python",
   "name": "python2"
  },
  "language_info": {
   "codemirror_mode": {
    "name": "ipython",
    "version": 2
   },
   "file_extension": ".py",
   "mimetype": "text/x-python",
   "name": "python",
   "nbconvert_exporter": "python",
   "pygments_lexer": "ipython2",
   "version": "2.7.15"
  }
 },
 "nbformat": 4,
 "nbformat_minor": 2
}
