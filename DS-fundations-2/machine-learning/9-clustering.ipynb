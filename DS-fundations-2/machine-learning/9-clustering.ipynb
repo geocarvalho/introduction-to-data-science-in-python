{
 "cells": [
  {
   "cell_type": "markdown",
   "metadata": {},
   "source": [
    "## Clustering movies\n",
    "\n",
    "Divide data into class of groups acording to data groups (non-supervised)\n",
    "\n",
    "## K-means\n",
    "\n",
    "You randomly draw cluster centers\n",
    "\n",
    "1. assign\n",
    "2. optimmize\n",
    "\n",
    "Minimize the energy of the rubber bands\n",
    "\n",
    "* [Visualizing K-Means Clustering](https://www.naftaliharris.com/blog/visualizing-k-means-clustering/)\n",
    "* [sklearn cluster](https://scikit-learn.org/stable/modules/clustering.html)\n",
    "* [sklearn cluster KMeans](https://scikit-learn.org/stable/modules/generated/sklearn.cluster.KMeans.html#sklearn.cluster.KMeans)\n",
    "    * n_cluster;\n",
    "    * max_iter: how many interations the algorithm do you want it to go through;\n",
    "    * n_init: number of different initializations that you give it (depending of it sometimes end up with different clusterings)\n",
    "    \n",
    "Will output for any fixed training set always be the same?\n",
    "* No, k-means is a hill climbing algorithm and it's very dependent on where you put your initial cluster center (local minimum)."
   ]
  },
  {
   "cell_type": "code",
   "execution_count": null,
   "metadata": {},
   "outputs": [],
   "source": []
  }
 ],
 "metadata": {
  "kernelspec": {
   "display_name": "Python 3",
   "language": "python",
   "name": "python3"
  },
  "language_info": {
   "codemirror_mode": {
    "name": "ipython",
    "version": 3
   },
   "file_extension": ".py",
   "mimetype": "text/x-python",
   "name": "python",
   "nbconvert_exporter": "python",
   "pygments_lexer": "ipython3",
   "version": "3.6.5"
  }
 },
 "nbformat": 4,
 "nbformat_minor": 2
}
