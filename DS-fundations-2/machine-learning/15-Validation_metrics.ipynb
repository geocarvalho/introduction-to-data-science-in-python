{
 "cells": [
  {
   "cell_type": "markdown",
   "metadata": {},
   "source": [
    "## Powel precision and recall\n",
    "\n",
    "* From all cases that should be predicted postive, how many were predicted correctly?\n",
    "\n",
    "$Recall=TP/(TP+FN)$\n",
    "\n",
    "* From all cases that were predicted positive, how many were predicted correctly?\n",
    "\n",
    "$Precision=TP/(TP+FP)$\n",
    "\n",
    "My identifier doesn't have great **precision**, but it does have good **recall**. That means that, nearly every time a POI shows up in my test set, I'm able to identify him or her. The cost of this is that I sometimes get some false positives, where non-POIs get flagged.\n",
    "\n",
    "My identifier doesn't have great **recall**, but it does have good **precision**. That means that whenever a POI gets flagged in my test set, I know with a lot of confidence that it's very likely to be a real POI and not a false alarm. On the other hand, the price I pay for this is that I sometimes miss real POIs, since I'm effectively reluctant to pull the trigger on edge cases.\n",
    "\n",
    "My identifier has a really great **F1-score**. This is the best of both worlds. Both my false positive and false negative rates are **low**, which means that I can identify POI's reliably and accurately. If my identifier finds a POI then the person is almost certainly a POI, and if the identifier does not flag someone, then they are almost certainly not a POI."
   ]
  },
  {
   "cell_type": "code",
   "execution_count": null,
   "metadata": {},
   "outputs": [],
   "source": []
  }
 ],
 "metadata": {
  "kernelspec": {
   "display_name": "Python 2",
   "language": "python",
   "name": "python2"
  },
  "language_info": {
   "codemirror_mode": {
    "name": "ipython",
    "version": 2
   },
   "file_extension": ".py",
   "mimetype": "text/x-python",
   "name": "python",
   "nbconvert_exporter": "python",
   "pygments_lexer": "ipython2",
   "version": "2.7.15"
  }
 },
 "nbformat": 4,
 "nbformat_minor": 2
}
