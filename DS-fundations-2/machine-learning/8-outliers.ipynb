{
 "cells": [
  {
   "cell_type": "markdown",
   "metadata": {},
   "source": [
    "## What causes outliers?\n",
    "* Sensor malfunction\n",
    "* Data entry errors\n",
    "* Freak event\n",
    "\n",
    "They have the highest residual error after training, removing it (rejection) the line will be steeper.\n",
    "\n",
    "1. train\n",
    "2. remove the outlier (remove 10%)\n",
    "3. re-train\n"
   ]
  },
  {
   "cell_type": "code",
   "execution_count": null,
   "metadata": {},
   "outputs": [],
   "source": [
    "#\n",
    "errors = (net_worths-predictions)**2\n",
    "cleaned_data = zip(ages, net_worths, errors)\n",
    "cleaned_data = sorted(cleaned_data, key=lambda x:x[2][0], reverse=True)\n",
    "start = int(len(net_worths)*0.1)"
   ]
  }
 ],
 "metadata": {
  "kernelspec": {
   "display_name": "Python 2",
   "language": "python",
   "name": "python2"
  },
  "language_info": {
   "codemirror_mode": {
    "name": "ipython",
    "version": 2
   },
   "file_extension": ".py",
   "mimetype": "text/x-python",
   "name": "python",
   "nbconvert_exporter": "python",
   "pygments_lexer": "ipython2",
   "version": "2.7.15"
  }
 },
 "nbformat": 4,
 "nbformat_minor": 2
}
