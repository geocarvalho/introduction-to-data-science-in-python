{
 "cells": [
  {
   "cell_type": "markdown",
   "metadata": {},
   "source": [
    "## Feature selection\n",
    "\n",
    "* Select the best features available;\n",
    "* Don't select unecessary features;\n",
    "* Create new features\n",
    "\n",
    "## Adding a new feature\n",
    "\n",
    "1. human intuition;\n",
    "2. code up the new feature;\n",
    "3. visualize;\n",
    "4. repeat.\n",
    "\n",
    "## A new Enron Feature\n",
    "\n",
    "* POIs send emails to other POIs at a rate higher than for the general population.\n",
    "> Count messages that are in this person's inbox but are sent to them from persons of interest;\n",
    "\n",
    "> From each message extract the author of that message and compare this author email address to the list of known person of interest email addresses;\n",
    "\n",
    "> Maybe the absolute number of emails from a person of interest to a given person isn't strong to be used. But the fraction of emails that a person receives that come from a person of interest looks good to be used;\n",
    "\n",
    "> If you get 80% of your emails from persons of interest, maybe this person is one of them;\n",
    "\n",
    "> Maybe the scale of those features by the total number of messages to or from this person is better;\n",
    "\n",
    "\n",
    "## Getting rid of features\n",
    "\n",
    "* It's noisy;\n",
    "* It causes overfitting;\n",
    "* It is strongly related (highly correlated) with a feature that's already present;\n",
    "* Addtional features slow down training/testing process\n",
    "\n",
    "## Features != Information\n",
    "\n",
    "* We want information to draw conclusions and have insights;\n",
    "* Features is the actual number or caracteristics of a particular data point that's attempting to access information;\n",
    "* Is a little bit like the difference between the quantity of something and the quality;\n",
    "* Example of prepross is in `tools/email_preprocess.py`\n",
    "\n",
    "## Sklearn options\n",
    "\n",
    "* `SelectPercentile`: Selects the % of strong features;\n",
    "* `SelectKBest`: Select k strong features.\n",
    "* In `TfidfVectorizer` the argument `max_df` can be used for feature reduction (dimensionality reduction)\n",
    "\n",
    "## Bias-variance dilemma and number of features\n",
    "**High bias algorithm**\n",
    "* Pays little attetion to the training data and is kind of oversimplified;\n",
    "* High error on training set (in regression it means low r-squared or a large sum of the squared residual errors);\n",
    "* Few features used.\n",
    "\n",
    "**High variance**\n",
    "* Pays too much attention to the data (doesn't generalize well overfits). It doesn't generalize well to new situations that it hasn't quite seen before (basically memorize the training examples, overfitting);\n",
    "* Good fit to the training but has a higher error on test set because it's not generalizing very well;\n",
    "* Many features, carefully optimized performance on training data.\n",
    "\n",
    "Using few features can cause a classic high bias type regime, it's an oversimplified situation.\n",
    "\n",
    "With a model where it was very carefully tuned to minimize the sum of squared errors on a regression (SSE) and using lots of features to try  to get every little bit of information out of the data that it could. **That's can cause a high variance situation**, can overfit to the data.\n",
    "\n",
    "So there's this tradeoff between sort of the goodness of the fit and the simplicity of the fit.\n",
    "\n",
    "Fit the algorithm with **few features**, but using the case of regression as a *large r-squared (r²)* or conversely a **low sum of the squared residual errors (SSE)**.\n",
    "\n",
    "## Balacing errors with the number of features\n",
    "\n",
    "* How we can mathematically define what this arc might be so that the maximum point can be found;\n",
    "* This process is called **regularization**;\n",
    "* It's an automatic form of feature selection that some algorithms can do completely on their own, they can trade off between the precision, the goodness of it, the very low error and te complexity of fitting on lots of different features.\n",
    "\n",
    "## Regularization in regression\n",
    "\n",
    "Method for automatically penalizing extra features that is used in a model.\n",
    "\n",
    "**Lasso regression**\n",
    "\n",
    "minimize $SSE+\\lambda|\\beta|$\n",
    "\n",
    "* Minimize the sum of the squared erros in my fit. Minimize the distance between my fit and any given data point or the square of that distance;\n",
    "* In addition to minimizing the sum of the squared errors and the number of features to be used\n",
    "* $\\lambda$: penalty parameter;\n",
    "* $\\beta$: coefficients of my regression (number of features to use);\n",
    "\n",
    "Comparing two different fits (with different number of features):\n",
    "* The one that has more features will almost have a smaller sum of the squared error (it can fit more precisely to the points). But it pay penalty for using that extra feature;\n",
    "* The gain that it get in precision (the goodness of fit of my regression) has to be a bigger gain thant the loss take as a result of having additional feature in the regression;\n",
    "* Having small errors and having a simpler fit that's using fewer features;\n",
    "* Automatically takes into account this penalty parameter, it actually figure out which features are the ones that have the most important effect on the regression;\n",
    "* Once it's found those features, it can actually eliminate or set to zero the coefficients for the features that don't help.\n",
    "\n",
    "## Lasso regression\n",
    "\n",
    "For features that don't help the regression results enough, it can set the coefficient of those features to a very small value (zero).\n",
    "\n",
    "* [sklearn Lasso](https://scikit-learn.org/stable/modules/generated/sklearn.linear_model.Lasso.html)"
   ]
  },
  {
   "cell_type": "code",
   "execution_count": 1,
   "metadata": {},
   "outputs": [
    {
     "name": "stdout",
     "output_type": "stream",
     "text": [
      "[0.85 0.  ]\n"
     ]
    }
   ],
   "source": [
    "from sklearn import linear_model\n",
    "\n",
    "clf = linear_model.Lasso(alpha=0.1)\n",
    "clf.fit([[0,0], [1, 1], [2, 2]], [0, 1, 2])\n",
    "print(clf.coef_)"
   ]
  },
  {
   "cell_type": "markdown",
   "metadata": {},
   "source": [
    "* Because we have two features for each training point, the coefficient of 0 means that it's effectively not being used in the regression. The second feature can disregard, at least in this particular regeression, all the discriminating power is coming from the first feature.\n",
    "\n",
    "If a decision tree is overfit, we expect the accuracy on a test set to be pretty low and a high accuracy on the training set.\n"
   ]
  },
  {
   "cell_type": "code",
   "execution_count": 78,
   "metadata": {},
   "outputs": [
    {
     "name": "stdout",
     "output_type": "stream",
     "text": [
      "X_train.shape is:  (284, 80)\n",
      "X_train_selected.shape is:  (284, 8)\n"
     ]
    }
   ],
   "source": [
    "import numpy as np\n",
    "import pandas as pd\n",
    "import matplotlib.pyplot as plt\n",
    "from sklearn.datasets import load_breast_cancer\n",
    "from sklearn.model_selection import train_test_split\n",
    "from sklearn.feature_selection import SelectPercentile, f_classif\n",
    "from sklearn.linear_model import LogisticRegression\n",
    "%matplotlib inline\n",
    "\n",
    "cancer = load_breast_cancer()\n",
    "\n",
    "# Create noise for the data\n",
    "rng = np.random.RandomState(42)\n",
    "noise = rng.normal(size=(len(cancer.data), 50))\n",
    "\n",
    "X_w_noise = np.hstack([cancer.data, noise])\n",
    "X_train, X_test, y_train, y_test = train_test_split(\n",
    "    X_w_noise, cancer.target, random_state=0,\n",
    "    test_size=.5)\n",
    "\n",
    "select = SelectPercentile(percentile=50)\n",
    "select.fit(X_train, y_train)\n",
    "X_train_selected = select.transform(X_train)\n",
    "\n",
    "print('X_train.shape is: ', X_train.shape)\n",
    "print('X_train_selected.shape is: ',\n",
    "      X_train_selected.shape)"
   ]
  },
  {
   "cell_type": "code",
   "execution_count": 43,
   "metadata": {},
   "outputs": [
    {
     "name": "stdout",
     "output_type": "stream",
     "text": [
      "[ True  True  True  True  True  True  True  True  True False  True False\n",
      "  True  True  True  True  True  True False False  True  True  True  True\n",
      "  True  True  True  True  True  True False False False  True False  True\n",
      " False False  True False False False False  True False False  True False\n",
      " False  True False  True False False False False False False  True False\n",
      "  True False False False False  True False  True False False False False\n",
      "  True  True False  True False False False False]\n"
     ]
    },
    {
     "data": {
      "text/plain": [
       "<matplotlib.image.AxesImage at 0x7f7a987995f8>"
      ]
     },
     "execution_count": 43,
     "metadata": {},
     "output_type": "execute_result"
    },
    {
     "data": {
      "image/png": "[encoded data removed]",
      "text/plain": [
       "<Figure size 1152x144 with 1 Axes>"
      ]
     },
     "metadata": {},
     "output_type": "display_data"
    }
   ],
   "source": [
    "# Plot the selected features\n",
    "mask = select.get_support()\n",
    "print(mask)\n",
    "plt.matshow(mask.reshape(1, -1), cmap='gray_r')"
   ]
  },
  {
   "cell_type": "code",
   "execution_count": 44,
   "metadata": {},
   "outputs": [
    {
     "name": "stdout",
     "output_type": "stream",
     "text": [
      "The score of logistic regression on all features: 0.930\n",
      "The score of logistic regression on the selected features: 0.940\n"
     ]
    }
   ],
   "source": [
    "X_test_selected = select.transform(X_test)\n",
    "logreg = LogisticRegression()\n",
    "\n",
    "# Calculate the score for all data\n",
    "logreg.fit(X_train, y_train)\n",
    "print('The score of logistic regression on all features: {:.3f}'.format(\n",
    "logreg.score(X_test, y_test)))\n",
    "\n",
    "# Calculate for the selected data\n",
    "logreg.fit(X_train_selected, y_train)\n",
    "print('The score of logistic regression on the selected features: {:.3f}'.format(\n",
    "logreg.score(X_test_selected, y_test)))"
   ]
  },
  {
   "cell_type": "code",
   "execution_count": 63,
   "metadata": {},
   "outputs": [
    {
     "name": "stdout",
     "output_type": "stream",
     "text": [
      "40\n",
      "(284, 40)\n"
     ]
    }
   ],
   "source": [
    "# Select new features columns\n",
    "cols = select.get_support(indices=1)\n",
    "new_features = X_train_selected[cols]\n",
    "print(len(new_features))\n",
    "# Create DF with than\n",
    "df = pd.DataFrame(X_train_selected, columns=new_features)\n",
    "print(df.shape)"
   ]
  },
  {
   "cell_type": "code",
   "execution_count": 83,
   "metadata": {},
   "outputs": [
    {
     "data": {
      "text/plain": [
       "GridSearchCV(cv=None, error_score='raise',\n",
       "       estimator=Pipeline(memory=None,\n",
       "     steps=[('select', SelectPercentile(percentile=10,\n",
       "         score_func=<function f_classif at 0x7f7aaa774268>)), ('lr', LogisticRegression(C=1.0, class_weight=None, dual=False, fit_intercept=True,\n",
       "          intercept_scaling=1, max_iter=100, multi_class='ovr', n_jobs=1,\n",
       "          penalty='l2', random_state=None, solver='liblinear', tol=0.0001,\n",
       "          verbose=0, warm_start=False))]),\n",
       "       fit_params={}, iid=True, n_jobs=1,\n",
       "       param_grid={'select__percentile': [1, 2, 3, 4, 5, 6, 7, 8, 9, 10, 11, 12, 13, 14, 15, 16, 17, 18, 19, 20, 21, 22, 23, 24, 25, 26, 27, 28, 29, 30, 31, 32, 33, 34, 35, 36, 37, 38, 39, 40, 41, 42, 43, 44, 45, 46, 47, 48, 49, 50, 51, 52, 53, 54, 55, 56, 57, 58, 59, 60, 61, 62, 63, 64, 65, 66, 67, 68, 69, 70, 71, 72, 73, 74, 75, 76, 77, 78, 79, 80, 81, 82, 83, 84, 85, 86, 87, 88, 89, 90, 91, 92, 93, 94, 95, 96, 97, 98, 99]},\n",
       "       pre_dispatch='2*n_jobs', refit=True, scoring=None, verbose=0)"
      ]
     },
     "execution_count": 83,
     "metadata": {},
     "output_type": "execute_result"
    }
   ],
   "source": [
    "from sklearn.pipeline import Pipeline\n",
    "from sklearn.grid_search import GridSearchCV\n",
    "\n",
    "percentile = [i for i in range(1, 100)]\n",
    "select = SelectPercentile()\n",
    "\n",
    "pipeline_lr = Pipeline([('select', select), ('lr', LogisticRegression())])\n",
    "grids_lr = GridSearchCV(pipeline_lr, {'select__percentile': percentile})\n",
    "grids_lr.fit(X_train, y_train)"
   ]
  },
  {
   "cell_type": "code",
   "execution_count": 84,
   "metadata": {
    "scrolled": true
   },
   "outputs": [
    {
     "data": {
      "text/plain": [
       "[mean: 0.66901, std: 0.01198, params: {'select__percentile': 1},\n",
       " mean: 0.77465, std: 0.11510, params: {'select__percentile': 2},\n",
       " mean: 0.91549, std: 0.01457, params: {'select__percentile': 3},\n",
       " mean: 0.89789, std: 0.00970, params: {'select__percentile': 4},\n",
       " mean: 0.89789, std: 0.00970, params: {'select__percentile': 5},\n",
       " mean: 0.92254, std: 0.01289, params: {'select__percentile': 6},\n",
       " mean: 0.93310, std: 0.02160, params: {'select__percentile': 7},\n",
       " mean: 0.94718, std: 0.01478, params: {'select__percentile': 8},\n",
       " mean: 0.94718, std: 0.00841, params: {'select__percentile': 9},\n",
       " mean: 0.94718, std: 0.00841, params: {'select__percentile': 10},\n",
       " mean: 0.94014, std: 0.01293, params: {'select__percentile': 11},\n",
       " mean: 0.93662, std: 0.01468, params: {'select__percentile': 12},\n",
       " mean: 0.94366, std: 0.00971, params: {'select__percentile': 13},\n",
       " mean: 0.94366, std: 0.00971, params: {'select__percentile': 14},\n",
       " mean: 0.94366, std: 0.00971, params: {'select__percentile': 15},\n",
       " mean: 0.94366, std: 0.00971, params: {'select__percentile': 16},\n",
       " mean: 0.93662, std: 0.00032, params: {'select__percentile': 17},\n",
       " mean: 0.93310, std: 0.00533, params: {'select__percentile': 18},\n",
       " mean: 0.92606, std: 0.00860, params: {'select__percentile': 19},\n",
       " mean: 0.92606, std: 0.00860, params: {'select__percentile': 20},\n",
       " mean: 0.93662, std: 0.02286, params: {'select__percentile': 21},\n",
       " mean: 0.93662, std: 0.02286, params: {'select__percentile': 22},\n",
       " mean: 0.94014, std: 0.01782, params: {'select__percentile': 23},\n",
       " mean: 0.94014, std: 0.01782, params: {'select__percentile': 24},\n",
       " mean: 0.94014, std: 0.01782, params: {'select__percentile': 25},\n",
       " mean: 0.94014, std: 0.01782, params: {'select__percentile': 26},\n",
       " mean: 0.93662, std: 0.01476, params: {'select__percentile': 27},\n",
       " mean: 0.94014, std: 0.01782, params: {'select__percentile': 28},\n",
       " mean: 0.94014, std: 0.01782, params: {'select__percentile': 29},\n",
       " mean: 0.94014, std: 0.01782, params: {'select__percentile': 30},\n",
       " mean: 0.94014, std: 0.02471, params: {'select__percentile': 31},\n",
       " mean: 0.94366, std: 0.01974, params: {'select__percentile': 32},\n",
       " mean: 0.94718, std: 0.02267, params: {'select__percentile': 33},\n",
       " mean: 0.94718, std: 0.02267, params: {'select__percentile': 34},\n",
       " mean: 0.94718, std: 0.02267, params: {'select__percentile': 35},\n",
       " mean: 0.95070, std: 0.00982, params: {'select__percentile': 36},\n",
       " mean: 0.94366, std: 0.00971, params: {'select__percentile': 37},\n",
       " mean: 0.93662, std: 0.00837, params: {'select__percentile': 38},\n",
       " mean: 0.93662, std: 0.00837, params: {'select__percentile': 39},\n",
       " mean: 0.94718, std: 0.00860, params: {'select__percentile': 40},\n",
       " mean: 0.94366, std: 0.01308, params: {'select__percentile': 41},\n",
       " mean: 0.93310, std: 0.00966, params: {'select__percentile': 42},\n",
       " mean: 0.93310, std: 0.00966, params: {'select__percentile': 43},\n",
       " mean: 0.93310, std: 0.00966, params: {'select__percentile': 44},\n",
       " mean: 0.92606, std: 0.00832, params: {'select__percentile': 45},\n",
       " mean: 0.92958, std: 0.00465, params: {'select__percentile': 46},\n",
       " mean: 0.92958, std: 0.01345, params: {'select__percentile': 47},\n",
       " mean: 0.92958, std: 0.01345, params: {'select__percentile': 48},\n",
       " mean: 0.92958, std: 0.01345, params: {'select__percentile': 49},\n",
       " mean: 0.93310, std: 0.01353, params: {'select__percentile': 50},\n",
       " mean: 0.93662, std: 0.01531, params: {'select__percentile': 51},\n",
       " mean: 0.93310, std: 0.01353, params: {'select__percentile': 52},\n",
       " mean: 0.93310, std: 0.01353, params: {'select__percentile': 53},\n",
       " mean: 0.93310, std: 0.01353, params: {'select__percentile': 54},\n",
       " mean: 0.93662, std: 0.01531, params: {'select__percentile': 55},\n",
       " mean: 0.93310, std: 0.01353, params: {'select__percentile': 56},\n",
       " mean: 0.93662, std: 0.00892, params: {'select__percentile': 57},\n",
       " mean: 0.93662, std: 0.00892, params: {'select__percentile': 58},\n",
       " mean: 0.93662, std: 0.00892, params: {'select__percentile': 59},\n",
       " mean: 0.93310, std: 0.00533, params: {'select__percentile': 60},\n",
       " mean: 0.94014, std: 0.01341, params: {'select__percentile': 61},\n",
       " mean: 0.94014, std: 0.01341, params: {'select__percentile': 62},\n",
       " mean: 0.93310, std: 0.01819, params: {'select__percentile': 63},\n",
       " mean: 0.94014, std: 0.02004, params: {'select__percentile': 64},\n",
       " mean: 0.94014, std: 0.02004, params: {'select__percentile': 65},\n",
       " mean: 0.92958, std: 0.02168, params: {'select__percentile': 66},\n",
       " mean: 0.92958, std: 0.02168, params: {'select__percentile': 67},\n",
       " mean: 0.93310, std: 0.01800, params: {'select__percentile': 68},\n",
       " mean: 0.92958, std: 0.02006, params: {'select__percentile': 69},\n",
       " mean: 0.93662, std: 0.02286, params: {'select__percentile': 70},\n",
       " mean: 0.92958, std: 0.02778, params: {'select__percentile': 71},\n",
       " mean: 0.92958, std: 0.02778, params: {'select__percentile': 72},\n",
       " mean: 0.92958, std: 0.02778, params: {'select__percentile': 73},\n",
       " mean: 0.92606, std: 0.01510, params: {'select__percentile': 74},\n",
       " mean: 0.92606, std: 0.01510, params: {'select__percentile': 75},\n",
       " mean: 0.92606, std: 0.01719, params: {'select__percentile': 76},\n",
       " mean: 0.92606, std: 0.01719, params: {'select__percentile': 77},\n",
       " mean: 0.92958, std: 0.02168, params: {'select__percentile': 78},\n",
       " mean: 0.93310, std: 0.01800, params: {'select__percentile': 79},\n",
       " mean: 0.92958, std: 0.02168, params: {'select__percentile': 80},\n",
       " mean: 0.92958, std: 0.02168, params: {'select__percentile': 81},\n",
       " mean: 0.92606, std: 0.00860, params: {'select__percentile': 82},\n",
       " mean: 0.92606, std: 0.00860, params: {'select__percentile': 83},\n",
       " mean: 0.92958, std: 0.00516, params: {'select__percentile': 84},\n",
       " mean: 0.92958, std: 0.00516, params: {'select__percentile': 85},\n",
       " mean: 0.92958, std: 0.00516, params: {'select__percentile': 86},\n",
       " mean: 0.92606, std: 0.00037, params: {'select__percentile': 87},\n",
       " mean: 0.92254, std: 0.00479, params: {'select__percentile': 88},\n",
       " mean: 0.92606, std: 0.00832, params: {'select__percentile': 89},\n",
       " mean: 0.92958, std: 0.00977, params: {'select__percentile': 90},\n",
       " mean: 0.92958, std: 0.00977, params: {'select__percentile': 91},\n",
       " mean: 0.92606, std: 0.00832, params: {'select__percentile': 92},\n",
       " mean: 0.91549, std: 0.01471, params: {'select__percentile': 93},\n",
       " mean: 0.91901, std: 0.01779, params: {'select__percentile': 94},\n",
       " mean: 0.92254, std: 0.01306, params: {'select__percentile': 95},\n",
       " mean: 0.92254, std: 0.01306, params: {'select__percentile': 96},\n",
       " mean: 0.92606, std: 0.00860, params: {'select__percentile': 97},\n",
       " mean: 0.92254, std: 0.00479, params: {'select__percentile': 98},\n",
       " mean: 0.92254, std: 0.00479, params: {'select__percentile': 99}]"
      ]
     },
     "execution_count": 84,
     "metadata": {},
     "output_type": "execute_result"
    }
   ],
   "source": [
    "grids_lr_scores = [result.mean_validation_score for result in grids_lr.grid_scores_]\n",
    "grids_lr.grid_scores_"
   ]
  },
  {
   "cell_type": "code",
   "execution_count": 85,
   "metadata": {},
   "outputs": [
    {
     "name": "stdout",
     "output_type": "stream",
     "text": [
      "0.9507042253521126\n",
      "{'select__percentile': 36}\n"
     ]
    }
   ],
   "source": [
    "print(grids_lr.best_score_)\n",
    "print(grids_lr.best_params_)"
   ]
  },
  {
   "cell_type": "code",
   "execution_count": 90,
   "metadata": {},
   "outputs": [
    {
     "data": {
      "text/plain": [
       "GridSearchCV(cv=None, error_score='raise',\n",
       "       estimator=Pipeline(memory=None,\n",
       "     steps=[('select', SelectPercentile(percentile=10,\n",
       "         score_func=<function f_classif at 0x7f7aaa774268>)), ('svc', SVC(C=1.0, cache_size=200, class_weight=None, coef0=0.0,\n",
       "  decision_function_shape='ovr', degree=3, gamma='auto', kernel='linear',\n",
       "  max_iter=-1, probability=False, random_state=None, shrinking=True,\n",
       "  tol=0.001, verbose=False))]),\n",
       "       fit_params={}, iid=True, n_jobs=1,\n",
       "       param_grid={'select__percentile': [1, 2, 3, 4, 5, 6, 7, 8, 9, 10, 11, 12, 13, 14, 15, 16, 17, 18, 19, 20, 21, 22, 23, 24, 25, 26, 27, 28, 29, 30, 31, 32, 33, 34, 35, 36, 37, 38, 39, 40, 41, 42, 43, 44, 45, 46, 47, 48, 49, 50, 51, 52, 53, 54, 55, 56, 57, 58, 59, 60, 61, 62, 63, 64, 65, 66, 67, 68, 69, 70, 71, 72, 73, 74, 75, 76, 77, 78, 79, 80, 81, 82, 83, 84, 85, 86, 87, 88, 89, 90, 91, 92, 93, 94, 95, 96, 97, 98, 99]},\n",
       "       pre_dispatch='2*n_jobs', refit=True, scoring=None, verbose=0)"
      ]
     },
     "execution_count": 90,
     "metadata": {},
     "output_type": "execute_result"
    }
   ],
   "source": [
    "from sklearn.svm import SVC\n",
    "\n",
    "pipeline_svc = Pipeline([('select', select), ('svc', SVC(gamma='auto', kernel='linear'))])\n",
    "grids_svc = GridSearchCV(pipeline_svc, {'select__percentile': percentile})\n",
    "grids_svc.fit(X_train, y_train)"
   ]
  },
  {
   "cell_type": "code",
   "execution_count": 91,
   "metadata": {
    "scrolled": true
   },
   "outputs": [
    {
     "data": {
      "text/plain": [
       "[mean: 0.67958, std: 0.02491, params: {'select__percentile': 1},\n",
       " mean: 0.81690, std: 0.07666, params: {'select__percentile': 2},\n",
       " mean: 0.90493, std: 0.02250, params: {'select__percentile': 3},\n",
       " mean: 0.89789, std: 0.01760, params: {'select__percentile': 4},\n",
       " mean: 0.89789, std: 0.01760, params: {'select__percentile': 5},\n",
       " mean: 0.91197, std: 0.01306, params: {'select__percentile': 6},\n",
       " mean: 0.93662, std: 0.00032, params: {'select__percentile': 7},\n",
       " mean: 0.94366, std: 0.00971, params: {'select__percentile': 8},\n",
       " mean: 0.95070, std: 0.00475, params: {'select__percentile': 9},\n",
       " mean: 0.95070, std: 0.00475, params: {'select__percentile': 10},\n",
       " mean: 0.94718, std: 0.00841, params: {'select__percentile': 11},\n",
       " mean: 0.94718, std: 0.00841, params: {'select__percentile': 12},\n",
       " mean: 0.94718, std: 0.00841, params: {'select__percentile': 13},\n",
       " mean: 0.94366, std: 0.00971, params: {'select__percentile': 14},\n",
       " mean: 0.94366, std: 0.00971, params: {'select__percentile': 15},\n",
       " mean: 0.94014, std: 0.01293, params: {'select__percentile': 16},\n",
       " mean: 0.94718, std: 0.00841, params: {'select__percentile': 17},\n",
       " mean: 0.94014, std: 0.01293, params: {'select__percentile': 18},\n",
       " mean: 0.94718, std: 0.00841, params: {'select__percentile': 19},\n",
       " mean: 0.94718, std: 0.00841, params: {'select__percentile': 20},\n",
       " mean: 0.95423, std: 0.00486, params: {'select__percentile': 21},\n",
       " mean: 0.95070, std: 0.01783, params: {'select__percentile': 22},\n",
       " mean: 0.96479, std: 0.00488, params: {'select__percentile': 23},\n",
       " mean: 0.96479, std: 0.00488, params: {'select__percentile': 24},\n",
       " mean: 0.95423, std: 0.01977, params: {'select__percentile': 25},\n",
       " mean: 0.95775, std: 0.00860, params: {'select__percentile': 26},\n",
       " mean: 0.95423, std: 0.00486, params: {'select__percentile': 27},\n",
       " mean: 0.95070, std: 0.00982, params: {'select__percentile': 28},\n",
       " mean: 0.95070, std: 0.00982, params: {'select__percentile': 29},\n",
       " mean: 0.95070, std: 0.00982, params: {'select__percentile': 30},\n",
       " mean: 0.94366, std: 0.02150, params: {'select__percentile': 31},\n",
       " mean: 0.94718, std: 0.02969, params: {'select__percentile': 32},\n",
       " mean: 0.94718, std: 0.02267, params: {'select__percentile': 33},\n",
       " mean: 0.94718, std: 0.02267, params: {'select__percentile': 34},\n",
       " mean: 0.94014, std: 0.02148, params: {'select__percentile': 35},\n",
       " mean: 0.92958, std: 0.02144, params: {'select__percentile': 36},\n",
       " mean: 0.93662, std: 0.01468, params: {'select__percentile': 37},\n",
       " mean: 0.94014, std: 0.01969, params: {'select__percentile': 38},\n",
       " mean: 0.94014, std: 0.01969, params: {'select__percentile': 39},\n",
       " mean: 0.94366, std: 0.01308, params: {'select__percentile': 40},\n",
       " mean: 0.94366, std: 0.01308, params: {'select__percentile': 41},\n",
       " mean: 0.92958, std: 0.01320, params: {'select__percentile': 42},\n",
       " mean: 0.92958, std: 0.01320, params: {'select__percentile': 43},\n",
       " mean: 0.93310, std: 0.02465, params: {'select__percentile': 44},\n",
       " mean: 0.92958, std: 0.02144, params: {'select__percentile': 45},\n",
       " mean: 0.92606, std: 0.02560, params: {'select__percentile': 46},\n",
       " mean: 0.93310, std: 0.01972, params: {'select__percentile': 47},\n",
       " mean: 0.93310, std: 0.01972, params: {'select__percentile': 48},\n",
       " mean: 0.93310, std: 0.01972, params: {'select__percentile': 49},\n",
       " mean: 0.94014, std: 0.01341, params: {'select__percentile': 50},\n",
       " mean: 0.94366, std: 0.01348, params: {'select__percentile': 51},\n",
       " mean: 0.94718, std: 0.00026, params: {'select__percentile': 52},\n",
       " mean: 0.94718, std: 0.00026, params: {'select__percentile': 53},\n",
       " mean: 0.94718, std: 0.00026, params: {'select__percentile': 54},\n",
       " mean: 0.93662, std: 0.00892, params: {'select__percentile': 55},\n",
       " mean: 0.93662, std: 0.00892, params: {'select__percentile': 56},\n",
       " mean: 0.92958, std: 0.02676, params: {'select__percentile': 57},\n",
       " mean: 0.92958, std: 0.02676, params: {'select__percentile': 58},\n",
       " mean: 0.93310, std: 0.01353, params: {'select__percentile': 59},\n",
       " mean: 0.93310, std: 0.01353, params: {'select__percentile': 60},\n",
       " mean: 0.92606, std: 0.02326, params: {'select__percentile': 61},\n",
       " mean: 0.92606, std: 0.02326, params: {'select__percentile': 62},\n",
       " mean: 0.92958, std: 0.02676, params: {'select__percentile': 63},\n",
       " mean: 0.93310, std: 0.01819, params: {'select__percentile': 64},\n",
       " mean: 0.93310, std: 0.01819, params: {'select__percentile': 65},\n",
       " mean: 0.93310, std: 0.02502, params: {'select__percentile': 66},\n",
       " mean: 0.93310, std: 0.02502, params: {'select__percentile': 67},\n",
       " mean: 0.92958, std: 0.02778, params: {'select__percentile': 68},\n",
       " mean: 0.92606, std: 0.03001, params: {'select__percentile': 69},\n",
       " mean: 0.92254, std: 0.02505, params: {'select__percentile': 70},\n",
       " mean: 0.91197, std: 0.03274, params: {'select__percentile': 71},\n",
       " mean: 0.91197, std: 0.03274, params: {'select__percentile': 72},\n",
       " mean: 0.91197, std: 0.03274, params: {'select__percentile': 73},\n",
       " mean: 0.91197, std: 0.02670, params: {'select__percentile': 74},\n",
       " mean: 0.92254, std: 0.01822, params: {'select__percentile': 75},\n",
       " mean: 0.92254, std: 0.01822, params: {'select__percentile': 76},\n",
       " mean: 0.92254, std: 0.01822, params: {'select__percentile': 77},\n",
       " mean: 0.92254, std: 0.01822, params: {'select__percentile': 78},\n",
       " mean: 0.92254, std: 0.01801, params: {'select__percentile': 79},\n",
       " mean: 0.92606, std: 0.01510, params: {'select__percentile': 80},\n",
       " mean: 0.92606, std: 0.01510, params: {'select__percentile': 81},\n",
       " mean: 0.92958, std: 0.02778, params: {'select__percentile': 82},\n",
       " mean: 0.92958, std: 0.02006, params: {'select__percentile': 83},\n",
       " mean: 0.93310, std: 0.01800, params: {'select__percentile': 84},\n",
       " mean: 0.93310, std: 0.01800, params: {'select__percentile': 85},\n",
       " mean: 0.93310, std: 0.01800, params: {'select__percentile': 86},\n",
       " mean: 0.92958, std: 0.01320, params: {'select__percentile': 87},\n",
       " mean: 0.92958, std: 0.01320, params: {'select__percentile': 88},\n",
       " mean: 0.93310, std: 0.01800, params: {'select__percentile': 89},\n",
       " mean: 0.93310, std: 0.02160, params: {'select__percentile': 90},\n",
       " mean: 0.93310, std: 0.02160, params: {'select__percentile': 91},\n",
       " mean: 0.93662, std: 0.01719, params: {'select__percentile': 92},\n",
       " mean: 0.92958, std: 0.02006, params: {'select__percentile': 93},\n",
       " mean: 0.92606, std: 0.02288, params: {'select__percentile': 94},\n",
       " mean: 0.93662, std: 0.02302, params: {'select__percentile': 95},\n",
       " mean: 0.93662, std: 0.02302, params: {'select__percentile': 96},\n",
       " mean: 0.94014, std: 0.02004, params: {'select__percentile': 97},\n",
       " mean: 0.94014, std: 0.02004, params: {'select__percentile': 98},\n",
       " mean: 0.94014, std: 0.02004, params: {'select__percentile': 99}]"
      ]
     },
     "execution_count": 91,
     "metadata": {},
     "output_type": "execute_result"
    }
   ],
   "source": [
    "grids_svc_scores = [result.mean_validation_score for result in grids_svc.grid_scores_]\n",
    "grids_svc.grid_scores_"
   ]
  },
  {
   "cell_type": "code",
   "execution_count": 92,
   "metadata": {},
   "outputs": [
    {
     "name": "stdout",
     "output_type": "stream",
     "text": [
      "0.9647887323943662\n",
      "{'select__percentile': 23}\n"
     ]
    }
   ],
   "source": [
    "print(grids_svc.best_score_)\n",
    "print(grids_svc.best_params_)"
   ]
  },
  {
   "cell_type": "code",
   "execution_count": 94,
   "metadata": {},
   "outputs": [
    {
     "data": {
      "text/plain": [
       "<matplotlib.legend.Legend at 0x7f7a980c4da0>"
      ]
     },
     "execution_count": 94,
     "metadata": {},
     "output_type": "execute_result"
    },
    {
     "data": {
      "image/png": "[encoded data removed]",
      "text/plain": [
       "<Figure size 432x288 with 1 Axes>"
      ]
     },
     "metadata": {},
     "output_type": "display_data"
    }
   ],
   "source": [
    "# Plot scores vs parameter\n",
    "# https://stackoverflow.com/questions/4805048/how-to-get-different-colored-lines-for-different-plots-in-a-single-figure\n",
    "plt.plot(percentile, grids_lr_scores)\n",
    "plt.plot(percentile, grids_svc_scores)\n",
    "plt.xlabel('Value of Percentale for SelectPercentile')\n",
    "plt.ylabel('Cross-validated accuracy')\n",
    "plt.legend(['lr', 'svc'])"
   ]
  },
  {
   "cell_type": "markdown",
   "metadata": {},
   "source": [
    "## References\n",
    "* [How do I properly use SelectKBest, GridSearchCV, and cross-validation in the sklearn package together?](https://www.quora.com/How-do-I-properly-use-SelectKBest-GridSearchCV-and-cross-validation-in-the-sklearn-package-together)\n",
    "* [How to find the best model parameters in scikit-learn\n",
    "](https://www.youtube.com/watch?v=Gol_qOgRqfA&list=PL5-da3qGB5ICeMbQuqbbCOQWcS6OYBr5A&index=8)\n",
    "* [Selecting dimensionality reduction with Pipeline and GridSearchCV](https://scikit-learn.org/stable/auto_examples/compose/plot_compare_reduction.html)\n",
    "* [Optimal Tuning Parameters](https://www.ritchieng.com/machine-learning-efficiently-search-tuning-param/?fbclid=IwAR3KvYWSfzzHBApouJpbFAktEV99eugzN9WXVViZnd8hJaWZ_bFnv8XlLNM)"
   ]
  },
  {
   "cell_type": "code",
   "execution_count": null,
   "metadata": {},
   "outputs": [],
   "source": []
  }
 ],
 "metadata": {
  "kernelspec": {
   "display_name": "Python 3",
   "language": "python",
   "name": "python3"
  },
  "language_info": {
   "codemirror_mode": {
    "name": "ipython",
    "version": 3
   },
   "file_extension": ".py",
   "mimetype": "text/x-python",
   "name": "python",
   "nbconvert_exporter": "python",
   "pygments_lexer": "ipython3",
   "version": "3.6.5"
  }
 },
 "nbformat": 4,
 "nbformat_minor": 2
}
