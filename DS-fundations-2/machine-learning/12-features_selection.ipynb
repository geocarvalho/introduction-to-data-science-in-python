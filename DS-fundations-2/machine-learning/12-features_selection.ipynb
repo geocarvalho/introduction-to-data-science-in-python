{
 "cells": [
  {
   "cell_type": "markdown",
   "metadata": {},
   "source": [
    "## Feature selection\n",
    "\n",
    "* Select the best features available;\n",
    "* Don't select unecessary features;\n",
    "* Create new features\n",
    "\n",
    "## Adding a new feature\n",
    "\n",
    "1. human intuition;\n",
    "2. code up the new feature;\n",
    "3. visualize;\n",
    "4. repeat.\n",
    "\n",
    "## Getting rid of features\n",
    "\n",
    "* It's noisy;\n",
    "* It causes overfitting;\n",
    "* It is strongly related (highly correlated) with a feature that's already present;\n",
    "* Addtional features slow down training/testing process\n",
    "\n",
    "## Features != Information\n",
    "\n",
    "* We want information to draw conclusions and have insights;\n",
    "* Features is the actual number or caracteristics of a particular data point that's attempting to access information;\n",
    "* Is a little bit like the difference between the quantity of something and the quality;\n",
    "* Example of prepross is in `tools/email_preprocess.py`\n",
    "\n",
    "## Sklearn options\n",
    "\n",
    "* `SelectPercentile`: Selects the % of strong features;\n",
    "* `SelectKBest`: Select k strong features.\n",
    "* In `TfidfVectorizer` the argument `max_df` can be used for feature reduction (dimensionality reduction)"
   ]
  },
  {
   "cell_type": "code",
   "execution_count": null,
   "metadata": {},
   "outputs": [],
   "source": []
  }
 ],
 "metadata": {
  "kernelspec": {
   "display_name": "Python 3",
   "language": "python",
   "name": "python3"
  },
  "language_info": {
   "codemirror_mode": {
    "name": "ipython",
    "version": 3
   },
   "file_extension": ".py",
   "mimetype": "text/x-python",
   "name": "python",
   "nbconvert_exporter": "python",
   "pygments_lexer": "ipython3",
   "version": "3.6.5"
  }
 },
 "nbformat": 4,
 "nbformat_minor": 2
}
