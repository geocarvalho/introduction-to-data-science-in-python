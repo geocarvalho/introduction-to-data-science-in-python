{
 "cells": [
  {
   "cell_type": "markdown",
   "metadata": {},
   "source": [
    "## Linearly separable data\n",
    "\n",
    "Decision trees use a trick to let you do non-linear decision making with simple linear decision surfaces.\n",
    "* [sklearn.tree.DecisionTreeClassifier](https://scikit-learn.org/stable/modules/tree.html)\n",
    "* min_samples_split - small integer numbers (2) create more divisions on tree, big numbers (50) stop the decisions earlier (it decrease the overfitting risk)\n",
    "\n",
    "## Entropy\n",
    "\n",
    "It's a measure of **impurity** in a bunch of examples (opposity of purity). Controls how a decision tree decides where to split the data.\n",
    "\n",
    "$entropy=\\sum_i-p_i\\log_2(p_i)$\n",
    "\n",
    "$p_i$ is the fraction of examples in class i\n",
    "$\\sum_i$ sum over all classes available\n",
    "\n",
    "* All examples are the same class $entropy=0$;\n",
    "* Examples are evenly split between classes $entropy=1$ (maximally impure state);\n",
    "* Lower the entropy more organized the data is.\n"
   ]
  },
  {
   "cell_type": "code",
   "execution_count": 8,
   "metadata": {},
   "outputs": [
    {
     "data": {
      "text/plain": [
       "0.5"
      ]
     },
     "execution_count": 8,
     "metadata": {},
     "output_type": "execute_result"
    }
   ],
   "source": [
    "import numpy as np\n",
    "\n",
    "slow = 2\n",
    "speed_t = 4\n",
    "pi_s=slow/float(speed_t)\n",
    "pi_s"
   ]
  },
  {
   "cell_type": "code",
   "execution_count": 6,
   "metadata": {},
   "outputs": [
    {
     "data": {
      "text/plain": [
       "0.5"
      ]
     },
     "execution_count": 6,
     "metadata": {},
     "output_type": "execute_result"
    }
   ],
   "source": [
    "fast = 2\n",
    "pi_f = fast/float(speed_t)\n",
    "pi_f"
   ]
  },
  {
   "cell_type": "code",
   "execution_count": 12,
   "metadata": {},
   "outputs": [
    {
     "data": {
      "text/plain": [
       "0.5"
      ]
     },
     "execution_count": 12,
     "metadata": {},
     "output_type": "execute_result"
    }
   ],
   "source": [
    "- (pi_s * np.log2(pi_s))"
   ]
  },
  {
   "cell_type": "code",
   "execution_count": 13,
   "metadata": {},
   "outputs": [
    {
     "data": {
      "text/plain": [
       "0.5"
      ]
     },
     "execution_count": 13,
     "metadata": {},
     "output_type": "execute_result"
    }
   ],
   "source": [
    "- (pi_f * np.log2(pi_f))"
   ]
  },
  {
   "cell_type": "code",
   "execution_count": 15,
   "metadata": {},
   "outputs": [
    {
     "data": {
      "text/plain": [
       "1.0"
      ]
     },
     "execution_count": 15,
     "metadata": {},
     "output_type": "execute_result"
    }
   ],
   "source": [
    "entropy = (- (pi_s * np.log2(pi_s))) + (- (pi_f * np.log2(pi_f)))\n",
    "entropy"
   ]
  },
  {
   "cell_type": "markdown",
   "metadata": {},
   "source": [
    "## Information gain\n",
    "\n",
    "information gain = entropy(parent) - [weighted average] entropy(children)\n",
    "* The decison tree algorithm will maximize information gain\n",
    "\n",
    "(stepp=slow, steep=slow, flat=fast, steep=fast)\n",
    "\n",
    "steep node is (slow, slow, fast), the entropy of slow ($P_{slow}$)  is 2/3 (2 slow of 3 total) and the $P_{fast}$ is 1/3.\n",
    "\n",
    "flat node is f, the entropy is 0 because just has f"
   ]
  },
  {
   "cell_type": "code",
   "execution_count": 23,
   "metadata": {},
   "outputs": [
    {
     "data": {
      "text/html": [
       "<div>\n",
       "<style scoped>\n",
       "    .dataframe tbody tr th:only-of-type {\n",
       "        vertical-align: middle;\n",
       "    }\n",
       "\n",
       "    .dataframe tbody tr th {\n",
       "        vertical-align: top;\n",
       "    }\n",
       "\n",
       "    .dataframe thead th {\n",
       "        text-align: right;\n",
       "    }\n",
       "</style>\n",
       "<table border=\"1\" class=\"dataframe\">\n",
       "  <thead>\n",
       "    <tr style=\"text-align: right;\">\n",
       "      <th></th>\n",
       "      <th>bumpiness</th>\n",
       "      <th>grade</th>\n",
       "      <th>speed</th>\n",
       "      <th>speed_limit</th>\n",
       "    </tr>\n",
       "  </thead>\n",
       "  <tbody>\n",
       "    <tr>\n",
       "      <th>0</th>\n",
       "      <td>bumpy</td>\n",
       "      <td>steep</td>\n",
       "      <td>slow</td>\n",
       "      <td>yes</td>\n",
       "    </tr>\n",
       "    <tr>\n",
       "      <th>1</th>\n",
       "      <td>smooth</td>\n",
       "      <td>steep</td>\n",
       "      <td>slow</td>\n",
       "      <td>yes</td>\n",
       "    </tr>\n",
       "    <tr>\n",
       "      <th>2</th>\n",
       "      <td>bumpy</td>\n",
       "      <td>flat</td>\n",
       "      <td>fast</td>\n",
       "      <td>no</td>\n",
       "    </tr>\n",
       "    <tr>\n",
       "      <th>3</th>\n",
       "      <td>smooth</td>\n",
       "      <td>steep</td>\n",
       "      <td>fast</td>\n",
       "      <td>no</td>\n",
       "    </tr>\n",
       "  </tbody>\n",
       "</table>\n",
       "</div>"
      ],
      "text/plain": [
       "  bumpiness  grade speed speed_limit\n",
       "0     bumpy  steep  slow         yes\n",
       "1    smooth  steep  slow         yes\n",
       "2     bumpy   flat  fast          no\n",
       "3    smooth  steep  fast          no"
      ]
     },
     "execution_count": 23,
     "metadata": {},
     "output_type": "execute_result"
    }
   ],
   "source": [
    "import pandas as pd\n",
    "d = {\n",
    "    'grade':['steep','steep','flat','steep'],\n",
    "    'bumpiness':['bumpy', 'smooth', 'bumpy', 'smooth'],\n",
    "    'speed_limit':['yes', 'yes', 'no', 'no'],\n",
    "    'speed': ['slow', 'slow', 'fast', 'fast']}\n",
    "df = pd.DataFrame(data=d)\n",
    "df.head()"
   ]
  },
  {
   "cell_type": "code",
   "execution_count": 26,
   "metadata": {},
   "outputs": [
    {
     "data": {
      "text/plain": [
       "(0.6666666666666666, 0.3333333333333333)"
      ]
     },
     "execution_count": 26,
     "metadata": {},
     "output_type": "execute_result"
    }
   ],
   "source": [
    "# take grade column and calculate the entropy \n",
    "# for steep and flat\n",
    "# steep\n",
    "df_steep = df.query('grade==\"steep\"')\n",
    "# flat\n",
    "df_flat = df.query('grade==\"flat\"')\n",
    "# flat entropy is 0 because all the examples belong to\n",
    "# the same class\n",
    "# steep entropy\n",
    "p_slow = df_steep.query('speed==\"slow\"').shape[0]/float(df_steep.shape[0])\n",
    "p_fast = df_steep.query('speed==\"fast\"').shape[0]/float(df_steep.shape[0])\n",
    "p_slow, p_fast"
   ]
  },
  {
   "cell_type": "code",
   "execution_count": 30,
   "metadata": {},
   "outputs": [
    {
     "data": {
      "text/plain": [
       "0.9182958340544896"
      ]
     },
     "execution_count": 30,
     "metadata": {},
     "output_type": "execute_result"
    }
   ],
   "source": [
    "# entropy\n",
    "ent_steep = (-p_slow*(np.log2(p_slow)) -p_fast*(np.log2(p_fast)))\n",
    "ent_steep"
   ]
  },
  {
   "cell_type": "code",
   "execution_count": 22,
   "metadata": {},
   "outputs": [
    {
     "name": "stdout",
     "output_type": "stream",
     "text": [
      "0.9182958340544894\n"
     ]
    }
   ],
   "source": [
    "import scipy.stats\n",
    "print(scipy.stats.entropy([2,1], base=2))"
   ]
  },
  {
   "cell_type": "code",
   "execution_count": 34,
   "metadata": {},
   "outputs": [
    {
     "data": {
      "text/plain": [
       "-0.6887218755408672"
      ]
     },
     "execution_count": 34,
     "metadata": {},
     "output_type": "execute_result"
    }
   ],
   "source": [
    "# children entropy (steep vs flat)\n",
    "p_steep = df_steep.shape[0] / float(df.shape[0])\n",
    "p_flat = df_flat.shape[0] / float(df.shape[0])\n",
    "ent_flat = 0\n",
    "child_ent = -p_steep*(ent_steep) - p_flat*(ent_flat)\n",
    "child_ent"
   ]
  },
  {
   "cell_type": "code",
   "execution_count": 36,
   "metadata": {},
   "outputs": [
    {
     "data": {
      "text/plain": [
       "0.31127812445913283"
      ]
     },
     "execution_count": 36,
     "metadata": {},
     "output_type": "execute_result"
    }
   ],
   "source": [
    "# the info gain\n",
    "parent_ent = 1\n",
    "info_g = parent_ent + child_ent\n",
    "info_g"
   ]
  },
  {
   "cell_type": "code",
   "execution_count": 46,
   "metadata": {},
   "outputs": [
    {
     "data": {
      "text/plain": [
       "1.0"
      ]
     },
     "execution_count": 46,
     "metadata": {},
     "output_type": "execute_result"
    }
   ],
   "source": [
    "# Let's work with the \"bumpiness\" column\n",
    "df_bumpy = df.query('bumpiness==\"bumpy\"')\n",
    "df_smooth = df.query('bumpiness==\"smooth\"')\n",
    "p_bumpy = df_bumpy.shape[0]/float(df.shape[0])\n",
    "p_smooth = df_smooth.shape[0]/float(df.shape[0])\n",
    "ent = -p_bumpy*(np.log2(p_bumpy)) - p_smooth*(np.log2(p_smooth))\n",
    "ent"
   ]
  },
  {
   "cell_type": "code",
   "execution_count": 47,
   "metadata": {},
   "outputs": [
    {
     "data": {
      "text/plain": [
       "0.0"
      ]
     },
     "execution_count": 47,
     "metadata": {},
     "output_type": "execute_result"
    }
   ],
   "source": [
    "ent_p = 1\n",
    "info_b = ent_p - ent\n",
    "info_b"
   ]
  },
  {
   "cell_type": "code",
   "execution_count": 49,
   "metadata": {},
   "outputs": [
    {
     "data": {
      "text/plain": [
       "1.0"
      ]
     },
     "execution_count": 49,
     "metadata": {},
     "output_type": "execute_result"
    }
   ],
   "source": [
    "# Let's see speed limit column\n",
    "df_yes = df.query('speed_limit==\"yes\"')\n",
    "df_no = df.query('speed_limit==\"no\"')\n",
    "p_yes = df_yes.shape[0]/float(df.shape[0])\n",
    "p_no = df_no.shape[0]/float(df.shape[0])\n",
    "ent_speed_limit = -p_yes*(np.log2(p_yes)) - p_no*(np.log2(p_no))\n",
    "ent_speed_limit"
   ]
  },
  {
   "cell_type": "code",
   "execution_count": 51,
   "metadata": {},
   "outputs": [
    {
     "data": {
      "text/plain": [
       "0.0"
      ]
     },
     "execution_count": 51,
     "metadata": {},
     "output_type": "execute_result"
    }
   ],
   "source": [
    "# Calculate info gain\n",
    "ent_p = 1\n",
    "info_b = ent_p - ent_speed_limit\n",
    "info_b"
   ]
  },
  {
   "cell_type": "markdown",
   "metadata": {},
   "source": [
    "## High bias algorithm\n",
    "\n",
    "* High biasalgorrithm ignore the data, no matter wich way the data is trained, it doesn't do anything differently\n",
    "\n",
    "## Strenghts and weaknesses\n",
    "**Strenghts**\n",
    "* Easy to use and beautiful to grow on;\n",
    "* Graphically allow to interpret the data better then svm;\n",
    "\n",
    "**Weakness**\n",
    "* Prone to overfitting (data with lots of features, careful with parameters)\n",
    "\n",
    "## Running script\n",
    "* min_samples_split=40\n",
    "> no. of Chris training emails: 7936\n",
    "\n",
    "> no. of Sara training emails: 7884\n",
    "\n",
    "> ('tempo de treinamento:', 62.136, 's')\n",
    "\n",
    "> ('tempo de predicao:', 0.018, 's')\n",
    "\n",
    "> 0.9772468714448237\n",
    "\n",
    "* Count the number of features using `print(len(features_train[0]))`\n",
    "> 3785\n",
    "\n",
    "* Chaging th `percentile` em `../tools/email_preprocess.py,` from 10 to 1\n",
    "> no. of Chris training emails: 7936\n",
    "\n",
    "> no. of Sara training emails: 7884\n",
    "\n",
    "> ('tempo de treinamento:', 3.524, 's')\n",
    "\n",
    "> ('tempo de predicao:', 0.002, 's')\n",
    "\n",
    "> 0.9670079635949943\n",
    "\n",
    "> 379\n",
    "\n",
    "> High percentile value result in a more or less complexity decision tree.\n",
    "\n",
    "> Having fewer features around means there are fewer chances for the decision tree to carve out very specific little spots when finding a decision surface.  These specific little spots (what we'd also call evidence of a high-variance result) indicate a more complex decision-making process.  So having more features doesn't usually mean you have a less complex decision tree."
   ]
  },
  {
   "cell_type": "code",
   "execution_count": null,
   "metadata": {},
   "outputs": [],
   "source": []
  }
 ],
 "metadata": {
  "kernelspec": {
   "display_name": "Python 2",
   "language": "python",
   "name": "python2"
  },
  "language_info": {
   "codemirror_mode": {
    "name": "ipython",
    "version": 2
   },
   "file_extension": ".py",
   "mimetype": "text/x-python",
   "name": "python",
   "nbconvert_exporter": "python",
   "pygments_lexer": "ipython2",
   "version": "2.7.15"
  }
 },
 "nbformat": 4,
 "nbformat_minor": 2
}
