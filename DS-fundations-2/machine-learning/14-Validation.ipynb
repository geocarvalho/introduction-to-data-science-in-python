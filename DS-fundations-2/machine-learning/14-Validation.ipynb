{
 "cells": [
  {
   "cell_type": "markdown",
   "metadata": {},
   "source": [
    "## Review: Why use training and testing data?\n",
    "\n",
    "* Gives estimate of performance on an independent dataset;\n",
    "* Serves as check on overfitting;\n",
    "\n",
    "## Splitting data between training and test data\n",
    "\n",
    "* [sklearn cross validation](https://scikit-learn.org/stable/modules/cross_validation.html)"
   ]
  },
  {
   "cell_type": "code",
   "execution_count": 10,
   "metadata": {},
   "outputs": [
    {
     "data": {
      "text/plain": [
       "((150, 4), (150,))"
      ]
     },
     "execution_count": 10,
     "metadata": {},
     "output_type": "execute_result"
    }
   ],
   "source": [
    "import numpy as np\n",
    "from sklearn.model_selection import train_test_split\n",
    "from sklearn import datasets\n",
    "from sklearn.svm import SVC\n",
    "\n",
    "iris = datasets.load_iris()\n",
    "iris.data.shape, iris.target.shape"
   ]
  },
  {
   "cell_type": "code",
   "execution_count": 11,
   "metadata": {},
   "outputs": [
    {
     "data": {
      "text/plain": [
       "((90, 4), (60, 4), (90,), (60,))"
      ]
     },
     "execution_count": 11,
     "metadata": {},
     "output_type": "execute_result"
    }
   ],
   "source": [
    "features_train, features_test, labels_train, labels_test = \\\n",
    "train_test_split(iris.data, iris.target, test_size=0.4, \\\n",
    "                 random_state=0)\n",
    "features_train.shape, features_test.shape, \\\n",
    "labels_train.shape, labels_test.shape"
   ]
  },
  {
   "cell_type": "code",
   "execution_count": 12,
   "metadata": {},
   "outputs": [
    {
     "name": "stdout",
     "output_type": "stream",
     "text": [
      "0.9666666666666667\n"
     ]
    }
   ],
   "source": [
    "clf = SVC(kernel=\"linear\", C=1.)\n",
    "clf.fit(features_train, labels_train)\n",
    "\n",
    "print(clf.score(features_test, labels_test))"
   ]
  },
  {
   "cell_type": "markdown",
   "metadata": {},
   "source": [
    "## Training, transforms, predicting\n",
    "\n",
    "train/test split (training_features, test_features) > PCA (`pca.fit`, `pca.transform`) > SVM (`svc.fit`, `svc.predict`)\n",
    "\n",
    "**train**\n",
    "```\n",
    "pca.fit(training_features)\n",
    "pca.transform(training_features)\n",
    "svc.train(training_features)\n",
    "```\n",
    "\n",
    "**test** (no `pca.fit`, use the same PCs as train data)\n",
    "```\n",
    "pca.transform(test_features)\n",
    "svc.predict(test_features)\n",
    "```\n",
    "\n",
    "## K-fold cross validation\n",
    "\n",
    "* Problems with splitting into training and testing data;\n",
    "* Partition the data set into k bins of equal size;\n",
    "* Run k separate learning experiments (run multiple times, k=10);\n",
    "    * Pick one of those k subsets as testing data;\n",
    "    * The remaining k minus one bins are put together into the training set.\n",
    "    \n",
    "Pick testing set > train > test on testing set\n",
    "\n",
    "Average test result from those k experiments\n",
    "\n",
    "**train/test**: min training time;\n",
    "\n",
    "**10-fold c.v.**: min run time, max accuracy.\n",
    "\n",
    "* [K-fold on sklearn](https://scikit-learn.org/stable/modules/generated/sklearn.model_selection.KFold.html);\n",
    "* Split the data into a number of data sets wanted;\n",
    "* It returns two lists, the first is all the indices from data points to use as training set. The second is the indice list of data points to use in the test data set;\n",
    "* Shuffle can be used by adding the argument `shuffle=True`.\n",
    "\n",
    "## GridSearchCV\n",
    "\n",
    "Analize multiple combinations of parameters to determine the best performance\n",
    "\n",
    "* [GridSearchCV from sklearn](https://scikit-learn.org/stable/modules/generated/sklearn.model_selection.GridSearchCV.html)"
   ]
  },
  {
   "cell_type": "code",
   "execution_count": 1,
   "metadata": {},
   "outputs": [],
   "source": [
    "from sklearn import svm, datasets\n",
    "from sklearn.model_selection import GridSearchCV\n",
    "\n",
    "iris = datasets.load_iris()"
   ]
  },
  {
   "cell_type": "code",
   "execution_count": 3,
   "metadata": {},
   "outputs": [
    {
     "data": {
      "text/plain": [
       "GridSearchCV(cv=5, error_score='raise-deprecating',\n",
       "       estimator=SVC(C=1.0, cache_size=200, class_weight=None, coef0=0.0,\n",
       "  decision_function_shape='ovr', degree=3, gamma='scale', kernel='rbf',\n",
       "  max_iter=-1, probability=False, random_state=None, shrinking=True,\n",
       "  tol=0.001, verbose=False),\n",
       "       fit_params=None, iid='warn', n_jobs=None,\n",
       "       param_grid={'kernel': ('linear', 'rbf'), 'C': [1, 10]},\n",
       "       pre_dispatch='2*n_jobs', refit=True, return_train_score='warn',\n",
       "       scoring=None, verbose=0)"
      ]
     },
     "execution_count": 3,
     "metadata": {},
     "output_type": "execute_result"
    }
   ],
   "source": [
    "parameters = {'kernel':('linear', 'rbf'), 'C':[1, 10]}\n",
    "svr = svm.SVC(gamma='scale')\n",
    "clf = GridSearchCV(svr, parameters, cv=5)\n",
    "clf.fit(iris.data, iris.target)"
   ]
  },
  {
   "cell_type": "code",
   "execution_count": 5,
   "metadata": {},
   "outputs": [
    {
     "data": {
      "text/plain": [
       "{'C': 1, 'kernel': 'linear'}"
      ]
     },
     "execution_count": 5,
     "metadata": {},
     "output_type": "execute_result"
    }
   ],
   "source": [
    "clf.best_params_"
   ]
  },
  {
   "cell_type": "code",
   "execution_count": null,
   "metadata": {},
   "outputs": [],
   "source": []
  }
 ],
 "metadata": {
  "kernelspec": {
   "display_name": "Python 2",
   "language": "python",
   "name": "python2"
  },
  "language_info": {
   "codemirror_mode": {
    "name": "ipython",
    "version": 2
   },
   "file_extension": ".py",
   "mimetype": "text/x-python",
   "name": "python",
   "nbconvert_exporter": "python",
   "pygments_lexer": "ipython2",
   "version": "2.7.15"
  }
 },
 "nbformat": 4,
 "nbformat_minor": 2
}
