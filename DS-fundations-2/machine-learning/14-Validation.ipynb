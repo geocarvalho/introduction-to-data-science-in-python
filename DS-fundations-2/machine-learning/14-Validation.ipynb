{
 "cells": [
  {
   "cell_type": "markdown",
   "metadata": {},
   "source": [
    "## Review: Why use training and testing data?\n",
    "\n",
    "* Gives estimate of performance on an independent dataset;\n",
    "* Serves as check on overfitting;\n",
    "\n",
    "## Splitting data between training and test data\n",
    "\n",
    "* [sklearn cross validation](https://scikit-learn.org/stable/modules/cross_validation.html)"
   ]
  },
  {
   "cell_type": "code",
   "execution_count": 10,
   "metadata": {},
   "outputs": [
    {
     "data": {
      "text/plain": [
       "((150, 4), (150,))"
      ]
     },
     "execution_count": 10,
     "metadata": {},
     "output_type": "execute_result"
    }
   ],
   "source": [
    "import numpy as np\n",
    "from sklearn.model_selection import train_test_split\n",
    "from sklearn import datasets\n",
    "from sklearn.svm import SVC\n",
    "\n",
    "iris = datasets.load_iris()\n",
    "iris.data.shape, iris.target.shape"
   ]
  },
  {
   "cell_type": "code",
   "execution_count": 11,
   "metadata": {},
   "outputs": [
    {
     "data": {
      "text/plain": [
       "((90, 4), (60, 4), (90,), (60,))"
      ]
     },
     "execution_count": 11,
     "metadata": {},
     "output_type": "execute_result"
    }
   ],
   "source": [
    "features_train, features_test, labels_train, labels_test = \\\n",
    "train_test_split(iris.data, iris.target, test_size=0.4, \\\n",
    "                 random_state=0)\n",
    "features_train.shape, features_test.shape, \\\n",
    "labels_train.shape, labels_test.shape"
   ]
  },
  {
   "cell_type": "code",
   "execution_count": 12,
   "metadata": {},
   "outputs": [
    {
     "name": "stdout",
     "output_type": "stream",
     "text": [
      "0.9666666666666667\n"
     ]
    }
   ],
   "source": [
    "clf = SVC(kernel=\"linear\", C=1.)\n",
    "clf.fit(features_train, labels_train)\n",
    "\n",
    "print(clf.score(features_test, labels_test))"
   ]
  },
  {
   "cell_type": "markdown",
   "metadata": {},
   "source": [
    "## Training, transforms, predicting\n",
    "\n",
    "train/test split (training_features, test_features) > PCA (`pca.fit`, `pca.transform`) > SVM (`svc.fit`, `svc.predict`)\n",
    "\n",
    "**train**\n",
    "```\n",
    "pca.fit(training_features)\n",
    "pca.transform(training_features)\n",
    "svc.train(training_features)\n",
    "```\n",
    "\n",
    "**test** (no `pca.fit`, use the same PCs as train data)\n",
    "```\n",
    "pca.transform(test_features)\n",
    "svc.predict(test_features)\n",
    "```\n",
    "\n",
    "## K-fold cross validation\n",
    "\n",
    "* Problems with splitting into training and testing data;\n",
    "* Partition the data set into k bins of equal size;\n",
    "* Run k separate learning experiments (run multiple times, k=10);\n",
    "    * Pick one of those k subsets as testing data;\n",
    "    * The remaining k minus one bins are put together into the training set.\n",
    "    \n",
    "Pick testing set > train > test on testing set\n",
    "\n",
    "Average test result from those k experiments\n",
    "\n",
    "**train/test**: min training time;\n",
    "**10-fold c.v.**: min run time, max accuracy."
   ]
  },
  {
   "cell_type": "code",
   "execution_count": null,
   "metadata": {},
   "outputs": [],
   "source": []
  }
 ],
 "metadata": {
  "kernelspec": {
   "display_name": "Python 3",
   "language": "python",
   "name": "python3"
  },
  "language_info": {
   "codemirror_mode": {
    "name": "ipython",
    "version": 3
   },
   "file_extension": ".py",
   "mimetype": "text/x-python",
   "name": "python",
   "nbconvert_exporter": "python",
   "pygments_lexer": "ipython3",
   "version": "3.6.5"
  }
 },
 "nbformat": 4,
 "nbformat_minor": 2
}
