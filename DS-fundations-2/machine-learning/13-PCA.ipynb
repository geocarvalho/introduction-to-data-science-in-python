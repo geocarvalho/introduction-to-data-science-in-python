{
 "cells": [
  {
   "cell_type": "markdown",
   "metadata": {},
   "source": [
    "## Principal component analysis (PCA)\n",
    "\n",
    "* Used in data analysis including feature compression;\n",
    "* If your given data of any shape whatsoever, PCA finds a new coordinate system that's obtained from the old one by translation and rotation only;\n",
    "* It moves the center of the coordinate system with the center of the data, it moves the x-axis into the principal axis of variation, where it has the most variation relative to all the data points, and it moves further axis down the road into a orthogonal less important directions of variation;\n",
    "* It alson tells how important these axes are;\n",
    "* The data don't need to be 1D perfectly to calculate the new center;\n",
    "* Major axis ($\\delta{x}$) and minus axis ($\\delta{y}$)\n",
    "\n",
    "## Measurable vs. Latent features\n",
    "\n",
    "Given the features of a house, what is its price?\n",
    "* Regression exercise because the output that we expect to get is going to be continuous (price)\n",
    "* **Measurable**: square footage, number of rooms, school ranking, neighborhood safety.\n",
    "* **Latent** (variables that you can't measure directly, but indirectly is possible): Size (can use square footage and number of rooms), neighborhood \n",
    "\n",
    "## Preserving information\n",
    "\n",
    "How best to condense our 4 features to 2, so that we really get to the heart of the information?\n",
    "\n",
    "* `SelectkBest`: Specify the number of features (k) to keep.\n",
    "* `SelectPercentile`: Selects the top x percent where you're allowed to specify the percentage of features that you want to keep;\n",
    "* Many features, but I hypothesize a smaller number of features actually during the patterns;\n",
    "* Try making a **composite feature** (principle component) that more directly probes the underlying phenomenon;\n",
    "* Example:\n",
    "> square footage + number of rooms > size\n",
    "\n",
    "* The principal component can looks like a regression but it's not, because it doesn't try to predict anything just come up with a direction in the data that can be projected onto while losing a minimal amount of information;\n",
    "* With the principal component found (the line direction), use **projection** to create a one dimensional distribution (lying and flat).\n",
    "\n",
    "## Maximal variance\n",
    "\n",
    "How to determine the principal component\n",
    "* **variance** (technical term in statistics): Roughly the \"spread\" of a data distribution (similar to standard deviation)\n",
    "* The longer line is going to be the direction of maximum variance;\n",
    "* The principal component of a dataset is the direction that has the largest variance because it retains the maximum amount of information in original data.\n",
    "\n",
    "## Maximal variance and information loss\n",
    "\n",
    "* Projection onto direction of maximal variance minimizes distance from old (higher - dimensional) data point to its new transformed value (minimizes information loss)\n",
    "\n",
    "## PCA as a general algorithm for feature transformation\n",
    "\n",
    "* Put all features into PCA, so it can automatically combine them into new features and rank the relative powers of those nre features;\n",
    "* The max number of PCs (principal components) is `min(n_features, n_data_points)` in sklearn;\n",
    "\n",
    "## Review/definition of PCA\n",
    "\n",
    "* Systematized way to transform input features into principal components;\n",
    "* Use the principal components as new features;\n",
    "* PCs are directions in data that maximize variance (minimize information loss) when the project/compress down onto them;\n",
    "* More variance of data along a PC, higher that PC is ranked;\n",
    "* First PC = most variance/ most information; second PC = second-most variance (without overlapping with first PC, independent features);\n",
    "* The max number of PCs is the number of input features;\n"
   ]
  },
  {
   "cell_type": "code",
   "execution_count": 1,
   "metadata": {},
   "outputs": [
    {
     "ename": "TypeError",
     "evalue": "doPCA() takes exactly 1 argument (0 given)",
     "output_type": "error",
     "traceback": [
      "\u001b[0;31m--------------------------------------------------------------------------\u001b[0m",
      "\u001b[0;31mTypeError\u001b[0m                                Traceback (most recent call last)",
      "\u001b[0;32m<ipython-input-1-25d7b0600801>\u001b[0m in \u001b[0;36m<module>\u001b[0;34m()\u001b[0m\n\u001b[1;32m      6\u001b[0m     \u001b[0;32mreturn\u001b[0m \u001b[0mpca\u001b[0m\u001b[0;34m\u001b[0m\u001b[0m\n\u001b[1;32m      7\u001b[0m \u001b[0;34m\u001b[0m\u001b[0m\n\u001b[0;32m----> 8\u001b[0;31m \u001b[0mpca\u001b[0m \u001b[0;34m=\u001b[0m \u001b[0mdoPCA\u001b[0m\u001b[0;34m(\u001b[0m\u001b[0;34m)\u001b[0m\u001b[0;34m\u001b[0m\u001b[0m\n\u001b[0m\u001b[1;32m      9\u001b[0m \u001b[0;32mprint\u001b[0m\u001b[0;34m(\u001b[0m\u001b[0mpca\u001b[0m\u001b[0;34m.\u001b[0m\u001b[0mexplainde_variance_ratio_\u001b[0m\u001b[0;34m)\u001b[0m\u001b[0;34m\u001b[0m\u001b[0m\n\u001b[1;32m     10\u001b[0m \u001b[0mfirst_pc\u001b[0m \u001b[0;34m=\u001b[0m \u001b[0mpca\u001b[0m\u001b[0;34m.\u001b[0m\u001b[0mcomponents_\u001b[0m\u001b[0;34m[\u001b[0m\u001b[0;36m0\u001b[0m\u001b[0;34m]\u001b[0m\u001b[0;34m\u001b[0m\u001b[0m\n",
      "\u001b[0;31mTypeError\u001b[0m: doPCA() takes exactly 1 argument (0 given)"
     ]
    }
   ],
   "source": [
    "from sklearn.decomposition import PCA\n",
    "\n",
    "def doPCA(data):\n",
    "    pca = PCA(n_components=2)\n",
    "    pca.fit(data)\n",
    "    return pca\n",
    "\n",
    "pca = doPCA()\n",
    "print(pca.explainde_variance_ratio_)\n",
    "first_pc = pca.components_[0]\n",
    "second_pc = pca.components_[1]\n",
    "\n",
    "franformed_data = pca.transform(data)\n",
    "for ii, jj in zip(transformed_data, data):\n",
    "    plt.scatter(first_pc[0]*ii[0], first_pc[1]*ii[0], color='r')\n",
    "    plt.scatter(second_pc[0]**ii[1], second_pc[1]**ii[1], color='c')\n",
    "    plt.scatter(jj[0], jj[1], color='b')\n",
    "    \n",
    "plt.xlabel('bonus')\n",
    "plt.ylabel('long-term incetive')\n",
    "plt.show()"
   ]
  },
  {
   "cell_type": "markdown",
   "metadata": {},
   "source": [
    "## PCA for facial recognition\n",
    "\n",
    "What makes facial recognition in pictures good for PCA?\n",
    "* Pictures of faces generally have high input dimensionality (many pixels);\n",
    "* Faces have general patterns that could be captured in smaller number of dimentsions (two eyes on top, mouth/ chin on botton, etc);\n",
    "\n",
    "## Eigenfaces code"
   ]
  },
  {
   "cell_type": "code",
   "execution_count": null,
   "metadata": {},
   "outputs": [],
   "source": [
    "# Import data before\n",
    "pca = RandomizedPCA(n_components=n_components, whiten=True).fit(X_train)\n",
    "eigenfaces = pca.components_.reshape((n_components, h, w))\n",
    "X_train_pca = pca.transform(X_train)\n",
    "X_test_pca = pca.transform(X_test)\n",
    "\n",
    "# Train a SVM\n",
    "paran_grid = {\n",
    "    'C': [1e3, 5e3, 1e4, 5e4, 1e5],\n",
    "    'gamma': [0.0001, 0.0005, 0.001, 0.005, 0.01, 0.1]\n",
    "    }\n",
    "clf = GridSearchCV(SVC(kernel='rbf', class_weight='auro'), paran_grid)\n",
    "clf = clf.fit(X_train_pca, y_train)\n",
    "clf.best_estimator_\n",
    "y_pred = clf.predict(x_test_pca)"
   ]
  },
  {
   "cell_type": "markdown",
   "metadata": {},
   "source": [
    "Add more PCs as features for training your classifier, do you expect it to get better or worse performance?\n",
    "* Ideally, we hope that adding more components will give us more signal information to improve the classifier performance.\n",
    "\n",
    "Do you see any evidence of overfitting when using a large number of PCs?\n",
    "* Yes, performance (F1 score) starts to drop with many PCs.\n",
    "\n",
    "Selecting a number of principal components\n",
    "* Train on different number of PCs, and see how accuracy responds - cut off when it becomes apperant that adding more PCs doesn't buy you much more discrimination;\n",
    "* It can be done by plain old feature selection as welll. Take all features in order of importance and add them one at a time and see how the accuracy responds, and cut off when ig seems like it's plateauing;\n",
    "* Be careful about throwing out information before you peform PCA"
   ]
  },
  {
   "cell_type": "code",
   "execution_count": null,
   "metadata": {},
   "outputs": [],
   "source": []
  }
 ],
 "metadata": {
  "kernelspec": {
   "display_name": "Python 2",
   "language": "python",
   "name": "python2"
  },
  "language_info": {
   "codemirror_mode": {
    "name": "ipython",
    "version": 2
   },
   "file_extension": ".py",
   "mimetype": "text/x-python",
   "name": "python",
   "nbconvert_exporter": "python",
   "pygments_lexer": "ipython2",
   "version": "2.7.15"
  }
 },
 "nbformat": 4,
 "nbformat_minor": 2
}
