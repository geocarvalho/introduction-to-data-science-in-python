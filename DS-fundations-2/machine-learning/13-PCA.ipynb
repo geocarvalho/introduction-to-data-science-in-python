{
 "cells": [
  {
   "cell_type": "markdown",
   "metadata": {},
   "source": [
    "## Principal component analysis (PCA)\n",
    "\n",
    "* Used in data analysis including feature compression;\n",
    "* If your given data of any shape whatsoever, PCA finds a new coordinate system that's obtained from the old one by translation and rotation only;\n",
    "* It moves the center of the coordinate system with the center of the data, it moves the x-axis into the principal axis of variation, where it has the most variation relative to all the data points, and it moves further axis down the road into a orthogonal less important directions of variation;\n",
    "* It alson tells how important these axes are;\n",
    "* The data don't need to be 1D perfectly to calculate the new center;\n",
    "* Major axis ($\\delta{x}$) and minus axis ($\\delta{y}$)\n",
    "\n",
    "## Measurable vs. Latent features\n",
    "\n",
    "Given the features of a house, what is its price?\n",
    "* Regression exercise because the output that we expect to get is going to be continuous (price)\n",
    "* **Measurable**: square footage, number of rooms, school ranking, neighborhood safety.\n",
    "* **Latent** (variables that you can't measure directly, but indirectly is possible): Size (can use square footage and number of rooms), neighborhood \n",
    "\n",
    "## Preserving information\n",
    "\n",
    "How best to condense our 4 features to 2, so that we really get to the heart of the information?\n",
    "\n",
    "* `SelectkBest`: Specify the number of features (k) to keep.\n",
    "* `SelectPercentile`: Selects the top x percent where you're allowed to specify the percentage of features that you want to keep;\n",
    "* Many features, but I hypothesize a smaller number of features actually during the patterns;\n",
    "* Try making a **composite feature** (principle component) that more directly probes the underlying phenomenon;\n",
    "* Example:\n",
    "> square footage + number of rooms > size\n",
    "\n",
    "* The principal component can looks like a regression but it's not, because it doesn't try to predict anything just come up with a direction in the data that can be projected onto while losing a minimal amount of information;\n",
    "* With the principal component found (the line direction), use **projection** to create a one dimensional distribution (lying and flat).\n",
    "\n",
    "## Maximal variance\n",
    "\n",
    "How to determine the principal component\n",
    "* **variance** (technical term in statistics): Roughly the \"spread\" of a data distribution (similar to standard deviation)\n",
    "* The longer line is going to be the direction of maximum variance;\n",
    "* The principal component of a dataset is the direction that has the largest variance because it retains the maximum amount of information in original data.\n",
    "\n",
    "## Maximal variance and information loss\n",
    "\n",
    "* Projection onto direction of maximal variance minimizes distance from old (higher - dimensional) data point to its new transformed value (minimizes information loss)\n",
    "\n",
    "## PCA as a general algorithm for feature transformation"
   ]
  },
  {
   "cell_type": "code",
   "execution_count": null,
   "metadata": {},
   "outputs": [],
   "source": []
  }
 ],
 "metadata": {
  "kernelspec": {
   "display_name": "Python 3",
   "language": "python",
   "name": "python3"
  },
  "language_info": {
   "codemirror_mode": {
    "name": "ipython",
    "version": 3
   },
   "file_extension": ".py",
   "mimetype": "text/x-python",
   "name": "python",
   "nbconvert_exporter": "python",
   "pygments_lexer": "ipython3",
   "version": "3.6.5"
  }
 },
 "nbformat": 4,
 "nbformat_minor": 2
}
