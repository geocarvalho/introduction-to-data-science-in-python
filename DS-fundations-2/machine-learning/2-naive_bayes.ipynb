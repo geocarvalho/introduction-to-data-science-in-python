{
 "cells": [
  {
   "cell_type": "markdown",
   "metadata": {},
   "source": [
    "## Feature and labels musical example\n",
    "\n",
    "* Features: intensity, tempo, genre, gender of the voice\n",
    "* Labels: like, don't like\n",
    "\n",
    "## Cancer test\n",
    "$P(c)$ = 0.01\n",
    "* 90% it's **positive** if you have C (*sensitivity*);\n",
    "* 90% it's **negative** if you don't have C (*specitivity*)\n",
    "* test = positve\n",
    "* Probability of having cancer?\n",
    "\n",
    "## Bayes rule\n",
    "Prior probability * test evidence = posterior \n",
    "\n",
    "**prior**:\n",
    "* $P(C)$=0.01; $P(¬C)$=0.99;\n",
    "* $P(+|C)$=0.9; $P(-|C)$=0.1;\n",
    "* $P(-|¬C)$=0.9; $P(+|¬C)$=0.1;\n",
    "\n",
    "**joint posterior**:\n",
    "\n",
    "$P(C,+)=P(C)*P(+|C)$ this is the branch for the consideration that you have cancer (cancer hypothesis)\n",
    "\n",
    "$P(¬C,+)=P(¬C)*P(+|¬C)$ this is the branch for the consideration that you have no cancer (no cancer hypothesis)\n",
    "\n",
    "**normalizes**:\n",
    "\n",
    "$P(+)=P(C,+)+P(¬C,+)$ the total probability that the test is positive\n",
    "\n",
    "**extra posterior**:\n",
    "\n",
    "$P(C|+)=P(C,+)/P(+)$\n",
    "\n",
    "$P(¬C|Pos)=P(¬C,+)/P(+)$"
   ]
  },
  {
   "cell_type": "code",
   "execution_count": 2,
   "metadata": {},
   "outputs": [
    {
     "data": {
      "text/plain": [
       "(0.009000000000000001, 0.099)"
      ]
     },
     "execution_count": 2,
     "metadata": {},
     "output_type": "execute_result"
    }
   ],
   "source": [
    "c=0.01\n",
    "n_c=0.99\n",
    "pos_c=0.9\n",
    "neg_c=0.1\n",
    "neg_n_c=0.9\n",
    "pos_n_c=0.1\n",
    "c_pos=c*pos_c\n",
    "n_c_pos=n_c*pos_n_c\n",
    "c_pos, n_c_pos"
   ]
  },
  {
   "cell_type": "code",
   "execution_count": 4,
   "metadata": {},
   "outputs": [
    {
     "data": {
      "text/plain": [
       "0.10800000000000001"
      ]
     },
     "execution_count": 4,
     "metadata": {},
     "output_type": "execute_result"
    }
   ],
   "source": [
    "pos = c_pos+n_c_pos\n",
    "pos"
   ]
  },
  {
   "cell_type": "code",
   "execution_count": 8,
   "metadata": {},
   "outputs": [],
   "source": [
    "p_c_pos = c_pos/pos"
   ]
  },
  {
   "cell_type": "code",
   "execution_count": 9,
   "metadata": {},
   "outputs": [],
   "source": [
    "p_n_c_pos = n_c_pos/pos"
   ]
  },
  {
   "cell_type": "code",
   "execution_count": 10,
   "metadata": {},
   "outputs": [
    {
     "data": {
      "text/plain": [
       "1.0"
      ]
     },
     "execution_count": 10,
     "metadata": {},
     "output_type": "execute_result"
    }
   ],
   "source": [
    "p_c_pos + p_n_c_pos"
   ]
  },
  {
   "cell_type": "markdown",
   "metadata": {},
   "source": [
    "## Bayes rule for classification\n",
    "Text learning\n",
    "* P(Chris) = 0.5\n",
    "> love=0.1; deal=0.8; life=0.1\n",
    "* P(Sara) = 0.5\n",
    "> love=0.3; deal=0.2; life=0.3\n",
    "\n",
    "love life\n",
    "\n",
    "life deal"
   ]
  },
  {
   "cell_type": "code",
   "execution_count": 15,
   "metadata": {},
   "outputs": [],
   "source": [
    "chris,sara=[0.5, 0.5]\n",
    "love_c,deal_c,life_c = [0.1, 0.8, 0.1]\n",
    "love_s,deal_s,life_s = [0.5, 0.2, 0.3]"
   ]
  },
  {
   "cell_type": "code",
   "execution_count": 16,
   "metadata": {},
   "outputs": [
    {
     "data": {
      "text/plain": [
       "(0.005000000000000001, 0.075)"
      ]
     },
     "execution_count": 16,
     "metadata": {},
     "output_type": "execute_result"
    }
   ],
   "source": [
    "# love life\n",
    "c1 = love_c*life_c*chris\n",
    "s1 = love_s*life_s*sara\n",
    "c1, s1"
   ]
  },
  {
   "cell_type": "code",
   "execution_count": 17,
   "metadata": {},
   "outputs": [
    {
     "data": {
      "text/plain": [
       "(0.04000000000000001, 0.03)"
      ]
     },
     "execution_count": 17,
     "metadata": {},
     "output_type": "execute_result"
    }
   ],
   "source": [
    "# life deal\n",
    "c2 = life_c*deal_c*chris\n",
    "s2 = life_s*deal_s*sara\n",
    "c2, s2"
   ]
  },
  {
   "cell_type": "code",
   "execution_count": 20,
   "metadata": {},
   "outputs": [
    {
     "data": {
      "text/plain": [
       "(0.5714285714285715, 0.4285714285714285)"
      ]
     },
     "execution_count": 20,
     "metadata": {},
     "output_type": "execute_result"
    }
   ],
   "source": [
    "# Posterior probability of Chris and Sara for \"life deal\"\n",
    "c_ld = c2/(c2+s2)\n",
    "s_ld = s2/(c2+s2)\n",
    "c_ld, s_ld"
   ]
  },
  {
   "cell_type": "code",
   "execution_count": 21,
   "metadata": {},
   "outputs": [
    {
     "data": {
      "text/plain": [
       "(0.4444444444444445, 0.5555555555555555)"
      ]
     },
     "execution_count": 21,
     "metadata": {},
     "output_type": "execute_result"
    }
   ],
   "source": [
    "# love deal\n",
    "c3 = love_c*deal_c*chris\n",
    "s3 = love_s*deal_s*sara\n",
    "c_lvd = c3/(c3+s3)\n",
    "s_lvd = s3/(c3+s3)\n",
    "c_lvd, s_lvd"
   ]
  },
  {
   "cell_type": "markdown",
   "metadata": {},
   "source": [
    "## Why is naive bayes naive?\n",
    "Let's you identify from text source wheter a label is more likely than other, but it ignores words order (just the frequencies).\n",
    "\n",
    "Result from script:\n",
    "\n",
    "> no. of Chris training emails: 7936\n",
    "\n",
    "> no. of Sara training emails: 7884\n",
    "\n",
    "> ('tempo de treinamento:', 0.957, 's')\n",
    "\n",
    "> ('tempo de predicao:', 0.108, 's')\n",
    "\n",
    "> 0.9732650739476678\n"
   ]
  },
  {
   "cell_type": "code",
   "execution_count": null,
   "metadata": {},
   "outputs": [],
   "source": []
  }
 ],
 "metadata": {
  "kernelspec": {
   "display_name": "Python 2",
   "language": "python",
   "name": "python2"
  },
  "language_info": {
   "codemirror_mode": {
    "name": "ipython",
    "version": 2
   },
   "file_extension": ".py",
   "mimetype": "text/x-python",
   "name": "python",
   "nbconvert_exporter": "python",
   "pygments_lexer": "ipython2",
   "version": "2.7.15"
  }
 },
 "nbformat": 4,
 "nbformat_minor": 2
}
