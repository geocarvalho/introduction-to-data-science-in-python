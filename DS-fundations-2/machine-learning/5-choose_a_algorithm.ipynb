{
 "cells": [
  {
   "cell_type": "markdown",
   "metadata": {},
   "source": [
    "## Choose between\n",
    "* knn - k nearest neighbors: Classic, simple, easy to understand;\n",
    "* random forest: An ensemble method (meta classifier built usually from decision trees\n",
    "* adaboost - boosted decision tree: An ensemble method\n",
    "\n",
    "Open the script and write on it `choose_your_own/your_algorithm.py`\n",
    "\n",
    "1. Reasearch to understand;\n",
    "2. Find sklearn documentation;\n",
    "3. Deploy it;\n",
    "4. Make predictions;\n",
    "5. Evaluate accuracy.\n",
    "\n",
    "Using RF\n",
    "* [sklearn.ensemble.RandomForestClassifier](https://scikit-learn.org/stable/modules/generated/sklearn.ensemble.RandomForestClassifier.html)\n",
    "* [Tips](https://stackoverflow.com/questions/36107820/how-to-tune-parameters-in-random-forest-using-scikit-learn)\n"
   ]
  },
  {
   "cell_type": "code",
   "execution_count": null,
   "metadata": {},
   "outputs": [],
   "source": []
  }
 ],
 "metadata": {
  "kernelspec": {
   "display_name": "Python 2",
   "language": "python",
   "name": "python2"
  },
  "language_info": {
   "codemirror_mode": {
    "name": "ipython",
    "version": 2
   },
   "file_extension": ".py",
   "mimetype": "text/x-python",
   "name": "python",
   "nbconvert_exporter": "python",
   "pygments_lexer": "ipython2",
   "version": "2.7.15"
  }
 },
 "nbformat": 4,
 "nbformat_minor": 2
}
