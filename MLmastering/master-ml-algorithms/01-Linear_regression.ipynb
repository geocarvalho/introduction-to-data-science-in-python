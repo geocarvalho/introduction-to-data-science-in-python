{
 "cells": [
  {
   "cell_type": "markdown",
   "metadata": {},
   "source": [
    "### Anotações sobre o livro *Master Machine Learning Algoritms* versão 2017 ([link aqui](https://machinelearningmastery.com/master-machine-learning-algorithms/))\n",
    "\n",
    "# Capítulo 10 - Regressão linear\n",
    "\n",
    "* Regressão linear é um dos algoritmos mais estudados e entendidos em estatística e aprendizado de máquina.\n",
    "* Regressão linear foi desenvolvida dentro de estatística e estudado como um modelo para entender a relação entre variáveis numéricas de entrada (input) e de saida (output).\n",
    "* Regressão linear é um modelo linear, assume uma relação linear entre as variáveis de *input* ($x$) e de *outputs* ($y$). Mais específico, que $y$ pode ser calculado por uma combinação linear de *inputs* ($x$).\n",
    "* Quando existe penas uma variável ($x$), o método é referido como **regressão linear simples** e quando há múltiplas variáveis de input, é referido como **regressão linear múltipla**.\n",
    "* Diferentes técnicas podem ser usadas para treinar a equação de regressão linear dos dados, sendo o mais comum chamado *Ordinary Least Squares*. É comum se referir ao modelo preparado por essa metodologia como *Ordinary Least Squares Linear Regression* ou somente *Least Squares Regression*.\n",
    "\n",
    "## Representação\n",
    "\n",
    "$y = \\beta0 + \\beta1 \\times x$\n",
    "\n",
    "* A equação linear atribui um fator de escala para cada valor/coluna, chamado coeficiente ($\\beta$)\n",
    "* Outro coeficiente é o *intercept* ou coeficiente de viés que dá a linha um certo grau de liberdade (ex.: movendo para cima ou para baixo no gráfico bi-dimensional).\n",
    "* Em altas dimensões nós temos mais de um *input* ($x$), sendo a linha chamada de plano ou hiper-plano.\n",
    "* Quando o coeficiente de viés ($\\beta1$) é zero ele remove a influência do da variável de entrada do modelo e assim da predição feita pelo modelo ($0 \\times x = 0$). Isso se torna relevante se olhar para os métodos de **regularização** que mudam o algoritmo de aprendizado para reduzir a complexidade do modelo de regressão botando pressão no tamanho absoluto dos coeficientes, direcionando algum para zero.\n",
    "\n",
    "## Modelos\n",
    "\n",
    "* Aprender um modelos de regressão linear significa estimar os valores dos coeficientes usados na representação com os dados disponíveis.\n",
    "* Existem diversas técnincas, segue alguns exemplos:\n",
    "\n",
    "### 1. Regressão linear simples\n",
    "\n",
    "* Com regressão linear simples quando tempos um dado de entrada simples podemos usar estatística para estimar os coeficientes. Assim é preciso calcular algumas propriedades estatísticas como média, desvios padrões, correlações e covariações. Além disso, todo o dado precisa estar disponível para examinar e calcular estatísticas.\n",
    "\n",
    "### 2. *Ordinary Least Squares* (mais usado)\n",
    "\n",
    "* Nós usamos quando temos mais de uma variável de entrada. Esse método procura minimizar a soma dos quadrados dos resíduos.\n",
    "* Isso significa que dados uma linha de regressão sobre os dados nós calculamos a distância de cada ponto para a linha de regressão, eleva ao quadrado e soma todos eles (erros ao quadrado).\n",
    "* Esse método trata os dados como uma matrix e usa operações de algebra linear para estimar os valores ótimos para os coeficientes. Então é preciso que todo o dado esteja disponível e que tenha memória suficiente para ajustar os dados e realizar as operações sobre a matrix.\n",
    "\n",
    "## *Gradient Descent*\n",
    "\n",
    "* Quando se tem um ou mais dados de entrada você pode usar um processo de otimização dos valores de coeficiente, para isso se itera minimizando o erro do modelo nos dados de treinamento.\n",
    "* Isso se chama *Gradient Descent* e funciona começando com cada coeficiente valendo zero. A soma dos erros ao quadrado é calculado para cada dado de entrada e de saída. Uma *taxa de aprendizado* (fixada) é usada como um fator escalar e os coeficientes são atualizados em direção de diminuir o erro. Esse processo é repetido ate que se minimize a soma dos erros ou caso não se obtenha mais melhoras desses valores.\n",
    "* Na prática é útil quando se tem grandes dados que não caibam na memória.\n",
    "\n",
    "### 1. Regressão linear regularizada\n",
    "\n",
    "* Existem extensões do treinamento de modelos lineares chamados de métodos de regularização.\n",
    "* Esses tentam tanto minimizar a soma dos erros ao quadrado do modelo nos dados de treinamento (usando *Ordinary Least Squares*) mas também diminuir a complexidade do modelo (como um número ou tamanho absoluto da soma de todos os coeficientes no modelo).\n",
    "* Dois exemplos são:\n",
    "\n",
    "#### a) Regressão de Lasso (L1):\n",
    "> Onde o *Ordinary Least Squares* é modificado para também minimizar a soma absoluta dos coeficientes.\n",
    "\n",
    "#### b) Regressão de Ridge (L2):\n",
    "> Onde o *Ordinary Least Squares* é modificado para também minimizar o quadrado da soma absoluta dos coeficientes.\n",
    "\n",
    "* Esses métodos são eficazes quando há colinearidade nos seus daddos e o *Ordinary Least Squares* poderia ter *overfit* nos dados de treinamento.\n",
    "\n",
    "## Fazendo predição com regressão linear\n",
    "\n",
    "* Imagine que estamos predizendo peso ($y$) a partir da altura ($x$).\n",
    "\n",
    "$peso = \\beta0 + \\beta1 \\times altura$\n",
    "\n",
    "> One $\\beta0$ é o coeficiente de viés e $\\beta1$ é o coeficiente dos dados de altura.\n",
    "\n",
    "* Nós usamos uma **técnica de aprendizado** para encontrar os valores de coeficiente. Uma vez encontrado, o peso pode ser calculado para uma determinada altura. Por exemplo:"
   ]
  },
  {
   "cell_type": "code",
   "execution_count": 1,
   "metadata": {},
   "outputs": [
    {
     "data": {
      "text/plain": [
       "91.1"
      ]
     },
     "execution_count": 1,
     "metadata": {},
     "output_type": "execute_result"
    }
   ],
   "source": [
    "def lr(beta0, beta1, x):\n",
    "    ''' Formula para regressao linear'''\n",
    "    y = beta0 + beta1 * x\n",
    "    return y\n",
    "\n",
    "beta0 = 0.1\n",
    "beta1 = 0.5\n",
    "alt = 182\n",
    "peso = lr(beta0, beta1, alt)\n",
    "peso"
   ]
  },
  {
   "cell_type": "markdown",
   "metadata": {},
   "source": [
    "* Podemos ver que o resultado da equação pode ser mostrado num gráfico bi-dimensional. Vamos calcular para uma altura entre 100 e 250 cm e criar uma linha com o resultado dos pesos."
   ]
  },
  {
   "cell_type": "code",
   "execution_count": 2,
   "metadata": {},
   "outputs": [
    {
     "data": {
      "text/plain": [
       "[50.1,\n",
       " 55.1,\n",
       " 60.1,\n",
       " 65.1,\n",
       " 75.1,\n",
       " 80.1,\n",
       " 85.1,\n",
       " 92.6,\n",
       " 96.1,\n",
       " 100.1,\n",
       " 110.1,\n",
       " 115.1,\n",
       " 120.1,\n",
       " 125.1]"
      ]
     },
     "execution_count": 2,
     "metadata": {},
     "output_type": "execute_result"
    }
   ],
   "source": [
    "alt_lst = [100, 110, 120, 130, 150, 160, 170, 185, 192, 200, 220, 230, 240, 250]\n",
    "pes_lst = []\n",
    "for alt in alt_lst:\n",
    "    pes_lst.append(lr(beta0, beta1, alt))\n",
    "pes_lst"
   ]
  },
  {
   "cell_type": "code",
   "execution_count": 3,
   "metadata": {},
   "outputs": [
    {
     "data": {
      "text/plain": [
       "<Figure size 640x480 with 1 Axes>"
      ]
     },
     "metadata": {},
     "output_type": "display_data"
    }
   ],
   "source": [
    "from matplotlib import pyplot as plt\n",
    "\n",
    "plt.scatter(alt_lst, pes_lst, c='r', label='dados')\n",
    "plt.plot(alt_lst, pes_lst, label='linha de regressão')\n",
    "plt.xlabel(\"Altura (cm)\")\n",
    "plt.ylabel(\"Peso (kg)\")\n",
    "plt.xlim(0, 300)\n",
    "plt.ylim(0, 140)\n",
    "plt.legend()\n",
    "plt.show()"
   ]
  },
  {
   "cell_type": "markdown",
   "metadata": {},
   "source": [
    "## Preparando dados para regressão linear\n",
    "\n",
    "* Seguem algumas dicas, tenta usar diferentes preparações e veja o que da certo para o seu problema:\n",
    "\n",
    "### 1. Suposição linear:\n",
    "> Regressão linear assumi que a relação entre os dados de entrada e saída é linear, não suportando nada além disso. Talvez vocẽ precise transformar seus dados para que a relação se torne linear (ex.: $log$ transforma numa relação exponencial)\n",
    "\n",
    "### 2. Remover ruídos:\n",
    "> Regressão linear assume que seus dados de entradas e saída não são ruídos. Considere usar operações de limpeza de dados para expor e clarear os sinaris dos seus dados.\n",
    "\n",
    "### 3. Remover colinearidade:\n",
    "> Overfit pode acontecer na regressão linear quando se tem dados de entrada com altos índices de correlação. Considere calcular correlação de pares para os seus dados de entrada e remover os mais corretalos. ([mais aqui](http://www.portalaction.com.br/analise-de-regressao/36-analise-de-colinearidade-e-multicolinearidade))\n",
    "\n",
    "### 4. Distribuições Gaussianas:\n",
    "> Regressões lineares fazer predições mais acuradas quando os dados de entrada e saída possuem uma distribuição Gaussiana. Vocẽ pode obter algum transformando (ex.: log ou BoxCox) seus dados para que aparentem mais Gaussianas ([mais aqui](http://www.portalaction.com.br/analise-de-regressao/31-diagnostico-de-normalidade)).\n",
    "\n",
    "### 5. Reescalar *inputs*:\n",
    "> Regressão linear normalmente fazem predições mais acuradas quando os dados de entrada são reescalados usando padronização ou normalização.\n",
    "\n",
    "----\n",
    "\n",
    "# Capítulo 11: Tutorial de regressão linear simples \n",
    "\n",
    "* Usando regressão linear simples"
   ]
  },
  {
   "cell_type": "code",
   "execution_count": 4,
   "metadata": {},
   "outputs": [
    {
     "data": {
      "text/html": [
       "<div>\n",
       "<style scoped>\n",
       "    .dataframe tbody tr th:only-of-type {\n",
       "        vertical-align: middle;\n",
       "    }\n",
       "\n",
       "    .dataframe tbody tr th {\n",
       "        vertical-align: top;\n",
       "    }\n",
       "\n",
       "    .dataframe thead th {\n",
       "        text-align: right;\n",
       "    }\n",
       "</style>\n",
       "<table border=\"1\" class=\"dataframe\">\n",
       "  <thead>\n",
       "    <tr style=\"text-align: right;\">\n",
       "      <th></th>\n",
       "      <th>x</th>\n",
       "      <th>y</th>\n",
       "    </tr>\n",
       "  </thead>\n",
       "  <tbody>\n",
       "    <tr>\n",
       "      <td>0</td>\n",
       "      <td>1</td>\n",
       "      <td>1</td>\n",
       "    </tr>\n",
       "    <tr>\n",
       "      <td>1</td>\n",
       "      <td>2</td>\n",
       "      <td>3</td>\n",
       "    </tr>\n",
       "    <tr>\n",
       "      <td>2</td>\n",
       "      <td>4</td>\n",
       "      <td>3</td>\n",
       "    </tr>\n",
       "    <tr>\n",
       "      <td>3</td>\n",
       "      <td>3</td>\n",
       "      <td>2</td>\n",
       "    </tr>\n",
       "    <tr>\n",
       "      <td>4</td>\n",
       "      <td>5</td>\n",
       "      <td>5</td>\n",
       "    </tr>\n",
       "  </tbody>\n",
       "</table>\n",
       "</div>"
      ],
      "text/plain": [
       "   x  y\n",
       "0  1  1\n",
       "1  2  3\n",
       "2  4  3\n",
       "3  3  2\n",
       "4  5  5"
      ]
     },
     "execution_count": 4,
     "metadata": {},
     "output_type": "execute_result"
    }
   ],
   "source": [
    "import pandas as pd\n",
    "\n",
    "x_lst = [1, 2, 4, 3, 5]\n",
    "y_lst = [1, 3, 3, 2, 5]\n",
    "df = pd.DataFrame(list(zip(x_lst, y_lst)),\n",
    "                 columns=['x', 'y'])\n",
    "df\n"
   ]
  },
  {
   "cell_type": "markdown",
   "metadata": {},
   "source": [
    "* A coluna $x$ são os dados de entrada e $y$ os de saída\n",
    "* Segue um gráfico de distribuição dos dados (scatter):"
   ]
  },
  {
   "cell_type": "code",
   "execution_count": 5,
   "metadata": {},
   "outputs": [
    {
     "data": {
      "image/png": "[encoded data removed]",
      "text/plain": [
       "<Figure size 432x288 with 1 Axes>"
      ]
     },
     "metadata": {
      "needs_background": "light"
     },
     "output_type": "display_data"
    }
   ],
   "source": [
    "plt.scatter(df['x'], df['y'], c='r', label='Dados')\n",
    "plt.xlim(0, 6)\n",
    "plt.ylim(0, 6)\n",
    "plt.legend('x versus y')\n",
    "plt.show()"
   ]
  },
  {
   "cell_type": "markdown",
   "metadata": {},
   "source": [
    "* É possível perceber uma possível relação linear entre $x$ e $y$\n",
    "\n",
    "### Regressão linear simples\n",
    "\n",
    "* Quando temos apenas um atributo de entrada ($x$), caso tivessemos múltiplos atributos ($x_1, x_2, x_3, ... , x_n$) teriamos uma *regressão múltipla*.\n",
    "\n",
    "* Usaremos a função criada anteriormente (`lr`), mas agora teremos que calcular os valores de $\\beta0$ (***intercept***) e $\\beta1$ (***slope***)\n",
    "\n",
    "> a) ***intercept*** ou **viés**, chamado assim porque ele determina onde a linha intercepta o eixo y, **viés** porque é adicionado para compensar todas as predições.\n",
    "\n",
    "> b) ***slope***, chamado assim porque define a inclinação da linha ou como $x$ se traduz em $y$ antes de adicionar o **viés**.\n",
    "\n",
    "* O objetivo é encontrar os melhores estimadores para os coeficientes minimizarem os erros na predição de $y$ dado $x$. Podemos estimar os coeficientes através de:\n",
    "\n",
    "$\\beta1 = \\frac{\\sum_{i=1}^{n}(x_i - mean(x)) \\times (y_i - mean(y))}{\\sum_{i=1}^{n}(x_i - mean(x))^2}$\n",
    "\n",
    "$\\beta0 = mean(y) - \\beta1 \\times mean(x)$"
   ]
  },
  {
   "cell_type": "code",
   "execution_count": 6,
   "metadata": {},
   "outputs": [
    {
     "name": "stdout",
     "output_type": "stream",
     "text": [
      "beta1 = 0.8\n",
      "beta0 = 0.39999999999999947\n"
     ]
    }
   ],
   "source": [
    "x_mean = df['x'].mean()\n",
    "y_mean = df['y'].mean()\n",
    "df['x_minus_mean'] = df['x'].apply(lambda x: x - x_mean)\n",
    "df['y_minus_mean'] = df['y'].apply(lambda y: y - y_mean)\n",
    "df['multiplication'] = df['x_minus_mean'] * df['y_minus_mean']\n",
    "df['squared'] = df['x_minus_mean'] ** 2\n",
    "b1 = df['multiplication'].sum() / df['squared'].sum()\n",
    "b0 = y_mean - b1 * x_mean\n",
    "print('beta1 = %s' % b1)\n",
    "print('beta0 = %s' % b0)"
   ]
  },
  {
   "cell_type": "code",
   "execution_count": 7,
   "metadata": {},
   "outputs": [
    {
     "data": {
      "text/html": [
       "<div>\n",
       "<style scoped>\n",
       "    .dataframe tbody tr th:only-of-type {\n",
       "        vertical-align: middle;\n",
       "    }\n",
       "\n",
       "    .dataframe tbody tr th {\n",
       "        vertical-align: top;\n",
       "    }\n",
       "\n",
       "    .dataframe thead th {\n",
       "        text-align: right;\n",
       "    }\n",
       "</style>\n",
       "<table border=\"1\" class=\"dataframe\">\n",
       "  <thead>\n",
       "    <tr style=\"text-align: right;\">\n",
       "      <th></th>\n",
       "      <th>x</th>\n",
       "      <th>y</th>\n",
       "      <th>x_minus_mean</th>\n",
       "      <th>y_minus_mean</th>\n",
       "      <th>multiplication</th>\n",
       "      <th>squared</th>\n",
       "      <th>y_predicted</th>\n",
       "    </tr>\n",
       "  </thead>\n",
       "  <tbody>\n",
       "    <tr>\n",
       "      <td>0</td>\n",
       "      <td>1</td>\n",
       "      <td>1</td>\n",
       "      <td>-2.0</td>\n",
       "      <td>-1.8</td>\n",
       "      <td>3.6</td>\n",
       "      <td>4.0</td>\n",
       "      <td>1.2</td>\n",
       "    </tr>\n",
       "    <tr>\n",
       "      <td>1</td>\n",
       "      <td>2</td>\n",
       "      <td>3</td>\n",
       "      <td>-1.0</td>\n",
       "      <td>0.2</td>\n",
       "      <td>-0.2</td>\n",
       "      <td>1.0</td>\n",
       "      <td>2.0</td>\n",
       "    </tr>\n",
       "    <tr>\n",
       "      <td>2</td>\n",
       "      <td>4</td>\n",
       "      <td>3</td>\n",
       "      <td>1.0</td>\n",
       "      <td>0.2</td>\n",
       "      <td>0.2</td>\n",
       "      <td>1.0</td>\n",
       "      <td>3.6</td>\n",
       "    </tr>\n",
       "    <tr>\n",
       "      <td>3</td>\n",
       "      <td>3</td>\n",
       "      <td>2</td>\n",
       "      <td>0.0</td>\n",
       "      <td>-0.8</td>\n",
       "      <td>-0.0</td>\n",
       "      <td>0.0</td>\n",
       "      <td>2.8</td>\n",
       "    </tr>\n",
       "    <tr>\n",
       "      <td>4</td>\n",
       "      <td>5</td>\n",
       "      <td>5</td>\n",
       "      <td>2.0</td>\n",
       "      <td>2.2</td>\n",
       "      <td>4.4</td>\n",
       "      <td>4.0</td>\n",
       "      <td>4.4</td>\n",
       "    </tr>\n",
       "  </tbody>\n",
       "</table>\n",
       "</div>"
      ],
      "text/plain": [
       "   x  y  x_minus_mean  y_minus_mean  multiplication  squared  y_predicted\n",
       "0  1  1          -2.0          -1.8             3.6      4.0          1.2\n",
       "1  2  3          -1.0           0.2            -0.2      1.0          2.0\n",
       "2  4  3           1.0           0.2             0.2      1.0          3.6\n",
       "3  3  2           0.0          -0.8            -0.0      0.0          2.8\n",
       "4  5  5           2.0           2.2             4.4      4.0          4.4"
      ]
     },
     "execution_count": 7,
     "metadata": {},
     "output_type": "execute_result"
    }
   ],
   "source": [
    "# Predictions\n",
    "df['y_predicted'] = df['x'].apply(lambda x: lr(b0, b1, x))\n",
    "df"
   ]
  },
  {
   "cell_type": "code",
   "execution_count": 8,
   "metadata": {},
   "outputs": [
    {
     "data": {
      "image/png": "[encoded data removed]",
      "text/plain": [
       "<Figure size 432x288 with 1 Axes>"
      ]
     },
     "metadata": {
      "needs_background": "light"
     },
     "output_type": "display_data"
    }
   ],
   "source": [
    "# Plot\n",
    "plt.scatter(df['x'], df['y'], c='b', label='y')\n",
    "plt.scatter(df['x'], df['y_predicted'], c='r', label='y predito')\n",
    "plt.plot(df['x'], df['y_predicted'], label='linha de regressão (y predito)')\n",
    "plt.xlim(0, 6)\n",
    "plt.ylim(0, 6)\n",
    "plt.legend()\n",
    "plt.show()"
   ]
  },
  {
   "cell_type": "markdown",
   "metadata": {},
   "source": [
    "# Estimando erro\n",
    "\n",
    "* Podemos calcular os valores de erro das nossas predições, chamado *Root Mean Squared Error* (RMSE)\n",
    "\n",
    "$RMSE = \\sqrt{\\frac{\\sum_{i=1}^{n}(p_i - y_i)^2}{n}}$"
   ]
  },
  {
   "cell_type": "code",
   "execution_count": 9,
   "metadata": {},
   "outputs": [
    {
     "data": {
      "text/plain": [
       "0.692820323027551"
      ]
     },
     "execution_count": 9,
     "metadata": {},
     "output_type": "execute_result"
    }
   ],
   "source": [
    "import numpy as np\n",
    "\n",
    "df['predicted_minus_y'] = df['y_predicted'] - df['y']\n",
    "df['predicted_minus_y_squared'] = df[\"predicted_minus_y\"] **2\n",
    "rmse = np.sqrt(df['predicted_minus_y_squared'].sum() / df.shape[0])\n",
    "rmse"
   ]
  },
  {
   "cell_type": "markdown",
   "metadata": {},
   "source": [
    "# Dica\n",
    "\n",
    "* Segue uma dica para o cálculo de $\\beta1$:\n",
    "\n",
    "$\\beta1 = corr(x,y) \\times \\frac{stdev(y)}{stdev(x)}$\n",
    "\n",
    "* Onde $corr(x,y)$ é a correlação entre $x$ e $y$, conhecido como coeficiente de correlação de *Pearson*, é uma medida de como relacionado estão duas variáveis dentro de $-1$ e $1$.\n",
    "\n",
    "> Um valor de $1$ indica que as duas variáveis estão perfeitamente correlacionadas positivamente, as duas movem na mesma direção. Um valor de $-1$ indica que elas estão perfeitamente correlacionadas negativamente, quando uma move a outra move no sentido contrário.\n",
    "\n",
    "* $stdev()$ é o cálculo do desvio padrão ($\\sigma$) que é uma medida de o quanto o dado está fora da média. Dado por:\n",
    "\n",
    "$\\sigma = \\sqrt{\\frac{\\sum(x - \\bar{x})^2}{n}}$\n",
    "\n",
    "> Onde $\\bar{x}$ significa média"
   ]
  },
  {
   "cell_type": "code",
   "execution_count": 10,
   "metadata": {},
   "outputs": [
    {
     "data": {
      "text/plain": [
       "0.7999999999999999"
      ]
     },
     "execution_count": 10,
     "metadata": {},
     "output_type": "execute_result"
    }
   ],
   "source": [
    "corr_xy = df['x'].corr(df['y'])\n",
    "std_x = df['x'].std()\n",
    "std_y = df['y'].std()\n",
    "b1_new = corr_xy * (std_y / std_x)\n",
    "b1_new"
   ]
  },
  {
   "cell_type": "markdown",
   "metadata": {},
   "source": [
    "# Capítulo 12: Tutorial usando *Gradient descent* em regressão linear simples\n",
    "\n",
    "## *Stochastic gradient descent*\n",
    "\n",
    "* *Gradient descent* é o processo de minimizar uma função seguindo o gradiente da função de custo. Isso envolve sabe a forma de custo assim como a derivativa, com isso um dado ponto que você saiba o gradiente e pode mover nessa direção (ex.: descida em direção ao valor mínimo).\n",
    "* Podemos usar uma técnica que avalie e atualize os coeficientes em cada interação (*stochastic gradient descent*) para minimizar o erro do modelo nos nossos dados de treinamento.\n",
    "* Nesse algoritmo cada instância de treinamento é mostrada para o modelo uma por vez. O modelo faz a predição para uma instância do dado de treinamento, o erro é calculado e o modelo atualiza para reduzir o erro da próxima predição.\n",
    "* Esse processo pode ser usado para encontrar o arranjo de coeficientes que resulta no menor erro para o modelo nos dados de treinamento. Cada interação o coeficiente $w$ do inglẽs *weights* (pesos) é atualizado de acordo com:\n",
    "\n",
    "$w = w - alpha \\times delta$\n",
    "\n",
    "> Onde $w$ é o coeficiente ou peso sendo otimizado, $alpha$ a taxa de aprendizado que você deve fixar (ex.: 0.1) e $delta$ o erro para o modelo nos dados de treinamento atribuído ao peso.\n",
    "\n",
    "## Regressão linear simples com *gradient descent* estocástico\n",
    "\n",
    "* *Gradient descent* estocástico não é usado para calcular os coeficientes de regressões lineares na prática a não ser que seja o *Ordinary Least Squares* para grandes dados. Sendo assim, esse exemplo é apenas didático.\n",
    "* Como visto ateriormente o modelo de regressão linear é definido por:\n",
    "\n",
    "$y = \\beta0 + \\beta1 \\times x$\n",
    "\n",
    "### Interação com o *gradient descent*\n",
    "\n",
    "* Vamos começar com os coeficientes fixados em zero:"
   ]
  },
  {
   "cell_type": "code",
   "execution_count": 11,
   "metadata": {},
   "outputs": [],
   "source": [
    "b0, b1 = 0, 0"
   ]
  },
  {
   "cell_type": "markdown",
   "metadata": {},
   "source": [
    "* Nos podemos calcular o erro da predição por:\n",
    "\n",
    "$error = p(i) - y(i)$\n",
    "\n",
    "> Onde $p(i)$ é a predição do item $i$ nos dados e $y(i)$ é o item $i$ para os dados de saída ($y$) nos nossos dados.\n",
    "\n",
    "* Agora podemos calcular a predição para o nosso primeiro dado, $x = 1$ e $y = 1$."
   ]
  },
  {
   "cell_type": "code",
   "execution_count": 12,
   "metadata": {},
   "outputs": [
    {
     "data": {
      "text/plain": [
       "0"
      ]
     },
     "execution_count": 12,
     "metadata": {},
     "output_type": "execute_result"
    }
   ],
   "source": [
    "x, y = 1, 1\n",
    "p = b0 + b1 * x\n",
    "p"
   ]
  },
  {
   "cell_type": "markdown",
   "metadata": {},
   "source": [
    "* Usado o dados de predição podemos calcular o erro:"
   ]
  },
  {
   "cell_type": "code",
   "execution_count": 13,
   "metadata": {},
   "outputs": [
    {
     "data": {
      "text/plain": [
       "-1"
      ]
     },
     "execution_count": 13,
     "metadata": {},
     "output_type": "execute_result"
    }
   ],
   "source": [
    "error = (p - y)\n",
    "error"
   ]
  },
  {
   "cell_type": "markdown",
   "metadata": {},
   "source": [
    "* Podemos então usar esse erro para a equação de *gradient descent* atualizar os pesos.\n",
    "* Começaremos pelo *intercept* ($\\beta0$) por ser mais fácil.\n",
    "* Podemos dizer que $\\beta0$ é culpado por todo erro, isso quer dizer que atualizando o peso irá usar apenas o erro como gradiente. O cálculo de $\\beta0$ é feito por:\n",
    "\n",
    "$\\beta0(t + 1) = \\beta0(t) - alpha \\times error$\n",
    "\n",
    "> Onde $\\beta0(t + 1)$ é a versão atualizada do coeficiente que usaremos na próxima instância de treinamento. O $\\beta0(t)$ é o valor de $\\beta0$ corrente, $alpha$ a taxa de aprendizado fixada e $error$ o erro que calculamos para a instância em questão.\n",
    "\n",
    "* Vamos fixar a taxa de aprendizado ($alpha$) em 0.01, então o novo valor de $\\beta0$ será:"
   ]
  },
  {
   "cell_type": "code",
   "execution_count": 14,
   "metadata": {},
   "outputs": [
    {
     "data": {
      "text/plain": [
       "0.01"
      ]
     },
     "execution_count": 14,
     "metadata": {},
     "output_type": "execute_result"
    }
   ],
   "source": [
    "alpha = 0.01\n",
    "new_b0 = b0 - alpha * error\n",
    "new_b0"
   ]
  },
  {
   "cell_type": "markdown",
   "metadata": {},
   "source": [
    "* Usamos a mesma equação para atualizar $\\beta1$, mas com uma pequena adição. O erro é filtrado pelo dado de entrada que o causou:\n",
    "\n",
    "$\\beta1(t + 1) = \\beta1(t) - alpha \\times error \\times x$\n",
    "\n",
    "* O novo $\\beta1$ é:"
   ]
  },
  {
   "cell_type": "code",
   "execution_count": 15,
   "metadata": {},
   "outputs": [
    {
     "data": {
      "text/plain": [
       "0.01"
      ]
     },
     "execution_count": 15,
     "metadata": {},
     "output_type": "execute_result"
    }
   ],
   "source": [
    "new_b1 = b1 - alpha * error * x\n",
    "new_b1"
   ]
  },
  {
   "cell_type": "markdown",
   "metadata": {},
   "source": [
    "* Terminamos a primeira interação, esse processo deve ser repetido para as outras instâncias pelo menos umas 4 vezes nos nossos dados."
   ]
  },
  {
   "cell_type": "code",
   "execution_count": 16,
   "metadata": {},
   "outputs": [
    {
     "name": "stdout",
     "output_type": "stream",
     "text": [
      "b0: 0.23089749104812557, b1: 0.7904386101794071\n"
     ]
    },
    {
     "data": {
      "text/html": [
       "<div>\n",
       "<style scoped>\n",
       "    .dataframe tbody tr th:only-of-type {\n",
       "        vertical-align: middle;\n",
       "    }\n",
       "\n",
       "    .dataframe tbody tr th {\n",
       "        vertical-align: top;\n",
       "    }\n",
       "\n",
       "    .dataframe thead th {\n",
       "        text-align: right;\n",
       "    }\n",
       "</style>\n",
       "<table border=\"1\" class=\"dataframe\">\n",
       "  <thead>\n",
       "    <tr style=\"text-align: right;\">\n",
       "      <th></th>\n",
       "      <th>x</th>\n",
       "      <th>y</th>\n",
       "      <th>y_predicted</th>\n",
       "    </tr>\n",
       "  </thead>\n",
       "  <tbody>\n",
       "    <tr>\n",
       "      <td>0</td>\n",
       "      <td>1</td>\n",
       "      <td>1</td>\n",
       "      <td>1.021336</td>\n",
       "    </tr>\n",
       "    <tr>\n",
       "      <td>1</td>\n",
       "      <td>2</td>\n",
       "      <td>3</td>\n",
       "      <td>1.811775</td>\n",
       "    </tr>\n",
       "    <tr>\n",
       "      <td>2</td>\n",
       "      <td>4</td>\n",
       "      <td>3</td>\n",
       "      <td>3.392652</td>\n",
       "    </tr>\n",
       "    <tr>\n",
       "      <td>3</td>\n",
       "      <td>3</td>\n",
       "      <td>2</td>\n",
       "      <td>2.602213</td>\n",
       "    </tr>\n",
       "    <tr>\n",
       "      <td>4</td>\n",
       "      <td>5</td>\n",
       "      <td>5</td>\n",
       "      <td>4.183091</td>\n",
       "    </tr>\n",
       "  </tbody>\n",
       "</table>\n",
       "</div>"
      ],
      "text/plain": [
       "   x  y  y_predicted\n",
       "0  1  1     1.021336\n",
       "1  2  3     1.811775\n",
       "2  4  3     3.392652\n",
       "3  3  2     2.602213\n",
       "4  5  5     4.183091"
      ]
     },
     "execution_count": 16,
     "metadata": {},
     "output_type": "execute_result"
    }
   ],
   "source": [
    "def calc_coef(b0, b1, alpha, error, x):\n",
    "    ''' Calcula os novos valores para b0 e b1 '''\n",
    "    new_b0 = b0 - (alpha * error)\n",
    "    new_b1 = b1 - (alpha * error * x)\n",
    "    return new_b0, new_b1\n",
    "\n",
    "# Constantes e inicializações\n",
    "k = 4\n",
    "alpha = 0.01\n",
    "b0, b1 = 0, 0\n",
    "new_df = df[['x', 'y']].copy()\n",
    "val_dict = {\n",
    "    'b0': [], 'b1': [], 'error': []\n",
    "}\n",
    "\n",
    "# Interação mínima indicada\n",
    "for i in range(k):\n",
    "    for index, row in new_df.iterrows():\n",
    "        # variável com a última predição\n",
    "        predicted = lr(b0, b1, row['x'])\n",
    "        # adicioner erro e novos valores de b0 e b1 para plots\n",
    "        val_dict['error'].append(predicted - row['y'])\n",
    "        error = predicted - row['y']\n",
    "        b0, b1 = calc_coef(b0, b1, alpha, error, row['x'])\n",
    "        val_dict['b0'].append(b0)\n",
    "        val_dict['b1'].append(b1)\n",
    "print('b0: %s, b1: %s' % (b0, b1))\n",
    "# adicionar predição ao new_df\n",
    "new_df['y_predicted'] = new_df['x'].apply(lambda x: lr(b0, b1, x))\n",
    "new_df"
   ]
  },
  {
   "cell_type": "code",
   "execution_count": 17,
   "metadata": {},
   "outputs": [
    {
     "data": {
      "image/png": "[encoded data removed]",
      "text/plain": [
       "<Figure size 432x288 with 1 Axes>"
      ]
     },
     "metadata": {
      "needs_background": "light"
     },
     "output_type": "display_data"
    }
   ],
   "source": [
    "plt.plot(range(1, 21), val_dict['error'], label='error')\n",
    "plt.xlim(0, 20)\n",
    "plt.ylim(-5, 5)\n",
    "plt.legend()\n",
    "plt.show()"
   ]
  },
  {
   "cell_type": "code",
   "execution_count": 18,
   "metadata": {},
   "outputs": [
    {
     "data": {
      "image/png": "[encoded data removed]",
      "text/plain": [
       "<Figure size 432x288 with 1 Axes>"
      ]
     },
     "metadata": {
      "needs_background": "light"
     },
     "output_type": "display_data"
    }
   ],
   "source": [
    "plt.scatter(new_df['x'], new_df['y'], c='r', label='y')\n",
    "plt.scatter(new_df['x'], new_df['y_predicted'], c='b', label='y predito')\n",
    "plt.plot(new_df['x'], new_df['y_predicted'], c='black', label='linha de regressão (y predito)')\n",
    "plt.xlim(0, 6)\n",
    "plt.ylim(0, 6)\n",
    "plt.legend()\n",
    "plt.show()"
   ]
  },
  {
   "cell_type": "markdown",
   "metadata": {},
   "source": [
    "* Podemos também calcular o *RMSE* para essas predições:"
   ]
  },
  {
   "cell_type": "code",
   "execution_count": 19,
   "metadata": {},
   "outputs": [
    {
     "data": {
      "text/plain": [
       "0.7206264014789554"
      ]
     },
     "execution_count": 19,
     "metadata": {},
     "output_type": "execute_result"
    }
   ],
   "source": [
    "new_df['predicted_minus_y'] = new_df['y_predicted'] - df['y']\n",
    "new_df['predicted_minus_y_squared'] = new_df[\"predicted_minus_y\"] **2\n",
    "rmse = np.sqrt(new_df['predicted_minus_y_squared'].sum() / new_df.shape[0])\n",
    "rmse"
   ]
  },
  {
   "cell_type": "markdown",
   "metadata": {},
   "source": [
    "* Com esse resultado de *RMSE* fica claro que o *gradient descent* não ajudou em nada, sendo somente indicado quando métodos analíticos não podem ser usados (para grande dados)"
   ]
  },
  {
   "cell_type": "code",
   "execution_count": null,
   "metadata": {},
   "outputs": [],
   "source": []
  }
 ],
 "metadata": {
  "kernelspec": {
   "display_name": "Python 3",
   "language": "python",
   "name": "python3"
  },
  "language_info": {
   "codemirror_mode": {
    "name": "ipython",
    "version": 3
   },
   "file_extension": ".py",
   "mimetype": "text/x-python",
   "name": "python",
   "nbconvert_exporter": "python",
   "pygments_lexer": "ipython3",
   "version": "3.7.1"
  }
 },
 "nbformat": 4,
 "nbformat_minor": 2
}
