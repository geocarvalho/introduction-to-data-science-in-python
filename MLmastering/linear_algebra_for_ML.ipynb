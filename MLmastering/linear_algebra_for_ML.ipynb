{
  "nbformat": 4,
  "nbformat_minor": 0,
  "metadata": {
    "colab": {
      "name": "linear-algebra-for-ML.ipynb",
      "provenance": [],
      "collapsed_sections": [],
      "authorship_tag": "ABX9TyP6HLUOCa/IoE03e1A5iTSc",
      "include_colab_link": true
    },
    "kernelspec": {
      "name": "python3",
      "display_name": "Python 3"
    }
  },
  "cells": [
    {
      "cell_type": "markdown",
      "metadata": {
        "id": "view-in-github",
        "colab_type": "text"
      },
      "source": [
        "<a href=\"https://colab.research.google.com/github/geocarvalho/python-ds/blob/master/MLmastering/linear_algebra_for_ML.ipynb\" target=\"_parent\"><img src=\"https://colab.research.google.com/assets/colab-badge.svg\" alt=\"Open In Colab\"/></a>"
      ]
    },
    {
      "cell_type": "markdown",
      "metadata": {
        "id": "hlxjWRKAWST3",
        "colab_type": "text"
      },
      "source": [
        "# [Basics for linear algebra for ML - Discover the mathematical language of data in python - Jason Bownlee](https://machinelearningmastery.com/linear_algebra_for_machine_learning/)\n",
        "\n",
        "## Chapter 4 - Introduction to Numpy arrays"
      ]
    },
    {
      "cell_type": "code",
      "metadata": {
        "id": "pPOvqeDEWGgK",
        "colab_type": "code",
        "outputId": "34604f98-92a8-4daf-8eab-6f26f2ebd099",
        "colab": {
          "base_uri": "https://localhost:8080/",
          "height": 70
        }
      },
      "source": [
        "import numpy as np\n",
        "\n",
        "# Create array\n",
        "l = [1.0, 2.0, 3.0]\n",
        "a = np.array(l)\n",
        "\n",
        "# Display array\n",
        "print(a)\n",
        "\n",
        "# Display array shape\n",
        "print(a.shape)\n",
        "\n",
        "# Display array data type\n",
        "print(a.dtype)"
      ],
      "execution_count": 0,
      "outputs": [
        {
          "output_type": "stream",
          "text": [
            "[1. 2. 3.]\n",
            "(3,)\n",
            "float64\n"
          ],
          "name": "stdout"
        }
      ]
    },
    {
      "cell_type": "markdown",
      "metadata": {
        "id": "8FGAmpaLc3sF",
        "colab_type": "text"
      },
      "source": [
        "### Creating arrays\n",
        "\n",
        "* An empty array with aleatory numbers with `empty()`;\n",
        "* An array with zeros using `zeros()`;\n",
        "* An array with ones using `ones()`"
      ]
    },
    {
      "cell_type": "code",
      "metadata": {
        "id": "S_aKKXW1ACgT",
        "colab_type": "code",
        "outputId": "2b0f2bb9-48cd-446d-ea11-7be9d9be0bec",
        "colab": {
          "base_uri": "https://localhost:8080/",
          "height": 70
        }
      },
      "source": [
        "# Create empty array\n",
        "a = np.empty([3,3])\n",
        "print(a)"
      ],
      "execution_count": 0,
      "outputs": [
        {
          "output_type": "stream",
          "text": [
            "[[3.18066103e-316 2.07507571e-322 2.12199579e-314]\n",
            " [3.44620186e-085 4.34900767e+199 1.87422380e+261]\n",
            " [1.43622020e+161 3.27748089e+180 1.27014396e-319]]\n"
          ],
          "name": "stdout"
        }
      ]
    },
    {
      "cell_type": "code",
      "metadata": {
        "id": "ztIz4BN5AnVp",
        "colab_type": "code",
        "outputId": "825ae510-4bfc-4154-9ae3-e087974217e5",
        "colab": {
          "base_uri": "https://localhost:8080/",
          "height": 70
        }
      },
      "source": [
        "# Create zero array\n",
        "a = np.zeros([3, 5])\n",
        "print(a)"
      ],
      "execution_count": 0,
      "outputs": [
        {
          "output_type": "stream",
          "text": [
            "[[0. 0. 0. 0. 0.]\n",
            " [0. 0. 0. 0. 0.]\n",
            " [0. 0. 0. 0. 0.]]\n"
          ],
          "name": "stdout"
        }
      ]
    },
    {
      "cell_type": "code",
      "metadata": {
        "id": "DSdNozJgA4py",
        "colab_type": "code",
        "outputId": "9301ad95-002e-4e71-ceca-ce0e39e707d2",
        "colab": {
          "base_uri": "https://localhost:8080/",
          "height": 52
        }
      },
      "source": [
        "# Create one array\n",
        "a = np.ones([2,5])\n",
        "print(a)"
      ],
      "execution_count": 0,
      "outputs": [
        {
          "output_type": "stream",
          "text": [
            "[[1. 1. 1. 1. 1.]\n",
            " [1. 1. 1. 1. 1.]]\n"
          ],
          "name": "stdout"
        }
      ]
    },
    {
      "cell_type": "markdown",
      "metadata": {
        "id": "odLJmY-6c6OT",
        "colab_type": "text"
      },
      "source": [
        "### Combining arrays\n",
        "\n",
        "* Vertical Stack with `vstack()`\n",
        "* Horizontal Stack with `hstack()`"
      ]
    },
    {
      "cell_type": "code",
      "metadata": {
        "id": "YWQ0VBKmBCHy",
        "colab_type": "code",
        "outputId": "34432cc3-76f7-46e6-fe20-7e6725b8a6bc",
        "colab": {
          "base_uri": "https://localhost:8080/",
          "height": 52
        }
      },
      "source": [
        "a1 = np.array([1,2,3])\n",
        "a2 = np.array([4,5,6])\n",
        "print(a1)\n",
        "print(a2)"
      ],
      "execution_count": 0,
      "outputs": [
        {
          "output_type": "stream",
          "text": [
            "[1 2 3]\n",
            "[4 5 6]\n"
          ],
          "name": "stdout"
        }
      ]
    },
    {
      "cell_type": "code",
      "metadata": {
        "id": "QgIfXI7yeAFq",
        "colab_type": "code",
        "outputId": "4f9fd95a-8b9e-426a-dd59-7b3bd13b0703",
        "colab": {
          "base_uri": "https://localhost:8080/",
          "height": 70
        }
      },
      "source": [
        "a3 = np.vstack((a1, a2))\n",
        "print(a3)\n",
        "print(a3.shape)"
      ],
      "execution_count": 0,
      "outputs": [
        {
          "output_type": "stream",
          "text": [
            "[[1 2 3]\n",
            " [4 5 6]]\n",
            "(2, 3)\n"
          ],
          "name": "stdout"
        }
      ]
    },
    {
      "cell_type": "code",
      "metadata": {
        "id": "vZa6mY_wdW1U",
        "colab_type": "code",
        "outputId": "42aeae34-7323-4cde-fc0e-5d796c58952e",
        "colab": {
          "base_uri": "https://localhost:8080/",
          "height": 52
        }
      },
      "source": [
        "a4 = np.hstack((a1, a2))\n",
        "print(a4)\n",
        "print(a4.shape)"
      ],
      "execution_count": 0,
      "outputs": [
        {
          "output_type": "stream",
          "text": [
            "[1 2 3 4 5 6]\n",
            "(6,)\n"
          ],
          "name": "stdout"
        }
      ]
    },
    {
      "cell_type": "markdown",
      "metadata": {
        "id": "Wfcjj6CPeWo5",
        "colab_type": "text"
      },
      "source": [
        "## Chapter 5 - Index, slice and reshape Numpy arrays\n",
        "\n",
        "### From list to arrays\n",
        "\n",
        "* One-dimensional list to array\n",
        "* Two-dimensional list of lists to array"
      ]
    },
    {
      "cell_type": "code",
      "metadata": {
        "id": "rBP81cLoeFml",
        "colab_type": "code",
        "outputId": "5f271211-a495-4b00-b608-4bb7a4a42ca1",
        "colab": {
          "base_uri": "https://localhost:8080/",
          "height": 34
        }
      },
      "source": [
        "# Create one-dimensional array\n",
        "data1 = [11, 22, 33, 44, 55]\n",
        "\n",
        "# Array of data\n",
        "data1 = np.array(data1)\n",
        "data1"
      ],
      "execution_count": 0,
      "outputs": [
        {
          "output_type": "execute_result",
          "data": {
            "text/plain": [
              "array([11, 22, 33, 44, 55])"
            ]
          },
          "metadata": {
            "tags": []
          },
          "execution_count": 8
        }
      ]
    },
    {
      "cell_type": "code",
      "metadata": {
        "id": "hF_UTmfkfx1x",
        "colab_type": "code",
        "outputId": "8357bb44-aa91-4568-dda6-1eeba7450c92",
        "colab": {
          "base_uri": "https://localhost:8080/",
          "height": 70
        }
      },
      "source": [
        "# Create two-dimensional array\n",
        "data2 = [[11, 22],\n",
        "        [33, 44],\n",
        "        [55, 66]]\n",
        "\n",
        "# Array of data\n",
        "data2 = np.array(data2)\n",
        "data2"
      ],
      "execution_count": 0,
      "outputs": [
        {
          "output_type": "execute_result",
          "data": {
            "text/plain": [
              "array([[11, 22],\n",
              "       [33, 44],\n",
              "       [55, 66]])"
            ]
          },
          "metadata": {
            "tags": []
          },
          "execution_count": 9
        }
      ]
    },
    {
      "cell_type": "markdown",
      "metadata": {
        "id": "K3KtCyZIgJ6t",
        "colab_type": "text"
      },
      "source": [
        "### Array indexing\n",
        "* One-dimensional indexing\n",
        "* Two-dimensional indexing"
      ]
    },
    {
      "cell_type": "code",
      "metadata": {
        "id": "Qwm-4EVCgFPy",
        "colab_type": "code",
        "outputId": "45c706d4-91cc-422e-def5-689a05fe7d79",
        "colab": {
          "base_uri": "https://localhost:8080/",
          "height": 52
        }
      },
      "source": [
        "# One-dimensional\n",
        "print(data1[0])\n",
        "print(data1[-1])"
      ],
      "execution_count": 0,
      "outputs": [
        {
          "output_type": "stream",
          "text": [
            "11\n",
            "55\n"
          ],
          "name": "stdout"
        }
      ]
    },
    {
      "cell_type": "code",
      "metadata": {
        "id": "D-DIL5v5gzxj",
        "colab_type": "code",
        "outputId": "d4fb9aaf-8af7-48fa-f168-438c21665a95",
        "colab": {
          "base_uri": "https://localhost:8080/",
          "height": 52
        }
      },
      "source": [
        "# Two dimensional\n",
        "print(data2[0,0])\n",
        "print(data2[0,])"
      ],
      "execution_count": 0,
      "outputs": [
        {
          "output_type": "stream",
          "text": [
            "11\n",
            "[11 22]\n"
          ],
          "name": "stdout"
        }
      ]
    },
    {
      "cell_type": "code",
      "metadata": {
        "id": "Yx7MiC_RgxWv",
        "colab_type": "code",
        "outputId": "a419e42d-ed92-4315-90d4-5c3a1abfd300",
        "colab": {
          "base_uri": "https://localhost:8080/",
          "height": 52
        }
      },
      "source": [
        "# Two dimensional like C-based languages\n",
        "print(data2[0])\n",
        "print(data2[0][0])"
      ],
      "execution_count": 0,
      "outputs": [
        {
          "output_type": "stream",
          "text": [
            "[11 22]\n",
            "11\n"
          ],
          "name": "stdout"
        }
      ]
    },
    {
      "cell_type": "markdown",
      "metadata": {
        "id": "jmIxTDZ7hQq6",
        "colab_type": "text"
      },
      "source": [
        "### Array slicing\n",
        "* One-dimensional slicing\n",
        "* Two-dimensional slicing"
      ]
    },
    {
      "cell_type": "code",
      "metadata": {
        "id": "J5njuSaYhIjm",
        "colab_type": "code",
        "outputId": "2942090f-54ff-4a41-f931-65a4e87b73af",
        "colab": {
          "base_uri": "https://localhost:8080/",
          "height": 70
        }
      },
      "source": [
        "# One-dimensional\n",
        "print(data1[:])\n",
        "print(data1[0:1])\n",
        "print(data1[-2:])"
      ],
      "execution_count": 0,
      "outputs": [
        {
          "output_type": "stream",
          "text": [
            "[11 22 33 44 55]\n",
            "[11]\n",
            "[44 55]\n"
          ],
          "name": "stdout"
        }
      ]
    },
    {
      "cell_type": "code",
      "metadata": {
        "id": "NoVQQHsbhs-p",
        "colab_type": "code",
        "outputId": "40099126-da14-47c2-b9d8-5c89d528b2e7",
        "colab": {
          "base_uri": "https://localhost:8080/",
          "height": 87
        }
      },
      "source": [
        "# Two-dimensional\n",
        "print(data2[:, :-1])\n",
        "print(data2[:, -1])"
      ],
      "execution_count": 0,
      "outputs": [
        {
          "output_type": "stream",
          "text": [
            "[[11]\n",
            " [33]\n",
            " [55]]\n",
            "[22 44 66]\n"
          ],
          "name": "stdout"
        }
      ]
    },
    {
      "cell_type": "code",
      "metadata": {
        "id": "NSUhSPriiZkZ",
        "colab_type": "code",
        "outputId": "3b99f99f-a8ec-4f7c-a119-45534cdd2596",
        "colab": {
          "base_uri": "https://localhost:8080/",
          "height": 87
        }
      },
      "source": [
        "data = np.array([\n",
        "[11, 22, 33],\n",
        "[44, 55, 66],\n",
        "[77, 88, 99]])\n",
        "\n",
        "print(data[:, :-1])\n",
        "print(data[:, -1])"
      ],
      "execution_count": 0,
      "outputs": [
        {
          "output_type": "stream",
          "text": [
            "[[11 22]\n",
            " [44 55]\n",
            " [77 88]]\n",
            "[33 66 99]\n"
          ],
          "name": "stdout"
        }
      ]
    },
    {
      "cell_type": "markdown",
      "metadata": {
        "id": "udBodaKm0cmC",
        "colab_type": "text"
      },
      "source": [
        "### Array reshaping\n",
        "* Reshape 1d to 2d array"
      ]
    },
    {
      "cell_type": "code",
      "metadata": {
        "id": "2DVK8lTj1FgV",
        "colab_type": "code",
        "outputId": "6cbcce22-032f-42b8-daf1-6fd042f2c84a",
        "colab": {
          "base_uri": "https://localhost:8080/",
          "height": 34
        }
      },
      "source": [
        "data1.shape"
      ],
      "execution_count": 0,
      "outputs": [
        {
          "output_type": "execute_result",
          "data": {
            "text/plain": [
              "(5,)"
            ]
          },
          "metadata": {
            "tags": []
          },
          "execution_count": 16
        }
      ]
    },
    {
      "cell_type": "code",
      "metadata": {
        "id": "wDQPrcad1IUa",
        "colab_type": "code",
        "outputId": "6ddf31d4-c4df-468f-a409-a3ac8485adcd",
        "colab": {
          "base_uri": "https://localhost:8080/",
          "height": 34
        }
      },
      "source": [
        "data2.shape"
      ],
      "execution_count": 0,
      "outputs": [
        {
          "output_type": "execute_result",
          "data": {
            "text/plain": [
              "(3, 2)"
            ]
          },
          "metadata": {
            "tags": []
          },
          "execution_count": 17
        }
      ]
    },
    {
      "cell_type": "code",
      "metadata": {
        "id": "JUcoWwdd1TbN",
        "colab_type": "code",
        "outputId": "a32bb18c-f2ee-4f2a-f806-5b6aa9ecc47d",
        "colab": {
          "base_uri": "https://localhost:8080/",
          "height": 52
        }
      },
      "source": [
        "print( ' Rows: %d ' % data2.shape[0])\n",
        "print( ' Cols: %d ' % data2.shape[1])"
      ],
      "execution_count": 0,
      "outputs": [
        {
          "output_type": "stream",
          "text": [
            " Rows: 3 \n",
            " Cols: 2 \n"
          ],
          "name": "stdout"
        }
      ]
    },
    {
      "cell_type": "code",
      "metadata": {
        "id": "bciqpf3x1c02",
        "colab_type": "code",
        "outputId": "880b0d6f-47e4-498d-d917-7fa93d026af4",
        "colab": {
          "base_uri": "https://localhost:8080/",
          "height": 34
        }
      },
      "source": [
        "# reshape 1D to 2D array\n",
        "data = data1.reshape((data1.shape[0], 1))\n",
        "data.shape"
      ],
      "execution_count": 0,
      "outputs": [
        {
          "output_type": "execute_result",
          "data": {
            "text/plain": [
              "(5, 1)"
            ]
          },
          "metadata": {
            "tags": []
          },
          "execution_count": 19
        }
      ]
    },
    {
      "cell_type": "code",
      "metadata": {
        "id": "9IApFbLF14gG",
        "colab_type": "code",
        "outputId": "eeba03ac-3a62-44de-9e69-2164bca18e5d",
        "colab": {
          "base_uri": "https://localhost:8080/",
          "height": 176
        }
      },
      "source": [
        "data = data2.reshape((data2.shape[0], data2.shape[1], 1))\n",
        "print(data)\n",
        "print(data.shape)"
      ],
      "execution_count": 0,
      "outputs": [
        {
          "output_type": "stream",
          "text": [
            "[[[11]\n",
            "  [22]]\n",
            "\n",
            " [[33]\n",
            "  [44]]\n",
            "\n",
            " [[55]\n",
            "  [66]]]\n",
            "(3, 2, 1)\n"
          ],
          "name": "stdout"
        }
      ]
    },
    {
      "cell_type": "markdown",
      "metadata": {
        "id": "-qf5vOxw2nPL",
        "colab_type": "text"
      },
      "source": [
        "## Chapter 6 - Numpy array broadcasting\n",
        "\n",
        "* Duplicate the smaller array so that it has the dimensionality and size as the larger array.\n",
        "\n",
        "### Limitation with array arithmetic\n"
      ]
    },
    {
      "cell_type": "code",
      "metadata": {
        "id": "yD2GPzcP2V2c",
        "colab_type": "code",
        "outputId": "74d040df-4820-4419-8984-fc0b570cbb85",
        "colab": {
          "base_uri": "https://localhost:8080/",
          "height": 34
        }
      },
      "source": [
        "a = np.array([1, 2, 3])\n",
        "b = np.array([1, 2, 3])\n",
        "c = a + b\n",
        "c"
      ],
      "execution_count": 0,
      "outputs": [
        {
          "output_type": "execute_result",
          "data": {
            "text/plain": [
              "array([2, 4, 6])"
            ]
          },
          "metadata": {
            "tags": []
          },
          "execution_count": 21
        }
      ]
    },
    {
      "cell_type": "markdown",
      "metadata": {
        "id": "DSKRGaiaVRpC",
        "colab_type": "text"
      },
      "source": [
        "### Broadcast scalar to one-dimensional array\n"
      ]
    },
    {
      "cell_type": "code",
      "metadata": {
        "id": "C5IhccxrVP49",
        "colab_type": "code",
        "outputId": "a1d39360-0e81-4743-a8b5-4d3375c87c8e",
        "colab": {
          "base_uri": "https://localhost:8080/",
          "height": 34
        }
      },
      "source": [
        "a = np.array([1, 2, 3])\n",
        "b = 2\n",
        "c = a + b\n",
        "c"
      ],
      "execution_count": 0,
      "outputs": [
        {
          "output_type": "execute_result",
          "data": {
            "text/plain": [
              "array([3, 4, 5])"
            ]
          },
          "metadata": {
            "tags": []
          },
          "execution_count": 22
        }
      ]
    },
    {
      "cell_type": "markdown",
      "metadata": {
        "id": "T86K6K-gWuEV",
        "colab_type": "text"
      },
      "source": [
        "### Broadcast scalar to two-dimensional array"
      ]
    },
    {
      "cell_type": "code",
      "metadata": {
        "id": "YwbfDPI4WotW",
        "colab_type": "code",
        "outputId": "2de5d975-3b1d-4cc5-d44b-ae3562b73758",
        "colab": {
          "base_uri": "https://localhost:8080/",
          "height": 52
        }
      },
      "source": [
        "a = np.array([\n",
        "[1, 2, 3],\n",
        "[1, 2, 3]])\n",
        "b = 2\n",
        "c = a + b\n",
        "c"
      ],
      "execution_count": 0,
      "outputs": [
        {
          "output_type": "execute_result",
          "data": {
            "text/plain": [
              "array([[3, 4, 5],\n",
              "       [3, 4, 5]])"
            ]
          },
          "metadata": {
            "tags": []
          },
          "execution_count": 23
        }
      ]
    },
    {
      "cell_type": "markdown",
      "metadata": {
        "id": "S-LtLWfKXBA5",
        "colab_type": "text"
      },
      "source": [
        "### One-dimensional and two-dimensional arrays"
      ]
    },
    {
      "cell_type": "code",
      "metadata": {
        "id": "nEetWSJ0W_wJ",
        "colab_type": "code",
        "outputId": "614bbe8f-8649-4a29-dec2-332d3526be8f",
        "colab": {
          "base_uri": "https://localhost:8080/",
          "height": 52
        }
      },
      "source": [
        "a = np.array([\n",
        "[1, 2, 3],\n",
        "[1, 2, 3]])\n",
        "b = np.array([1,2,3])\n",
        "c = a + b\n",
        "c"
      ],
      "execution_count": 0,
      "outputs": [
        {
          "output_type": "execute_result",
          "data": {
            "text/plain": [
              "array([[2, 4, 6],\n",
              "       [2, 4, 6]])"
            ]
          },
          "metadata": {
            "tags": []
          },
          "execution_count": 24
        }
      ]
    },
    {
      "cell_type": "markdown",
      "metadata": {
        "id": "ME1VAdOzXi2X",
        "colab_type": "text"
      },
      "source": [
        "### Limitations\n",
        "\n",
        "* Arithmetic, including broadcasting, can only be performed when the shape of each dimension in the arrays are equal or one has the dimension size of 1."
      ]
    },
    {
      "cell_type": "code",
      "metadata": {
        "id": "_OFEZ5aqWj2Q",
        "colab_type": "code",
        "outputId": "e786c010-cc64-4a7d-db46-d9b6b3f34166",
        "colab": {
          "base_uri": "https://localhost:8080/",
          "height": 256
        }
      },
      "source": [
        "a = np.array([\n",
        "[1, 2, 3],\n",
        "[1, 2, 3]])\n",
        "print(a.shape)\n",
        "b = np.array([1,2])\n",
        "print(b.shape)\n",
        "c = a + b\n",
        "print(c)"
      ],
      "execution_count": 0,
      "outputs": [
        {
          "output_type": "stream",
          "text": [
            "(2, 3)\n",
            "(2,)\n"
          ],
          "name": "stdout"
        },
        {
          "output_type": "error",
          "ename": "ValueError",
          "evalue": "ignored",
          "traceback": [
            "\u001b[0;31m---------------------------------------------------------------------------\u001b[0m",
            "\u001b[0;31mValueError\u001b[0m                                Traceback (most recent call last)",
            "\u001b[0;32m<ipython-input-26-40e8d200a87a>\u001b[0m in \u001b[0;36m<module>\u001b[0;34m()\u001b[0m\n\u001b[1;32m      5\u001b[0m \u001b[0mb\u001b[0m \u001b[0;34m=\u001b[0m \u001b[0mnp\u001b[0m\u001b[0;34m.\u001b[0m\u001b[0marray\u001b[0m\u001b[0;34m(\u001b[0m\u001b[0;34m[\u001b[0m\u001b[0;36m1\u001b[0m\u001b[0;34m,\u001b[0m\u001b[0;36m2\u001b[0m\u001b[0;34m]\u001b[0m\u001b[0;34m)\u001b[0m\u001b[0;34m\u001b[0m\u001b[0;34m\u001b[0m\u001b[0m\n\u001b[1;32m      6\u001b[0m \u001b[0mprint\u001b[0m\u001b[0;34m(\u001b[0m\u001b[0mb\u001b[0m\u001b[0;34m.\u001b[0m\u001b[0mshape\u001b[0m\u001b[0;34m)\u001b[0m\u001b[0;34m\u001b[0m\u001b[0;34m\u001b[0m\u001b[0m\n\u001b[0;32m----> 7\u001b[0;31m \u001b[0mc\u001b[0m \u001b[0;34m=\u001b[0m \u001b[0ma\u001b[0m \u001b[0;34m+\u001b[0m \u001b[0mb\u001b[0m\u001b[0;34m\u001b[0m\u001b[0;34m\u001b[0m\u001b[0m\n\u001b[0m\u001b[1;32m      8\u001b[0m \u001b[0mprint\u001b[0m\u001b[0;34m(\u001b[0m\u001b[0mc\u001b[0m\u001b[0;34m)\u001b[0m\u001b[0;34m\u001b[0m\u001b[0;34m\u001b[0m\u001b[0m\n",
            "\u001b[0;31mValueError\u001b[0m: operands could not be broadcast together with shapes (2,3) (2,) "
          ]
        }
      ]
    },
    {
      "cell_type": "markdown",
      "metadata": {
        "id": "Ovbqmca-YOz9",
        "colab_type": "text"
      },
      "source": [
        "## Chapter 7 - Vectors and vector arithmetic\n",
        "\n",
        "* Vector is a tuple of one or more values called scalars"
      ]
    },
    {
      "cell_type": "code",
      "metadata": {
        "id": "aO-37hKLX4px",
        "colab_type": "code",
        "outputId": "2d873c4e-4357-4d56-832c-c32e172093d6",
        "colab": {
          "base_uri": "https://localhost:8080/",
          "height": 34
        }
      },
      "source": [
        "v = np.array([1,2,3])\n",
        "v"
      ],
      "execution_count": 0,
      "outputs": [
        {
          "output_type": "execute_result",
          "data": {
            "text/plain": [
              "array([1, 2, 3])"
            ]
          },
          "metadata": {
            "tags": []
          },
          "execution_count": 27
        }
      ]
    },
    {
      "cell_type": "code",
      "metadata": {
        "id": "_ZlAcbr6bMS7",
        "colab_type": "code",
        "outputId": "8bfb7dd2-0fc9-423b-f462-665da18035f7",
        "colab": {
          "base_uri": "https://localhost:8080/",
          "height": 34
        }
      },
      "source": [
        "a = np.array([1,2,3])\n",
        "b = np.array([1,2,3])\n",
        "c = a + b\n",
        "c"
      ],
      "execution_count": 0,
      "outputs": [
        {
          "output_type": "execute_result",
          "data": {
            "text/plain": [
              "array([2, 4, 6])"
            ]
          },
          "metadata": {
            "tags": []
          },
          "execution_count": 28
        }
      ]
    },
    {
      "cell_type": "code",
      "metadata": {
        "id": "6ai58fFybWcJ",
        "colab_type": "code",
        "outputId": "bdb4b332-be3f-40e3-8122-3fe5235eacb0",
        "colab": {
          "base_uri": "https://localhost:8080/",
          "height": 34
        }
      },
      "source": [
        "d = a - b\n",
        "d"
      ],
      "execution_count": 0,
      "outputs": [
        {
          "output_type": "execute_result",
          "data": {
            "text/plain": [
              "array([0, 0, 0])"
            ]
          },
          "metadata": {
            "tags": []
          },
          "execution_count": 29
        }
      ]
    },
    {
      "cell_type": "code",
      "metadata": {
        "id": "O-853333bb8f",
        "colab_type": "code",
        "outputId": "8072fd5e-c8a8-40f4-f1f4-dae80b160668",
        "colab": {
          "base_uri": "https://localhost:8080/",
          "height": 34
        }
      },
      "source": [
        "e = a * b\n",
        "e"
      ],
      "execution_count": 0,
      "outputs": [
        {
          "output_type": "execute_result",
          "data": {
            "text/plain": [
              "array([1, 4, 9])"
            ]
          },
          "metadata": {
            "tags": []
          },
          "execution_count": 30
        }
      ]
    },
    {
      "cell_type": "code",
      "metadata": {
        "id": "Mw1r_ekMbfAk",
        "colab_type": "code",
        "outputId": "988c1a7d-930a-46d6-c891-0b9da2e50ec7",
        "colab": {
          "base_uri": "https://localhost:8080/",
          "height": 34
        }
      },
      "source": [
        "f = a / b\n",
        "f"
      ],
      "execution_count": 0,
      "outputs": [
        {
          "output_type": "execute_result",
          "data": {
            "text/plain": [
              "array([1., 1., 1.])"
            ]
          },
          "metadata": {
            "tags": []
          },
          "execution_count": 31
        }
      ]
    },
    {
      "cell_type": "markdown",
      "metadata": {
        "id": "Xtf3fBeJbyfl",
        "colab_type": "text"
      },
      "source": [
        "### Vector dot product\n",
        "\n",
        "* The sum of the multiplied elements of two vectors of the same length."
      ]
    },
    {
      "cell_type": "code",
      "metadata": {
        "id": "N1uV3vnobut0",
        "colab_type": "code",
        "outputId": "74cee106-4dc9-4476-a5ec-15cae7b4acf5",
        "colab": {
          "base_uri": "https://localhost:8080/",
          "height": 34
        }
      },
      "source": [
        "g = a.dot(b)\n",
        "g"
      ],
      "execution_count": 0,
      "outputs": [
        {
          "output_type": "execute_result",
          "data": {
            "text/plain": [
              "14"
            ]
          },
          "metadata": {
            "tags": []
          },
          "execution_count": 32
        }
      ]
    },
    {
      "cell_type": "markdown",
      "metadata": {
        "id": "qjdsmJ8echb6",
        "colab_type": "text"
      },
      "source": [
        "### Vector-scalar multiplication\n",
        "\n",
        "* Multiply each element of the vector by a scalar, resulting in a new scaled vector of the same length"
      ]
    },
    {
      "cell_type": "code",
      "metadata": {
        "id": "0Z9C-CwqcFb7",
        "colab_type": "code",
        "outputId": "37eca64a-027b-4395-8b85-1d3288bc7f75",
        "colab": {
          "base_uri": "https://localhost:8080/",
          "height": 34
        }
      },
      "source": [
        "s = 0.5\n",
        "s * a"
      ],
      "execution_count": 0,
      "outputs": [
        {
          "output_type": "execute_result",
          "data": {
            "text/plain": [
              "array([0.5, 1. , 1.5])"
            ]
          },
          "metadata": {
            "tags": []
          },
          "execution_count": 33
        }
      ]
    },
    {
      "cell_type": "markdown",
      "metadata": {
        "id": "tQeRRKkSf_a_",
        "colab_type": "text"
      },
      "source": [
        "## Chapter 8 - Vector Norms\n",
        "\n",
        "* Vector norm is the calculation of vector lengths or magnitudes;\n",
        "\n",
        "* $L^1$ norm is the sum of the absolute values of the vector;\n",
        "\n",
        "* $L^2$ norm is the square root of the sum of the squared vector values;\n",
        "\n",
        "* The $max$ norm is the maximum vector values.\n",
        "\n",
        "\n",
        "### Vector norm (magnitude)\n",
        "\n",
        "* The length of the vector is always a positive number, except for a vector of zeros as values;\n",
        "\n",
        "* It's calculated using some measure that summarizes the distance of the vector from the origin of the vector space.\n",
        "\n",
        "### Vector $L¹$ norm\n",
        "\n",
        "* The notation of a vector is $||v||_1$, where 1 is a subcript;\n",
        "\n",
        "* This length is sometimes called **the taxicab norm** or **the Manhattan norm**;\n",
        "\n",
        "$L^1(v) = ||v||_1$\n",
        "\n",
        "* It's calculated as the sum of the absolute vector values, where the absolute value of a scalar uses the notation $|a_1|$;\n",
        "\n",
        "* The norm is a calculation of the Manhattan distance from the origin of the vector space\n",
        "\n",
        "$||v||_1 = |a_1| + |a_2| + |a_3|$\n",
        "\n",
        "* It can be calculated in Numpy using the `norm()` function with a paramater to specify the norm order (1 in this case)\n",
        "\n"
      ]
    },
    {
      "cell_type": "code",
      "metadata": {
        "id": "jyy9CjAGcewe",
        "colab_type": "code",
        "outputId": "b4ef30e2-08c7-42e8-d886-54d6c79aee7f",
        "colab": {
          "base_uri": "https://localhost:8080/",
          "height": 34
        }
      },
      "source": [
        "a = np.array([1, 2, 3])\n",
        "l1 = np.linalg.norm(a, 1)\n",
        "l1"
      ],
      "execution_count": 0,
      "outputs": [
        {
          "output_type": "execute_result",
          "data": {
            "text/plain": [
              "6.0"
            ]
          },
          "metadata": {
            "tags": []
          },
          "execution_count": 35
        }
      ]
    },
    {
      "cell_type": "markdown",
      "metadata": {
        "id": "HEYHF2M1plTm",
        "colab_type": "text"
      },
      "source": [
        "> The $L^1$ norm is often used when fitting ML algorithms as a regularization method. For example, a method to keep the coefficients of the model small and in turn, the model less complex.\n",
        "\n",
        "### Vector $L^2$ norm\n",
        "\n",
        "* The notation is $||v||_2$, where 2 is a subscript\n",
        "\n",
        "$L^2(v) = ||v||_2$\n",
        "\n",
        "* It calculates the distance of the vector coordinate from the origin of the vector space. Also know as **the Euclidean norm** as it's calculated as the Euclidean distance from the origin;\n",
        "\n",
        "* It's calculated as the square root of the sum of the squared vector values;\n",
        "\n",
        "$||v||_2 = \\sqrt{a^2_1 + a^2_2 + a^2_3}$\n",
        "\n",
        "* It can be calculated in Numpy using the `norm()` function with default parameters;"
      ]
    },
    {
      "cell_type": "code",
      "metadata": {
        "id": "rpgTf0E2pS_O",
        "colab_type": "code",
        "outputId": "b424109d-c8a1-47a1-85aa-73802a02d2cc",
        "colab": {
          "base_uri": "https://localhost:8080/",
          "height": 34
        }
      },
      "source": [
        "l2 = np.linalg.norm(a)\n",
        "l2"
      ],
      "execution_count": 0,
      "outputs": [
        {
          "output_type": "execute_result",
          "data": {
            "text/plain": [
              "3.7416573867739413"
            ]
          },
          "metadata": {
            "tags": []
          },
          "execution_count": 36
        }
      ]
    },
    {
      "cell_type": "markdown",
      "metadata": {
        "id": "mfn0-jShrvWL",
        "colab_type": "text"
      },
      "source": [
        "> Like $L^1$ norm, $L^2$ norm is often used when fitting ML algorithms as a regularization method, but is more commonly used than other vector norms in ML. For example, a method to keep the coefficients of the model small and, in turn, the model less complex.\n",
        "\n",
        "### Vector Max norm\n",
        "\n",
        "* Referred as $L^{inf}$, the notation is $||v||_{inf}$;\n",
        "\n",
        "$L^{inf}(v) = ||v||_{inf}$\n",
        "\n",
        "* It's calculated as returning the maximum value of the vector;\n",
        "\n",
        "$||v||_{inf} = \\mathrm{max}a_1,a_2,a_3$\n",
        "\n",
        "* It can be calculated in Numpy using the `norm()` function with the order parameter set to `inf`."
      ]
    },
    {
      "cell_type": "code",
      "metadata": {
        "id": "mtdl9Jm8rn6y",
        "colab_type": "code",
        "outputId": "25dc3766-e6ff-4927-8937-737de2d5fa39",
        "colab": {
          "base_uri": "https://localhost:8080/",
          "height": 34
        }
      },
      "source": [
        "from math import inf\n",
        "\n",
        "maxnorm = np.linalg.norm(a, inf)\n",
        "maxnorm"
      ],
      "execution_count": 0,
      "outputs": [
        {
          "output_type": "execute_result",
          "data": {
            "text/plain": [
              "3.0"
            ]
          },
          "metadata": {
            "tags": []
          },
          "execution_count": 39
        }
      ]
    },
    {
      "cell_type": "markdown",
      "metadata": {
        "id": "kV1PK74aw5Rp",
        "colab_type": "text"
      },
      "source": [
        "> Max norm is also used as a regularization in ML, such as on NN weights, called max norm regularization.\n",
        "\n",
        "---\n",
        "\n",
        "## Chapter 9 - Matrices and matrix arithmetic\n",
        "\n",
        "* Matrix is a two-dimensional array (a table) of numbers;\n",
        "\n",
        "* The notation is often an uppercase letter, such as $A$, and entries are referred to by their two-dimensional subscript of row ($i$) and column ($j$), such as $a_{i,j}$;\n",
        "\n",
        "$A = ((a_{1,1},a_{1,2}),(a_{2,1},a_{2,2}),(a_{3,1},a_{3,2}))$\n",
        "\n",
        "* Often the dimensions of the matrix are denoted as $m$ and $n$ or $m \\times n$ for the number of rows and the number of columns respectively.\n",
        "\n",
        "### Defining a matrix\n",
        "\n",
        "* In python we can represent a matrix using a two-dimensional Numpy array.\n"
      ]
    },
    {
      "cell_type": "code",
      "metadata": {
        "id": "-jmZL7wSwtlr",
        "colab_type": "code",
        "outputId": "c52bf0f0-09a0-489f-86e9-ec33c3dfadb7",
        "colab": {
          "base_uri": "https://localhost:8080/",
          "height": 52
        }
      },
      "source": [
        "A = np.array([[1, 2, 3],\n",
        "              [4, 5, 6]])\n",
        "A"
      ],
      "execution_count": 0,
      "outputs": [
        {
          "output_type": "execute_result",
          "data": {
            "text/plain": [
              "array([[1, 2, 3],\n",
              "       [4, 5, 6]])"
            ]
          },
          "metadata": {
            "tags": []
          },
          "execution_count": 40
        }
      ]
    },
    {
      "cell_type": "markdown",
      "metadata": {
        "id": "Sx2ichD79xu9",
        "colab_type": "text"
      },
      "source": [
        "### Matrix arithmetic\n",
        "\n",
        "* Some operations are performed element-wise between two matrices of equal size to result in a new matrix with the same size."
      ]
    },
    {
      "cell_type": "code",
      "metadata": {
        "id": "VcvascXb9kZQ",
        "colab_type": "code",
        "outputId": "146e048a-3747-40ca-f165-fb5d31dde190",
        "colab": {
          "base_uri": "https://localhost:8080/",
          "height": 87
        }
      },
      "source": [
        "# Define first matrix\n",
        "A = np.array([[1, 2, 3],\n",
        "              [4, 5, 6]])\n",
        "print(A)\n",
        "# Define second matrix\n",
        "B = np.array([[0.5, 0.5, 0.5],\n",
        "              [0.5, 0.5, 0.5]])\n",
        "print(B)\n"
      ],
      "execution_count": 0,
      "outputs": [
        {
          "output_type": "stream",
          "text": [
            "[[1 2 3]\n",
            " [4 5 6]]\n",
            "[[0.5 0.5 0.5]\n",
            " [0.5 0.5 0.5]]\n"
          ],
          "name": "stdout"
        }
      ]
    },
    {
      "cell_type": "code",
      "metadata": {
        "id": "MbLjQT0v-YKq",
        "colab_type": "code",
        "outputId": "64cbd948-8aac-4029-ad80-77bdb824b1ca",
        "colab": {
          "base_uri": "https://localhost:8080/",
          "height": 52
        }
      },
      "source": [
        "# Matrix addition\n",
        "C = A + B\n",
        "print(C)"
      ],
      "execution_count": 0,
      "outputs": [
        {
          "output_type": "stream",
          "text": [
            "[[1.5 2.5 3.5]\n",
            " [4.5 5.5 6.5]]\n"
          ],
          "name": "stdout"
        }
      ]
    },
    {
      "cell_type": "code",
      "metadata": {
        "id": "Txhpjhcq9ivX",
        "colab_type": "code",
        "outputId": "98cc4119-09cf-4404-b884-6843a5baf459",
        "colab": {
          "base_uri": "https://localhost:8080/",
          "height": 52
        }
      },
      "source": [
        "# Matrix subtraction\n",
        "D = A - B\n",
        "print(D)"
      ],
      "execution_count": 0,
      "outputs": [
        {
          "output_type": "stream",
          "text": [
            "[[0.5 1.5 2.5]\n",
            " [3.5 4.5 5.5]]\n"
          ],
          "name": "stdout"
        }
      ]
    },
    {
      "cell_type": "code",
      "metadata": {
        "id": "oiDhz8IQ-ULc",
        "colab_type": "code",
        "outputId": "187b629f-866c-449f-912c-49bc9e3c552d",
        "colab": {
          "base_uri": "https://localhost:8080/",
          "height": 52
        }
      },
      "source": [
        "# Matrix multiplication (Hadamard product)\n",
        "E = A * B\n",
        "print(E)"
      ],
      "execution_count": 0,
      "outputs": [
        {
          "output_type": "stream",
          "text": [
            "[[0.5 1.  1.5]\n",
            " [2.  2.5 3. ]]\n"
          ],
          "name": "stdout"
        }
      ]
    },
    {
      "cell_type": "code",
      "metadata": {
        "id": "8PEwpgaF-3_Q",
        "colab_type": "code",
        "outputId": "04cc6025-0a10-4325-86dc-7cf1ca8bc309",
        "colab": {
          "base_uri": "https://localhost:8080/",
          "height": 52
        }
      },
      "source": [
        "# Matrix division\n",
        "F = A / B\n",
        "print(F)"
      ],
      "execution_count": 0,
      "outputs": [
        {
          "output_type": "stream",
          "text": [
            "[[ 2.  4.  6.]\n",
            " [ 8. 10. 12.]]\n"
          ],
          "name": "stdout"
        }
      ]
    },
    {
      "cell_type": "code",
      "metadata": {
        "id": "g3tpiNqY-_YN",
        "colab_type": "code",
        "colab": {}
      },
      "source": [
        "# Matrix-matrix multiplication (matrix dot)"
      ],
      "execution_count": 0,
      "outputs": []
    },
    {
      "cell_type": "markdown",
      "metadata": {
        "id": "abeOw7w9_NKx",
        "colab_type": "text"
      },
      "source": [
        "* In matrix-matrix multiplication, the number of columns ($n$) in the first matrix ($A$) must be equal the number of rows ($m$) in the second matrix ($B$)\n",
        "\n",
        "$C(m,k) = A(m,n) \\cdot B(n,k)$\n",
        "\n",
        "* The matrix multiplication using matrix notation\n",
        "\n",
        "$ A = \\begin{pmatrix}\n",
        "       a_{1,1} & a_{1,2} \\\\[0.3em]\n",
        "       a_{2,1} & a_{2,2} \\\\[0.3em]\n",
        "       a_{3,1} & a_{3,2} \\end{pmatrix}$\n",
        "\n",
        "$ B = \\begin{pmatrix}\n",
        "       b_{1,1} & b_{1,2} \\\\[0.3em]\n",
        "       b_{2,1} & b_{2,2} \\end{pmatrix}$\n",
        "\n",
        "$ C = \\begin{pmatrix}\n",
        "       a_{1,1} \\times b_{1,1} + a_{1,2} \\times b_{2,1},a_{1,1} \\times b_{1,2} + a_{1,2} \\times b_{2,2} \\\\\n",
        "       a_{2,1} \\times b_{1,1} + a_{2,2} \\times b_{2,1},a_{2,1} \\times b_{1,2} + a_{2,2} \\times b_{2,2} \\\\\n",
        "       a_{3,1} \\times b_{1,1} + a_{3,2} \\times b_{2,1},a_{3,1} \\times b_{1,2} + a_{3,2} \\times b_{2,2} \\\\ \\end{pmatrix}$\n",
        "       \n",
        "       "
      ]
    },
    {
      "cell_type": "markdown",
      "metadata": {
        "id": "LTHMdjxSCiKI",
        "colab_type": "text"
      },
      "source": [
        "* It can be implemented in Numpy using the `dot()` function or with the `@` in python3.5."
      ]
    },
    {
      "cell_type": "code",
      "metadata": {
        "id": "zes41fDVDXuB",
        "colab_type": "code",
        "outputId": "c05249a9-c71a-4ed3-d64b-3159fa031984",
        "colab": {
          "base_uri": "https://localhost:8080/",
          "height": 105
        }
      },
      "source": [
        "# define first matrix\n",
        "A = np.array([\n",
        "[1, 2],\n",
        "[3, 4],\n",
        "[5, 6]])\n",
        "print(A)\n",
        "# define second matrix\n",
        "B = np.array([\n",
        "[1, 2],\n",
        "[3, 4]])\n",
        "print(B)"
      ],
      "execution_count": 0,
      "outputs": [
        {
          "output_type": "stream",
          "text": [
            "[[1 2]\n",
            " [3 4]\n",
            " [5 6]]\n",
            "[[1 2]\n",
            " [3 4]]\n"
          ],
          "name": "stdout"
        }
      ]
    },
    {
      "cell_type": "code",
      "metadata": {
        "id": "S2PSl7M4Debx",
        "colab_type": "code",
        "outputId": "84460338-9524-43d2-8a1f-a9ad4e9bc952",
        "colab": {
          "base_uri": "https://localhost:8080/",
          "height": 123
        }
      },
      "source": [
        "# multiply matrices\n",
        "C = A.dot(B)\n",
        "print(C)\n",
        "# multiply matrices with @ operator\n",
        "D = A @ B\n",
        "print(D)"
      ],
      "execution_count": 0,
      "outputs": [
        {
          "output_type": "stream",
          "text": [
            "[[ 7 10]\n",
            " [15 22]\n",
            " [23 34]]\n",
            "[[ 7 10]\n",
            " [15 22]\n",
            " [23 34]]\n"
          ],
          "name": "stdout"
        }
      ]
    },
    {
      "cell_type": "markdown",
      "metadata": {
        "id": "blle87iEEh_4",
        "colab_type": "text"
      },
      "source": [
        "### Matrix-vector multiplication\n",
        "\n",
        "* The number of columns in the matrix must be equal the number of items in the vector;\n",
        "\n",
        "* Because the vector only has one column, the result is always a vector;\n",
        "\n",
        "$c = A \\cdot v$\n",
        "\n",
        "$ A = \\begin{pmatrix}\n",
        "       a_{1,1} & a_{1,2} \\\\[0.3em]\n",
        "       a_{2,1} & a_{2,2} \\\\[0.3em]\n",
        "       a_{3,1} & a_{3,2} \\end{pmatrix}$\n",
        "\n",
        "$ v = \\begin{pmatrix}\n",
        "       v_1 \\\\[0.3em]\n",
        "       v_2 \\end{pmatrix}$\n",
        "\n",
        "$ c = \\begin{pmatrix}\n",
        "       a_{1,1} \\times v_1 + a_{1,2} \\times v_2 \\\\\n",
        "       a_{2,1} \\times v_1 + a_{2,2} \\times v_2 \\\\\n",
        "       a_{3,1} \\times v_1 + a_{3,2} \\times v_2 \\\\ \\end{pmatrix}$\n",
        "       "
      ]
    },
    {
      "cell_type": "code",
      "metadata": {
        "id": "5I-oTPZjDjUD",
        "colab_type": "code",
        "outputId": "3c26030c-a863-4d99-d5ca-043b2e6051d2",
        "colab": {
          "base_uri": "https://localhost:8080/",
          "height": 105
        }
      },
      "source": [
        "# matrix-vector multiplication\n",
        "A = np.array([\n",
        "[1, 2],\n",
        "[3, 4],\n",
        "[5, 6]])\n",
        "print(A)\n",
        "# define vector\n",
        "B = np.array([0.5, 0.5])\n",
        "print(B)\n",
        "# multiply\n",
        "C = A.dot(B)\n",
        "print(C)"
      ],
      "execution_count": 0,
      "outputs": [
        {
          "output_type": "stream",
          "text": [
            "[[1 2]\n",
            " [3 4]\n",
            " [5 6]]\n",
            "[0.5 0.5]\n",
            "[1.5 3.5 5.5]\n"
          ],
          "name": "stdout"
        }
      ]
    },
    {
      "cell_type": "markdown",
      "metadata": {
        "id": "hH5CdWRXFp5p",
        "colab_type": "text"
      },
      "source": [
        "### Matrix-scalar multiplication\n",
        "\n",
        "$C = A \\cdot b$\n",
        "\n",
        "$ A = \\begin{pmatrix}\n",
        "       a_{1,1} & a_{1,2} \\\\[0.3em]\n",
        "       a_{2,1} & a_{2,2} \\\\[0.3em]\n",
        "       a_{3,1} & a_{3,2} \\end{pmatrix}$\n",
        "\n",
        "$ c = \\begin{pmatrix}\n",
        "       a_{1,1} \\times b+ a_{1,2} \\times b \\\\\n",
        "       a_{2,1} \\times b + a_{2,2} \\times b \\\\\n",
        "       a_{3,1} \\times b + a_{3,2} \\times b \\\\ \\end{pmatrix}$"
      ]
    },
    {
      "cell_type": "code",
      "metadata": {
        "id": "YVyc8n4XFlsc",
        "colab_type": "code",
        "outputId": "e95a8a38-975b-4b73-9857-cd69898db523",
        "colab": {
          "base_uri": "https://localhost:8080/",
          "height": 141
        }
      },
      "source": [
        "# matrix-scalar multiplication\n",
        "A = np.array([[1, 2], [3, 4], [5, 6]])\n",
        "print(A)\n",
        "# define scalar\n",
        "b = 0.5\n",
        "print(b)\n",
        "# multiply\n",
        "C = A * b\n",
        "print(C)"
      ],
      "execution_count": 0,
      "outputs": [
        {
          "output_type": "stream",
          "text": [
            "[[1 2]\n",
            " [3 4]\n",
            " [5 6]]\n",
            "0.5\n",
            "[[0.5 1. ]\n",
            " [1.5 2. ]\n",
            " [2.5 3. ]]\n"
          ],
          "name": "stdout"
        }
      ]
    },
    {
      "cell_type": "markdown",
      "metadata": {
        "id": "a0EmxRqsGG5K",
        "colab_type": "text"
      },
      "source": [
        "## Chapter 10 - Types of matrices"
      ]
    },
    {
      "cell_type": "code",
      "metadata": {
        "id": "CSUw9Ku7GC2k",
        "colab_type": "code",
        "colab": {}
      },
      "source": [
        ""
      ],
      "execution_count": 0,
      "outputs": []
    }
  ]
}