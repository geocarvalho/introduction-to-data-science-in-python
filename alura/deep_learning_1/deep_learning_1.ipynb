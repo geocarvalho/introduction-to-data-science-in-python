{
  "nbformat": 4,
  "nbformat_minor": 0,
  "metadata": {
    "colab": {
      "name": "deep_learning_1.ipynb",
      "provenance": [],
      "collapsed_sections": [],
      "include_colab_link": true
    },
    "kernelspec": {
      "name": "python3",
      "display_name": "Python 3"
    }
  },
  "cells": [
    {
      "cell_type": "markdown",
      "metadata": {
        "id": "view-in-github",
        "colab_type": "text"
      },
      "source": [
        "<a href=\"https://colab.research.google.com/github/geocarvalho/python-ds/blob/master/alura/deep_learning_1/deep_learning_1.ipynb\" target=\"_parent\"><img src=\"https://colab.research.google.com/assets/colab-badge.svg\" alt=\"Open In Colab\"/></a>"
      ]
    },
    {
      "cell_type": "code",
      "metadata": {
        "id": "1iYc2aV0YgOn",
        "colab_type": "code",
        "colab": {}
      },
      "source": [
        "import tensorflow\n",
        "from tensorflow import keras\n",
        "import pandas as pd\n",
        "import numpy as np\n",
        "import matplotlib.pyplot as plt\n",
        "from tensorflow.keras.models import load_model\n",
        "from google.colab import files"
      ],
      "execution_count": 0,
      "outputs": []
    },
    {
      "cell_type": "markdown",
      "metadata": {
        "id": "iSXOW-6kRYML",
        "colab_type": "text"
      },
      "source": [
        "# Abrindo e visualizando o dataset"
      ]
    },
    {
      "cell_type": "code",
      "metadata": {
        "id": "TUzBuSKnZKL2",
        "colab_type": "code",
        "outputId": "8936c73a-f8b6-4747-fe15-4b086ab668d0",
        "colab": {
          "base_uri": "https://localhost:8080/",
          "height": 34
        }
      },
      "source": [
        "dataset = keras.datasets.fashion_mnist\n",
        "# 2 tuplas, treino e teste\n",
        "((X_train, y_train), (X_test, y_test)) = dataset.load_data()\n",
        "# Normalização para redução da perda\n",
        "X_train = X_train / 255.0\n",
        "X_train.shape, X_test.shape, y_train.shape, y_test.shape"
      ],
      "execution_count": 9,
      "outputs": [
        {
          "output_type": "execute_result",
          "data": {
            "text/plain": [
              "((60000, 28, 28), (10000, 28, 28), (60000,), (10000,))"
            ]
          },
          "metadata": {
            "tags": []
          },
          "execution_count": 9
        }
      ]
    },
    {
      "cell_type": "markdown",
      "metadata": {
        "id": "PnxB7YVdagu2",
        "colab_type": "text"
      },
      "source": [
        "* Deep learning tem funçẽs que extraem características das imagens;\n",
        "* Enquanto o modelo de Machine Learning aprende com as características que nomeamos, as funções de Deep Learning extraem essas características, pois entendem quais características são essas. Lembrando que essa extração não precisa ser apenas para imagens ou problemas de classificação, podemos aplicar essa técnica para outros tipos de dados e problemas;\n",
        "* O MNIST (site em inglês) é um conjunto de imagens de números escritos à mão, e o seu nome significa literalmente que é um dataset Modificado do Instituto Nacional de Padrões e Tecnologia (em inglês Modified National Institute of Standards and Technology database). E por que modificado? Porque já havia um dataset chamado NIST (do Instituto Nacional de Padrões e Tecnologia) que tinha sido formado por imagens de números escritos à mão coletados de um escritório norte americano responsável pelo censo e também de estudantes do colegial;\n",
        "* Então, agora sabemos que antes tinha o NIST, e depois o MNIST que modificou o NIST. Logo, o MNIST pegou as imagens de números no NIST, formatou essas imagens em 28x28 pixels e as deixou em escala de cinza. Ele possui 60.000 imagens para treino e 10.000 imagens para teste;\n",
        "* Após a criação do MNIST, ele acabou virando o padrão de uso para o aprendizado de máquina, e resultados próximos a uma identificação humana de dígitos foram atingidos com ele. O que tornou a tarefa de reconhecer dígitos mais fácil, tão fácil que entender esse dataset parou de ser algo desafiador para os modelos da época;\n",
        "* E aí surgiu o EMNIST (arquivo em inglês), com E de extensão. E, do mesmo modo que o MNIST tinha herdado do NIST, o EMNIST herdou a “estrutura” do MNIST e adicionou letras aos números. Agora, tínhamos um dataset com números e letras;\n",
        "* Mas, ao começar a usar o dataset, as letras do EMNIST ainda ficavam muito próximas dos números, o que não foi o bastante para aumentar a complexidade da tarefa. As pessoas criando modelos e fazendo pesquisa ainda queriam algo mais desafiador. E agora? Uma resposta foi mudar o padrão original “alfa-numérico” e identificar imagens de roupas de uma loja alemã chamada Zalando (site em inglês), criando assim o Fashion MNIST (github em inglês);\n",
        "* Há muitas bases disponíveis, como as da [Kaggle](https://www.kaggle.com/datasets), [AWS](https://registry.opendata.aws/), [Google](https://storage.googleapis.com/openimages/web/index.html) e fazendo uma busca você vai encontrar ainda mais bases e sites que as agrupam. Caso queira fazer o teste, o que eu aconselho é testar primeiro com outra base do próprio Keras, pois ela já estará limpa e pronta para ser carregada;\n",
        "* Também atente para a qualidade, variedade e tipo dos dados, algo muito importante para não termos redes enviesadas ou que performem de modo precário."
      ]
    },
    {
      "cell_type": "code",
      "metadata": {
        "id": "QZ4VD3nPZj8Z",
        "colab_type": "code",
        "outputId": "58aeef2c-f919-4b2f-ea0f-240c143eadc2",
        "colab": {
          "base_uri": "https://localhost:8080/",
          "height": 298
        }
      },
      "source": [
        "plt.imshow(X_train[0])\n",
        "plt.title(y_train[0])"
      ],
      "execution_count": 10,
      "outputs": [
        {
          "output_type": "execute_result",
          "data": {
            "text/plain": [
              "Text(0.5, 1.0, '9')"
            ]
          },
          "metadata": {
            "tags": []
          },
          "execution_count": 10
        },
        {
          "output_type": "display_data",
          "data": {
            "image/png": "[encoded data removed]",
            "text/plain": [
              "<Figure size 432x288 with 1 Axes>"
            ]
          },
          "metadata": {
            "tags": []
          }
        }
      ]
    },
    {
      "cell_type": "markdown",
      "metadata": {
        "id": "9E5CWFU4d4UF",
        "colab_type": "text"
      },
      "source": [
        "* Mas, se o Keras está acima do Tensorflow, porque não usamos o Tensorflow direto? Um aspecto da resposta é porque a maioria das implementações de projetos de Deep Learning se baseia em duas coisas: vetores e tensores.\n",
        "\n",
        "* Se eu te pedir para me dizer quais as distâncias que juntas mostram onde o ponto vermelho está nesse gráfico:\n",
        "\n",
        "![img](https://s3.amazonaws.com/caelum-online-public/982-tensorflow/image6.png)\n",
        "\n",
        "* Você irá me dizer 5 cm, 12 cm, certo? E aí podemos agrupar esses números para facilitar, como (5,12);\n",
        "\n",
        "* Esse agrupamento que descreve onde o ponto está, ou as suas coordenadas, é um vetor. E sim, o conceito de vetor que temos aqui é um conceito um pouco diferente daquele que aprendemos quando estudamos as disciplinas de Física ou Matemática.\n",
        "\n",
        "* E, se olharmos para esse vetor (5, 12), temos 2 números que descrevem um ponto, mas podíamos ter 3 números, como nesse vértice do cubo.\n",
        "\n",
        "![img2](https://s3.amazonaws.com/caelum-online-public/982-tensorflow/image2.png)\n",
        "\n",
        "* E aí para descrevê-lo teríamos `vetor = (10,10,10)`. E esse vetor que usamos para descrever o ponto do cubo pode ser chamado também de tensor. Então tensor e vetor são a mesma coisa? Não, tensor é uma generalização que serve também para vetor, então todo vetor é um tensor, mas nem sempre podemos chamar um tensor de vetor.\n",
        "\n",
        "* Repare que no gráfico temos 2 coordenadas para descrever o ponto, então temos 2 eixos e duas dimensões. Já, quando descrevemos o vértice do cubo temos 3 números, então 3 eixos e 3 dimensões;\n",
        "\n",
        "* Um vetor vai ter duas dimensões, mas um tensor pode ter quantas dimensões quisermos. Agora, imagine declarar e configurar um tensor de 70.000 dimensões. Começa a ficar complicado. E imagine implementar cada algoritmo que vai rodar nesse tensor, vai levar um pouco mais de tempo. Estamos extrapolando nesse exemplo, muitas dessas coisas são facilitadas pelo próprio Tensorflow, mas podemos usar o Keras para abstrairmos e só dizermos o que a gente quer que o nosso modelo faça, deixando o Tensorflow se virar para fazer isso lá no baixo nível.\n",
        "\n",
        "* Mas, não há apenas o Keras como API de Deep Learning, há também muitas outras como:\n",
        "\n",
        "1. [Caffe](http://caffe.berkeleyvision.org/) do grupo de pesquisa da universidade de Berkeley,\n",
        "2. [Torch](http://torch.ch/) uma implementação usando Lua,\n",
        "3. [PyTorch](https://pytorch.org/) uma variação do Torch para Python,\n",
        "4. [CNTK](https://docs.microsoft.com/en-us/cognitive-toolkit/) da Microsoft,\n",
        "5. [DL4J](https://deeplearning4j.org/) uma implementação usando Java,\n",
        "6. [MXNet](https://mxnet.incubator.apache.org/) da Apache.\n",
        "\n",
        "> Cada uma delas tem as suas particularidades, é sempre legal experimentar e ver aquela com a qual se sente mais confortável.\n",
        "\n",
        "* Além disso, tudo depende do objetivo do projeto. Se está desenvolvendo e testando um modelo, prototipando, é interessante usar uma API de alto nível para ganhar velocidade e descer de nível ao ter algo mais concreto para implementar à medida que for precisando obter mais controle sobre o modelo.\n",
        "\n",
        "* Lembrando que, quanto mais a API for próxima da linguagem natural, menos controle você vai ter do que acontece por debaixo dos panos, e quanto mais próxima ela for do baixo nível ou dos tensores (um teste pode ser fazer uma implementação usando Tensorflow puro) mais controle você vai ter do modelo que for desenvolver."
      ]
    },
    {
      "cell_type": "code",
      "metadata": {
        "id": "AEwpnNcOde85",
        "colab_type": "code",
        "outputId": "50e88db7-e132-4e0f-bcb0-519c3cc4c674",
        "colab": {
          "base_uri": "https://localhost:8080/",
          "height": 34
        }
      },
      "source": [
        "y_train.min(), y_train.max()"
      ],
      "execution_count": 11,
      "outputs": [
        {
          "output_type": "execute_result",
          "data": {
            "text/plain": [
              "(0, 9)"
            ]
          },
          "metadata": {
            "tags": []
          },
          "execution_count": 11
        }
      ]
    },
    {
      "cell_type": "code",
      "metadata": {
        "id": "FGGfrJujWl1W",
        "colab_type": "code",
        "outputId": "3c997c0b-0d64-4ebf-dc27-73ff20e357c8",
        "colab": {
          "base_uri": "https://localhost:8080/",
          "height": 240
        }
      },
      "source": [
        "total_de_classificacoes = 10\n",
        "nomes_de_classificacoes = {\n",
        "    0:'Camiseta', 1:'Calça', 2:'Pullover', 3:'Vestido', 4:'Casaco',\n",
        "    5:'Sandália', 6:'Camisa', 7:'Tẽnis', 8:'Bolsa', 9:'Bota'\n",
        "}\n",
        "for imagem in range(10):\n",
        "  plt.subplot(2,5,imagem+1)\n",
        "  plt.imshow(X_train[imagem])\n",
        "  plt.title(nomes_de_classificacoes[y_train[imagem]])"
      ],
      "execution_count": 12,
      "outputs": [
        {
          "output_type": "display_data",
          "data": {
            "image/png": "[encoded data removed]",
            "text/plain": [
              "<Figure size 432x288 with 10 Axes>"
            ]
          },
          "metadata": {
            "tags": []
          }
        }
      ]
    },
    {
      "cell_type": "markdown",
      "metadata": {
        "id": "SkquofQ6eSqF",
        "colab_type": "text"
      },
      "source": [
        "* [Image manipulation and processing using Numpy and Scipy](http://scipy-lectures.org/advanced/image_processing/)"
      ]
    },
    {
      "cell_type": "code",
      "metadata": {
        "id": "ZPb9c4yvsnSM",
        "colab_type": "code",
        "outputId": "d1508671-ce00-4e56-a520-018a4ceb41d9",
        "colab": {
          "base_uri": "https://localhost:8080/",
          "height": 286
        }
      },
      "source": [
        "plt.imshow(X_train[0])\n",
        "plt.colorbar()"
      ],
      "execution_count": 14,
      "outputs": [
        {
          "output_type": "execute_result",
          "data": {
            "text/plain": [
              "<matplotlib.colorbar.Colorbar at 0x7f15b13acdd8>"
            ]
          },
          "metadata": {
            "tags": []
          },
          "execution_count": 14
        },
        {
          "output_type": "display_data",
          "data": {
            "image/png": "[encoded data removed]",
            "text/plain": [
              "<Figure size 432x288 with 2 Axes>"
            ]
          },
          "metadata": {
            "tags": []
          }
        }
      ]
    },
    {
      "cell_type": "markdown",
      "metadata": {
        "id": "blfEXhUVRjWT",
        "colab_type": "text"
      },
      "source": [
        "# Criação e treino do modelo"
      ]
    },
    {
      "cell_type": "code",
      "metadata": {
        "id": "OIc7lsoMXDko",
        "colab_type": "code",
        "outputId": "91a09696-9a31-4af8-9b5e-704f4920bdef",
        "colab": {
          "base_uri": "https://localhost:8080/",
          "height": 247
        }
      },
      "source": [
        "# Criar e treinar modelo\n",
        "modelo = keras.Sequential([\n",
        "                           keras.layers.Flatten(input_shape=(28,28)), # 0 - entrada - camada 0\n",
        "                           keras.layers.Dense(256, activation=tensorflow.nn.relu), # 1.1 - processamento - camada oculta\n",
        "                           keras.layers.Dropout(0.2), # deixar camadas dormentes, tipo de normalização\n",
        "                          #  keras.layers.Dense(128, activation=tensorflow.nn.relu), # 1.2 - processamento - camada oculta\n",
        "                          #  keras.layers.Dense(64, activation=tensorflow.nn.relu), # 1.3 - processamento - camada oculta\n",
        "                           keras.layers.Dense(10, activation=tensorflow.nn.softmax) # 2 - saida\n",
        "])\n",
        "modelo.compile(optimizer='adam', loss='sparse_categorical_crossentropy', metrics=['accuracy'])\n",
        "historico = modelo.fit(X_train, y_train, epochs=6, validation_split=0.2)"
      ],
      "execution_count": 53,
      "outputs": [
        {
          "output_type": "stream",
          "text": [
            "Train on 48000 samples, validate on 12000 samples\n",
            "Epoch 1/6\n",
            "48000/48000 [==============================] - 6s 125us/sample - loss: 0.5288 - acc: 0.8105 - val_loss: 0.4473 - val_acc: 0.8268\n",
            "Epoch 2/6\n",
            "48000/48000 [==============================] - 6s 125us/sample - loss: 0.4005 - acc: 0.8539 - val_loss: 0.3615 - val_acc: 0.8717\n",
            "Epoch 3/6\n",
            "48000/48000 [==============================] - 6s 134us/sample - loss: 0.3608 - acc: 0.8676 - val_loss: 0.3515 - val_acc: 0.8756\n",
            "Epoch 4/6\n",
            "48000/48000 [==============================] - 6s 116us/sample - loss: 0.3400 - acc: 0.8750 - val_loss: 0.3423 - val_acc: 0.8779\n",
            "Epoch 5/6\n",
            "48000/48000 [==============================] - 6s 118us/sample - loss: 0.3225 - acc: 0.8798 - val_loss: 0.3231 - val_acc: 0.8836\n",
            "Epoch 6/6\n",
            "48000/48000 [==============================] - 6s 119us/sample - loss: 0.3087 - acc: 0.8856 - val_loss: 0.3292 - val_acc: 0.8816\n"
          ],
          "name": "stdout"
        }
      ]
    },
    {
      "cell_type": "markdown",
      "metadata": {
        "id": "9Q0shXH9RneC",
        "colab_type": "text"
      },
      "source": [
        "# Visualização dos resultados"
      ]
    },
    {
      "cell_type": "code",
      "metadata": {
        "id": "ONfi_vdvKbn0",
        "colab_type": "code",
        "colab": {
          "base_uri": "https://localhost:8080/",
          "height": 313
        },
        "outputId": "f21e514f-bd2f-45c5-fbac-8286ee4bf72c"
      },
      "source": [
        "plt.plot(historico.history['acc'])\n",
        "plt.plot(historico.history['val_acc'])\n",
        "plt.title('Acurácia por épocas')\n",
        "plt.xlabel('épocas')\n",
        "plt.ylabel('acurácia')\n",
        "plt.legend(['treino', 'validação'])"
      ],
      "execution_count": 54,
      "outputs": [
        {
          "output_type": "execute_result",
          "data": {
            "text/plain": [
              "<matplotlib.legend.Legend at 0x7f159efe0780>"
            ]
          },
          "metadata": {
            "tags": []
          },
          "execution_count": 54
        },
        {
          "output_type": "display_data",
          "data": {
            "image/png": "[encoded data removed]",
            "text/plain": [
              "<Figure size 432x288 with 1 Axes>"
            ]
          },
          "metadata": {
            "tags": []
          }
        }
      ]
    },
    {
      "cell_type": "markdown",
      "metadata": {
        "id": "oX6-0b5WMZoZ",
        "colab_type": "text"
      },
      "source": [
        "* Se a linha de treino vai bem e a de validação está baixando isso indica overfitting (o modelo entende mais treino do que validação"
      ]
    },
    {
      "cell_type": "code",
      "metadata": {
        "id": "W0GuQxIkLQr4",
        "colab_type": "code",
        "colab": {
          "base_uri": "https://localhost:8080/",
          "height": 313
        },
        "outputId": "d8557a6b-9f8f-4bc1-e31c-42454834cb05"
      },
      "source": [
        "plt.plot(historico.history['loss'])\n",
        "plt.plot(historico.history['val_loss'])\n",
        "plt.title('Perda por épocas')\n",
        "plt.xlabel('épocas')\n",
        "plt.ylabel('perda')\n",
        "plt.legend(['treino', 'validação'])"
      ],
      "execution_count": 55,
      "outputs": [
        {
          "output_type": "execute_result",
          "data": {
            "text/plain": [
              "<matplotlib.legend.Legend at 0x7f159eef5e80>"
            ]
          },
          "metadata": {
            "tags": []
          },
          "execution_count": 55
        },
        {
          "output_type": "display_data",
          "data": {
            "image/png": "[encoded data removed]",
            "text/plain": [
              "<Figure size 432x288 with 1 Axes>"
            ]
          },
          "metadata": {
            "tags": []
          }
        }
      ]
    },
    {
      "cell_type": "markdown",
      "metadata": {
        "id": "Pr5OiyhKMsyD",
        "colab_type": "text"
      },
      "source": [
        "* Se na perda o erro de teste está muito menor do que o de validação também indica overfitting."
      ]
    },
    {
      "cell_type": "markdown",
      "metadata": {
        "id": "xFCVjBGkRvzE",
        "colab_type": "text"
      },
      "source": [
        "# Avaliação do modelo"
      ]
    },
    {
      "cell_type": "code",
      "metadata": {
        "id": "nYkzTUrHuo0s",
        "colab_type": "code",
        "colab": {
          "base_uri": "https://localhost:8080/",
          "height": 34
        },
        "outputId": "df78df67-3814-40b4-8811-9ca4f392e1b1"
      },
      "source": [
        "# Avaliando manualmente\n",
        "testes = modelo.predict(X_test)\n",
        "resultados = np.argmax(testes[1])\n",
        "resultados, y_test[1]\n"
      ],
      "execution_count": 21,
      "outputs": [
        {
          "output_type": "execute_result",
          "data": {
            "text/plain": [
              "(2, 2)"
            ]
          },
          "metadata": {
            "tags": []
          },
          "execution_count": 21
        }
      ]
    },
    {
      "cell_type": "code",
      "metadata": {
        "id": "jvu95F5bvb7J",
        "colab_type": "code",
        "colab": {
          "base_uri": "https://localhost:8080/",
          "height": 52
        },
        "outputId": "89dbff6f-f9d3-48d0-8184-c37daa57a353"
      },
      "source": [
        "# Avaliando: (perda, acuracia)\n",
        "loss, acc = modelo.evaluate(X_test, y_test)\n",
        "loss, acc"
      ],
      "execution_count": 41,
      "outputs": [
        {
          "output_type": "stream",
          "text": [
            "10000/10000 [==============================] - 0s 44us/sample - loss: 57.8855 - acc: 0.8771\n"
          ],
          "name": "stdout"
        },
        {
          "output_type": "execute_result",
          "data": {
            "text/plain": [
              "(57.88551079169734, 0.8771)"
            ]
          },
          "metadata": {
            "tags": []
          },
          "execution_count": 41
        }
      ]
    },
    {
      "cell_type": "markdown",
      "metadata": {
        "id": "dFVLy9OmRzqs",
        "colab_type": "text"
      },
      "source": [
        "# Salvando o modelo"
      ]
    },
    {
      "cell_type": "code",
      "metadata": {
        "id": "3kCMN_mOJlIL",
        "colab_type": "code",
        "colab": {}
      },
      "source": [
        "# Salvar o modelo e fazer download\n",
        "# No nome falamos o numero de epocas e camadas (nos)\n",
        "modelo.save('modelo_epochs6_nos3.h5')\n",
        "files.download('modelo_epochs6_nos3.h5')"
      ],
      "execution_count": 0,
      "outputs": []
    },
    {
      "cell_type": "code",
      "metadata": {
        "id": "YHGia4UtOweh",
        "colab_type": "code",
        "colab": {}
      },
      "source": [
        "# Para reabrir o modelo\n",
        "modelo_salvo = load_model('modelo_epochs6_nos3.h5')\n"
      ],
      "execution_count": 0,
      "outputs": []
    },
    {
      "cell_type": "markdown",
      "metadata": {
        "id": "eCSWBiZnQHMU",
        "colab_type": "text"
      },
      "source": [
        "* O teste do modelo salvo foi feito [aqui](https://colab.research.google.com/drive/1xNj5FfRK78jL47QAlwhXrwDJY4H1YTZ3#scrollTo=DLclLK8NPR76)"
      ]
    },
    {
      "cell_type": "code",
      "metadata": {
        "id": "jnVLb1QaQNCI",
        "colab_type": "code",
        "colab": {}
      },
      "source": [
        ""
      ],
      "execution_count": 0,
      "outputs": []
    }
  ]
}