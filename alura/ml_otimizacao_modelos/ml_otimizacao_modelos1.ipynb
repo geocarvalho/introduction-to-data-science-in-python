{
  "nbformat": 4,
  "nbformat_minor": 0,
  "metadata": {
    "colab": {
      "name": "ml_otimizacao_modelos1.ipynb",
      "provenance": [],
      "collapsed_sections": [],
      "include_colab_link": true
    },
    "kernelspec": {
      "name": "python3",
      "display_name": "Python 3"
    }
  },
  "cells": [
    {
      "cell_type": "markdown",
      "metadata": {
        "id": "view-in-github",
        "colab_type": "text"
      },
      "source": [
        "<a href=\"https://colab.research.google.com/github/geocarvalho/python-ds/blob/master/alura/ml_otimizacao_modelos/ml_otimizacao_modelos1.ipynb\" target=\"_parent\"><img src=\"https://colab.research.google.com/assets/colab-badge.svg\" alt=\"Open In Colab\"/></a>"
      ]
    },
    {
      "cell_type": "code",
      "metadata": {
        "id": "EiCfyAXDN9Ky",
        "colab_type": "code",
        "colab": {
          "base_uri": "https://localhost:8080/",
          "height": 212
        },
        "outputId": "206762dc-9f06-481a-c53e-fcb74add9146"
      },
      "source": [
        "!pip install graphviz\n",
        "!pip install pydot\n",
        "\n",
        "!apt-get install graphviz"
      ],
      "execution_count": 1,
      "outputs": [
        {
          "output_type": "stream",
          "text": [
            "Requirement already satisfied: graphviz in /usr/local/lib/python3.6/dist-packages (0.10.1)\n",
            "Requirement already satisfied: pydot in /usr/local/lib/python3.6/dist-packages (1.3.0)\n",
            "Requirement already satisfied: pyparsing>=2.1.4 in /usr/local/lib/python3.6/dist-packages (from pydot) (2.4.5)\n",
            "Reading package lists... Done\n",
            "Building dependency tree       \n",
            "Reading state information... Done\n",
            "graphviz is already the newest version (2.40.1-2).\n",
            "The following package was automatically installed and is no longer required:\n",
            "  libnvidia-common-430\n",
            "Use 'apt autoremove' to remove it.\n",
            "0 upgraded, 0 newly installed, 0 to remove and 7 not upgraded.\n"
          ],
          "name": "stdout"
        }
      ]
    },
    {
      "cell_type": "code",
      "metadata": {
        "id": "Vi-Inmz1z9VH",
        "colab_type": "code",
        "colab": {}
      },
      "source": [
        "import graphviz\n",
        "import pandas as pd\n",
        "import numpy as np\n",
        "import seaborn as sns\n",
        "import matplotlib.pyplot as plt\n",
        "from sklearn.model_selection import cross_validate\n",
        "from sklearn.dummy import DummyClassifier\n",
        "from sklearn.tree import DecisionTreeClassifier\n",
        "from sklearn.model_selection import GroupKFold\n",
        "from sklearn.preprocessing import StandardScaler\n",
        "from sklearn.svm import SVC\n",
        "from sklearn.pipeline import Pipeline\n",
        "from sklearn.tree import export_graphviz\n",
        "from sklearn.model_selection import GridSearchCV, KFold\n",
        "from sklearn.metrics import accuracy_score\n",
        "from sklearn.model_selection import cross_val_score\n"
      ],
      "execution_count": 0,
      "outputs": []
    },
    {
      "cell_type": "code",
      "metadata": {
        "id": "MGiWFByB0D8e",
        "colab_type": "code",
        "outputId": "f33a664b-de36-4126-ab5c-302ac79665e5",
        "colab": {
          "base_uri": "https://localhost:8080/",
          "height": 197
        }
      },
      "source": [
        "uri = \"https://gist.githubusercontent.com/guilhermesilveira/e99a526b2e7ccc6c3b70f53db43a87d2/raw/1605fc74aa778066bf2e6695e24d53cf65f2f447/machine-learning-carros-simulacao.csv\"\n",
        "dados = pd.read_csv(uri).drop(columns=[\"Unnamed: 0\"], axis=1)\n",
        "dados.head()"
      ],
      "execution_count": 3,
      "outputs": [
        {
          "output_type": "execute_result",
          "data": {
            "text/html": [
              "<div>\n",
              "<style scoped>\n",
              "    .dataframe tbody tr th:only-of-type {\n",
              "        vertical-align: middle;\n",
              "    }\n",
              "\n",
              "    .dataframe tbody tr th {\n",
              "        vertical-align: top;\n",
              "    }\n",
              "\n",
              "    .dataframe thead th {\n",
              "        text-align: right;\n",
              "    }\n",
              "</style>\n",
              "<table border=\"1\" class=\"dataframe\">\n",
              "  <thead>\n",
              "    <tr style=\"text-align: right;\">\n",
              "      <th></th>\n",
              "      <th>preco</th>\n",
              "      <th>vendido</th>\n",
              "      <th>idade_do_modelo</th>\n",
              "      <th>km_por_ano</th>\n",
              "    </tr>\n",
              "  </thead>\n",
              "  <tbody>\n",
              "    <tr>\n",
              "      <th>0</th>\n",
              "      <td>30941.02</td>\n",
              "      <td>1</td>\n",
              "      <td>18</td>\n",
              "      <td>35085.22134</td>\n",
              "    </tr>\n",
              "    <tr>\n",
              "      <th>1</th>\n",
              "      <td>40557.96</td>\n",
              "      <td>1</td>\n",
              "      <td>20</td>\n",
              "      <td>12622.05362</td>\n",
              "    </tr>\n",
              "    <tr>\n",
              "      <th>2</th>\n",
              "      <td>89627.50</td>\n",
              "      <td>0</td>\n",
              "      <td>12</td>\n",
              "      <td>11440.79806</td>\n",
              "    </tr>\n",
              "    <tr>\n",
              "      <th>3</th>\n",
              "      <td>95276.14</td>\n",
              "      <td>0</td>\n",
              "      <td>3</td>\n",
              "      <td>43167.32682</td>\n",
              "    </tr>\n",
              "    <tr>\n",
              "      <th>4</th>\n",
              "      <td>117384.68</td>\n",
              "      <td>1</td>\n",
              "      <td>4</td>\n",
              "      <td>12770.11290</td>\n",
              "    </tr>\n",
              "  </tbody>\n",
              "</table>\n",
              "</div>"
            ],
            "text/plain": [
              "       preco  vendido  idade_do_modelo   km_por_ano\n",
              "0   30941.02        1               18  35085.22134\n",
              "1   40557.96        1               20  12622.05362\n",
              "2   89627.50        0               12  11440.79806\n",
              "3   95276.14        0                3  43167.32682\n",
              "4  117384.68        1                4  12770.11290"
            ]
          },
          "metadata": {
            "tags": []
          },
          "execution_count": 3
        }
      ]
    },
    {
      "cell_type": "code",
      "metadata": {
        "id": "XNjFr97i0EV3",
        "colab_type": "code",
        "colab": {
          "base_uri": "https://localhost:8080/",
          "height": 197
        },
        "outputId": "63b286d2-3fd0-4d3a-b141-0a85883baf6d"
      },
      "source": [
        "# Situação de azar\n",
        "\n",
        "dados_azar = dados.sort_values('vendido', ascending=True)\n",
        "x_azar = dados_azar[['preco', 'idade_do_modelo', 'km_por_ano']]\n",
        "y_azar = dados_azar['vendido']\n",
        "dados_azar.head()"
      ],
      "execution_count": 4,
      "outputs": [
        {
          "output_type": "execute_result",
          "data": {
            "text/html": [
              "<div>\n",
              "<style scoped>\n",
              "    .dataframe tbody tr th:only-of-type {\n",
              "        vertical-align: middle;\n",
              "    }\n",
              "\n",
              "    .dataframe tbody tr th {\n",
              "        vertical-align: top;\n",
              "    }\n",
              "\n",
              "    .dataframe thead th {\n",
              "        text-align: right;\n",
              "    }\n",
              "</style>\n",
              "<table border=\"1\" class=\"dataframe\">\n",
              "  <thead>\n",
              "    <tr style=\"text-align: right;\">\n",
              "      <th></th>\n",
              "      <th>preco</th>\n",
              "      <th>vendido</th>\n",
              "      <th>idade_do_modelo</th>\n",
              "      <th>km_por_ano</th>\n",
              "    </tr>\n",
              "  </thead>\n",
              "  <tbody>\n",
              "    <tr>\n",
              "      <th>4999</th>\n",
              "      <td>74023.29</td>\n",
              "      <td>0</td>\n",
              "      <td>12</td>\n",
              "      <td>24812.80412</td>\n",
              "    </tr>\n",
              "    <tr>\n",
              "      <th>5322</th>\n",
              "      <td>84843.49</td>\n",
              "      <td>0</td>\n",
              "      <td>13</td>\n",
              "      <td>23095.63834</td>\n",
              "    </tr>\n",
              "    <tr>\n",
              "      <th>5319</th>\n",
              "      <td>83100.27</td>\n",
              "      <td>0</td>\n",
              "      <td>19</td>\n",
              "      <td>36240.72746</td>\n",
              "    </tr>\n",
              "    <tr>\n",
              "      <th>5316</th>\n",
              "      <td>87932.13</td>\n",
              "      <td>0</td>\n",
              "      <td>16</td>\n",
              "      <td>32249.56426</td>\n",
              "    </tr>\n",
              "    <tr>\n",
              "      <th>5315</th>\n",
              "      <td>77937.01</td>\n",
              "      <td>0</td>\n",
              "      <td>15</td>\n",
              "      <td>28414.50704</td>\n",
              "    </tr>\n",
              "  </tbody>\n",
              "</table>\n",
              "</div>"
            ],
            "text/plain": [
              "         preco  vendido  idade_do_modelo   km_por_ano\n",
              "4999  74023.29        0               12  24812.80412\n",
              "5322  84843.49        0               13  23095.63834\n",
              "5319  83100.27        0               19  36240.72746\n",
              "5316  87932.13        0               16  32249.56426\n",
              "5315  77937.01        0               15  28414.50704"
            ]
          },
          "metadata": {
            "tags": []
          },
          "execution_count": 4
        }
      ]
    },
    {
      "cell_type": "code",
      "metadata": {
        "id": "hkqyyr5_I4Z8",
        "colab_type": "code",
        "colab": {
          "base_uri": "https://localhost:8080/",
          "height": 34
        },
        "outputId": "86be33ec-2be7-4c9b-c824-cd0fbcff47a1"
      },
      "source": [
        "SEED = 301\n",
        "np.random.seed(SEED)\n",
        "\n",
        "modelo = DummyClassifier()\n",
        "results = cross_validate(modelo, x_azar, y_azar, cv=10, return_train_score=False)\n",
        "media = results['test_score'].mean()\n",
        "desvio_padrao = results['test_score'].std()\n",
        "print(\"Acurácia com dummy stratified, 10 = [%.2f, %.2f]\" % ((media - 2 * desvio_padrao)*100, (media + 2 * desvio_padrao)*100))"
      ],
      "execution_count": 5,
      "outputs": [
        {
          "output_type": "stream",
          "text": [
            "Acurácia com dummy stratified, 10 = [49.79, 53.45]\n"
          ],
          "name": "stdout"
        }
      ]
    },
    {
      "cell_type": "code",
      "metadata": {
        "id": "Vv-4aEksJtpE",
        "colab_type": "code",
        "colab": {
          "base_uri": "https://localhost:8080/",
          "height": 34
        },
        "outputId": "2c692c97-9b46-460c-e2ad-7975b9605ae3"
      },
      "source": [
        "SEED = 301\n",
        "np.random.seed(SEED)\n",
        "\n",
        "modelo = DecisionTreeClassifier(max_depth=2)\n",
        "results = cross_validate(modelo, x_azar, y_azar, cv=10, return_train_score=False)\n",
        "media = results['test_score'].mean()\n",
        "desvio_padrao = results['test_score'].std()\n",
        "print(\"Acurácia com validação cruzada, 10 = [%.2f, %.2f]\" % ((media-2*desvio_padrao)*100,(media+2*desvio_padrao)*100))"
      ],
      "execution_count": 6,
      "outputs": [
        {
          "output_type": "stream",
          "text": [
            "Acurácia com validação cruzada, 10 = [73.83, 77.73]\n"
          ],
          "name": "stdout"
        }
      ]
    },
    {
      "cell_type": "code",
      "metadata": {
        "id": "pRVDxNSIK8am",
        "colab_type": "code",
        "colab": {
          "base_uri": "https://localhost:8080/",
          "height": 197
        },
        "outputId": "7148cbe5-c629-4e93-b567-a8086aab0ebf"
      },
      "source": [
        "# Gerando dados aleatorios de modelo de carro para simulacao de agrupamento ao usar nosso estimador\n",
        "\n",
        "np.random.seed(SEED)\n",
        "dados['modelo'] = dados.idade_do_modelo + np.random.randint(-2, 3, size=len(dados))\n",
        "dados.modelo = dados.modelo + abs(dados.modelo.min()) + 1 # primeiro modelo\n",
        "dados.head()"
      ],
      "execution_count": 7,
      "outputs": [
        {
          "output_type": "execute_result",
          "data": {
            "text/html": [
              "<div>\n",
              "<style scoped>\n",
              "    .dataframe tbody tr th:only-of-type {\n",
              "        vertical-align: middle;\n",
              "    }\n",
              "\n",
              "    .dataframe tbody tr th {\n",
              "        vertical-align: top;\n",
              "    }\n",
              "\n",
              "    .dataframe thead th {\n",
              "        text-align: right;\n",
              "    }\n",
              "</style>\n",
              "<table border=\"1\" class=\"dataframe\">\n",
              "  <thead>\n",
              "    <tr style=\"text-align: right;\">\n",
              "      <th></th>\n",
              "      <th>preco</th>\n",
              "      <th>vendido</th>\n",
              "      <th>idade_do_modelo</th>\n",
              "      <th>km_por_ano</th>\n",
              "      <th>modelo</th>\n",
              "    </tr>\n",
              "  </thead>\n",
              "  <tbody>\n",
              "    <tr>\n",
              "      <th>0</th>\n",
              "      <td>30941.02</td>\n",
              "      <td>1</td>\n",
              "      <td>18</td>\n",
              "      <td>35085.22134</td>\n",
              "      <td>18</td>\n",
              "    </tr>\n",
              "    <tr>\n",
              "      <th>1</th>\n",
              "      <td>40557.96</td>\n",
              "      <td>1</td>\n",
              "      <td>20</td>\n",
              "      <td>12622.05362</td>\n",
              "      <td>24</td>\n",
              "    </tr>\n",
              "    <tr>\n",
              "      <th>2</th>\n",
              "      <td>89627.50</td>\n",
              "      <td>0</td>\n",
              "      <td>12</td>\n",
              "      <td>11440.79806</td>\n",
              "      <td>14</td>\n",
              "    </tr>\n",
              "    <tr>\n",
              "      <th>3</th>\n",
              "      <td>95276.14</td>\n",
              "      <td>0</td>\n",
              "      <td>3</td>\n",
              "      <td>43167.32682</td>\n",
              "      <td>6</td>\n",
              "    </tr>\n",
              "    <tr>\n",
              "      <th>4</th>\n",
              "      <td>117384.68</td>\n",
              "      <td>1</td>\n",
              "      <td>4</td>\n",
              "      <td>12770.11290</td>\n",
              "      <td>5</td>\n",
              "    </tr>\n",
              "  </tbody>\n",
              "</table>\n",
              "</div>"
            ],
            "text/plain": [
              "       preco  vendido  idade_do_modelo   km_por_ano  modelo\n",
              "0   30941.02        1               18  35085.22134      18\n",
              "1   40557.96        1               20  12622.05362      24\n",
              "2   89627.50        0               12  11440.79806      14\n",
              "3   95276.14        0                3  43167.32682       6\n",
              "4  117384.68        1                4  12770.11290       5"
            ]
          },
          "metadata": {
            "tags": []
          },
          "execution_count": 7
        }
      ]
    },
    {
      "cell_type": "code",
      "metadata": {
        "id": "xl_MyV3GLV5F",
        "colab_type": "code",
        "colab": {}
      },
      "source": [
        "def imprime_resultados(results):\n",
        "  media = results['test_score'].mean() * 100\n",
        "  desvio = results['test_score'].std() * 100\n",
        "  print('Acurácia média %.2f' % media)\n",
        "  print('Intervalo [%.2f, %.2f]' %  (media-2*desvio, media+2*desvio))"
      ],
      "execution_count": 0,
      "outputs": []
    },
    {
      "cell_type": "code",
      "metadata": {
        "id": "Nejz-ikQMAMV",
        "colab_type": "code",
        "colab": {
          "base_uri": "https://localhost:8080/",
          "height": 52
        },
        "outputId": "334eded1-2d61-44f3-c3b5-25a932763bf6"
      },
      "source": [
        "# GroupKFold para analisar como o modelo se comporta com novos grupos\n",
        "\n",
        "SEED = 301\n",
        "np.random.seed(SEED)\n",
        "\n",
        "cv = GroupKFold(n_splits = 10)\n",
        "modelo = DecisionTreeClassifier(max_depth=2)\n",
        "results = cross_validate(modelo, x_azar, y_azar, cv=cv, groups=dados.modelo, return_train_score=False)\n",
        "imprime_resultados(results)"
      ],
      "execution_count": 9,
      "outputs": [
        {
          "output_type": "stream",
          "text": [
            "Acurácia média 75.78\n",
            "Intervalo [73.67, 77.90]\n"
          ],
          "name": "stdout"
        }
      ]
    },
    {
      "cell_type": "code",
      "metadata": {
        "id": "lHOE0gl5MiO8",
        "colab_type": "code",
        "colab": {
          "base_uri": "https://localhost:8080/",
          "height": 52
        },
        "outputId": "af8a3a66-2819-40e3-fc0c-4e78a77d05c1"
      },
      "source": [
        "# GroupKFold em um pipeline com StandardScaler e SVC\n",
        "SEED = 301\n",
        "np.random.seed(SEED)\n",
        "\n",
        "scaler = StandardScaler()\n",
        "modelo = SVC()\n",
        "\n",
        "pipeline = Pipeline([('transformacao', scaler),('estimador', modelo)])\n",
        "\n",
        "cv = GroupKFold(n_splits=10)\n",
        "results = cross_validate(pipeline, x_azar, y_azar, cv=cv, groups=dados.modelo, return_train_score=False)\n",
        "imprime_resultados(results)\n"
      ],
      "execution_count": 10,
      "outputs": [
        {
          "output_type": "stream",
          "text": [
            "Acurácia média 76.68\n",
            "Intervalo [74.28, 79.08]\n"
          ],
          "name": "stdout"
        }
      ]
    },
    {
      "cell_type": "code",
      "metadata": {
        "id": "qtX5ExoZNQkU",
        "colab_type": "code",
        "colab": {
          "base_uri": "https://localhost:8080/",
          "height": 52
        },
        "outputId": "86b0e2aa-c4e4-44f9-f124-780b8f616dc0"
      },
      "source": [
        "# GroupKFold para analisar como o modelo se comporta com novos grupos\n",
        "\n",
        "SEED = 301\n",
        "np.random.seed(SEED)\n",
        "\n",
        "cv = GroupKFold(n_splits = 10)\n",
        "modelo = DecisionTreeClassifier(max_depth=2)\n",
        "results = cross_validate(modelo, x_azar, y_azar, cv=cv, groups=dados.modelo, return_train_score=False)\n",
        "imprime_resultados(results)"
      ],
      "execution_count": 11,
      "outputs": [
        {
          "output_type": "stream",
          "text": [
            "Acurácia média 75.78\n",
            "Intervalo [73.67, 77.90]\n"
          ],
          "name": "stdout"
        }
      ]
    },
    {
      "cell_type": "code",
      "metadata": {
        "id": "kooDv27-Nb3v",
        "colab_type": "code",
        "colab": {
          "base_uri": "https://localhost:8080/",
          "height": 440
        },
        "outputId": "bfb3421f-0f0d-4048-936b-4983bfb9f085"
      },
      "source": [
        "modelo.fit(x_azar, y_azar)\n",
        "features = x_azar.columns\n",
        "dot_data = export_graphviz(modelo, out_file=None, filled=True, rounded=True,\n",
        "                class_names=['não', 'sim'], feature_names=features)\n",
        "\n",
        "graph = graphviz.Source(dot_data)\n",
        "graph"
      ],
      "execution_count": 13,
      "outputs": [
        {
          "output_type": "execute_result",
          "data": {
            "text/plain": [
              "<graphviz.files.Source at 0x7f32324a8d68>"
            ],
            "image/svg+xml": "<?xml version=\"1.0\" encoding=\"UTF-8\" standalone=\"no\"?>\n<!DOCTYPE svg PUBLIC \"-//W3C//DTD SVG 1.1//EN\"\n \"http://www.w3.org/Graphics/SVG/1.1/DTD/svg11.dtd\">\n<!-- Generated by graphviz version 2.40.1 (20161225.0304)\n -->\n<!-- Title: Tree Pages: 1 -->\n<svg width=\"628pt\" height=\"314pt\"\n viewBox=\"0.00 0.00 628.00 314.00\" xmlns=\"http://www.w3.org/2000/svg\" xmlns:xlink=\"http://www.w3.org/1999/xlink\">\n<g id=\"graph0\" class=\"graph\" transform=\"scale(1 1) rotate(0) translate(4 310)\">\n<title>Tree</title>\n<polygon fill=\"#ffffff\" stroke=\"transparent\" points=\"-4,4 -4,-310 624,-310 624,4 -4,4\"/>\n<!-- 0 -->\n<g id=\"node1\" class=\"node\">\n<title>0</title>\n<path fill=\"#c8e4f8\" stroke=\"#000000\" d=\"M361.5,-306C361.5,-306 236.5,-306 236.5,-306 230.5,-306 224.5,-300 224.5,-294 224.5,-294 224.5,-235 224.5,-235 224.5,-229 230.5,-223 236.5,-223 236.5,-223 361.5,-223 361.5,-223 367.5,-223 373.5,-229 373.5,-235 373.5,-235 373.5,-294 373.5,-294 373.5,-300 367.5,-306 361.5,-306\"/>\n<text text-anchor=\"middle\" x=\"299\" y=\"-290.8\" font-family=\"Helvetica,sans-Serif\" font-size=\"14.00\" fill=\"#000000\">preco &lt;= 59982.246</text>\n<text text-anchor=\"middle\" x=\"299\" y=\"-275.8\" font-family=\"Helvetica,sans-Serif\" font-size=\"14.00\" fill=\"#000000\">gini = 0.487</text>\n<text text-anchor=\"middle\" x=\"299\" y=\"-260.8\" font-family=\"Helvetica,sans-Serif\" font-size=\"14.00\" fill=\"#000000\">samples = 10000</text>\n<text text-anchor=\"middle\" x=\"299\" y=\"-245.8\" font-family=\"Helvetica,sans-Serif\" font-size=\"14.00\" fill=\"#000000\">value = [4200, 5800]</text>\n<text text-anchor=\"middle\" x=\"299\" y=\"-230.8\" font-family=\"Helvetica,sans-Serif\" font-size=\"14.00\" fill=\"#000000\">class = sim</text>\n</g>\n<!-- 1 -->\n<g id=\"node2\" class=\"node\">\n<title>1</title>\n<path fill=\"#52a9e8\" stroke=\"#000000\" d=\"M266.5,-187C266.5,-187 143.5,-187 143.5,-187 137.5,-187 131.5,-181 131.5,-175 131.5,-175 131.5,-116 131.5,-116 131.5,-110 137.5,-104 143.5,-104 143.5,-104 266.5,-104 266.5,-104 272.5,-104 278.5,-110 278.5,-116 278.5,-116 278.5,-175 278.5,-175 278.5,-181 272.5,-187 266.5,-187\"/>\n<text text-anchor=\"middle\" x=\"205\" y=\"-171.8\" font-family=\"Helvetica,sans-Serif\" font-size=\"14.00\" fill=\"#000000\">preco &lt;= 40083.385</text>\n<text text-anchor=\"middle\" x=\"205\" y=\"-156.8\" font-family=\"Helvetica,sans-Serif\" font-size=\"14.00\" fill=\"#000000\">gini = 0.198</text>\n<text text-anchor=\"middle\" x=\"205\" y=\"-141.8\" font-family=\"Helvetica,sans-Serif\" font-size=\"14.00\" fill=\"#000000\">samples = 4347</text>\n<text text-anchor=\"middle\" x=\"205\" y=\"-126.8\" font-family=\"Helvetica,sans-Serif\" font-size=\"14.00\" fill=\"#000000\">value = [484, 3863]</text>\n<text text-anchor=\"middle\" x=\"205\" y=\"-111.8\" font-family=\"Helvetica,sans-Serif\" font-size=\"14.00\" fill=\"#000000\">class = sim</text>\n</g>\n<!-- 0&#45;&gt;1 -->\n<g id=\"edge1\" class=\"edge\">\n<title>0&#45;&gt;1</title>\n<path fill=\"none\" stroke=\"#000000\" d=\"M266.1234,-222.8796C259.0803,-213.9633 251.5707,-204.4565 244.3126,-195.268\"/>\n<polygon fill=\"#000000\" stroke=\"#000000\" points=\"246.9621,-192.9757 238.017,-187.2981 241.4691,-197.3147 246.9621,-192.9757\"/>\n<text text-anchor=\"middle\" x=\"235.1027\" y=\"-208.4276\" font-family=\"Helvetica,sans-Serif\" font-size=\"14.00\" fill=\"#000000\">True</text>\n</g>\n<!-- 4 -->\n<g id=\"node5\" class=\"node\">\n<title>4</title>\n<path fill=\"#f3c3a0\" stroke=\"#000000\" d=\"M477,-187C477,-187 309,-187 309,-187 303,-187 297,-181 297,-175 297,-175 297,-116 297,-116 297,-110 303,-104 309,-104 309,-104 477,-104 477,-104 483,-104 489,-110 489,-116 489,-116 489,-175 489,-175 489,-181 483,-187 477,-187\"/>\n<text text-anchor=\"middle\" x=\"393\" y=\"-171.8\" font-family=\"Helvetica,sans-Serif\" font-size=\"14.00\" fill=\"#000000\">km_por_ano &lt;= 24124.006</text>\n<text text-anchor=\"middle\" x=\"393\" y=\"-156.8\" font-family=\"Helvetica,sans-Serif\" font-size=\"14.00\" fill=\"#000000\">gini = 0.45</text>\n<text text-anchor=\"middle\" x=\"393\" y=\"-141.8\" font-family=\"Helvetica,sans-Serif\" font-size=\"14.00\" fill=\"#000000\">samples = 5653</text>\n<text text-anchor=\"middle\" x=\"393\" y=\"-126.8\" font-family=\"Helvetica,sans-Serif\" font-size=\"14.00\" fill=\"#000000\">value = [3716, 1937]</text>\n<text text-anchor=\"middle\" x=\"393\" y=\"-111.8\" font-family=\"Helvetica,sans-Serif\" font-size=\"14.00\" fill=\"#000000\">class = não</text>\n</g>\n<!-- 0&#45;&gt;4 -->\n<g id=\"edge4\" class=\"edge\">\n<title>0&#45;&gt;4</title>\n<path fill=\"none\" stroke=\"#000000\" d=\"M331.8766,-222.8796C338.9197,-213.9633 346.4293,-204.4565 353.6874,-195.268\"/>\n<polygon fill=\"#000000\" stroke=\"#000000\" points=\"356.5309,-197.3147 359.983,-187.2981 351.0379,-192.9757 356.5309,-197.3147\"/>\n<text text-anchor=\"middle\" x=\"362.8973\" y=\"-208.4276\" font-family=\"Helvetica,sans-Serif\" font-size=\"14.00\" fill=\"#000000\">False</text>\n</g>\n<!-- 2 -->\n<g id=\"node3\" class=\"node\">\n<title>2</title>\n<path fill=\"#399de5\" stroke=\"#000000\" d=\"M112,-68C112,-68 12,-68 12,-68 6,-68 0,-62 0,-56 0,-56 0,-12 0,-12 0,-6 6,0 12,0 12,0 112,0 112,0 118,0 124,-6 124,-12 124,-12 124,-56 124,-56 124,-62 118,-68 112,-68\"/>\n<text text-anchor=\"middle\" x=\"62\" y=\"-52.8\" font-family=\"Helvetica,sans-Serif\" font-size=\"14.00\" fill=\"#000000\">gini = 0.0</text>\n<text text-anchor=\"middle\" x=\"62\" y=\"-37.8\" font-family=\"Helvetica,sans-Serif\" font-size=\"14.00\" fill=\"#000000\">samples = 1935</text>\n<text text-anchor=\"middle\" x=\"62\" y=\"-22.8\" font-family=\"Helvetica,sans-Serif\" font-size=\"14.00\" fill=\"#000000\">value = [0, 1935]</text>\n<text text-anchor=\"middle\" x=\"62\" y=\"-7.8\" font-family=\"Helvetica,sans-Serif\" font-size=\"14.00\" fill=\"#000000\">class = sim</text>\n</g>\n<!-- 1&#45;&gt;2 -->\n<g id=\"edge2\" class=\"edge\">\n<title>1&#45;&gt;2</title>\n<path fill=\"none\" stroke=\"#000000\" d=\"M151.7521,-103.9815C139.3756,-94.3313 126.2172,-84.0714 113.8997,-74.4673\"/>\n<polygon fill=\"#000000\" stroke=\"#000000\" points=\"115.9818,-71.6525 105.9435,-68.2637 111.6775,-77.1728 115.9818,-71.6525\"/>\n</g>\n<!-- 3 -->\n<g id=\"node4\" class=\"node\">\n<title>3</title>\n<path fill=\"#6bb6ec\" stroke=\"#000000\" d=\"M270,-68C270,-68 154,-68 154,-68 148,-68 142,-62 142,-56 142,-56 142,-12 142,-12 142,-6 148,0 154,0 154,0 270,0 270,0 276,0 282,-6 282,-12 282,-12 282,-56 282,-56 282,-62 276,-68 270,-68\"/>\n<text text-anchor=\"middle\" x=\"212\" y=\"-52.8\" font-family=\"Helvetica,sans-Serif\" font-size=\"14.00\" fill=\"#000000\">gini = 0.321</text>\n<text text-anchor=\"middle\" x=\"212\" y=\"-37.8\" font-family=\"Helvetica,sans-Serif\" font-size=\"14.00\" fill=\"#000000\">samples = 2412</text>\n<text text-anchor=\"middle\" x=\"212\" y=\"-22.8\" font-family=\"Helvetica,sans-Serif\" font-size=\"14.00\" fill=\"#000000\">value = [484, 1928]</text>\n<text text-anchor=\"middle\" x=\"212\" y=\"-7.8\" font-family=\"Helvetica,sans-Serif\" font-size=\"14.00\" fill=\"#000000\">class = sim</text>\n</g>\n<!-- 1&#45;&gt;3 -->\n<g id=\"edge3\" class=\"edge\">\n<title>1&#45;&gt;3</title>\n<path fill=\"none\" stroke=\"#000000\" d=\"M207.6065,-103.9815C208.1316,-95.618 208.6854,-86.7965 209.2163,-78.3409\"/>\n<polygon fill=\"#000000\" stroke=\"#000000\" points=\"212.7154,-78.4634 209.8489,-68.2637 205.7291,-78.0247 212.7154,-78.4634\"/>\n</g>\n<!-- 5 -->\n<g id=\"node6\" class=\"node\">\n<title>5</title>\n<path fill=\"#fcefe5\" stroke=\"#000000\" d=\"M449.5,-68C449.5,-68 324.5,-68 324.5,-68 318.5,-68 312.5,-62 312.5,-56 312.5,-56 312.5,-12 312.5,-12 312.5,-6 318.5,0 324.5,0 324.5,0 449.5,0 449.5,0 455.5,0 461.5,-6 461.5,-12 461.5,-12 461.5,-56 461.5,-56 461.5,-62 455.5,-68 449.5,-68\"/>\n<text text-anchor=\"middle\" x=\"387\" y=\"-52.8\" font-family=\"Helvetica,sans-Serif\" font-size=\"14.00\" fill=\"#000000\">gini = 0.498</text>\n<text text-anchor=\"middle\" x=\"387\" y=\"-37.8\" font-family=\"Helvetica,sans-Serif\" font-size=\"14.00\" fill=\"#000000\">samples = 3513</text>\n<text text-anchor=\"middle\" x=\"387\" y=\"-22.8\" font-family=\"Helvetica,sans-Serif\" font-size=\"14.00\" fill=\"#000000\">value = [1879, 1634]</text>\n<text text-anchor=\"middle\" x=\"387\" y=\"-7.8\" font-family=\"Helvetica,sans-Serif\" font-size=\"14.00\" fill=\"#000000\">class = não</text>\n</g>\n<!-- 4&#45;&gt;5 -->\n<g id=\"edge5\" class=\"edge\">\n<title>4&#45;&gt;5</title>\n<path fill=\"none\" stroke=\"#000000\" d=\"M390.7658,-103.9815C390.3158,-95.618 389.8411,-86.7965 389.3861,-78.3409\"/>\n<polygon fill=\"#000000\" stroke=\"#000000\" points=\"392.8762,-78.0611 388.8438,-68.2637 385.8863,-78.4373 392.8762,-78.0611\"/>\n</g>\n<!-- 6 -->\n<g id=\"node7\" class=\"node\">\n<title>6</title>\n<path fill=\"#e9965a\" stroke=\"#000000\" d=\"M608,-68C608,-68 492,-68 492,-68 486,-68 480,-62 480,-56 480,-56 480,-12 480,-12 480,-6 486,0 492,0 492,0 608,0 608,0 614,0 620,-6 620,-12 620,-12 620,-56 620,-56 620,-62 614,-68 608,-68\"/>\n<text text-anchor=\"middle\" x=\"550\" y=\"-52.8\" font-family=\"Helvetica,sans-Serif\" font-size=\"14.00\" fill=\"#000000\">gini = 0.243</text>\n<text text-anchor=\"middle\" x=\"550\" y=\"-37.8\" font-family=\"Helvetica,sans-Serif\" font-size=\"14.00\" fill=\"#000000\">samples = 2140</text>\n<text text-anchor=\"middle\" x=\"550\" y=\"-22.8\" font-family=\"Helvetica,sans-Serif\" font-size=\"14.00\" fill=\"#000000\">value = [1837, 303]</text>\n<text text-anchor=\"middle\" x=\"550\" y=\"-7.8\" font-family=\"Helvetica,sans-Serif\" font-size=\"14.00\" fill=\"#000000\">class = não</text>\n</g>\n<!-- 4&#45;&gt;6 -->\n<g id=\"edge6\" class=\"edge\">\n<title>4&#45;&gt;6</title>\n<path fill=\"none\" stroke=\"#000000\" d=\"M451.461,-103.9815C465.2508,-94.1881 479.9247,-83.7668 493.6205,-74.0402\"/>\n<polygon fill=\"#000000\" stroke=\"#000000\" points=\"495.8785,-76.7295 502.005,-68.0856 491.8253,-71.0223 495.8785,-76.7295\"/>\n</g>\n</g>\n</svg>\n"
          },
          "metadata": {
            "tags": []
          },
          "execution_count": 13
        }
      ]
    },
    {
      "cell_type": "code",
      "metadata": {
        "id": "YFKQAeH9OZ8c",
        "colab_type": "code",
        "colab": {
          "base_uri": "https://localhost:8080/",
          "height": 52
        },
        "outputId": "4e655837-45c2-4001-b8c5-e3b65da571bd"
      },
      "source": [
        "# GroupKFold para analisar como o modelo se comporta com novos grupos\n",
        "\n",
        "SEED = 301\n",
        "np.random.seed(SEED)\n",
        "\n",
        "cv = GroupKFold(n_splits = 10)\n",
        "modelo = DecisionTreeClassifier(max_depth=3)\n",
        "results = cross_validate(modelo, x_azar, y_azar, cv=cv, groups=dados.modelo, return_train_score=False)\n",
        "imprime_resultados(results)"
      ],
      "execution_count": 16,
      "outputs": [
        {
          "output_type": "stream",
          "text": [
            "Acurácia média 78.67\n",
            "Intervalo [76.40, 80.94]\n"
          ],
          "name": "stdout"
        }
      ]
    },
    {
      "cell_type": "code",
      "metadata": {
        "id": "KyK8I81kPUHy",
        "colab_type": "code",
        "colab": {
          "base_uri": "https://localhost:8080/",
          "height": 598
        },
        "outputId": "b14d4326-4b41-4d47-880d-76e7cbbe2b17"
      },
      "source": [
        "modelo.fit(x_azar, y_azar)\n",
        "features = x_azar.columns\n",
        "dot_data = export_graphviz(modelo, out_file=None, filled=True, rounded=True,\n",
        "                class_names=['não', 'sim'], feature_names=features)\n",
        "\n",
        "graph = graphviz.Source(dot_data)\n",
        "graph"
      ],
      "execution_count": 17,
      "outputs": [
        {
          "output_type": "execute_result",
          "data": {
            "text/plain": [
              "<graphviz.files.Source at 0x7f321ddb0470>"
            ],
            "image/svg+xml": "<?xml version=\"1.0\" encoding=\"UTF-8\" standalone=\"no\"?>\n<!DOCTYPE svg PUBLIC \"-//W3C//DTD SVG 1.1//EN\"\n \"http://www.w3.org/Graphics/SVG/1.1/DTD/svg11.dtd\">\n<!-- Generated by graphviz version 2.40.1 (20161225.0304)\n -->\n<!-- Title: Tree Pages: 1 -->\n<svg width=\"912pt\" height=\"433pt\"\n viewBox=\"0.00 0.00 912.00 433.00\" xmlns=\"http://www.w3.org/2000/svg\" xmlns:xlink=\"http://www.w3.org/1999/xlink\">\n<g id=\"graph0\" class=\"graph\" transform=\"scale(1 1) rotate(0) translate(4 429)\">\n<title>Tree</title>\n<polygon fill=\"#ffffff\" stroke=\"transparent\" points=\"-4,4 -4,-429 908,-429 908,4 -4,4\"/>\n<!-- 0 -->\n<g id=\"node1\" class=\"node\">\n<title>0</title>\n<path fill=\"#c8e4f8\" stroke=\"#000000\" d=\"M372.5,-425C372.5,-425 247.5,-425 247.5,-425 241.5,-425 235.5,-419 235.5,-413 235.5,-413 235.5,-354 235.5,-354 235.5,-348 241.5,-342 247.5,-342 247.5,-342 372.5,-342 372.5,-342 378.5,-342 384.5,-348 384.5,-354 384.5,-354 384.5,-413 384.5,-413 384.5,-419 378.5,-425 372.5,-425\"/>\n<text text-anchor=\"middle\" x=\"310\" y=\"-409.8\" font-family=\"Helvetica,sans-Serif\" font-size=\"14.00\" fill=\"#000000\">preco &lt;= 59982.246</text>\n<text text-anchor=\"middle\" x=\"310\" y=\"-394.8\" font-family=\"Helvetica,sans-Serif\" font-size=\"14.00\" fill=\"#000000\">gini = 0.487</text>\n<text text-anchor=\"middle\" x=\"310\" y=\"-379.8\" font-family=\"Helvetica,sans-Serif\" font-size=\"14.00\" fill=\"#000000\">samples = 10000</text>\n<text text-anchor=\"middle\" x=\"310\" y=\"-364.8\" font-family=\"Helvetica,sans-Serif\" font-size=\"14.00\" fill=\"#000000\">value = [4200, 5800]</text>\n<text text-anchor=\"middle\" x=\"310\" y=\"-349.8\" font-family=\"Helvetica,sans-Serif\" font-size=\"14.00\" fill=\"#000000\">class = sim</text>\n</g>\n<!-- 1 -->\n<g id=\"node2\" class=\"node\">\n<title>1</title>\n<path fill=\"#52a9e8\" stroke=\"#000000\" d=\"M277.5,-306C277.5,-306 154.5,-306 154.5,-306 148.5,-306 142.5,-300 142.5,-294 142.5,-294 142.5,-235 142.5,-235 142.5,-229 148.5,-223 154.5,-223 154.5,-223 277.5,-223 277.5,-223 283.5,-223 289.5,-229 289.5,-235 289.5,-235 289.5,-294 289.5,-294 289.5,-300 283.5,-306 277.5,-306\"/>\n<text text-anchor=\"middle\" x=\"216\" y=\"-290.8\" font-family=\"Helvetica,sans-Serif\" font-size=\"14.00\" fill=\"#000000\">preco &lt;= 40083.385</text>\n<text text-anchor=\"middle\" x=\"216\" y=\"-275.8\" font-family=\"Helvetica,sans-Serif\" font-size=\"14.00\" fill=\"#000000\">gini = 0.198</text>\n<text text-anchor=\"middle\" x=\"216\" y=\"-260.8\" font-family=\"Helvetica,sans-Serif\" font-size=\"14.00\" fill=\"#000000\">samples = 4347</text>\n<text text-anchor=\"middle\" x=\"216\" y=\"-245.8\" font-family=\"Helvetica,sans-Serif\" font-size=\"14.00\" fill=\"#000000\">value = [484, 3863]</text>\n<text text-anchor=\"middle\" x=\"216\" y=\"-230.8\" font-family=\"Helvetica,sans-Serif\" font-size=\"14.00\" fill=\"#000000\">class = sim</text>\n</g>\n<!-- 0&#45;&gt;1 -->\n<g id=\"edge1\" class=\"edge\">\n<title>0&#45;&gt;1</title>\n<path fill=\"none\" stroke=\"#000000\" d=\"M277.1234,-341.8796C270.0803,-332.9633 262.5707,-323.4565 255.3126,-314.268\"/>\n<polygon fill=\"#000000\" stroke=\"#000000\" points=\"257.9621,-311.9757 249.017,-306.2981 252.4691,-316.3147 257.9621,-311.9757\"/>\n<text text-anchor=\"middle\" x=\"246.1027\" y=\"-327.4276\" font-family=\"Helvetica,sans-Serif\" font-size=\"14.00\" fill=\"#000000\">True</text>\n</g>\n<!-- 6 -->\n<g id=\"node7\" class=\"node\">\n<title>6</title>\n<path fill=\"#f3c3a0\" stroke=\"#000000\" d=\"M545,-306C545,-306 377,-306 377,-306 371,-306 365,-300 365,-294 365,-294 365,-235 365,-235 365,-229 371,-223 377,-223 377,-223 545,-223 545,-223 551,-223 557,-229 557,-235 557,-235 557,-294 557,-294 557,-300 551,-306 545,-306\"/>\n<text text-anchor=\"middle\" x=\"461\" y=\"-290.8\" font-family=\"Helvetica,sans-Serif\" font-size=\"14.00\" fill=\"#000000\">km_por_ano &lt;= 24124.006</text>\n<text text-anchor=\"middle\" x=\"461\" y=\"-275.8\" font-family=\"Helvetica,sans-Serif\" font-size=\"14.00\" fill=\"#000000\">gini = 0.45</text>\n<text text-anchor=\"middle\" x=\"461\" y=\"-260.8\" font-family=\"Helvetica,sans-Serif\" font-size=\"14.00\" fill=\"#000000\">samples = 5653</text>\n<text text-anchor=\"middle\" x=\"461\" y=\"-245.8\" font-family=\"Helvetica,sans-Serif\" font-size=\"14.00\" fill=\"#000000\">value = [3716, 1937]</text>\n<text text-anchor=\"middle\" x=\"461\" y=\"-230.8\" font-family=\"Helvetica,sans-Serif\" font-size=\"14.00\" fill=\"#000000\">class = não</text>\n</g>\n<!-- 0&#45;&gt;6 -->\n<g id=\"edge6\" class=\"edge\">\n<title>0&#45;&gt;6</title>\n<path fill=\"none\" stroke=\"#000000\" d=\"M362.8125,-341.8796C374.8818,-332.368 387.8039,-322.1843 400.1788,-312.432\"/>\n<polygon fill=\"#000000\" stroke=\"#000000\" points=\"402.5296,-315.0356 408.2173,-306.0969 398.1968,-309.5377 402.5296,-315.0356\"/>\n<text text-anchor=\"middle\" x=\"405.275\" y=\"-327.2232\" font-family=\"Helvetica,sans-Serif\" font-size=\"14.00\" fill=\"#000000\">False</text>\n</g>\n<!-- 2 -->\n<g id=\"node3\" class=\"node\">\n<title>2</title>\n<path fill=\"#399de5\" stroke=\"#000000\" d=\"M112,-179.5C112,-179.5 12,-179.5 12,-179.5 6,-179.5 0,-173.5 0,-167.5 0,-167.5 0,-123.5 0,-123.5 0,-117.5 6,-111.5 12,-111.5 12,-111.5 112,-111.5 112,-111.5 118,-111.5 124,-117.5 124,-123.5 124,-123.5 124,-167.5 124,-167.5 124,-173.5 118,-179.5 112,-179.5\"/>\n<text text-anchor=\"middle\" x=\"62\" y=\"-164.3\" font-family=\"Helvetica,sans-Serif\" font-size=\"14.00\" fill=\"#000000\">gini = 0.0</text>\n<text text-anchor=\"middle\" x=\"62\" y=\"-149.3\" font-family=\"Helvetica,sans-Serif\" font-size=\"14.00\" fill=\"#000000\">samples = 1935</text>\n<text text-anchor=\"middle\" x=\"62\" y=\"-134.3\" font-family=\"Helvetica,sans-Serif\" font-size=\"14.00\" fill=\"#000000\">value = [0, 1935]</text>\n<text text-anchor=\"middle\" x=\"62\" y=\"-119.3\" font-family=\"Helvetica,sans-Serif\" font-size=\"14.00\" fill=\"#000000\">class = sim</text>\n</g>\n<!-- 1&#45;&gt;2 -->\n<g id=\"edge2\" class=\"edge\">\n<title>1&#45;&gt;2</title>\n<path fill=\"none\" stroke=\"#000000\" d=\"M162.1383,-222.8796C146.7696,-211.0038 130.0453,-198.0804 114.7441,-186.2568\"/>\n<polygon fill=\"#000000\" stroke=\"#000000\" points=\"116.4605,-183.1599 106.4076,-179.8149 112.1804,-188.699 116.4605,-183.1599\"/>\n</g>\n<!-- 3 -->\n<g id=\"node4\" class=\"node\">\n<title>3</title>\n<path fill=\"#6bb6ec\" stroke=\"#000000\" d=\"M277.5,-187C277.5,-187 154.5,-187 154.5,-187 148.5,-187 142.5,-181 142.5,-175 142.5,-175 142.5,-116 142.5,-116 142.5,-110 148.5,-104 154.5,-104 154.5,-104 277.5,-104 277.5,-104 283.5,-104 289.5,-110 289.5,-116 289.5,-116 289.5,-175 289.5,-175 289.5,-181 283.5,-187 277.5,-187\"/>\n<text text-anchor=\"middle\" x=\"216\" y=\"-171.8\" font-family=\"Helvetica,sans-Serif\" font-size=\"14.00\" fill=\"#000000\">preco &lt;= 41083.029</text>\n<text text-anchor=\"middle\" x=\"216\" y=\"-156.8\" font-family=\"Helvetica,sans-Serif\" font-size=\"14.00\" fill=\"#000000\">gini = 0.321</text>\n<text text-anchor=\"middle\" x=\"216\" y=\"-141.8\" font-family=\"Helvetica,sans-Serif\" font-size=\"14.00\" fill=\"#000000\">samples = 2412</text>\n<text text-anchor=\"middle\" x=\"216\" y=\"-126.8\" font-family=\"Helvetica,sans-Serif\" font-size=\"14.00\" fill=\"#000000\">value = [484, 1928]</text>\n<text text-anchor=\"middle\" x=\"216\" y=\"-111.8\" font-family=\"Helvetica,sans-Serif\" font-size=\"14.00\" fill=\"#000000\">class = sim</text>\n</g>\n<!-- 1&#45;&gt;3 -->\n<g id=\"edge3\" class=\"edge\">\n<title>1&#45;&gt;3</title>\n<path fill=\"none\" stroke=\"#000000\" d=\"M216,-222.8796C216,-214.6838 216,-205.9891 216,-197.5013\"/>\n<polygon fill=\"#000000\" stroke=\"#000000\" points=\"219.5001,-197.298 216,-187.2981 212.5001,-197.2981 219.5001,-197.298\"/>\n</g>\n<!-- 4 -->\n<g id=\"node5\" class=\"node\">\n<title>4</title>\n<path fill=\"#95cbf1\" stroke=\"#000000\" d=\"M116,-68C116,-68 24,-68 24,-68 18,-68 12,-62 12,-56 12,-56 12,-12 12,-12 12,-6 18,0 24,0 24,0 116,0 116,0 122,0 128,-6 128,-12 128,-12 128,-56 128,-56 128,-62 122,-68 116,-68\"/>\n<text text-anchor=\"middle\" x=\"70\" y=\"-52.8\" font-family=\"Helvetica,sans-Serif\" font-size=\"14.00\" fill=\"#000000\">gini = 0.434</text>\n<text text-anchor=\"middle\" x=\"70\" y=\"-37.8\" font-family=\"Helvetica,sans-Serif\" font-size=\"14.00\" fill=\"#000000\">samples = 110</text>\n<text text-anchor=\"middle\" x=\"70\" y=\"-22.8\" font-family=\"Helvetica,sans-Serif\" font-size=\"14.00\" fill=\"#000000\">value = [35, 75]</text>\n<text text-anchor=\"middle\" x=\"70\" y=\"-7.8\" font-family=\"Helvetica,sans-Serif\" font-size=\"14.00\" fill=\"#000000\">class = sim</text>\n</g>\n<!-- 3&#45;&gt;4 -->\n<g id=\"edge4\" class=\"edge\">\n<title>3&#45;&gt;4</title>\n<path fill=\"none\" stroke=\"#000000\" d=\"M161.635,-103.9815C148.9989,-94.3313 135.5644,-84.0714 122.9885,-74.4673\"/>\n<polygon fill=\"#000000\" stroke=\"#000000\" points=\"124.9372,-71.5515 114.8654,-68.2637 120.6886,-77.1148 124.9372,-71.5515\"/>\n</g>\n<!-- 5 -->\n<g id=\"node6\" class=\"node\">\n<title>5</title>\n<path fill=\"#69b5eb\" stroke=\"#000000\" d=\"M274,-68C274,-68 158,-68 158,-68 152,-68 146,-62 146,-56 146,-56 146,-12 146,-12 146,-6 152,0 158,0 158,0 274,0 274,0 280,0 286,-6 286,-12 286,-12 286,-56 286,-56 286,-62 280,-68 274,-68\"/>\n<text text-anchor=\"middle\" x=\"216\" y=\"-52.8\" font-family=\"Helvetica,sans-Serif\" font-size=\"14.00\" fill=\"#000000\">gini = 0.314</text>\n<text text-anchor=\"middle\" x=\"216\" y=\"-37.8\" font-family=\"Helvetica,sans-Serif\" font-size=\"14.00\" fill=\"#000000\">samples = 2302</text>\n<text text-anchor=\"middle\" x=\"216\" y=\"-22.8\" font-family=\"Helvetica,sans-Serif\" font-size=\"14.00\" fill=\"#000000\">value = [449, 1853]</text>\n<text text-anchor=\"middle\" x=\"216\" y=\"-7.8\" font-family=\"Helvetica,sans-Serif\" font-size=\"14.00\" fill=\"#000000\">class = sim</text>\n</g>\n<!-- 3&#45;&gt;5 -->\n<g id=\"edge5\" class=\"edge\">\n<title>3&#45;&gt;5</title>\n<path fill=\"none\" stroke=\"#000000\" d=\"M216,-103.9815C216,-95.618 216,-86.7965 216,-78.3409\"/>\n<polygon fill=\"#000000\" stroke=\"#000000\" points=\"219.5001,-78.2636 216,-68.2637 212.5001,-78.2637 219.5001,-78.2636\"/>\n</g>\n<!-- 7 -->\n<g id=\"node8\" class=\"node\">\n<title>7</title>\n<path fill=\"#fcefe5\" stroke=\"#000000\" d=\"M523.5,-187C523.5,-187 398.5,-187 398.5,-187 392.5,-187 386.5,-181 386.5,-175 386.5,-175 386.5,-116 386.5,-116 386.5,-110 392.5,-104 398.5,-104 398.5,-104 523.5,-104 523.5,-104 529.5,-104 535.5,-110 535.5,-116 535.5,-116 535.5,-175 535.5,-175 535.5,-181 529.5,-187 523.5,-187\"/>\n<text text-anchor=\"middle\" x=\"461\" y=\"-171.8\" font-family=\"Helvetica,sans-Serif\" font-size=\"14.00\" fill=\"#000000\">preco &lt;= 99974.41</text>\n<text text-anchor=\"middle\" x=\"461\" y=\"-156.8\" font-family=\"Helvetica,sans-Serif\" font-size=\"14.00\" fill=\"#000000\">gini = 0.498</text>\n<text text-anchor=\"middle\" x=\"461\" y=\"-141.8\" font-family=\"Helvetica,sans-Serif\" font-size=\"14.00\" fill=\"#000000\">samples = 3513</text>\n<text text-anchor=\"middle\" x=\"461\" y=\"-126.8\" font-family=\"Helvetica,sans-Serif\" font-size=\"14.00\" fill=\"#000000\">value = [1879, 1634]</text>\n<text text-anchor=\"middle\" x=\"461\" y=\"-111.8\" font-family=\"Helvetica,sans-Serif\" font-size=\"14.00\" fill=\"#000000\">class = não</text>\n</g>\n<!-- 6&#45;&gt;7 -->\n<g id=\"edge7\" class=\"edge\">\n<title>6&#45;&gt;7</title>\n<path fill=\"none\" stroke=\"#000000\" d=\"M461,-222.8796C461,-214.6838 461,-205.9891 461,-197.5013\"/>\n<polygon fill=\"#000000\" stroke=\"#000000\" points=\"464.5001,-197.298 461,-187.2981 457.5001,-197.2981 464.5001,-197.298\"/>\n</g>\n<!-- 10 -->\n<g id=\"node11\" class=\"node\">\n<title>10</title>\n<path fill=\"#e9965a\" stroke=\"#000000\" d=\"M753.5,-187C753.5,-187 622.5,-187 622.5,-187 616.5,-187 610.5,-181 610.5,-175 610.5,-175 610.5,-116 610.5,-116 610.5,-110 616.5,-104 622.5,-104 622.5,-104 753.5,-104 753.5,-104 759.5,-104 765.5,-110 765.5,-116 765.5,-116 765.5,-175 765.5,-175 765.5,-181 759.5,-187 753.5,-187\"/>\n<text text-anchor=\"middle\" x=\"688\" y=\"-171.8\" font-family=\"Helvetica,sans-Serif\" font-size=\"14.00\" fill=\"#000000\">preco &lt;= 100076.957</text>\n<text text-anchor=\"middle\" x=\"688\" y=\"-156.8\" font-family=\"Helvetica,sans-Serif\" font-size=\"14.00\" fill=\"#000000\">gini = 0.243</text>\n<text text-anchor=\"middle\" x=\"688\" y=\"-141.8\" font-family=\"Helvetica,sans-Serif\" font-size=\"14.00\" fill=\"#000000\">samples = 2140</text>\n<text text-anchor=\"middle\" x=\"688\" y=\"-126.8\" font-family=\"Helvetica,sans-Serif\" font-size=\"14.00\" fill=\"#000000\">value = [1837, 303]</text>\n<text text-anchor=\"middle\" x=\"688\" y=\"-111.8\" font-family=\"Helvetica,sans-Serif\" font-size=\"14.00\" fill=\"#000000\">class = não</text>\n</g>\n<!-- 6&#45;&gt;10 -->\n<g id=\"edge10\" class=\"edge\">\n<title>6&#45;&gt;10</title>\n<path fill=\"none\" stroke=\"#000000\" d=\"M540.3936,-222.8796C560.0179,-212.592 581.1418,-201.5182 601.1025,-191.0542\"/>\n<polygon fill=\"#000000\" stroke=\"#000000\" points=\"602.9504,-194.0373 610.1822,-186.2944 599.7003,-187.8375 602.9504,-194.0373\"/>\n</g>\n<!-- 8 -->\n<g id=\"node9\" class=\"node\">\n<title>8</title>\n<path fill=\"#f9e0ce\" stroke=\"#000000\" d=\"M441.5,-68C441.5,-68 316.5,-68 316.5,-68 310.5,-68 304.5,-62 304.5,-56 304.5,-56 304.5,-12 304.5,-12 304.5,-6 310.5,0 316.5,0 316.5,0 441.5,0 441.5,0 447.5,0 453.5,-6 453.5,-12 453.5,-12 453.5,-56 453.5,-56 453.5,-62 447.5,-68 441.5,-68\"/>\n<text text-anchor=\"middle\" x=\"379\" y=\"-52.8\" font-family=\"Helvetica,sans-Serif\" font-size=\"14.00\" fill=\"#000000\">gini = 0.49</text>\n<text text-anchor=\"middle\" x=\"379\" y=\"-37.8\" font-family=\"Helvetica,sans-Serif\" font-size=\"14.00\" fill=\"#000000\">samples = 2944</text>\n<text text-anchor=\"middle\" x=\"379\" y=\"-22.8\" font-family=\"Helvetica,sans-Serif\" font-size=\"14.00\" fill=\"#000000\">value = [1682, 1262]</text>\n<text text-anchor=\"middle\" x=\"379\" y=\"-7.8\" font-family=\"Helvetica,sans-Serif\" font-size=\"14.00\" fill=\"#000000\">class = não</text>\n</g>\n<!-- 7&#45;&gt;8 -->\n<g id=\"edge8\" class=\"edge\">\n<title>7&#45;&gt;8</title>\n<path fill=\"none\" stroke=\"#000000\" d=\"M430.4662,-103.9815C423.8424,-94.9747 416.8279,-85.4367 410.1795,-76.3965\"/>\n<polygon fill=\"#000000\" stroke=\"#000000\" points=\"412.9426,-74.2461 404.1984,-68.2637 407.3034,-78.3933 412.9426,-74.2461\"/>\n</g>\n<!-- 9 -->\n<g id=\"node10\" class=\"node\">\n<title>9</title>\n<path fill=\"#a2d1f3\" stroke=\"#000000\" d=\"M592,-68C592,-68 484,-68 484,-68 478,-68 472,-62 472,-56 472,-56 472,-12 472,-12 472,-6 478,0 484,0 484,0 592,0 592,0 598,0 604,-6 604,-12 604,-12 604,-56 604,-56 604,-62 598,-68 592,-68\"/>\n<text text-anchor=\"middle\" x=\"538\" y=\"-52.8\" font-family=\"Helvetica,sans-Serif\" font-size=\"14.00\" fill=\"#000000\">gini = 0.453</text>\n<text text-anchor=\"middle\" x=\"538\" y=\"-37.8\" font-family=\"Helvetica,sans-Serif\" font-size=\"14.00\" fill=\"#000000\">samples = 569</text>\n<text text-anchor=\"middle\" x=\"538\" y=\"-22.8\" font-family=\"Helvetica,sans-Serif\" font-size=\"14.00\" fill=\"#000000\">value = [197, 372]</text>\n<text text-anchor=\"middle\" x=\"538\" y=\"-7.8\" font-family=\"Helvetica,sans-Serif\" font-size=\"14.00\" fill=\"#000000\">class = sim</text>\n</g>\n<!-- 7&#45;&gt;9 -->\n<g id=\"edge9\" class=\"edge\">\n<title>7&#45;&gt;9</title>\n<path fill=\"none\" stroke=\"#000000\" d=\"M489.672,-103.9815C495.8285,-95.0666 502.3443,-85.6313 508.5305,-76.6734\"/>\n<polygon fill=\"#000000\" stroke=\"#000000\" points=\"511.5355,-78.4811 514.3381,-68.2637 505.7755,-74.5034 511.5355,-78.4811\"/>\n</g>\n<!-- 11 -->\n<g id=\"node12\" class=\"node\">\n<title>11</title>\n<path fill=\"#e68742\" stroke=\"#000000\" d=\"M742,-68C742,-68 634,-68 634,-68 628,-68 622,-62 622,-56 622,-56 622,-12 622,-12 622,-6 628,0 634,0 634,0 742,0 742,0 748,0 754,-6 754,-12 754,-12 754,-56 754,-56 754,-62 748,-68 742,-68\"/>\n<text text-anchor=\"middle\" x=\"688\" y=\"-52.8\" font-family=\"Helvetica,sans-Serif\" font-size=\"14.00\" fill=\"#000000\">gini = 0.082</text>\n<text text-anchor=\"middle\" x=\"688\" y=\"-37.8\" font-family=\"Helvetica,sans-Serif\" font-size=\"14.00\" fill=\"#000000\">samples = 1809</text>\n<text text-anchor=\"middle\" x=\"688\" y=\"-22.8\" font-family=\"Helvetica,sans-Serif\" font-size=\"14.00\" fill=\"#000000\">value = [1732, 77]</text>\n<text text-anchor=\"middle\" x=\"688\" y=\"-7.8\" font-family=\"Helvetica,sans-Serif\" font-size=\"14.00\" fill=\"#000000\">class = não</text>\n</g>\n<!-- 10&#45;&gt;11 -->\n<g id=\"edge11\" class=\"edge\">\n<title>10&#45;&gt;11</title>\n<path fill=\"none\" stroke=\"#000000\" d=\"M688,-103.9815C688,-95.618 688,-86.7965 688,-78.3409\"/>\n<polygon fill=\"#000000\" stroke=\"#000000\" points=\"691.5001,-78.2636 688,-68.2637 684.5001,-78.2637 691.5001,-78.2636\"/>\n</g>\n<!-- 12 -->\n<g id=\"node13\" class=\"node\">\n<title>12</title>\n<path fill=\"#95cbf1\" stroke=\"#000000\" d=\"M892,-68C892,-68 784,-68 784,-68 778,-68 772,-62 772,-56 772,-56 772,-12 772,-12 772,-6 778,0 784,0 784,0 892,0 892,0 898,0 904,-6 904,-12 904,-12 904,-56 904,-56 904,-62 898,-68 892,-68\"/>\n<text text-anchor=\"middle\" x=\"838\" y=\"-52.8\" font-family=\"Helvetica,sans-Serif\" font-size=\"14.00\" fill=\"#000000\">gini = 0.433</text>\n<text text-anchor=\"middle\" x=\"838\" y=\"-37.8\" font-family=\"Helvetica,sans-Serif\" font-size=\"14.00\" fill=\"#000000\">samples = 331</text>\n<text text-anchor=\"middle\" x=\"838\" y=\"-22.8\" font-family=\"Helvetica,sans-Serif\" font-size=\"14.00\" fill=\"#000000\">value = [105, 226]</text>\n<text text-anchor=\"middle\" x=\"838\" y=\"-7.8\" font-family=\"Helvetica,sans-Serif\" font-size=\"14.00\" fill=\"#000000\">class = sim</text>\n</g>\n<!-- 10&#45;&gt;12 -->\n<g id=\"edge12\" class=\"edge\">\n<title>10&#45;&gt;12</title>\n<path fill=\"none\" stroke=\"#000000\" d=\"M743.8545,-103.9815C756.8368,-94.3313 770.6394,-84.0714 783.5597,-74.4673\"/>\n<polygon fill=\"#000000\" stroke=\"#000000\" points=\"785.9678,-77.0384 791.9054,-68.2637 781.7917,-71.4204 785.9678,-77.0384\"/>\n</g>\n</g>\n</svg>\n"
          },
          "metadata": {
            "tags": []
          },
          "execution_count": 17
        }
      ]
    },
    {
      "cell_type": "code",
      "metadata": {
        "id": "efznM-SPPWCT",
        "colab_type": "code",
        "colab": {
          "base_uri": "https://localhost:8080/",
          "height": 52
        },
        "outputId": "9e1a4b08-00f3-41f4-ab80-85eec1e44d54"
      },
      "source": [
        "# GroupKFold para analisar como o modelo se comporta com novos grupos\n",
        "\n",
        "SEED = 301\n",
        "np.random.seed(SEED)\n",
        "\n",
        "cv = GroupKFold(n_splits = 10)\n",
        "modelo = DecisionTreeClassifier(max_depth=10)\n",
        "results = cross_validate(modelo, x_azar, y_azar, cv=cv, groups=dados.modelo, return_train_score=False)\n",
        "imprime_resultados(results)"
      ],
      "execution_count": 18,
      "outputs": [
        {
          "output_type": "stream",
          "text": [
            "Acurácia média 77.19\n",
            "Intervalo [75.26, 79.13]\n"
          ],
          "name": "stdout"
        }
      ]
    },
    {
      "cell_type": "markdown",
      "metadata": {
        "id": "JBSqhf22VCPn",
        "colab_type": "text"
      },
      "source": [
        "# Testando parâmetros"
      ]
    },
    {
      "cell_type": "code",
      "metadata": {
        "id": "LUq-kOX8Php6",
        "colab_type": "code",
        "colab": {
          "base_uri": "https://localhost:8080/",
          "height": 585
        },
        "outputId": "d62db694-3ef8-4103-f877-4c70090110fc"
      },
      "source": [
        "def roda_arvore_de_decisao(max_depth, x, y):\n",
        "  SEED = 301\n",
        "  np.random.seed(SEED)\n",
        "\n",
        "  cv = GroupKFold(n_splits = 10)\n",
        "  modelo = DecisionTreeClassifier(max_depth=max_depth)\n",
        "  results = cross_validate(modelo, x, y, cv=cv, groups=dados.modelo, return_train_score=True)\n",
        "  train_score = results['train_score'].mean() * 100\n",
        "  test_score = results['test_score'].mean() * 100\n",
        "  print('Arvore max_depth = %d, treino = %.2f, test = %.2f' % (max_depth, train_score, test_score))\n",
        "  tabela = [max_depth, train_score, test_score]\n",
        "  return tabela\n",
        "\n",
        "resultados = [roda_arvore_de_decisao(i, x_azar, y_azar) for i in range(1, 33)]\n",
        "resultados = pd.DataFrame(resultados, columns=['max_depth', 'train_score', 'test_score'])"
      ],
      "execution_count": 30,
      "outputs": [
        {
          "output_type": "stream",
          "text": [
            "Arvore max_depth = 1, treino = 75.79, test = 75.78\n",
            "Arvore max_depth = 2, treino = 75.79, test = 75.78\n",
            "Arvore max_depth = 3, treino = 78.75, test = 78.67\n",
            "Arvore max_depth = 4, treino = 78.79, test = 78.63\n",
            "Arvore max_depth = 5, treino = 78.94, test = 78.56\n",
            "Arvore max_depth = 6, treino = 79.17, test = 78.12\n",
            "Arvore max_depth = 7, treino = 79.50, test = 77.96\n",
            "Arvore max_depth = 8, treino = 79.89, test = 77.86\n",
            "Arvore max_depth = 9, treino = 80.46, test = 77.38\n",
            "Arvore max_depth = 10, treino = 81.16, test = 77.19\n",
            "Arvore max_depth = 11, treino = 82.03, test = 76.97\n",
            "Arvore max_depth = 12, treino = 82.89, test = 76.49\n",
            "Arvore max_depth = 13, treino = 83.95, test = 75.81\n",
            "Arvore max_depth = 14, treino = 85.03, test = 75.66\n",
            "Arvore max_depth = 15, treino = 86.14, test = 75.16\n",
            "Arvore max_depth = 16, treino = 87.19, test = 75.11\n",
            "Arvore max_depth = 17, treino = 88.31, test = 74.74\n",
            "Arvore max_depth = 18, treino = 89.26, test = 74.33\n",
            "Arvore max_depth = 19, treino = 90.32, test = 74.34\n",
            "Arvore max_depth = 20, treino = 91.32, test = 74.22\n",
            "Arvore max_depth = 21, treino = 92.14, test = 73.80\n",
            "Arvore max_depth = 22, treino = 93.02, test = 73.81\n",
            "Arvore max_depth = 23, treino = 93.80, test = 73.38\n",
            "Arvore max_depth = 24, treino = 94.47, test = 73.43\n",
            "Arvore max_depth = 25, treino = 95.16, test = 73.14\n",
            "Arvore max_depth = 26, treino = 95.74, test = 73.04\n",
            "Arvore max_depth = 27, treino = 96.33, test = 72.91\n",
            "Arvore max_depth = 28, treino = 96.75, test = 72.66\n",
            "Arvore max_depth = 29, treino = 97.10, test = 72.73\n",
            "Arvore max_depth = 30, treino = 97.43, test = 72.81\n",
            "Arvore max_depth = 31, treino = 97.80, test = 72.86\n",
            "Arvore max_depth = 32, treino = 98.10, test = 72.52\n"
          ],
          "name": "stdout"
        }
      ]
    },
    {
      "cell_type": "markdown",
      "metadata": {
        "id": "MVqqpGk2aHzd",
        "colab_type": "text"
      },
      "source": [
        "# Overfit: perfeito no treino e ruim para o teste"
      ]
    },
    {
      "cell_type": "code",
      "metadata": {
        "id": "b9t0XyIiVTa3",
        "colab_type": "code",
        "colab": {
          "base_uri": "https://localhost:8080/",
          "height": 297
        },
        "outputId": "3551601d-9ef5-48be-b421-53d29467386d"
      },
      "source": [
        "sns.lineplot(data=resultados, x='max_depth', y='train_score')\n",
        "sns.lineplot(data=resultados, x='max_depth', y='test_score')\n",
        "plt.legend(['Treino', 'Teste'])"
      ],
      "execution_count": 36,
      "outputs": [
        {
          "output_type": "execute_result",
          "data": {
            "text/plain": [
              "<matplotlib.legend.Legend at 0x7f321b01bc50>"
            ]
          },
          "metadata": {
            "tags": []
          },
          "execution_count": 36
        },
        {
          "output_type": "display_data",
          "data": {
            "image/png": "[encoded data removed]",
            "text/plain": [
              "<Figure size 432x288 with 1 Axes>"
            ]
          },
          "metadata": {
            "tags": []
          }
        }
      ]
    },
    {
      "cell_type": "code",
      "metadata": {
        "id": "mx3IB25-ZOoC",
        "colab_type": "code",
        "colab": {
          "base_uri": "https://localhost:8080/",
          "height": 197
        },
        "outputId": "b34326d1-beed-4056-9e42-5a0542f70443"
      },
      "source": [
        "resultados.sort_values('test_score', ascending=False).head()"
      ],
      "execution_count": 38,
      "outputs": [
        {
          "output_type": "execute_result",
          "data": {
            "text/html": [
              "<div>\n",
              "<style scoped>\n",
              "    .dataframe tbody tr th:only-of-type {\n",
              "        vertical-align: middle;\n",
              "    }\n",
              "\n",
              "    .dataframe tbody tr th {\n",
              "        vertical-align: top;\n",
              "    }\n",
              "\n",
              "    .dataframe thead th {\n",
              "        text-align: right;\n",
              "    }\n",
              "</style>\n",
              "<table border=\"1\" class=\"dataframe\">\n",
              "  <thead>\n",
              "    <tr style=\"text-align: right;\">\n",
              "      <th></th>\n",
              "      <th>max_depth</th>\n",
              "      <th>train_score</th>\n",
              "      <th>test_score</th>\n",
              "    </tr>\n",
              "  </thead>\n",
              "  <tbody>\n",
              "    <tr>\n",
              "      <th>2</th>\n",
              "      <td>3</td>\n",
              "      <td>78.750993</td>\n",
              "      <td>78.672633</td>\n",
              "    </tr>\n",
              "    <tr>\n",
              "      <th>3</th>\n",
              "      <td>4</td>\n",
              "      <td>78.787628</td>\n",
              "      <td>78.632803</td>\n",
              "    </tr>\n",
              "    <tr>\n",
              "      <th>4</th>\n",
              "      <td>5</td>\n",
              "      <td>78.941007</td>\n",
              "      <td>78.555912</td>\n",
              "    </tr>\n",
              "    <tr>\n",
              "      <th>5</th>\n",
              "      <td>6</td>\n",
              "      <td>79.170115</td>\n",
              "      <td>78.123266</td>\n",
              "    </tr>\n",
              "    <tr>\n",
              "      <th>6</th>\n",
              "      <td>7</td>\n",
              "      <td>79.496806</td>\n",
              "      <td>77.963185</td>\n",
              "    </tr>\n",
              "  </tbody>\n",
              "</table>\n",
              "</div>"
            ],
            "text/plain": [
              "   max_depth  train_score  test_score\n",
              "2          3    78.750993   78.672633\n",
              "3          4    78.787628   78.632803\n",
              "4          5    78.941007   78.555912\n",
              "5          6    79.170115   78.123266\n",
              "6          7    79.496806   77.963185"
            ]
          },
          "metadata": {
            "tags": []
          },
          "execution_count": 38
        }
      ]
    },
    {
      "cell_type": "markdown",
      "metadata": {
        "id": "YMzbRKOOeStF",
        "colab_type": "text"
      },
      "source": [
        "# Explorando hiper parâmetros em 2 dimensões"
      ]
    },
    {
      "cell_type": "code",
      "metadata": {
        "id": "27PK5wYbaS3t",
        "colab_type": "code",
        "colab": {
          "base_uri": "https://localhost:8080/",
          "height": 1000
        },
        "outputId": "a0ccfa5e-7ca0-4ff3-dc72-51b7c3d54791"
      },
      "source": [
        "def roda_arvore_de_decisao(max_depth, min_samples_leaf, x, y):\n",
        "  SEED = 301\n",
        "  np.random.seed(SEED)\n",
        "\n",
        "  cv = GroupKFold(n_splits = 10)\n",
        "  modelo = DecisionTreeClassifier(max_depth=max_depth, min_samples_leaf=min_samples_leaf)\n",
        "  results = cross_validate(modelo, x, y, cv=cv, groups=dados.modelo, return_train_score=True)\n",
        "  train_score = results['train_score'].mean() * 100\n",
        "  test_score = results['test_score'].mean() * 100\n",
        "  print('Arvore max_depth = %d, min_samples_leaf = %d, treino = %.2f, test = %.2f' % (max_depth, min_samples_leaf, train_score, test_score))\n",
        "  tabela = [max_depth, min_samples_leaf, train_score, test_score]\n",
        "  return tabela\n",
        "\n",
        "def busca():\n",
        "  resultados = []\n",
        "  for max_depth in range(1, 33):\n",
        "    for min_samples_leaf in [32, 64, 128, 256]:\n",
        "      tabela = roda_arvore_de_decisao(max_depth, min_samples_leaf, x_azar, y_azar)\n",
        "      resultados.append(tabela)\n",
        "  resultados = pd.DataFrame(resultados, columns=['max_depth', 'min_samples_leaf', 'train_score', 'test_score'])\n",
        "  return resultados\n",
        "\n",
        "resultados = busca()\n",
        "resultados.head()"
      ],
      "execution_count": 54,
      "outputs": [
        {
          "output_type": "stream",
          "text": [
            "Arvore max_depth = 1, min_samples_leaf = 32, treino = 75.79, test = 75.78\n",
            "Arvore max_depth = 1, min_samples_leaf = 64, treino = 75.79, test = 75.78\n",
            "Arvore max_depth = 1, min_samples_leaf = 128, treino = 75.79, test = 75.78\n",
            "Arvore max_depth = 1, min_samples_leaf = 256, treino = 75.79, test = 75.78\n",
            "Arvore max_depth = 2, min_samples_leaf = 32, treino = 75.79, test = 75.78\n",
            "Arvore max_depth = 2, min_samples_leaf = 64, treino = 75.79, test = 75.78\n",
            "Arvore max_depth = 2, min_samples_leaf = 128, treino = 75.79, test = 75.78\n",
            "Arvore max_depth = 2, min_samples_leaf = 256, treino = 75.79, test = 75.78\n",
            "Arvore max_depth = 3, min_samples_leaf = 32, treino = 78.75, test = 78.67\n",
            "Arvore max_depth = 3, min_samples_leaf = 64, treino = 78.75, test = 78.67\n",
            "Arvore max_depth = 3, min_samples_leaf = 128, treino = 78.75, test = 78.67\n",
            "Arvore max_depth = 3, min_samples_leaf = 256, treino = 78.75, test = 78.67\n",
            "Arvore max_depth = 4, min_samples_leaf = 32, treino = 78.75, test = 78.67\n",
            "Arvore max_depth = 4, min_samples_leaf = 64, treino = 78.75, test = 78.67\n",
            "Arvore max_depth = 4, min_samples_leaf = 128, treino = 78.75, test = 78.67\n",
            "Arvore max_depth = 4, min_samples_leaf = 256, treino = 78.75, test = 78.67\n",
            "Arvore max_depth = 5, min_samples_leaf = 32, treino = 78.82, test = 78.50\n",
            "Arvore max_depth = 5, min_samples_leaf = 64, treino = 78.79, test = 78.45\n",
            "Arvore max_depth = 5, min_samples_leaf = 128, treino = 78.77, test = 78.44\n",
            "Arvore max_depth = 5, min_samples_leaf = 256, treino = 78.77, test = 78.44\n",
            "Arvore max_depth = 6, min_samples_leaf = 32, treino = 78.96, test = 78.02\n",
            "Arvore max_depth = 6, min_samples_leaf = 64, treino = 78.92, test = 78.09\n",
            "Arvore max_depth = 6, min_samples_leaf = 128, treino = 78.85, test = 78.27\n",
            "Arvore max_depth = 6, min_samples_leaf = 256, treino = 78.79, test = 78.27\n",
            "Arvore max_depth = 7, min_samples_leaf = 32, treino = 79.24, test = 77.94\n",
            "Arvore max_depth = 7, min_samples_leaf = 64, treino = 79.18, test = 78.05\n",
            "Arvore max_depth = 7, min_samples_leaf = 128, treino = 79.01, test = 78.21\n",
            "Arvore max_depth = 7, min_samples_leaf = 256, treino = 78.85, test = 78.08\n",
            "Arvore max_depth = 8, min_samples_leaf = 32, treino = 79.47, test = 77.93\n",
            "Arvore max_depth = 8, min_samples_leaf = 64, treino = 79.30, test = 77.99\n",
            "Arvore max_depth = 8, min_samples_leaf = 128, treino = 79.05, test = 78.37\n",
            "Arvore max_depth = 8, min_samples_leaf = 256, treino = 78.89, test = 77.94\n",
            "Arvore max_depth = 9, min_samples_leaf = 32, treino = 79.80, test = 77.32\n",
            "Arvore max_depth = 9, min_samples_leaf = 64, treino = 79.46, test = 77.55\n",
            "Arvore max_depth = 9, min_samples_leaf = 128, treino = 79.12, test = 78.30\n",
            "Arvore max_depth = 9, min_samples_leaf = 256, treino = 78.90, test = 77.85\n",
            "Arvore max_depth = 10, min_samples_leaf = 32, treino = 80.05, test = 77.45\n",
            "Arvore max_depth = 10, min_samples_leaf = 64, treino = 79.55, test = 77.64\n",
            "Arvore max_depth = 10, min_samples_leaf = 128, treino = 79.16, test = 78.29\n",
            "Arvore max_depth = 10, min_samples_leaf = 256, treino = 78.90, test = 77.85\n",
            "Arvore max_depth = 11, min_samples_leaf = 32, treino = 80.21, test = 77.20\n",
            "Arvore max_depth = 11, min_samples_leaf = 64, treino = 79.60, test = 77.53\n",
            "Arvore max_depth = 11, min_samples_leaf = 128, treino = 79.19, test = 78.31\n",
            "Arvore max_depth = 11, min_samples_leaf = 256, treino = 78.90, test = 77.85\n",
            "Arvore max_depth = 12, min_samples_leaf = 32, treino = 80.34, test = 77.00\n",
            "Arvore max_depth = 12, min_samples_leaf = 64, treino = 79.72, test = 77.29\n",
            "Arvore max_depth = 12, min_samples_leaf = 128, treino = 79.21, test = 78.22\n",
            "Arvore max_depth = 12, min_samples_leaf = 256, treino = 78.90, test = 77.85\n",
            "Arvore max_depth = 13, min_samples_leaf = 32, treino = 80.51, test = 76.85\n",
            "Arvore max_depth = 13, min_samples_leaf = 64, treino = 79.74, test = 77.34\n",
            "Arvore max_depth = 13, min_samples_leaf = 128, treino = 79.21, test = 78.22\n",
            "Arvore max_depth = 13, min_samples_leaf = 256, treino = 78.90, test = 77.85\n",
            "Arvore max_depth = 14, min_samples_leaf = 32, treino = 80.60, test = 76.69\n",
            "Arvore max_depth = 14, min_samples_leaf = 64, treino = 79.77, test = 77.26\n",
            "Arvore max_depth = 14, min_samples_leaf = 128, treino = 79.21, test = 78.22\n",
            "Arvore max_depth = 14, min_samples_leaf = 256, treino = 78.90, test = 77.85\n",
            "Arvore max_depth = 15, min_samples_leaf = 32, treino = 80.70, test = 76.88\n",
            "Arvore max_depth = 15, min_samples_leaf = 64, treino = 79.79, test = 77.30\n",
            "Arvore max_depth = 15, min_samples_leaf = 128, treino = 79.21, test = 78.22\n",
            "Arvore max_depth = 15, min_samples_leaf = 256, treino = 78.90, test = 77.85\n",
            "Arvore max_depth = 16, min_samples_leaf = 32, treino = 80.76, test = 76.87\n",
            "Arvore max_depth = 16, min_samples_leaf = 64, treino = 79.79, test = 77.30\n",
            "Arvore max_depth = 16, min_samples_leaf = 128, treino = 79.21, test = 78.22\n",
            "Arvore max_depth = 16, min_samples_leaf = 256, treino = 78.90, test = 77.85\n",
            "Arvore max_depth = 17, min_samples_leaf = 32, treino = 80.82, test = 76.98\n",
            "Arvore max_depth = 17, min_samples_leaf = 64, treino = 79.79, test = 77.30\n",
            "Arvore max_depth = 17, min_samples_leaf = 128, treino = 79.21, test = 78.22\n",
            "Arvore max_depth = 17, min_samples_leaf = 256, treino = 78.90, test = 77.85\n",
            "Arvore max_depth = 18, min_samples_leaf = 32, treino = 80.85, test = 76.86\n",
            "Arvore max_depth = 18, min_samples_leaf = 64, treino = 79.79, test = 77.30\n",
            "Arvore max_depth = 18, min_samples_leaf = 128, treino = 79.21, test = 78.22\n",
            "Arvore max_depth = 18, min_samples_leaf = 256, treino = 78.90, test = 77.85\n",
            "Arvore max_depth = 19, min_samples_leaf = 32, treino = 80.86, test = 76.89\n",
            "Arvore max_depth = 19, min_samples_leaf = 64, treino = 79.79, test = 77.30\n",
            "Arvore max_depth = 19, min_samples_leaf = 128, treino = 79.21, test = 78.22\n",
            "Arvore max_depth = 19, min_samples_leaf = 256, treino = 78.90, test = 77.85\n",
            "Arvore max_depth = 20, min_samples_leaf = 32, treino = 80.88, test = 76.87\n",
            "Arvore max_depth = 20, min_samples_leaf = 64, treino = 79.79, test = 77.30\n",
            "Arvore max_depth = 20, min_samples_leaf = 128, treino = 79.21, test = 78.22\n",
            "Arvore max_depth = 20, min_samples_leaf = 256, treino = 78.90, test = 77.85\n",
            "Arvore max_depth = 21, min_samples_leaf = 32, treino = 80.88, test = 76.92\n",
            "Arvore max_depth = 21, min_samples_leaf = 64, treino = 79.79, test = 77.30\n",
            "Arvore max_depth = 21, min_samples_leaf = 128, treino = 79.21, test = 78.22\n",
            "Arvore max_depth = 21, min_samples_leaf = 256, treino = 78.90, test = 77.85\n",
            "Arvore max_depth = 22, min_samples_leaf = 32, treino = 80.88, test = 76.87\n",
            "Arvore max_depth = 22, min_samples_leaf = 64, treino = 79.79, test = 77.30\n",
            "Arvore max_depth = 22, min_samples_leaf = 128, treino = 79.21, test = 78.22\n",
            "Arvore max_depth = 22, min_samples_leaf = 256, treino = 78.90, test = 77.85\n",
            "Arvore max_depth = 23, min_samples_leaf = 32, treino = 80.88, test = 76.87\n",
            "Arvore max_depth = 23, min_samples_leaf = 64, treino = 79.79, test = 77.30\n",
            "Arvore max_depth = 23, min_samples_leaf = 128, treino = 79.21, test = 78.22\n",
            "Arvore max_depth = 23, min_samples_leaf = 256, treino = 78.90, test = 77.85\n",
            "Arvore max_depth = 24, min_samples_leaf = 32, treino = 80.89, test = 76.84\n",
            "Arvore max_depth = 24, min_samples_leaf = 64, treino = 79.79, test = 77.30\n",
            "Arvore max_depth = 24, min_samples_leaf = 128, treino = 79.21, test = 78.22\n",
            "Arvore max_depth = 24, min_samples_leaf = 256, treino = 78.90, test = 77.85\n",
            "Arvore max_depth = 25, min_samples_leaf = 32, treino = 80.89, test = 76.84\n",
            "Arvore max_depth = 25, min_samples_leaf = 64, treino = 79.79, test = 77.30\n",
            "Arvore max_depth = 25, min_samples_leaf = 128, treino = 79.21, test = 78.22\n",
            "Arvore max_depth = 25, min_samples_leaf = 256, treino = 78.90, test = 77.85\n",
            "Arvore max_depth = 26, min_samples_leaf = 32, treino = 80.89, test = 76.84\n",
            "Arvore max_depth = 26, min_samples_leaf = 64, treino = 79.79, test = 77.30\n",
            "Arvore max_depth = 26, min_samples_leaf = 128, treino = 79.21, test = 78.22\n",
            "Arvore max_depth = 26, min_samples_leaf = 256, treino = 78.90, test = 77.85\n",
            "Arvore max_depth = 27, min_samples_leaf = 32, treino = 80.89, test = 76.84\n",
            "Arvore max_depth = 27, min_samples_leaf = 64, treino = 79.79, test = 77.30\n",
            "Arvore max_depth = 27, min_samples_leaf = 128, treino = 79.21, test = 78.22\n",
            "Arvore max_depth = 27, min_samples_leaf = 256, treino = 78.90, test = 77.85\n",
            "Arvore max_depth = 28, min_samples_leaf = 32, treino = 80.89, test = 76.84\n",
            "Arvore max_depth = 28, min_samples_leaf = 64, treino = 79.79, test = 77.30\n",
            "Arvore max_depth = 28, min_samples_leaf = 128, treino = 79.21, test = 78.22\n",
            "Arvore max_depth = 28, min_samples_leaf = 256, treino = 78.90, test = 77.85\n",
            "Arvore max_depth = 29, min_samples_leaf = 32, treino = 80.89, test = 76.84\n",
            "Arvore max_depth = 29, min_samples_leaf = 64, treino = 79.79, test = 77.30\n",
            "Arvore max_depth = 29, min_samples_leaf = 128, treino = 79.21, test = 78.22\n",
            "Arvore max_depth = 29, min_samples_leaf = 256, treino = 78.90, test = 77.85\n",
            "Arvore max_depth = 30, min_samples_leaf = 32, treino = 80.89, test = 76.84\n",
            "Arvore max_depth = 30, min_samples_leaf = 64, treino = 79.79, test = 77.30\n",
            "Arvore max_depth = 30, min_samples_leaf = 128, treino = 79.21, test = 78.22\n",
            "Arvore max_depth = 30, min_samples_leaf = 256, treino = 78.90, test = 77.85\n",
            "Arvore max_depth = 31, min_samples_leaf = 32, treino = 80.89, test = 76.84\n",
            "Arvore max_depth = 31, min_samples_leaf = 64, treino = 79.79, test = 77.30\n",
            "Arvore max_depth = 31, min_samples_leaf = 128, treino = 79.21, test = 78.22\n",
            "Arvore max_depth = 31, min_samples_leaf = 256, treino = 78.90, test = 77.85\n",
            "Arvore max_depth = 32, min_samples_leaf = 32, treino = 80.89, test = 76.84\n",
            "Arvore max_depth = 32, min_samples_leaf = 64, treino = 79.79, test = 77.30\n",
            "Arvore max_depth = 32, min_samples_leaf = 128, treino = 79.21, test = 78.22\n",
            "Arvore max_depth = 32, min_samples_leaf = 256, treino = 78.90, test = 77.85\n"
          ],
          "name": "stdout"
        },
        {
          "output_type": "execute_result",
          "data": {
            "text/html": [
              "<div>\n",
              "<style scoped>\n",
              "    .dataframe tbody tr th:only-of-type {\n",
              "        vertical-align: middle;\n",
              "    }\n",
              "\n",
              "    .dataframe tbody tr th {\n",
              "        vertical-align: top;\n",
              "    }\n",
              "\n",
              "    .dataframe thead th {\n",
              "        text-align: right;\n",
              "    }\n",
              "</style>\n",
              "<table border=\"1\" class=\"dataframe\">\n",
              "  <thead>\n",
              "    <tr style=\"text-align: right;\">\n",
              "      <th></th>\n",
              "      <th>max_depth</th>\n",
              "      <th>min_samples_leaf</th>\n",
              "      <th>train_score</th>\n",
              "      <th>test_score</th>\n",
              "    </tr>\n",
              "  </thead>\n",
              "  <tbody>\n",
              "    <tr>\n",
              "      <th>0</th>\n",
              "      <td>1</td>\n",
              "      <td>32</td>\n",
              "      <td>75.791169</td>\n",
              "      <td>75.784219</td>\n",
              "    </tr>\n",
              "    <tr>\n",
              "      <th>1</th>\n",
              "      <td>1</td>\n",
              "      <td>64</td>\n",
              "      <td>75.791169</td>\n",
              "      <td>75.784219</td>\n",
              "    </tr>\n",
              "    <tr>\n",
              "      <th>2</th>\n",
              "      <td>1</td>\n",
              "      <td>128</td>\n",
              "      <td>75.791169</td>\n",
              "      <td>75.784219</td>\n",
              "    </tr>\n",
              "    <tr>\n",
              "      <th>3</th>\n",
              "      <td>1</td>\n",
              "      <td>256</td>\n",
              "      <td>75.791169</td>\n",
              "      <td>75.784219</td>\n",
              "    </tr>\n",
              "    <tr>\n",
              "      <th>4</th>\n",
              "      <td>2</td>\n",
              "      <td>32</td>\n",
              "      <td>75.791169</td>\n",
              "      <td>75.784219</td>\n",
              "    </tr>\n",
              "  </tbody>\n",
              "</table>\n",
              "</div>"
            ],
            "text/plain": [
              "   max_depth  min_samples_leaf  train_score  test_score\n",
              "0          1                32    75.791169   75.784219\n",
              "1          1                64    75.791169   75.784219\n",
              "2          1               128    75.791169   75.784219\n",
              "3          1               256    75.791169   75.784219\n",
              "4          2                32    75.791169   75.784219"
            ]
          },
          "metadata": {
            "tags": []
          },
          "execution_count": 54
        }
      ]
    },
    {
      "cell_type": "code",
      "metadata": {
        "id": "ku1faO1ifJzU",
        "colab_type": "code",
        "colab": {
          "base_uri": "https://localhost:8080/",
          "height": 406
        },
        "outputId": "12954fc7-05bb-4efc-b4e3-448df74efa95"
      },
      "source": [
        " resultados.sort_values('test_score', ascending=False)"
      ],
      "execution_count": 43,
      "outputs": [
        {
          "output_type": "execute_result",
          "data": {
            "text/html": [
              "<div>\n",
              "<style scoped>\n",
              "    .dataframe tbody tr th:only-of-type {\n",
              "        vertical-align: middle;\n",
              "    }\n",
              "\n",
              "    .dataframe tbody tr th {\n",
              "        vertical-align: top;\n",
              "    }\n",
              "\n",
              "    .dataframe thead th {\n",
              "        text-align: right;\n",
              "    }\n",
              "</style>\n",
              "<table border=\"1\" class=\"dataframe\">\n",
              "  <thead>\n",
              "    <tr style=\"text-align: right;\">\n",
              "      <th></th>\n",
              "      <th>max_depth</th>\n",
              "      <th>min_samples_leaf</th>\n",
              "      <th>train_score</th>\n",
              "      <th>test_score</th>\n",
              "    </tr>\n",
              "  </thead>\n",
              "  <tbody>\n",
              "    <tr>\n",
              "      <th>15</th>\n",
              "      <td>4</td>\n",
              "      <td>256</td>\n",
              "      <td>78.750993</td>\n",
              "      <td>78.672633</td>\n",
              "    </tr>\n",
              "    <tr>\n",
              "      <th>12</th>\n",
              "      <td>4</td>\n",
              "      <td>32</td>\n",
              "      <td>78.750993</td>\n",
              "      <td>78.672633</td>\n",
              "    </tr>\n",
              "    <tr>\n",
              "      <th>14</th>\n",
              "      <td>4</td>\n",
              "      <td>128</td>\n",
              "      <td>78.750993</td>\n",
              "      <td>78.672633</td>\n",
              "    </tr>\n",
              "    <tr>\n",
              "      <th>13</th>\n",
              "      <td>4</td>\n",
              "      <td>64</td>\n",
              "      <td>78.750993</td>\n",
              "      <td>78.672633</td>\n",
              "    </tr>\n",
              "    <tr>\n",
              "      <th>8</th>\n",
              "      <td>3</td>\n",
              "      <td>32</td>\n",
              "      <td>78.750993</td>\n",
              "      <td>78.672633</td>\n",
              "    </tr>\n",
              "    <tr>\n",
              "      <th>...</th>\n",
              "      <td>...</td>\n",
              "      <td>...</td>\n",
              "      <td>...</td>\n",
              "      <td>...</td>\n",
              "    </tr>\n",
              "    <tr>\n",
              "      <th>5</th>\n",
              "      <td>2</td>\n",
              "      <td>64</td>\n",
              "      <td>75.791169</td>\n",
              "      <td>75.784219</td>\n",
              "    </tr>\n",
              "    <tr>\n",
              "      <th>4</th>\n",
              "      <td>2</td>\n",
              "      <td>32</td>\n",
              "      <td>75.791169</td>\n",
              "      <td>75.784219</td>\n",
              "    </tr>\n",
              "    <tr>\n",
              "      <th>3</th>\n",
              "      <td>1</td>\n",
              "      <td>256</td>\n",
              "      <td>75.791169</td>\n",
              "      <td>75.784219</td>\n",
              "    </tr>\n",
              "    <tr>\n",
              "      <th>2</th>\n",
              "      <td>1</td>\n",
              "      <td>128</td>\n",
              "      <td>75.791169</td>\n",
              "      <td>75.784219</td>\n",
              "    </tr>\n",
              "    <tr>\n",
              "      <th>0</th>\n",
              "      <td>1</td>\n",
              "      <td>32</td>\n",
              "      <td>75.791169</td>\n",
              "      <td>75.784219</td>\n",
              "    </tr>\n",
              "  </tbody>\n",
              "</table>\n",
              "<p>128 rows × 4 columns</p>\n",
              "</div>"
            ],
            "text/plain": [
              "    max_depth  min_samples_leaf  train_score  test_score\n",
              "15          4               256    78.750993   78.672633\n",
              "12          4                32    78.750993   78.672633\n",
              "14          4               128    78.750993   78.672633\n",
              "13          4                64    78.750993   78.672633\n",
              "8           3                32    78.750993   78.672633\n",
              "..        ...               ...          ...         ...\n",
              "5           2                64    75.791169   75.784219\n",
              "4           2                32    75.791169   75.784219\n",
              "3           1               256    75.791169   75.784219\n",
              "2           1               128    75.791169   75.784219\n",
              "0           1                32    75.791169   75.784219\n",
              "\n",
              "[128 rows x 4 columns]"
            ]
          },
          "metadata": {
            "tags": []
          },
          "execution_count": 43
        }
      ]
    },
    {
      "cell_type": "code",
      "metadata": {
        "id": "xthpNhZHg2BT",
        "colab_type": "code",
        "colab": {
          "base_uri": "https://localhost:8080/",
          "height": 365
        },
        "outputId": "61707005-bd69-4a22-8379-b73f40c7a92e"
      },
      "source": [
        "corr = resultados.corr()\n",
        "sns.heatmap(corr)"
      ],
      "execution_count": 45,
      "outputs": [
        {
          "output_type": "execute_result",
          "data": {
            "text/plain": [
              "<matplotlib.axes._subplots.AxesSubplot at 0x7f321ad7cfd0>"
            ]
          },
          "metadata": {
            "tags": []
          },
          "execution_count": 45
        },
        {
          "output_type": "display_data",
          "data": {
            "image/png": "[encoded data removed]",
            "text/plain": [
              "<Figure size 432x288 with 2 Axes>"
            ]
          },
          "metadata": {
            "tags": []
          }
        }
      ]
    },
    {
      "cell_type": "code",
      "metadata": {
        "id": "UY8KW2pJhdCP",
        "colab_type": "code",
        "colab": {
          "base_uri": "https://localhost:8080/",
          "height": 805
        },
        "outputId": "4152d529-4161-4127-b6ab-b89f5aab81c2"
      },
      "source": [
        "pd.plotting.scatter_matrix(resultados, figsize=(14,8), alpha=0.3)"
      ],
      "execution_count": 49,
      "outputs": [
        {
          "output_type": "execute_result",
          "data": {
            "text/plain": [
              "array([[<matplotlib.axes._subplots.AxesSubplot object at 0x7f3217d42588>,\n",
              "        <matplotlib.axes._subplots.AxesSubplot object at 0x7f3217b76940>,\n",
              "        <matplotlib.axes._subplots.AxesSubplot object at 0x7f3217b24d30>,\n",
              "        <matplotlib.axes._subplots.AxesSubplot object at 0x7f3217ae1320>],\n",
              "       [<matplotlib.axes._subplots.AxesSubplot object at 0x7f3217a8f8d0>,\n",
              "        <matplotlib.axes._subplots.AxesSubplot object at 0x7f3217ac1e80>,\n",
              "        <matplotlib.axes._subplots.AxesSubplot object at 0x7f3217a7e470>,\n",
              "        <matplotlib.axes._subplots.AxesSubplot object at 0x7f3217a2ea58>],\n",
              "       [<matplotlib.axes._subplots.AxesSubplot object at 0x7f3217a2ea90>,\n",
              "        <matplotlib.axes._subplots.AxesSubplot object at 0x7f321799f5c0>,\n",
              "        <matplotlib.axes._subplots.AxesSubplot object at 0x7f3217951b70>,\n",
              "        <matplotlib.axes._subplots.AxesSubplot object at 0x7f3217982fd0>],\n",
              "       [<matplotlib.axes._subplots.AxesSubplot object at 0x7f321793d5c0>,\n",
              "        <matplotlib.axes._subplots.AxesSubplot object at 0x7f32178edb70>,\n",
              "        <matplotlib.axes._subplots.AxesSubplot object at 0x7f32178ab160>,\n",
              "        <matplotlib.axes._subplots.AxesSubplot object at 0x7f321785d710>]],\n",
              "      dtype=object)"
            ]
          },
          "metadata": {
            "tags": []
          },
          "execution_count": 49
        },
        {
          "output_type": "display_data",
          "data": {
            "image/png": "[encoded data removed]",
            "text/plain": [
              "<Figure size 1008x576 with 16 Axes>"
            ]
          },
          "metadata": {
            "tags": []
          }
        }
      ]
    },
    {
      "cell_type": "code",
      "metadata": {
        "id": "Z4oJAvw5iE9w",
        "colab_type": "code",
        "colab": {
          "base_uri": "https://localhost:8080/",
          "height": 742
        },
        "outputId": "69b8b168-b283-40c2-cdd7-5318726d8165"
      },
      "source": [
        "sns.pairplot(resultados)"
      ],
      "execution_count": 50,
      "outputs": [
        {
          "output_type": "execute_result",
          "data": {
            "text/plain": [
              "<seaborn.axisgrid.PairGrid at 0x7f3217697c18>"
            ]
          },
          "metadata": {
            "tags": []
          },
          "execution_count": 50
        },
        {
          "output_type": "display_data",
          "data": {
            "image/png": "[encoded data removed]",
            "text/plain": [
              "<Figure size 720x720 with 20 Axes>"
            ]
          },
          "metadata": {
            "tags": []
          }
        }
      ]
    },
    {
      "cell_type": "code",
      "metadata": {
        "id": "4Px96bnFikQl",
        "colab_type": "code",
        "colab": {
          "base_uri": "https://localhost:8080/",
          "height": 558
        },
        "outputId": "58cca072-896e-4eb7-cd58-2ce6aa0fc0b2"
      },
      "source": [
        "sns.set(style='white')\n",
        "\n",
        "# Compute the correlation matrix\n",
        "corr = resultados.corr()\n",
        "\n",
        "# Generate a mask for the upper triangle\n",
        "mask = np.zeros_like(corr, dtype=np.bool)\n",
        "mask[np.triu_indices_from(mask)] = True\n",
        "\n",
        "# Set up the matplotlib figure\n",
        "f, ax = plt.subplots(figsize=(11, 9))\n",
        "\n",
        "# Generate a custom diverging colormap\n",
        "cmap = sns.diverging_palette(220, 10, as_cmap=True)\n",
        "\n",
        "# Draw the heatmap with the mask and correct aspect ratio\n",
        "sns.heatmap(corr, mask=mask, cmap=cmap, vmax=.3, center=0,\n",
        "            square=True, linewidths=.5, cbar_kws={\"shrink\": .5})"
      ],
      "execution_count": 52,
      "outputs": [
        {
          "output_type": "execute_result",
          "data": {
            "text/plain": [
              "<matplotlib.axes._subplots.AxesSubplot at 0x7f3216fba668>"
            ]
          },
          "metadata": {
            "tags": []
          },
          "execution_count": 52
        },
        {
          "output_type": "display_data",
          "data": {
            "image/png": "[encoded data removed]",
            "text/plain": [
              "<Figure size 792x648 with 2 Axes>"
            ]
          },
          "metadata": {
            "tags": []
          }
        }
      ]
    },
    {
      "cell_type": "code",
      "metadata": {
        "id": "dELWmiXHi9Ly",
        "colab_type": "code",
        "colab": {
          "base_uri": "https://localhost:8080/",
          "height": 1000
        },
        "outputId": "29c3373d-6926-4e00-f87a-64e040790723"
      },
      "source": [
        "def roda_arvore_de_decisao(max_depth, min_samples_leaf, x, y):\n",
        "  SEED = 301\n",
        "  np.random.seed(SEED)\n",
        "\n",
        "  cv = GroupKFold(n_splits = 10)\n",
        "  modelo = DecisionTreeClassifier(max_depth=max_depth, min_samples_leaf=min_samples_leaf)\n",
        "  results = cross_validate(modelo, x, y, cv=cv, groups=dados.modelo, return_train_score=True)\n",
        "  train_score = results['train_score'].mean() * 100\n",
        "  test_score = results['test_score'].mean() * 100\n",
        "  print('Arvore max_depth = %d, min_samples_leaf = %d, treino = %.2f, test = %.2f' % (max_depth, min_samples_leaf, train_score, test_score))\n",
        "  tabela = [max_depth, min_samples_leaf, train_score, test_score]\n",
        "  return tabela\n",
        "\n",
        "def busca():\n",
        "  resultados = []\n",
        "  for max_depth in range(1, 33):\n",
        "    for min_samples_leaf in [128, 192, 256, 512]:\n",
        "      tabela = roda_arvore_de_decisao(max_depth, min_samples_leaf, x_azar, y_azar)\n",
        "      resultados.append(tabela)\n",
        "  resultados = pd.DataFrame(resultados, columns=['max_depth', 'min_samples_leaf', 'train_score', 'test_score'])\n",
        "  return resultados\n",
        "\n",
        "resultados = busca()\n",
        "resultados.head()"
      ],
      "execution_count": 55,
      "outputs": [
        {
          "output_type": "stream",
          "text": [
            "Arvore max_depth = 1, min_samples_leaf = 128, treino = 75.79, test = 75.78\n",
            "Arvore max_depth = 1, min_samples_leaf = 192, treino = 75.79, test = 75.78\n",
            "Arvore max_depth = 1, min_samples_leaf = 256, treino = 75.79, test = 75.78\n",
            "Arvore max_depth = 1, min_samples_leaf = 512, treino = 75.79, test = 75.78\n",
            "Arvore max_depth = 2, min_samples_leaf = 128, treino = 75.79, test = 75.78\n",
            "Arvore max_depth = 2, min_samples_leaf = 192, treino = 75.79, test = 75.78\n",
            "Arvore max_depth = 2, min_samples_leaf = 256, treino = 75.79, test = 75.78\n",
            "Arvore max_depth = 2, min_samples_leaf = 512, treino = 75.79, test = 75.78\n",
            "Arvore max_depth = 3, min_samples_leaf = 128, treino = 78.75, test = 78.67\n",
            "Arvore max_depth = 3, min_samples_leaf = 192, treino = 78.75, test = 78.67\n",
            "Arvore max_depth = 3, min_samples_leaf = 256, treino = 78.75, test = 78.67\n",
            "Arvore max_depth = 3, min_samples_leaf = 512, treino = 77.53, test = 77.50\n",
            "Arvore max_depth = 4, min_samples_leaf = 128, treino = 78.75, test = 78.67\n",
            "Arvore max_depth = 4, min_samples_leaf = 192, treino = 78.75, test = 78.67\n",
            "Arvore max_depth = 4, min_samples_leaf = 256, treino = 78.75, test = 78.67\n",
            "Arvore max_depth = 4, min_samples_leaf = 512, treino = 77.53, test = 77.50\n",
            "Arvore max_depth = 5, min_samples_leaf = 128, treino = 78.77, test = 78.44\n",
            "Arvore max_depth = 5, min_samples_leaf = 192, treino = 78.77, test = 78.44\n",
            "Arvore max_depth = 5, min_samples_leaf = 256, treino = 78.77, test = 78.44\n",
            "Arvore max_depth = 5, min_samples_leaf = 512, treino = 77.53, test = 77.50\n",
            "Arvore max_depth = 6, min_samples_leaf = 128, treino = 78.85, test = 78.27\n",
            "Arvore max_depth = 6, min_samples_leaf = 192, treino = 78.79, test = 78.31\n",
            "Arvore max_depth = 6, min_samples_leaf = 256, treino = 78.79, test = 78.27\n",
            "Arvore max_depth = 6, min_samples_leaf = 512, treino = 77.53, test = 77.50\n",
            "Arvore max_depth = 7, min_samples_leaf = 128, treino = 79.01, test = 78.21\n",
            "Arvore max_depth = 7, min_samples_leaf = 192, treino = 78.92, test = 78.10\n",
            "Arvore max_depth = 7, min_samples_leaf = 256, treino = 78.85, test = 78.08\n",
            "Arvore max_depth = 7, min_samples_leaf = 512, treino = 77.53, test = 77.50\n",
            "Arvore max_depth = 8, min_samples_leaf = 128, treino = 79.05, test = 78.37\n",
            "Arvore max_depth = 8, min_samples_leaf = 192, treino = 78.98, test = 78.20\n",
            "Arvore max_depth = 8, min_samples_leaf = 256, treino = 78.89, test = 77.94\n",
            "Arvore max_depth = 8, min_samples_leaf = 512, treino = 77.53, test = 77.50\n",
            "Arvore max_depth = 9, min_samples_leaf = 128, treino = 79.12, test = 78.30\n",
            "Arvore max_depth = 9, min_samples_leaf = 192, treino = 78.99, test = 78.11\n",
            "Arvore max_depth = 9, min_samples_leaf = 256, treino = 78.90, test = 77.85\n",
            "Arvore max_depth = 9, min_samples_leaf = 512, treino = 77.53, test = 77.50\n",
            "Arvore max_depth = 10, min_samples_leaf = 128, treino = 79.16, test = 78.29\n",
            "Arvore max_depth = 10, min_samples_leaf = 192, treino = 79.01, test = 78.05\n",
            "Arvore max_depth = 10, min_samples_leaf = 256, treino = 78.90, test = 77.85\n",
            "Arvore max_depth = 10, min_samples_leaf = 512, treino = 77.53, test = 77.50\n",
            "Arvore max_depth = 11, min_samples_leaf = 128, treino = 79.19, test = 78.31\n",
            "Arvore max_depth = 11, min_samples_leaf = 192, treino = 79.01, test = 78.05\n",
            "Arvore max_depth = 11, min_samples_leaf = 256, treino = 78.90, test = 77.85\n",
            "Arvore max_depth = 11, min_samples_leaf = 512, treino = 77.53, test = 77.50\n",
            "Arvore max_depth = 12, min_samples_leaf = 128, treino = 79.21, test = 78.22\n",
            "Arvore max_depth = 12, min_samples_leaf = 192, treino = 79.01, test = 78.05\n",
            "Arvore max_depth = 12, min_samples_leaf = 256, treino = 78.90, test = 77.85\n",
            "Arvore max_depth = 12, min_samples_leaf = 512, treino = 77.53, test = 77.50\n",
            "Arvore max_depth = 13, min_samples_leaf = 128, treino = 79.21, test = 78.22\n",
            "Arvore max_depth = 13, min_samples_leaf = 192, treino = 79.01, test = 78.05\n",
            "Arvore max_depth = 13, min_samples_leaf = 256, treino = 78.90, test = 77.85\n",
            "Arvore max_depth = 13, min_samples_leaf = 512, treino = 77.53, test = 77.50\n",
            "Arvore max_depth = 14, min_samples_leaf = 128, treino = 79.21, test = 78.22\n",
            "Arvore max_depth = 14, min_samples_leaf = 192, treino = 79.01, test = 78.05\n",
            "Arvore max_depth = 14, min_samples_leaf = 256, treino = 78.90, test = 77.85\n",
            "Arvore max_depth = 14, min_samples_leaf = 512, treino = 77.53, test = 77.50\n",
            "Arvore max_depth = 15, min_samples_leaf = 128, treino = 79.21, test = 78.22\n",
            "Arvore max_depth = 15, min_samples_leaf = 192, treino = 79.01, test = 78.05\n",
            "Arvore max_depth = 15, min_samples_leaf = 256, treino = 78.90, test = 77.85\n",
            "Arvore max_depth = 15, min_samples_leaf = 512, treino = 77.53, test = 77.50\n",
            "Arvore max_depth = 16, min_samples_leaf = 128, treino = 79.21, test = 78.22\n",
            "Arvore max_depth = 16, min_samples_leaf = 192, treino = 79.01, test = 78.05\n",
            "Arvore max_depth = 16, min_samples_leaf = 256, treino = 78.90, test = 77.85\n",
            "Arvore max_depth = 16, min_samples_leaf = 512, treino = 77.53, test = 77.50\n",
            "Arvore max_depth = 17, min_samples_leaf = 128, treino = 79.21, test = 78.22\n",
            "Arvore max_depth = 17, min_samples_leaf = 192, treino = 79.01, test = 78.05\n",
            "Arvore max_depth = 17, min_samples_leaf = 256, treino = 78.90, test = 77.85\n",
            "Arvore max_depth = 17, min_samples_leaf = 512, treino = 77.53, test = 77.50\n",
            "Arvore max_depth = 18, min_samples_leaf = 128, treino = 79.21, test = 78.22\n",
            "Arvore max_depth = 18, min_samples_leaf = 192, treino = 79.01, test = 78.05\n",
            "Arvore max_depth = 18, min_samples_leaf = 256, treino = 78.90, test = 77.85\n",
            "Arvore max_depth = 18, min_samples_leaf = 512, treino = 77.53, test = 77.50\n",
            "Arvore max_depth = 19, min_samples_leaf = 128, treino = 79.21, test = 78.22\n",
            "Arvore max_depth = 19, min_samples_leaf = 192, treino = 79.01, test = 78.05\n",
            "Arvore max_depth = 19, min_samples_leaf = 256, treino = 78.90, test = 77.85\n",
            "Arvore max_depth = 19, min_samples_leaf = 512, treino = 77.53, test = 77.50\n",
            "Arvore max_depth = 20, min_samples_leaf = 128, treino = 79.21, test = 78.22\n",
            "Arvore max_depth = 20, min_samples_leaf = 192, treino = 79.01, test = 78.05\n",
            "Arvore max_depth = 20, min_samples_leaf = 256, treino = 78.90, test = 77.85\n",
            "Arvore max_depth = 20, min_samples_leaf = 512, treino = 77.53, test = 77.50\n",
            "Arvore max_depth = 21, min_samples_leaf = 128, treino = 79.21, test = 78.22\n",
            "Arvore max_depth = 21, min_samples_leaf = 192, treino = 79.01, test = 78.05\n",
            "Arvore max_depth = 21, min_samples_leaf = 256, treino = 78.90, test = 77.85\n",
            "Arvore max_depth = 21, min_samples_leaf = 512, treino = 77.53, test = 77.50\n",
            "Arvore max_depth = 22, min_samples_leaf = 128, treino = 79.21, test = 78.22\n",
            "Arvore max_depth = 22, min_samples_leaf = 192, treino = 79.01, test = 78.05\n",
            "Arvore max_depth = 22, min_samples_leaf = 256, treino = 78.90, test = 77.85\n",
            "Arvore max_depth = 22, min_samples_leaf = 512, treino = 77.53, test = 77.50\n",
            "Arvore max_depth = 23, min_samples_leaf = 128, treino = 79.21, test = 78.22\n",
            "Arvore max_depth = 23, min_samples_leaf = 192, treino = 79.01, test = 78.05\n",
            "Arvore max_depth = 23, min_samples_leaf = 256, treino = 78.90, test = 77.85\n",
            "Arvore max_depth = 23, min_samples_leaf = 512, treino = 77.53, test = 77.50\n",
            "Arvore max_depth = 24, min_samples_leaf = 128, treino = 79.21, test = 78.22\n",
            "Arvore max_depth = 24, min_samples_leaf = 192, treino = 79.01, test = 78.05\n",
            "Arvore max_depth = 24, min_samples_leaf = 256, treino = 78.90, test = 77.85\n",
            "Arvore max_depth = 24, min_samples_leaf = 512, treino = 77.53, test = 77.50\n",
            "Arvore max_depth = 25, min_samples_leaf = 128, treino = 79.21, test = 78.22\n",
            "Arvore max_depth = 25, min_samples_leaf = 192, treino = 79.01, test = 78.05\n",
            "Arvore max_depth = 25, min_samples_leaf = 256, treino = 78.90, test = 77.85\n",
            "Arvore max_depth = 25, min_samples_leaf = 512, treino = 77.53, test = 77.50\n",
            "Arvore max_depth = 26, min_samples_leaf = 128, treino = 79.21, test = 78.22\n",
            "Arvore max_depth = 26, min_samples_leaf = 192, treino = 79.01, test = 78.05\n",
            "Arvore max_depth = 26, min_samples_leaf = 256, treino = 78.90, test = 77.85\n",
            "Arvore max_depth = 26, min_samples_leaf = 512, treino = 77.53, test = 77.50\n",
            "Arvore max_depth = 27, min_samples_leaf = 128, treino = 79.21, test = 78.22\n",
            "Arvore max_depth = 27, min_samples_leaf = 192, treino = 79.01, test = 78.05\n",
            "Arvore max_depth = 27, min_samples_leaf = 256, treino = 78.90, test = 77.85\n",
            "Arvore max_depth = 27, min_samples_leaf = 512, treino = 77.53, test = 77.50\n",
            "Arvore max_depth = 28, min_samples_leaf = 128, treino = 79.21, test = 78.22\n",
            "Arvore max_depth = 28, min_samples_leaf = 192, treino = 79.01, test = 78.05\n",
            "Arvore max_depth = 28, min_samples_leaf = 256, treino = 78.90, test = 77.85\n",
            "Arvore max_depth = 28, min_samples_leaf = 512, treino = 77.53, test = 77.50\n",
            "Arvore max_depth = 29, min_samples_leaf = 128, treino = 79.21, test = 78.22\n",
            "Arvore max_depth = 29, min_samples_leaf = 192, treino = 79.01, test = 78.05\n",
            "Arvore max_depth = 29, min_samples_leaf = 256, treino = 78.90, test = 77.85\n",
            "Arvore max_depth = 29, min_samples_leaf = 512, treino = 77.53, test = 77.50\n",
            "Arvore max_depth = 30, min_samples_leaf = 128, treino = 79.21, test = 78.22\n",
            "Arvore max_depth = 30, min_samples_leaf = 192, treino = 79.01, test = 78.05\n",
            "Arvore max_depth = 30, min_samples_leaf = 256, treino = 78.90, test = 77.85\n",
            "Arvore max_depth = 30, min_samples_leaf = 512, treino = 77.53, test = 77.50\n",
            "Arvore max_depth = 31, min_samples_leaf = 128, treino = 79.21, test = 78.22\n",
            "Arvore max_depth = 31, min_samples_leaf = 192, treino = 79.01, test = 78.05\n",
            "Arvore max_depth = 31, min_samples_leaf = 256, treino = 78.90, test = 77.85\n",
            "Arvore max_depth = 31, min_samples_leaf = 512, treino = 77.53, test = 77.50\n",
            "Arvore max_depth = 32, min_samples_leaf = 128, treino = 79.21, test = 78.22\n",
            "Arvore max_depth = 32, min_samples_leaf = 192, treino = 79.01, test = 78.05\n",
            "Arvore max_depth = 32, min_samples_leaf = 256, treino = 78.90, test = 77.85\n",
            "Arvore max_depth = 32, min_samples_leaf = 512, treino = 77.53, test = 77.50\n"
          ],
          "name": "stdout"
        },
        {
          "output_type": "execute_result",
          "data": {
            "text/html": [
              "<div>\n",
              "<style scoped>\n",
              "    .dataframe tbody tr th:only-of-type {\n",
              "        vertical-align: middle;\n",
              "    }\n",
              "\n",
              "    .dataframe tbody tr th {\n",
              "        vertical-align: top;\n",
              "    }\n",
              "\n",
              "    .dataframe thead th {\n",
              "        text-align: right;\n",
              "    }\n",
              "</style>\n",
              "<table border=\"1\" class=\"dataframe\">\n",
              "  <thead>\n",
              "    <tr style=\"text-align: right;\">\n",
              "      <th></th>\n",
              "      <th>max_depth</th>\n",
              "      <th>min_samples_leaf</th>\n",
              "      <th>train_score</th>\n",
              "      <th>test_score</th>\n",
              "    </tr>\n",
              "  </thead>\n",
              "  <tbody>\n",
              "    <tr>\n",
              "      <th>0</th>\n",
              "      <td>1</td>\n",
              "      <td>128</td>\n",
              "      <td>75.791169</td>\n",
              "      <td>75.784219</td>\n",
              "    </tr>\n",
              "    <tr>\n",
              "      <th>1</th>\n",
              "      <td>1</td>\n",
              "      <td>192</td>\n",
              "      <td>75.791169</td>\n",
              "      <td>75.784219</td>\n",
              "    </tr>\n",
              "    <tr>\n",
              "      <th>2</th>\n",
              "      <td>1</td>\n",
              "      <td>256</td>\n",
              "      <td>75.791169</td>\n",
              "      <td>75.784219</td>\n",
              "    </tr>\n",
              "    <tr>\n",
              "      <th>3</th>\n",
              "      <td>1</td>\n",
              "      <td>512</td>\n",
              "      <td>75.791169</td>\n",
              "      <td>75.784219</td>\n",
              "    </tr>\n",
              "    <tr>\n",
              "      <th>4</th>\n",
              "      <td>2</td>\n",
              "      <td>128</td>\n",
              "      <td>75.791169</td>\n",
              "      <td>75.784219</td>\n",
              "    </tr>\n",
              "  </tbody>\n",
              "</table>\n",
              "</div>"
            ],
            "text/plain": [
              "   max_depth  min_samples_leaf  train_score  test_score\n",
              "0          1               128    75.791169   75.784219\n",
              "1          1               192    75.791169   75.784219\n",
              "2          1               256    75.791169   75.784219\n",
              "3          1               512    75.791169   75.784219\n",
              "4          2               128    75.791169   75.784219"
            ]
          },
          "metadata": {
            "tags": []
          },
          "execution_count": 55
        }
      ]
    },
    {
      "cell_type": "code",
      "metadata": {
        "id": "DDM-HXOejo-S",
        "colab_type": "code",
        "colab": {
          "base_uri": "https://localhost:8080/",
          "height": 558
        },
        "outputId": "8f9f54b3-381f-451c-9734-8ce23db06cc0"
      },
      "source": [
        "sns.set(style='white')\n",
        "\n",
        "# Compute the correlation matrix\n",
        "corr = resultados.corr()\n",
        "\n",
        "# Generate a mask for the upper triangle\n",
        "mask = np.zeros_like(corr, dtype=np.bool)\n",
        "mask[np.triu_indices_from(mask)] = True\n",
        "\n",
        "# Set up the matplotlib figure\n",
        "f, ax = plt.subplots(figsize=(11, 9))\n",
        "\n",
        "# Generate a custom diverging colormap\n",
        "cmap = sns.diverging_palette(220, 10, as_cmap=True)\n",
        "\n",
        "# Draw the heatmap with the mask and correct aspect ratio\n",
        "sns.heatmap(corr, mask=mask, cmap=cmap, vmax=.3, center=0,\n",
        "            square=True, linewidths=.5, cbar_kws={\"shrink\": .5})"
      ],
      "execution_count": 56,
      "outputs": [
        {
          "output_type": "execute_result",
          "data": {
            "text/plain": [
              "<matplotlib.axes._subplots.AxesSubplot at 0x7f3216f05b38>"
            ]
          },
          "metadata": {
            "tags": []
          },
          "execution_count": 56
        },
        {
          "output_type": "display_data",
          "data": {
            "image/png": "[encoded data removed]",
            "text/plain": [
              "<Figure size 792x648 with 2 Axes>"
            ]
          },
          "metadata": {
            "tags": []
          }
        }
      ]
    },
    {
      "cell_type": "code",
      "metadata": {
        "id": "O_Rk6X3yjtKI",
        "colab_type": "code",
        "colab": {
          "base_uri": "https://localhost:8080/",
          "height": 197
        },
        "outputId": "51a7cc98-b830-4531-fba0-2d95a624fffc"
      },
      "source": [
        "resultados.sort_values('test_score', ascending=False).head()"
      ],
      "execution_count": 58,
      "outputs": [
        {
          "output_type": "execute_result",
          "data": {
            "text/html": [
              "<div>\n",
              "<style scoped>\n",
              "    .dataframe tbody tr th:only-of-type {\n",
              "        vertical-align: middle;\n",
              "    }\n",
              "\n",
              "    .dataframe tbody tr th {\n",
              "        vertical-align: top;\n",
              "    }\n",
              "\n",
              "    .dataframe thead th {\n",
              "        text-align: right;\n",
              "    }\n",
              "</style>\n",
              "<table border=\"1\" class=\"dataframe\">\n",
              "  <thead>\n",
              "    <tr style=\"text-align: right;\">\n",
              "      <th></th>\n",
              "      <th>max_depth</th>\n",
              "      <th>min_samples_leaf</th>\n",
              "      <th>train_score</th>\n",
              "      <th>test_score</th>\n",
              "    </tr>\n",
              "  </thead>\n",
              "  <tbody>\n",
              "    <tr>\n",
              "      <th>13</th>\n",
              "      <td>4</td>\n",
              "      <td>192</td>\n",
              "      <td>78.750993</td>\n",
              "      <td>78.672633</td>\n",
              "    </tr>\n",
              "    <tr>\n",
              "      <th>8</th>\n",
              "      <td>3</td>\n",
              "      <td>128</td>\n",
              "      <td>78.750993</td>\n",
              "      <td>78.672633</td>\n",
              "    </tr>\n",
              "    <tr>\n",
              "      <th>9</th>\n",
              "      <td>3</td>\n",
              "      <td>192</td>\n",
              "      <td>78.750993</td>\n",
              "      <td>78.672633</td>\n",
              "    </tr>\n",
              "    <tr>\n",
              "      <th>10</th>\n",
              "      <td>3</td>\n",
              "      <td>256</td>\n",
              "      <td>78.750993</td>\n",
              "      <td>78.672633</td>\n",
              "    </tr>\n",
              "    <tr>\n",
              "      <th>14</th>\n",
              "      <td>4</td>\n",
              "      <td>256</td>\n",
              "      <td>78.750993</td>\n",
              "      <td>78.672633</td>\n",
              "    </tr>\n",
              "  </tbody>\n",
              "</table>\n",
              "</div>"
            ],
            "text/plain": [
              "    max_depth  min_samples_leaf  train_score  test_score\n",
              "13          4               192    78.750993   78.672633\n",
              "8           3               128    78.750993   78.672633\n",
              "9           3               192    78.750993   78.672633\n",
              "10          3               256    78.750993   78.672633\n",
              "14          4               256    78.750993   78.672633"
            ]
          },
          "metadata": {
            "tags": []
          },
          "execution_count": 58
        }
      ]
    },
    {
      "cell_type": "markdown",
      "metadata": {
        "id": "vBCjziHqljg9",
        "colab_type": "text"
      },
      "source": [
        "# Explorando 3 dimensões de híper parâmetros"
      ]
    },
    {
      "cell_type": "code",
      "metadata": {
        "id": "khnlGquMjzL8",
        "colab_type": "code",
        "colab": {
          "base_uri": "https://localhost:8080/",
          "height": 1000
        },
        "outputId": "460d3d78-82d8-457a-8f9e-1f13ade7f586"
      },
      "source": [
        "def roda_arvore_de_decisao(max_depth, min_samples_leaf, min_samples_split, x, y):\n",
        "  SEED = 301\n",
        "  np.random.seed(SEED)\n",
        "\n",
        "  cv = GroupKFold(n_splits = 10)\n",
        "  modelo = DecisionTreeClassifier(max_depth=max_depth, min_samples_leaf=min_samples_leaf, min_samples_split=min_samples_split)\n",
        "  results = cross_validate(modelo, x, y, cv=cv, groups=dados.modelo, return_train_score=True)\n",
        "  fit_time = results['fit_time'].mean()\n",
        "  score_time = results['score_time'].mean()\n",
        "  train_score = results['train_score'].mean() * 100\n",
        "  test_score = results['test_score'].mean() * 100\n",
        "  print('Arvore max_depth = %d, min_samples_leaf = %d, min_samples_split = %d, treino = %.2f, test = %.2f' % (\n",
        "      max_depth, min_samples_leaf, min_samples_split, train_score, test_score))\n",
        "  tabela = [max_depth, min_samples_leaf, min_samples_split, train_score, test_score, fit_time, score_time]\n",
        "  return tabela\n",
        "\n",
        "def busca():\n",
        "  resultados = []\n",
        "  for max_depth in range(1, 33):\n",
        "    for min_samples_leaf in [128, 192, 256, 512]:\n",
        "      for min_samples_split in [32, 64, 128, 256]:\n",
        "        tabela = roda_arvore_de_decisao(max_depth, min_samples_leaf, min_samples_split, x_azar, y_azar)\n",
        "        resultados.append(tabela)\n",
        "  resultados = pd.DataFrame(resultados, columns=['max_depth', 'min_samples_leaf', 'min_samples_split', 'train_score', 'test_score', 'fit_time', 'score_time'])\n",
        "  return resultados\n",
        "\n",
        "resultados = busca()\n",
        "resultados.head()"
      ],
      "execution_count": 61,
      "outputs": [
        {
          "output_type": "stream",
          "text": [
            "Arvore max_depth = 1, min_samples_leaf = 128, min_samples_split = 32, treino = 75.79, test = 75.78\n",
            "Arvore max_depth = 1, min_samples_leaf = 128, min_samples_split = 64, treino = 75.79, test = 75.78\n",
            "Arvore max_depth = 1, min_samples_leaf = 128, min_samples_split = 128, treino = 75.79, test = 75.78\n",
            "Arvore max_depth = 1, min_samples_leaf = 128, min_samples_split = 256, treino = 75.79, test = 75.78\n",
            "Arvore max_depth = 1, min_samples_leaf = 192, min_samples_split = 32, treino = 75.79, test = 75.78\n",
            "Arvore max_depth = 1, min_samples_leaf = 192, min_samples_split = 64, treino = 75.79, test = 75.78\n",
            "Arvore max_depth = 1, min_samples_leaf = 192, min_samples_split = 128, treino = 75.79, test = 75.78\n",
            "Arvore max_depth = 1, min_samples_leaf = 192, min_samples_split = 256, treino = 75.79, test = 75.78\n",
            "Arvore max_depth = 1, min_samples_leaf = 256, min_samples_split = 32, treino = 75.79, test = 75.78\n",
            "Arvore max_depth = 1, min_samples_leaf = 256, min_samples_split = 64, treino = 75.79, test = 75.78\n",
            "Arvore max_depth = 1, min_samples_leaf = 256, min_samples_split = 128, treino = 75.79, test = 75.78\n",
            "Arvore max_depth = 1, min_samples_leaf = 256, min_samples_split = 256, treino = 75.79, test = 75.78\n",
            "Arvore max_depth = 1, min_samples_leaf = 512, min_samples_split = 32, treino = 75.79, test = 75.78\n",
            "Arvore max_depth = 1, min_samples_leaf = 512, min_samples_split = 64, treino = 75.79, test = 75.78\n",
            "Arvore max_depth = 1, min_samples_leaf = 512, min_samples_split = 128, treino = 75.79, test = 75.78\n",
            "Arvore max_depth = 1, min_samples_leaf = 512, min_samples_split = 256, treino = 75.79, test = 75.78\n",
            "Arvore max_depth = 2, min_samples_leaf = 128, min_samples_split = 32, treino = 75.79, test = 75.78\n",
            "Arvore max_depth = 2, min_samples_leaf = 128, min_samples_split = 64, treino = 75.79, test = 75.78\n",
            "Arvore max_depth = 2, min_samples_leaf = 128, min_samples_split = 128, treino = 75.79, test = 75.78\n",
            "Arvore max_depth = 2, min_samples_leaf = 128, min_samples_split = 256, treino = 75.79, test = 75.78\n",
            "Arvore max_depth = 2, min_samples_leaf = 192, min_samples_split = 32, treino = 75.79, test = 75.78\n",
            "Arvore max_depth = 2, min_samples_leaf = 192, min_samples_split = 64, treino = 75.79, test = 75.78\n",
            "Arvore max_depth = 2, min_samples_leaf = 192, min_samples_split = 128, treino = 75.79, test = 75.78\n",
            "Arvore max_depth = 2, min_samples_leaf = 192, min_samples_split = 256, treino = 75.79, test = 75.78\n",
            "Arvore max_depth = 2, min_samples_leaf = 256, min_samples_split = 32, treino = 75.79, test = 75.78\n",
            "Arvore max_depth = 2, min_samples_leaf = 256, min_samples_split = 64, treino = 75.79, test = 75.78\n",
            "Arvore max_depth = 2, min_samples_leaf = 256, min_samples_split = 128, treino = 75.79, test = 75.78\n",
            "Arvore max_depth = 2, min_samples_leaf = 256, min_samples_split = 256, treino = 75.79, test = 75.78\n",
            "Arvore max_depth = 2, min_samples_leaf = 512, min_samples_split = 32, treino = 75.79, test = 75.78\n",
            "Arvore max_depth = 2, min_samples_leaf = 512, min_samples_split = 64, treino = 75.79, test = 75.78\n",
            "Arvore max_depth = 2, min_samples_leaf = 512, min_samples_split = 128, treino = 75.79, test = 75.78\n",
            "Arvore max_depth = 2, min_samples_leaf = 512, min_samples_split = 256, treino = 75.79, test = 75.78\n",
            "Arvore max_depth = 3, min_samples_leaf = 128, min_samples_split = 32, treino = 78.75, test = 78.67\n",
            "Arvore max_depth = 3, min_samples_leaf = 128, min_samples_split = 64, treino = 78.75, test = 78.67\n",
            "Arvore max_depth = 3, min_samples_leaf = 128, min_samples_split = 128, treino = 78.75, test = 78.67\n",
            "Arvore max_depth = 3, min_samples_leaf = 128, min_samples_split = 256, treino = 78.75, test = 78.67\n",
            "Arvore max_depth = 3, min_samples_leaf = 192, min_samples_split = 32, treino = 78.75, test = 78.67\n",
            "Arvore max_depth = 3, min_samples_leaf = 192, min_samples_split = 64, treino = 78.75, test = 78.67\n",
            "Arvore max_depth = 3, min_samples_leaf = 192, min_samples_split = 128, treino = 78.75, test = 78.67\n",
            "Arvore max_depth = 3, min_samples_leaf = 192, min_samples_split = 256, treino = 78.75, test = 78.67\n",
            "Arvore max_depth = 3, min_samples_leaf = 256, min_samples_split = 32, treino = 78.75, test = 78.67\n",
            "Arvore max_depth = 3, min_samples_leaf = 256, min_samples_split = 64, treino = 78.75, test = 78.67\n",
            "Arvore max_depth = 3, min_samples_leaf = 256, min_samples_split = 128, treino = 78.75, test = 78.67\n",
            "Arvore max_depth = 3, min_samples_leaf = 256, min_samples_split = 256, treino = 78.75, test = 78.67\n",
            "Arvore max_depth = 3, min_samples_leaf = 512, min_samples_split = 32, treino = 77.53, test = 77.50\n",
            "Arvore max_depth = 3, min_samples_leaf = 512, min_samples_split = 64, treino = 77.53, test = 77.50\n",
            "Arvore max_depth = 3, min_samples_leaf = 512, min_samples_split = 128, treino = 77.53, test = 77.50\n",
            "Arvore max_depth = 3, min_samples_leaf = 512, min_samples_split = 256, treino = 77.53, test = 77.50\n",
            "Arvore max_depth = 4, min_samples_leaf = 128, min_samples_split = 32, treino = 78.75, test = 78.67\n",
            "Arvore max_depth = 4, min_samples_leaf = 128, min_samples_split = 64, treino = 78.75, test = 78.67\n",
            "Arvore max_depth = 4, min_samples_leaf = 128, min_samples_split = 128, treino = 78.75, test = 78.67\n",
            "Arvore max_depth = 4, min_samples_leaf = 128, min_samples_split = 256, treino = 78.75, test = 78.67\n",
            "Arvore max_depth = 4, min_samples_leaf = 192, min_samples_split = 32, treino = 78.75, test = 78.67\n",
            "Arvore max_depth = 4, min_samples_leaf = 192, min_samples_split = 64, treino = 78.75, test = 78.67\n",
            "Arvore max_depth = 4, min_samples_leaf = 192, min_samples_split = 128, treino = 78.75, test = 78.67\n",
            "Arvore max_depth = 4, min_samples_leaf = 192, min_samples_split = 256, treino = 78.75, test = 78.67\n",
            "Arvore max_depth = 4, min_samples_leaf = 256, min_samples_split = 32, treino = 78.75, test = 78.67\n",
            "Arvore max_depth = 4, min_samples_leaf = 256, min_samples_split = 64, treino = 78.75, test = 78.67\n",
            "Arvore max_depth = 4, min_samples_leaf = 256, min_samples_split = 128, treino = 78.75, test = 78.67\n",
            "Arvore max_depth = 4, min_samples_leaf = 256, min_samples_split = 256, treino = 78.75, test = 78.67\n",
            "Arvore max_depth = 4, min_samples_leaf = 512, min_samples_split = 32, treino = 77.53, test = 77.50\n",
            "Arvore max_depth = 4, min_samples_leaf = 512, min_samples_split = 64, treino = 77.53, test = 77.50\n",
            "Arvore max_depth = 4, min_samples_leaf = 512, min_samples_split = 128, treino = 77.53, test = 77.50\n",
            "Arvore max_depth = 4, min_samples_leaf = 512, min_samples_split = 256, treino = 77.53, test = 77.50\n",
            "Arvore max_depth = 5, min_samples_leaf = 128, min_samples_split = 32, treino = 78.77, test = 78.44\n",
            "Arvore max_depth = 5, min_samples_leaf = 128, min_samples_split = 64, treino = 78.77, test = 78.44\n",
            "Arvore max_depth = 5, min_samples_leaf = 128, min_samples_split = 128, treino = 78.77, test = 78.44\n",
            "Arvore max_depth = 5, min_samples_leaf = 128, min_samples_split = 256, treino = 78.77, test = 78.44\n",
            "Arvore max_depth = 5, min_samples_leaf = 192, min_samples_split = 32, treino = 78.77, test = 78.44\n",
            "Arvore max_depth = 5, min_samples_leaf = 192, min_samples_split = 64, treino = 78.77, test = 78.44\n",
            "Arvore max_depth = 5, min_samples_leaf = 192, min_samples_split = 128, treino = 78.77, test = 78.44\n",
            "Arvore max_depth = 5, min_samples_leaf = 192, min_samples_split = 256, treino = 78.77, test = 78.44\n",
            "Arvore max_depth = 5, min_samples_leaf = 256, min_samples_split = 32, treino = 78.77, test = 78.44\n",
            "Arvore max_depth = 5, min_samples_leaf = 256, min_samples_split = 64, treino = 78.77, test = 78.44\n",
            "Arvore max_depth = 5, min_samples_leaf = 256, min_samples_split = 128, treino = 78.77, test = 78.44\n",
            "Arvore max_depth = 5, min_samples_leaf = 256, min_samples_split = 256, treino = 78.77, test = 78.44\n",
            "Arvore max_depth = 5, min_samples_leaf = 512, min_samples_split = 32, treino = 77.53, test = 77.50\n",
            "Arvore max_depth = 5, min_samples_leaf = 512, min_samples_split = 64, treino = 77.53, test = 77.50\n",
            "Arvore max_depth = 5, min_samples_leaf = 512, min_samples_split = 128, treino = 77.53, test = 77.50\n",
            "Arvore max_depth = 5, min_samples_leaf = 512, min_samples_split = 256, treino = 77.53, test = 77.50\n",
            "Arvore max_depth = 6, min_samples_leaf = 128, min_samples_split = 32, treino = 78.85, test = 78.27\n",
            "Arvore max_depth = 6, min_samples_leaf = 128, min_samples_split = 64, treino = 78.85, test = 78.27\n",
            "Arvore max_depth = 6, min_samples_leaf = 128, min_samples_split = 128, treino = 78.85, test = 78.27\n",
            "Arvore max_depth = 6, min_samples_leaf = 128, min_samples_split = 256, treino = 78.85, test = 78.27\n",
            "Arvore max_depth = 6, min_samples_leaf = 192, min_samples_split = 32, treino = 78.79, test = 78.31\n",
            "Arvore max_depth = 6, min_samples_leaf = 192, min_samples_split = 64, treino = 78.79, test = 78.31\n",
            "Arvore max_depth = 6, min_samples_leaf = 192, min_samples_split = 128, treino = 78.79, test = 78.31\n",
            "Arvore max_depth = 6, min_samples_leaf = 192, min_samples_split = 256, treino = 78.79, test = 78.31\n",
            "Arvore max_depth = 6, min_samples_leaf = 256, min_samples_split = 32, treino = 78.79, test = 78.27\n",
            "Arvore max_depth = 6, min_samples_leaf = 256, min_samples_split = 64, treino = 78.79, test = 78.27\n",
            "Arvore max_depth = 6, min_samples_leaf = 256, min_samples_split = 128, treino = 78.79, test = 78.27\n",
            "Arvore max_depth = 6, min_samples_leaf = 256, min_samples_split = 256, treino = 78.79, test = 78.27\n",
            "Arvore max_depth = 6, min_samples_leaf = 512, min_samples_split = 32, treino = 77.53, test = 77.50\n",
            "Arvore max_depth = 6, min_samples_leaf = 512, min_samples_split = 64, treino = 77.53, test = 77.50\n",
            "Arvore max_depth = 6, min_samples_leaf = 512, min_samples_split = 128, treino = 77.53, test = 77.50\n",
            "Arvore max_depth = 6, min_samples_leaf = 512, min_samples_split = 256, treino = 77.53, test = 77.50\n",
            "Arvore max_depth = 7, min_samples_leaf = 128, min_samples_split = 32, treino = 79.01, test = 78.21\n",
            "Arvore max_depth = 7, min_samples_leaf = 128, min_samples_split = 64, treino = 79.01, test = 78.21\n",
            "Arvore max_depth = 7, min_samples_leaf = 128, min_samples_split = 128, treino = 79.01, test = 78.21\n",
            "Arvore max_depth = 7, min_samples_leaf = 128, min_samples_split = 256, treino = 79.01, test = 78.21\n",
            "Arvore max_depth = 7, min_samples_leaf = 192, min_samples_split = 32, treino = 78.92, test = 78.10\n",
            "Arvore max_depth = 7, min_samples_leaf = 192, min_samples_split = 64, treino = 78.92, test = 78.10\n",
            "Arvore max_depth = 7, min_samples_leaf = 192, min_samples_split = 128, treino = 78.92, test = 78.10\n",
            "Arvore max_depth = 7, min_samples_leaf = 192, min_samples_split = 256, treino = 78.92, test = 78.10\n",
            "Arvore max_depth = 7, min_samples_leaf = 256, min_samples_split = 32, treino = 78.85, test = 78.08\n",
            "Arvore max_depth = 7, min_samples_leaf = 256, min_samples_split = 64, treino = 78.85, test = 78.08\n",
            "Arvore max_depth = 7, min_samples_leaf = 256, min_samples_split = 128, treino = 78.85, test = 78.08\n",
            "Arvore max_depth = 7, min_samples_leaf = 256, min_samples_split = 256, treino = 78.85, test = 78.08\n",
            "Arvore max_depth = 7, min_samples_leaf = 512, min_samples_split = 32, treino = 77.53, test = 77.50\n",
            "Arvore max_depth = 7, min_samples_leaf = 512, min_samples_split = 64, treino = 77.53, test = 77.50\n",
            "Arvore max_depth = 7, min_samples_leaf = 512, min_samples_split = 128, treino = 77.53, test = 77.50\n",
            "Arvore max_depth = 7, min_samples_leaf = 512, min_samples_split = 256, treino = 77.53, test = 77.50\n",
            "Arvore max_depth = 8, min_samples_leaf = 128, min_samples_split = 32, treino = 79.05, test = 78.37\n",
            "Arvore max_depth = 8, min_samples_leaf = 128, min_samples_split = 64, treino = 79.05, test = 78.37\n",
            "Arvore max_depth = 8, min_samples_leaf = 128, min_samples_split = 128, treino = 79.05, test = 78.37\n",
            "Arvore max_depth = 8, min_samples_leaf = 128, min_samples_split = 256, treino = 79.05, test = 78.37\n",
            "Arvore max_depth = 8, min_samples_leaf = 192, min_samples_split = 32, treino = 78.98, test = 78.20\n",
            "Arvore max_depth = 8, min_samples_leaf = 192, min_samples_split = 64, treino = 78.98, test = 78.20\n",
            "Arvore max_depth = 8, min_samples_leaf = 192, min_samples_split = 128, treino = 78.98, test = 78.20\n",
            "Arvore max_depth = 8, min_samples_leaf = 192, min_samples_split = 256, treino = 78.98, test = 78.20\n",
            "Arvore max_depth = 8, min_samples_leaf = 256, min_samples_split = 32, treino = 78.89, test = 77.94\n",
            "Arvore max_depth = 8, min_samples_leaf = 256, min_samples_split = 64, treino = 78.89, test = 77.94\n",
            "Arvore max_depth = 8, min_samples_leaf = 256, min_samples_split = 128, treino = 78.89, test = 77.94\n",
            "Arvore max_depth = 8, min_samples_leaf = 256, min_samples_split = 256, treino = 78.89, test = 77.94\n",
            "Arvore max_depth = 8, min_samples_leaf = 512, min_samples_split = 32, treino = 77.53, test = 77.50\n",
            "Arvore max_depth = 8, min_samples_leaf = 512, min_samples_split = 64, treino = 77.53, test = 77.50\n",
            "Arvore max_depth = 8, min_samples_leaf = 512, min_samples_split = 128, treino = 77.53, test = 77.50\n",
            "Arvore max_depth = 8, min_samples_leaf = 512, min_samples_split = 256, treino = 77.53, test = 77.50\n",
            "Arvore max_depth = 9, min_samples_leaf = 128, min_samples_split = 32, treino = 79.12, test = 78.30\n",
            "Arvore max_depth = 9, min_samples_leaf = 128, min_samples_split = 64, treino = 79.12, test = 78.30\n",
            "Arvore max_depth = 9, min_samples_leaf = 128, min_samples_split = 128, treino = 79.12, test = 78.30\n",
            "Arvore max_depth = 9, min_samples_leaf = 128, min_samples_split = 256, treino = 79.12, test = 78.30\n",
            "Arvore max_depth = 9, min_samples_leaf = 192, min_samples_split = 32, treino = 78.99, test = 78.11\n",
            "Arvore max_depth = 9, min_samples_leaf = 192, min_samples_split = 64, treino = 78.99, test = 78.11\n",
            "Arvore max_depth = 9, min_samples_leaf = 192, min_samples_split = 128, treino = 78.99, test = 78.11\n",
            "Arvore max_depth = 9, min_samples_leaf = 192, min_samples_split = 256, treino = 78.99, test = 78.11\n",
            "Arvore max_depth = 9, min_samples_leaf = 256, min_samples_split = 32, treino = 78.90, test = 77.85\n",
            "Arvore max_depth = 9, min_samples_leaf = 256, min_samples_split = 64, treino = 78.90, test = 77.85\n",
            "Arvore max_depth = 9, min_samples_leaf = 256, min_samples_split = 128, treino = 78.90, test = 77.85\n",
            "Arvore max_depth = 9, min_samples_leaf = 256, min_samples_split = 256, treino = 78.90, test = 77.85\n",
            "Arvore max_depth = 9, min_samples_leaf = 512, min_samples_split = 32, treino = 77.53, test = 77.50\n",
            "Arvore max_depth = 9, min_samples_leaf = 512, min_samples_split = 64, treino = 77.53, test = 77.50\n",
            "Arvore max_depth = 9, min_samples_leaf = 512, min_samples_split = 128, treino = 77.53, test = 77.50\n",
            "Arvore max_depth = 9, min_samples_leaf = 512, min_samples_split = 256, treino = 77.53, test = 77.50\n",
            "Arvore max_depth = 10, min_samples_leaf = 128, min_samples_split = 32, treino = 79.16, test = 78.29\n",
            "Arvore max_depth = 10, min_samples_leaf = 128, min_samples_split = 64, treino = 79.16, test = 78.29\n",
            "Arvore max_depth = 10, min_samples_leaf = 128, min_samples_split = 128, treino = 79.16, test = 78.29\n",
            "Arvore max_depth = 10, min_samples_leaf = 128, min_samples_split = 256, treino = 79.16, test = 78.29\n",
            "Arvore max_depth = 10, min_samples_leaf = 192, min_samples_split = 32, treino = 79.01, test = 78.05\n",
            "Arvore max_depth = 10, min_samples_leaf = 192, min_samples_split = 64, treino = 79.01, test = 78.05\n",
            "Arvore max_depth = 10, min_samples_leaf = 192, min_samples_split = 128, treino = 79.01, test = 78.05\n",
            "Arvore max_depth = 10, min_samples_leaf = 192, min_samples_split = 256, treino = 79.01, test = 78.05\n",
            "Arvore max_depth = 10, min_samples_leaf = 256, min_samples_split = 32, treino = 78.90, test = 77.85\n",
            "Arvore max_depth = 10, min_samples_leaf = 256, min_samples_split = 64, treino = 78.90, test = 77.85\n",
            "Arvore max_depth = 10, min_samples_leaf = 256, min_samples_split = 128, treino = 78.90, test = 77.85\n",
            "Arvore max_depth = 10, min_samples_leaf = 256, min_samples_split = 256, treino = 78.90, test = 77.85\n",
            "Arvore max_depth = 10, min_samples_leaf = 512, min_samples_split = 32, treino = 77.53, test = 77.50\n",
            "Arvore max_depth = 10, min_samples_leaf = 512, min_samples_split = 64, treino = 77.53, test = 77.50\n",
            "Arvore max_depth = 10, min_samples_leaf = 512, min_samples_split = 128, treino = 77.53, test = 77.50\n",
            "Arvore max_depth = 10, min_samples_leaf = 512, min_samples_split = 256, treino = 77.53, test = 77.50\n",
            "Arvore max_depth = 11, min_samples_leaf = 128, min_samples_split = 32, treino = 79.19, test = 78.31\n",
            "Arvore max_depth = 11, min_samples_leaf = 128, min_samples_split = 64, treino = 79.19, test = 78.31\n",
            "Arvore max_depth = 11, min_samples_leaf = 128, min_samples_split = 128, treino = 79.19, test = 78.31\n",
            "Arvore max_depth = 11, min_samples_leaf = 128, min_samples_split = 256, treino = 79.19, test = 78.31\n",
            "Arvore max_depth = 11, min_samples_leaf = 192, min_samples_split = 32, treino = 79.01, test = 78.05\n",
            "Arvore max_depth = 11, min_samples_leaf = 192, min_samples_split = 64, treino = 79.01, test = 78.05\n",
            "Arvore max_depth = 11, min_samples_leaf = 192, min_samples_split = 128, treino = 79.01, test = 78.05\n",
            "Arvore max_depth = 11, min_samples_leaf = 192, min_samples_split = 256, treino = 79.01, test = 78.05\n",
            "Arvore max_depth = 11, min_samples_leaf = 256, min_samples_split = 32, treino = 78.90, test = 77.85\n",
            "Arvore max_depth = 11, min_samples_leaf = 256, min_samples_split = 64, treino = 78.90, test = 77.85\n",
            "Arvore max_depth = 11, min_samples_leaf = 256, min_samples_split = 128, treino = 78.90, test = 77.85\n",
            "Arvore max_depth = 11, min_samples_leaf = 256, min_samples_split = 256, treino = 78.90, test = 77.85\n",
            "Arvore max_depth = 11, min_samples_leaf = 512, min_samples_split = 32, treino = 77.53, test = 77.50\n",
            "Arvore max_depth = 11, min_samples_leaf = 512, min_samples_split = 64, treino = 77.53, test = 77.50\n",
            "Arvore max_depth = 11, min_samples_leaf = 512, min_samples_split = 128, treino = 77.53, test = 77.50\n",
            "Arvore max_depth = 11, min_samples_leaf = 512, min_samples_split = 256, treino = 77.53, test = 77.50\n",
            "Arvore max_depth = 12, min_samples_leaf = 128, min_samples_split = 32, treino = 79.21, test = 78.22\n",
            "Arvore max_depth = 12, min_samples_leaf = 128, min_samples_split = 64, treino = 79.21, test = 78.22\n",
            "Arvore max_depth = 12, min_samples_leaf = 128, min_samples_split = 128, treino = 79.21, test = 78.22\n",
            "Arvore max_depth = 12, min_samples_leaf = 128, min_samples_split = 256, treino = 79.21, test = 78.22\n",
            "Arvore max_depth = 12, min_samples_leaf = 192, min_samples_split = 32, treino = 79.01, test = 78.05\n",
            "Arvore max_depth = 12, min_samples_leaf = 192, min_samples_split = 64, treino = 79.01, test = 78.05\n",
            "Arvore max_depth = 12, min_samples_leaf = 192, min_samples_split = 128, treino = 79.01, test = 78.05\n",
            "Arvore max_depth = 12, min_samples_leaf = 192, min_samples_split = 256, treino = 79.01, test = 78.05\n",
            "Arvore max_depth = 12, min_samples_leaf = 256, min_samples_split = 32, treino = 78.90, test = 77.85\n",
            "Arvore max_depth = 12, min_samples_leaf = 256, min_samples_split = 64, treino = 78.90, test = 77.85\n",
            "Arvore max_depth = 12, min_samples_leaf = 256, min_samples_split = 128, treino = 78.90, test = 77.85\n",
            "Arvore max_depth = 12, min_samples_leaf = 256, min_samples_split = 256, treino = 78.90, test = 77.85\n",
            "Arvore max_depth = 12, min_samples_leaf = 512, min_samples_split = 32, treino = 77.53, test = 77.50\n",
            "Arvore max_depth = 12, min_samples_leaf = 512, min_samples_split = 64, treino = 77.53, test = 77.50\n",
            "Arvore max_depth = 12, min_samples_leaf = 512, min_samples_split = 128, treino = 77.53, test = 77.50\n",
            "Arvore max_depth = 12, min_samples_leaf = 512, min_samples_split = 256, treino = 77.53, test = 77.50\n",
            "Arvore max_depth = 13, min_samples_leaf = 128, min_samples_split = 32, treino = 79.21, test = 78.22\n",
            "Arvore max_depth = 13, min_samples_leaf = 128, min_samples_split = 64, treino = 79.21, test = 78.22\n",
            "Arvore max_depth = 13, min_samples_leaf = 128, min_samples_split = 128, treino = 79.21, test = 78.22\n",
            "Arvore max_depth = 13, min_samples_leaf = 128, min_samples_split = 256, treino = 79.21, test = 78.22\n",
            "Arvore max_depth = 13, min_samples_leaf = 192, min_samples_split = 32, treino = 79.01, test = 78.05\n",
            "Arvore max_depth = 13, min_samples_leaf = 192, min_samples_split = 64, treino = 79.01, test = 78.05\n",
            "Arvore max_depth = 13, min_samples_leaf = 192, min_samples_split = 128, treino = 79.01, test = 78.05\n",
            "Arvore max_depth = 13, min_samples_leaf = 192, min_samples_split = 256, treino = 79.01, test = 78.05\n",
            "Arvore max_depth = 13, min_samples_leaf = 256, min_samples_split = 32, treino = 78.90, test = 77.85\n",
            "Arvore max_depth = 13, min_samples_leaf = 256, min_samples_split = 64, treino = 78.90, test = 77.85\n",
            "Arvore max_depth = 13, min_samples_leaf = 256, min_samples_split = 128, treino = 78.90, test = 77.85\n",
            "Arvore max_depth = 13, min_samples_leaf = 256, min_samples_split = 256, treino = 78.90, test = 77.85\n",
            "Arvore max_depth = 13, min_samples_leaf = 512, min_samples_split = 32, treino = 77.53, test = 77.50\n",
            "Arvore max_depth = 13, min_samples_leaf = 512, min_samples_split = 64, treino = 77.53, test = 77.50\n",
            "Arvore max_depth = 13, min_samples_leaf = 512, min_samples_split = 128, treino = 77.53, test = 77.50\n",
            "Arvore max_depth = 13, min_samples_leaf = 512, min_samples_split = 256, treino = 77.53, test = 77.50\n",
            "Arvore max_depth = 14, min_samples_leaf = 128, min_samples_split = 32, treino = 79.21, test = 78.22\n",
            "Arvore max_depth = 14, min_samples_leaf = 128, min_samples_split = 64, treino = 79.21, test = 78.22\n",
            "Arvore max_depth = 14, min_samples_leaf = 128, min_samples_split = 128, treino = 79.21, test = 78.22\n",
            "Arvore max_depth = 14, min_samples_leaf = 128, min_samples_split = 256, treino = 79.21, test = 78.22\n",
            "Arvore max_depth = 14, min_samples_leaf = 192, min_samples_split = 32, treino = 79.01, test = 78.05\n",
            "Arvore max_depth = 14, min_samples_leaf = 192, min_samples_split = 64, treino = 79.01, test = 78.05\n",
            "Arvore max_depth = 14, min_samples_leaf = 192, min_samples_split = 128, treino = 79.01, test = 78.05\n",
            "Arvore max_depth = 14, min_samples_leaf = 192, min_samples_split = 256, treino = 79.01, test = 78.05\n",
            "Arvore max_depth = 14, min_samples_leaf = 256, min_samples_split = 32, treino = 78.90, test = 77.85\n",
            "Arvore max_depth = 14, min_samples_leaf = 256, min_samples_split = 64, treino = 78.90, test = 77.85\n",
            "Arvore max_depth = 14, min_samples_leaf = 256, min_samples_split = 128, treino = 78.90, test = 77.85\n",
            "Arvore max_depth = 14, min_samples_leaf = 256, min_samples_split = 256, treino = 78.90, test = 77.85\n",
            "Arvore max_depth = 14, min_samples_leaf = 512, min_samples_split = 32, treino = 77.53, test = 77.50\n",
            "Arvore max_depth = 14, min_samples_leaf = 512, min_samples_split = 64, treino = 77.53, test = 77.50\n",
            "Arvore max_depth = 14, min_samples_leaf = 512, min_samples_split = 128, treino = 77.53, test = 77.50\n",
            "Arvore max_depth = 14, min_samples_leaf = 512, min_samples_split = 256, treino = 77.53, test = 77.50\n",
            "Arvore max_depth = 15, min_samples_leaf = 128, min_samples_split = 32, treino = 79.21, test = 78.22\n",
            "Arvore max_depth = 15, min_samples_leaf = 128, min_samples_split = 64, treino = 79.21, test = 78.22\n",
            "Arvore max_depth = 15, min_samples_leaf = 128, min_samples_split = 128, treino = 79.21, test = 78.22\n",
            "Arvore max_depth = 15, min_samples_leaf = 128, min_samples_split = 256, treino = 79.21, test = 78.22\n",
            "Arvore max_depth = 15, min_samples_leaf = 192, min_samples_split = 32, treino = 79.01, test = 78.05\n",
            "Arvore max_depth = 15, min_samples_leaf = 192, min_samples_split = 64, treino = 79.01, test = 78.05\n",
            "Arvore max_depth = 15, min_samples_leaf = 192, min_samples_split = 128, treino = 79.01, test = 78.05\n",
            "Arvore max_depth = 15, min_samples_leaf = 192, min_samples_split = 256, treino = 79.01, test = 78.05\n",
            "Arvore max_depth = 15, min_samples_leaf = 256, min_samples_split = 32, treino = 78.90, test = 77.85\n",
            "Arvore max_depth = 15, min_samples_leaf = 256, min_samples_split = 64, treino = 78.90, test = 77.85\n",
            "Arvore max_depth = 15, min_samples_leaf = 256, min_samples_split = 128, treino = 78.90, test = 77.85\n",
            "Arvore max_depth = 15, min_samples_leaf = 256, min_samples_split = 256, treino = 78.90, test = 77.85\n",
            "Arvore max_depth = 15, min_samples_leaf = 512, min_samples_split = 32, treino = 77.53, test = 77.50\n",
            "Arvore max_depth = 15, min_samples_leaf = 512, min_samples_split = 64, treino = 77.53, test = 77.50\n",
            "Arvore max_depth = 15, min_samples_leaf = 512, min_samples_split = 128, treino = 77.53, test = 77.50\n",
            "Arvore max_depth = 15, min_samples_leaf = 512, min_samples_split = 256, treino = 77.53, test = 77.50\n",
            "Arvore max_depth = 16, min_samples_leaf = 128, min_samples_split = 32, treino = 79.21, test = 78.22\n",
            "Arvore max_depth = 16, min_samples_leaf = 128, min_samples_split = 64, treino = 79.21, test = 78.22\n",
            "Arvore max_depth = 16, min_samples_leaf = 128, min_samples_split = 128, treino = 79.21, test = 78.22\n",
            "Arvore max_depth = 16, min_samples_leaf = 128, min_samples_split = 256, treino = 79.21, test = 78.22\n",
            "Arvore max_depth = 16, min_samples_leaf = 192, min_samples_split = 32, treino = 79.01, test = 78.05\n",
            "Arvore max_depth = 16, min_samples_leaf = 192, min_samples_split = 64, treino = 79.01, test = 78.05\n",
            "Arvore max_depth = 16, min_samples_leaf = 192, min_samples_split = 128, treino = 79.01, test = 78.05\n",
            "Arvore max_depth = 16, min_samples_leaf = 192, min_samples_split = 256, treino = 79.01, test = 78.05\n",
            "Arvore max_depth = 16, min_samples_leaf = 256, min_samples_split = 32, treino = 78.90, test = 77.85\n",
            "Arvore max_depth = 16, min_samples_leaf = 256, min_samples_split = 64, treino = 78.90, test = 77.85\n",
            "Arvore max_depth = 16, min_samples_leaf = 256, min_samples_split = 128, treino = 78.90, test = 77.85\n",
            "Arvore max_depth = 16, min_samples_leaf = 256, min_samples_split = 256, treino = 78.90, test = 77.85\n",
            "Arvore max_depth = 16, min_samples_leaf = 512, min_samples_split = 32, treino = 77.53, test = 77.50\n",
            "Arvore max_depth = 16, min_samples_leaf = 512, min_samples_split = 64, treino = 77.53, test = 77.50\n",
            "Arvore max_depth = 16, min_samples_leaf = 512, min_samples_split = 128, treino = 77.53, test = 77.50\n",
            "Arvore max_depth = 16, min_samples_leaf = 512, min_samples_split = 256, treino = 77.53, test = 77.50\n",
            "Arvore max_depth = 17, min_samples_leaf = 128, min_samples_split = 32, treino = 79.21, test = 78.22\n",
            "Arvore max_depth = 17, min_samples_leaf = 128, min_samples_split = 64, treino = 79.21, test = 78.22\n",
            "Arvore max_depth = 17, min_samples_leaf = 128, min_samples_split = 128, treino = 79.21, test = 78.22\n",
            "Arvore max_depth = 17, min_samples_leaf = 128, min_samples_split = 256, treino = 79.21, test = 78.22\n",
            "Arvore max_depth = 17, min_samples_leaf = 192, min_samples_split = 32, treino = 79.01, test = 78.05\n",
            "Arvore max_depth = 17, min_samples_leaf = 192, min_samples_split = 64, treino = 79.01, test = 78.05\n",
            "Arvore max_depth = 17, min_samples_leaf = 192, min_samples_split = 128, treino = 79.01, test = 78.05\n",
            "Arvore max_depth = 17, min_samples_leaf = 192, min_samples_split = 256, treino = 79.01, test = 78.05\n",
            "Arvore max_depth = 17, min_samples_leaf = 256, min_samples_split = 32, treino = 78.90, test = 77.85\n",
            "Arvore max_depth = 17, min_samples_leaf = 256, min_samples_split = 64, treino = 78.90, test = 77.85\n",
            "Arvore max_depth = 17, min_samples_leaf = 256, min_samples_split = 128, treino = 78.90, test = 77.85\n",
            "Arvore max_depth = 17, min_samples_leaf = 256, min_samples_split = 256, treino = 78.90, test = 77.85\n",
            "Arvore max_depth = 17, min_samples_leaf = 512, min_samples_split = 32, treino = 77.53, test = 77.50\n",
            "Arvore max_depth = 17, min_samples_leaf = 512, min_samples_split = 64, treino = 77.53, test = 77.50\n",
            "Arvore max_depth = 17, min_samples_leaf = 512, min_samples_split = 128, treino = 77.53, test = 77.50\n",
            "Arvore max_depth = 17, min_samples_leaf = 512, min_samples_split = 256, treino = 77.53, test = 77.50\n",
            "Arvore max_depth = 18, min_samples_leaf = 128, min_samples_split = 32, treino = 79.21, test = 78.22\n",
            "Arvore max_depth = 18, min_samples_leaf = 128, min_samples_split = 64, treino = 79.21, test = 78.22\n",
            "Arvore max_depth = 18, min_samples_leaf = 128, min_samples_split = 128, treino = 79.21, test = 78.22\n",
            "Arvore max_depth = 18, min_samples_leaf = 128, min_samples_split = 256, treino = 79.21, test = 78.22\n",
            "Arvore max_depth = 18, min_samples_leaf = 192, min_samples_split = 32, treino = 79.01, test = 78.05\n",
            "Arvore max_depth = 18, min_samples_leaf = 192, min_samples_split = 64, treino = 79.01, test = 78.05\n",
            "Arvore max_depth = 18, min_samples_leaf = 192, min_samples_split = 128, treino = 79.01, test = 78.05\n",
            "Arvore max_depth = 18, min_samples_leaf = 192, min_samples_split = 256, treino = 79.01, test = 78.05\n",
            "Arvore max_depth = 18, min_samples_leaf = 256, min_samples_split = 32, treino = 78.90, test = 77.85\n",
            "Arvore max_depth = 18, min_samples_leaf = 256, min_samples_split = 64, treino = 78.90, test = 77.85\n",
            "Arvore max_depth = 18, min_samples_leaf = 256, min_samples_split = 128, treino = 78.90, test = 77.85\n",
            "Arvore max_depth = 18, min_samples_leaf = 256, min_samples_split = 256, treino = 78.90, test = 77.85\n",
            "Arvore max_depth = 18, min_samples_leaf = 512, min_samples_split = 32, treino = 77.53, test = 77.50\n",
            "Arvore max_depth = 18, min_samples_leaf = 512, min_samples_split = 64, treino = 77.53, test = 77.50\n",
            "Arvore max_depth = 18, min_samples_leaf = 512, min_samples_split = 128, treino = 77.53, test = 77.50\n",
            "Arvore max_depth = 18, min_samples_leaf = 512, min_samples_split = 256, treino = 77.53, test = 77.50\n",
            "Arvore max_depth = 19, min_samples_leaf = 128, min_samples_split = 32, treino = 79.21, test = 78.22\n",
            "Arvore max_depth = 19, min_samples_leaf = 128, min_samples_split = 64, treino = 79.21, test = 78.22\n",
            "Arvore max_depth = 19, min_samples_leaf = 128, min_samples_split = 128, treino = 79.21, test = 78.22\n",
            "Arvore max_depth = 19, min_samples_leaf = 128, min_samples_split = 256, treino = 79.21, test = 78.22\n",
            "Arvore max_depth = 19, min_samples_leaf = 192, min_samples_split = 32, treino = 79.01, test = 78.05\n",
            "Arvore max_depth = 19, min_samples_leaf = 192, min_samples_split = 64, treino = 79.01, test = 78.05\n",
            "Arvore max_depth = 19, min_samples_leaf = 192, min_samples_split = 128, treino = 79.01, test = 78.05\n",
            "Arvore max_depth = 19, min_samples_leaf = 192, min_samples_split = 256, treino = 79.01, test = 78.05\n",
            "Arvore max_depth = 19, min_samples_leaf = 256, min_samples_split = 32, treino = 78.90, test = 77.85\n",
            "Arvore max_depth = 19, min_samples_leaf = 256, min_samples_split = 64, treino = 78.90, test = 77.85\n",
            "Arvore max_depth = 19, min_samples_leaf = 256, min_samples_split = 128, treino = 78.90, test = 77.85\n",
            "Arvore max_depth = 19, min_samples_leaf = 256, min_samples_split = 256, treino = 78.90, test = 77.85\n",
            "Arvore max_depth = 19, min_samples_leaf = 512, min_samples_split = 32, treino = 77.53, test = 77.50\n",
            "Arvore max_depth = 19, min_samples_leaf = 512, min_samples_split = 64, treino = 77.53, test = 77.50\n",
            "Arvore max_depth = 19, min_samples_leaf = 512, min_samples_split = 128, treino = 77.53, test = 77.50\n",
            "Arvore max_depth = 19, min_samples_leaf = 512, min_samples_split = 256, treino = 77.53, test = 77.50\n",
            "Arvore max_depth = 20, min_samples_leaf = 128, min_samples_split = 32, treino = 79.21, test = 78.22\n",
            "Arvore max_depth = 20, min_samples_leaf = 128, min_samples_split = 64, treino = 79.21, test = 78.22\n",
            "Arvore max_depth = 20, min_samples_leaf = 128, min_samples_split = 128, treino = 79.21, test = 78.22\n",
            "Arvore max_depth = 20, min_samples_leaf = 128, min_samples_split = 256, treino = 79.21, test = 78.22\n",
            "Arvore max_depth = 20, min_samples_leaf = 192, min_samples_split = 32, treino = 79.01, test = 78.05\n",
            "Arvore max_depth = 20, min_samples_leaf = 192, min_samples_split = 64, treino = 79.01, test = 78.05\n",
            "Arvore max_depth = 20, min_samples_leaf = 192, min_samples_split = 128, treino = 79.01, test = 78.05\n",
            "Arvore max_depth = 20, min_samples_leaf = 192, min_samples_split = 256, treino = 79.01, test = 78.05\n",
            "Arvore max_depth = 20, min_samples_leaf = 256, min_samples_split = 32, treino = 78.90, test = 77.85\n",
            "Arvore max_depth = 20, min_samples_leaf = 256, min_samples_split = 64, treino = 78.90, test = 77.85\n",
            "Arvore max_depth = 20, min_samples_leaf = 256, min_samples_split = 128, treino = 78.90, test = 77.85\n",
            "Arvore max_depth = 20, min_samples_leaf = 256, min_samples_split = 256, treino = 78.90, test = 77.85\n",
            "Arvore max_depth = 20, min_samples_leaf = 512, min_samples_split = 32, treino = 77.53, test = 77.50\n",
            "Arvore max_depth = 20, min_samples_leaf = 512, min_samples_split = 64, treino = 77.53, test = 77.50\n",
            "Arvore max_depth = 20, min_samples_leaf = 512, min_samples_split = 128, treino = 77.53, test = 77.50\n",
            "Arvore max_depth = 20, min_samples_leaf = 512, min_samples_split = 256, treino = 77.53, test = 77.50\n",
            "Arvore max_depth = 21, min_samples_leaf = 128, min_samples_split = 32, treino = 79.21, test = 78.22\n",
            "Arvore max_depth = 21, min_samples_leaf = 128, min_samples_split = 64, treino = 79.21, test = 78.22\n",
            "Arvore max_depth = 21, min_samples_leaf = 128, min_samples_split = 128, treino = 79.21, test = 78.22\n",
            "Arvore max_depth = 21, min_samples_leaf = 128, min_samples_split = 256, treino = 79.21, test = 78.22\n",
            "Arvore max_depth = 21, min_samples_leaf = 192, min_samples_split = 32, treino = 79.01, test = 78.05\n",
            "Arvore max_depth = 21, min_samples_leaf = 192, min_samples_split = 64, treino = 79.01, test = 78.05\n",
            "Arvore max_depth = 21, min_samples_leaf = 192, min_samples_split = 128, treino = 79.01, test = 78.05\n",
            "Arvore max_depth = 21, min_samples_leaf = 192, min_samples_split = 256, treino = 79.01, test = 78.05\n",
            "Arvore max_depth = 21, min_samples_leaf = 256, min_samples_split = 32, treino = 78.90, test = 77.85\n",
            "Arvore max_depth = 21, min_samples_leaf = 256, min_samples_split = 64, treino = 78.90, test = 77.85\n",
            "Arvore max_depth = 21, min_samples_leaf = 256, min_samples_split = 128, treino = 78.90, test = 77.85\n",
            "Arvore max_depth = 21, min_samples_leaf = 256, min_samples_split = 256, treino = 78.90, test = 77.85\n",
            "Arvore max_depth = 21, min_samples_leaf = 512, min_samples_split = 32, treino = 77.53, test = 77.50\n",
            "Arvore max_depth = 21, min_samples_leaf = 512, min_samples_split = 64, treino = 77.53, test = 77.50\n",
            "Arvore max_depth = 21, min_samples_leaf = 512, min_samples_split = 128, treino = 77.53, test = 77.50\n",
            "Arvore max_depth = 21, min_samples_leaf = 512, min_samples_split = 256, treino = 77.53, test = 77.50\n",
            "Arvore max_depth = 22, min_samples_leaf = 128, min_samples_split = 32, treino = 79.21, test = 78.22\n",
            "Arvore max_depth = 22, min_samples_leaf = 128, min_samples_split = 64, treino = 79.21, test = 78.22\n",
            "Arvore max_depth = 22, min_samples_leaf = 128, min_samples_split = 128, treino = 79.21, test = 78.22\n",
            "Arvore max_depth = 22, min_samples_leaf = 128, min_samples_split = 256, treino = 79.21, test = 78.22\n",
            "Arvore max_depth = 22, min_samples_leaf = 192, min_samples_split = 32, treino = 79.01, test = 78.05\n",
            "Arvore max_depth = 22, min_samples_leaf = 192, min_samples_split = 64, treino = 79.01, test = 78.05\n",
            "Arvore max_depth = 22, min_samples_leaf = 192, min_samples_split = 128, treino = 79.01, test = 78.05\n",
            "Arvore max_depth = 22, min_samples_leaf = 192, min_samples_split = 256, treino = 79.01, test = 78.05\n",
            "Arvore max_depth = 22, min_samples_leaf = 256, min_samples_split = 32, treino = 78.90, test = 77.85\n",
            "Arvore max_depth = 22, min_samples_leaf = 256, min_samples_split = 64, treino = 78.90, test = 77.85\n",
            "Arvore max_depth = 22, min_samples_leaf = 256, min_samples_split = 128, treino = 78.90, test = 77.85\n",
            "Arvore max_depth = 22, min_samples_leaf = 256, min_samples_split = 256, treino = 78.90, test = 77.85\n",
            "Arvore max_depth = 22, min_samples_leaf = 512, min_samples_split = 32, treino = 77.53, test = 77.50\n",
            "Arvore max_depth = 22, min_samples_leaf = 512, min_samples_split = 64, treino = 77.53, test = 77.50\n",
            "Arvore max_depth = 22, min_samples_leaf = 512, min_samples_split = 128, treino = 77.53, test = 77.50\n",
            "Arvore max_depth = 22, min_samples_leaf = 512, min_samples_split = 256, treino = 77.53, test = 77.50\n",
            "Arvore max_depth = 23, min_samples_leaf = 128, min_samples_split = 32, treino = 79.21, test = 78.22\n",
            "Arvore max_depth = 23, min_samples_leaf = 128, min_samples_split = 64, treino = 79.21, test = 78.22\n",
            "Arvore max_depth = 23, min_samples_leaf = 128, min_samples_split = 128, treino = 79.21, test = 78.22\n",
            "Arvore max_depth = 23, min_samples_leaf = 128, min_samples_split = 256, treino = 79.21, test = 78.22\n",
            "Arvore max_depth = 23, min_samples_leaf = 192, min_samples_split = 32, treino = 79.01, test = 78.05\n",
            "Arvore max_depth = 23, min_samples_leaf = 192, min_samples_split = 64, treino = 79.01, test = 78.05\n",
            "Arvore max_depth = 23, min_samples_leaf = 192, min_samples_split = 128, treino = 79.01, test = 78.05\n",
            "Arvore max_depth = 23, min_samples_leaf = 192, min_samples_split = 256, treino = 79.01, test = 78.05\n",
            "Arvore max_depth = 23, min_samples_leaf = 256, min_samples_split = 32, treino = 78.90, test = 77.85\n",
            "Arvore max_depth = 23, min_samples_leaf = 256, min_samples_split = 64, treino = 78.90, test = 77.85\n",
            "Arvore max_depth = 23, min_samples_leaf = 256, min_samples_split = 128, treino = 78.90, test = 77.85\n",
            "Arvore max_depth = 23, min_samples_leaf = 256, min_samples_split = 256, treino = 78.90, test = 77.85\n",
            "Arvore max_depth = 23, min_samples_leaf = 512, min_samples_split = 32, treino = 77.53, test = 77.50\n",
            "Arvore max_depth = 23, min_samples_leaf = 512, min_samples_split = 64, treino = 77.53, test = 77.50\n",
            "Arvore max_depth = 23, min_samples_leaf = 512, min_samples_split = 128, treino = 77.53, test = 77.50\n",
            "Arvore max_depth = 23, min_samples_leaf = 512, min_samples_split = 256, treino = 77.53, test = 77.50\n",
            "Arvore max_depth = 24, min_samples_leaf = 128, min_samples_split = 32, treino = 79.21, test = 78.22\n",
            "Arvore max_depth = 24, min_samples_leaf = 128, min_samples_split = 64, treino = 79.21, test = 78.22\n",
            "Arvore max_depth = 24, min_samples_leaf = 128, min_samples_split = 128, treino = 79.21, test = 78.22\n",
            "Arvore max_depth = 24, min_samples_leaf = 128, min_samples_split = 256, treino = 79.21, test = 78.22\n",
            "Arvore max_depth = 24, min_samples_leaf = 192, min_samples_split = 32, treino = 79.01, test = 78.05\n",
            "Arvore max_depth = 24, min_samples_leaf = 192, min_samples_split = 64, treino = 79.01, test = 78.05\n",
            "Arvore max_depth = 24, min_samples_leaf = 192, min_samples_split = 128, treino = 79.01, test = 78.05\n",
            "Arvore max_depth = 24, min_samples_leaf = 192, min_samples_split = 256, treino = 79.01, test = 78.05\n",
            "Arvore max_depth = 24, min_samples_leaf = 256, min_samples_split = 32, treino = 78.90, test = 77.85\n",
            "Arvore max_depth = 24, min_samples_leaf = 256, min_samples_split = 64, treino = 78.90, test = 77.85\n",
            "Arvore max_depth = 24, min_samples_leaf = 256, min_samples_split = 128, treino = 78.90, test = 77.85\n",
            "Arvore max_depth = 24, min_samples_leaf = 256, min_samples_split = 256, treino = 78.90, test = 77.85\n",
            "Arvore max_depth = 24, min_samples_leaf = 512, min_samples_split = 32, treino = 77.53, test = 77.50\n",
            "Arvore max_depth = 24, min_samples_leaf = 512, min_samples_split = 64, treino = 77.53, test = 77.50\n",
            "Arvore max_depth = 24, min_samples_leaf = 512, min_samples_split = 128, treino = 77.53, test = 77.50\n",
            "Arvore max_depth = 24, min_samples_leaf = 512, min_samples_split = 256, treino = 77.53, test = 77.50\n",
            "Arvore max_depth = 25, min_samples_leaf = 128, min_samples_split = 32, treino = 79.21, test = 78.22\n",
            "Arvore max_depth = 25, min_samples_leaf = 128, min_samples_split = 64, treino = 79.21, test = 78.22\n",
            "Arvore max_depth = 25, min_samples_leaf = 128, min_samples_split = 128, treino = 79.21, test = 78.22\n",
            "Arvore max_depth = 25, min_samples_leaf = 128, min_samples_split = 256, treino = 79.21, test = 78.22\n",
            "Arvore max_depth = 25, min_samples_leaf = 192, min_samples_split = 32, treino = 79.01, test = 78.05\n",
            "Arvore max_depth = 25, min_samples_leaf = 192, min_samples_split = 64, treino = 79.01, test = 78.05\n",
            "Arvore max_depth = 25, min_samples_leaf = 192, min_samples_split = 128, treino = 79.01, test = 78.05\n",
            "Arvore max_depth = 25, min_samples_leaf = 192, min_samples_split = 256, treino = 79.01, test = 78.05\n",
            "Arvore max_depth = 25, min_samples_leaf = 256, min_samples_split = 32, treino = 78.90, test = 77.85\n",
            "Arvore max_depth = 25, min_samples_leaf = 256, min_samples_split = 64, treino = 78.90, test = 77.85\n",
            "Arvore max_depth = 25, min_samples_leaf = 256, min_samples_split = 128, treino = 78.90, test = 77.85\n",
            "Arvore max_depth = 25, min_samples_leaf = 256, min_samples_split = 256, treino = 78.90, test = 77.85\n",
            "Arvore max_depth = 25, min_samples_leaf = 512, min_samples_split = 32, treino = 77.53, test = 77.50\n",
            "Arvore max_depth = 25, min_samples_leaf = 512, min_samples_split = 64, treino = 77.53, test = 77.50\n",
            "Arvore max_depth = 25, min_samples_leaf = 512, min_samples_split = 128, treino = 77.53, test = 77.50\n",
            "Arvore max_depth = 25, min_samples_leaf = 512, min_samples_split = 256, treino = 77.53, test = 77.50\n",
            "Arvore max_depth = 26, min_samples_leaf = 128, min_samples_split = 32, treino = 79.21, test = 78.22\n",
            "Arvore max_depth = 26, min_samples_leaf = 128, min_samples_split = 64, treino = 79.21, test = 78.22\n",
            "Arvore max_depth = 26, min_samples_leaf = 128, min_samples_split = 128, treino = 79.21, test = 78.22\n",
            "Arvore max_depth = 26, min_samples_leaf = 128, min_samples_split = 256, treino = 79.21, test = 78.22\n",
            "Arvore max_depth = 26, min_samples_leaf = 192, min_samples_split = 32, treino = 79.01, test = 78.05\n",
            "Arvore max_depth = 26, min_samples_leaf = 192, min_samples_split = 64, treino = 79.01, test = 78.05\n",
            "Arvore max_depth = 26, min_samples_leaf = 192, min_samples_split = 128, treino = 79.01, test = 78.05\n",
            "Arvore max_depth = 26, min_samples_leaf = 192, min_samples_split = 256, treino = 79.01, test = 78.05\n",
            "Arvore max_depth = 26, min_samples_leaf = 256, min_samples_split = 32, treino = 78.90, test = 77.85\n",
            "Arvore max_depth = 26, min_samples_leaf = 256, min_samples_split = 64, treino = 78.90, test = 77.85\n",
            "Arvore max_depth = 26, min_samples_leaf = 256, min_samples_split = 128, treino = 78.90, test = 77.85\n",
            "Arvore max_depth = 26, min_samples_leaf = 256, min_samples_split = 256, treino = 78.90, test = 77.85\n",
            "Arvore max_depth = 26, min_samples_leaf = 512, min_samples_split = 32, treino = 77.53, test = 77.50\n",
            "Arvore max_depth = 26, min_samples_leaf = 512, min_samples_split = 64, treino = 77.53, test = 77.50\n",
            "Arvore max_depth = 26, min_samples_leaf = 512, min_samples_split = 128, treino = 77.53, test = 77.50\n",
            "Arvore max_depth = 26, min_samples_leaf = 512, min_samples_split = 256, treino = 77.53, test = 77.50\n",
            "Arvore max_depth = 27, min_samples_leaf = 128, min_samples_split = 32, treino = 79.21, test = 78.22\n",
            "Arvore max_depth = 27, min_samples_leaf = 128, min_samples_split = 64, treino = 79.21, test = 78.22\n",
            "Arvore max_depth = 27, min_samples_leaf = 128, min_samples_split = 128, treino = 79.21, test = 78.22\n",
            "Arvore max_depth = 27, min_samples_leaf = 128, min_samples_split = 256, treino = 79.21, test = 78.22\n",
            "Arvore max_depth = 27, min_samples_leaf = 192, min_samples_split = 32, treino = 79.01, test = 78.05\n",
            "Arvore max_depth = 27, min_samples_leaf = 192, min_samples_split = 64, treino = 79.01, test = 78.05\n",
            "Arvore max_depth = 27, min_samples_leaf = 192, min_samples_split = 128, treino = 79.01, test = 78.05\n",
            "Arvore max_depth = 27, min_samples_leaf = 192, min_samples_split = 256, treino = 79.01, test = 78.05\n",
            "Arvore max_depth = 27, min_samples_leaf = 256, min_samples_split = 32, treino = 78.90, test = 77.85\n",
            "Arvore max_depth = 27, min_samples_leaf = 256, min_samples_split = 64, treino = 78.90, test = 77.85\n",
            "Arvore max_depth = 27, min_samples_leaf = 256, min_samples_split = 128, treino = 78.90, test = 77.85\n",
            "Arvore max_depth = 27, min_samples_leaf = 256, min_samples_split = 256, treino = 78.90, test = 77.85\n",
            "Arvore max_depth = 27, min_samples_leaf = 512, min_samples_split = 32, treino = 77.53, test = 77.50\n",
            "Arvore max_depth = 27, min_samples_leaf = 512, min_samples_split = 64, treino = 77.53, test = 77.50\n",
            "Arvore max_depth = 27, min_samples_leaf = 512, min_samples_split = 128, treino = 77.53, test = 77.50\n",
            "Arvore max_depth = 27, min_samples_leaf = 512, min_samples_split = 256, treino = 77.53, test = 77.50\n",
            "Arvore max_depth = 28, min_samples_leaf = 128, min_samples_split = 32, treino = 79.21, test = 78.22\n",
            "Arvore max_depth = 28, min_samples_leaf = 128, min_samples_split = 64, treino = 79.21, test = 78.22\n",
            "Arvore max_depth = 28, min_samples_leaf = 128, min_samples_split = 128, treino = 79.21, test = 78.22\n",
            "Arvore max_depth = 28, min_samples_leaf = 128, min_samples_split = 256, treino = 79.21, test = 78.22\n",
            "Arvore max_depth = 28, min_samples_leaf = 192, min_samples_split = 32, treino = 79.01, test = 78.05\n",
            "Arvore max_depth = 28, min_samples_leaf = 192, min_samples_split = 64, treino = 79.01, test = 78.05\n",
            "Arvore max_depth = 28, min_samples_leaf = 192, min_samples_split = 128, treino = 79.01, test = 78.05\n",
            "Arvore max_depth = 28, min_samples_leaf = 192, min_samples_split = 256, treino = 79.01, test = 78.05\n",
            "Arvore max_depth = 28, min_samples_leaf = 256, min_samples_split = 32, treino = 78.90, test = 77.85\n",
            "Arvore max_depth = 28, min_samples_leaf = 256, min_samples_split = 64, treino = 78.90, test = 77.85\n",
            "Arvore max_depth = 28, min_samples_leaf = 256, min_samples_split = 128, treino = 78.90, test = 77.85\n",
            "Arvore max_depth = 28, min_samples_leaf = 256, min_samples_split = 256, treino = 78.90, test = 77.85\n",
            "Arvore max_depth = 28, min_samples_leaf = 512, min_samples_split = 32, treino = 77.53, test = 77.50\n",
            "Arvore max_depth = 28, min_samples_leaf = 512, min_samples_split = 64, treino = 77.53, test = 77.50\n",
            "Arvore max_depth = 28, min_samples_leaf = 512, min_samples_split = 128, treino = 77.53, test = 77.50\n",
            "Arvore max_depth = 28, min_samples_leaf = 512, min_samples_split = 256, treino = 77.53, test = 77.50\n",
            "Arvore max_depth = 29, min_samples_leaf = 128, min_samples_split = 32, treino = 79.21, test = 78.22\n",
            "Arvore max_depth = 29, min_samples_leaf = 128, min_samples_split = 64, treino = 79.21, test = 78.22\n",
            "Arvore max_depth = 29, min_samples_leaf = 128, min_samples_split = 128, treino = 79.21, test = 78.22\n",
            "Arvore max_depth = 29, min_samples_leaf = 128, min_samples_split = 256, treino = 79.21, test = 78.22\n",
            "Arvore max_depth = 29, min_samples_leaf = 192, min_samples_split = 32, treino = 79.01, test = 78.05\n",
            "Arvore max_depth = 29, min_samples_leaf = 192, min_samples_split = 64, treino = 79.01, test = 78.05\n",
            "Arvore max_depth = 29, min_samples_leaf = 192, min_samples_split = 128, treino = 79.01, test = 78.05\n",
            "Arvore max_depth = 29, min_samples_leaf = 192, min_samples_split = 256, treino = 79.01, test = 78.05\n",
            "Arvore max_depth = 29, min_samples_leaf = 256, min_samples_split = 32, treino = 78.90, test = 77.85\n",
            "Arvore max_depth = 29, min_samples_leaf = 256, min_samples_split = 64, treino = 78.90, test = 77.85\n",
            "Arvore max_depth = 29, min_samples_leaf = 256, min_samples_split = 128, treino = 78.90, test = 77.85\n",
            "Arvore max_depth = 29, min_samples_leaf = 256, min_samples_split = 256, treino = 78.90, test = 77.85\n",
            "Arvore max_depth = 29, min_samples_leaf = 512, min_samples_split = 32, treino = 77.53, test = 77.50\n",
            "Arvore max_depth = 29, min_samples_leaf = 512, min_samples_split = 64, treino = 77.53, test = 77.50\n",
            "Arvore max_depth = 29, min_samples_leaf = 512, min_samples_split = 128, treino = 77.53, test = 77.50\n",
            "Arvore max_depth = 29, min_samples_leaf = 512, min_samples_split = 256, treino = 77.53, test = 77.50\n",
            "Arvore max_depth = 30, min_samples_leaf = 128, min_samples_split = 32, treino = 79.21, test = 78.22\n",
            "Arvore max_depth = 30, min_samples_leaf = 128, min_samples_split = 64, treino = 79.21, test = 78.22\n",
            "Arvore max_depth = 30, min_samples_leaf = 128, min_samples_split = 128, treino = 79.21, test = 78.22\n",
            "Arvore max_depth = 30, min_samples_leaf = 128, min_samples_split = 256, treino = 79.21, test = 78.22\n",
            "Arvore max_depth = 30, min_samples_leaf = 192, min_samples_split = 32, treino = 79.01, test = 78.05\n",
            "Arvore max_depth = 30, min_samples_leaf = 192, min_samples_split = 64, treino = 79.01, test = 78.05\n",
            "Arvore max_depth = 30, min_samples_leaf = 192, min_samples_split = 128, treino = 79.01, test = 78.05\n",
            "Arvore max_depth = 30, min_samples_leaf = 192, min_samples_split = 256, treino = 79.01, test = 78.05\n",
            "Arvore max_depth = 30, min_samples_leaf = 256, min_samples_split = 32, treino = 78.90, test = 77.85\n",
            "Arvore max_depth = 30, min_samples_leaf = 256, min_samples_split = 64, treino = 78.90, test = 77.85\n",
            "Arvore max_depth = 30, min_samples_leaf = 256, min_samples_split = 128, treino = 78.90, test = 77.85\n",
            "Arvore max_depth = 30, min_samples_leaf = 256, min_samples_split = 256, treino = 78.90, test = 77.85\n",
            "Arvore max_depth = 30, min_samples_leaf = 512, min_samples_split = 32, treino = 77.53, test = 77.50\n",
            "Arvore max_depth = 30, min_samples_leaf = 512, min_samples_split = 64, treino = 77.53, test = 77.50\n",
            "Arvore max_depth = 30, min_samples_leaf = 512, min_samples_split = 128, treino = 77.53, test = 77.50\n",
            "Arvore max_depth = 30, min_samples_leaf = 512, min_samples_split = 256, treino = 77.53, test = 77.50\n",
            "Arvore max_depth = 31, min_samples_leaf = 128, min_samples_split = 32, treino = 79.21, test = 78.22\n",
            "Arvore max_depth = 31, min_samples_leaf = 128, min_samples_split = 64, treino = 79.21, test = 78.22\n",
            "Arvore max_depth = 31, min_samples_leaf = 128, min_samples_split = 128, treino = 79.21, test = 78.22\n",
            "Arvore max_depth = 31, min_samples_leaf = 128, min_samples_split = 256, treino = 79.21, test = 78.22\n",
            "Arvore max_depth = 31, min_samples_leaf = 192, min_samples_split = 32, treino = 79.01, test = 78.05\n",
            "Arvore max_depth = 31, min_samples_leaf = 192, min_samples_split = 64, treino = 79.01, test = 78.05\n",
            "Arvore max_depth = 31, min_samples_leaf = 192, min_samples_split = 128, treino = 79.01, test = 78.05\n",
            "Arvore max_depth = 31, min_samples_leaf = 192, min_samples_split = 256, treino = 79.01, test = 78.05\n",
            "Arvore max_depth = 31, min_samples_leaf = 256, min_samples_split = 32, treino = 78.90, test = 77.85\n",
            "Arvore max_depth = 31, min_samples_leaf = 256, min_samples_split = 64, treino = 78.90, test = 77.85\n",
            "Arvore max_depth = 31, min_samples_leaf = 256, min_samples_split = 128, treino = 78.90, test = 77.85\n",
            "Arvore max_depth = 31, min_samples_leaf = 256, min_samples_split = 256, treino = 78.90, test = 77.85\n",
            "Arvore max_depth = 31, min_samples_leaf = 512, min_samples_split = 32, treino = 77.53, test = 77.50\n",
            "Arvore max_depth = 31, min_samples_leaf = 512, min_samples_split = 64, treino = 77.53, test = 77.50\n",
            "Arvore max_depth = 31, min_samples_leaf = 512, min_samples_split = 128, treino = 77.53, test = 77.50\n",
            "Arvore max_depth = 31, min_samples_leaf = 512, min_samples_split = 256, treino = 77.53, test = 77.50\n",
            "Arvore max_depth = 32, min_samples_leaf = 128, min_samples_split = 32, treino = 79.21, test = 78.22\n",
            "Arvore max_depth = 32, min_samples_leaf = 128, min_samples_split = 64, treino = 79.21, test = 78.22\n",
            "Arvore max_depth = 32, min_samples_leaf = 128, min_samples_split = 128, treino = 79.21, test = 78.22\n",
            "Arvore max_depth = 32, min_samples_leaf = 128, min_samples_split = 256, treino = 79.21, test = 78.22\n",
            "Arvore max_depth = 32, min_samples_leaf = 192, min_samples_split = 32, treino = 79.01, test = 78.05\n",
            "Arvore max_depth = 32, min_samples_leaf = 192, min_samples_split = 64, treino = 79.01, test = 78.05\n",
            "Arvore max_depth = 32, min_samples_leaf = 192, min_samples_split = 128, treino = 79.01, test = 78.05\n",
            "Arvore max_depth = 32, min_samples_leaf = 192, min_samples_split = 256, treino = 79.01, test = 78.05\n",
            "Arvore max_depth = 32, min_samples_leaf = 256, min_samples_split = 32, treino = 78.90, test = 77.85\n",
            "Arvore max_depth = 32, min_samples_leaf = 256, min_samples_split = 64, treino = 78.90, test = 77.85\n",
            "Arvore max_depth = 32, min_samples_leaf = 256, min_samples_split = 128, treino = 78.90, test = 77.85\n",
            "Arvore max_depth = 32, min_samples_leaf = 256, min_samples_split = 256, treino = 78.90, test = 77.85\n",
            "Arvore max_depth = 32, min_samples_leaf = 512, min_samples_split = 32, treino = 77.53, test = 77.50\n",
            "Arvore max_depth = 32, min_samples_leaf = 512, min_samples_split = 64, treino = 77.53, test = 77.50\n",
            "Arvore max_depth = 32, min_samples_leaf = 512, min_samples_split = 128, treino = 77.53, test = 77.50\n",
            "Arvore max_depth = 32, min_samples_leaf = 512, min_samples_split = 256, treino = 77.53, test = 77.50\n"
          ],
          "name": "stdout"
        },
        {
          "output_type": "execute_result",
          "data": {
            "text/html": [
              "<div>\n",
              "<style scoped>\n",
              "    .dataframe tbody tr th:only-of-type {\n",
              "        vertical-align: middle;\n",
              "    }\n",
              "\n",
              "    .dataframe tbody tr th {\n",
              "        vertical-align: top;\n",
              "    }\n",
              "\n",
              "    .dataframe thead th {\n",
              "        text-align: right;\n",
              "    }\n",
              "</style>\n",
              "<table border=\"1\" class=\"dataframe\">\n",
              "  <thead>\n",
              "    <tr style=\"text-align: right;\">\n",
              "      <th></th>\n",
              "      <th>max_depth</th>\n",
              "      <th>min_samples_leaf</th>\n",
              "      <th>min_samples_split</th>\n",
              "      <th>train_score</th>\n",
              "      <th>test_score</th>\n",
              "      <th>fit_time</th>\n",
              "      <th>score_time</th>\n",
              "    </tr>\n",
              "  </thead>\n",
              "  <tbody>\n",
              "    <tr>\n",
              "      <th>0</th>\n",
              "      <td>1</td>\n",
              "      <td>128</td>\n",
              "      <td>32</td>\n",
              "      <td>75.791169</td>\n",
              "      <td>75.784219</td>\n",
              "      <td>0.006144</td>\n",
              "      <td>0.001360</td>\n",
              "    </tr>\n",
              "    <tr>\n",
              "      <th>1</th>\n",
              "      <td>1</td>\n",
              "      <td>128</td>\n",
              "      <td>64</td>\n",
              "      <td>75.791169</td>\n",
              "      <td>75.784219</td>\n",
              "      <td>0.005792</td>\n",
              "      <td>0.001270</td>\n",
              "    </tr>\n",
              "    <tr>\n",
              "      <th>2</th>\n",
              "      <td>1</td>\n",
              "      <td>128</td>\n",
              "      <td>128</td>\n",
              "      <td>75.791169</td>\n",
              "      <td>75.784219</td>\n",
              "      <td>0.005801</td>\n",
              "      <td>0.001235</td>\n",
              "    </tr>\n",
              "    <tr>\n",
              "      <th>3</th>\n",
              "      <td>1</td>\n",
              "      <td>128</td>\n",
              "      <td>256</td>\n",
              "      <td>75.791169</td>\n",
              "      <td>75.784219</td>\n",
              "      <td>0.005867</td>\n",
              "      <td>0.001370</td>\n",
              "    </tr>\n",
              "    <tr>\n",
              "      <th>4</th>\n",
              "      <td>1</td>\n",
              "      <td>192</td>\n",
              "      <td>32</td>\n",
              "      <td>75.791169</td>\n",
              "      <td>75.784219</td>\n",
              "      <td>0.005754</td>\n",
              "      <td>0.001279</td>\n",
              "    </tr>\n",
              "  </tbody>\n",
              "</table>\n",
              "</div>"
            ],
            "text/plain": [
              "   max_depth  min_samples_leaf  ...  fit_time  score_time\n",
              "0          1               128  ...  0.006144    0.001360\n",
              "1          1               128  ...  0.005792    0.001270\n",
              "2          1               128  ...  0.005801    0.001235\n",
              "3          1               128  ...  0.005867    0.001370\n",
              "4          1               192  ...  0.005754    0.001279\n",
              "\n",
              "[5 rows x 7 columns]"
            ]
          },
          "metadata": {
            "tags": []
          },
          "execution_count": 61
        }
      ]
    },
    {
      "cell_type": "code",
      "metadata": {
        "id": "26t9bh7SmziZ",
        "colab_type": "code",
        "colab": {
          "base_uri": "https://localhost:8080/",
          "height": 648
        },
        "outputId": "f5ecafde-b7c1-4345-a545-b70ecc14b792"
      },
      "source": [
        "sns.set(style='white')\n",
        "\n",
        "# Compute the correlation matrix\n",
        "corr = resultados.corr()\n",
        "\n",
        "# Generate a mask for the upper triangle\n",
        "mask = np.zeros_like(corr, dtype=np.bool)\n",
        "mask[np.triu_indices_from(mask)] = True\n",
        "\n",
        "# Set up the matplotlib figure\n",
        "f, ax = plt.subplots(figsize=(11, 9))\n",
        "\n",
        "# Generate a custom diverging colormap\n",
        "cmap = sns.diverging_palette(220, 10, as_cmap=True)\n",
        "\n",
        "# Draw the heatmap with the mask and correct aspect ratio\n",
        "sns.heatmap(corr, mask=mask, cmap=cmap, vmax=.3, center=0,\n",
        "            square=True, linewidths=.5, cbar_kws={\"shrink\": .5})"
      ],
      "execution_count": 63,
      "outputs": [
        {
          "output_type": "execute_result",
          "data": {
            "text/plain": [
              "<matplotlib.axes._subplots.AxesSubplot at 0x7f3216d83a20>"
            ]
          },
          "metadata": {
            "tags": []
          },
          "execution_count": 63
        },
        {
          "output_type": "display_data",
          "data": {
            "image/png": "[encoded data removed]",
            "text/plain": [
              "<Figure size 792x648 with 2 Axes>"
            ]
          },
          "metadata": {
            "tags": []
          }
        }
      ]
    },
    {
      "cell_type": "code",
      "metadata": {
        "id": "7ZoviVmYnSN7",
        "colab_type": "code",
        "colab": {
          "base_uri": "https://localhost:8080/",
          "height": 197
        },
        "outputId": "6c916deb-4719-46d6-9e09-3660ec63c81e"
      },
      "source": [
        "resultados.sort_values('test_score', ascending=False).head()"
      ],
      "execution_count": 62,
      "outputs": [
        {
          "output_type": "execute_result",
          "data": {
            "text/html": [
              "<div>\n",
              "<style scoped>\n",
              "    .dataframe tbody tr th:only-of-type {\n",
              "        vertical-align: middle;\n",
              "    }\n",
              "\n",
              "    .dataframe tbody tr th {\n",
              "        vertical-align: top;\n",
              "    }\n",
              "\n",
              "    .dataframe thead th {\n",
              "        text-align: right;\n",
              "    }\n",
              "</style>\n",
              "<table border=\"1\" class=\"dataframe\">\n",
              "  <thead>\n",
              "    <tr style=\"text-align: right;\">\n",
              "      <th></th>\n",
              "      <th>max_depth</th>\n",
              "      <th>min_samples_leaf</th>\n",
              "      <th>min_samples_split</th>\n",
              "      <th>train_score</th>\n",
              "      <th>test_score</th>\n",
              "      <th>fit_time</th>\n",
              "      <th>score_time</th>\n",
              "    </tr>\n",
              "  </thead>\n",
              "  <tbody>\n",
              "    <tr>\n",
              "      <th>54</th>\n",
              "      <td>4</td>\n",
              "      <td>192</td>\n",
              "      <td>128</td>\n",
              "      <td>78.750993</td>\n",
              "      <td>78.672633</td>\n",
              "      <td>0.012672</td>\n",
              "      <td>0.001581</td>\n",
              "    </tr>\n",
              "    <tr>\n",
              "      <th>55</th>\n",
              "      <td>4</td>\n",
              "      <td>192</td>\n",
              "      <td>256</td>\n",
              "      <td>78.750993</td>\n",
              "      <td>78.672633</td>\n",
              "      <td>0.012594</td>\n",
              "      <td>0.001458</td>\n",
              "    </tr>\n",
              "    <tr>\n",
              "      <th>32</th>\n",
              "      <td>3</td>\n",
              "      <td>128</td>\n",
              "      <td>32</td>\n",
              "      <td>78.750993</td>\n",
              "      <td>78.672633</td>\n",
              "      <td>0.010708</td>\n",
              "      <td>0.001335</td>\n",
              "    </tr>\n",
              "    <tr>\n",
              "      <th>33</th>\n",
              "      <td>3</td>\n",
              "      <td>128</td>\n",
              "      <td>64</td>\n",
              "      <td>78.750993</td>\n",
              "      <td>78.672633</td>\n",
              "      <td>0.010988</td>\n",
              "      <td>0.001452</td>\n",
              "    </tr>\n",
              "    <tr>\n",
              "      <th>34</th>\n",
              "      <td>3</td>\n",
              "      <td>128</td>\n",
              "      <td>128</td>\n",
              "      <td>78.750993</td>\n",
              "      <td>78.672633</td>\n",
              "      <td>0.011318</td>\n",
              "      <td>0.001547</td>\n",
              "    </tr>\n",
              "  </tbody>\n",
              "</table>\n",
              "</div>"
            ],
            "text/plain": [
              "    max_depth  min_samples_leaf  ...  fit_time  score_time\n",
              "54          4               192  ...  0.012672    0.001581\n",
              "55          4               192  ...  0.012594    0.001458\n",
              "32          3               128  ...  0.010708    0.001335\n",
              "33          3               128  ...  0.010988    0.001452\n",
              "34          3               128  ...  0.011318    0.001547\n",
              "\n",
              "[5 rows x 7 columns]"
            ]
          },
          "metadata": {
            "tags": []
          },
          "execution_count": 62
        }
      ]
    },
    {
      "cell_type": "markdown",
      "metadata": {
        "id": "ZzLbjXsNow0F",
        "colab_type": "text"
      },
      "source": [
        "# Explorando espaço de hiper parâmetros com GridSearchCV\n",
        "\n"
      ]
    },
    {
      "cell_type": "code",
      "metadata": {
        "id": "f78Xc5c_ojF9",
        "colab_type": "code",
        "colab": {
          "base_uri": "https://localhost:8080/",
          "height": 551
        },
        "outputId": "caccc66b-5cf4-468a-9103-011d0f218137"
      },
      "source": [
        "SEED = 301\n",
        "np.random.seed(SEED)\n",
        "\n",
        "parametros = {\n",
        "    'max_depth': [3,5],\n",
        "    'min_samples_split': [32, 64, 128],\n",
        "    'min_samples_leaf': [32, 64, 128],\n",
        "    'criterion': ['gini', 'entropy']\n",
        "}\n",
        "\n",
        "busca = GridSearchCV(DecisionTreeClassifier(), parametros, cv=GroupKFold(n_splits=10))\n",
        "busca.fit(x_azar, y_azar, groups=dados.modelo)\n",
        "\n",
        "resultados = pd.DataFrame(busca.cv_results_)\n",
        "resultados.head()"
      ],
      "execution_count": 65,
      "outputs": [
        {
          "output_type": "execute_result",
          "data": {
            "text/html": [
              "<div>\n",
              "<style scoped>\n",
              "    .dataframe tbody tr th:only-of-type {\n",
              "        vertical-align: middle;\n",
              "    }\n",
              "\n",
              "    .dataframe tbody tr th {\n",
              "        vertical-align: top;\n",
              "    }\n",
              "\n",
              "    .dataframe thead th {\n",
              "        text-align: right;\n",
              "    }\n",
              "</style>\n",
              "<table border=\"1\" class=\"dataframe\">\n",
              "  <thead>\n",
              "    <tr style=\"text-align: right;\">\n",
              "      <th></th>\n",
              "      <th>mean_fit_time</th>\n",
              "      <th>std_fit_time</th>\n",
              "      <th>mean_score_time</th>\n",
              "      <th>std_score_time</th>\n",
              "      <th>param_criterion</th>\n",
              "      <th>param_max_depth</th>\n",
              "      <th>param_min_samples_leaf</th>\n",
              "      <th>param_min_samples_split</th>\n",
              "      <th>params</th>\n",
              "      <th>split0_test_score</th>\n",
              "      <th>split1_test_score</th>\n",
              "      <th>split2_test_score</th>\n",
              "      <th>split3_test_score</th>\n",
              "      <th>split4_test_score</th>\n",
              "      <th>split5_test_score</th>\n",
              "      <th>split6_test_score</th>\n",
              "      <th>split7_test_score</th>\n",
              "      <th>split8_test_score</th>\n",
              "      <th>split9_test_score</th>\n",
              "      <th>mean_test_score</th>\n",
              "      <th>std_test_score</th>\n",
              "      <th>rank_test_score</th>\n",
              "    </tr>\n",
              "  </thead>\n",
              "  <tbody>\n",
              "    <tr>\n",
              "      <th>0</th>\n",
              "      <td>0.011700</td>\n",
              "      <td>0.001644</td>\n",
              "      <td>0.001670</td>\n",
              "      <td>0.000109</td>\n",
              "      <td>gini</td>\n",
              "      <td>3</td>\n",
              "      <td>32</td>\n",
              "      <td>32</td>\n",
              "      <td>{'criterion': 'gini', 'max_depth': 3, 'min_sam...</td>\n",
              "      <td>0.804757</td>\n",
              "      <td>0.793667</td>\n",
              "      <td>0.793313</td>\n",
              "      <td>0.78408</td>\n",
              "      <td>0.783181</td>\n",
              "      <td>0.797809</td>\n",
              "      <td>0.762866</td>\n",
              "      <td>0.781818</td>\n",
              "      <td>0.77551</td>\n",
              "      <td>0.790262</td>\n",
              "      <td>0.7868</td>\n",
              "      <td>0.011338</td>\n",
              "      <td>1</td>\n",
              "    </tr>\n",
              "    <tr>\n",
              "      <th>1</th>\n",
              "      <td>0.010993</td>\n",
              "      <td>0.000206</td>\n",
              "      <td>0.001547</td>\n",
              "      <td>0.000045</td>\n",
              "      <td>gini</td>\n",
              "      <td>3</td>\n",
              "      <td>32</td>\n",
              "      <td>64</td>\n",
              "      <td>{'criterion': 'gini', 'max_depth': 3, 'min_sam...</td>\n",
              "      <td>0.804757</td>\n",
              "      <td>0.793667</td>\n",
              "      <td>0.793313</td>\n",
              "      <td>0.78408</td>\n",
              "      <td>0.783181</td>\n",
              "      <td>0.797809</td>\n",
              "      <td>0.762866</td>\n",
              "      <td>0.781818</td>\n",
              "      <td>0.77551</td>\n",
              "      <td>0.790262</td>\n",
              "      <td>0.7868</td>\n",
              "      <td>0.011338</td>\n",
              "      <td>1</td>\n",
              "    </tr>\n",
              "    <tr>\n",
              "      <th>2</th>\n",
              "      <td>0.010830</td>\n",
              "      <td>0.000098</td>\n",
              "      <td>0.001552</td>\n",
              "      <td>0.000050</td>\n",
              "      <td>gini</td>\n",
              "      <td>3</td>\n",
              "      <td>32</td>\n",
              "      <td>128</td>\n",
              "      <td>{'criterion': 'gini', 'max_depth': 3, 'min_sam...</td>\n",
              "      <td>0.804757</td>\n",
              "      <td>0.793667</td>\n",
              "      <td>0.793313</td>\n",
              "      <td>0.78408</td>\n",
              "      <td>0.783181</td>\n",
              "      <td>0.797809</td>\n",
              "      <td>0.762866</td>\n",
              "      <td>0.781818</td>\n",
              "      <td>0.77551</td>\n",
              "      <td>0.790262</td>\n",
              "      <td>0.7868</td>\n",
              "      <td>0.011338</td>\n",
              "      <td>1</td>\n",
              "    </tr>\n",
              "    <tr>\n",
              "      <th>3</th>\n",
              "      <td>0.010909</td>\n",
              "      <td>0.000372</td>\n",
              "      <td>0.001504</td>\n",
              "      <td>0.000049</td>\n",
              "      <td>gini</td>\n",
              "      <td>3</td>\n",
              "      <td>64</td>\n",
              "      <td>32</td>\n",
              "      <td>{'criterion': 'gini', 'max_depth': 3, 'min_sam...</td>\n",
              "      <td>0.804757</td>\n",
              "      <td>0.793667</td>\n",
              "      <td>0.793313</td>\n",
              "      <td>0.78408</td>\n",
              "      <td>0.783181</td>\n",
              "      <td>0.797809</td>\n",
              "      <td>0.762866</td>\n",
              "      <td>0.781818</td>\n",
              "      <td>0.77551</td>\n",
              "      <td>0.790262</td>\n",
              "      <td>0.7868</td>\n",
              "      <td>0.011338</td>\n",
              "      <td>1</td>\n",
              "    </tr>\n",
              "    <tr>\n",
              "      <th>4</th>\n",
              "      <td>0.010780</td>\n",
              "      <td>0.000167</td>\n",
              "      <td>0.001506</td>\n",
              "      <td>0.000038</td>\n",
              "      <td>gini</td>\n",
              "      <td>3</td>\n",
              "      <td>64</td>\n",
              "      <td>64</td>\n",
              "      <td>{'criterion': 'gini', 'max_depth': 3, 'min_sam...</td>\n",
              "      <td>0.804757</td>\n",
              "      <td>0.793667</td>\n",
              "      <td>0.793313</td>\n",
              "      <td>0.78408</td>\n",
              "      <td>0.783181</td>\n",
              "      <td>0.797809</td>\n",
              "      <td>0.762866</td>\n",
              "      <td>0.781818</td>\n",
              "      <td>0.77551</td>\n",
              "      <td>0.790262</td>\n",
              "      <td>0.7868</td>\n",
              "      <td>0.011338</td>\n",
              "      <td>1</td>\n",
              "    </tr>\n",
              "  </tbody>\n",
              "</table>\n",
              "</div>"
            ],
            "text/plain": [
              "   mean_fit_time  std_fit_time  ...  std_test_score  rank_test_score\n",
              "0       0.011700      0.001644  ...        0.011338                1\n",
              "1       0.010993      0.000206  ...        0.011338                1\n",
              "2       0.010830      0.000098  ...        0.011338                1\n",
              "3       0.010909      0.000372  ...        0.011338                1\n",
              "4       0.010780      0.000167  ...        0.011338                1\n",
              "\n",
              "[5 rows x 22 columns]"
            ]
          },
          "metadata": {
            "tags": []
          },
          "execution_count": 65
        }
      ]
    },
    {
      "cell_type": "code",
      "metadata": {
        "id": "fq8rBtTfqPwW",
        "colab_type": "code",
        "colab": {
          "base_uri": "https://localhost:8080/",
          "height": 52
        },
        "outputId": "a88176de-f1dc-47ef-e51c-fb7676a867d8"
      },
      "source": [
        "print(busca.best_params_)\n",
        "print(busca.best_score_ * 100)"
      ],
      "execution_count": 68,
      "outputs": [
        {
          "output_type": "stream",
          "text": [
            "{'criterion': 'gini', 'max_depth': 3, 'min_samples_leaf': 32, 'min_samples_split': 32}\n",
            "78.68\n"
          ],
          "name": "stdout"
        }
      ]
    },
    {
      "cell_type": "code",
      "metadata": {
        "id": "MWxW6YTxqbbU",
        "colab_type": "code",
        "colab": {
          "base_uri": "https://localhost:8080/",
          "height": 123
        },
        "outputId": "ec935ab7-86b5-4389-bcab-b97ac6395dde"
      },
      "source": [
        "melhor = busca.best_estimator_\n",
        "melhor"
      ],
      "execution_count": 69,
      "outputs": [
        {
          "output_type": "execute_result",
          "data": {
            "text/plain": [
              "DecisionTreeClassifier(class_weight=None, criterion='gini', max_depth=3,\n",
              "                       max_features=None, max_leaf_nodes=None,\n",
              "                       min_impurity_decrease=0.0, min_impurity_split=None,\n",
              "                       min_samples_leaf=32, min_samples_split=32,\n",
              "                       min_weight_fraction_leaf=0.0, presort=False,\n",
              "                       random_state=None, splitter='best')"
            ]
          },
          "metadata": {
            "tags": []
          },
          "execution_count": 69
        }
      ]
    },
    {
      "cell_type": "code",
      "metadata": {
        "id": "sK2SOUahqlYf",
        "colab_type": "code",
        "colab": {
          "base_uri": "https://localhost:8080/",
          "height": 34
        },
        "outputId": "5cc00c91-6314-402f-c971-f15cd843bcbd"
      },
      "source": [
        "predicoes = melhor.predict(x_azar) \n",
        "acc = accuracy_score(predicoes, y_azar) * 100\n",
        "print(\"Acurácia para os dados foi %.2f%%\" % acc)"
      ],
      "execution_count": 72,
      "outputs": [
        {
          "output_type": "stream",
          "text": [
            "Acurácia para os dados foi 78.75%\n"
          ],
          "name": "stdout"
        }
      ]
    },
    {
      "cell_type": "markdown",
      "metadata": {
        "id": "hXP-qnFZryx9",
        "colab_type": "text"
      },
      "source": [
        "* Evitar a abordagem anterior por ser otimista\n",
        "\n",
        "# Como ter uma estimativa sem vício nos dados que já vimos?\n",
        "\n",
        "* No caso de validação cruzada com busca de hiper parâmetros, fazemos uma nova validação cruzada (*Nested cross validation*)\n",
        "\n"
      ]
    },
    {
      "cell_type": "code",
      "metadata": {
        "id": "Z_A02JfTrKCa",
        "colab_type": "code",
        "colab": {
          "base_uri": "https://localhost:8080/",
          "height": 372
        },
        "outputId": "74a80f2b-4705-40bf-ed9e-ed3c28189ae5"
      },
      "source": [
        "cross_val_score(busca, x_azar, y_azar, cv=GroupKFold(n_splits=10), groups=dados.modelo)"
      ],
      "execution_count": 74,
      "outputs": [
        {
          "output_type": "stream",
          "text": [
            "/usr/local/lib/python3.6/dist-packages/sklearn/model_selection/_validation.py:530: FutureWarning: From version 0.22, errors during fit will result in a cross validation score of NaN by default. Use error_score='raise' if you want an exception raised or error_score=np.nan to adopt the behavior from version 0.22.\n",
            "  FutureWarning)\n"
          ],
          "name": "stderr"
        },
        {
          "output_type": "error",
          "ename": "ValueError",
          "evalue": "ignored",
          "traceback": [
            "\u001b[0;31m---------------------------------------------------------------------------\u001b[0m",
            "\u001b[0;31mValueError\u001b[0m                                Traceback (most recent call last)",
            "\u001b[0;32m<ipython-input-74-d355b2f3c78e>\u001b[0m in \u001b[0;36m<module>\u001b[0;34m()\u001b[0m\n\u001b[0;32m----> 1\u001b[0;31m \u001b[0mcross_val_score\u001b[0m\u001b[0;34m(\u001b[0m\u001b[0mbusca\u001b[0m\u001b[0;34m,\u001b[0m \u001b[0mx_azar\u001b[0m\u001b[0;34m,\u001b[0m \u001b[0my_azar\u001b[0m\u001b[0;34m,\u001b[0m \u001b[0mcv\u001b[0m\u001b[0;34m=\u001b[0m\u001b[0mGroupKFold\u001b[0m\u001b[0;34m(\u001b[0m\u001b[0mn_splits\u001b[0m\u001b[0;34m=\u001b[0m\u001b[0;36m10\u001b[0m\u001b[0;34m)\u001b[0m\u001b[0;34m,\u001b[0m \u001b[0mgroups\u001b[0m\u001b[0;34m=\u001b[0m\u001b[0mdados\u001b[0m\u001b[0;34m.\u001b[0m\u001b[0mmodelo\u001b[0m\u001b[0;34m)\u001b[0m\u001b[0;34m\u001b[0m\u001b[0;34m\u001b[0m\u001b[0m\n\u001b[0m",
            "\u001b[0;32m/usr/local/lib/python3.6/dist-packages/sklearn/model_selection/_validation.py\u001b[0m in \u001b[0;36mcross_val_score\u001b[0;34m(estimator, X, y, groups, scoring, cv, n_jobs, verbose, fit_params, pre_dispatch, error_score)\u001b[0m\n\u001b[1;32m    389\u001b[0m                                 \u001b[0mfit_params\u001b[0m\u001b[0;34m=\u001b[0m\u001b[0mfit_params\u001b[0m\u001b[0;34m,\u001b[0m\u001b[0;34m\u001b[0m\u001b[0;34m\u001b[0m\u001b[0m\n\u001b[1;32m    390\u001b[0m                                 \u001b[0mpre_dispatch\u001b[0m\u001b[0;34m=\u001b[0m\u001b[0mpre_dispatch\u001b[0m\u001b[0;34m,\u001b[0m\u001b[0;34m\u001b[0m\u001b[0;34m\u001b[0m\u001b[0m\n\u001b[0;32m--> 391\u001b[0;31m                                 error_score=error_score)\n\u001b[0m\u001b[1;32m    392\u001b[0m     \u001b[0;32mreturn\u001b[0m \u001b[0mcv_results\u001b[0m\u001b[0;34m[\u001b[0m\u001b[0;34m'test_score'\u001b[0m\u001b[0;34m]\u001b[0m\u001b[0;34m\u001b[0m\u001b[0;34m\u001b[0m\u001b[0m\n\u001b[1;32m    393\u001b[0m \u001b[0;34m\u001b[0m\u001b[0m\n",
            "\u001b[0;32m/usr/local/lib/python3.6/dist-packages/sklearn/model_selection/_validation.py\u001b[0m in \u001b[0;36mcross_validate\u001b[0;34m(estimator, X, y, groups, scoring, cv, n_jobs, verbose, fit_params, pre_dispatch, return_train_score, return_estimator, error_score)\u001b[0m\n\u001b[1;32m    230\u001b[0m             \u001b[0mreturn_times\u001b[0m\u001b[0;34m=\u001b[0m\u001b[0;32mTrue\u001b[0m\u001b[0;34m,\u001b[0m \u001b[0mreturn_estimator\u001b[0m\u001b[0;34m=\u001b[0m\u001b[0mreturn_estimator\u001b[0m\u001b[0;34m,\u001b[0m\u001b[0;34m\u001b[0m\u001b[0;34m\u001b[0m\u001b[0m\n\u001b[1;32m    231\u001b[0m             error_score=error_score)\n\u001b[0;32m--> 232\u001b[0;31m         for train, test in cv.split(X, y, groups))\n\u001b[0m\u001b[1;32m    233\u001b[0m \u001b[0;34m\u001b[0m\u001b[0m\n\u001b[1;32m    234\u001b[0m     \u001b[0mzipped_scores\u001b[0m \u001b[0;34m=\u001b[0m \u001b[0mlist\u001b[0m\u001b[0;34m(\u001b[0m\u001b[0mzip\u001b[0m\u001b[0;34m(\u001b[0m\u001b[0;34m*\u001b[0m\u001b[0mscores\u001b[0m\u001b[0;34m)\u001b[0m\u001b[0;34m)\u001b[0m\u001b[0;34m\u001b[0m\u001b[0;34m\u001b[0m\u001b[0m\n",
            "\u001b[0;32m/usr/local/lib/python3.6/dist-packages/joblib/parallel.py\u001b[0m in \u001b[0;36m__call__\u001b[0;34m(self, iterable)\u001b[0m\n\u001b[1;32m   1002\u001b[0m             \u001b[0;31m# remaining jobs.\u001b[0m\u001b[0;34m\u001b[0m\u001b[0;34m\u001b[0m\u001b[0;34m\u001b[0m\u001b[0m\n\u001b[1;32m   1003\u001b[0m             \u001b[0mself\u001b[0m\u001b[0;34m.\u001b[0m\u001b[0m_iterating\u001b[0m \u001b[0;34m=\u001b[0m \u001b[0;32mFalse\u001b[0m\u001b[0;34m\u001b[0m\u001b[0;34m\u001b[0m\u001b[0m\n\u001b[0;32m-> 1004\u001b[0;31m             \u001b[0;32mif\u001b[0m \u001b[0mself\u001b[0m\u001b[0;34m.\u001b[0m\u001b[0mdispatch_one_batch\u001b[0m\u001b[0;34m(\u001b[0m\u001b[0miterator\u001b[0m\u001b[0;34m)\u001b[0m\u001b[0;34m:\u001b[0m\u001b[0;34m\u001b[0m\u001b[0;34m\u001b[0m\u001b[0m\n\u001b[0m\u001b[1;32m   1005\u001b[0m                 \u001b[0mself\u001b[0m\u001b[0;34m.\u001b[0m\u001b[0m_iterating\u001b[0m \u001b[0;34m=\u001b[0m \u001b[0mself\u001b[0m\u001b[0;34m.\u001b[0m\u001b[0m_original_iterator\u001b[0m \u001b[0;32mis\u001b[0m \u001b[0;32mnot\u001b[0m \u001b[0;32mNone\u001b[0m\u001b[0;34m\u001b[0m\u001b[0;34m\u001b[0m\u001b[0m\n\u001b[1;32m   1006\u001b[0m \u001b[0;34m\u001b[0m\u001b[0m\n",
            "\u001b[0;32m/usr/local/lib/python3.6/dist-packages/joblib/parallel.py\u001b[0m in \u001b[0;36mdispatch_one_batch\u001b[0;34m(self, iterator)\u001b[0m\n\u001b[1;32m    833\u001b[0m                 \u001b[0;32mreturn\u001b[0m \u001b[0;32mFalse\u001b[0m\u001b[0;34m\u001b[0m\u001b[0;34m\u001b[0m\u001b[0m\n\u001b[1;32m    834\u001b[0m             \u001b[0;32melse\u001b[0m\u001b[0;34m:\u001b[0m\u001b[0;34m\u001b[0m\u001b[0;34m\u001b[0m\u001b[0m\n\u001b[0;32m--> 835\u001b[0;31m                 \u001b[0mself\u001b[0m\u001b[0;34m.\u001b[0m\u001b[0m_dispatch\u001b[0m\u001b[0;34m(\u001b[0m\u001b[0mtasks\u001b[0m\u001b[0;34m)\u001b[0m\u001b[0;34m\u001b[0m\u001b[0;34m\u001b[0m\u001b[0m\n\u001b[0m\u001b[1;32m    836\u001b[0m                 \u001b[0;32mreturn\u001b[0m \u001b[0;32mTrue\u001b[0m\u001b[0;34m\u001b[0m\u001b[0;34m\u001b[0m\u001b[0m\n\u001b[1;32m    837\u001b[0m \u001b[0;34m\u001b[0m\u001b[0m\n",
            "\u001b[0;32m/usr/local/lib/python3.6/dist-packages/joblib/parallel.py\u001b[0m in \u001b[0;36m_dispatch\u001b[0;34m(self, batch)\u001b[0m\n\u001b[1;32m    752\u001b[0m         \u001b[0;32mwith\u001b[0m \u001b[0mself\u001b[0m\u001b[0;34m.\u001b[0m\u001b[0m_lock\u001b[0m\u001b[0;34m:\u001b[0m\u001b[0;34m\u001b[0m\u001b[0;34m\u001b[0m\u001b[0m\n\u001b[1;32m    753\u001b[0m             \u001b[0mjob_idx\u001b[0m \u001b[0;34m=\u001b[0m \u001b[0mlen\u001b[0m\u001b[0;34m(\u001b[0m\u001b[0mself\u001b[0m\u001b[0;34m.\u001b[0m\u001b[0m_jobs\u001b[0m\u001b[0;34m)\u001b[0m\u001b[0;34m\u001b[0m\u001b[0;34m\u001b[0m\u001b[0m\n\u001b[0;32m--> 754\u001b[0;31m             \u001b[0mjob\u001b[0m \u001b[0;34m=\u001b[0m \u001b[0mself\u001b[0m\u001b[0;34m.\u001b[0m\u001b[0m_backend\u001b[0m\u001b[0;34m.\u001b[0m\u001b[0mapply_async\u001b[0m\u001b[0;34m(\u001b[0m\u001b[0mbatch\u001b[0m\u001b[0;34m,\u001b[0m \u001b[0mcallback\u001b[0m\u001b[0;34m=\u001b[0m\u001b[0mcb\u001b[0m\u001b[0;34m)\u001b[0m\u001b[0;34m\u001b[0m\u001b[0;34m\u001b[0m\u001b[0m\n\u001b[0m\u001b[1;32m    755\u001b[0m             \u001b[0;31m# A job can complete so quickly than its callback is\u001b[0m\u001b[0;34m\u001b[0m\u001b[0;34m\u001b[0m\u001b[0;34m\u001b[0m\u001b[0m\n\u001b[1;32m    756\u001b[0m             \u001b[0;31m# called before we get here, causing self._jobs to\u001b[0m\u001b[0;34m\u001b[0m\u001b[0;34m\u001b[0m\u001b[0;34m\u001b[0m\u001b[0m\n",
            "\u001b[0;32m/usr/local/lib/python3.6/dist-packages/joblib/_parallel_backends.py\u001b[0m in \u001b[0;36mapply_async\u001b[0;34m(self, func, callback)\u001b[0m\n\u001b[1;32m    207\u001b[0m     \u001b[0;32mdef\u001b[0m \u001b[0mapply_async\u001b[0m\u001b[0;34m(\u001b[0m\u001b[0mself\u001b[0m\u001b[0;34m,\u001b[0m \u001b[0mfunc\u001b[0m\u001b[0;34m,\u001b[0m \u001b[0mcallback\u001b[0m\u001b[0;34m=\u001b[0m\u001b[0;32mNone\u001b[0m\u001b[0;34m)\u001b[0m\u001b[0;34m:\u001b[0m\u001b[0;34m\u001b[0m\u001b[0;34m\u001b[0m\u001b[0m\n\u001b[1;32m    208\u001b[0m         \u001b[0;34m\"\"\"Schedule a func to be run\"\"\"\u001b[0m\u001b[0;34m\u001b[0m\u001b[0;34m\u001b[0m\u001b[0m\n\u001b[0;32m--> 209\u001b[0;31m         \u001b[0mresult\u001b[0m \u001b[0;34m=\u001b[0m \u001b[0mImmediateResult\u001b[0m\u001b[0;34m(\u001b[0m\u001b[0mfunc\u001b[0m\u001b[0;34m)\u001b[0m\u001b[0;34m\u001b[0m\u001b[0;34m\u001b[0m\u001b[0m\n\u001b[0m\u001b[1;32m    210\u001b[0m         \u001b[0;32mif\u001b[0m \u001b[0mcallback\u001b[0m\u001b[0;34m:\u001b[0m\u001b[0;34m\u001b[0m\u001b[0;34m\u001b[0m\u001b[0m\n\u001b[1;32m    211\u001b[0m             \u001b[0mcallback\u001b[0m\u001b[0;34m(\u001b[0m\u001b[0mresult\u001b[0m\u001b[0;34m)\u001b[0m\u001b[0;34m\u001b[0m\u001b[0;34m\u001b[0m\u001b[0m\n",
            "\u001b[0;32m/usr/local/lib/python3.6/dist-packages/joblib/_parallel_backends.py\u001b[0m in \u001b[0;36m__init__\u001b[0;34m(self, batch)\u001b[0m\n\u001b[1;32m    588\u001b[0m         \u001b[0;31m# Don't delay the application, to avoid keeping the input\u001b[0m\u001b[0;34m\u001b[0m\u001b[0;34m\u001b[0m\u001b[0;34m\u001b[0m\u001b[0m\n\u001b[1;32m    589\u001b[0m         \u001b[0;31m# arguments in memory\u001b[0m\u001b[0;34m\u001b[0m\u001b[0;34m\u001b[0m\u001b[0;34m\u001b[0m\u001b[0m\n\u001b[0;32m--> 590\u001b[0;31m         \u001b[0mself\u001b[0m\u001b[0;34m.\u001b[0m\u001b[0mresults\u001b[0m \u001b[0;34m=\u001b[0m \u001b[0mbatch\u001b[0m\u001b[0;34m(\u001b[0m\u001b[0;34m)\u001b[0m\u001b[0;34m\u001b[0m\u001b[0;34m\u001b[0m\u001b[0m\n\u001b[0m\u001b[1;32m    591\u001b[0m \u001b[0;34m\u001b[0m\u001b[0m\n\u001b[1;32m    592\u001b[0m     \u001b[0;32mdef\u001b[0m \u001b[0mget\u001b[0m\u001b[0;34m(\u001b[0m\u001b[0mself\u001b[0m\u001b[0;34m)\u001b[0m\u001b[0;34m:\u001b[0m\u001b[0;34m\u001b[0m\u001b[0;34m\u001b[0m\u001b[0m\n",
            "\u001b[0;32m/usr/local/lib/python3.6/dist-packages/joblib/parallel.py\u001b[0m in \u001b[0;36m__call__\u001b[0;34m(self)\u001b[0m\n\u001b[1;32m    254\u001b[0m         \u001b[0;32mwith\u001b[0m \u001b[0mparallel_backend\u001b[0m\u001b[0;34m(\u001b[0m\u001b[0mself\u001b[0m\u001b[0;34m.\u001b[0m\u001b[0m_backend\u001b[0m\u001b[0;34m,\u001b[0m \u001b[0mn_jobs\u001b[0m\u001b[0;34m=\u001b[0m\u001b[0mself\u001b[0m\u001b[0;34m.\u001b[0m\u001b[0m_n_jobs\u001b[0m\u001b[0;34m)\u001b[0m\u001b[0;34m:\u001b[0m\u001b[0;34m\u001b[0m\u001b[0;34m\u001b[0m\u001b[0m\n\u001b[1;32m    255\u001b[0m             return [func(*args, **kwargs)\n\u001b[0;32m--> 256\u001b[0;31m                     for func, args, kwargs in self.items]\n\u001b[0m\u001b[1;32m    257\u001b[0m \u001b[0;34m\u001b[0m\u001b[0m\n\u001b[1;32m    258\u001b[0m     \u001b[0;32mdef\u001b[0m \u001b[0m__len__\u001b[0m\u001b[0;34m(\u001b[0m\u001b[0mself\u001b[0m\u001b[0;34m)\u001b[0m\u001b[0;34m:\u001b[0m\u001b[0;34m\u001b[0m\u001b[0;34m\u001b[0m\u001b[0m\n",
            "\u001b[0;32m/usr/local/lib/python3.6/dist-packages/joblib/parallel.py\u001b[0m in \u001b[0;36m<listcomp>\u001b[0;34m(.0)\u001b[0m\n\u001b[1;32m    254\u001b[0m         \u001b[0;32mwith\u001b[0m \u001b[0mparallel_backend\u001b[0m\u001b[0;34m(\u001b[0m\u001b[0mself\u001b[0m\u001b[0;34m.\u001b[0m\u001b[0m_backend\u001b[0m\u001b[0;34m,\u001b[0m \u001b[0mn_jobs\u001b[0m\u001b[0;34m=\u001b[0m\u001b[0mself\u001b[0m\u001b[0;34m.\u001b[0m\u001b[0m_n_jobs\u001b[0m\u001b[0;34m)\u001b[0m\u001b[0;34m:\u001b[0m\u001b[0;34m\u001b[0m\u001b[0;34m\u001b[0m\u001b[0m\n\u001b[1;32m    255\u001b[0m             return [func(*args, **kwargs)\n\u001b[0;32m--> 256\u001b[0;31m                     for func, args, kwargs in self.items]\n\u001b[0m\u001b[1;32m    257\u001b[0m \u001b[0;34m\u001b[0m\u001b[0m\n\u001b[1;32m    258\u001b[0m     \u001b[0;32mdef\u001b[0m \u001b[0m__len__\u001b[0m\u001b[0;34m(\u001b[0m\u001b[0mself\u001b[0m\u001b[0;34m)\u001b[0m\u001b[0;34m:\u001b[0m\u001b[0;34m\u001b[0m\u001b[0;34m\u001b[0m\u001b[0m\n",
            "\u001b[0;32m/usr/local/lib/python3.6/dist-packages/sklearn/model_selection/_validation.py\u001b[0m in \u001b[0;36m_fit_and_score\u001b[0;34m(estimator, X, y, scorer, train, test, verbose, parameters, fit_params, return_train_score, return_parameters, return_n_test_samples, return_times, return_estimator, error_score)\u001b[0m\n\u001b[1;32m    514\u001b[0m             \u001b[0mestimator\u001b[0m\u001b[0;34m.\u001b[0m\u001b[0mfit\u001b[0m\u001b[0;34m(\u001b[0m\u001b[0mX_train\u001b[0m\u001b[0;34m,\u001b[0m \u001b[0;34m**\u001b[0m\u001b[0mfit_params\u001b[0m\u001b[0;34m)\u001b[0m\u001b[0;34m\u001b[0m\u001b[0;34m\u001b[0m\u001b[0m\n\u001b[1;32m    515\u001b[0m         \u001b[0;32melse\u001b[0m\u001b[0;34m:\u001b[0m\u001b[0;34m\u001b[0m\u001b[0;34m\u001b[0m\u001b[0m\n\u001b[0;32m--> 516\u001b[0;31m             \u001b[0mestimator\u001b[0m\u001b[0;34m.\u001b[0m\u001b[0mfit\u001b[0m\u001b[0;34m(\u001b[0m\u001b[0mX_train\u001b[0m\u001b[0;34m,\u001b[0m \u001b[0my_train\u001b[0m\u001b[0;34m,\u001b[0m \u001b[0;34m**\u001b[0m\u001b[0mfit_params\u001b[0m\u001b[0;34m)\u001b[0m\u001b[0;34m\u001b[0m\u001b[0;34m\u001b[0m\u001b[0m\n\u001b[0m\u001b[1;32m    517\u001b[0m \u001b[0;34m\u001b[0m\u001b[0m\n\u001b[1;32m    518\u001b[0m     \u001b[0;32mexcept\u001b[0m \u001b[0mException\u001b[0m \u001b[0;32mas\u001b[0m \u001b[0me\u001b[0m\u001b[0;34m:\u001b[0m\u001b[0;34m\u001b[0m\u001b[0;34m\u001b[0m\u001b[0m\n",
            "\u001b[0;32m/usr/local/lib/python3.6/dist-packages/sklearn/model_selection/_search.py\u001b[0m in \u001b[0;36mfit\u001b[0;34m(self, X, y, groups, **fit_params)\u001b[0m\n\u001b[1;32m    686\u001b[0m                 \u001b[0;32mreturn\u001b[0m \u001b[0mresults\u001b[0m\u001b[0;34m\u001b[0m\u001b[0;34m\u001b[0m\u001b[0m\n\u001b[1;32m    687\u001b[0m \u001b[0;34m\u001b[0m\u001b[0m\n\u001b[0;32m--> 688\u001b[0;31m             \u001b[0mself\u001b[0m\u001b[0;34m.\u001b[0m\u001b[0m_run_search\u001b[0m\u001b[0;34m(\u001b[0m\u001b[0mevaluate_candidates\u001b[0m\u001b[0;34m)\u001b[0m\u001b[0;34m\u001b[0m\u001b[0;34m\u001b[0m\u001b[0m\n\u001b[0m\u001b[1;32m    689\u001b[0m \u001b[0;34m\u001b[0m\u001b[0m\n\u001b[1;32m    690\u001b[0m         \u001b[0;31m# For multi-metric evaluation, store the best_index_, best_params_ and\u001b[0m\u001b[0;34m\u001b[0m\u001b[0;34m\u001b[0m\u001b[0;34m\u001b[0m\u001b[0m\n",
            "\u001b[0;32m/usr/local/lib/python3.6/dist-packages/sklearn/model_selection/_search.py\u001b[0m in \u001b[0;36m_run_search\u001b[0;34m(self, evaluate_candidates)\u001b[0m\n\u001b[1;32m   1147\u001b[0m     \u001b[0;32mdef\u001b[0m \u001b[0m_run_search\u001b[0m\u001b[0;34m(\u001b[0m\u001b[0mself\u001b[0m\u001b[0;34m,\u001b[0m \u001b[0mevaluate_candidates\u001b[0m\u001b[0;34m)\u001b[0m\u001b[0;34m:\u001b[0m\u001b[0;34m\u001b[0m\u001b[0;34m\u001b[0m\u001b[0m\n\u001b[1;32m   1148\u001b[0m         \u001b[0;34m\"\"\"Search all candidates in param_grid\"\"\"\u001b[0m\u001b[0;34m\u001b[0m\u001b[0;34m\u001b[0m\u001b[0m\n\u001b[0;32m-> 1149\u001b[0;31m         \u001b[0mevaluate_candidates\u001b[0m\u001b[0;34m(\u001b[0m\u001b[0mParameterGrid\u001b[0m\u001b[0;34m(\u001b[0m\u001b[0mself\u001b[0m\u001b[0;34m.\u001b[0m\u001b[0mparam_grid\u001b[0m\u001b[0;34m)\u001b[0m\u001b[0;34m)\u001b[0m\u001b[0;34m\u001b[0m\u001b[0;34m\u001b[0m\u001b[0m\n\u001b[0m\u001b[1;32m   1150\u001b[0m \u001b[0;34m\u001b[0m\u001b[0m\n\u001b[1;32m   1151\u001b[0m \u001b[0;34m\u001b[0m\u001b[0m\n",
            "\u001b[0;32m/usr/local/lib/python3.6/dist-packages/sklearn/model_selection/_search.py\u001b[0m in \u001b[0;36mevaluate_candidates\u001b[0;34m(candidate_params)\u001b[0m\n\u001b[1;32m    665\u001b[0m                                \u001b[0;32mfor\u001b[0m \u001b[0mparameters\u001b[0m\u001b[0;34m,\u001b[0m \u001b[0;34m(\u001b[0m\u001b[0mtrain\u001b[0m\u001b[0;34m,\u001b[0m \u001b[0mtest\u001b[0m\u001b[0;34m)\u001b[0m\u001b[0;34m\u001b[0m\u001b[0;34m\u001b[0m\u001b[0m\n\u001b[1;32m    666\u001b[0m                                in product(candidate_params,\n\u001b[0;32m--> 667\u001b[0;31m                                           cv.split(X, y, groups)))\n\u001b[0m\u001b[1;32m    668\u001b[0m \u001b[0;34m\u001b[0m\u001b[0m\n\u001b[1;32m    669\u001b[0m                 \u001b[0;32mif\u001b[0m \u001b[0mlen\u001b[0m\u001b[0;34m(\u001b[0m\u001b[0mout\u001b[0m\u001b[0;34m)\u001b[0m \u001b[0;34m<\u001b[0m \u001b[0;36m1\u001b[0m\u001b[0;34m:\u001b[0m\u001b[0;34m\u001b[0m\u001b[0;34m\u001b[0m\u001b[0m\n",
            "\u001b[0;32m/usr/local/lib/python3.6/dist-packages/sklearn/model_selection/_split.py\u001b[0m in \u001b[0;36msplit\u001b[0;34m(self, X, y, groups)\u001b[0m\n\u001b[1;32m    333\u001b[0m                 .format(self.n_splits, n_samples))\n\u001b[1;32m    334\u001b[0m \u001b[0;34m\u001b[0m\u001b[0m\n\u001b[0;32m--> 335\u001b[0;31m         \u001b[0;32mfor\u001b[0m \u001b[0mtrain\u001b[0m\u001b[0;34m,\u001b[0m \u001b[0mtest\u001b[0m \u001b[0;32min\u001b[0m \u001b[0msuper\u001b[0m\u001b[0;34m(\u001b[0m\u001b[0;34m)\u001b[0m\u001b[0;34m.\u001b[0m\u001b[0msplit\u001b[0m\u001b[0;34m(\u001b[0m\u001b[0mX\u001b[0m\u001b[0;34m,\u001b[0m \u001b[0my\u001b[0m\u001b[0;34m,\u001b[0m \u001b[0mgroups\u001b[0m\u001b[0;34m)\u001b[0m\u001b[0;34m:\u001b[0m\u001b[0;34m\u001b[0m\u001b[0;34m\u001b[0m\u001b[0m\n\u001b[0m\u001b[1;32m    336\u001b[0m             \u001b[0;32myield\u001b[0m \u001b[0mtrain\u001b[0m\u001b[0;34m,\u001b[0m \u001b[0mtest\u001b[0m\u001b[0;34m\u001b[0m\u001b[0;34m\u001b[0m\u001b[0m\n\u001b[1;32m    337\u001b[0m \u001b[0;34m\u001b[0m\u001b[0m\n",
            "\u001b[0;32m/usr/local/lib/python3.6/dist-packages/sklearn/model_selection/_split.py\u001b[0m in \u001b[0;36msplit\u001b[0;34m(self, X, y, groups)\u001b[0m\n\u001b[1;32m     87\u001b[0m         \u001b[0mX\u001b[0m\u001b[0;34m,\u001b[0m \u001b[0my\u001b[0m\u001b[0;34m,\u001b[0m \u001b[0mgroups\u001b[0m \u001b[0;34m=\u001b[0m \u001b[0mindexable\u001b[0m\u001b[0;34m(\u001b[0m\u001b[0mX\u001b[0m\u001b[0;34m,\u001b[0m \u001b[0my\u001b[0m\u001b[0;34m,\u001b[0m \u001b[0mgroups\u001b[0m\u001b[0;34m)\u001b[0m\u001b[0;34m\u001b[0m\u001b[0;34m\u001b[0m\u001b[0m\n\u001b[1;32m     88\u001b[0m         \u001b[0mindices\u001b[0m \u001b[0;34m=\u001b[0m \u001b[0mnp\u001b[0m\u001b[0;34m.\u001b[0m\u001b[0marange\u001b[0m\u001b[0;34m(\u001b[0m\u001b[0m_num_samples\u001b[0m\u001b[0;34m(\u001b[0m\u001b[0mX\u001b[0m\u001b[0;34m)\u001b[0m\u001b[0;34m)\u001b[0m\u001b[0;34m\u001b[0m\u001b[0;34m\u001b[0m\u001b[0m\n\u001b[0;32m---> 89\u001b[0;31m         \u001b[0;32mfor\u001b[0m \u001b[0mtest_index\u001b[0m \u001b[0;32min\u001b[0m \u001b[0mself\u001b[0m\u001b[0;34m.\u001b[0m\u001b[0m_iter_test_masks\u001b[0m\u001b[0;34m(\u001b[0m\u001b[0mX\u001b[0m\u001b[0;34m,\u001b[0m \u001b[0my\u001b[0m\u001b[0;34m,\u001b[0m \u001b[0mgroups\u001b[0m\u001b[0;34m)\u001b[0m\u001b[0;34m:\u001b[0m\u001b[0;34m\u001b[0m\u001b[0;34m\u001b[0m\u001b[0m\n\u001b[0m\u001b[1;32m     90\u001b[0m             \u001b[0mtrain_index\u001b[0m \u001b[0;34m=\u001b[0m \u001b[0mindices\u001b[0m\u001b[0;34m[\u001b[0m\u001b[0mnp\u001b[0m\u001b[0;34m.\u001b[0m\u001b[0mlogical_not\u001b[0m\u001b[0;34m(\u001b[0m\u001b[0mtest_index\u001b[0m\u001b[0;34m)\u001b[0m\u001b[0;34m]\u001b[0m\u001b[0;34m\u001b[0m\u001b[0;34m\u001b[0m\u001b[0m\n\u001b[1;32m     91\u001b[0m             \u001b[0mtest_index\u001b[0m \u001b[0;34m=\u001b[0m \u001b[0mindices\u001b[0m\u001b[0;34m[\u001b[0m\u001b[0mtest_index\u001b[0m\u001b[0;34m]\u001b[0m\u001b[0;34m\u001b[0m\u001b[0;34m\u001b[0m\u001b[0m\n",
            "\u001b[0;32m/usr/local/lib/python3.6/dist-packages/sklearn/model_selection/_split.py\u001b[0m in \u001b[0;36m_iter_test_masks\u001b[0;34m(self, X, y, groups)\u001b[0m\n\u001b[1;32m     99\u001b[0m         \u001b[0mBy\u001b[0m \u001b[0mdefault\u001b[0m\u001b[0;34m,\u001b[0m \u001b[0mdelegates\u001b[0m \u001b[0mto\u001b[0m \u001b[0m_iter_test_indices\u001b[0m\u001b[0;34m(\u001b[0m\u001b[0mX\u001b[0m\u001b[0;34m,\u001b[0m \u001b[0my\u001b[0m\u001b[0;34m,\u001b[0m \u001b[0mgroups\u001b[0m\u001b[0;34m)\u001b[0m\u001b[0;34m\u001b[0m\u001b[0;34m\u001b[0m\u001b[0m\n\u001b[1;32m    100\u001b[0m         \"\"\"\n\u001b[0;32m--> 101\u001b[0;31m         \u001b[0;32mfor\u001b[0m \u001b[0mtest_index\u001b[0m \u001b[0;32min\u001b[0m \u001b[0mself\u001b[0m\u001b[0;34m.\u001b[0m\u001b[0m_iter_test_indices\u001b[0m\u001b[0;34m(\u001b[0m\u001b[0mX\u001b[0m\u001b[0;34m,\u001b[0m \u001b[0my\u001b[0m\u001b[0;34m,\u001b[0m \u001b[0mgroups\u001b[0m\u001b[0;34m)\u001b[0m\u001b[0;34m:\u001b[0m\u001b[0;34m\u001b[0m\u001b[0;34m\u001b[0m\u001b[0m\n\u001b[0m\u001b[1;32m    102\u001b[0m             \u001b[0mtest_mask\u001b[0m \u001b[0;34m=\u001b[0m \u001b[0mnp\u001b[0m\u001b[0;34m.\u001b[0m\u001b[0mzeros\u001b[0m\u001b[0;34m(\u001b[0m\u001b[0m_num_samples\u001b[0m\u001b[0;34m(\u001b[0m\u001b[0mX\u001b[0m\u001b[0;34m)\u001b[0m\u001b[0;34m,\u001b[0m \u001b[0mdtype\u001b[0m\u001b[0;34m=\u001b[0m\u001b[0mnp\u001b[0m\u001b[0;34m.\u001b[0m\u001b[0mbool\u001b[0m\u001b[0;34m)\u001b[0m\u001b[0;34m\u001b[0m\u001b[0;34m\u001b[0m\u001b[0m\n\u001b[1;32m    103\u001b[0m             \u001b[0mtest_mask\u001b[0m\u001b[0;34m[\u001b[0m\u001b[0mtest_index\u001b[0m\u001b[0;34m]\u001b[0m \u001b[0;34m=\u001b[0m \u001b[0;32mTrue\u001b[0m\u001b[0;34m\u001b[0m\u001b[0;34m\u001b[0m\u001b[0m\n",
            "\u001b[0;32m/usr/local/lib/python3.6/dist-packages/sklearn/model_selection/_split.py\u001b[0m in \u001b[0;36m_iter_test_indices\u001b[0;34m(self, X, y, groups)\u001b[0m\n\u001b[1;32m    507\u001b[0m     \u001b[0;32mdef\u001b[0m \u001b[0m_iter_test_indices\u001b[0m\u001b[0;34m(\u001b[0m\u001b[0mself\u001b[0m\u001b[0;34m,\u001b[0m \u001b[0mX\u001b[0m\u001b[0;34m,\u001b[0m \u001b[0my\u001b[0m\u001b[0;34m,\u001b[0m \u001b[0mgroups\u001b[0m\u001b[0;34m)\u001b[0m\u001b[0;34m:\u001b[0m\u001b[0;34m\u001b[0m\u001b[0;34m\u001b[0m\u001b[0m\n\u001b[1;32m    508\u001b[0m         \u001b[0;32mif\u001b[0m \u001b[0mgroups\u001b[0m \u001b[0;32mis\u001b[0m \u001b[0;32mNone\u001b[0m\u001b[0;34m:\u001b[0m\u001b[0;34m\u001b[0m\u001b[0;34m\u001b[0m\u001b[0m\n\u001b[0;32m--> 509\u001b[0;31m             \u001b[0;32mraise\u001b[0m \u001b[0mValueError\u001b[0m\u001b[0;34m(\u001b[0m\u001b[0;34m\"The 'groups' parameter should not be None.\"\u001b[0m\u001b[0;34m)\u001b[0m\u001b[0;34m\u001b[0m\u001b[0;34m\u001b[0m\u001b[0m\n\u001b[0m\u001b[1;32m    510\u001b[0m         \u001b[0mgroups\u001b[0m \u001b[0;34m=\u001b[0m \u001b[0mcheck_array\u001b[0m\u001b[0;34m(\u001b[0m\u001b[0mgroups\u001b[0m\u001b[0;34m,\u001b[0m \u001b[0mensure_2d\u001b[0m\u001b[0;34m=\u001b[0m\u001b[0;32mFalse\u001b[0m\u001b[0;34m,\u001b[0m \u001b[0mdtype\u001b[0m\u001b[0;34m=\u001b[0m\u001b[0;32mNone\u001b[0m\u001b[0;34m)\u001b[0m\u001b[0;34m\u001b[0m\u001b[0;34m\u001b[0m\u001b[0m\n\u001b[1;32m    511\u001b[0m \u001b[0;34m\u001b[0m\u001b[0m\n",
            "\u001b[0;31mValueError\u001b[0m: The 'groups' parameter should not be None."
          ]
        }
      ]
    },
    {
      "cell_type": "markdown",
      "metadata": {
        "id": "QoNMv5FttD4n",
        "colab_type": "text"
      },
      "source": [
        "* Infelizmente como o Pandas não suporta *nested validation* com *group k-fold* não conseguimos prever o resultado para novos grupos;\n",
        "* Então usamos o `KFold` normal."
      ]
    },
    {
      "cell_type": "code",
      "metadata": {
        "id": "Fh9bTWYMs5eF",
        "colab_type": "code",
        "colab": {
          "base_uri": "https://localhost:8080/",
          "height": 551
        },
        "outputId": "4fde12bf-e4b9-4654-8cb2-7943b265686c"
      },
      "source": [
        "SEED = 301\n",
        "np.random.seed(SEED)\n",
        "\n",
        "parametros = {\n",
        "    'max_depth': [3,5],\n",
        "    'min_samples_split': [32, 64, 128],\n",
        "    'min_samples_leaf': [32, 64, 128],\n",
        "    'criterion': ['gini', 'entropy']\n",
        "}\n",
        "\n",
        "busca = GridSearchCV(DecisionTreeClassifier(), parametros, cv=KFold(n_splits=5, shuffle=True))\n",
        "busca.fit(x_azar, y_azar, groups=dados.modelo)\n",
        "\n",
        "resultados = pd.DataFrame(busca.cv_results_)\n",
        "resultados.head()"
      ],
      "execution_count": 77,
      "outputs": [
        {
          "output_type": "execute_result",
          "data": {
            "text/html": [
              "<div>\n",
              "<style scoped>\n",
              "    .dataframe tbody tr th:only-of-type {\n",
              "        vertical-align: middle;\n",
              "    }\n",
              "\n",
              "    .dataframe tbody tr th {\n",
              "        vertical-align: top;\n",
              "    }\n",
              "\n",
              "    .dataframe thead th {\n",
              "        text-align: right;\n",
              "    }\n",
              "</style>\n",
              "<table border=\"1\" class=\"dataframe\">\n",
              "  <thead>\n",
              "    <tr style=\"text-align: right;\">\n",
              "      <th></th>\n",
              "      <th>mean_fit_time</th>\n",
              "      <th>std_fit_time</th>\n",
              "      <th>mean_score_time</th>\n",
              "      <th>std_score_time</th>\n",
              "      <th>param_criterion</th>\n",
              "      <th>param_max_depth</th>\n",
              "      <th>param_min_samples_leaf</th>\n",
              "      <th>param_min_samples_split</th>\n",
              "      <th>params</th>\n",
              "      <th>split0_test_score</th>\n",
              "      <th>split1_test_score</th>\n",
              "      <th>split2_test_score</th>\n",
              "      <th>split3_test_score</th>\n",
              "      <th>split4_test_score</th>\n",
              "      <th>mean_test_score</th>\n",
              "      <th>std_test_score</th>\n",
              "      <th>rank_test_score</th>\n",
              "    </tr>\n",
              "  </thead>\n",
              "  <tbody>\n",
              "    <tr>\n",
              "      <th>0</th>\n",
              "      <td>0.011504</td>\n",
              "      <td>0.001923</td>\n",
              "      <td>0.001754</td>\n",
              "      <td>0.000058</td>\n",
              "      <td>gini</td>\n",
              "      <td>3</td>\n",
              "      <td>32</td>\n",
              "      <td>32</td>\n",
              "      <td>{'criterion': 'gini', 'max_depth': 3, 'min_sam...</td>\n",
              "      <td>0.784</td>\n",
              "      <td>0.776</td>\n",
              "      <td>0.8025</td>\n",
              "      <td>0.793</td>\n",
              "      <td>0.7795</td>\n",
              "      <td>0.787</td>\n",
              "      <td>0.009618</td>\n",
              "      <td>1</td>\n",
              "    </tr>\n",
              "    <tr>\n",
              "      <th>1</th>\n",
              "      <td>0.010422</td>\n",
              "      <td>0.000177</td>\n",
              "      <td>0.001761</td>\n",
              "      <td>0.000061</td>\n",
              "      <td>gini</td>\n",
              "      <td>3</td>\n",
              "      <td>32</td>\n",
              "      <td>64</td>\n",
              "      <td>{'criterion': 'gini', 'max_depth': 3, 'min_sam...</td>\n",
              "      <td>0.784</td>\n",
              "      <td>0.776</td>\n",
              "      <td>0.8025</td>\n",
              "      <td>0.793</td>\n",
              "      <td>0.7795</td>\n",
              "      <td>0.787</td>\n",
              "      <td>0.009618</td>\n",
              "      <td>1</td>\n",
              "    </tr>\n",
              "    <tr>\n",
              "      <th>2</th>\n",
              "      <td>0.010447</td>\n",
              "      <td>0.000081</td>\n",
              "      <td>0.001785</td>\n",
              "      <td>0.000041</td>\n",
              "      <td>gini</td>\n",
              "      <td>3</td>\n",
              "      <td>32</td>\n",
              "      <td>128</td>\n",
              "      <td>{'criterion': 'gini', 'max_depth': 3, 'min_sam...</td>\n",
              "      <td>0.784</td>\n",
              "      <td>0.776</td>\n",
              "      <td>0.8025</td>\n",
              "      <td>0.793</td>\n",
              "      <td>0.7795</td>\n",
              "      <td>0.787</td>\n",
              "      <td>0.009618</td>\n",
              "      <td>1</td>\n",
              "    </tr>\n",
              "    <tr>\n",
              "      <th>3</th>\n",
              "      <td>0.010077</td>\n",
              "      <td>0.000106</td>\n",
              "      <td>0.001718</td>\n",
              "      <td>0.000038</td>\n",
              "      <td>gini</td>\n",
              "      <td>3</td>\n",
              "      <td>64</td>\n",
              "      <td>32</td>\n",
              "      <td>{'criterion': 'gini', 'max_depth': 3, 'min_sam...</td>\n",
              "      <td>0.784</td>\n",
              "      <td>0.776</td>\n",
              "      <td>0.8025</td>\n",
              "      <td>0.793</td>\n",
              "      <td>0.7795</td>\n",
              "      <td>0.787</td>\n",
              "      <td>0.009618</td>\n",
              "      <td>1</td>\n",
              "    </tr>\n",
              "    <tr>\n",
              "      <th>4</th>\n",
              "      <td>0.009870</td>\n",
              "      <td>0.000103</td>\n",
              "      <td>0.001626</td>\n",
              "      <td>0.000056</td>\n",
              "      <td>gini</td>\n",
              "      <td>3</td>\n",
              "      <td>64</td>\n",
              "      <td>64</td>\n",
              "      <td>{'criterion': 'gini', 'max_depth': 3, 'min_sam...</td>\n",
              "      <td>0.784</td>\n",
              "      <td>0.776</td>\n",
              "      <td>0.8025</td>\n",
              "      <td>0.793</td>\n",
              "      <td>0.7795</td>\n",
              "      <td>0.787</td>\n",
              "      <td>0.009618</td>\n",
              "      <td>1</td>\n",
              "    </tr>\n",
              "  </tbody>\n",
              "</table>\n",
              "</div>"
            ],
            "text/plain": [
              "   mean_fit_time  std_fit_time  ...  std_test_score  rank_test_score\n",
              "0       0.011504      0.001923  ...        0.009618                1\n",
              "1       0.010422      0.000177  ...        0.009618                1\n",
              "2       0.010447      0.000081  ...        0.009618                1\n",
              "3       0.010077      0.000106  ...        0.009618                1\n",
              "4       0.009870      0.000103  ...        0.009618                1\n",
              "\n",
              "[5 rows x 17 columns]"
            ]
          },
          "metadata": {
            "tags": []
          },
          "execution_count": 77
        }
      ]
    },
    {
      "cell_type": "code",
      "metadata": {
        "id": "Du_6XsV6tokg",
        "colab_type": "code",
        "colab": {
          "base_uri": "https://localhost:8080/",
          "height": 34
        },
        "outputId": "f20779dd-6c64-4ca5-b318-8416ca39a52d"
      },
      "source": [
        "scores = cross_val_score(busca, x_azar, y_azar, cv=KFold(n_splits=5, shuffle=True))\n",
        "scores"
      ],
      "execution_count": 78,
      "outputs": [
        {
          "output_type": "execute_result",
          "data": {
            "text/plain": [
              "array([0.7895, 0.7825, 0.7905, 0.7715, 0.7995])"
            ]
          },
          "metadata": {
            "tags": []
          },
          "execution_count": 78
        }
      ]
    },
    {
      "cell_type": "code",
      "metadata": {
        "id": "NA0GJFtVt-xM",
        "colab_type": "code",
        "colab": {}
      },
      "source": [
        "def imprime_scores(scores):\n",
        "  media = scores.mean() * 100\n",
        "  desvio = scores.std() * 100\n",
        "  print('Acurácia média %.2f' % media)\n",
        "  print('Intervalo [%.2f, %.2f]' %  (media-2*desvio, media+2*desvio))"
      ],
      "execution_count": 0,
      "outputs": []
    },
    {
      "cell_type": "code",
      "metadata": {
        "id": "JACQZgk4uYvR",
        "colab_type": "code",
        "colab": {
          "base_uri": "https://localhost:8080/",
          "height": 52
        },
        "outputId": "0b326220-ed64-400d-c344-15103d56d1df"
      },
      "source": [
        "imprime_scores(scores)"
      ],
      "execution_count": 81,
      "outputs": [
        {
          "output_type": "stream",
          "text": [
            "Acurácia média 78.67\n",
            "Intervalo [76.80, 80.54]\n"
          ],
          "name": "stdout"
        }
      ]
    },
    {
      "cell_type": "code",
      "metadata": {
        "id": "-xaYh-_rucSg",
        "colab_type": "code",
        "colab": {
          "base_uri": "https://localhost:8080/",
          "height": 123
        },
        "outputId": "2c070271-1b1c-48fd-f7dc-001bb2fa02d6"
      },
      "source": [
        "melhor = busca.best_estimator_\n",
        "melhor"
      ],
      "execution_count": 82,
      "outputs": [
        {
          "output_type": "execute_result",
          "data": {
            "text/plain": [
              "DecisionTreeClassifier(class_weight=None, criterion='gini', max_depth=3,\n",
              "                       max_features=None, max_leaf_nodes=None,\n",
              "                       min_impurity_decrease=0.0, min_impurity_split=None,\n",
              "                       min_samples_leaf=32, min_samples_split=32,\n",
              "                       min_weight_fraction_leaf=0.0, presort=False,\n",
              "                       random_state=None, splitter='best')"
            ]
          },
          "metadata": {
            "tags": []
          },
          "execution_count": 82
        }
      ]
    },
    {
      "cell_type": "code",
      "metadata": {
        "id": "sd6WhKIlukD_",
        "colab_type": "code",
        "colab": {
          "base_uri": "https://localhost:8080/",
          "height": 598
        },
        "outputId": "6d394226-7a68-4dc8-b8bf-038c44785753"
      },
      "source": [
        "melhor.fit(x_azar, y_azar)\n",
        "features = x_azar.columns\n",
        "dot_data = export_graphviz(melhor, out_file=None, filled=True, rounded=True,\n",
        "                class_names=['não', 'sim'], feature_names=features)\n",
        "\n",
        "graph = graphviz.Source(dot_data)\n",
        "graph"
      ],
      "execution_count": 83,
      "outputs": [
        {
          "output_type": "execute_result",
          "data": {
            "text/plain": [
              "<graphviz.files.Source at 0x7f3216a48278>"
            ],
            "image/svg+xml": "<?xml version=\"1.0\" encoding=\"UTF-8\" standalone=\"no\"?>\n<!DOCTYPE svg PUBLIC \"-//W3C//DTD SVG 1.1//EN\"\n \"http://www.w3.org/Graphics/SVG/1.1/DTD/svg11.dtd\">\n<!-- Generated by graphviz version 2.40.1 (20161225.0304)\n -->\n<!-- Title: Tree Pages: 1 -->\n<svg width=\"912pt\" height=\"433pt\"\n viewBox=\"0.00 0.00 912.00 433.00\" xmlns=\"http://www.w3.org/2000/svg\" xmlns:xlink=\"http://www.w3.org/1999/xlink\">\n<g id=\"graph0\" class=\"graph\" transform=\"scale(1 1) rotate(0) translate(4 429)\">\n<title>Tree</title>\n<polygon fill=\"#ffffff\" stroke=\"transparent\" points=\"-4,4 -4,-429 908,-429 908,4 -4,4\"/>\n<!-- 0 -->\n<g id=\"node1\" class=\"node\">\n<title>0</title>\n<path fill=\"#c8e4f8\" stroke=\"#000000\" d=\"M372.5,-425C372.5,-425 247.5,-425 247.5,-425 241.5,-425 235.5,-419 235.5,-413 235.5,-413 235.5,-354 235.5,-354 235.5,-348 241.5,-342 247.5,-342 247.5,-342 372.5,-342 372.5,-342 378.5,-342 384.5,-348 384.5,-354 384.5,-354 384.5,-413 384.5,-413 384.5,-419 378.5,-425 372.5,-425\"/>\n<text text-anchor=\"middle\" x=\"310\" y=\"-409.8\" font-family=\"Helvetica,sans-Serif\" font-size=\"14.00\" fill=\"#000000\">preco &lt;= 59982.246</text>\n<text text-anchor=\"middle\" x=\"310\" y=\"-394.8\" font-family=\"Helvetica,sans-Serif\" font-size=\"14.00\" fill=\"#000000\">gini = 0.487</text>\n<text text-anchor=\"middle\" x=\"310\" y=\"-379.8\" font-family=\"Helvetica,sans-Serif\" font-size=\"14.00\" fill=\"#000000\">samples = 10000</text>\n<text text-anchor=\"middle\" x=\"310\" y=\"-364.8\" font-family=\"Helvetica,sans-Serif\" font-size=\"14.00\" fill=\"#000000\">value = [4200, 5800]</text>\n<text text-anchor=\"middle\" x=\"310\" y=\"-349.8\" font-family=\"Helvetica,sans-Serif\" font-size=\"14.00\" fill=\"#000000\">class = sim</text>\n</g>\n<!-- 1 -->\n<g id=\"node2\" class=\"node\">\n<title>1</title>\n<path fill=\"#52a9e8\" stroke=\"#000000\" d=\"M277.5,-306C277.5,-306 154.5,-306 154.5,-306 148.5,-306 142.5,-300 142.5,-294 142.5,-294 142.5,-235 142.5,-235 142.5,-229 148.5,-223 154.5,-223 154.5,-223 277.5,-223 277.5,-223 283.5,-223 289.5,-229 289.5,-235 289.5,-235 289.5,-294 289.5,-294 289.5,-300 283.5,-306 277.5,-306\"/>\n<text text-anchor=\"middle\" x=\"216\" y=\"-290.8\" font-family=\"Helvetica,sans-Serif\" font-size=\"14.00\" fill=\"#000000\">preco &lt;= 40083.385</text>\n<text text-anchor=\"middle\" x=\"216\" y=\"-275.8\" font-family=\"Helvetica,sans-Serif\" font-size=\"14.00\" fill=\"#000000\">gini = 0.198</text>\n<text text-anchor=\"middle\" x=\"216\" y=\"-260.8\" font-family=\"Helvetica,sans-Serif\" font-size=\"14.00\" fill=\"#000000\">samples = 4347</text>\n<text text-anchor=\"middle\" x=\"216\" y=\"-245.8\" font-family=\"Helvetica,sans-Serif\" font-size=\"14.00\" fill=\"#000000\">value = [484, 3863]</text>\n<text text-anchor=\"middle\" x=\"216\" y=\"-230.8\" font-family=\"Helvetica,sans-Serif\" font-size=\"14.00\" fill=\"#000000\">class = sim</text>\n</g>\n<!-- 0&#45;&gt;1 -->\n<g id=\"edge1\" class=\"edge\">\n<title>0&#45;&gt;1</title>\n<path fill=\"none\" stroke=\"#000000\" d=\"M277.1234,-341.8796C270.0803,-332.9633 262.5707,-323.4565 255.3126,-314.268\"/>\n<polygon fill=\"#000000\" stroke=\"#000000\" points=\"257.9621,-311.9757 249.017,-306.2981 252.4691,-316.3147 257.9621,-311.9757\"/>\n<text text-anchor=\"middle\" x=\"246.1027\" y=\"-327.4276\" font-family=\"Helvetica,sans-Serif\" font-size=\"14.00\" fill=\"#000000\">True</text>\n</g>\n<!-- 6 -->\n<g id=\"node7\" class=\"node\">\n<title>6</title>\n<path fill=\"#f3c3a0\" stroke=\"#000000\" d=\"M545,-306C545,-306 377,-306 377,-306 371,-306 365,-300 365,-294 365,-294 365,-235 365,-235 365,-229 371,-223 377,-223 377,-223 545,-223 545,-223 551,-223 557,-229 557,-235 557,-235 557,-294 557,-294 557,-300 551,-306 545,-306\"/>\n<text text-anchor=\"middle\" x=\"461\" y=\"-290.8\" font-family=\"Helvetica,sans-Serif\" font-size=\"14.00\" fill=\"#000000\">km_por_ano &lt;= 24124.006</text>\n<text text-anchor=\"middle\" x=\"461\" y=\"-275.8\" font-family=\"Helvetica,sans-Serif\" font-size=\"14.00\" fill=\"#000000\">gini = 0.45</text>\n<text text-anchor=\"middle\" x=\"461\" y=\"-260.8\" font-family=\"Helvetica,sans-Serif\" font-size=\"14.00\" fill=\"#000000\">samples = 5653</text>\n<text text-anchor=\"middle\" x=\"461\" y=\"-245.8\" font-family=\"Helvetica,sans-Serif\" font-size=\"14.00\" fill=\"#000000\">value = [3716, 1937]</text>\n<text text-anchor=\"middle\" x=\"461\" y=\"-230.8\" font-family=\"Helvetica,sans-Serif\" font-size=\"14.00\" fill=\"#000000\">class = não</text>\n</g>\n<!-- 0&#45;&gt;6 -->\n<g id=\"edge6\" class=\"edge\">\n<title>0&#45;&gt;6</title>\n<path fill=\"none\" stroke=\"#000000\" d=\"M362.8125,-341.8796C374.8818,-332.368 387.8039,-322.1843 400.1788,-312.432\"/>\n<polygon fill=\"#000000\" stroke=\"#000000\" points=\"402.5296,-315.0356 408.2173,-306.0969 398.1968,-309.5377 402.5296,-315.0356\"/>\n<text text-anchor=\"middle\" x=\"405.275\" y=\"-327.2232\" font-family=\"Helvetica,sans-Serif\" font-size=\"14.00\" fill=\"#000000\">False</text>\n</g>\n<!-- 2 -->\n<g id=\"node3\" class=\"node\">\n<title>2</title>\n<path fill=\"#399de5\" stroke=\"#000000\" d=\"M112,-179.5C112,-179.5 12,-179.5 12,-179.5 6,-179.5 0,-173.5 0,-167.5 0,-167.5 0,-123.5 0,-123.5 0,-117.5 6,-111.5 12,-111.5 12,-111.5 112,-111.5 112,-111.5 118,-111.5 124,-117.5 124,-123.5 124,-123.5 124,-167.5 124,-167.5 124,-173.5 118,-179.5 112,-179.5\"/>\n<text text-anchor=\"middle\" x=\"62\" y=\"-164.3\" font-family=\"Helvetica,sans-Serif\" font-size=\"14.00\" fill=\"#000000\">gini = 0.0</text>\n<text text-anchor=\"middle\" x=\"62\" y=\"-149.3\" font-family=\"Helvetica,sans-Serif\" font-size=\"14.00\" fill=\"#000000\">samples = 1935</text>\n<text text-anchor=\"middle\" x=\"62\" y=\"-134.3\" font-family=\"Helvetica,sans-Serif\" font-size=\"14.00\" fill=\"#000000\">value = [0, 1935]</text>\n<text text-anchor=\"middle\" x=\"62\" y=\"-119.3\" font-family=\"Helvetica,sans-Serif\" font-size=\"14.00\" fill=\"#000000\">class = sim</text>\n</g>\n<!-- 1&#45;&gt;2 -->\n<g id=\"edge2\" class=\"edge\">\n<title>1&#45;&gt;2</title>\n<path fill=\"none\" stroke=\"#000000\" d=\"M162.1383,-222.8796C146.7696,-211.0038 130.0453,-198.0804 114.7441,-186.2568\"/>\n<polygon fill=\"#000000\" stroke=\"#000000\" points=\"116.4605,-183.1599 106.4076,-179.8149 112.1804,-188.699 116.4605,-183.1599\"/>\n</g>\n<!-- 3 -->\n<g id=\"node4\" class=\"node\">\n<title>3</title>\n<path fill=\"#6bb6ec\" stroke=\"#000000\" d=\"M277.5,-187C277.5,-187 154.5,-187 154.5,-187 148.5,-187 142.5,-181 142.5,-175 142.5,-175 142.5,-116 142.5,-116 142.5,-110 148.5,-104 154.5,-104 154.5,-104 277.5,-104 277.5,-104 283.5,-104 289.5,-110 289.5,-116 289.5,-116 289.5,-175 289.5,-175 289.5,-181 283.5,-187 277.5,-187\"/>\n<text text-anchor=\"middle\" x=\"216\" y=\"-171.8\" font-family=\"Helvetica,sans-Serif\" font-size=\"14.00\" fill=\"#000000\">preco &lt;= 41083.029</text>\n<text text-anchor=\"middle\" x=\"216\" y=\"-156.8\" font-family=\"Helvetica,sans-Serif\" font-size=\"14.00\" fill=\"#000000\">gini = 0.321</text>\n<text text-anchor=\"middle\" x=\"216\" y=\"-141.8\" font-family=\"Helvetica,sans-Serif\" font-size=\"14.00\" fill=\"#000000\">samples = 2412</text>\n<text text-anchor=\"middle\" x=\"216\" y=\"-126.8\" font-family=\"Helvetica,sans-Serif\" font-size=\"14.00\" fill=\"#000000\">value = [484, 1928]</text>\n<text text-anchor=\"middle\" x=\"216\" y=\"-111.8\" font-family=\"Helvetica,sans-Serif\" font-size=\"14.00\" fill=\"#000000\">class = sim</text>\n</g>\n<!-- 1&#45;&gt;3 -->\n<g id=\"edge3\" class=\"edge\">\n<title>1&#45;&gt;3</title>\n<path fill=\"none\" stroke=\"#000000\" d=\"M216,-222.8796C216,-214.6838 216,-205.9891 216,-197.5013\"/>\n<polygon fill=\"#000000\" stroke=\"#000000\" points=\"219.5001,-197.298 216,-187.2981 212.5001,-197.2981 219.5001,-197.298\"/>\n</g>\n<!-- 4 -->\n<g id=\"node5\" class=\"node\">\n<title>4</title>\n<path fill=\"#95cbf1\" stroke=\"#000000\" d=\"M116,-68C116,-68 24,-68 24,-68 18,-68 12,-62 12,-56 12,-56 12,-12 12,-12 12,-6 18,0 24,0 24,0 116,0 116,0 122,0 128,-6 128,-12 128,-12 128,-56 128,-56 128,-62 122,-68 116,-68\"/>\n<text text-anchor=\"middle\" x=\"70\" y=\"-52.8\" font-family=\"Helvetica,sans-Serif\" font-size=\"14.00\" fill=\"#000000\">gini = 0.434</text>\n<text text-anchor=\"middle\" x=\"70\" y=\"-37.8\" font-family=\"Helvetica,sans-Serif\" font-size=\"14.00\" fill=\"#000000\">samples = 110</text>\n<text text-anchor=\"middle\" x=\"70\" y=\"-22.8\" font-family=\"Helvetica,sans-Serif\" font-size=\"14.00\" fill=\"#000000\">value = [35, 75]</text>\n<text text-anchor=\"middle\" x=\"70\" y=\"-7.8\" font-family=\"Helvetica,sans-Serif\" font-size=\"14.00\" fill=\"#000000\">class = sim</text>\n</g>\n<!-- 3&#45;&gt;4 -->\n<g id=\"edge4\" class=\"edge\">\n<title>3&#45;&gt;4</title>\n<path fill=\"none\" stroke=\"#000000\" d=\"M161.635,-103.9815C148.9989,-94.3313 135.5644,-84.0714 122.9885,-74.4673\"/>\n<polygon fill=\"#000000\" stroke=\"#000000\" points=\"124.9372,-71.5515 114.8654,-68.2637 120.6886,-77.1148 124.9372,-71.5515\"/>\n</g>\n<!-- 5 -->\n<g id=\"node6\" class=\"node\">\n<title>5</title>\n<path fill=\"#69b5eb\" stroke=\"#000000\" d=\"M274,-68C274,-68 158,-68 158,-68 152,-68 146,-62 146,-56 146,-56 146,-12 146,-12 146,-6 152,0 158,0 158,0 274,0 274,0 280,0 286,-6 286,-12 286,-12 286,-56 286,-56 286,-62 280,-68 274,-68\"/>\n<text text-anchor=\"middle\" x=\"216\" y=\"-52.8\" font-family=\"Helvetica,sans-Serif\" font-size=\"14.00\" fill=\"#000000\">gini = 0.314</text>\n<text text-anchor=\"middle\" x=\"216\" y=\"-37.8\" font-family=\"Helvetica,sans-Serif\" font-size=\"14.00\" fill=\"#000000\">samples = 2302</text>\n<text text-anchor=\"middle\" x=\"216\" y=\"-22.8\" font-family=\"Helvetica,sans-Serif\" font-size=\"14.00\" fill=\"#000000\">value = [449, 1853]</text>\n<text text-anchor=\"middle\" x=\"216\" y=\"-7.8\" font-family=\"Helvetica,sans-Serif\" font-size=\"14.00\" fill=\"#000000\">class = sim</text>\n</g>\n<!-- 3&#45;&gt;5 -->\n<g id=\"edge5\" class=\"edge\">\n<title>3&#45;&gt;5</title>\n<path fill=\"none\" stroke=\"#000000\" d=\"M216,-103.9815C216,-95.618 216,-86.7965 216,-78.3409\"/>\n<polygon fill=\"#000000\" stroke=\"#000000\" points=\"219.5001,-78.2636 216,-68.2637 212.5001,-78.2637 219.5001,-78.2636\"/>\n</g>\n<!-- 7 -->\n<g id=\"node8\" class=\"node\">\n<title>7</title>\n<path fill=\"#fcefe5\" stroke=\"#000000\" d=\"M523.5,-187C523.5,-187 398.5,-187 398.5,-187 392.5,-187 386.5,-181 386.5,-175 386.5,-175 386.5,-116 386.5,-116 386.5,-110 392.5,-104 398.5,-104 398.5,-104 523.5,-104 523.5,-104 529.5,-104 535.5,-110 535.5,-116 535.5,-116 535.5,-175 535.5,-175 535.5,-181 529.5,-187 523.5,-187\"/>\n<text text-anchor=\"middle\" x=\"461\" y=\"-171.8\" font-family=\"Helvetica,sans-Serif\" font-size=\"14.00\" fill=\"#000000\">preco &lt;= 99974.41</text>\n<text text-anchor=\"middle\" x=\"461\" y=\"-156.8\" font-family=\"Helvetica,sans-Serif\" font-size=\"14.00\" fill=\"#000000\">gini = 0.498</text>\n<text text-anchor=\"middle\" x=\"461\" y=\"-141.8\" font-family=\"Helvetica,sans-Serif\" font-size=\"14.00\" fill=\"#000000\">samples = 3513</text>\n<text text-anchor=\"middle\" x=\"461\" y=\"-126.8\" font-family=\"Helvetica,sans-Serif\" font-size=\"14.00\" fill=\"#000000\">value = [1879, 1634]</text>\n<text text-anchor=\"middle\" x=\"461\" y=\"-111.8\" font-family=\"Helvetica,sans-Serif\" font-size=\"14.00\" fill=\"#000000\">class = não</text>\n</g>\n<!-- 6&#45;&gt;7 -->\n<g id=\"edge7\" class=\"edge\">\n<title>6&#45;&gt;7</title>\n<path fill=\"none\" stroke=\"#000000\" d=\"M461,-222.8796C461,-214.6838 461,-205.9891 461,-197.5013\"/>\n<polygon fill=\"#000000\" stroke=\"#000000\" points=\"464.5001,-197.298 461,-187.2981 457.5001,-197.2981 464.5001,-197.298\"/>\n</g>\n<!-- 10 -->\n<g id=\"node11\" class=\"node\">\n<title>10</title>\n<path fill=\"#e9965a\" stroke=\"#000000\" d=\"M753.5,-187C753.5,-187 622.5,-187 622.5,-187 616.5,-187 610.5,-181 610.5,-175 610.5,-175 610.5,-116 610.5,-116 610.5,-110 616.5,-104 622.5,-104 622.5,-104 753.5,-104 753.5,-104 759.5,-104 765.5,-110 765.5,-116 765.5,-116 765.5,-175 765.5,-175 765.5,-181 759.5,-187 753.5,-187\"/>\n<text text-anchor=\"middle\" x=\"688\" y=\"-171.8\" font-family=\"Helvetica,sans-Serif\" font-size=\"14.00\" fill=\"#000000\">preco &lt;= 100076.957</text>\n<text text-anchor=\"middle\" x=\"688\" y=\"-156.8\" font-family=\"Helvetica,sans-Serif\" font-size=\"14.00\" fill=\"#000000\">gini = 0.243</text>\n<text text-anchor=\"middle\" x=\"688\" y=\"-141.8\" font-family=\"Helvetica,sans-Serif\" font-size=\"14.00\" fill=\"#000000\">samples = 2140</text>\n<text text-anchor=\"middle\" x=\"688\" y=\"-126.8\" font-family=\"Helvetica,sans-Serif\" font-size=\"14.00\" fill=\"#000000\">value = [1837, 303]</text>\n<text text-anchor=\"middle\" x=\"688\" y=\"-111.8\" font-family=\"Helvetica,sans-Serif\" font-size=\"14.00\" fill=\"#000000\">class = não</text>\n</g>\n<!-- 6&#45;&gt;10 -->\n<g id=\"edge10\" class=\"edge\">\n<title>6&#45;&gt;10</title>\n<path fill=\"none\" stroke=\"#000000\" d=\"M540.3936,-222.8796C560.0179,-212.592 581.1418,-201.5182 601.1025,-191.0542\"/>\n<polygon fill=\"#000000\" stroke=\"#000000\" points=\"602.9504,-194.0373 610.1822,-186.2944 599.7003,-187.8375 602.9504,-194.0373\"/>\n</g>\n<!-- 8 -->\n<g id=\"node9\" class=\"node\">\n<title>8</title>\n<path fill=\"#f9e0ce\" stroke=\"#000000\" d=\"M441.5,-68C441.5,-68 316.5,-68 316.5,-68 310.5,-68 304.5,-62 304.5,-56 304.5,-56 304.5,-12 304.5,-12 304.5,-6 310.5,0 316.5,0 316.5,0 441.5,0 441.5,0 447.5,0 453.5,-6 453.5,-12 453.5,-12 453.5,-56 453.5,-56 453.5,-62 447.5,-68 441.5,-68\"/>\n<text text-anchor=\"middle\" x=\"379\" y=\"-52.8\" font-family=\"Helvetica,sans-Serif\" font-size=\"14.00\" fill=\"#000000\">gini = 0.49</text>\n<text text-anchor=\"middle\" x=\"379\" y=\"-37.8\" font-family=\"Helvetica,sans-Serif\" font-size=\"14.00\" fill=\"#000000\">samples = 2944</text>\n<text text-anchor=\"middle\" x=\"379\" y=\"-22.8\" font-family=\"Helvetica,sans-Serif\" font-size=\"14.00\" fill=\"#000000\">value = [1682, 1262]</text>\n<text text-anchor=\"middle\" x=\"379\" y=\"-7.8\" font-family=\"Helvetica,sans-Serif\" font-size=\"14.00\" fill=\"#000000\">class = não</text>\n</g>\n<!-- 7&#45;&gt;8 -->\n<g id=\"edge8\" class=\"edge\">\n<title>7&#45;&gt;8</title>\n<path fill=\"none\" stroke=\"#000000\" d=\"M430.4662,-103.9815C423.8424,-94.9747 416.8279,-85.4367 410.1795,-76.3965\"/>\n<polygon fill=\"#000000\" stroke=\"#000000\" points=\"412.9426,-74.2461 404.1984,-68.2637 407.3034,-78.3933 412.9426,-74.2461\"/>\n</g>\n<!-- 9 -->\n<g id=\"node10\" class=\"node\">\n<title>9</title>\n<path fill=\"#a2d1f3\" stroke=\"#000000\" d=\"M592,-68C592,-68 484,-68 484,-68 478,-68 472,-62 472,-56 472,-56 472,-12 472,-12 472,-6 478,0 484,0 484,0 592,0 592,0 598,0 604,-6 604,-12 604,-12 604,-56 604,-56 604,-62 598,-68 592,-68\"/>\n<text text-anchor=\"middle\" x=\"538\" y=\"-52.8\" font-family=\"Helvetica,sans-Serif\" font-size=\"14.00\" fill=\"#000000\">gini = 0.453</text>\n<text text-anchor=\"middle\" x=\"538\" y=\"-37.8\" font-family=\"Helvetica,sans-Serif\" font-size=\"14.00\" fill=\"#000000\">samples = 569</text>\n<text text-anchor=\"middle\" x=\"538\" y=\"-22.8\" font-family=\"Helvetica,sans-Serif\" font-size=\"14.00\" fill=\"#000000\">value = [197, 372]</text>\n<text text-anchor=\"middle\" x=\"538\" y=\"-7.8\" font-family=\"Helvetica,sans-Serif\" font-size=\"14.00\" fill=\"#000000\">class = sim</text>\n</g>\n<!-- 7&#45;&gt;9 -->\n<g id=\"edge9\" class=\"edge\">\n<title>7&#45;&gt;9</title>\n<path fill=\"none\" stroke=\"#000000\" d=\"M489.672,-103.9815C495.8285,-95.0666 502.3443,-85.6313 508.5305,-76.6734\"/>\n<polygon fill=\"#000000\" stroke=\"#000000\" points=\"511.5355,-78.4811 514.3381,-68.2637 505.7755,-74.5034 511.5355,-78.4811\"/>\n</g>\n<!-- 11 -->\n<g id=\"node12\" class=\"node\">\n<title>11</title>\n<path fill=\"#e68742\" stroke=\"#000000\" d=\"M742,-68C742,-68 634,-68 634,-68 628,-68 622,-62 622,-56 622,-56 622,-12 622,-12 622,-6 628,0 634,0 634,0 742,0 742,0 748,0 754,-6 754,-12 754,-12 754,-56 754,-56 754,-62 748,-68 742,-68\"/>\n<text text-anchor=\"middle\" x=\"688\" y=\"-52.8\" font-family=\"Helvetica,sans-Serif\" font-size=\"14.00\" fill=\"#000000\">gini = 0.082</text>\n<text text-anchor=\"middle\" x=\"688\" y=\"-37.8\" font-family=\"Helvetica,sans-Serif\" font-size=\"14.00\" fill=\"#000000\">samples = 1809</text>\n<text text-anchor=\"middle\" x=\"688\" y=\"-22.8\" font-family=\"Helvetica,sans-Serif\" font-size=\"14.00\" fill=\"#000000\">value = [1732, 77]</text>\n<text text-anchor=\"middle\" x=\"688\" y=\"-7.8\" font-family=\"Helvetica,sans-Serif\" font-size=\"14.00\" fill=\"#000000\">class = não</text>\n</g>\n<!-- 10&#45;&gt;11 -->\n<g id=\"edge11\" class=\"edge\">\n<title>10&#45;&gt;11</title>\n<path fill=\"none\" stroke=\"#000000\" d=\"M688,-103.9815C688,-95.618 688,-86.7965 688,-78.3409\"/>\n<polygon fill=\"#000000\" stroke=\"#000000\" points=\"691.5001,-78.2636 688,-68.2637 684.5001,-78.2637 691.5001,-78.2636\"/>\n</g>\n<!-- 12 -->\n<g id=\"node13\" class=\"node\">\n<title>12</title>\n<path fill=\"#95cbf1\" stroke=\"#000000\" d=\"M892,-68C892,-68 784,-68 784,-68 778,-68 772,-62 772,-56 772,-56 772,-12 772,-12 772,-6 778,0 784,0 784,0 892,0 892,0 898,0 904,-6 904,-12 904,-12 904,-56 904,-56 904,-62 898,-68 892,-68\"/>\n<text text-anchor=\"middle\" x=\"838\" y=\"-52.8\" font-family=\"Helvetica,sans-Serif\" font-size=\"14.00\" fill=\"#000000\">gini = 0.433</text>\n<text text-anchor=\"middle\" x=\"838\" y=\"-37.8\" font-family=\"Helvetica,sans-Serif\" font-size=\"14.00\" fill=\"#000000\">samples = 331</text>\n<text text-anchor=\"middle\" x=\"838\" y=\"-22.8\" font-family=\"Helvetica,sans-Serif\" font-size=\"14.00\" fill=\"#000000\">value = [105, 226]</text>\n<text text-anchor=\"middle\" x=\"838\" y=\"-7.8\" font-family=\"Helvetica,sans-Serif\" font-size=\"14.00\" fill=\"#000000\">class = sim</text>\n</g>\n<!-- 10&#45;&gt;12 -->\n<g id=\"edge12\" class=\"edge\">\n<title>10&#45;&gt;12</title>\n<path fill=\"none\" stroke=\"#000000\" d=\"M743.8545,-103.9815C756.8368,-94.3313 770.6394,-84.0714 783.5597,-74.4673\"/>\n<polygon fill=\"#000000\" stroke=\"#000000\" points=\"785.9678,-77.0384 791.9054,-68.2637 781.7917,-71.4204 785.9678,-77.0384\"/>\n</g>\n</g>\n</svg>\n"
          },
          "metadata": {
            "tags": []
          },
          "execution_count": 83
        }
      ]
    },
    {
      "cell_type": "code",
      "metadata": {
        "id": "I8PS4NDTuw7r",
        "colab_type": "code",
        "colab": {}
      },
      "source": [
        ""
      ],
      "execution_count": 0,
      "outputs": []
    }
  ]
}